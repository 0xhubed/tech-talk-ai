{
 "cells": [
  {
   "cell_type": "markdown",
   "id": "60726ca7",
   "metadata": {},
   "source": [
    "# LangGraph Pendulum Agent Walkthrough\n",
    "\n",
    "Replay the pendulum sandbox logic and fetch the reasoning transcript from the site."
   ]
  },
  {
   "cell_type": "markdown",
   "id": "96e4cd16",
   "metadata": {},
   "source": [
    "## 1. Imports"
   ]
  },
  {
   "cell_type": "code",
   "execution_count": 1,
   "id": "aaf2597c",
   "metadata": {},
   "outputs": [],
   "source": [
    "import numpy as np\n",
    "import pandas as pd\n",
    "import plotly.graph_objects as go\n",
    "import plotly.io as pio\n",
    "import requests\n",
    "from math import pi, sqrt\n",
    "\n",
    "pio.renderers.default = 'plotly_mimetype'"
   ]
  },
  {
   "cell_type": "markdown",
   "id": "9ea0b49e",
   "metadata": {},
   "source": [
    "## 2. Simulation Helpers"
   ]
  },
  {
   "cell_type": "code",
   "execution_count": 2,
   "id": "6a79379d",
   "metadata": {},
   "outputs": [],
   "source": [
    "def simulate_trials(lengths, noise_sigma=0.02, gravity=9.81, seed=17):\n",
    "    rng = np.random.default_rng(seed)\n",
    "    rows = []\n",
    "    for length in lengths:\n",
    "        true_period = 2 * pi * sqrt(length / gravity)\n",
    "        noisy = true_period * (1 + rng.uniform(-1, 1) * noise_sigma)\n",
    "        rows.append({'length': length, 'period': noisy})\n",
    "    return pd.DataFrame(rows)\n",
    "\n",
    "def fit_parameters(df):\n",
    "    x = np.log(df['length'])\n",
    "    y = np.log(df['period'])\n",
    "    A = np.vstack([x, np.ones(len(x))]).T\n",
    "    p, intercept = np.linalg.lstsq(A, y, rcond=None)[0]\n",
    "    return np.exp(intercept), p\n"
   ]
  },
  {
   "cell_type": "code",
   "execution_count": 3,
   "id": "9b3125c3",
   "metadata": {},
   "outputs": [
    {
     "data": {
      "text/plain": [
       "(   length    period\n",
       " 0     0.5  1.438083\n",
       " 1     0.8  1.769948\n",
       " 2     1.2  2.202612\n",
       " 3     1.6  2.524106\n",
       " 4     2.1  2.873919,\n",
       " (2.002621988228841, 0.4878576862697391))"
      ]
     },
     "execution_count": 3,
     "metadata": {},
     "output_type": "execute_result"
    }
   ],
   "source": [
    "lengths = [0.5, 0.8, 1.2, 1.6, 2.1]\n",
    "noise_sigma = 0.02\n",
    "trials = simulate_trials(lengths, noise_sigma)\n",
    "k, p = fit_parameters(trials)\n",
    "trials.head(), (k, p)"
   ]
  },
  {
   "cell_type": "markdown",
   "id": "8c169388",
   "metadata": {},
   "source": [
    "## 3. Notebook View"
   ]
  },
  {
   "cell_type": "code",
   "execution_count": 4,
   "id": "24a62ad6",
   "metadata": {},
   "outputs": [
    {
     "data": {
      "text/plain": [
       "[{'role': 'planner',\n",
       "  'text': 'Queue contains 5 trials with broad coverage (σ=0.02).'},\n",
       " {'role': 'observation',\n",
       "  'text': 'Latest @ 2.10 m produced T=2.874s; residual 0.002s.'},\n",
       " {'role': 'analysis',\n",
       "  'text': 'Fit → k=2.003, p=0.488; exponent drift within ±0.01.'},\n",
       " {'role': 'action',\n",
       "  'text': 'Schedule next trial near 2.45 m to widen coverage.'}]"
      ]
     },
     "execution_count": 4,
     "metadata": {},
     "output_type": "execute_result"
    }
   ],
   "source": [
    "def reasoning_steps(trials_df, k, p, noise_sigma):\n",
    "    latest = trials_df.iloc[-1]\n",
    "    coverage = trials_df['length'].max() - trials_df['length'].min()\n",
    "    descriptor = 'broad' if coverage > 1.2 else 'moderate' if coverage > 0.6 else 'narrow'\n",
    "    residual = abs(k * latest['length'] ** p - latest['period'])\n",
    "    next_length = round(trials_df['length'].max() + 0.35, 2)\n",
    "    return [\n",
    "        {'role': 'planner', 'text': f\"Queue contains {len(trials_df)} trials with {descriptor} coverage (σ={noise_sigma:.2f}).\"},\n",
    "        {'role': 'observation', 'text': f\"Latest @ {latest['length']:.2f} m produced T={latest['period']:.3f}s; residual {residual:.3f}s.\"},\n",
    "        {'role': 'analysis', 'text': f\"Fit → k={k:.3f}, p={p:.3f}; exponent drift within ±0.01.\"},\n",
    "        {'role': 'action', 'text': f\"Schedule next trial near {next_length:.2f} m to widen coverage.\"}\n",
    "    ]\n",
    "reasoning_steps(trials, k, p, noise_sigma)"
   ]
  },
  {
   "cell_type": "markdown",
   "id": "e36aa9cc",
   "metadata": {},
   "source": [
    "## 4. Fetch Site Transcript"
   ]
  },
  {
   "cell_type": "markdown",
   "id": "ff61c008",
   "metadata": {},
   "source": [
    "## 5. Plot Loss Surface"
   ]
  },
  {
   "cell_type": "code",
   "execution_count": 5,
   "id": "5bd2db1d",
   "metadata": {},
   "outputs": [
    {
     "data": {
      "application/vnd.plotly.v1+json": {
       "config": {
        "plotlyServerURL": "https://plot.ly"
       },
       "data": [
        {
         "colorbar": {
          "title": {
           "text": "RMSE"
          }
         },
         "colorscale": [
          [
           0,
           "#000004"
          ],
          [
           0.1111111111111111,
           "#180f3d"
          ],
          [
           0.2222222222222222,
           "#440f76"
          ],
          [
           0.3333333333333333,
           "#721f81"
          ],
          [
           0.4444444444444444,
           "#9e2f7f"
          ],
          [
           0.5555555555555556,
           "#cd4071"
          ],
          [
           0.6666666666666666,
           "#f1605d"
          ],
          [
           0.7777777777777778,
           "#fd9668"
          ],
          [
           0.8888888888888888,
           "#feca8d"
          ],
          [
           1,
           "#fcfdbf"
          ]
         ],
         "type": "heatmap",
         "x": {
          "bdata": "mpmZmZmZF0CTXZso2bUXQIwhnbcY0hdAheWeRljuF0B+qaDVlwoYQHdtomTXJhhAcDGk8xZDGEBo9aWCVl8YQGG5pxGWexhAWn2poNWXGEBTQasvFbQYQEwFrb5U0BhARcmuTZTsGEA+jbDc0wgZQDdRsmsTJRlAMBW0+lJBGUAp2bWJkl0ZQCKdtxjSeRlAG2G5pxGWGUAUJbs2UbIZQA3pvMWQzhlABq2+VNDqGUD+cMDjDwcaQPc0wnJPIxpA8PjDAY8/GkDpvMWQzlsaQOKAxx8OeBpA20TJrk2UGkDUCMs9jbAaQM3MzMzMzBpA",
          "dtype": "f8"
         },
         "y": {
          "bdata": "zczMzMzM3D+/VNDqSwXdP7Hc0wjLPd0/o2TXJkp23T+V7NpEya7dP4Z03mJI590/ePzhgMcf3j9qhOWeRljeP1wM6bzFkN4/TpTs2kTJ3j9AHPD4wwHfPzKk8xZDOt8/JCz3NMJy3z8WtPpSQavfPwg8/nDA498//eGAxx8O4D/2pYJWXyrgP+9phOWeRuA/6C2GdN5i4D/g8YcDHn/gP9q1iZJdm+A/0nmLIZ234D/LPY2w3NPgP8QBjz8c8OA/vcWQzlsM4T+2iZJdmyjhP69NlOzaROE/qBGWexph4T+h1ZcKWn3hP5qZmZmZmeE/",
          "dtype": "f8"
         },
         "z": {
          "bdata": "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",
          "dtype": "f8",
          "shape": "30, 30"
         }
        }
       ],
       "layout": {
        "template": {
         "data": {
          "bar": [
           {
            "error_x": {
             "color": "#2a3f5f"
            },
            "error_y": {
             "color": "#2a3f5f"
            },
            "marker": {
             "line": {
              "color": "#E5ECF6",
              "width": 0.5
             },
             "pattern": {
              "fillmode": "overlay",
              "size": 10,
              "solidity": 0.2
             }
            },
            "type": "bar"
           }
          ],
          "barpolar": [
           {
            "marker": {
             "line": {
              "color": "#E5ECF6",
              "width": 0.5
             },
             "pattern": {
              "fillmode": "overlay",
              "size": 10,
              "solidity": 0.2
             }
            },
            "type": "barpolar"
           }
          ],
          "carpet": [
           {
            "aaxis": {
             "endlinecolor": "#2a3f5f",
             "gridcolor": "white",
             "linecolor": "white",
             "minorgridcolor": "white",
             "startlinecolor": "#2a3f5f"
            },
            "baxis": {
             "endlinecolor": "#2a3f5f",
             "gridcolor": "white",
             "linecolor": "white",
             "minorgridcolor": "white",
             "startlinecolor": "#2a3f5f"
            },
            "type": "carpet"
           }
          ],
          "choropleth": [
           {
            "colorbar": {
             "outlinewidth": 0,
             "ticks": ""
            },
            "type": "choropleth"
           }
          ],
          "contour": [
           {
            "colorbar": {
             "outlinewidth": 0,
             "ticks": ""
            },
            "colorscale": [
             [
              0,
              "#0d0887"
             ],
             [
              0.1111111111111111,
              "#46039f"
             ],
             [
              0.2222222222222222,
              "#7201a8"
             ],
             [
              0.3333333333333333,
              "#9c179e"
             ],
             [
              0.4444444444444444,
              "#bd3786"
             ],
             [
              0.5555555555555556,
              "#d8576b"
             ],
             [
              0.6666666666666666,
              "#ed7953"
             ],
             [
              0.7777777777777778,
              "#fb9f3a"
             ],
             [
              0.8888888888888888,
              "#fdca26"
             ],
             [
              1,
              "#f0f921"
             ]
            ],
            "type": "contour"
           }
          ],
          "contourcarpet": [
           {
            "colorbar": {
             "outlinewidth": 0,
             "ticks": ""
            },
            "type": "contourcarpet"
           }
          ],
          "heatmap": [
           {
            "colorbar": {
             "outlinewidth": 0,
             "ticks": ""
            },
            "colorscale": [
             [
              0,
              "#0d0887"
             ],
             [
              0.1111111111111111,
              "#46039f"
             ],
             [
              0.2222222222222222,
              "#7201a8"
             ],
             [
              0.3333333333333333,
              "#9c179e"
             ],
             [
              0.4444444444444444,
              "#bd3786"
             ],
             [
              0.5555555555555556,
              "#d8576b"
             ],
             [
              0.6666666666666666,
              "#ed7953"
             ],
             [
              0.7777777777777778,
              "#fb9f3a"
             ],
             [
              0.8888888888888888,
              "#fdca26"
             ],
             [
              1,
              "#f0f921"
             ]
            ],
            "type": "heatmap"
           }
          ],
          "histogram": [
           {
            "marker": {
             "pattern": {
              "fillmode": "overlay",
              "size": 10,
              "solidity": 0.2
             }
            },
            "type": "histogram"
           }
          ],
          "histogram2d": [
           {
            "colorbar": {
             "outlinewidth": 0,
             "ticks": ""
            },
            "colorscale": [
             [
              0,
              "#0d0887"
             ],
             [
              0.1111111111111111,
              "#46039f"
             ],
             [
              0.2222222222222222,
              "#7201a8"
             ],
             [
              0.3333333333333333,
              "#9c179e"
             ],
             [
              0.4444444444444444,
              "#bd3786"
             ],
             [
              0.5555555555555556,
              "#d8576b"
             ],
             [
              0.6666666666666666,
              "#ed7953"
             ],
             [
              0.7777777777777778,
              "#fb9f3a"
             ],
             [
              0.8888888888888888,
              "#fdca26"
             ],
             [
              1,
              "#f0f921"
             ]
            ],
            "type": "histogram2d"
           }
          ],
          "histogram2dcontour": [
           {
            "colorbar": {
             "outlinewidth": 0,
             "ticks": ""
            },
            "colorscale": [
             [
              0,
              "#0d0887"
             ],
             [
              0.1111111111111111,
              "#46039f"
             ],
             [
              0.2222222222222222,
              "#7201a8"
             ],
             [
              0.3333333333333333,
              "#9c179e"
             ],
             [
              0.4444444444444444,
              "#bd3786"
             ],
             [
              0.5555555555555556,
              "#d8576b"
             ],
             [
              0.6666666666666666,
              "#ed7953"
             ],
             [
              0.7777777777777778,
              "#fb9f3a"
             ],
             [
              0.8888888888888888,
              "#fdca26"
             ],
             [
              1,
              "#f0f921"
             ]
            ],
            "type": "histogram2dcontour"
           }
          ],
          "mesh3d": [
           {
            "colorbar": {
             "outlinewidth": 0,
             "ticks": ""
            },
            "type": "mesh3d"
           }
          ],
          "parcoords": [
           {
            "line": {
             "colorbar": {
              "outlinewidth": 0,
              "ticks": ""
             }
            },
            "type": "parcoords"
           }
          ],
          "pie": [
           {
            "automargin": true,
            "type": "pie"
           }
          ],
          "scatter": [
           {
            "fillpattern": {
             "fillmode": "overlay",
             "size": 10,
             "solidity": 0.2
            },
            "type": "scatter"
           }
          ],
          "scatter3d": [
           {
            "line": {
             "colorbar": {
              "outlinewidth": 0,
              "ticks": ""
             }
            },
            "marker": {
             "colorbar": {
              "outlinewidth": 0,
              "ticks": ""
             }
            },
            "type": "scatter3d"
           }
          ],
          "scattercarpet": [
           {
            "marker": {
             "colorbar": {
              "outlinewidth": 0,
              "ticks": ""
             }
            },
            "type": "scattercarpet"
           }
          ],
          "scattergeo": [
           {
            "marker": {
             "colorbar": {
              "outlinewidth": 0,
              "ticks": ""
             }
            },
            "type": "scattergeo"
           }
          ],
          "scattergl": [
           {
            "marker": {
             "colorbar": {
              "outlinewidth": 0,
              "ticks": ""
             }
            },
            "type": "scattergl"
           }
          ],
          "scattermap": [
           {
            "marker": {
             "colorbar": {
              "outlinewidth": 0,
              "ticks": ""
             }
            },
            "type": "scattermap"
           }
          ],
          "scattermapbox": [
           {
            "marker": {
             "colorbar": {
              "outlinewidth": 0,
              "ticks": ""
             }
            },
            "type": "scattermapbox"
           }
          ],
          "scatterpolar": [
           {
            "marker": {
             "colorbar": {
              "outlinewidth": 0,
              "ticks": ""
             }
            },
            "type": "scatterpolar"
           }
          ],
          "scatterpolargl": [
           {
            "marker": {
             "colorbar": {
              "outlinewidth": 0,
              "ticks": ""
             }
            },
            "type": "scatterpolargl"
           }
          ],
          "scatterternary": [
           {
            "marker": {
             "colorbar": {
              "outlinewidth": 0,
              "ticks": ""
             }
            },
            "type": "scatterternary"
           }
          ],
          "surface": [
           {
            "colorbar": {
             "outlinewidth": 0,
             "ticks": ""
            },
            "colorscale": [
             [
              0,
              "#0d0887"
             ],
             [
              0.1111111111111111,
              "#46039f"
             ],
             [
              0.2222222222222222,
              "#7201a8"
             ],
             [
              0.3333333333333333,
              "#9c179e"
             ],
             [
              0.4444444444444444,
              "#bd3786"
             ],
             [
              0.5555555555555556,
              "#d8576b"
             ],
             [
              0.6666666666666666,
              "#ed7953"
             ],
             [
              0.7777777777777778,
              "#fb9f3a"
             ],
             [
              0.8888888888888888,
              "#fdca26"
             ],
             [
              1,
              "#f0f921"
             ]
            ],
            "type": "surface"
           }
          ],
          "table": [
           {
            "cells": {
             "fill": {
              "color": "#EBF0F8"
             },
             "line": {
              "color": "white"
             }
            },
            "header": {
             "fill": {
              "color": "#C8D4E3"
             },
             "line": {
              "color": "white"
             }
            },
            "type": "table"
           }
          ]
         },
         "layout": {
          "annotationdefaults": {
           "arrowcolor": "#2a3f5f",
           "arrowhead": 0,
           "arrowwidth": 1
          },
          "autotypenumbers": "strict",
          "coloraxis": {
           "colorbar": {
            "outlinewidth": 0,
            "ticks": ""
           }
          },
          "colorscale": {
           "diverging": [
            [
             0,
             "#8e0152"
            ],
            [
             0.1,
             "#c51b7d"
            ],
            [
             0.2,
             "#de77ae"
            ],
            [
             0.3,
             "#f1b6da"
            ],
            [
             0.4,
             "#fde0ef"
            ],
            [
             0.5,
             "#f7f7f7"
            ],
            [
             0.6,
             "#e6f5d0"
            ],
            [
             0.7,
             "#b8e186"
            ],
            [
             0.8,
             "#7fbc41"
            ],
            [
             0.9,
             "#4d9221"
            ],
            [
             1,
             "#276419"
            ]
           ],
           "sequential": [
            [
             0,
             "#0d0887"
            ],
            [
             0.1111111111111111,
             "#46039f"
            ],
            [
             0.2222222222222222,
             "#7201a8"
            ],
            [
             0.3333333333333333,
             "#9c179e"
            ],
            [
             0.4444444444444444,
             "#bd3786"
            ],
            [
             0.5555555555555556,
             "#d8576b"
            ],
            [
             0.6666666666666666,
             "#ed7953"
            ],
            [
             0.7777777777777778,
             "#fb9f3a"
            ],
            [
             0.8888888888888888,
             "#fdca26"
            ],
            [
             1,
             "#f0f921"
            ]
           ],
           "sequentialminus": [
            [
             0,
             "#0d0887"
            ],
            [
             0.1111111111111111,
             "#46039f"
            ],
            [
             0.2222222222222222,
             "#7201a8"
            ],
            [
             0.3333333333333333,
             "#9c179e"
            ],
            [
             0.4444444444444444,
             "#bd3786"
            ],
            [
             0.5555555555555556,
             "#d8576b"
            ],
            [
             0.6666666666666666,
             "#ed7953"
            ],
            [
             0.7777777777777778,
             "#fb9f3a"
            ],
            [
             0.8888888888888888,
             "#fdca26"
            ],
            [
             1,
             "#f0f921"
            ]
           ]
          },
          "colorway": [
           "#636efa",
           "#EF553B",
           "#00cc96",
           "#ab63fa",
           "#FFA15A",
           "#19d3f3",
           "#FF6692",
           "#B6E880",
           "#FF97FF",
           "#FECB52"
          ],
          "font": {
           "color": "#2a3f5f"
          },
          "geo": {
           "bgcolor": "white",
           "lakecolor": "white",
           "landcolor": "#E5ECF6",
           "showlakes": true,
           "showland": true,
           "subunitcolor": "white"
          },
          "hoverlabel": {
           "align": "left"
          },
          "hovermode": "closest",
          "mapbox": {
           "style": "light"
          },
          "paper_bgcolor": "white",
          "plot_bgcolor": "#E5ECF6",
          "polar": {
           "angularaxis": {
            "gridcolor": "white",
            "linecolor": "white",
            "ticks": ""
           },
           "bgcolor": "#E5ECF6",
           "radialaxis": {
            "gridcolor": "white",
            "linecolor": "white",
            "ticks": ""
           }
          },
          "scene": {
           "xaxis": {
            "backgroundcolor": "#E5ECF6",
            "gridcolor": "white",
            "gridwidth": 2,
            "linecolor": "white",
            "showbackground": true,
            "ticks": "",
            "zerolinecolor": "white"
           },
           "yaxis": {
            "backgroundcolor": "#E5ECF6",
            "gridcolor": "white",
            "gridwidth": 2,
            "linecolor": "white",
            "showbackground": true,
            "ticks": "",
            "zerolinecolor": "white"
           },
           "zaxis": {
            "backgroundcolor": "#E5ECF6",
            "gridcolor": "white",
            "gridwidth": 2,
            "linecolor": "white",
            "showbackground": true,
            "ticks": "",
            "zerolinecolor": "white"
           }
          },
          "shapedefaults": {
           "line": {
            "color": "#2a3f5f"
           }
          },
          "ternary": {
           "aaxis": {
            "gridcolor": "white",
            "linecolor": "white",
            "ticks": ""
           },
           "baxis": {
            "gridcolor": "white",
            "linecolor": "white",
            "ticks": ""
           },
           "bgcolor": "#E5ECF6",
           "caxis": {
            "gridcolor": "white",
            "linecolor": "white",
            "ticks": ""
           }
          },
          "title": {
           "x": 0.05
          },
          "xaxis": {
           "automargin": true,
           "gridcolor": "white",
           "linecolor": "white",
           "ticks": "",
           "title": {
            "standoff": 15
           },
           "zerolinecolor": "white",
           "zerolinewidth": 2
          },
          "yaxis": {
           "automargin": true,
           "gridcolor": "white",
           "linecolor": "white",
           "ticks": "",
           "title": {
            "standoff": 15
           },
           "zerolinecolor": "white",
           "zerolinewidth": 2
          }
         }
        }
       }
      }
     },
     "metadata": {},
     "output_type": "display_data"
    }
   ],
   "source": [
    "ks = np.linspace(5.9, 6.7, 30)\n",
    "ps = np.linspace(0.45, 0.55, 30)\n",
    "zz = np.zeros((len(ps), len(ks)))\n",
    "for i, k_ in enumerate(ks):\n",
    "    for j, p_ in enumerate(ps):\n",
    "        preds = k_ * trials['length'].values ** p_\n",
    "        zz[j, i] = np.sqrt(np.mean((preds - trials['period'].values) ** 2))\n",
    "go.Figure(data=go.Heatmap(x=ks, y=ps, z=zz, colorscale='Magma', colorbar=dict(title='RMSE'))).show()"
   ]
  }
 ],
 "metadata": {
  "kernelspec": {
   "display_name": "Python 3",
   "language": "python",
   "name": "python3"
  },
  "language_info": {
   "codemirror_mode": {
    "name": "ipython",
    "version": 3
   },
   "file_extension": ".py",
   "mimetype": "text/x-python",
   "name": "python",
   "nbconvert_exporter": "python",
   "pygments_lexer": "ipython3",
   "version": "3.8.10"
  }
 },
 "nbformat": 4,
 "nbformat_minor": 5
}
