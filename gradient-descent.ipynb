{
 "cells": [
  {
   "cell_type": "markdown",
   "id": "c52c073e",
   "metadata": {},
   "source": [
    "# Gradient Descent on a Quadratic Bowl\n",
    "\n",
    "Static walkthrough of the surface used on the presentation site."
   ]
  },
  {
   "cell_type": "code",
   "execution_count": null,
   "id": "ffd04a54",
   "metadata": {},
   "outputs": [],
   "source": [
    "import numpy as np\n",
    "import plotly.graph_objects as go\n",
    "from math import sqrt\n",
    "\n",
    "import plotly.io as pio\n",
    "pio.renderers.default = 'plotly_mimetype'"
   ]
  },
  {
   "cell_type": "code",
   "execution_count": null,
   "id": "14644b37",
   "metadata": {},
   "outputs": [],
   "source": [
    "def surface_value(x, y):\n",
    "    return x**2 + 0.5 * y**2\n",
    "\n",
    "def gradient(x, y):\n",
    "    return 2 * x, y\n",
    "\n",
    "def gradient_descent_path(lr, steps, x0=-1.6, y0=1.2):\n",
    "    points = []\n",
    "    x, y = x0, y0\n",
    "    for step in range(steps + 1):\n",
    "        points.append((x, y, surface_value(x, y)))\n",
    "        gx, gy = gradient(x, y)\n",
    "        x -= lr * gx\n",
    "        y -= lr * gy\n",
    "    return np.array(points)"
   ]
  },
  {
   "cell_type": "code",
   "execution_count": null,
   "id": "9038e125",
   "metadata": {},
   "outputs": [],
   "source": [
    "xs = np.linspace(-2.5, 2.5, 60)\n",
    "ys = np.linspace(-2.5, 2.5, 60)\n",
    "xx, yy = np.meshgrid(xs, ys)\n",
    "zz = surface_value(xx, yy)\n",
    "path = gradient_descent_path(0.18, 14)\n",
    "fig = go.Figure()\n",
    "fig.add_surface(x=xx, y=yy, z=zz, colorscale='Plotly3', opacity=0.85, showscale=False)\n",
    "fig.add_scatter3d(x=path[:,0], y=path[:,1], z=path[:,2], mode='lines+markers', name='Path', line=dict(color='#ffc857', width=6), marker=dict(size=4))\n",
    "fig.update_layout(scene=dict(xaxis_title='x', yaxis_title='y', zaxis_title='f(x, y)', camera=dict(eye=dict(x=1.7, y=1.3, z=1.25))), margin=dict(l=0, r=0, t=0, b=0))\n",
    "fig"
   ]
  }
 ],
 "metadata": {
  "kernelspec": {
   "display_name": "Python 3",
   "language": "python",
   "name": "python3"
  },
  "language_info": {
   "name": "python",
   "version": "3.8"
  }
 },
 "nbformat": 4,
 "nbformat_minor": 5
}