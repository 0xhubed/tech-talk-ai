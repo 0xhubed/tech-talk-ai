{
 "cells": [
  {
   "cell_type": "markdown",
   "id": "4caeae44",
   "metadata": {
    "pycharm": {
     "name": "#%% md\n"
    }
   },
   "source": [
    "# Cost Function \n",
    "<figure>\n",
    "    <center> <img src=\"./images/C1_W1_L3_S2_Lecture_b.png\"  style=\"width:1000px;height:200px;\" ></center>\n",
    "</figure>\n",
    "\n"
   ]
  },
  {
   "cell_type": "markdown",
   "id": "2f8ca336",
   "metadata": {
    "pycharm": {
     "name": "#%% md\n"
    }
   },
   "source": [
    "## Goals\n",
    "we will implement and explore the `cost` function for linear regression with one variable. \n"
   ]
  },
  {
   "cell_type": "markdown",
   "id": "467858eb",
   "metadata": {
    "pycharm": {
     "name": "#%% md\n"
    }
   },
   "source": [
    "## Tools\n",
    "In this lab we will make use of: \n",
    "- NumPy, a popular library for scientific computing\n",
    "- Matplotlib, a popular library for plotting data\n",
    "- local plotting routines in the lab_utils_uni.py file in the local directory"
   ]
  },
  {
   "cell_type": "code",
   "execution_count": null,
   "id": "60c156c3-8564-4521-bae1-c8b76f3e8d58",
   "metadata": {},
   "outputs": [],
   "source": []
  },
  {
   "cell_type": "code",
   "execution_count": 1,
   "id": "cb72801b",
   "metadata": {
    "pycharm": {
     "name": "#%%\n"
    }
   },
   "outputs": [],
   "source": [
    "import numpy as np\n",
    "#%matplotlib widget\n",
    "import matplotlib.pyplot as plt\n",
    "from lab_utils_uni import plt_intuition, soup_bowl, plotly_stationary, plotly_soup_bowl, plotly_plt_intuition,plotly_stationary_interactive, plotly_stationary_with_click\n",
    "plt.style.use('./leonteq.mplstyle')"
   ]
  },
  {
   "cell_type": "markdown",
   "id": "0fa97ec5",
   "metadata": {
    "pycharm": {
     "name": "#%% md\n"
    }
   },
   "source": [
    "## Problem Statement\n",
    "\n",
    "You would like a model which can predict housing prices given the size of the house.  \n",
    "Let's use the same two data points as before the previous lab- a house with 100 m2 sold for CHF 300,000 and a house with 200 m2 sold for CHF 500,000.\n",
    "\n",
    "\n",
    "| Size (1000 sqft)     | Price (1000s of dollars) |\n",
    "| -------------------| ------------------------ |\n",
    "| 1                 | 300                      |\n",
    "| 2                  | 500                      |\n"
   ]
  },
  {
   "cell_type": "code",
   "execution_count": 2,
   "id": "a22f6eea",
   "metadata": {
    "pycharm": {
     "name": "#%%\n"
    }
   },
   "outputs": [],
   "source": [
    "x_train = np.array([1.0, 2.0])           #(size in 100 m2)\n",
    "y_train = np.array([300.0, 500.0])           #(price in 1000s of CHF)"
   ]
  },
  {
   "cell_type": "markdown",
   "id": "c35e42c8",
   "metadata": {
    "pycharm": {
     "name": "#%% md\n"
    }
   },
   "source": [
    "## Computing Cost\n",
    "The term 'cost' in this assignment might be a little confusing since the data is housing cost. Here, cost is a measure how well our model is predicting the target price of the house. The term 'price' is used for housing data.\n",
    "\n",
    "The equation for cost with one variable is:\n",
    "  $$J(w,b) = \\frac{1}{2m} \\sum\\limits_{i = 0}^{m-1} (f_{w,b}(x^{(i)}) - y^{(i)})^2 \\tag{1}$$ \n",
    " \n",
    "where \n",
    "  $$f_{w,b}(x^{(i)}) = wx^{(i)} + b \\tag{2}$$\n",
    "  \n",
    "- $f_{w,b}(x^{(i)})$ is our prediction for example $i$ using parameters $w,b$.  \n",
    "- $(f_{w,b}(x^{(i)}) -y^{(i)})^2$ is the squared difference between the target value and the prediction.   \n",
    "- These differences are summed over all the $m$ examples and divided by `2m` to produce the cost, $J(w,b)$.  \n",
    ">Note, in lecture summation ranges are typically from 1 to m, while code will be from 0 to m-1.\n"
   ]
  },
  {
   "cell_type": "markdown",
   "id": "fbe4471d",
   "metadata": {
    "pycharm": {
     "name": "#%% md\n"
    }
   },
   "source": [
    "The code below calculates cost by looping over each example. In each loop:\n",
    "- `f_wb`, a prediction is calculated\n",
    "- the difference between the target and the prediction is calculated and squared.\n",
    "- this is added to the total cost."
   ]
  },
  {
   "cell_type": "code",
   "execution_count": 3,
   "id": "990d2150",
   "metadata": {
    "pycharm": {
     "name": "#%%\n"
    }
   },
   "outputs": [],
   "source": [
    "def compute_cost(x, y, w, b): \n",
    "    \"\"\"\n",
    "    Computes the cost function for linear regression.\n",
    "    \n",
    "    Args:\n",
    "      x (ndarray (m,)): Data, m examples \n",
    "      y (ndarray (m,)): target values\n",
    "      w,b (scalar)    : model parameters  \n",
    "    \n",
    "    Returns\n",
    "        total_cost (float): The cost of using w,b as the parameters for linear regression\n",
    "               to fit the data points in x and y\n",
    "    \"\"\"\n",
    "    # number of training examples\n",
    "    m = x.shape[0] \n",
    "    \n",
    "    cost_sum = 0 \n",
    "    for i in range(m): \n",
    "        f_wb = w * x[i] + b   \n",
    "        cost = (f_wb - y[i]) ** 2  \n",
    "        cost_sum = cost_sum + cost  \n",
    "    total_cost = (1 / (2 * m)) * cost_sum  \n",
    "\n",
    "    return total_cost"
   ]
  },
  {
   "cell_type": "markdown",
   "id": "07d9282a",
   "metadata": {
    "pycharm": {
     "name": "#%% md\n"
    }
   },
   "source": [
    "## Cost Function Intuition"
   ]
  },
  {
   "cell_type": "markdown",
   "id": "9acae177",
   "metadata": {
    "pycharm": {
     "name": "#%% md\n"
    }
   },
   "source": [
    "<img align=\"left\" src=\"./images/C1_W1_Lab02_GoalOfRegression.PNG\"    style=\" width:380px; padding: 10px;  \" /> Your goal is to find a model $f_{w,b}(x) = wx + b$, with parameters $w,b$,  which will accurately predict house values given an input $x$. The cost is a measure of how accurate the model is on the training data.\n",
    "\n",
    "The cost equation (1) above shows that if $w$ and $b$ can be selected such that the predictions $f_{w,b}(x)$ match the target data $y$, the $(f_{w,b}(x^{(i)}) - y^{(i)})^2 $ term will be zero and the cost minimized. In this simple two point example, you can achieve this!\n",
    "\n",
    "In the previous lab, you determined that $b=100$ provided an optimal solution so let's set $b$ to 100 and focus on $w$.\n",
    "\n",
    "<br/>\n",
    "Below, use the slider control to select the value of $w$ that minimizes cost. It can take a few seconds for the plot to update."
   ]
  },
  {
   "cell_type": "code",
   "execution_count": 4,
   "id": "7ab5b88f",
   "metadata": {
    "pycharm": {
     "name": "#%%\n"
    }
   },
   "outputs": [
    {
     "data": {
      "application/vnd.plotly.v1+json": {
       "config": {
        "plotlyServerURL": "https://plot.ly"
       },
       "data": [
        {
         "marker": {
          "color": "red",
          "size": 10,
          "symbol": "x"
         },
         "mode": "markers",
         "name": "Actual Value",
         "type": "scatter",
         "x": {
          "bdata": "AAAAAAAA8D8AAAAAAAAAQA==",
          "dtype": "f8"
         },
         "xaxis": "x",
         "y": {
          "bdata": "AAAAAADAckAAAAAAAEB/QA==",
          "dtype": "f8"
         },
         "yaxis": "y"
        },
        {
         "line": {
          "color": "blue",
          "width": 2
         },
         "mode": "lines",
         "name": "Our Prediction",
         "type": "scatter",
         "x": {
          "bdata": "AAAAAAAA8D8AAAAAAAAAQA==",
          "dtype": "f8"
         },
         "xaxis": "x",
         "y": {
          "bdata": "AAAAAABAb0AAAAAAAAB5QA==",
          "dtype": "f8"
         },
         "yaxis": "y"
        },
        {
         "line": {
          "color": "purple",
          "dash": "dot",
          "width": 2
         },
         "mode": "lines",
         "name": "Cost Lines",
         "showlegend": false,
         "type": "scatter",
         "x": [
          1,
          1,
          null,
          2,
          2,
          null
         ],
         "xaxis": "x",
         "y": [
          300,
          250,
          null,
          500,
          400,
          null
         ],
         "yaxis": "y"
        },
        {
         "line": {
          "color": "blue",
          "width": 2
         },
         "mode": "lines",
         "name": "Cost vs w",
         "type": "scatter",
         "x": {
          "bdata": "AAAFAAoADwAUABkAHgAjACgALQAyADcAPABBAEYASwBQAFUAWgBfAGQAaQBuAHMAeAB9AIIAhwCMAJEAlgCbAKAApQCqAK8AtAC5AL4AwwDIAM0A0gDXANwA4QDmAOsA8AD1APoA/wAEAQkBDgETARgBHQEiAScBLAExATYBOwFAAUUBSgFPAVQBWQFeAWMBaAFtAXIBdwF8AYEBhgGLAQ==",
          "dtype": "i2"
         },
         "xaxis": "x2",
         "y": {
          "bdata": "UMMAAKu5AABFsAAAHacAADSeAACJlQAAHY0AAO+EAAAAfQAAT3UAAN1tAACpZgAAtF8AAP1YAACFUgAAS0wAAFBGAACTQAAAFTsAANU1AADUMAAAESwAAI0nAABHIwAAQB8AAHcbAADtFwAAoRQAAJQRAADFDgAANQwAAOMJAADQBwAA+wUAAGUEAAANAwAA9AEAABkBAAB9AAAAHwAAAAAAAAAfAAAAfQAAABkBAAD0AQAADQMAAGUEAAD7BQAA0AcAAOMJAAA1DAAAxQ4AAJQRAAChFAAA7RcAAHcbAABAHwAARyMAAI0nAAARLAAA1DAAANU1AAAVOwAAk0AAAFBGAABLTAAAhVIAAP1YAAC0XwAAqWYAAN1tAABPdQAAAH0AAO+EAAAdjQAAiZUAADSeAAAdpwAARbAAAKu5AAA=",
          "dtype": "i4"
         },
         "yaxis": "y2"
        },
        {
         "marker": {
          "color": "darkred",
          "size": 12
         },
         "mode": "markers",
         "name": "cost at w=150",
         "type": "scatter",
         "x": [
          150
         ],
         "xaxis": "x2",
         "y": [
          3125
         ],
         "yaxis": "y2"
        },
        {
         "line": {
          "color": "purple",
          "dash": "dot",
          "width": 3
         },
         "mode": "lines",
         "showlegend": false,
         "type": "scatter",
         "x": [
          150,
          150
         ],
         "xaxis": "x2",
         "y": [
          0,
          3125
         ],
         "yaxis": "y2"
        },
        {
         "line": {
          "color": "purple",
          "dash": "dot",
          "width": 3
         },
         "mode": "lines",
         "showlegend": false,
         "type": "scatter",
         "x": [
          0,
          150
         ],
         "xaxis": "x2",
         "y": [
          3125,
          3125
         ],
         "yaxis": "y2"
        }
       ],
       "frames": [
        {
         "data": [
          {
           "marker": {
            "color": "red",
            "size": 10,
            "symbol": "x"
           },
           "mode": "markers",
           "name": "Actual Value",
           "type": "scatter",
           "x": {
            "bdata": "AAAAAAAA8D8AAAAAAAAAQA==",
            "dtype": "f8"
           },
           "y": {
            "bdata": "AAAAAADAckAAAAAAAEB/QA==",
            "dtype": "f8"
           }
          },
          {
           "line": {
            "color": "blue",
            "width": 2
           },
           "mode": "lines",
           "name": "Our Prediction",
           "type": "scatter",
           "x": {
            "bdata": "AAAAAAAA8D8AAAAAAAAAQA==",
            "dtype": "f8"
           },
           "y": {
            "bdata": "AAAAAAAAWUAAAAAAAABZQA==",
            "dtype": "f8"
           }
          },
          {
           "line": {
            "color": "purple",
            "dash": "dot",
            "width": 2
           },
           "mode": "lines",
           "name": "Cost Lines",
           "showlegend": false,
           "type": "scatter",
           "x": [
            1,
            1,
            null,
            2,
            2,
            null
           ],
           "y": [
            300,
            100,
            null,
            500,
            100,
            null
           ]
          },
          {
           "line": {
            "color": "blue",
            "width": 2
           },
           "mode": "lines",
           "name": "Cost vs w",
           "showlegend": false,
           "type": "scatter",
           "x": {
            "bdata": "AAAFAAoADwAUABkAHgAjACgALQAyADcAPABBAEYASwBQAFUAWgBfAGQAaQBuAHMAeAB9AIIAhwCMAJEAlgCbAKAApQCqAK8AtAC5AL4AwwDIAM0A0gDXANwA4QDmAOsA8AD1APoA/wAEAQkBDgETARgBHQEiAScBLAExATYBOwFAAUUBSgFPAVQBWQFeAWMBaAFtAXIBdwF8AYEBhgGLAQ==",
            "dtype": "i2"
           },
           "y": {
            "bdata": "UMMAAKu5AABFsAAAHacAADSeAACJlQAAHY0AAO+EAAAAfQAAT3UAAN1tAACpZgAAtF8AAP1YAACFUgAAS0wAAFBGAACTQAAAFTsAANU1AADUMAAAESwAAI0nAABHIwAAQB8AAHcbAADtFwAAoRQAAJQRAADFDgAANQwAAOMJAADQBwAA+wUAAGUEAAANAwAA9AEAABkBAAB9AAAAHwAAAAAAAAAfAAAAfQAAABkBAAD0AQAADQMAAGUEAAD7BQAA0AcAAOMJAAA1DAAAxQ4AAJQRAAChFAAA7RcAAHcbAABAHwAARyMAAI0nAAARLAAA1DAAANU1AAAVOwAAk0AAAFBGAABLTAAAhVIAAP1YAAC0XwAAqWYAAN1tAABPdQAAAH0AAO+EAAAdjQAAiZUAADSeAAAdpwAARbAAAKu5AAA=",
            "dtype": "i4"
           }
          },
          {
           "marker": {
            "color": "darkred",
            "size": 12
           },
           "mode": "markers",
           "name": "cost at w=0",
           "showlegend": false,
           "type": "scatter",
           "x": [
            0
           ],
           "y": [
            50000
           ]
          },
          {
           "line": {
            "color": "purple",
            "dash": "dot",
            "width": 3
           },
           "mode": "lines",
           "showlegend": false,
           "type": "scatter",
           "x": [
            0,
            0
           ],
           "y": [
            0,
            50000
           ]
          },
          {
           "line": {
            "color": "purple",
            "dash": "dot",
            "width": 3
           },
           "mode": "lines",
           "showlegend": false,
           "type": "scatter",
           "x": [
            0,
            0
           ],
           "y": [
            50000,
            50000
           ]
          }
         ],
         "layout": {
          "annotations": [
           {
            "font": {
             "color": "purple",
             "size": 10
            },
            "showarrow": false,
            "text": "20000",
            "x": 1,
            "xref": "x",
            "xshift": 10,
            "y": 200,
            "yref": "y"
           },
           {
            "font": {
             "color": "purple",
             "size": 10
            },
            "showarrow": false,
            "text": "80000",
            "x": 2,
            "xref": "x",
            "xshift": 10,
            "y": 300,
            "yref": "y"
           },
           {
            "font": {
             "color": "black",
             "size": 14
            },
            "showarrow": false,
            "text": "Minimize Cost: Current Cost = 50000",
            "x": 0.5,
            "xanchor": "center",
            "xref": "paper",
            "y": 1.15,
            "yref": "paper"
           }
          ]
         },
         "name": "0"
        },
        {
         "data": [
          {
           "marker": {
            "color": "red",
            "size": 10,
            "symbol": "x"
           },
           "mode": "markers",
           "name": "Actual Value",
           "type": "scatter",
           "x": {
            "bdata": "AAAAAAAA8D8AAAAAAAAAQA==",
            "dtype": "f8"
           },
           "y": {
            "bdata": "AAAAAADAckAAAAAAAEB/QA==",
            "dtype": "f8"
           }
          },
          {
           "line": {
            "color": "blue",
            "width": 2
           },
           "mode": "lines",
           "name": "Our Prediction",
           "type": "scatter",
           "x": {
            "bdata": "AAAAAAAA8D8AAAAAAAAAQA==",
            "dtype": "f8"
           },
           "y": {
            "bdata": "AAAAAACAW0AAAAAAAABeQA==",
            "dtype": "f8"
           }
          },
          {
           "line": {
            "color": "purple",
            "dash": "dot",
            "width": 2
           },
           "mode": "lines",
           "name": "Cost Lines",
           "showlegend": false,
           "type": "scatter",
           "x": [
            1,
            1,
            null,
            2,
            2,
            null
           ],
           "y": [
            300,
            110,
            null,
            500,
            120,
            null
           ]
          },
          {
           "line": {
            "color": "blue",
            "width": 2
           },
           "mode": "lines",
           "name": "Cost vs w",
           "showlegend": false,
           "type": "scatter",
           "x": {
            "bdata": "AAAFAAoADwAUABkAHgAjACgALQAyADcAPABBAEYASwBQAFUAWgBfAGQAaQBuAHMAeAB9AIIAhwCMAJEAlgCbAKAApQCqAK8AtAC5AL4AwwDIAM0A0gDXANwA4QDmAOsA8AD1APoA/wAEAQkBDgETARgBHQEiAScBLAExATYBOwFAAUUBSgFPAVQBWQFeAWMBaAFtAXIBdwF8AYEBhgGLAQ==",
            "dtype": "i2"
           },
           "y": {
            "bdata": "UMMAAKu5AABFsAAAHacAADSeAACJlQAAHY0AAO+EAAAAfQAAT3UAAN1tAACpZgAAtF8AAP1YAACFUgAAS0wAAFBGAACTQAAAFTsAANU1AADUMAAAESwAAI0nAABHIwAAQB8AAHcbAADtFwAAoRQAAJQRAADFDgAANQwAAOMJAADQBwAA+wUAAGUEAAANAwAA9AEAABkBAAB9AAAAHwAAAAAAAAAfAAAAfQAAABkBAAD0AQAADQMAAGUEAAD7BQAA0AcAAOMJAAA1DAAAxQ4AAJQRAAChFAAA7RcAAHcbAABAHwAARyMAAI0nAAARLAAA1DAAANU1AAAVOwAAk0AAAFBGAABLTAAAhVIAAP1YAAC0XwAAqWYAAN1tAABPdQAAAH0AAO+EAAAdjQAAiZUAADSeAAAdpwAARbAAAKu5AAA=",
            "dtype": "i4"
           }
          },
          {
           "marker": {
            "color": "darkred",
            "size": 12
           },
           "mode": "markers",
           "name": "cost at w=10",
           "showlegend": false,
           "type": "scatter",
           "x": [
            10
           ],
           "y": [
            45125
           ]
          },
          {
           "line": {
            "color": "purple",
            "dash": "dot",
            "width": 3
           },
           "mode": "lines",
           "showlegend": false,
           "type": "scatter",
           "x": [
            10,
            10
           ],
           "y": [
            0,
            45125
           ]
          },
          {
           "line": {
            "color": "purple",
            "dash": "dot",
            "width": 3
           },
           "mode": "lines",
           "showlegend": false,
           "type": "scatter",
           "x": [
            0,
            10
           ],
           "y": [
            45125,
            45125
           ]
          }
         ],
         "layout": {
          "annotations": [
           {
            "font": {
             "color": "purple",
             "size": 10
            },
            "showarrow": false,
            "text": "18050",
            "x": 1,
            "xref": "x",
            "xshift": 10,
            "y": 205,
            "yref": "y"
           },
           {
            "font": {
             "color": "purple",
             "size": 10
            },
            "showarrow": false,
            "text": "72200",
            "x": 2,
            "xref": "x",
            "xshift": 10,
            "y": 310,
            "yref": "y"
           },
           {
            "font": {
             "color": "black",
             "size": 14
            },
            "showarrow": false,
            "text": "Minimize Cost: Current Cost = 45125",
            "x": 0.5,
            "xanchor": "center",
            "xref": "paper",
            "y": 1.15,
            "yref": "paper"
           }
          ]
         },
         "name": "10"
        },
        {
         "data": [
          {
           "marker": {
            "color": "red",
            "size": 10,
            "symbol": "x"
           },
           "mode": "markers",
           "name": "Actual Value",
           "type": "scatter",
           "x": {
            "bdata": "AAAAAAAA8D8AAAAAAAAAQA==",
            "dtype": "f8"
           },
           "y": {
            "bdata": "AAAAAADAckAAAAAAAEB/QA==",
            "dtype": "f8"
           }
          },
          {
           "line": {
            "color": "blue",
            "width": 2
           },
           "mode": "lines",
           "name": "Our Prediction",
           "type": "scatter",
           "x": {
            "bdata": "AAAAAAAA8D8AAAAAAAAAQA==",
            "dtype": "f8"
           },
           "y": {
            "bdata": "AAAAAAAAXkAAAAAAAIBhQA==",
            "dtype": "f8"
           }
          },
          {
           "line": {
            "color": "purple",
            "dash": "dot",
            "width": 2
           },
           "mode": "lines",
           "name": "Cost Lines",
           "showlegend": false,
           "type": "scatter",
           "x": [
            1,
            1,
            null,
            2,
            2,
            null
           ],
           "y": [
            300,
            120,
            null,
            500,
            140,
            null
           ]
          },
          {
           "line": {
            "color": "blue",
            "width": 2
           },
           "mode": "lines",
           "name": "Cost vs w",
           "showlegend": false,
           "type": "scatter",
           "x": {
            "bdata": "AAAFAAoADwAUABkAHgAjACgALQAyADcAPABBAEYASwBQAFUAWgBfAGQAaQBuAHMAeAB9AIIAhwCMAJEAlgCbAKAApQCqAK8AtAC5AL4AwwDIAM0A0gDXANwA4QDmAOsA8AD1APoA/wAEAQkBDgETARgBHQEiAScBLAExATYBOwFAAUUBSgFPAVQBWQFeAWMBaAFtAXIBdwF8AYEBhgGLAQ==",
            "dtype": "i2"
           },
           "y": {
            "bdata": "UMMAAKu5AABFsAAAHacAADSeAACJlQAAHY0AAO+EAAAAfQAAT3UAAN1tAACpZgAAtF8AAP1YAACFUgAAS0wAAFBGAACTQAAAFTsAANU1AADUMAAAESwAAI0nAABHIwAAQB8AAHcbAADtFwAAoRQAAJQRAADFDgAANQwAAOMJAADQBwAA+wUAAGUEAAANAwAA9AEAABkBAAB9AAAAHwAAAAAAAAAfAAAAfQAAABkBAAD0AQAADQMAAGUEAAD7BQAA0AcAAOMJAAA1DAAAxQ4AAJQRAAChFAAA7RcAAHcbAABAHwAARyMAAI0nAAARLAAA1DAAANU1AAAVOwAAk0AAAFBGAABLTAAAhVIAAP1YAAC0XwAAqWYAAN1tAABPdQAAAH0AAO+EAAAdjQAAiZUAADSeAAAdpwAARbAAAKu5AAA=",
            "dtype": "i4"
           }
          },
          {
           "marker": {
            "color": "darkred",
            "size": 12
           },
           "mode": "markers",
           "name": "cost at w=20",
           "showlegend": false,
           "type": "scatter",
           "x": [
            20
           ],
           "y": [
            40500
           ]
          },
          {
           "line": {
            "color": "purple",
            "dash": "dot",
            "width": 3
           },
           "mode": "lines",
           "showlegend": false,
           "type": "scatter",
           "x": [
            20,
            20
           ],
           "y": [
            0,
            40500
           ]
          },
          {
           "line": {
            "color": "purple",
            "dash": "dot",
            "width": 3
           },
           "mode": "lines",
           "showlegend": false,
           "type": "scatter",
           "x": [
            0,
            20
           ],
           "y": [
            40500,
            40500
           ]
          }
         ],
         "layout": {
          "annotations": [
           {
            "font": {
             "color": "purple",
             "size": 10
            },
            "showarrow": false,
            "text": "16200",
            "x": 1,
            "xref": "x",
            "xshift": 10,
            "y": 210,
            "yref": "y"
           },
           {
            "font": {
             "color": "purple",
             "size": 10
            },
            "showarrow": false,
            "text": "64800",
            "x": 2,
            "xref": "x",
            "xshift": 10,
            "y": 320,
            "yref": "y"
           },
           {
            "font": {
             "color": "black",
             "size": 14
            },
            "showarrow": false,
            "text": "Minimize Cost: Current Cost = 40500",
            "x": 0.5,
            "xanchor": "center",
            "xref": "paper",
            "y": 1.15,
            "yref": "paper"
           }
          ]
         },
         "name": "20"
        },
        {
         "data": [
          {
           "marker": {
            "color": "red",
            "size": 10,
            "symbol": "x"
           },
           "mode": "markers",
           "name": "Actual Value",
           "type": "scatter",
           "x": {
            "bdata": "AAAAAAAA8D8AAAAAAAAAQA==",
            "dtype": "f8"
           },
           "y": {
            "bdata": "AAAAAADAckAAAAAAAEB/QA==",
            "dtype": "f8"
           }
          },
          {
           "line": {
            "color": "blue",
            "width": 2
           },
           "mode": "lines",
           "name": "Our Prediction",
           "type": "scatter",
           "x": {
            "bdata": "AAAAAAAA8D8AAAAAAAAAQA==",
            "dtype": "f8"
           },
           "y": {
            "bdata": "AAAAAABAYEAAAAAAAABkQA==",
            "dtype": "f8"
           }
          },
          {
           "line": {
            "color": "purple",
            "dash": "dot",
            "width": 2
           },
           "mode": "lines",
           "name": "Cost Lines",
           "showlegend": false,
           "type": "scatter",
           "x": [
            1,
            1,
            null,
            2,
            2,
            null
           ],
           "y": [
            300,
            130,
            null,
            500,
            160,
            null
           ]
          },
          {
           "line": {
            "color": "blue",
            "width": 2
           },
           "mode": "lines",
           "name": "Cost vs w",
           "showlegend": false,
           "type": "scatter",
           "x": {
            "bdata": "AAAFAAoADwAUABkAHgAjACgALQAyADcAPABBAEYASwBQAFUAWgBfAGQAaQBuAHMAeAB9AIIAhwCMAJEAlgCbAKAApQCqAK8AtAC5AL4AwwDIAM0A0gDXANwA4QDmAOsA8AD1APoA/wAEAQkBDgETARgBHQEiAScBLAExATYBOwFAAUUBSgFPAVQBWQFeAWMBaAFtAXIBdwF8AYEBhgGLAQ==",
            "dtype": "i2"
           },
           "y": {
            "bdata": "UMMAAKu5AABFsAAAHacAADSeAACJlQAAHY0AAO+EAAAAfQAAT3UAAN1tAACpZgAAtF8AAP1YAACFUgAAS0wAAFBGAACTQAAAFTsAANU1AADUMAAAESwAAI0nAABHIwAAQB8AAHcbAADtFwAAoRQAAJQRAADFDgAANQwAAOMJAADQBwAA+wUAAGUEAAANAwAA9AEAABkBAAB9AAAAHwAAAAAAAAAfAAAAfQAAABkBAAD0AQAADQMAAGUEAAD7BQAA0AcAAOMJAAA1DAAAxQ4AAJQRAAChFAAA7RcAAHcbAABAHwAARyMAAI0nAAARLAAA1DAAANU1AAAVOwAAk0AAAFBGAABLTAAAhVIAAP1YAAC0XwAAqWYAAN1tAABPdQAAAH0AAO+EAAAdjQAAiZUAADSeAAAdpwAARbAAAKu5AAA=",
            "dtype": "i4"
           }
          },
          {
           "marker": {
            "color": "darkred",
            "size": 12
           },
           "mode": "markers",
           "name": "cost at w=30",
           "showlegend": false,
           "type": "scatter",
           "x": [
            30
           ],
           "y": [
            36125
           ]
          },
          {
           "line": {
            "color": "purple",
            "dash": "dot",
            "width": 3
           },
           "mode": "lines",
           "showlegend": false,
           "type": "scatter",
           "x": [
            30,
            30
           ],
           "y": [
            0,
            36125
           ]
          },
          {
           "line": {
            "color": "purple",
            "dash": "dot",
            "width": 3
           },
           "mode": "lines",
           "showlegend": false,
           "type": "scatter",
           "x": [
            0,
            30
           ],
           "y": [
            36125,
            36125
           ]
          }
         ],
         "layout": {
          "annotations": [
           {
            "font": {
             "color": "purple",
             "size": 10
            },
            "showarrow": false,
            "text": "14450",
            "x": 1,
            "xref": "x",
            "xshift": 10,
            "y": 215,
            "yref": "y"
           },
           {
            "font": {
             "color": "purple",
             "size": 10
            },
            "showarrow": false,
            "text": "57800",
            "x": 2,
            "xref": "x",
            "xshift": 10,
            "y": 330,
            "yref": "y"
           },
           {
            "font": {
             "color": "black",
             "size": 14
            },
            "showarrow": false,
            "text": "Minimize Cost: Current Cost = 36125",
            "x": 0.5,
            "xanchor": "center",
            "xref": "paper",
            "y": 1.15,
            "yref": "paper"
           }
          ]
         },
         "name": "30"
        },
        {
         "data": [
          {
           "marker": {
            "color": "red",
            "size": 10,
            "symbol": "x"
           },
           "mode": "markers",
           "name": "Actual Value",
           "type": "scatter",
           "x": {
            "bdata": "AAAAAAAA8D8AAAAAAAAAQA==",
            "dtype": "f8"
           },
           "y": {
            "bdata": "AAAAAADAckAAAAAAAEB/QA==",
            "dtype": "f8"
           }
          },
          {
           "line": {
            "color": "blue",
            "width": 2
           },
           "mode": "lines",
           "name": "Our Prediction",
           "type": "scatter",
           "x": {
            "bdata": "AAAAAAAA8D8AAAAAAAAAQA==",
            "dtype": "f8"
           },
           "y": {
            "bdata": "AAAAAACAYUAAAAAAAIBmQA==",
            "dtype": "f8"
           }
          },
          {
           "line": {
            "color": "purple",
            "dash": "dot",
            "width": 2
           },
           "mode": "lines",
           "name": "Cost Lines",
           "showlegend": false,
           "type": "scatter",
           "x": [
            1,
            1,
            null,
            2,
            2,
            null
           ],
           "y": [
            300,
            140,
            null,
            500,
            180,
            null
           ]
          },
          {
           "line": {
            "color": "blue",
            "width": 2
           },
           "mode": "lines",
           "name": "Cost vs w",
           "showlegend": false,
           "type": "scatter",
           "x": {
            "bdata": "AAAFAAoADwAUABkAHgAjACgALQAyADcAPABBAEYASwBQAFUAWgBfAGQAaQBuAHMAeAB9AIIAhwCMAJEAlgCbAKAApQCqAK8AtAC5AL4AwwDIAM0A0gDXANwA4QDmAOsA8AD1APoA/wAEAQkBDgETARgBHQEiAScBLAExATYBOwFAAUUBSgFPAVQBWQFeAWMBaAFtAXIBdwF8AYEBhgGLAQ==",
            "dtype": "i2"
           },
           "y": {
            "bdata": "UMMAAKu5AABFsAAAHacAADSeAACJlQAAHY0AAO+EAAAAfQAAT3UAAN1tAACpZgAAtF8AAP1YAACFUgAAS0wAAFBGAACTQAAAFTsAANU1AADUMAAAESwAAI0nAABHIwAAQB8AAHcbAADtFwAAoRQAAJQRAADFDgAANQwAAOMJAADQBwAA+wUAAGUEAAANAwAA9AEAABkBAAB9AAAAHwAAAAAAAAAfAAAAfQAAABkBAAD0AQAADQMAAGUEAAD7BQAA0AcAAOMJAAA1DAAAxQ4AAJQRAAChFAAA7RcAAHcbAABAHwAARyMAAI0nAAARLAAA1DAAANU1AAAVOwAAk0AAAFBGAABLTAAAhVIAAP1YAAC0XwAAqWYAAN1tAABPdQAAAH0AAO+EAAAdjQAAiZUAADSeAAAdpwAARbAAAKu5AAA=",
            "dtype": "i4"
           }
          },
          {
           "marker": {
            "color": "darkred",
            "size": 12
           },
           "mode": "markers",
           "name": "cost at w=40",
           "showlegend": false,
           "type": "scatter",
           "x": [
            40
           ],
           "y": [
            32000
           ]
          },
          {
           "line": {
            "color": "purple",
            "dash": "dot",
            "width": 3
           },
           "mode": "lines",
           "showlegend": false,
           "type": "scatter",
           "x": [
            40,
            40
           ],
           "y": [
            0,
            32000
           ]
          },
          {
           "line": {
            "color": "purple",
            "dash": "dot",
            "width": 3
           },
           "mode": "lines",
           "showlegend": false,
           "type": "scatter",
           "x": [
            0,
            40
           ],
           "y": [
            32000,
            32000
           ]
          }
         ],
         "layout": {
          "annotations": [
           {
            "font": {
             "color": "purple",
             "size": 10
            },
            "showarrow": false,
            "text": "12800",
            "x": 1,
            "xref": "x",
            "xshift": 10,
            "y": 220,
            "yref": "y"
           },
           {
            "font": {
             "color": "purple",
             "size": 10
            },
            "showarrow": false,
            "text": "51200",
            "x": 2,
            "xref": "x",
            "xshift": 10,
            "y": 340,
            "yref": "y"
           },
           {
            "font": {
             "color": "black",
             "size": 14
            },
            "showarrow": false,
            "text": "Minimize Cost: Current Cost = 32000",
            "x": 0.5,
            "xanchor": "center",
            "xref": "paper",
            "y": 1.15,
            "yref": "paper"
           }
          ]
         },
         "name": "40"
        },
        {
         "data": [
          {
           "marker": {
            "color": "red",
            "size": 10,
            "symbol": "x"
           },
           "mode": "markers",
           "name": "Actual Value",
           "type": "scatter",
           "x": {
            "bdata": "AAAAAAAA8D8AAAAAAAAAQA==",
            "dtype": "f8"
           },
           "y": {
            "bdata": "AAAAAADAckAAAAAAAEB/QA==",
            "dtype": "f8"
           }
          },
          {
           "line": {
            "color": "blue",
            "width": 2
           },
           "mode": "lines",
           "name": "Our Prediction",
           "type": "scatter",
           "x": {
            "bdata": "AAAAAAAA8D8AAAAAAAAAQA==",
            "dtype": "f8"
           },
           "y": {
            "bdata": "AAAAAADAYkAAAAAAAABpQA==",
            "dtype": "f8"
           }
          },
          {
           "line": {
            "color": "purple",
            "dash": "dot",
            "width": 2
           },
           "mode": "lines",
           "name": "Cost Lines",
           "showlegend": false,
           "type": "scatter",
           "x": [
            1,
            1,
            null,
            2,
            2,
            null
           ],
           "y": [
            300,
            150,
            null,
            500,
            200,
            null
           ]
          },
          {
           "line": {
            "color": "blue",
            "width": 2
           },
           "mode": "lines",
           "name": "Cost vs w",
           "showlegend": false,
           "type": "scatter",
           "x": {
            "bdata": "AAAFAAoADwAUABkAHgAjACgALQAyADcAPABBAEYASwBQAFUAWgBfAGQAaQBuAHMAeAB9AIIAhwCMAJEAlgCbAKAApQCqAK8AtAC5AL4AwwDIAM0A0gDXANwA4QDmAOsA8AD1APoA/wAEAQkBDgETARgBHQEiAScBLAExATYBOwFAAUUBSgFPAVQBWQFeAWMBaAFtAXIBdwF8AYEBhgGLAQ==",
            "dtype": "i2"
           },
           "y": {
            "bdata": "UMMAAKu5AABFsAAAHacAADSeAACJlQAAHY0AAO+EAAAAfQAAT3UAAN1tAACpZgAAtF8AAP1YAACFUgAAS0wAAFBGAACTQAAAFTsAANU1AADUMAAAESwAAI0nAABHIwAAQB8AAHcbAADtFwAAoRQAAJQRAADFDgAANQwAAOMJAADQBwAA+wUAAGUEAAANAwAA9AEAABkBAAB9AAAAHwAAAAAAAAAfAAAAfQAAABkBAAD0AQAADQMAAGUEAAD7BQAA0AcAAOMJAAA1DAAAxQ4AAJQRAAChFAAA7RcAAHcbAABAHwAARyMAAI0nAAARLAAA1DAAANU1AAAVOwAAk0AAAFBGAABLTAAAhVIAAP1YAAC0XwAAqWYAAN1tAABPdQAAAH0AAO+EAAAdjQAAiZUAADSeAAAdpwAARbAAAKu5AAA=",
            "dtype": "i4"
           }
          },
          {
           "marker": {
            "color": "darkred",
            "size": 12
           },
           "mode": "markers",
           "name": "cost at w=50",
           "showlegend": false,
           "type": "scatter",
           "x": [
            50
           ],
           "y": [
            28125
           ]
          },
          {
           "line": {
            "color": "purple",
            "dash": "dot",
            "width": 3
           },
           "mode": "lines",
           "showlegend": false,
           "type": "scatter",
           "x": [
            50,
            50
           ],
           "y": [
            0,
            28125
           ]
          },
          {
           "line": {
            "color": "purple",
            "dash": "dot",
            "width": 3
           },
           "mode": "lines",
           "showlegend": false,
           "type": "scatter",
           "x": [
            0,
            50
           ],
           "y": [
            28125,
            28125
           ]
          }
         ],
         "layout": {
          "annotations": [
           {
            "font": {
             "color": "purple",
             "size": 10
            },
            "showarrow": false,
            "text": "11250",
            "x": 1,
            "xref": "x",
            "xshift": 10,
            "y": 225,
            "yref": "y"
           },
           {
            "font": {
             "color": "purple",
             "size": 10
            },
            "showarrow": false,
            "text": "45000",
            "x": 2,
            "xref": "x",
            "xshift": 10,
            "y": 350,
            "yref": "y"
           },
           {
            "font": {
             "color": "black",
             "size": 14
            },
            "showarrow": false,
            "text": "Minimize Cost: Current Cost = 28125",
            "x": 0.5,
            "xanchor": "center",
            "xref": "paper",
            "y": 1.15,
            "yref": "paper"
           }
          ]
         },
         "name": "50"
        },
        {
         "data": [
          {
           "marker": {
            "color": "red",
            "size": 10,
            "symbol": "x"
           },
           "mode": "markers",
           "name": "Actual Value",
           "type": "scatter",
           "x": {
            "bdata": "AAAAAAAA8D8AAAAAAAAAQA==",
            "dtype": "f8"
           },
           "y": {
            "bdata": "AAAAAADAckAAAAAAAEB/QA==",
            "dtype": "f8"
           }
          },
          {
           "line": {
            "color": "blue",
            "width": 2
           },
           "mode": "lines",
           "name": "Our Prediction",
           "type": "scatter",
           "x": {
            "bdata": "AAAAAAAA8D8AAAAAAAAAQA==",
            "dtype": "f8"
           },
           "y": {
            "bdata": "AAAAAAAAZEAAAAAAAIBrQA==",
            "dtype": "f8"
           }
          },
          {
           "line": {
            "color": "purple",
            "dash": "dot",
            "width": 2
           },
           "mode": "lines",
           "name": "Cost Lines",
           "showlegend": false,
           "type": "scatter",
           "x": [
            1,
            1,
            null,
            2,
            2,
            null
           ],
           "y": [
            300,
            160,
            null,
            500,
            220,
            null
           ]
          },
          {
           "line": {
            "color": "blue",
            "width": 2
           },
           "mode": "lines",
           "name": "Cost vs w",
           "showlegend": false,
           "type": "scatter",
           "x": {
            "bdata": "AAAFAAoADwAUABkAHgAjACgALQAyADcAPABBAEYASwBQAFUAWgBfAGQAaQBuAHMAeAB9AIIAhwCMAJEAlgCbAKAApQCqAK8AtAC5AL4AwwDIAM0A0gDXANwA4QDmAOsA8AD1APoA/wAEAQkBDgETARgBHQEiAScBLAExATYBOwFAAUUBSgFPAVQBWQFeAWMBaAFtAXIBdwF8AYEBhgGLAQ==",
            "dtype": "i2"
           },
           "y": {
            "bdata": "UMMAAKu5AABFsAAAHacAADSeAACJlQAAHY0AAO+EAAAAfQAAT3UAAN1tAACpZgAAtF8AAP1YAACFUgAAS0wAAFBGAACTQAAAFTsAANU1AADUMAAAESwAAI0nAABHIwAAQB8AAHcbAADtFwAAoRQAAJQRAADFDgAANQwAAOMJAADQBwAA+wUAAGUEAAANAwAA9AEAABkBAAB9AAAAHwAAAAAAAAAfAAAAfQAAABkBAAD0AQAADQMAAGUEAAD7BQAA0AcAAOMJAAA1DAAAxQ4AAJQRAAChFAAA7RcAAHcbAABAHwAARyMAAI0nAAARLAAA1DAAANU1AAAVOwAAk0AAAFBGAABLTAAAhVIAAP1YAAC0XwAAqWYAAN1tAABPdQAAAH0AAO+EAAAdjQAAiZUAADSeAAAdpwAARbAAAKu5AAA=",
            "dtype": "i4"
           }
          },
          {
           "marker": {
            "color": "darkred",
            "size": 12
           },
           "mode": "markers",
           "name": "cost at w=60",
           "showlegend": false,
           "type": "scatter",
           "x": [
            60
           ],
           "y": [
            24500
           ]
          },
          {
           "line": {
            "color": "purple",
            "dash": "dot",
            "width": 3
           },
           "mode": "lines",
           "showlegend": false,
           "type": "scatter",
           "x": [
            60,
            60
           ],
           "y": [
            0,
            24500
           ]
          },
          {
           "line": {
            "color": "purple",
            "dash": "dot",
            "width": 3
           },
           "mode": "lines",
           "showlegend": false,
           "type": "scatter",
           "x": [
            0,
            60
           ],
           "y": [
            24500,
            24500
           ]
          }
         ],
         "layout": {
          "annotations": [
           {
            "font": {
             "color": "purple",
             "size": 10
            },
            "showarrow": false,
            "text": "9800",
            "x": 1,
            "xref": "x",
            "xshift": 10,
            "y": 230,
            "yref": "y"
           },
           {
            "font": {
             "color": "purple",
             "size": 10
            },
            "showarrow": false,
            "text": "39200",
            "x": 2,
            "xref": "x",
            "xshift": 10,
            "y": 360,
            "yref": "y"
           },
           {
            "font": {
             "color": "black",
             "size": 14
            },
            "showarrow": false,
            "text": "Minimize Cost: Current Cost = 24500",
            "x": 0.5,
            "xanchor": "center",
            "xref": "paper",
            "y": 1.15,
            "yref": "paper"
           }
          ]
         },
         "name": "60"
        },
        {
         "data": [
          {
           "marker": {
            "color": "red",
            "size": 10,
            "symbol": "x"
           },
           "mode": "markers",
           "name": "Actual Value",
           "type": "scatter",
           "x": {
            "bdata": "AAAAAAAA8D8AAAAAAAAAQA==",
            "dtype": "f8"
           },
           "y": {
            "bdata": "AAAAAADAckAAAAAAAEB/QA==",
            "dtype": "f8"
           }
          },
          {
           "line": {
            "color": "blue",
            "width": 2
           },
           "mode": "lines",
           "name": "Our Prediction",
           "type": "scatter",
           "x": {
            "bdata": "AAAAAAAA8D8AAAAAAAAAQA==",
            "dtype": "f8"
           },
           "y": {
            "bdata": "AAAAAABAZUAAAAAAAABuQA==",
            "dtype": "f8"
           }
          },
          {
           "line": {
            "color": "purple",
            "dash": "dot",
            "width": 2
           },
           "mode": "lines",
           "name": "Cost Lines",
           "showlegend": false,
           "type": "scatter",
           "x": [
            1,
            1,
            null,
            2,
            2,
            null
           ],
           "y": [
            300,
            170,
            null,
            500,
            240,
            null
           ]
          },
          {
           "line": {
            "color": "blue",
            "width": 2
           },
           "mode": "lines",
           "name": "Cost vs w",
           "showlegend": false,
           "type": "scatter",
           "x": {
            "bdata": "AAAFAAoADwAUABkAHgAjACgALQAyADcAPABBAEYASwBQAFUAWgBfAGQAaQBuAHMAeAB9AIIAhwCMAJEAlgCbAKAApQCqAK8AtAC5AL4AwwDIAM0A0gDXANwA4QDmAOsA8AD1APoA/wAEAQkBDgETARgBHQEiAScBLAExATYBOwFAAUUBSgFPAVQBWQFeAWMBaAFtAXIBdwF8AYEBhgGLAQ==",
            "dtype": "i2"
           },
           "y": {
            "bdata": "UMMAAKu5AABFsAAAHacAADSeAACJlQAAHY0AAO+EAAAAfQAAT3UAAN1tAACpZgAAtF8AAP1YAACFUgAAS0wAAFBGAACTQAAAFTsAANU1AADUMAAAESwAAI0nAABHIwAAQB8AAHcbAADtFwAAoRQAAJQRAADFDgAANQwAAOMJAADQBwAA+wUAAGUEAAANAwAA9AEAABkBAAB9AAAAHwAAAAAAAAAfAAAAfQAAABkBAAD0AQAADQMAAGUEAAD7BQAA0AcAAOMJAAA1DAAAxQ4AAJQRAAChFAAA7RcAAHcbAABAHwAARyMAAI0nAAARLAAA1DAAANU1AAAVOwAAk0AAAFBGAABLTAAAhVIAAP1YAAC0XwAAqWYAAN1tAABPdQAAAH0AAO+EAAAdjQAAiZUAADSeAAAdpwAARbAAAKu5AAA=",
            "dtype": "i4"
           }
          },
          {
           "marker": {
            "color": "darkred",
            "size": 12
           },
           "mode": "markers",
           "name": "cost at w=70",
           "showlegend": false,
           "type": "scatter",
           "x": [
            70
           ],
           "y": [
            21125
           ]
          },
          {
           "line": {
            "color": "purple",
            "dash": "dot",
            "width": 3
           },
           "mode": "lines",
           "showlegend": false,
           "type": "scatter",
           "x": [
            70,
            70
           ],
           "y": [
            0,
            21125
           ]
          },
          {
           "line": {
            "color": "purple",
            "dash": "dot",
            "width": 3
           },
           "mode": "lines",
           "showlegend": false,
           "type": "scatter",
           "x": [
            0,
            70
           ],
           "y": [
            21125,
            21125
           ]
          }
         ],
         "layout": {
          "annotations": [
           {
            "font": {
             "color": "purple",
             "size": 10
            },
            "showarrow": false,
            "text": "8450",
            "x": 1,
            "xref": "x",
            "xshift": 10,
            "y": 235,
            "yref": "y"
           },
           {
            "font": {
             "color": "purple",
             "size": 10
            },
            "showarrow": false,
            "text": "33800",
            "x": 2,
            "xref": "x",
            "xshift": 10,
            "y": 370,
            "yref": "y"
           },
           {
            "font": {
             "color": "black",
             "size": 14
            },
            "showarrow": false,
            "text": "Minimize Cost: Current Cost = 21125",
            "x": 0.5,
            "xanchor": "center",
            "xref": "paper",
            "y": 1.15,
            "yref": "paper"
           }
          ]
         },
         "name": "70"
        },
        {
         "data": [
          {
           "marker": {
            "color": "red",
            "size": 10,
            "symbol": "x"
           },
           "mode": "markers",
           "name": "Actual Value",
           "type": "scatter",
           "x": {
            "bdata": "AAAAAAAA8D8AAAAAAAAAQA==",
            "dtype": "f8"
           },
           "y": {
            "bdata": "AAAAAADAckAAAAAAAEB/QA==",
            "dtype": "f8"
           }
          },
          {
           "line": {
            "color": "blue",
            "width": 2
           },
           "mode": "lines",
           "name": "Our Prediction",
           "type": "scatter",
           "x": {
            "bdata": "AAAAAAAA8D8AAAAAAAAAQA==",
            "dtype": "f8"
           },
           "y": {
            "bdata": "AAAAAACAZkAAAAAAAEBwQA==",
            "dtype": "f8"
           }
          },
          {
           "line": {
            "color": "purple",
            "dash": "dot",
            "width": 2
           },
           "mode": "lines",
           "name": "Cost Lines",
           "showlegend": false,
           "type": "scatter",
           "x": [
            1,
            1,
            null,
            2,
            2,
            null
           ],
           "y": [
            300,
            180,
            null,
            500,
            260,
            null
           ]
          },
          {
           "line": {
            "color": "blue",
            "width": 2
           },
           "mode": "lines",
           "name": "Cost vs w",
           "showlegend": false,
           "type": "scatter",
           "x": {
            "bdata": "AAAFAAoADwAUABkAHgAjACgALQAyADcAPABBAEYASwBQAFUAWgBfAGQAaQBuAHMAeAB9AIIAhwCMAJEAlgCbAKAApQCqAK8AtAC5AL4AwwDIAM0A0gDXANwA4QDmAOsA8AD1APoA/wAEAQkBDgETARgBHQEiAScBLAExATYBOwFAAUUBSgFPAVQBWQFeAWMBaAFtAXIBdwF8AYEBhgGLAQ==",
            "dtype": "i2"
           },
           "y": {
            "bdata": "UMMAAKu5AABFsAAAHacAADSeAACJlQAAHY0AAO+EAAAAfQAAT3UAAN1tAACpZgAAtF8AAP1YAACFUgAAS0wAAFBGAACTQAAAFTsAANU1AADUMAAAESwAAI0nAABHIwAAQB8AAHcbAADtFwAAoRQAAJQRAADFDgAANQwAAOMJAADQBwAA+wUAAGUEAAANAwAA9AEAABkBAAB9AAAAHwAAAAAAAAAfAAAAfQAAABkBAAD0AQAADQMAAGUEAAD7BQAA0AcAAOMJAAA1DAAAxQ4AAJQRAAChFAAA7RcAAHcbAABAHwAARyMAAI0nAAARLAAA1DAAANU1AAAVOwAAk0AAAFBGAABLTAAAhVIAAP1YAAC0XwAAqWYAAN1tAABPdQAAAH0AAO+EAAAdjQAAiZUAADSeAAAdpwAARbAAAKu5AAA=",
            "dtype": "i4"
           }
          },
          {
           "marker": {
            "color": "darkred",
            "size": 12
           },
           "mode": "markers",
           "name": "cost at w=80",
           "showlegend": false,
           "type": "scatter",
           "x": [
            80
           ],
           "y": [
            18000
           ]
          },
          {
           "line": {
            "color": "purple",
            "dash": "dot",
            "width": 3
           },
           "mode": "lines",
           "showlegend": false,
           "type": "scatter",
           "x": [
            80,
            80
           ],
           "y": [
            0,
            18000
           ]
          },
          {
           "line": {
            "color": "purple",
            "dash": "dot",
            "width": 3
           },
           "mode": "lines",
           "showlegend": false,
           "type": "scatter",
           "x": [
            0,
            80
           ],
           "y": [
            18000,
            18000
           ]
          }
         ],
         "layout": {
          "annotations": [
           {
            "font": {
             "color": "purple",
             "size": 10
            },
            "showarrow": false,
            "text": "7200",
            "x": 1,
            "xref": "x",
            "xshift": 10,
            "y": 240,
            "yref": "y"
           },
           {
            "font": {
             "color": "purple",
             "size": 10
            },
            "showarrow": false,
            "text": "28800",
            "x": 2,
            "xref": "x",
            "xshift": 10,
            "y": 380,
            "yref": "y"
           },
           {
            "font": {
             "color": "black",
             "size": 14
            },
            "showarrow": false,
            "text": "Minimize Cost: Current Cost = 18000",
            "x": 0.5,
            "xanchor": "center",
            "xref": "paper",
            "y": 1.15,
            "yref": "paper"
           }
          ]
         },
         "name": "80"
        },
        {
         "data": [
          {
           "marker": {
            "color": "red",
            "size": 10,
            "symbol": "x"
           },
           "mode": "markers",
           "name": "Actual Value",
           "type": "scatter",
           "x": {
            "bdata": "AAAAAAAA8D8AAAAAAAAAQA==",
            "dtype": "f8"
           },
           "y": {
            "bdata": "AAAAAADAckAAAAAAAEB/QA==",
            "dtype": "f8"
           }
          },
          {
           "line": {
            "color": "blue",
            "width": 2
           },
           "mode": "lines",
           "name": "Our Prediction",
           "type": "scatter",
           "x": {
            "bdata": "AAAAAAAA8D8AAAAAAAAAQA==",
            "dtype": "f8"
           },
           "y": {
            "bdata": "AAAAAADAZ0AAAAAAAIBxQA==",
            "dtype": "f8"
           }
          },
          {
           "line": {
            "color": "purple",
            "dash": "dot",
            "width": 2
           },
           "mode": "lines",
           "name": "Cost Lines",
           "showlegend": false,
           "type": "scatter",
           "x": [
            1,
            1,
            null,
            2,
            2,
            null
           ],
           "y": [
            300,
            190,
            null,
            500,
            280,
            null
           ]
          },
          {
           "line": {
            "color": "blue",
            "width": 2
           },
           "mode": "lines",
           "name": "Cost vs w",
           "showlegend": false,
           "type": "scatter",
           "x": {
            "bdata": "AAAFAAoADwAUABkAHgAjACgALQAyADcAPABBAEYASwBQAFUAWgBfAGQAaQBuAHMAeAB9AIIAhwCMAJEAlgCbAKAApQCqAK8AtAC5AL4AwwDIAM0A0gDXANwA4QDmAOsA8AD1APoA/wAEAQkBDgETARgBHQEiAScBLAExATYBOwFAAUUBSgFPAVQBWQFeAWMBaAFtAXIBdwF8AYEBhgGLAQ==",
            "dtype": "i2"
           },
           "y": {
            "bdata": "UMMAAKu5AABFsAAAHacAADSeAACJlQAAHY0AAO+EAAAAfQAAT3UAAN1tAACpZgAAtF8AAP1YAACFUgAAS0wAAFBGAACTQAAAFTsAANU1AADUMAAAESwAAI0nAABHIwAAQB8AAHcbAADtFwAAoRQAAJQRAADFDgAANQwAAOMJAADQBwAA+wUAAGUEAAANAwAA9AEAABkBAAB9AAAAHwAAAAAAAAAfAAAAfQAAABkBAAD0AQAADQMAAGUEAAD7BQAA0AcAAOMJAAA1DAAAxQ4AAJQRAAChFAAA7RcAAHcbAABAHwAARyMAAI0nAAARLAAA1DAAANU1AAAVOwAAk0AAAFBGAABLTAAAhVIAAP1YAAC0XwAAqWYAAN1tAABPdQAAAH0AAO+EAAAdjQAAiZUAADSeAAAdpwAARbAAAKu5AAA=",
            "dtype": "i4"
           }
          },
          {
           "marker": {
            "color": "darkred",
            "size": 12
           },
           "mode": "markers",
           "name": "cost at w=90",
           "showlegend": false,
           "type": "scatter",
           "x": [
            90
           ],
           "y": [
            15125
           ]
          },
          {
           "line": {
            "color": "purple",
            "dash": "dot",
            "width": 3
           },
           "mode": "lines",
           "showlegend": false,
           "type": "scatter",
           "x": [
            90,
            90
           ],
           "y": [
            0,
            15125
           ]
          },
          {
           "line": {
            "color": "purple",
            "dash": "dot",
            "width": 3
           },
           "mode": "lines",
           "showlegend": false,
           "type": "scatter",
           "x": [
            0,
            90
           ],
           "y": [
            15125,
            15125
           ]
          }
         ],
         "layout": {
          "annotations": [
           {
            "font": {
             "color": "purple",
             "size": 10
            },
            "showarrow": false,
            "text": "6050",
            "x": 1,
            "xref": "x",
            "xshift": 10,
            "y": 245,
            "yref": "y"
           },
           {
            "font": {
             "color": "purple",
             "size": 10
            },
            "showarrow": false,
            "text": "24200",
            "x": 2,
            "xref": "x",
            "xshift": 10,
            "y": 390,
            "yref": "y"
           },
           {
            "font": {
             "color": "black",
             "size": 14
            },
            "showarrow": false,
            "text": "Minimize Cost: Current Cost = 15125",
            "x": 0.5,
            "xanchor": "center",
            "xref": "paper",
            "y": 1.15,
            "yref": "paper"
           }
          ]
         },
         "name": "90"
        },
        {
         "data": [
          {
           "marker": {
            "color": "red",
            "size": 10,
            "symbol": "x"
           },
           "mode": "markers",
           "name": "Actual Value",
           "type": "scatter",
           "x": {
            "bdata": "AAAAAAAA8D8AAAAAAAAAQA==",
            "dtype": "f8"
           },
           "y": {
            "bdata": "AAAAAADAckAAAAAAAEB/QA==",
            "dtype": "f8"
           }
          },
          {
           "line": {
            "color": "blue",
            "width": 2
           },
           "mode": "lines",
           "name": "Our Prediction",
           "type": "scatter",
           "x": {
            "bdata": "AAAAAAAA8D8AAAAAAAAAQA==",
            "dtype": "f8"
           },
           "y": {
            "bdata": "AAAAAAAAaUAAAAAAAMByQA==",
            "dtype": "f8"
           }
          },
          {
           "line": {
            "color": "purple",
            "dash": "dot",
            "width": 2
           },
           "mode": "lines",
           "name": "Cost Lines",
           "showlegend": false,
           "type": "scatter",
           "x": [
            1,
            1,
            null,
            2,
            2,
            null
           ],
           "y": [
            300,
            200,
            null,
            500,
            300,
            null
           ]
          },
          {
           "line": {
            "color": "blue",
            "width": 2
           },
           "mode": "lines",
           "name": "Cost vs w",
           "showlegend": false,
           "type": "scatter",
           "x": {
            "bdata": "AAAFAAoADwAUABkAHgAjACgALQAyADcAPABBAEYASwBQAFUAWgBfAGQAaQBuAHMAeAB9AIIAhwCMAJEAlgCbAKAApQCqAK8AtAC5AL4AwwDIAM0A0gDXANwA4QDmAOsA8AD1APoA/wAEAQkBDgETARgBHQEiAScBLAExATYBOwFAAUUBSgFPAVQBWQFeAWMBaAFtAXIBdwF8AYEBhgGLAQ==",
            "dtype": "i2"
           },
           "y": {
            "bdata": "UMMAAKu5AABFsAAAHacAADSeAACJlQAAHY0AAO+EAAAAfQAAT3UAAN1tAACpZgAAtF8AAP1YAACFUgAAS0wAAFBGAACTQAAAFTsAANU1AADUMAAAESwAAI0nAABHIwAAQB8AAHcbAADtFwAAoRQAAJQRAADFDgAANQwAAOMJAADQBwAA+wUAAGUEAAANAwAA9AEAABkBAAB9AAAAHwAAAAAAAAAfAAAAfQAAABkBAAD0AQAADQMAAGUEAAD7BQAA0AcAAOMJAAA1DAAAxQ4AAJQRAAChFAAA7RcAAHcbAABAHwAARyMAAI0nAAARLAAA1DAAANU1AAAVOwAAk0AAAFBGAABLTAAAhVIAAP1YAAC0XwAAqWYAAN1tAABPdQAAAH0AAO+EAAAdjQAAiZUAADSeAAAdpwAARbAAAKu5AAA=",
            "dtype": "i4"
           }
          },
          {
           "marker": {
            "color": "darkred",
            "size": 12
           },
           "mode": "markers",
           "name": "cost at w=100",
           "showlegend": false,
           "type": "scatter",
           "x": [
            100
           ],
           "y": [
            12500
           ]
          },
          {
           "line": {
            "color": "purple",
            "dash": "dot",
            "width": 3
           },
           "mode": "lines",
           "showlegend": false,
           "type": "scatter",
           "x": [
            100,
            100
           ],
           "y": [
            0,
            12500
           ]
          },
          {
           "line": {
            "color": "purple",
            "dash": "dot",
            "width": 3
           },
           "mode": "lines",
           "showlegend": false,
           "type": "scatter",
           "x": [
            0,
            100
           ],
           "y": [
            12500,
            12500
           ]
          }
         ],
         "layout": {
          "annotations": [
           {
            "font": {
             "color": "purple",
             "size": 10
            },
            "showarrow": false,
            "text": "5000",
            "x": 1,
            "xref": "x",
            "xshift": 10,
            "y": 250,
            "yref": "y"
           },
           {
            "font": {
             "color": "purple",
             "size": 10
            },
            "showarrow": false,
            "text": "20000",
            "x": 2,
            "xref": "x",
            "xshift": 10,
            "y": 400,
            "yref": "y"
           },
           {
            "font": {
             "color": "black",
             "size": 14
            },
            "showarrow": false,
            "text": "Minimize Cost: Current Cost = 12500",
            "x": 0.5,
            "xanchor": "center",
            "xref": "paper",
            "y": 1.15,
            "yref": "paper"
           }
          ]
         },
         "name": "100"
        },
        {
         "data": [
          {
           "marker": {
            "color": "red",
            "size": 10,
            "symbol": "x"
           },
           "mode": "markers",
           "name": "Actual Value",
           "type": "scatter",
           "x": {
            "bdata": "AAAAAAAA8D8AAAAAAAAAQA==",
            "dtype": "f8"
           },
           "y": {
            "bdata": "AAAAAADAckAAAAAAAEB/QA==",
            "dtype": "f8"
           }
          },
          {
           "line": {
            "color": "blue",
            "width": 2
           },
           "mode": "lines",
           "name": "Our Prediction",
           "type": "scatter",
           "x": {
            "bdata": "AAAAAAAA8D8AAAAAAAAAQA==",
            "dtype": "f8"
           },
           "y": {
            "bdata": "AAAAAABAakAAAAAAAAB0QA==",
            "dtype": "f8"
           }
          },
          {
           "line": {
            "color": "purple",
            "dash": "dot",
            "width": 2
           },
           "mode": "lines",
           "name": "Cost Lines",
           "showlegend": false,
           "type": "scatter",
           "x": [
            1,
            1,
            null,
            2,
            2,
            null
           ],
           "y": [
            300,
            210,
            null,
            500,
            320,
            null
           ]
          },
          {
           "line": {
            "color": "blue",
            "width": 2
           },
           "mode": "lines",
           "name": "Cost vs w",
           "showlegend": false,
           "type": "scatter",
           "x": {
            "bdata": "AAAFAAoADwAUABkAHgAjACgALQAyADcAPABBAEYASwBQAFUAWgBfAGQAaQBuAHMAeAB9AIIAhwCMAJEAlgCbAKAApQCqAK8AtAC5AL4AwwDIAM0A0gDXANwA4QDmAOsA8AD1APoA/wAEAQkBDgETARgBHQEiAScBLAExATYBOwFAAUUBSgFPAVQBWQFeAWMBaAFtAXIBdwF8AYEBhgGLAQ==",
            "dtype": "i2"
           },
           "y": {
            "bdata": "UMMAAKu5AABFsAAAHacAADSeAACJlQAAHY0AAO+EAAAAfQAAT3UAAN1tAACpZgAAtF8AAP1YAACFUgAAS0wAAFBGAACTQAAAFTsAANU1AADUMAAAESwAAI0nAABHIwAAQB8AAHcbAADtFwAAoRQAAJQRAADFDgAANQwAAOMJAADQBwAA+wUAAGUEAAANAwAA9AEAABkBAAB9AAAAHwAAAAAAAAAfAAAAfQAAABkBAAD0AQAADQMAAGUEAAD7BQAA0AcAAOMJAAA1DAAAxQ4AAJQRAAChFAAA7RcAAHcbAABAHwAARyMAAI0nAAARLAAA1DAAANU1AAAVOwAAk0AAAFBGAABLTAAAhVIAAP1YAAC0XwAAqWYAAN1tAABPdQAAAH0AAO+EAAAdjQAAiZUAADSeAAAdpwAARbAAAKu5AAA=",
            "dtype": "i4"
           }
          },
          {
           "marker": {
            "color": "darkred",
            "size": 12
           },
           "mode": "markers",
           "name": "cost at w=110",
           "showlegend": false,
           "type": "scatter",
           "x": [
            110
           ],
           "y": [
            10125
           ]
          },
          {
           "line": {
            "color": "purple",
            "dash": "dot",
            "width": 3
           },
           "mode": "lines",
           "showlegend": false,
           "type": "scatter",
           "x": [
            110,
            110
           ],
           "y": [
            0,
            10125
           ]
          },
          {
           "line": {
            "color": "purple",
            "dash": "dot",
            "width": 3
           },
           "mode": "lines",
           "showlegend": false,
           "type": "scatter",
           "x": [
            0,
            110
           ],
           "y": [
            10125,
            10125
           ]
          }
         ],
         "layout": {
          "annotations": [
           {
            "font": {
             "color": "purple",
             "size": 10
            },
            "showarrow": false,
            "text": "4050",
            "x": 1,
            "xref": "x",
            "xshift": 10,
            "y": 255,
            "yref": "y"
           },
           {
            "font": {
             "color": "purple",
             "size": 10
            },
            "showarrow": false,
            "text": "16200",
            "x": 2,
            "xref": "x",
            "xshift": 10,
            "y": 410,
            "yref": "y"
           },
           {
            "font": {
             "color": "black",
             "size": 14
            },
            "showarrow": false,
            "text": "Minimize Cost: Current Cost = 10125",
            "x": 0.5,
            "xanchor": "center",
            "xref": "paper",
            "y": 1.15,
            "yref": "paper"
           }
          ]
         },
         "name": "110"
        },
        {
         "data": [
          {
           "marker": {
            "color": "red",
            "size": 10,
            "symbol": "x"
           },
           "mode": "markers",
           "name": "Actual Value",
           "type": "scatter",
           "x": {
            "bdata": "AAAAAAAA8D8AAAAAAAAAQA==",
            "dtype": "f8"
           },
           "y": {
            "bdata": "AAAAAADAckAAAAAAAEB/QA==",
            "dtype": "f8"
           }
          },
          {
           "line": {
            "color": "blue",
            "width": 2
           },
           "mode": "lines",
           "name": "Our Prediction",
           "type": "scatter",
           "x": {
            "bdata": "AAAAAAAA8D8AAAAAAAAAQA==",
            "dtype": "f8"
           },
           "y": {
            "bdata": "AAAAAACAa0AAAAAAAEB1QA==",
            "dtype": "f8"
           }
          },
          {
           "line": {
            "color": "purple",
            "dash": "dot",
            "width": 2
           },
           "mode": "lines",
           "name": "Cost Lines",
           "showlegend": false,
           "type": "scatter",
           "x": [
            1,
            1,
            null,
            2,
            2,
            null
           ],
           "y": [
            300,
            220,
            null,
            500,
            340,
            null
           ]
          },
          {
           "line": {
            "color": "blue",
            "width": 2
           },
           "mode": "lines",
           "name": "Cost vs w",
           "showlegend": false,
           "type": "scatter",
           "x": {
            "bdata": "AAAFAAoADwAUABkAHgAjACgALQAyADcAPABBAEYASwBQAFUAWgBfAGQAaQBuAHMAeAB9AIIAhwCMAJEAlgCbAKAApQCqAK8AtAC5AL4AwwDIAM0A0gDXANwA4QDmAOsA8AD1APoA/wAEAQkBDgETARgBHQEiAScBLAExATYBOwFAAUUBSgFPAVQBWQFeAWMBaAFtAXIBdwF8AYEBhgGLAQ==",
            "dtype": "i2"
           },
           "y": {
            "bdata": "UMMAAKu5AABFsAAAHacAADSeAACJlQAAHY0AAO+EAAAAfQAAT3UAAN1tAACpZgAAtF8AAP1YAACFUgAAS0wAAFBGAACTQAAAFTsAANU1AADUMAAAESwAAI0nAABHIwAAQB8AAHcbAADtFwAAoRQAAJQRAADFDgAANQwAAOMJAADQBwAA+wUAAGUEAAANAwAA9AEAABkBAAB9AAAAHwAAAAAAAAAfAAAAfQAAABkBAAD0AQAADQMAAGUEAAD7BQAA0AcAAOMJAAA1DAAAxQ4AAJQRAAChFAAA7RcAAHcbAABAHwAARyMAAI0nAAARLAAA1DAAANU1AAAVOwAAk0AAAFBGAABLTAAAhVIAAP1YAAC0XwAAqWYAAN1tAABPdQAAAH0AAO+EAAAdjQAAiZUAADSeAAAdpwAARbAAAKu5AAA=",
            "dtype": "i4"
           }
          },
          {
           "marker": {
            "color": "darkred",
            "size": 12
           },
           "mode": "markers",
           "name": "cost at w=120",
           "showlegend": false,
           "type": "scatter",
           "x": [
            120
           ],
           "y": [
            8000
           ]
          },
          {
           "line": {
            "color": "purple",
            "dash": "dot",
            "width": 3
           },
           "mode": "lines",
           "showlegend": false,
           "type": "scatter",
           "x": [
            120,
            120
           ],
           "y": [
            0,
            8000
           ]
          },
          {
           "line": {
            "color": "purple",
            "dash": "dot",
            "width": 3
           },
           "mode": "lines",
           "showlegend": false,
           "type": "scatter",
           "x": [
            0,
            120
           ],
           "y": [
            8000,
            8000
           ]
          }
         ],
         "layout": {
          "annotations": [
           {
            "font": {
             "color": "purple",
             "size": 10
            },
            "showarrow": false,
            "text": "3200",
            "x": 1,
            "xref": "x",
            "xshift": 10,
            "y": 260,
            "yref": "y"
           },
           {
            "font": {
             "color": "purple",
             "size": 10
            },
            "showarrow": false,
            "text": "12800",
            "x": 2,
            "xref": "x",
            "xshift": 10,
            "y": 420,
            "yref": "y"
           },
           {
            "font": {
             "color": "black",
             "size": 14
            },
            "showarrow": false,
            "text": "Minimize Cost: Current Cost = 8000",
            "x": 0.5,
            "xanchor": "center",
            "xref": "paper",
            "y": 1.15,
            "yref": "paper"
           }
          ]
         },
         "name": "120"
        },
        {
         "data": [
          {
           "marker": {
            "color": "red",
            "size": 10,
            "symbol": "x"
           },
           "mode": "markers",
           "name": "Actual Value",
           "type": "scatter",
           "x": {
            "bdata": "AAAAAAAA8D8AAAAAAAAAQA==",
            "dtype": "f8"
           },
           "y": {
            "bdata": "AAAAAADAckAAAAAAAEB/QA==",
            "dtype": "f8"
           }
          },
          {
           "line": {
            "color": "blue",
            "width": 2
           },
           "mode": "lines",
           "name": "Our Prediction",
           "type": "scatter",
           "x": {
            "bdata": "AAAAAAAA8D8AAAAAAAAAQA==",
            "dtype": "f8"
           },
           "y": {
            "bdata": "AAAAAADAbEAAAAAAAIB2QA==",
            "dtype": "f8"
           }
          },
          {
           "line": {
            "color": "purple",
            "dash": "dot",
            "width": 2
           },
           "mode": "lines",
           "name": "Cost Lines",
           "showlegend": false,
           "type": "scatter",
           "x": [
            1,
            1,
            null,
            2,
            2,
            null
           ],
           "y": [
            300,
            230,
            null,
            500,
            360,
            null
           ]
          },
          {
           "line": {
            "color": "blue",
            "width": 2
           },
           "mode": "lines",
           "name": "Cost vs w",
           "showlegend": false,
           "type": "scatter",
           "x": {
            "bdata": "AAAFAAoADwAUABkAHgAjACgALQAyADcAPABBAEYASwBQAFUAWgBfAGQAaQBuAHMAeAB9AIIAhwCMAJEAlgCbAKAApQCqAK8AtAC5AL4AwwDIAM0A0gDXANwA4QDmAOsA8AD1APoA/wAEAQkBDgETARgBHQEiAScBLAExATYBOwFAAUUBSgFPAVQBWQFeAWMBaAFtAXIBdwF8AYEBhgGLAQ==",
            "dtype": "i2"
           },
           "y": {
            "bdata": "UMMAAKu5AABFsAAAHacAADSeAACJlQAAHY0AAO+EAAAAfQAAT3UAAN1tAACpZgAAtF8AAP1YAACFUgAAS0wAAFBGAACTQAAAFTsAANU1AADUMAAAESwAAI0nAABHIwAAQB8AAHcbAADtFwAAoRQAAJQRAADFDgAANQwAAOMJAADQBwAA+wUAAGUEAAANAwAA9AEAABkBAAB9AAAAHwAAAAAAAAAfAAAAfQAAABkBAAD0AQAADQMAAGUEAAD7BQAA0AcAAOMJAAA1DAAAxQ4AAJQRAAChFAAA7RcAAHcbAABAHwAARyMAAI0nAAARLAAA1DAAANU1AAAVOwAAk0AAAFBGAABLTAAAhVIAAP1YAAC0XwAAqWYAAN1tAABPdQAAAH0AAO+EAAAdjQAAiZUAADSeAAAdpwAARbAAAKu5AAA=",
            "dtype": "i4"
           }
          },
          {
           "marker": {
            "color": "darkred",
            "size": 12
           },
           "mode": "markers",
           "name": "cost at w=130",
           "showlegend": false,
           "type": "scatter",
           "x": [
            130
           ],
           "y": [
            6125
           ]
          },
          {
           "line": {
            "color": "purple",
            "dash": "dot",
            "width": 3
           },
           "mode": "lines",
           "showlegend": false,
           "type": "scatter",
           "x": [
            130,
            130
           ],
           "y": [
            0,
            6125
           ]
          },
          {
           "line": {
            "color": "purple",
            "dash": "dot",
            "width": 3
           },
           "mode": "lines",
           "showlegend": false,
           "type": "scatter",
           "x": [
            0,
            130
           ],
           "y": [
            6125,
            6125
           ]
          }
         ],
         "layout": {
          "annotations": [
           {
            "font": {
             "color": "purple",
             "size": 10
            },
            "showarrow": false,
            "text": "2450",
            "x": 1,
            "xref": "x",
            "xshift": 10,
            "y": 265,
            "yref": "y"
           },
           {
            "font": {
             "color": "purple",
             "size": 10
            },
            "showarrow": false,
            "text": "9800",
            "x": 2,
            "xref": "x",
            "xshift": 10,
            "y": 430,
            "yref": "y"
           },
           {
            "font": {
             "color": "black",
             "size": 14
            },
            "showarrow": false,
            "text": "Minimize Cost: Current Cost = 6125",
            "x": 0.5,
            "xanchor": "center",
            "xref": "paper",
            "y": 1.15,
            "yref": "paper"
           }
          ]
         },
         "name": "130"
        },
        {
         "data": [
          {
           "marker": {
            "color": "red",
            "size": 10,
            "symbol": "x"
           },
           "mode": "markers",
           "name": "Actual Value",
           "type": "scatter",
           "x": {
            "bdata": "AAAAAAAA8D8AAAAAAAAAQA==",
            "dtype": "f8"
           },
           "y": {
            "bdata": "AAAAAADAckAAAAAAAEB/QA==",
            "dtype": "f8"
           }
          },
          {
           "line": {
            "color": "blue",
            "width": 2
           },
           "mode": "lines",
           "name": "Our Prediction",
           "type": "scatter",
           "x": {
            "bdata": "AAAAAAAA8D8AAAAAAAAAQA==",
            "dtype": "f8"
           },
           "y": {
            "bdata": "AAAAAAAAbkAAAAAAAMB3QA==",
            "dtype": "f8"
           }
          },
          {
           "line": {
            "color": "purple",
            "dash": "dot",
            "width": 2
           },
           "mode": "lines",
           "name": "Cost Lines",
           "showlegend": false,
           "type": "scatter",
           "x": [
            1,
            1,
            null,
            2,
            2,
            null
           ],
           "y": [
            300,
            240,
            null,
            500,
            380,
            null
           ]
          },
          {
           "line": {
            "color": "blue",
            "width": 2
           },
           "mode": "lines",
           "name": "Cost vs w",
           "showlegend": false,
           "type": "scatter",
           "x": {
            "bdata": "AAAFAAoADwAUABkAHgAjACgALQAyADcAPABBAEYASwBQAFUAWgBfAGQAaQBuAHMAeAB9AIIAhwCMAJEAlgCbAKAApQCqAK8AtAC5AL4AwwDIAM0A0gDXANwA4QDmAOsA8AD1APoA/wAEAQkBDgETARgBHQEiAScBLAExATYBOwFAAUUBSgFPAVQBWQFeAWMBaAFtAXIBdwF8AYEBhgGLAQ==",
            "dtype": "i2"
           },
           "y": {
            "bdata": "UMMAAKu5AABFsAAAHacAADSeAACJlQAAHY0AAO+EAAAAfQAAT3UAAN1tAACpZgAAtF8AAP1YAACFUgAAS0wAAFBGAACTQAAAFTsAANU1AADUMAAAESwAAI0nAABHIwAAQB8AAHcbAADtFwAAoRQAAJQRAADFDgAANQwAAOMJAADQBwAA+wUAAGUEAAANAwAA9AEAABkBAAB9AAAAHwAAAAAAAAAfAAAAfQAAABkBAAD0AQAADQMAAGUEAAD7BQAA0AcAAOMJAAA1DAAAxQ4AAJQRAAChFAAA7RcAAHcbAABAHwAARyMAAI0nAAARLAAA1DAAANU1AAAVOwAAk0AAAFBGAABLTAAAhVIAAP1YAAC0XwAAqWYAAN1tAABPdQAAAH0AAO+EAAAdjQAAiZUAADSeAAAdpwAARbAAAKu5AAA=",
            "dtype": "i4"
           }
          },
          {
           "marker": {
            "color": "darkred",
            "size": 12
           },
           "mode": "markers",
           "name": "cost at w=140",
           "showlegend": false,
           "type": "scatter",
           "x": [
            140
           ],
           "y": [
            4500
           ]
          },
          {
           "line": {
            "color": "purple",
            "dash": "dot",
            "width": 3
           },
           "mode": "lines",
           "showlegend": false,
           "type": "scatter",
           "x": [
            140,
            140
           ],
           "y": [
            0,
            4500
           ]
          },
          {
           "line": {
            "color": "purple",
            "dash": "dot",
            "width": 3
           },
           "mode": "lines",
           "showlegend": false,
           "type": "scatter",
           "x": [
            0,
            140
           ],
           "y": [
            4500,
            4500
           ]
          }
         ],
         "layout": {
          "annotations": [
           {
            "font": {
             "color": "purple",
             "size": 10
            },
            "showarrow": false,
            "text": "1800",
            "x": 1,
            "xref": "x",
            "xshift": 10,
            "y": 270,
            "yref": "y"
           },
           {
            "font": {
             "color": "purple",
             "size": 10
            },
            "showarrow": false,
            "text": "7200",
            "x": 2,
            "xref": "x",
            "xshift": 10,
            "y": 440,
            "yref": "y"
           },
           {
            "font": {
             "color": "black",
             "size": 14
            },
            "showarrow": false,
            "text": "Minimize Cost: Current Cost = 4500",
            "x": 0.5,
            "xanchor": "center",
            "xref": "paper",
            "y": 1.15,
            "yref": "paper"
           }
          ]
         },
         "name": "140"
        },
        {
         "data": [
          {
           "marker": {
            "color": "red",
            "size": 10,
            "symbol": "x"
           },
           "mode": "markers",
           "name": "Actual Value",
           "type": "scatter",
           "x": {
            "bdata": "AAAAAAAA8D8AAAAAAAAAQA==",
            "dtype": "f8"
           },
           "y": {
            "bdata": "AAAAAADAckAAAAAAAEB/QA==",
            "dtype": "f8"
           }
          },
          {
           "line": {
            "color": "blue",
            "width": 2
           },
           "mode": "lines",
           "name": "Our Prediction",
           "type": "scatter",
           "x": {
            "bdata": "AAAAAAAA8D8AAAAAAAAAQA==",
            "dtype": "f8"
           },
           "y": {
            "bdata": "AAAAAABAb0AAAAAAAAB5QA==",
            "dtype": "f8"
           }
          },
          {
           "line": {
            "color": "purple",
            "dash": "dot",
            "width": 2
           },
           "mode": "lines",
           "name": "Cost Lines",
           "showlegend": false,
           "type": "scatter",
           "x": [
            1,
            1,
            null,
            2,
            2,
            null
           ],
           "y": [
            300,
            250,
            null,
            500,
            400,
            null
           ]
          },
          {
           "line": {
            "color": "blue",
            "width": 2
           },
           "mode": "lines",
           "name": "Cost vs w",
           "showlegend": false,
           "type": "scatter",
           "x": {
            "bdata": "AAAFAAoADwAUABkAHgAjACgALQAyADcAPABBAEYASwBQAFUAWgBfAGQAaQBuAHMAeAB9AIIAhwCMAJEAlgCbAKAApQCqAK8AtAC5AL4AwwDIAM0A0gDXANwA4QDmAOsA8AD1APoA/wAEAQkBDgETARgBHQEiAScBLAExATYBOwFAAUUBSgFPAVQBWQFeAWMBaAFtAXIBdwF8AYEBhgGLAQ==",
            "dtype": "i2"
           },
           "y": {
            "bdata": "UMMAAKu5AABFsAAAHacAADSeAACJlQAAHY0AAO+EAAAAfQAAT3UAAN1tAACpZgAAtF8AAP1YAACFUgAAS0wAAFBGAACTQAAAFTsAANU1AADUMAAAESwAAI0nAABHIwAAQB8AAHcbAADtFwAAoRQAAJQRAADFDgAANQwAAOMJAADQBwAA+wUAAGUEAAANAwAA9AEAABkBAAB9AAAAHwAAAAAAAAAfAAAAfQAAABkBAAD0AQAADQMAAGUEAAD7BQAA0AcAAOMJAAA1DAAAxQ4AAJQRAAChFAAA7RcAAHcbAABAHwAARyMAAI0nAAARLAAA1DAAANU1AAAVOwAAk0AAAFBGAABLTAAAhVIAAP1YAAC0XwAAqWYAAN1tAABPdQAAAH0AAO+EAAAdjQAAiZUAADSeAAAdpwAARbAAAKu5AAA=",
            "dtype": "i4"
           }
          },
          {
           "marker": {
            "color": "darkred",
            "size": 12
           },
           "mode": "markers",
           "name": "cost at w=150",
           "showlegend": false,
           "type": "scatter",
           "x": [
            150
           ],
           "y": [
            3125
           ]
          },
          {
           "line": {
            "color": "purple",
            "dash": "dot",
            "width": 3
           },
           "mode": "lines",
           "showlegend": false,
           "type": "scatter",
           "x": [
            150,
            150
           ],
           "y": [
            0,
            3125
           ]
          },
          {
           "line": {
            "color": "purple",
            "dash": "dot",
            "width": 3
           },
           "mode": "lines",
           "showlegend": false,
           "type": "scatter",
           "x": [
            0,
            150
           ],
           "y": [
            3125,
            3125
           ]
          }
         ],
         "layout": {
          "annotations": [
           {
            "font": {
             "color": "purple",
             "size": 10
            },
            "showarrow": false,
            "text": "1250",
            "x": 1,
            "xref": "x",
            "xshift": 10,
            "y": 275,
            "yref": "y"
           },
           {
            "font": {
             "color": "purple",
             "size": 10
            },
            "showarrow": false,
            "text": "5000",
            "x": 2,
            "xref": "x",
            "xshift": 10,
            "y": 450,
            "yref": "y"
           },
           {
            "font": {
             "color": "black",
             "size": 14
            },
            "showarrow": false,
            "text": "Minimize Cost: Current Cost = 3125",
            "x": 0.5,
            "xanchor": "center",
            "xref": "paper",
            "y": 1.15,
            "yref": "paper"
           }
          ]
         },
         "name": "150"
        },
        {
         "data": [
          {
           "marker": {
            "color": "red",
            "size": 10,
            "symbol": "x"
           },
           "mode": "markers",
           "name": "Actual Value",
           "type": "scatter",
           "x": {
            "bdata": "AAAAAAAA8D8AAAAAAAAAQA==",
            "dtype": "f8"
           },
           "y": {
            "bdata": "AAAAAADAckAAAAAAAEB/QA==",
            "dtype": "f8"
           }
          },
          {
           "line": {
            "color": "blue",
            "width": 2
           },
           "mode": "lines",
           "name": "Our Prediction",
           "type": "scatter",
           "x": {
            "bdata": "AAAAAAAA8D8AAAAAAAAAQA==",
            "dtype": "f8"
           },
           "y": {
            "bdata": "AAAAAABAcEAAAAAAAEB6QA==",
            "dtype": "f8"
           }
          },
          {
           "line": {
            "color": "purple",
            "dash": "dot",
            "width": 2
           },
           "mode": "lines",
           "name": "Cost Lines",
           "showlegend": false,
           "type": "scatter",
           "x": [
            1,
            1,
            null,
            2,
            2,
            null
           ],
           "y": [
            300,
            260,
            null,
            500,
            420,
            null
           ]
          },
          {
           "line": {
            "color": "blue",
            "width": 2
           },
           "mode": "lines",
           "name": "Cost vs w",
           "showlegend": false,
           "type": "scatter",
           "x": {
            "bdata": "AAAFAAoADwAUABkAHgAjACgALQAyADcAPABBAEYASwBQAFUAWgBfAGQAaQBuAHMAeAB9AIIAhwCMAJEAlgCbAKAApQCqAK8AtAC5AL4AwwDIAM0A0gDXANwA4QDmAOsA8AD1APoA/wAEAQkBDgETARgBHQEiAScBLAExATYBOwFAAUUBSgFPAVQBWQFeAWMBaAFtAXIBdwF8AYEBhgGLAQ==",
            "dtype": "i2"
           },
           "y": {
            "bdata": "UMMAAKu5AABFsAAAHacAADSeAACJlQAAHY0AAO+EAAAAfQAAT3UAAN1tAACpZgAAtF8AAP1YAACFUgAAS0wAAFBGAACTQAAAFTsAANU1AADUMAAAESwAAI0nAABHIwAAQB8AAHcbAADtFwAAoRQAAJQRAADFDgAANQwAAOMJAADQBwAA+wUAAGUEAAANAwAA9AEAABkBAAB9AAAAHwAAAAAAAAAfAAAAfQAAABkBAAD0AQAADQMAAGUEAAD7BQAA0AcAAOMJAAA1DAAAxQ4AAJQRAAChFAAA7RcAAHcbAABAHwAARyMAAI0nAAARLAAA1DAAANU1AAAVOwAAk0AAAFBGAABLTAAAhVIAAP1YAAC0XwAAqWYAAN1tAABPdQAAAH0AAO+EAAAdjQAAiZUAADSeAAAdpwAARbAAAKu5AAA=",
            "dtype": "i4"
           }
          },
          {
           "marker": {
            "color": "darkred",
            "size": 12
           },
           "mode": "markers",
           "name": "cost at w=160",
           "showlegend": false,
           "type": "scatter",
           "x": [
            160
           ],
           "y": [
            2000
           ]
          },
          {
           "line": {
            "color": "purple",
            "dash": "dot",
            "width": 3
           },
           "mode": "lines",
           "showlegend": false,
           "type": "scatter",
           "x": [
            160,
            160
           ],
           "y": [
            0,
            2000
           ]
          },
          {
           "line": {
            "color": "purple",
            "dash": "dot",
            "width": 3
           },
           "mode": "lines",
           "showlegend": false,
           "type": "scatter",
           "x": [
            0,
            160
           ],
           "y": [
            2000,
            2000
           ]
          }
         ],
         "layout": {
          "annotations": [
           {
            "font": {
             "color": "purple",
             "size": 10
            },
            "showarrow": false,
            "text": "800",
            "x": 1,
            "xref": "x",
            "xshift": 10,
            "y": 280,
            "yref": "y"
           },
           {
            "font": {
             "color": "purple",
             "size": 10
            },
            "showarrow": false,
            "text": "3200",
            "x": 2,
            "xref": "x",
            "xshift": 10,
            "y": 460,
            "yref": "y"
           },
           {
            "font": {
             "color": "black",
             "size": 14
            },
            "showarrow": false,
            "text": "Minimize Cost: Current Cost = 2000",
            "x": 0.5,
            "xanchor": "center",
            "xref": "paper",
            "y": 1.15,
            "yref": "paper"
           }
          ]
         },
         "name": "160"
        },
        {
         "data": [
          {
           "marker": {
            "color": "red",
            "size": 10,
            "symbol": "x"
           },
           "mode": "markers",
           "name": "Actual Value",
           "type": "scatter",
           "x": {
            "bdata": "AAAAAAAA8D8AAAAAAAAAQA==",
            "dtype": "f8"
           },
           "y": {
            "bdata": "AAAAAADAckAAAAAAAEB/QA==",
            "dtype": "f8"
           }
          },
          {
           "line": {
            "color": "blue",
            "width": 2
           },
           "mode": "lines",
           "name": "Our Prediction",
           "type": "scatter",
           "x": {
            "bdata": "AAAAAAAA8D8AAAAAAAAAQA==",
            "dtype": "f8"
           },
           "y": {
            "bdata": "AAAAAADgcEAAAAAAAIB7QA==",
            "dtype": "f8"
           }
          },
          {
           "line": {
            "color": "purple",
            "dash": "dot",
            "width": 2
           },
           "mode": "lines",
           "name": "Cost Lines",
           "showlegend": false,
           "type": "scatter",
           "x": [
            1,
            1,
            null,
            2,
            2,
            null
           ],
           "y": [
            300,
            270,
            null,
            500,
            440,
            null
           ]
          },
          {
           "line": {
            "color": "blue",
            "width": 2
           },
           "mode": "lines",
           "name": "Cost vs w",
           "showlegend": false,
           "type": "scatter",
           "x": {
            "bdata": "AAAFAAoADwAUABkAHgAjACgALQAyADcAPABBAEYASwBQAFUAWgBfAGQAaQBuAHMAeAB9AIIAhwCMAJEAlgCbAKAApQCqAK8AtAC5AL4AwwDIAM0A0gDXANwA4QDmAOsA8AD1APoA/wAEAQkBDgETARgBHQEiAScBLAExATYBOwFAAUUBSgFPAVQBWQFeAWMBaAFtAXIBdwF8AYEBhgGLAQ==",
            "dtype": "i2"
           },
           "y": {
            "bdata": "UMMAAKu5AABFsAAAHacAADSeAACJlQAAHY0AAO+EAAAAfQAAT3UAAN1tAACpZgAAtF8AAP1YAACFUgAAS0wAAFBGAACTQAAAFTsAANU1AADUMAAAESwAAI0nAABHIwAAQB8AAHcbAADtFwAAoRQAAJQRAADFDgAANQwAAOMJAADQBwAA+wUAAGUEAAANAwAA9AEAABkBAAB9AAAAHwAAAAAAAAAfAAAAfQAAABkBAAD0AQAADQMAAGUEAAD7BQAA0AcAAOMJAAA1DAAAxQ4AAJQRAAChFAAA7RcAAHcbAABAHwAARyMAAI0nAAARLAAA1DAAANU1AAAVOwAAk0AAAFBGAABLTAAAhVIAAP1YAAC0XwAAqWYAAN1tAABPdQAAAH0AAO+EAAAdjQAAiZUAADSeAAAdpwAARbAAAKu5AAA=",
            "dtype": "i4"
           }
          },
          {
           "marker": {
            "color": "darkred",
            "size": 12
           },
           "mode": "markers",
           "name": "cost at w=170",
           "showlegend": false,
           "type": "scatter",
           "x": [
            170
           ],
           "y": [
            1125
           ]
          },
          {
           "line": {
            "color": "purple",
            "dash": "dot",
            "width": 3
           },
           "mode": "lines",
           "showlegend": false,
           "type": "scatter",
           "x": [
            170,
            170
           ],
           "y": [
            0,
            1125
           ]
          },
          {
           "line": {
            "color": "purple",
            "dash": "dot",
            "width": 3
           },
           "mode": "lines",
           "showlegend": false,
           "type": "scatter",
           "x": [
            0,
            170
           ],
           "y": [
            1125,
            1125
           ]
          }
         ],
         "layout": {
          "annotations": [
           {
            "font": {
             "color": "purple",
             "size": 10
            },
            "showarrow": false,
            "text": "450",
            "x": 1,
            "xref": "x",
            "xshift": 10,
            "y": 285,
            "yref": "y"
           },
           {
            "font": {
             "color": "purple",
             "size": 10
            },
            "showarrow": false,
            "text": "1800",
            "x": 2,
            "xref": "x",
            "xshift": 10,
            "y": 470,
            "yref": "y"
           },
           {
            "font": {
             "color": "black",
             "size": 14
            },
            "showarrow": false,
            "text": "Minimize Cost: Current Cost = 1125",
            "x": 0.5,
            "xanchor": "center",
            "xref": "paper",
            "y": 1.15,
            "yref": "paper"
           }
          ]
         },
         "name": "170"
        },
        {
         "data": [
          {
           "marker": {
            "color": "red",
            "size": 10,
            "symbol": "x"
           },
           "mode": "markers",
           "name": "Actual Value",
           "type": "scatter",
           "x": {
            "bdata": "AAAAAAAA8D8AAAAAAAAAQA==",
            "dtype": "f8"
           },
           "y": {
            "bdata": "AAAAAADAckAAAAAAAEB/QA==",
            "dtype": "f8"
           }
          },
          {
           "line": {
            "color": "blue",
            "width": 2
           },
           "mode": "lines",
           "name": "Our Prediction",
           "type": "scatter",
           "x": {
            "bdata": "AAAAAAAA8D8AAAAAAAAAQA==",
            "dtype": "f8"
           },
           "y": {
            "bdata": "AAAAAACAcUAAAAAAAMB8QA==",
            "dtype": "f8"
           }
          },
          {
           "line": {
            "color": "purple",
            "dash": "dot",
            "width": 2
           },
           "mode": "lines",
           "name": "Cost Lines",
           "showlegend": false,
           "type": "scatter",
           "x": [
            1,
            1,
            null,
            2,
            2,
            null
           ],
           "y": [
            300,
            280,
            null,
            500,
            460,
            null
           ]
          },
          {
           "line": {
            "color": "blue",
            "width": 2
           },
           "mode": "lines",
           "name": "Cost vs w",
           "showlegend": false,
           "type": "scatter",
           "x": {
            "bdata": "AAAFAAoADwAUABkAHgAjACgALQAyADcAPABBAEYASwBQAFUAWgBfAGQAaQBuAHMAeAB9AIIAhwCMAJEAlgCbAKAApQCqAK8AtAC5AL4AwwDIAM0A0gDXANwA4QDmAOsA8AD1APoA/wAEAQkBDgETARgBHQEiAScBLAExATYBOwFAAUUBSgFPAVQBWQFeAWMBaAFtAXIBdwF8AYEBhgGLAQ==",
            "dtype": "i2"
           },
           "y": {
            "bdata": "UMMAAKu5AABFsAAAHacAADSeAACJlQAAHY0AAO+EAAAAfQAAT3UAAN1tAACpZgAAtF8AAP1YAACFUgAAS0wAAFBGAACTQAAAFTsAANU1AADUMAAAESwAAI0nAABHIwAAQB8AAHcbAADtFwAAoRQAAJQRAADFDgAANQwAAOMJAADQBwAA+wUAAGUEAAANAwAA9AEAABkBAAB9AAAAHwAAAAAAAAAfAAAAfQAAABkBAAD0AQAADQMAAGUEAAD7BQAA0AcAAOMJAAA1DAAAxQ4AAJQRAAChFAAA7RcAAHcbAABAHwAARyMAAI0nAAARLAAA1DAAANU1AAAVOwAAk0AAAFBGAABLTAAAhVIAAP1YAAC0XwAAqWYAAN1tAABPdQAAAH0AAO+EAAAdjQAAiZUAADSeAAAdpwAARbAAAKu5AAA=",
            "dtype": "i4"
           }
          },
          {
           "marker": {
            "color": "darkred",
            "size": 12
           },
           "mode": "markers",
           "name": "cost at w=180",
           "showlegend": false,
           "type": "scatter",
           "x": [
            180
           ],
           "y": [
            500
           ]
          },
          {
           "line": {
            "color": "purple",
            "dash": "dot",
            "width": 3
           },
           "mode": "lines",
           "showlegend": false,
           "type": "scatter",
           "x": [
            180,
            180
           ],
           "y": [
            0,
            500
           ]
          },
          {
           "line": {
            "color": "purple",
            "dash": "dot",
            "width": 3
           },
           "mode": "lines",
           "showlegend": false,
           "type": "scatter",
           "x": [
            0,
            180
           ],
           "y": [
            500,
            500
           ]
          }
         ],
         "layout": {
          "annotations": [
           {
            "font": {
             "color": "purple",
             "size": 10
            },
            "showarrow": false,
            "text": "200",
            "x": 1,
            "xref": "x",
            "xshift": 10,
            "y": 290,
            "yref": "y"
           },
           {
            "font": {
             "color": "purple",
             "size": 10
            },
            "showarrow": false,
            "text": "800",
            "x": 2,
            "xref": "x",
            "xshift": 10,
            "y": 480,
            "yref": "y"
           },
           {
            "font": {
             "color": "black",
             "size": 14
            },
            "showarrow": false,
            "text": "Minimize Cost: Current Cost = 500",
            "x": 0.5,
            "xanchor": "center",
            "xref": "paper",
            "y": 1.15,
            "yref": "paper"
           }
          ]
         },
         "name": "180"
        },
        {
         "data": [
          {
           "marker": {
            "color": "red",
            "size": 10,
            "symbol": "x"
           },
           "mode": "markers",
           "name": "Actual Value",
           "type": "scatter",
           "x": {
            "bdata": "AAAAAAAA8D8AAAAAAAAAQA==",
            "dtype": "f8"
           },
           "y": {
            "bdata": "AAAAAADAckAAAAAAAEB/QA==",
            "dtype": "f8"
           }
          },
          {
           "line": {
            "color": "blue",
            "width": 2
           },
           "mode": "lines",
           "name": "Our Prediction",
           "type": "scatter",
           "x": {
            "bdata": "AAAAAAAA8D8AAAAAAAAAQA==",
            "dtype": "f8"
           },
           "y": {
            "bdata": "AAAAAAAgckAAAAAAAAB+QA==",
            "dtype": "f8"
           }
          },
          {
           "line": {
            "color": "purple",
            "dash": "dot",
            "width": 2
           },
           "mode": "lines",
           "name": "Cost Lines",
           "showlegend": false,
           "type": "scatter",
           "x": [
            1,
            1,
            null,
            2,
            2,
            null
           ],
           "y": [
            300,
            290,
            null,
            500,
            480,
            null
           ]
          },
          {
           "line": {
            "color": "blue",
            "width": 2
           },
           "mode": "lines",
           "name": "Cost vs w",
           "showlegend": false,
           "type": "scatter",
           "x": {
            "bdata": "AAAFAAoADwAUABkAHgAjACgALQAyADcAPABBAEYASwBQAFUAWgBfAGQAaQBuAHMAeAB9AIIAhwCMAJEAlgCbAKAApQCqAK8AtAC5AL4AwwDIAM0A0gDXANwA4QDmAOsA8AD1APoA/wAEAQkBDgETARgBHQEiAScBLAExATYBOwFAAUUBSgFPAVQBWQFeAWMBaAFtAXIBdwF8AYEBhgGLAQ==",
            "dtype": "i2"
           },
           "y": {
            "bdata": "UMMAAKu5AABFsAAAHacAADSeAACJlQAAHY0AAO+EAAAAfQAAT3UAAN1tAACpZgAAtF8AAP1YAACFUgAAS0wAAFBGAACTQAAAFTsAANU1AADUMAAAESwAAI0nAABHIwAAQB8AAHcbAADtFwAAoRQAAJQRAADFDgAANQwAAOMJAADQBwAA+wUAAGUEAAANAwAA9AEAABkBAAB9AAAAHwAAAAAAAAAfAAAAfQAAABkBAAD0AQAADQMAAGUEAAD7BQAA0AcAAOMJAAA1DAAAxQ4AAJQRAAChFAAA7RcAAHcbAABAHwAARyMAAI0nAAARLAAA1DAAANU1AAAVOwAAk0AAAFBGAABLTAAAhVIAAP1YAAC0XwAAqWYAAN1tAABPdQAAAH0AAO+EAAAdjQAAiZUAADSeAAAdpwAARbAAAKu5AAA=",
            "dtype": "i4"
           }
          },
          {
           "marker": {
            "color": "darkred",
            "size": 12
           },
           "mode": "markers",
           "name": "cost at w=190",
           "showlegend": false,
           "type": "scatter",
           "x": [
            190
           ],
           "y": [
            125
           ]
          },
          {
           "line": {
            "color": "purple",
            "dash": "dot",
            "width": 3
           },
           "mode": "lines",
           "showlegend": false,
           "type": "scatter",
           "x": [
            190,
            190
           ],
           "y": [
            0,
            125
           ]
          },
          {
           "line": {
            "color": "purple",
            "dash": "dot",
            "width": 3
           },
           "mode": "lines",
           "showlegend": false,
           "type": "scatter",
           "x": [
            0,
            190
           ],
           "y": [
            125,
            125
           ]
          }
         ],
         "layout": {
          "annotations": [
           {
            "font": {
             "color": "purple",
             "size": 10
            },
            "showarrow": false,
            "text": "50",
            "x": 1,
            "xref": "x",
            "xshift": 10,
            "y": 295,
            "yref": "y"
           },
           {
            "font": {
             "color": "purple",
             "size": 10
            },
            "showarrow": false,
            "text": "200",
            "x": 2,
            "xref": "x",
            "xshift": 10,
            "y": 490,
            "yref": "y"
           },
           {
            "font": {
             "color": "black",
             "size": 14
            },
            "showarrow": false,
            "text": "Minimize Cost: Current Cost = 125",
            "x": 0.5,
            "xanchor": "center",
            "xref": "paper",
            "y": 1.15,
            "yref": "paper"
           }
          ]
         },
         "name": "190"
        },
        {
         "data": [
          {
           "marker": {
            "color": "red",
            "size": 10,
            "symbol": "x"
           },
           "mode": "markers",
           "name": "Actual Value",
           "type": "scatter",
           "x": {
            "bdata": "AAAAAAAA8D8AAAAAAAAAQA==",
            "dtype": "f8"
           },
           "y": {
            "bdata": "AAAAAADAckAAAAAAAEB/QA==",
            "dtype": "f8"
           }
          },
          {
           "line": {
            "color": "blue",
            "width": 2
           },
           "mode": "lines",
           "name": "Our Prediction",
           "type": "scatter",
           "x": {
            "bdata": "AAAAAAAA8D8AAAAAAAAAQA==",
            "dtype": "f8"
           },
           "y": {
            "bdata": "AAAAAADAckAAAAAAAEB/QA==",
            "dtype": "f8"
           }
          },
          {
           "line": {
            "color": "purple",
            "dash": "dot",
            "width": 2
           },
           "mode": "lines",
           "name": "Cost Lines",
           "showlegend": false,
           "type": "scatter",
           "x": [
            1,
            1,
            null,
            2,
            2,
            null
           ],
           "y": [
            300,
            300,
            null,
            500,
            500,
            null
           ]
          },
          {
           "line": {
            "color": "blue",
            "width": 2
           },
           "mode": "lines",
           "name": "Cost vs w",
           "showlegend": false,
           "type": "scatter",
           "x": {
            "bdata": "AAAFAAoADwAUABkAHgAjACgALQAyADcAPABBAEYASwBQAFUAWgBfAGQAaQBuAHMAeAB9AIIAhwCMAJEAlgCbAKAApQCqAK8AtAC5AL4AwwDIAM0A0gDXANwA4QDmAOsA8AD1APoA/wAEAQkBDgETARgBHQEiAScBLAExATYBOwFAAUUBSgFPAVQBWQFeAWMBaAFtAXIBdwF8AYEBhgGLAQ==",
            "dtype": "i2"
           },
           "y": {
            "bdata": "UMMAAKu5AABFsAAAHacAADSeAACJlQAAHY0AAO+EAAAAfQAAT3UAAN1tAACpZgAAtF8AAP1YAACFUgAAS0wAAFBGAACTQAAAFTsAANU1AADUMAAAESwAAI0nAABHIwAAQB8AAHcbAADtFwAAoRQAAJQRAADFDgAANQwAAOMJAADQBwAA+wUAAGUEAAANAwAA9AEAABkBAAB9AAAAHwAAAAAAAAAfAAAAfQAAABkBAAD0AQAADQMAAGUEAAD7BQAA0AcAAOMJAAA1DAAAxQ4AAJQRAAChFAAA7RcAAHcbAABAHwAARyMAAI0nAAARLAAA1DAAANU1AAAVOwAAk0AAAFBGAABLTAAAhVIAAP1YAAC0XwAAqWYAAN1tAABPdQAAAH0AAO+EAAAdjQAAiZUAADSeAAAdpwAARbAAAKu5AAA=",
            "dtype": "i4"
           }
          },
          {
           "marker": {
            "color": "darkred",
            "size": 12
           },
           "mode": "markers",
           "name": "cost at w=200",
           "showlegend": false,
           "type": "scatter",
           "x": [
            200
           ],
           "y": [
            0
           ]
          },
          {
           "line": {
            "color": "purple",
            "dash": "dot",
            "width": 3
           },
           "mode": "lines",
           "showlegend": false,
           "type": "scatter",
           "x": [
            200,
            200
           ],
           "y": [
            0,
            0
           ]
          },
          {
           "line": {
            "color": "purple",
            "dash": "dot",
            "width": 3
           },
           "mode": "lines",
           "showlegend": false,
           "type": "scatter",
           "x": [
            0,
            200
           ],
           "y": [
            0,
            0
           ]
          }
         ],
         "layout": {
          "annotations": [
           {
            "font": {
             "color": "purple",
             "size": 10
            },
            "showarrow": false,
            "text": "0",
            "x": 1,
            "xref": "x",
            "xshift": 10,
            "y": 300,
            "yref": "y"
           },
           {
            "font": {
             "color": "purple",
             "size": 10
            },
            "showarrow": false,
            "text": "0",
            "x": 2,
            "xref": "x",
            "xshift": 10,
            "y": 500,
            "yref": "y"
           },
           {
            "font": {
             "color": "black",
             "size": 14
            },
            "showarrow": false,
            "text": "Minimize Cost: Current Cost = 0",
            "x": 0.5,
            "xanchor": "center",
            "xref": "paper",
            "y": 1.15,
            "yref": "paper"
           }
          ]
         },
         "name": "200"
        },
        {
         "data": [
          {
           "marker": {
            "color": "red",
            "size": 10,
            "symbol": "x"
           },
           "mode": "markers",
           "name": "Actual Value",
           "type": "scatter",
           "x": {
            "bdata": "AAAAAAAA8D8AAAAAAAAAQA==",
            "dtype": "f8"
           },
           "y": {
            "bdata": "AAAAAADAckAAAAAAAEB/QA==",
            "dtype": "f8"
           }
          },
          {
           "line": {
            "color": "blue",
            "width": 2
           },
           "mode": "lines",
           "name": "Our Prediction",
           "type": "scatter",
           "x": {
            "bdata": "AAAAAAAA8D8AAAAAAAAAQA==",
            "dtype": "f8"
           },
           "y": {
            "bdata": "AAAAAABgc0AAAAAAAECAQA==",
            "dtype": "f8"
           }
          },
          {
           "line": {
            "color": "purple",
            "dash": "dot",
            "width": 2
           },
           "mode": "lines",
           "name": "Cost Lines",
           "showlegend": false,
           "type": "scatter",
           "x": [
            1,
            1,
            null,
            2,
            2,
            null
           ],
           "y": [
            300,
            310,
            null,
            500,
            520,
            null
           ]
          },
          {
           "line": {
            "color": "blue",
            "width": 2
           },
           "mode": "lines",
           "name": "Cost vs w",
           "showlegend": false,
           "type": "scatter",
           "x": {
            "bdata": "AAAFAAoADwAUABkAHgAjACgALQAyADcAPABBAEYASwBQAFUAWgBfAGQAaQBuAHMAeAB9AIIAhwCMAJEAlgCbAKAApQCqAK8AtAC5AL4AwwDIAM0A0gDXANwA4QDmAOsA8AD1APoA/wAEAQkBDgETARgBHQEiAScBLAExATYBOwFAAUUBSgFPAVQBWQFeAWMBaAFtAXIBdwF8AYEBhgGLAQ==",
            "dtype": "i2"
           },
           "y": {
            "bdata": "UMMAAKu5AABFsAAAHacAADSeAACJlQAAHY0AAO+EAAAAfQAAT3UAAN1tAACpZgAAtF8AAP1YAACFUgAAS0wAAFBGAACTQAAAFTsAANU1AADUMAAAESwAAI0nAABHIwAAQB8AAHcbAADtFwAAoRQAAJQRAADFDgAANQwAAOMJAADQBwAA+wUAAGUEAAANAwAA9AEAABkBAAB9AAAAHwAAAAAAAAAfAAAAfQAAABkBAAD0AQAADQMAAGUEAAD7BQAA0AcAAOMJAAA1DAAAxQ4AAJQRAAChFAAA7RcAAHcbAABAHwAARyMAAI0nAAARLAAA1DAAANU1AAAVOwAAk0AAAFBGAABLTAAAhVIAAP1YAAC0XwAAqWYAAN1tAABPdQAAAH0AAO+EAAAdjQAAiZUAADSeAAAdpwAARbAAAKu5AAA=",
            "dtype": "i4"
           }
          },
          {
           "marker": {
            "color": "darkred",
            "size": 12
           },
           "mode": "markers",
           "name": "cost at w=210",
           "showlegend": false,
           "type": "scatter",
           "x": [
            210
           ],
           "y": [
            125
           ]
          },
          {
           "line": {
            "color": "purple",
            "dash": "dot",
            "width": 3
           },
           "mode": "lines",
           "showlegend": false,
           "type": "scatter",
           "x": [
            210,
            210
           ],
           "y": [
            0,
            125
           ]
          },
          {
           "line": {
            "color": "purple",
            "dash": "dot",
            "width": 3
           },
           "mode": "lines",
           "showlegend": false,
           "type": "scatter",
           "x": [
            0,
            210
           ],
           "y": [
            125,
            125
           ]
          }
         ],
         "layout": {
          "annotations": [
           {
            "font": {
             "color": "purple",
             "size": 10
            },
            "showarrow": false,
            "text": "50",
            "x": 1,
            "xref": "x",
            "xshift": 10,
            "y": 305,
            "yref": "y"
           },
           {
            "font": {
             "color": "purple",
             "size": 10
            },
            "showarrow": false,
            "text": "200",
            "x": 2,
            "xref": "x",
            "xshift": 10,
            "y": 510,
            "yref": "y"
           },
           {
            "font": {
             "color": "black",
             "size": 14
            },
            "showarrow": false,
            "text": "Minimize Cost: Current Cost = 125",
            "x": 0.5,
            "xanchor": "center",
            "xref": "paper",
            "y": 1.15,
            "yref": "paper"
           }
          ]
         },
         "name": "210"
        },
        {
         "data": [
          {
           "marker": {
            "color": "red",
            "size": 10,
            "symbol": "x"
           },
           "mode": "markers",
           "name": "Actual Value",
           "type": "scatter",
           "x": {
            "bdata": "AAAAAAAA8D8AAAAAAAAAQA==",
            "dtype": "f8"
           },
           "y": {
            "bdata": "AAAAAADAckAAAAAAAEB/QA==",
            "dtype": "f8"
           }
          },
          {
           "line": {
            "color": "blue",
            "width": 2
           },
           "mode": "lines",
           "name": "Our Prediction",
           "type": "scatter",
           "x": {
            "bdata": "AAAAAAAA8D8AAAAAAAAAQA==",
            "dtype": "f8"
           },
           "y": {
            "bdata": "AAAAAAAAdEAAAAAAAOCAQA==",
            "dtype": "f8"
           }
          },
          {
           "line": {
            "color": "purple",
            "dash": "dot",
            "width": 2
           },
           "mode": "lines",
           "name": "Cost Lines",
           "showlegend": false,
           "type": "scatter",
           "x": [
            1,
            1,
            null,
            2,
            2,
            null
           ],
           "y": [
            300,
            320,
            null,
            500,
            540,
            null
           ]
          },
          {
           "line": {
            "color": "blue",
            "width": 2
           },
           "mode": "lines",
           "name": "Cost vs w",
           "showlegend": false,
           "type": "scatter",
           "x": {
            "bdata": "AAAFAAoADwAUABkAHgAjACgALQAyADcAPABBAEYASwBQAFUAWgBfAGQAaQBuAHMAeAB9AIIAhwCMAJEAlgCbAKAApQCqAK8AtAC5AL4AwwDIAM0A0gDXANwA4QDmAOsA8AD1APoA/wAEAQkBDgETARgBHQEiAScBLAExATYBOwFAAUUBSgFPAVQBWQFeAWMBaAFtAXIBdwF8AYEBhgGLAQ==",
            "dtype": "i2"
           },
           "y": {
            "bdata": "UMMAAKu5AABFsAAAHacAADSeAACJlQAAHY0AAO+EAAAAfQAAT3UAAN1tAACpZgAAtF8AAP1YAACFUgAAS0wAAFBGAACTQAAAFTsAANU1AADUMAAAESwAAI0nAABHIwAAQB8AAHcbAADtFwAAoRQAAJQRAADFDgAANQwAAOMJAADQBwAA+wUAAGUEAAANAwAA9AEAABkBAAB9AAAAHwAAAAAAAAAfAAAAfQAAABkBAAD0AQAADQMAAGUEAAD7BQAA0AcAAOMJAAA1DAAAxQ4AAJQRAAChFAAA7RcAAHcbAABAHwAARyMAAI0nAAARLAAA1DAAANU1AAAVOwAAk0AAAFBGAABLTAAAhVIAAP1YAAC0XwAAqWYAAN1tAABPdQAAAH0AAO+EAAAdjQAAiZUAADSeAAAdpwAARbAAAKu5AAA=",
            "dtype": "i4"
           }
          },
          {
           "marker": {
            "color": "darkred",
            "size": 12
           },
           "mode": "markers",
           "name": "cost at w=220",
           "showlegend": false,
           "type": "scatter",
           "x": [
            220
           ],
           "y": [
            500
           ]
          },
          {
           "line": {
            "color": "purple",
            "dash": "dot",
            "width": 3
           },
           "mode": "lines",
           "showlegend": false,
           "type": "scatter",
           "x": [
            220,
            220
           ],
           "y": [
            0,
            500
           ]
          },
          {
           "line": {
            "color": "purple",
            "dash": "dot",
            "width": 3
           },
           "mode": "lines",
           "showlegend": false,
           "type": "scatter",
           "x": [
            0,
            220
           ],
           "y": [
            500,
            500
           ]
          }
         ],
         "layout": {
          "annotations": [
           {
            "font": {
             "color": "purple",
             "size": 10
            },
            "showarrow": false,
            "text": "200",
            "x": 1,
            "xref": "x",
            "xshift": 10,
            "y": 310,
            "yref": "y"
           },
           {
            "font": {
             "color": "purple",
             "size": 10
            },
            "showarrow": false,
            "text": "800",
            "x": 2,
            "xref": "x",
            "xshift": 10,
            "y": 520,
            "yref": "y"
           },
           {
            "font": {
             "color": "black",
             "size": 14
            },
            "showarrow": false,
            "text": "Minimize Cost: Current Cost = 500",
            "x": 0.5,
            "xanchor": "center",
            "xref": "paper",
            "y": 1.15,
            "yref": "paper"
           }
          ]
         },
         "name": "220"
        },
        {
         "data": [
          {
           "marker": {
            "color": "red",
            "size": 10,
            "symbol": "x"
           },
           "mode": "markers",
           "name": "Actual Value",
           "type": "scatter",
           "x": {
            "bdata": "AAAAAAAA8D8AAAAAAAAAQA==",
            "dtype": "f8"
           },
           "y": {
            "bdata": "AAAAAADAckAAAAAAAEB/QA==",
            "dtype": "f8"
           }
          },
          {
           "line": {
            "color": "blue",
            "width": 2
           },
           "mode": "lines",
           "name": "Our Prediction",
           "type": "scatter",
           "x": {
            "bdata": "AAAAAAAA8D8AAAAAAAAAQA==",
            "dtype": "f8"
           },
           "y": {
            "bdata": "AAAAAACgdEAAAAAAAICBQA==",
            "dtype": "f8"
           }
          },
          {
           "line": {
            "color": "purple",
            "dash": "dot",
            "width": 2
           },
           "mode": "lines",
           "name": "Cost Lines",
           "showlegend": false,
           "type": "scatter",
           "x": [
            1,
            1,
            null,
            2,
            2,
            null
           ],
           "y": [
            300,
            330,
            null,
            500,
            560,
            null
           ]
          },
          {
           "line": {
            "color": "blue",
            "width": 2
           },
           "mode": "lines",
           "name": "Cost vs w",
           "showlegend": false,
           "type": "scatter",
           "x": {
            "bdata": "AAAFAAoADwAUABkAHgAjACgALQAyADcAPABBAEYASwBQAFUAWgBfAGQAaQBuAHMAeAB9AIIAhwCMAJEAlgCbAKAApQCqAK8AtAC5AL4AwwDIAM0A0gDXANwA4QDmAOsA8AD1APoA/wAEAQkBDgETARgBHQEiAScBLAExATYBOwFAAUUBSgFPAVQBWQFeAWMBaAFtAXIBdwF8AYEBhgGLAQ==",
            "dtype": "i2"
           },
           "y": {
            "bdata": "UMMAAKu5AABFsAAAHacAADSeAACJlQAAHY0AAO+EAAAAfQAAT3UAAN1tAACpZgAAtF8AAP1YAACFUgAAS0wAAFBGAACTQAAAFTsAANU1AADUMAAAESwAAI0nAABHIwAAQB8AAHcbAADtFwAAoRQAAJQRAADFDgAANQwAAOMJAADQBwAA+wUAAGUEAAANAwAA9AEAABkBAAB9AAAAHwAAAAAAAAAfAAAAfQAAABkBAAD0AQAADQMAAGUEAAD7BQAA0AcAAOMJAAA1DAAAxQ4AAJQRAAChFAAA7RcAAHcbAABAHwAARyMAAI0nAAARLAAA1DAAANU1AAAVOwAAk0AAAFBGAABLTAAAhVIAAP1YAAC0XwAAqWYAAN1tAABPdQAAAH0AAO+EAAAdjQAAiZUAADSeAAAdpwAARbAAAKu5AAA=",
            "dtype": "i4"
           }
          },
          {
           "marker": {
            "color": "darkred",
            "size": 12
           },
           "mode": "markers",
           "name": "cost at w=230",
           "showlegend": false,
           "type": "scatter",
           "x": [
            230
           ],
           "y": [
            1125
           ]
          },
          {
           "line": {
            "color": "purple",
            "dash": "dot",
            "width": 3
           },
           "mode": "lines",
           "showlegend": false,
           "type": "scatter",
           "x": [
            230,
            230
           ],
           "y": [
            0,
            1125
           ]
          },
          {
           "line": {
            "color": "purple",
            "dash": "dot",
            "width": 3
           },
           "mode": "lines",
           "showlegend": false,
           "type": "scatter",
           "x": [
            0,
            230
           ],
           "y": [
            1125,
            1125
           ]
          }
         ],
         "layout": {
          "annotations": [
           {
            "font": {
             "color": "purple",
             "size": 10
            },
            "showarrow": false,
            "text": "450",
            "x": 1,
            "xref": "x",
            "xshift": 10,
            "y": 315,
            "yref": "y"
           },
           {
            "font": {
             "color": "purple",
             "size": 10
            },
            "showarrow": false,
            "text": "1800",
            "x": 2,
            "xref": "x",
            "xshift": 10,
            "y": 530,
            "yref": "y"
           },
           {
            "font": {
             "color": "black",
             "size": 14
            },
            "showarrow": false,
            "text": "Minimize Cost: Current Cost = 1125",
            "x": 0.5,
            "xanchor": "center",
            "xref": "paper",
            "y": 1.15,
            "yref": "paper"
           }
          ]
         },
         "name": "230"
        },
        {
         "data": [
          {
           "marker": {
            "color": "red",
            "size": 10,
            "symbol": "x"
           },
           "mode": "markers",
           "name": "Actual Value",
           "type": "scatter",
           "x": {
            "bdata": "AAAAAAAA8D8AAAAAAAAAQA==",
            "dtype": "f8"
           },
           "y": {
            "bdata": "AAAAAADAckAAAAAAAEB/QA==",
            "dtype": "f8"
           }
          },
          {
           "line": {
            "color": "blue",
            "width": 2
           },
           "mode": "lines",
           "name": "Our Prediction",
           "type": "scatter",
           "x": {
            "bdata": "AAAAAAAA8D8AAAAAAAAAQA==",
            "dtype": "f8"
           },
           "y": {
            "bdata": "AAAAAABAdUAAAAAAACCCQA==",
            "dtype": "f8"
           }
          },
          {
           "line": {
            "color": "purple",
            "dash": "dot",
            "width": 2
           },
           "mode": "lines",
           "name": "Cost Lines",
           "showlegend": false,
           "type": "scatter",
           "x": [
            1,
            1,
            null,
            2,
            2,
            null
           ],
           "y": [
            300,
            340,
            null,
            500,
            580,
            null
           ]
          },
          {
           "line": {
            "color": "blue",
            "width": 2
           },
           "mode": "lines",
           "name": "Cost vs w",
           "showlegend": false,
           "type": "scatter",
           "x": {
            "bdata": "AAAFAAoADwAUABkAHgAjACgALQAyADcAPABBAEYASwBQAFUAWgBfAGQAaQBuAHMAeAB9AIIAhwCMAJEAlgCbAKAApQCqAK8AtAC5AL4AwwDIAM0A0gDXANwA4QDmAOsA8AD1APoA/wAEAQkBDgETARgBHQEiAScBLAExATYBOwFAAUUBSgFPAVQBWQFeAWMBaAFtAXIBdwF8AYEBhgGLAQ==",
            "dtype": "i2"
           },
           "y": {
            "bdata": "UMMAAKu5AABFsAAAHacAADSeAACJlQAAHY0AAO+EAAAAfQAAT3UAAN1tAACpZgAAtF8AAP1YAACFUgAAS0wAAFBGAACTQAAAFTsAANU1AADUMAAAESwAAI0nAABHIwAAQB8AAHcbAADtFwAAoRQAAJQRAADFDgAANQwAAOMJAADQBwAA+wUAAGUEAAANAwAA9AEAABkBAAB9AAAAHwAAAAAAAAAfAAAAfQAAABkBAAD0AQAADQMAAGUEAAD7BQAA0AcAAOMJAAA1DAAAxQ4AAJQRAAChFAAA7RcAAHcbAABAHwAARyMAAI0nAAARLAAA1DAAANU1AAAVOwAAk0AAAFBGAABLTAAAhVIAAP1YAAC0XwAAqWYAAN1tAABPdQAAAH0AAO+EAAAdjQAAiZUAADSeAAAdpwAARbAAAKu5AAA=",
            "dtype": "i4"
           }
          },
          {
           "marker": {
            "color": "darkred",
            "size": 12
           },
           "mode": "markers",
           "name": "cost at w=240",
           "showlegend": false,
           "type": "scatter",
           "x": [
            240
           ],
           "y": [
            2000
           ]
          },
          {
           "line": {
            "color": "purple",
            "dash": "dot",
            "width": 3
           },
           "mode": "lines",
           "showlegend": false,
           "type": "scatter",
           "x": [
            240,
            240
           ],
           "y": [
            0,
            2000
           ]
          },
          {
           "line": {
            "color": "purple",
            "dash": "dot",
            "width": 3
           },
           "mode": "lines",
           "showlegend": false,
           "type": "scatter",
           "x": [
            0,
            240
           ],
           "y": [
            2000,
            2000
           ]
          }
         ],
         "layout": {
          "annotations": [
           {
            "font": {
             "color": "purple",
             "size": 10
            },
            "showarrow": false,
            "text": "800",
            "x": 1,
            "xref": "x",
            "xshift": 10,
            "y": 320,
            "yref": "y"
           },
           {
            "font": {
             "color": "purple",
             "size": 10
            },
            "showarrow": false,
            "text": "3200",
            "x": 2,
            "xref": "x",
            "xshift": 10,
            "y": 540,
            "yref": "y"
           },
           {
            "font": {
             "color": "black",
             "size": 14
            },
            "showarrow": false,
            "text": "Minimize Cost: Current Cost = 2000",
            "x": 0.5,
            "xanchor": "center",
            "xref": "paper",
            "y": 1.15,
            "yref": "paper"
           }
          ]
         },
         "name": "240"
        },
        {
         "data": [
          {
           "marker": {
            "color": "red",
            "size": 10,
            "symbol": "x"
           },
           "mode": "markers",
           "name": "Actual Value",
           "type": "scatter",
           "x": {
            "bdata": "AAAAAAAA8D8AAAAAAAAAQA==",
            "dtype": "f8"
           },
           "y": {
            "bdata": "AAAAAADAckAAAAAAAEB/QA==",
            "dtype": "f8"
           }
          },
          {
           "line": {
            "color": "blue",
            "width": 2
           },
           "mode": "lines",
           "name": "Our Prediction",
           "type": "scatter",
           "x": {
            "bdata": "AAAAAAAA8D8AAAAAAAAAQA==",
            "dtype": "f8"
           },
           "y": {
            "bdata": "AAAAAADgdUAAAAAAAMCCQA==",
            "dtype": "f8"
           }
          },
          {
           "line": {
            "color": "purple",
            "dash": "dot",
            "width": 2
           },
           "mode": "lines",
           "name": "Cost Lines",
           "showlegend": false,
           "type": "scatter",
           "x": [
            1,
            1,
            null,
            2,
            2,
            null
           ],
           "y": [
            300,
            350,
            null,
            500,
            600,
            null
           ]
          },
          {
           "line": {
            "color": "blue",
            "width": 2
           },
           "mode": "lines",
           "name": "Cost vs w",
           "showlegend": false,
           "type": "scatter",
           "x": {
            "bdata": "AAAFAAoADwAUABkAHgAjACgALQAyADcAPABBAEYASwBQAFUAWgBfAGQAaQBuAHMAeAB9AIIAhwCMAJEAlgCbAKAApQCqAK8AtAC5AL4AwwDIAM0A0gDXANwA4QDmAOsA8AD1APoA/wAEAQkBDgETARgBHQEiAScBLAExATYBOwFAAUUBSgFPAVQBWQFeAWMBaAFtAXIBdwF8AYEBhgGLAQ==",
            "dtype": "i2"
           },
           "y": {
            "bdata": "UMMAAKu5AABFsAAAHacAADSeAACJlQAAHY0AAO+EAAAAfQAAT3UAAN1tAACpZgAAtF8AAP1YAACFUgAAS0wAAFBGAACTQAAAFTsAANU1AADUMAAAESwAAI0nAABHIwAAQB8AAHcbAADtFwAAoRQAAJQRAADFDgAANQwAAOMJAADQBwAA+wUAAGUEAAANAwAA9AEAABkBAAB9AAAAHwAAAAAAAAAfAAAAfQAAABkBAAD0AQAADQMAAGUEAAD7BQAA0AcAAOMJAAA1DAAAxQ4AAJQRAAChFAAA7RcAAHcbAABAHwAARyMAAI0nAAARLAAA1DAAANU1AAAVOwAAk0AAAFBGAABLTAAAhVIAAP1YAAC0XwAAqWYAAN1tAABPdQAAAH0AAO+EAAAdjQAAiZUAADSeAAAdpwAARbAAAKu5AAA=",
            "dtype": "i4"
           }
          },
          {
           "marker": {
            "color": "darkred",
            "size": 12
           },
           "mode": "markers",
           "name": "cost at w=250",
           "showlegend": false,
           "type": "scatter",
           "x": [
            250
           ],
           "y": [
            3125
           ]
          },
          {
           "line": {
            "color": "purple",
            "dash": "dot",
            "width": 3
           },
           "mode": "lines",
           "showlegend": false,
           "type": "scatter",
           "x": [
            250,
            250
           ],
           "y": [
            0,
            3125
           ]
          },
          {
           "line": {
            "color": "purple",
            "dash": "dot",
            "width": 3
           },
           "mode": "lines",
           "showlegend": false,
           "type": "scatter",
           "x": [
            0,
            250
           ],
           "y": [
            3125,
            3125
           ]
          }
         ],
         "layout": {
          "annotations": [
           {
            "font": {
             "color": "purple",
             "size": 10
            },
            "showarrow": false,
            "text": "1250",
            "x": 1,
            "xref": "x",
            "xshift": 10,
            "y": 325,
            "yref": "y"
           },
           {
            "font": {
             "color": "purple",
             "size": 10
            },
            "showarrow": false,
            "text": "5000",
            "x": 2,
            "xref": "x",
            "xshift": 10,
            "y": 550,
            "yref": "y"
           },
           {
            "font": {
             "color": "black",
             "size": 14
            },
            "showarrow": false,
            "text": "Minimize Cost: Current Cost = 3125",
            "x": 0.5,
            "xanchor": "center",
            "xref": "paper",
            "y": 1.15,
            "yref": "paper"
           }
          ]
         },
         "name": "250"
        },
        {
         "data": [
          {
           "marker": {
            "color": "red",
            "size": 10,
            "symbol": "x"
           },
           "mode": "markers",
           "name": "Actual Value",
           "type": "scatter",
           "x": {
            "bdata": "AAAAAAAA8D8AAAAAAAAAQA==",
            "dtype": "f8"
           },
           "y": {
            "bdata": "AAAAAADAckAAAAAAAEB/QA==",
            "dtype": "f8"
           }
          },
          {
           "line": {
            "color": "blue",
            "width": 2
           },
           "mode": "lines",
           "name": "Our Prediction",
           "type": "scatter",
           "x": {
            "bdata": "AAAAAAAA8D8AAAAAAAAAQA==",
            "dtype": "f8"
           },
           "y": {
            "bdata": "AAAAAACAdkAAAAAAAGCDQA==",
            "dtype": "f8"
           }
          },
          {
           "line": {
            "color": "purple",
            "dash": "dot",
            "width": 2
           },
           "mode": "lines",
           "name": "Cost Lines",
           "showlegend": false,
           "type": "scatter",
           "x": [
            1,
            1,
            null,
            2,
            2,
            null
           ],
           "y": [
            300,
            360,
            null,
            500,
            620,
            null
           ]
          },
          {
           "line": {
            "color": "blue",
            "width": 2
           },
           "mode": "lines",
           "name": "Cost vs w",
           "showlegend": false,
           "type": "scatter",
           "x": {
            "bdata": "AAAFAAoADwAUABkAHgAjACgALQAyADcAPABBAEYASwBQAFUAWgBfAGQAaQBuAHMAeAB9AIIAhwCMAJEAlgCbAKAApQCqAK8AtAC5AL4AwwDIAM0A0gDXANwA4QDmAOsA8AD1APoA/wAEAQkBDgETARgBHQEiAScBLAExATYBOwFAAUUBSgFPAVQBWQFeAWMBaAFtAXIBdwF8AYEBhgGLAQ==",
            "dtype": "i2"
           },
           "y": {
            "bdata": "UMMAAKu5AABFsAAAHacAADSeAACJlQAAHY0AAO+EAAAAfQAAT3UAAN1tAACpZgAAtF8AAP1YAACFUgAAS0wAAFBGAACTQAAAFTsAANU1AADUMAAAESwAAI0nAABHIwAAQB8AAHcbAADtFwAAoRQAAJQRAADFDgAANQwAAOMJAADQBwAA+wUAAGUEAAANAwAA9AEAABkBAAB9AAAAHwAAAAAAAAAfAAAAfQAAABkBAAD0AQAADQMAAGUEAAD7BQAA0AcAAOMJAAA1DAAAxQ4AAJQRAAChFAAA7RcAAHcbAABAHwAARyMAAI0nAAARLAAA1DAAANU1AAAVOwAAk0AAAFBGAABLTAAAhVIAAP1YAAC0XwAAqWYAAN1tAABPdQAAAH0AAO+EAAAdjQAAiZUAADSeAAAdpwAARbAAAKu5AAA=",
            "dtype": "i4"
           }
          },
          {
           "marker": {
            "color": "darkred",
            "size": 12
           },
           "mode": "markers",
           "name": "cost at w=260",
           "showlegend": false,
           "type": "scatter",
           "x": [
            260
           ],
           "y": [
            4500
           ]
          },
          {
           "line": {
            "color": "purple",
            "dash": "dot",
            "width": 3
           },
           "mode": "lines",
           "showlegend": false,
           "type": "scatter",
           "x": [
            260,
            260
           ],
           "y": [
            0,
            4500
           ]
          },
          {
           "line": {
            "color": "purple",
            "dash": "dot",
            "width": 3
           },
           "mode": "lines",
           "showlegend": false,
           "type": "scatter",
           "x": [
            0,
            260
           ],
           "y": [
            4500,
            4500
           ]
          }
         ],
         "layout": {
          "annotations": [
           {
            "font": {
             "color": "purple",
             "size": 10
            },
            "showarrow": false,
            "text": "1800",
            "x": 1,
            "xref": "x",
            "xshift": 10,
            "y": 330,
            "yref": "y"
           },
           {
            "font": {
             "color": "purple",
             "size": 10
            },
            "showarrow": false,
            "text": "7200",
            "x": 2,
            "xref": "x",
            "xshift": 10,
            "y": 560,
            "yref": "y"
           },
           {
            "font": {
             "color": "black",
             "size": 14
            },
            "showarrow": false,
            "text": "Minimize Cost: Current Cost = 4500",
            "x": 0.5,
            "xanchor": "center",
            "xref": "paper",
            "y": 1.15,
            "yref": "paper"
           }
          ]
         },
         "name": "260"
        },
        {
         "data": [
          {
           "marker": {
            "color": "red",
            "size": 10,
            "symbol": "x"
           },
           "mode": "markers",
           "name": "Actual Value",
           "type": "scatter",
           "x": {
            "bdata": "AAAAAAAA8D8AAAAAAAAAQA==",
            "dtype": "f8"
           },
           "y": {
            "bdata": "AAAAAADAckAAAAAAAEB/QA==",
            "dtype": "f8"
           }
          },
          {
           "line": {
            "color": "blue",
            "width": 2
           },
           "mode": "lines",
           "name": "Our Prediction",
           "type": "scatter",
           "x": {
            "bdata": "AAAAAAAA8D8AAAAAAAAAQA==",
            "dtype": "f8"
           },
           "y": {
            "bdata": "AAAAAAAgd0AAAAAAAACEQA==",
            "dtype": "f8"
           }
          },
          {
           "line": {
            "color": "purple",
            "dash": "dot",
            "width": 2
           },
           "mode": "lines",
           "name": "Cost Lines",
           "showlegend": false,
           "type": "scatter",
           "x": [
            1,
            1,
            null,
            2,
            2,
            null
           ],
           "y": [
            300,
            370,
            null,
            500,
            640,
            null
           ]
          },
          {
           "line": {
            "color": "blue",
            "width": 2
           },
           "mode": "lines",
           "name": "Cost vs w",
           "showlegend": false,
           "type": "scatter",
           "x": {
            "bdata": "AAAFAAoADwAUABkAHgAjACgALQAyADcAPABBAEYASwBQAFUAWgBfAGQAaQBuAHMAeAB9AIIAhwCMAJEAlgCbAKAApQCqAK8AtAC5AL4AwwDIAM0A0gDXANwA4QDmAOsA8AD1APoA/wAEAQkBDgETARgBHQEiAScBLAExATYBOwFAAUUBSgFPAVQBWQFeAWMBaAFtAXIBdwF8AYEBhgGLAQ==",
            "dtype": "i2"
           },
           "y": {
            "bdata": "UMMAAKu5AABFsAAAHacAADSeAACJlQAAHY0AAO+EAAAAfQAAT3UAAN1tAACpZgAAtF8AAP1YAACFUgAAS0wAAFBGAACTQAAAFTsAANU1AADUMAAAESwAAI0nAABHIwAAQB8AAHcbAADtFwAAoRQAAJQRAADFDgAANQwAAOMJAADQBwAA+wUAAGUEAAANAwAA9AEAABkBAAB9AAAAHwAAAAAAAAAfAAAAfQAAABkBAAD0AQAADQMAAGUEAAD7BQAA0AcAAOMJAAA1DAAAxQ4AAJQRAAChFAAA7RcAAHcbAABAHwAARyMAAI0nAAARLAAA1DAAANU1AAAVOwAAk0AAAFBGAABLTAAAhVIAAP1YAAC0XwAAqWYAAN1tAABPdQAAAH0AAO+EAAAdjQAAiZUAADSeAAAdpwAARbAAAKu5AAA=",
            "dtype": "i4"
           }
          },
          {
           "marker": {
            "color": "darkred",
            "size": 12
           },
           "mode": "markers",
           "name": "cost at w=270",
           "showlegend": false,
           "type": "scatter",
           "x": [
            270
           ],
           "y": [
            6125
           ]
          },
          {
           "line": {
            "color": "purple",
            "dash": "dot",
            "width": 3
           },
           "mode": "lines",
           "showlegend": false,
           "type": "scatter",
           "x": [
            270,
            270
           ],
           "y": [
            0,
            6125
           ]
          },
          {
           "line": {
            "color": "purple",
            "dash": "dot",
            "width": 3
           },
           "mode": "lines",
           "showlegend": false,
           "type": "scatter",
           "x": [
            0,
            270
           ],
           "y": [
            6125,
            6125
           ]
          }
         ],
         "layout": {
          "annotations": [
           {
            "font": {
             "color": "purple",
             "size": 10
            },
            "showarrow": false,
            "text": "2450",
            "x": 1,
            "xref": "x",
            "xshift": 10,
            "y": 335,
            "yref": "y"
           },
           {
            "font": {
             "color": "purple",
             "size": 10
            },
            "showarrow": false,
            "text": "9800",
            "x": 2,
            "xref": "x",
            "xshift": 10,
            "y": 570,
            "yref": "y"
           },
           {
            "font": {
             "color": "black",
             "size": 14
            },
            "showarrow": false,
            "text": "Minimize Cost: Current Cost = 6125",
            "x": 0.5,
            "xanchor": "center",
            "xref": "paper",
            "y": 1.15,
            "yref": "paper"
           }
          ]
         },
         "name": "270"
        },
        {
         "data": [
          {
           "marker": {
            "color": "red",
            "size": 10,
            "symbol": "x"
           },
           "mode": "markers",
           "name": "Actual Value",
           "type": "scatter",
           "x": {
            "bdata": "AAAAAAAA8D8AAAAAAAAAQA==",
            "dtype": "f8"
           },
           "y": {
            "bdata": "AAAAAADAckAAAAAAAEB/QA==",
            "dtype": "f8"
           }
          },
          {
           "line": {
            "color": "blue",
            "width": 2
           },
           "mode": "lines",
           "name": "Our Prediction",
           "type": "scatter",
           "x": {
            "bdata": "AAAAAAAA8D8AAAAAAAAAQA==",
            "dtype": "f8"
           },
           "y": {
            "bdata": "AAAAAADAd0AAAAAAAKCEQA==",
            "dtype": "f8"
           }
          },
          {
           "line": {
            "color": "purple",
            "dash": "dot",
            "width": 2
           },
           "mode": "lines",
           "name": "Cost Lines",
           "showlegend": false,
           "type": "scatter",
           "x": [
            1,
            1,
            null,
            2,
            2,
            null
           ],
           "y": [
            300,
            380,
            null,
            500,
            660,
            null
           ]
          },
          {
           "line": {
            "color": "blue",
            "width": 2
           },
           "mode": "lines",
           "name": "Cost vs w",
           "showlegend": false,
           "type": "scatter",
           "x": {
            "bdata": "AAAFAAoADwAUABkAHgAjACgALQAyADcAPABBAEYASwBQAFUAWgBfAGQAaQBuAHMAeAB9AIIAhwCMAJEAlgCbAKAApQCqAK8AtAC5AL4AwwDIAM0A0gDXANwA4QDmAOsA8AD1APoA/wAEAQkBDgETARgBHQEiAScBLAExATYBOwFAAUUBSgFPAVQBWQFeAWMBaAFtAXIBdwF8AYEBhgGLAQ==",
            "dtype": "i2"
           },
           "y": {
            "bdata": "UMMAAKu5AABFsAAAHacAADSeAACJlQAAHY0AAO+EAAAAfQAAT3UAAN1tAACpZgAAtF8AAP1YAACFUgAAS0wAAFBGAACTQAAAFTsAANU1AADUMAAAESwAAI0nAABHIwAAQB8AAHcbAADtFwAAoRQAAJQRAADFDgAANQwAAOMJAADQBwAA+wUAAGUEAAANAwAA9AEAABkBAAB9AAAAHwAAAAAAAAAfAAAAfQAAABkBAAD0AQAADQMAAGUEAAD7BQAA0AcAAOMJAAA1DAAAxQ4AAJQRAAChFAAA7RcAAHcbAABAHwAARyMAAI0nAAARLAAA1DAAANU1AAAVOwAAk0AAAFBGAABLTAAAhVIAAP1YAAC0XwAAqWYAAN1tAABPdQAAAH0AAO+EAAAdjQAAiZUAADSeAAAdpwAARbAAAKu5AAA=",
            "dtype": "i4"
           }
          },
          {
           "marker": {
            "color": "darkred",
            "size": 12
           },
           "mode": "markers",
           "name": "cost at w=280",
           "showlegend": false,
           "type": "scatter",
           "x": [
            280
           ],
           "y": [
            8000
           ]
          },
          {
           "line": {
            "color": "purple",
            "dash": "dot",
            "width": 3
           },
           "mode": "lines",
           "showlegend": false,
           "type": "scatter",
           "x": [
            280,
            280
           ],
           "y": [
            0,
            8000
           ]
          },
          {
           "line": {
            "color": "purple",
            "dash": "dot",
            "width": 3
           },
           "mode": "lines",
           "showlegend": false,
           "type": "scatter",
           "x": [
            0,
            280
           ],
           "y": [
            8000,
            8000
           ]
          }
         ],
         "layout": {
          "annotations": [
           {
            "font": {
             "color": "purple",
             "size": 10
            },
            "showarrow": false,
            "text": "3200",
            "x": 1,
            "xref": "x",
            "xshift": 10,
            "y": 340,
            "yref": "y"
           },
           {
            "font": {
             "color": "purple",
             "size": 10
            },
            "showarrow": false,
            "text": "12800",
            "x": 2,
            "xref": "x",
            "xshift": 10,
            "y": 580,
            "yref": "y"
           },
           {
            "font": {
             "color": "black",
             "size": 14
            },
            "showarrow": false,
            "text": "Minimize Cost: Current Cost = 8000",
            "x": 0.5,
            "xanchor": "center",
            "xref": "paper",
            "y": 1.15,
            "yref": "paper"
           }
          ]
         },
         "name": "280"
        },
        {
         "data": [
          {
           "marker": {
            "color": "red",
            "size": 10,
            "symbol": "x"
           },
           "mode": "markers",
           "name": "Actual Value",
           "type": "scatter",
           "x": {
            "bdata": "AAAAAAAA8D8AAAAAAAAAQA==",
            "dtype": "f8"
           },
           "y": {
            "bdata": "AAAAAADAckAAAAAAAEB/QA==",
            "dtype": "f8"
           }
          },
          {
           "line": {
            "color": "blue",
            "width": 2
           },
           "mode": "lines",
           "name": "Our Prediction",
           "type": "scatter",
           "x": {
            "bdata": "AAAAAAAA8D8AAAAAAAAAQA==",
            "dtype": "f8"
           },
           "y": {
            "bdata": "AAAAAABgeEAAAAAAAECFQA==",
            "dtype": "f8"
           }
          },
          {
           "line": {
            "color": "purple",
            "dash": "dot",
            "width": 2
           },
           "mode": "lines",
           "name": "Cost Lines",
           "showlegend": false,
           "type": "scatter",
           "x": [
            1,
            1,
            null,
            2,
            2,
            null
           ],
           "y": [
            300,
            390,
            null,
            500,
            680,
            null
           ]
          },
          {
           "line": {
            "color": "blue",
            "width": 2
           },
           "mode": "lines",
           "name": "Cost vs w",
           "showlegend": false,
           "type": "scatter",
           "x": {
            "bdata": "AAAFAAoADwAUABkAHgAjACgALQAyADcAPABBAEYASwBQAFUAWgBfAGQAaQBuAHMAeAB9AIIAhwCMAJEAlgCbAKAApQCqAK8AtAC5AL4AwwDIAM0A0gDXANwA4QDmAOsA8AD1APoA/wAEAQkBDgETARgBHQEiAScBLAExATYBOwFAAUUBSgFPAVQBWQFeAWMBaAFtAXIBdwF8AYEBhgGLAQ==",
            "dtype": "i2"
           },
           "y": {
            "bdata": "UMMAAKu5AABFsAAAHacAADSeAACJlQAAHY0AAO+EAAAAfQAAT3UAAN1tAACpZgAAtF8AAP1YAACFUgAAS0wAAFBGAACTQAAAFTsAANU1AADUMAAAESwAAI0nAABHIwAAQB8AAHcbAADtFwAAoRQAAJQRAADFDgAANQwAAOMJAADQBwAA+wUAAGUEAAANAwAA9AEAABkBAAB9AAAAHwAAAAAAAAAfAAAAfQAAABkBAAD0AQAADQMAAGUEAAD7BQAA0AcAAOMJAAA1DAAAxQ4AAJQRAAChFAAA7RcAAHcbAABAHwAARyMAAI0nAAARLAAA1DAAANU1AAAVOwAAk0AAAFBGAABLTAAAhVIAAP1YAAC0XwAAqWYAAN1tAABPdQAAAH0AAO+EAAAdjQAAiZUAADSeAAAdpwAARbAAAKu5AAA=",
            "dtype": "i4"
           }
          },
          {
           "marker": {
            "color": "darkred",
            "size": 12
           },
           "mode": "markers",
           "name": "cost at w=290",
           "showlegend": false,
           "type": "scatter",
           "x": [
            290
           ],
           "y": [
            10125
           ]
          },
          {
           "line": {
            "color": "purple",
            "dash": "dot",
            "width": 3
           },
           "mode": "lines",
           "showlegend": false,
           "type": "scatter",
           "x": [
            290,
            290
           ],
           "y": [
            0,
            10125
           ]
          },
          {
           "line": {
            "color": "purple",
            "dash": "dot",
            "width": 3
           },
           "mode": "lines",
           "showlegend": false,
           "type": "scatter",
           "x": [
            0,
            290
           ],
           "y": [
            10125,
            10125
           ]
          }
         ],
         "layout": {
          "annotations": [
           {
            "font": {
             "color": "purple",
             "size": 10
            },
            "showarrow": false,
            "text": "4050",
            "x": 1,
            "xref": "x",
            "xshift": 10,
            "y": 345,
            "yref": "y"
           },
           {
            "font": {
             "color": "purple",
             "size": 10
            },
            "showarrow": false,
            "text": "16200",
            "x": 2,
            "xref": "x",
            "xshift": 10,
            "y": 590,
            "yref": "y"
           },
           {
            "font": {
             "color": "black",
             "size": 14
            },
            "showarrow": false,
            "text": "Minimize Cost: Current Cost = 10125",
            "x": 0.5,
            "xanchor": "center",
            "xref": "paper",
            "y": 1.15,
            "yref": "paper"
           }
          ]
         },
         "name": "290"
        },
        {
         "data": [
          {
           "marker": {
            "color": "red",
            "size": 10,
            "symbol": "x"
           },
           "mode": "markers",
           "name": "Actual Value",
           "type": "scatter",
           "x": {
            "bdata": "AAAAAAAA8D8AAAAAAAAAQA==",
            "dtype": "f8"
           },
           "y": {
            "bdata": "AAAAAADAckAAAAAAAEB/QA==",
            "dtype": "f8"
           }
          },
          {
           "line": {
            "color": "blue",
            "width": 2
           },
           "mode": "lines",
           "name": "Our Prediction",
           "type": "scatter",
           "x": {
            "bdata": "AAAAAAAA8D8AAAAAAAAAQA==",
            "dtype": "f8"
           },
           "y": {
            "bdata": "AAAAAAAAeUAAAAAAAOCFQA==",
            "dtype": "f8"
           }
          },
          {
           "line": {
            "color": "purple",
            "dash": "dot",
            "width": 2
           },
           "mode": "lines",
           "name": "Cost Lines",
           "showlegend": false,
           "type": "scatter",
           "x": [
            1,
            1,
            null,
            2,
            2,
            null
           ],
           "y": [
            300,
            400,
            null,
            500,
            700,
            null
           ]
          },
          {
           "line": {
            "color": "blue",
            "width": 2
           },
           "mode": "lines",
           "name": "Cost vs w",
           "showlegend": false,
           "type": "scatter",
           "x": {
            "bdata": "AAAFAAoADwAUABkAHgAjACgALQAyADcAPABBAEYASwBQAFUAWgBfAGQAaQBuAHMAeAB9AIIAhwCMAJEAlgCbAKAApQCqAK8AtAC5AL4AwwDIAM0A0gDXANwA4QDmAOsA8AD1APoA/wAEAQkBDgETARgBHQEiAScBLAExATYBOwFAAUUBSgFPAVQBWQFeAWMBaAFtAXIBdwF8AYEBhgGLAQ==",
            "dtype": "i2"
           },
           "y": {
            "bdata": "UMMAAKu5AABFsAAAHacAADSeAACJlQAAHY0AAO+EAAAAfQAAT3UAAN1tAACpZgAAtF8AAP1YAACFUgAAS0wAAFBGAACTQAAAFTsAANU1AADUMAAAESwAAI0nAABHIwAAQB8AAHcbAADtFwAAoRQAAJQRAADFDgAANQwAAOMJAADQBwAA+wUAAGUEAAANAwAA9AEAABkBAAB9AAAAHwAAAAAAAAAfAAAAfQAAABkBAAD0AQAADQMAAGUEAAD7BQAA0AcAAOMJAAA1DAAAxQ4AAJQRAAChFAAA7RcAAHcbAABAHwAARyMAAI0nAAARLAAA1DAAANU1AAAVOwAAk0AAAFBGAABLTAAAhVIAAP1YAAC0XwAAqWYAAN1tAABPdQAAAH0AAO+EAAAdjQAAiZUAADSeAAAdpwAARbAAAKu5AAA=",
            "dtype": "i4"
           }
          },
          {
           "marker": {
            "color": "darkred",
            "size": 12
           },
           "mode": "markers",
           "name": "cost at w=300",
           "showlegend": false,
           "type": "scatter",
           "x": [
            300
           ],
           "y": [
            12500
           ]
          },
          {
           "line": {
            "color": "purple",
            "dash": "dot",
            "width": 3
           },
           "mode": "lines",
           "showlegend": false,
           "type": "scatter",
           "x": [
            300,
            300
           ],
           "y": [
            0,
            12500
           ]
          },
          {
           "line": {
            "color": "purple",
            "dash": "dot",
            "width": 3
           },
           "mode": "lines",
           "showlegend": false,
           "type": "scatter",
           "x": [
            0,
            300
           ],
           "y": [
            12500,
            12500
           ]
          }
         ],
         "layout": {
          "annotations": [
           {
            "font": {
             "color": "purple",
             "size": 10
            },
            "showarrow": false,
            "text": "5000",
            "x": 1,
            "xref": "x",
            "xshift": 10,
            "y": 350,
            "yref": "y"
           },
           {
            "font": {
             "color": "purple",
             "size": 10
            },
            "showarrow": false,
            "text": "20000",
            "x": 2,
            "xref": "x",
            "xshift": 10,
            "y": 600,
            "yref": "y"
           },
           {
            "font": {
             "color": "black",
             "size": 14
            },
            "showarrow": false,
            "text": "Minimize Cost: Current Cost = 12500",
            "x": 0.5,
            "xanchor": "center",
            "xref": "paper",
            "y": 1.15,
            "yref": "paper"
           }
          ]
         },
         "name": "300"
        },
        {
         "data": [
          {
           "marker": {
            "color": "red",
            "size": 10,
            "symbol": "x"
           },
           "mode": "markers",
           "name": "Actual Value",
           "type": "scatter",
           "x": {
            "bdata": "AAAAAAAA8D8AAAAAAAAAQA==",
            "dtype": "f8"
           },
           "y": {
            "bdata": "AAAAAADAckAAAAAAAEB/QA==",
            "dtype": "f8"
           }
          },
          {
           "line": {
            "color": "blue",
            "width": 2
           },
           "mode": "lines",
           "name": "Our Prediction",
           "type": "scatter",
           "x": {
            "bdata": "AAAAAAAA8D8AAAAAAAAAQA==",
            "dtype": "f8"
           },
           "y": {
            "bdata": "AAAAAACgeUAAAAAAAICGQA==",
            "dtype": "f8"
           }
          },
          {
           "line": {
            "color": "purple",
            "dash": "dot",
            "width": 2
           },
           "mode": "lines",
           "name": "Cost Lines",
           "showlegend": false,
           "type": "scatter",
           "x": [
            1,
            1,
            null,
            2,
            2,
            null
           ],
           "y": [
            300,
            410,
            null,
            500,
            720,
            null
           ]
          },
          {
           "line": {
            "color": "blue",
            "width": 2
           },
           "mode": "lines",
           "name": "Cost vs w",
           "showlegend": false,
           "type": "scatter",
           "x": {
            "bdata": "AAAFAAoADwAUABkAHgAjACgALQAyADcAPABBAEYASwBQAFUAWgBfAGQAaQBuAHMAeAB9AIIAhwCMAJEAlgCbAKAApQCqAK8AtAC5AL4AwwDIAM0A0gDXANwA4QDmAOsA8AD1APoA/wAEAQkBDgETARgBHQEiAScBLAExATYBOwFAAUUBSgFPAVQBWQFeAWMBaAFtAXIBdwF8AYEBhgGLAQ==",
            "dtype": "i2"
           },
           "y": {
            "bdata": "UMMAAKu5AABFsAAAHacAADSeAACJlQAAHY0AAO+EAAAAfQAAT3UAAN1tAACpZgAAtF8AAP1YAACFUgAAS0wAAFBGAACTQAAAFTsAANU1AADUMAAAESwAAI0nAABHIwAAQB8AAHcbAADtFwAAoRQAAJQRAADFDgAANQwAAOMJAADQBwAA+wUAAGUEAAANAwAA9AEAABkBAAB9AAAAHwAAAAAAAAAfAAAAfQAAABkBAAD0AQAADQMAAGUEAAD7BQAA0AcAAOMJAAA1DAAAxQ4AAJQRAAChFAAA7RcAAHcbAABAHwAARyMAAI0nAAARLAAA1DAAANU1AAAVOwAAk0AAAFBGAABLTAAAhVIAAP1YAAC0XwAAqWYAAN1tAABPdQAAAH0AAO+EAAAdjQAAiZUAADSeAAAdpwAARbAAAKu5AAA=",
            "dtype": "i4"
           }
          },
          {
           "marker": {
            "color": "darkred",
            "size": 12
           },
           "mode": "markers",
           "name": "cost at w=310",
           "showlegend": false,
           "type": "scatter",
           "x": [
            310
           ],
           "y": [
            15125
           ]
          },
          {
           "line": {
            "color": "purple",
            "dash": "dot",
            "width": 3
           },
           "mode": "lines",
           "showlegend": false,
           "type": "scatter",
           "x": [
            310,
            310
           ],
           "y": [
            0,
            15125
           ]
          },
          {
           "line": {
            "color": "purple",
            "dash": "dot",
            "width": 3
           },
           "mode": "lines",
           "showlegend": false,
           "type": "scatter",
           "x": [
            0,
            310
           ],
           "y": [
            15125,
            15125
           ]
          }
         ],
         "layout": {
          "annotations": [
           {
            "font": {
             "color": "purple",
             "size": 10
            },
            "showarrow": false,
            "text": "6050",
            "x": 1,
            "xref": "x",
            "xshift": 10,
            "y": 355,
            "yref": "y"
           },
           {
            "font": {
             "color": "purple",
             "size": 10
            },
            "showarrow": false,
            "text": "24200",
            "x": 2,
            "xref": "x",
            "xshift": 10,
            "y": 610,
            "yref": "y"
           },
           {
            "font": {
             "color": "black",
             "size": 14
            },
            "showarrow": false,
            "text": "Minimize Cost: Current Cost = 15125",
            "x": 0.5,
            "xanchor": "center",
            "xref": "paper",
            "y": 1.15,
            "yref": "paper"
           }
          ]
         },
         "name": "310"
        },
        {
         "data": [
          {
           "marker": {
            "color": "red",
            "size": 10,
            "symbol": "x"
           },
           "mode": "markers",
           "name": "Actual Value",
           "type": "scatter",
           "x": {
            "bdata": "AAAAAAAA8D8AAAAAAAAAQA==",
            "dtype": "f8"
           },
           "y": {
            "bdata": "AAAAAADAckAAAAAAAEB/QA==",
            "dtype": "f8"
           }
          },
          {
           "line": {
            "color": "blue",
            "width": 2
           },
           "mode": "lines",
           "name": "Our Prediction",
           "type": "scatter",
           "x": {
            "bdata": "AAAAAAAA8D8AAAAAAAAAQA==",
            "dtype": "f8"
           },
           "y": {
            "bdata": "AAAAAABAekAAAAAAACCHQA==",
            "dtype": "f8"
           }
          },
          {
           "line": {
            "color": "purple",
            "dash": "dot",
            "width": 2
           },
           "mode": "lines",
           "name": "Cost Lines",
           "showlegend": false,
           "type": "scatter",
           "x": [
            1,
            1,
            null,
            2,
            2,
            null
           ],
           "y": [
            300,
            420,
            null,
            500,
            740,
            null
           ]
          },
          {
           "line": {
            "color": "blue",
            "width": 2
           },
           "mode": "lines",
           "name": "Cost vs w",
           "showlegend": false,
           "type": "scatter",
           "x": {
            "bdata": "AAAFAAoADwAUABkAHgAjACgALQAyADcAPABBAEYASwBQAFUAWgBfAGQAaQBuAHMAeAB9AIIAhwCMAJEAlgCbAKAApQCqAK8AtAC5AL4AwwDIAM0A0gDXANwA4QDmAOsA8AD1APoA/wAEAQkBDgETARgBHQEiAScBLAExATYBOwFAAUUBSgFPAVQBWQFeAWMBaAFtAXIBdwF8AYEBhgGLAQ==",
            "dtype": "i2"
           },
           "y": {
            "bdata": "UMMAAKu5AABFsAAAHacAADSeAACJlQAAHY0AAO+EAAAAfQAAT3UAAN1tAACpZgAAtF8AAP1YAACFUgAAS0wAAFBGAACTQAAAFTsAANU1AADUMAAAESwAAI0nAABHIwAAQB8AAHcbAADtFwAAoRQAAJQRAADFDgAANQwAAOMJAADQBwAA+wUAAGUEAAANAwAA9AEAABkBAAB9AAAAHwAAAAAAAAAfAAAAfQAAABkBAAD0AQAADQMAAGUEAAD7BQAA0AcAAOMJAAA1DAAAxQ4AAJQRAAChFAAA7RcAAHcbAABAHwAARyMAAI0nAAARLAAA1DAAANU1AAAVOwAAk0AAAFBGAABLTAAAhVIAAP1YAAC0XwAAqWYAAN1tAABPdQAAAH0AAO+EAAAdjQAAiZUAADSeAAAdpwAARbAAAKu5AAA=",
            "dtype": "i4"
           }
          },
          {
           "marker": {
            "color": "darkred",
            "size": 12
           },
           "mode": "markers",
           "name": "cost at w=320",
           "showlegend": false,
           "type": "scatter",
           "x": [
            320
           ],
           "y": [
            18000
           ]
          },
          {
           "line": {
            "color": "purple",
            "dash": "dot",
            "width": 3
           },
           "mode": "lines",
           "showlegend": false,
           "type": "scatter",
           "x": [
            320,
            320
           ],
           "y": [
            0,
            18000
           ]
          },
          {
           "line": {
            "color": "purple",
            "dash": "dot",
            "width": 3
           },
           "mode": "lines",
           "showlegend": false,
           "type": "scatter",
           "x": [
            0,
            320
           ],
           "y": [
            18000,
            18000
           ]
          }
         ],
         "layout": {
          "annotations": [
           {
            "font": {
             "color": "purple",
             "size": 10
            },
            "showarrow": false,
            "text": "7200",
            "x": 1,
            "xref": "x",
            "xshift": 10,
            "y": 360,
            "yref": "y"
           },
           {
            "font": {
             "color": "purple",
             "size": 10
            },
            "showarrow": false,
            "text": "28800",
            "x": 2,
            "xref": "x",
            "xshift": 10,
            "y": 620,
            "yref": "y"
           },
           {
            "font": {
             "color": "black",
             "size": 14
            },
            "showarrow": false,
            "text": "Minimize Cost: Current Cost = 18000",
            "x": 0.5,
            "xanchor": "center",
            "xref": "paper",
            "y": 1.15,
            "yref": "paper"
           }
          ]
         },
         "name": "320"
        },
        {
         "data": [
          {
           "marker": {
            "color": "red",
            "size": 10,
            "symbol": "x"
           },
           "mode": "markers",
           "name": "Actual Value",
           "type": "scatter",
           "x": {
            "bdata": "AAAAAAAA8D8AAAAAAAAAQA==",
            "dtype": "f8"
           },
           "y": {
            "bdata": "AAAAAADAckAAAAAAAEB/QA==",
            "dtype": "f8"
           }
          },
          {
           "line": {
            "color": "blue",
            "width": 2
           },
           "mode": "lines",
           "name": "Our Prediction",
           "type": "scatter",
           "x": {
            "bdata": "AAAAAAAA8D8AAAAAAAAAQA==",
            "dtype": "f8"
           },
           "y": {
            "bdata": "AAAAAADgekAAAAAAAMCHQA==",
            "dtype": "f8"
           }
          },
          {
           "line": {
            "color": "purple",
            "dash": "dot",
            "width": 2
           },
           "mode": "lines",
           "name": "Cost Lines",
           "showlegend": false,
           "type": "scatter",
           "x": [
            1,
            1,
            null,
            2,
            2,
            null
           ],
           "y": [
            300,
            430,
            null,
            500,
            760,
            null
           ]
          },
          {
           "line": {
            "color": "blue",
            "width": 2
           },
           "mode": "lines",
           "name": "Cost vs w",
           "showlegend": false,
           "type": "scatter",
           "x": {
            "bdata": "AAAFAAoADwAUABkAHgAjACgALQAyADcAPABBAEYASwBQAFUAWgBfAGQAaQBuAHMAeAB9AIIAhwCMAJEAlgCbAKAApQCqAK8AtAC5AL4AwwDIAM0A0gDXANwA4QDmAOsA8AD1APoA/wAEAQkBDgETARgBHQEiAScBLAExATYBOwFAAUUBSgFPAVQBWQFeAWMBaAFtAXIBdwF8AYEBhgGLAQ==",
            "dtype": "i2"
           },
           "y": {
            "bdata": "UMMAAKu5AABFsAAAHacAADSeAACJlQAAHY0AAO+EAAAAfQAAT3UAAN1tAACpZgAAtF8AAP1YAACFUgAAS0wAAFBGAACTQAAAFTsAANU1AADUMAAAESwAAI0nAABHIwAAQB8AAHcbAADtFwAAoRQAAJQRAADFDgAANQwAAOMJAADQBwAA+wUAAGUEAAANAwAA9AEAABkBAAB9AAAAHwAAAAAAAAAfAAAAfQAAABkBAAD0AQAADQMAAGUEAAD7BQAA0AcAAOMJAAA1DAAAxQ4AAJQRAAChFAAA7RcAAHcbAABAHwAARyMAAI0nAAARLAAA1DAAANU1AAAVOwAAk0AAAFBGAABLTAAAhVIAAP1YAAC0XwAAqWYAAN1tAABPdQAAAH0AAO+EAAAdjQAAiZUAADSeAAAdpwAARbAAAKu5AAA=",
            "dtype": "i4"
           }
          },
          {
           "marker": {
            "color": "darkred",
            "size": 12
           },
           "mode": "markers",
           "name": "cost at w=330",
           "showlegend": false,
           "type": "scatter",
           "x": [
            330
           ],
           "y": [
            21125
           ]
          },
          {
           "line": {
            "color": "purple",
            "dash": "dot",
            "width": 3
           },
           "mode": "lines",
           "showlegend": false,
           "type": "scatter",
           "x": [
            330,
            330
           ],
           "y": [
            0,
            21125
           ]
          },
          {
           "line": {
            "color": "purple",
            "dash": "dot",
            "width": 3
           },
           "mode": "lines",
           "showlegend": false,
           "type": "scatter",
           "x": [
            0,
            330
           ],
           "y": [
            21125,
            21125
           ]
          }
         ],
         "layout": {
          "annotations": [
           {
            "font": {
             "color": "purple",
             "size": 10
            },
            "showarrow": false,
            "text": "8450",
            "x": 1,
            "xref": "x",
            "xshift": 10,
            "y": 365,
            "yref": "y"
           },
           {
            "font": {
             "color": "purple",
             "size": 10
            },
            "showarrow": false,
            "text": "33800",
            "x": 2,
            "xref": "x",
            "xshift": 10,
            "y": 630,
            "yref": "y"
           },
           {
            "font": {
             "color": "black",
             "size": 14
            },
            "showarrow": false,
            "text": "Minimize Cost: Current Cost = 21125",
            "x": 0.5,
            "xanchor": "center",
            "xref": "paper",
            "y": 1.15,
            "yref": "paper"
           }
          ]
         },
         "name": "330"
        },
        {
         "data": [
          {
           "marker": {
            "color": "red",
            "size": 10,
            "symbol": "x"
           },
           "mode": "markers",
           "name": "Actual Value",
           "type": "scatter",
           "x": {
            "bdata": "AAAAAAAA8D8AAAAAAAAAQA==",
            "dtype": "f8"
           },
           "y": {
            "bdata": "AAAAAADAckAAAAAAAEB/QA==",
            "dtype": "f8"
           }
          },
          {
           "line": {
            "color": "blue",
            "width": 2
           },
           "mode": "lines",
           "name": "Our Prediction",
           "type": "scatter",
           "x": {
            "bdata": "AAAAAAAA8D8AAAAAAAAAQA==",
            "dtype": "f8"
           },
           "y": {
            "bdata": "AAAAAACAe0AAAAAAAGCIQA==",
            "dtype": "f8"
           }
          },
          {
           "line": {
            "color": "purple",
            "dash": "dot",
            "width": 2
           },
           "mode": "lines",
           "name": "Cost Lines",
           "showlegend": false,
           "type": "scatter",
           "x": [
            1,
            1,
            null,
            2,
            2,
            null
           ],
           "y": [
            300,
            440,
            null,
            500,
            780,
            null
           ]
          },
          {
           "line": {
            "color": "blue",
            "width": 2
           },
           "mode": "lines",
           "name": "Cost vs w",
           "showlegend": false,
           "type": "scatter",
           "x": {
            "bdata": "AAAFAAoADwAUABkAHgAjACgALQAyADcAPABBAEYASwBQAFUAWgBfAGQAaQBuAHMAeAB9AIIAhwCMAJEAlgCbAKAApQCqAK8AtAC5AL4AwwDIAM0A0gDXANwA4QDmAOsA8AD1APoA/wAEAQkBDgETARgBHQEiAScBLAExATYBOwFAAUUBSgFPAVQBWQFeAWMBaAFtAXIBdwF8AYEBhgGLAQ==",
            "dtype": "i2"
           },
           "y": {
            "bdata": "UMMAAKu5AABFsAAAHacAADSeAACJlQAAHY0AAO+EAAAAfQAAT3UAAN1tAACpZgAAtF8AAP1YAACFUgAAS0wAAFBGAACTQAAAFTsAANU1AADUMAAAESwAAI0nAABHIwAAQB8AAHcbAADtFwAAoRQAAJQRAADFDgAANQwAAOMJAADQBwAA+wUAAGUEAAANAwAA9AEAABkBAAB9AAAAHwAAAAAAAAAfAAAAfQAAABkBAAD0AQAADQMAAGUEAAD7BQAA0AcAAOMJAAA1DAAAxQ4AAJQRAAChFAAA7RcAAHcbAABAHwAARyMAAI0nAAARLAAA1DAAANU1AAAVOwAAk0AAAFBGAABLTAAAhVIAAP1YAAC0XwAAqWYAAN1tAABPdQAAAH0AAO+EAAAdjQAAiZUAADSeAAAdpwAARbAAAKu5AAA=",
            "dtype": "i4"
           }
          },
          {
           "marker": {
            "color": "darkred",
            "size": 12
           },
           "mode": "markers",
           "name": "cost at w=340",
           "showlegend": false,
           "type": "scatter",
           "x": [
            340
           ],
           "y": [
            24500
           ]
          },
          {
           "line": {
            "color": "purple",
            "dash": "dot",
            "width": 3
           },
           "mode": "lines",
           "showlegend": false,
           "type": "scatter",
           "x": [
            340,
            340
           ],
           "y": [
            0,
            24500
           ]
          },
          {
           "line": {
            "color": "purple",
            "dash": "dot",
            "width": 3
           },
           "mode": "lines",
           "showlegend": false,
           "type": "scatter",
           "x": [
            0,
            340
           ],
           "y": [
            24500,
            24500
           ]
          }
         ],
         "layout": {
          "annotations": [
           {
            "font": {
             "color": "purple",
             "size": 10
            },
            "showarrow": false,
            "text": "9800",
            "x": 1,
            "xref": "x",
            "xshift": 10,
            "y": 370,
            "yref": "y"
           },
           {
            "font": {
             "color": "purple",
             "size": 10
            },
            "showarrow": false,
            "text": "39200",
            "x": 2,
            "xref": "x",
            "xshift": 10,
            "y": 640,
            "yref": "y"
           },
           {
            "font": {
             "color": "black",
             "size": 14
            },
            "showarrow": false,
            "text": "Minimize Cost: Current Cost = 24500",
            "x": 0.5,
            "xanchor": "center",
            "xref": "paper",
            "y": 1.15,
            "yref": "paper"
           }
          ]
         },
         "name": "340"
        },
        {
         "data": [
          {
           "marker": {
            "color": "red",
            "size": 10,
            "symbol": "x"
           },
           "mode": "markers",
           "name": "Actual Value",
           "type": "scatter",
           "x": {
            "bdata": "AAAAAAAA8D8AAAAAAAAAQA==",
            "dtype": "f8"
           },
           "y": {
            "bdata": "AAAAAADAckAAAAAAAEB/QA==",
            "dtype": "f8"
           }
          },
          {
           "line": {
            "color": "blue",
            "width": 2
           },
           "mode": "lines",
           "name": "Our Prediction",
           "type": "scatter",
           "x": {
            "bdata": "AAAAAAAA8D8AAAAAAAAAQA==",
            "dtype": "f8"
           },
           "y": {
            "bdata": "AAAAAAAgfEAAAAAAAACJQA==",
            "dtype": "f8"
           }
          },
          {
           "line": {
            "color": "purple",
            "dash": "dot",
            "width": 2
           },
           "mode": "lines",
           "name": "Cost Lines",
           "showlegend": false,
           "type": "scatter",
           "x": [
            1,
            1,
            null,
            2,
            2,
            null
           ],
           "y": [
            300,
            450,
            null,
            500,
            800,
            null
           ]
          },
          {
           "line": {
            "color": "blue",
            "width": 2
           },
           "mode": "lines",
           "name": "Cost vs w",
           "showlegend": false,
           "type": "scatter",
           "x": {
            "bdata": "AAAFAAoADwAUABkAHgAjACgALQAyADcAPABBAEYASwBQAFUAWgBfAGQAaQBuAHMAeAB9AIIAhwCMAJEAlgCbAKAApQCqAK8AtAC5AL4AwwDIAM0A0gDXANwA4QDmAOsA8AD1APoA/wAEAQkBDgETARgBHQEiAScBLAExATYBOwFAAUUBSgFPAVQBWQFeAWMBaAFtAXIBdwF8AYEBhgGLAQ==",
            "dtype": "i2"
           },
           "y": {
            "bdata": "UMMAAKu5AABFsAAAHacAADSeAACJlQAAHY0AAO+EAAAAfQAAT3UAAN1tAACpZgAAtF8AAP1YAACFUgAAS0wAAFBGAACTQAAAFTsAANU1AADUMAAAESwAAI0nAABHIwAAQB8AAHcbAADtFwAAoRQAAJQRAADFDgAANQwAAOMJAADQBwAA+wUAAGUEAAANAwAA9AEAABkBAAB9AAAAHwAAAAAAAAAfAAAAfQAAABkBAAD0AQAADQMAAGUEAAD7BQAA0AcAAOMJAAA1DAAAxQ4AAJQRAAChFAAA7RcAAHcbAABAHwAARyMAAI0nAAARLAAA1DAAANU1AAAVOwAAk0AAAFBGAABLTAAAhVIAAP1YAAC0XwAAqWYAAN1tAABPdQAAAH0AAO+EAAAdjQAAiZUAADSeAAAdpwAARbAAAKu5AAA=",
            "dtype": "i4"
           }
          },
          {
           "marker": {
            "color": "darkred",
            "size": 12
           },
           "mode": "markers",
           "name": "cost at w=350",
           "showlegend": false,
           "type": "scatter",
           "x": [
            350
           ],
           "y": [
            28125
           ]
          },
          {
           "line": {
            "color": "purple",
            "dash": "dot",
            "width": 3
           },
           "mode": "lines",
           "showlegend": false,
           "type": "scatter",
           "x": [
            350,
            350
           ],
           "y": [
            0,
            28125
           ]
          },
          {
           "line": {
            "color": "purple",
            "dash": "dot",
            "width": 3
           },
           "mode": "lines",
           "showlegend": false,
           "type": "scatter",
           "x": [
            0,
            350
           ],
           "y": [
            28125,
            28125
           ]
          }
         ],
         "layout": {
          "annotations": [
           {
            "font": {
             "color": "purple",
             "size": 10
            },
            "showarrow": false,
            "text": "11250",
            "x": 1,
            "xref": "x",
            "xshift": 10,
            "y": 375,
            "yref": "y"
           },
           {
            "font": {
             "color": "purple",
             "size": 10
            },
            "showarrow": false,
            "text": "45000",
            "x": 2,
            "xref": "x",
            "xshift": 10,
            "y": 650,
            "yref": "y"
           },
           {
            "font": {
             "color": "black",
             "size": 14
            },
            "showarrow": false,
            "text": "Minimize Cost: Current Cost = 28125",
            "x": 0.5,
            "xanchor": "center",
            "xref": "paper",
            "y": 1.15,
            "yref": "paper"
           }
          ]
         },
         "name": "350"
        },
        {
         "data": [
          {
           "marker": {
            "color": "red",
            "size": 10,
            "symbol": "x"
           },
           "mode": "markers",
           "name": "Actual Value",
           "type": "scatter",
           "x": {
            "bdata": "AAAAAAAA8D8AAAAAAAAAQA==",
            "dtype": "f8"
           },
           "y": {
            "bdata": "AAAAAADAckAAAAAAAEB/QA==",
            "dtype": "f8"
           }
          },
          {
           "line": {
            "color": "blue",
            "width": 2
           },
           "mode": "lines",
           "name": "Our Prediction",
           "type": "scatter",
           "x": {
            "bdata": "AAAAAAAA8D8AAAAAAAAAQA==",
            "dtype": "f8"
           },
           "y": {
            "bdata": "AAAAAADAfEAAAAAAAKCJQA==",
            "dtype": "f8"
           }
          },
          {
           "line": {
            "color": "purple",
            "dash": "dot",
            "width": 2
           },
           "mode": "lines",
           "name": "Cost Lines",
           "showlegend": false,
           "type": "scatter",
           "x": [
            1,
            1,
            null,
            2,
            2,
            null
           ],
           "y": [
            300,
            460,
            null,
            500,
            820,
            null
           ]
          },
          {
           "line": {
            "color": "blue",
            "width": 2
           },
           "mode": "lines",
           "name": "Cost vs w",
           "showlegend": false,
           "type": "scatter",
           "x": {
            "bdata": "AAAFAAoADwAUABkAHgAjACgALQAyADcAPABBAEYASwBQAFUAWgBfAGQAaQBuAHMAeAB9AIIAhwCMAJEAlgCbAKAApQCqAK8AtAC5AL4AwwDIAM0A0gDXANwA4QDmAOsA8AD1APoA/wAEAQkBDgETARgBHQEiAScBLAExATYBOwFAAUUBSgFPAVQBWQFeAWMBaAFtAXIBdwF8AYEBhgGLAQ==",
            "dtype": "i2"
           },
           "y": {
            "bdata": "UMMAAKu5AABFsAAAHacAADSeAACJlQAAHY0AAO+EAAAAfQAAT3UAAN1tAACpZgAAtF8AAP1YAACFUgAAS0wAAFBGAACTQAAAFTsAANU1AADUMAAAESwAAI0nAABHIwAAQB8AAHcbAADtFwAAoRQAAJQRAADFDgAANQwAAOMJAADQBwAA+wUAAGUEAAANAwAA9AEAABkBAAB9AAAAHwAAAAAAAAAfAAAAfQAAABkBAAD0AQAADQMAAGUEAAD7BQAA0AcAAOMJAAA1DAAAxQ4AAJQRAAChFAAA7RcAAHcbAABAHwAARyMAAI0nAAARLAAA1DAAANU1AAAVOwAAk0AAAFBGAABLTAAAhVIAAP1YAAC0XwAAqWYAAN1tAABPdQAAAH0AAO+EAAAdjQAAiZUAADSeAAAdpwAARbAAAKu5AAA=",
            "dtype": "i4"
           }
          },
          {
           "marker": {
            "color": "darkred",
            "size": 12
           },
           "mode": "markers",
           "name": "cost at w=360",
           "showlegend": false,
           "type": "scatter",
           "x": [
            360
           ],
           "y": [
            32000
           ]
          },
          {
           "line": {
            "color": "purple",
            "dash": "dot",
            "width": 3
           },
           "mode": "lines",
           "showlegend": false,
           "type": "scatter",
           "x": [
            360,
            360
           ],
           "y": [
            0,
            32000
           ]
          },
          {
           "line": {
            "color": "purple",
            "dash": "dot",
            "width": 3
           },
           "mode": "lines",
           "showlegend": false,
           "type": "scatter",
           "x": [
            0,
            360
           ],
           "y": [
            32000,
            32000
           ]
          }
         ],
         "layout": {
          "annotations": [
           {
            "font": {
             "color": "purple",
             "size": 10
            },
            "showarrow": false,
            "text": "12800",
            "x": 1,
            "xref": "x",
            "xshift": 10,
            "y": 380,
            "yref": "y"
           },
           {
            "font": {
             "color": "purple",
             "size": 10
            },
            "showarrow": false,
            "text": "51200",
            "x": 2,
            "xref": "x",
            "xshift": 10,
            "y": 660,
            "yref": "y"
           },
           {
            "font": {
             "color": "black",
             "size": 14
            },
            "showarrow": false,
            "text": "Minimize Cost: Current Cost = 32000",
            "x": 0.5,
            "xanchor": "center",
            "xref": "paper",
            "y": 1.15,
            "yref": "paper"
           }
          ]
         },
         "name": "360"
        },
        {
         "data": [
          {
           "marker": {
            "color": "red",
            "size": 10,
            "symbol": "x"
           },
           "mode": "markers",
           "name": "Actual Value",
           "type": "scatter",
           "x": {
            "bdata": "AAAAAAAA8D8AAAAAAAAAQA==",
            "dtype": "f8"
           },
           "y": {
            "bdata": "AAAAAADAckAAAAAAAEB/QA==",
            "dtype": "f8"
           }
          },
          {
           "line": {
            "color": "blue",
            "width": 2
           },
           "mode": "lines",
           "name": "Our Prediction",
           "type": "scatter",
           "x": {
            "bdata": "AAAAAAAA8D8AAAAAAAAAQA==",
            "dtype": "f8"
           },
           "y": {
            "bdata": "AAAAAABgfUAAAAAAAECKQA==",
            "dtype": "f8"
           }
          },
          {
           "line": {
            "color": "purple",
            "dash": "dot",
            "width": 2
           },
           "mode": "lines",
           "name": "Cost Lines",
           "showlegend": false,
           "type": "scatter",
           "x": [
            1,
            1,
            null,
            2,
            2,
            null
           ],
           "y": [
            300,
            470,
            null,
            500,
            840,
            null
           ]
          },
          {
           "line": {
            "color": "blue",
            "width": 2
           },
           "mode": "lines",
           "name": "Cost vs w",
           "showlegend": false,
           "type": "scatter",
           "x": {
            "bdata": "AAAFAAoADwAUABkAHgAjACgALQAyADcAPABBAEYASwBQAFUAWgBfAGQAaQBuAHMAeAB9AIIAhwCMAJEAlgCbAKAApQCqAK8AtAC5AL4AwwDIAM0A0gDXANwA4QDmAOsA8AD1APoA/wAEAQkBDgETARgBHQEiAScBLAExATYBOwFAAUUBSgFPAVQBWQFeAWMBaAFtAXIBdwF8AYEBhgGLAQ==",
            "dtype": "i2"
           },
           "y": {
            "bdata": "UMMAAKu5AABFsAAAHacAADSeAACJlQAAHY0AAO+EAAAAfQAAT3UAAN1tAACpZgAAtF8AAP1YAACFUgAAS0wAAFBGAACTQAAAFTsAANU1AADUMAAAESwAAI0nAABHIwAAQB8AAHcbAADtFwAAoRQAAJQRAADFDgAANQwAAOMJAADQBwAA+wUAAGUEAAANAwAA9AEAABkBAAB9AAAAHwAAAAAAAAAfAAAAfQAAABkBAAD0AQAADQMAAGUEAAD7BQAA0AcAAOMJAAA1DAAAxQ4AAJQRAAChFAAA7RcAAHcbAABAHwAARyMAAI0nAAARLAAA1DAAANU1AAAVOwAAk0AAAFBGAABLTAAAhVIAAP1YAAC0XwAAqWYAAN1tAABPdQAAAH0AAO+EAAAdjQAAiZUAADSeAAAdpwAARbAAAKu5AAA=",
            "dtype": "i4"
           }
          },
          {
           "marker": {
            "color": "darkred",
            "size": 12
           },
           "mode": "markers",
           "name": "cost at w=370",
           "showlegend": false,
           "type": "scatter",
           "x": [
            370
           ],
           "y": [
            36125
           ]
          },
          {
           "line": {
            "color": "purple",
            "dash": "dot",
            "width": 3
           },
           "mode": "lines",
           "showlegend": false,
           "type": "scatter",
           "x": [
            370,
            370
           ],
           "y": [
            0,
            36125
           ]
          },
          {
           "line": {
            "color": "purple",
            "dash": "dot",
            "width": 3
           },
           "mode": "lines",
           "showlegend": false,
           "type": "scatter",
           "x": [
            0,
            370
           ],
           "y": [
            36125,
            36125
           ]
          }
         ],
         "layout": {
          "annotations": [
           {
            "font": {
             "color": "purple",
             "size": 10
            },
            "showarrow": false,
            "text": "14450",
            "x": 1,
            "xref": "x",
            "xshift": 10,
            "y": 385,
            "yref": "y"
           },
           {
            "font": {
             "color": "purple",
             "size": 10
            },
            "showarrow": false,
            "text": "57800",
            "x": 2,
            "xref": "x",
            "xshift": 10,
            "y": 670,
            "yref": "y"
           },
           {
            "font": {
             "color": "black",
             "size": 14
            },
            "showarrow": false,
            "text": "Minimize Cost: Current Cost = 36125",
            "x": 0.5,
            "xanchor": "center",
            "xref": "paper",
            "y": 1.15,
            "yref": "paper"
           }
          ]
         },
         "name": "370"
        },
        {
         "data": [
          {
           "marker": {
            "color": "red",
            "size": 10,
            "symbol": "x"
           },
           "mode": "markers",
           "name": "Actual Value",
           "type": "scatter",
           "x": {
            "bdata": "AAAAAAAA8D8AAAAAAAAAQA==",
            "dtype": "f8"
           },
           "y": {
            "bdata": "AAAAAADAckAAAAAAAEB/QA==",
            "dtype": "f8"
           }
          },
          {
           "line": {
            "color": "blue",
            "width": 2
           },
           "mode": "lines",
           "name": "Our Prediction",
           "type": "scatter",
           "x": {
            "bdata": "AAAAAAAA8D8AAAAAAAAAQA==",
            "dtype": "f8"
           },
           "y": {
            "bdata": "AAAAAAAAfkAAAAAAAOCKQA==",
            "dtype": "f8"
           }
          },
          {
           "line": {
            "color": "purple",
            "dash": "dot",
            "width": 2
           },
           "mode": "lines",
           "name": "Cost Lines",
           "showlegend": false,
           "type": "scatter",
           "x": [
            1,
            1,
            null,
            2,
            2,
            null
           ],
           "y": [
            300,
            480,
            null,
            500,
            860,
            null
           ]
          },
          {
           "line": {
            "color": "blue",
            "width": 2
           },
           "mode": "lines",
           "name": "Cost vs w",
           "showlegend": false,
           "type": "scatter",
           "x": {
            "bdata": "AAAFAAoADwAUABkAHgAjACgALQAyADcAPABBAEYASwBQAFUAWgBfAGQAaQBuAHMAeAB9AIIAhwCMAJEAlgCbAKAApQCqAK8AtAC5AL4AwwDIAM0A0gDXANwA4QDmAOsA8AD1APoA/wAEAQkBDgETARgBHQEiAScBLAExATYBOwFAAUUBSgFPAVQBWQFeAWMBaAFtAXIBdwF8AYEBhgGLAQ==",
            "dtype": "i2"
           },
           "y": {
            "bdata": "UMMAAKu5AABFsAAAHacAADSeAACJlQAAHY0AAO+EAAAAfQAAT3UAAN1tAACpZgAAtF8AAP1YAACFUgAAS0wAAFBGAACTQAAAFTsAANU1AADUMAAAESwAAI0nAABHIwAAQB8AAHcbAADtFwAAoRQAAJQRAADFDgAANQwAAOMJAADQBwAA+wUAAGUEAAANAwAA9AEAABkBAAB9AAAAHwAAAAAAAAAfAAAAfQAAABkBAAD0AQAADQMAAGUEAAD7BQAA0AcAAOMJAAA1DAAAxQ4AAJQRAAChFAAA7RcAAHcbAABAHwAARyMAAI0nAAARLAAA1DAAANU1AAAVOwAAk0AAAFBGAABLTAAAhVIAAP1YAAC0XwAAqWYAAN1tAABPdQAAAH0AAO+EAAAdjQAAiZUAADSeAAAdpwAARbAAAKu5AAA=",
            "dtype": "i4"
           }
          },
          {
           "marker": {
            "color": "darkred",
            "size": 12
           },
           "mode": "markers",
           "name": "cost at w=380",
           "showlegend": false,
           "type": "scatter",
           "x": [
            380
           ],
           "y": [
            40500
           ]
          },
          {
           "line": {
            "color": "purple",
            "dash": "dot",
            "width": 3
           },
           "mode": "lines",
           "showlegend": false,
           "type": "scatter",
           "x": [
            380,
            380
           ],
           "y": [
            0,
            40500
           ]
          },
          {
           "line": {
            "color": "purple",
            "dash": "dot",
            "width": 3
           },
           "mode": "lines",
           "showlegend": false,
           "type": "scatter",
           "x": [
            0,
            380
           ],
           "y": [
            40500,
            40500
           ]
          }
         ],
         "layout": {
          "annotations": [
           {
            "font": {
             "color": "purple",
             "size": 10
            },
            "showarrow": false,
            "text": "16200",
            "x": 1,
            "xref": "x",
            "xshift": 10,
            "y": 390,
            "yref": "y"
           },
           {
            "font": {
             "color": "purple",
             "size": 10
            },
            "showarrow": false,
            "text": "64800",
            "x": 2,
            "xref": "x",
            "xshift": 10,
            "y": 680,
            "yref": "y"
           },
           {
            "font": {
             "color": "black",
             "size": 14
            },
            "showarrow": false,
            "text": "Minimize Cost: Current Cost = 40500",
            "x": 0.5,
            "xanchor": "center",
            "xref": "paper",
            "y": 1.15,
            "yref": "paper"
           }
          ]
         },
         "name": "380"
        },
        {
         "data": [
          {
           "marker": {
            "color": "red",
            "size": 10,
            "symbol": "x"
           },
           "mode": "markers",
           "name": "Actual Value",
           "type": "scatter",
           "x": {
            "bdata": "AAAAAAAA8D8AAAAAAAAAQA==",
            "dtype": "f8"
           },
           "y": {
            "bdata": "AAAAAADAckAAAAAAAEB/QA==",
            "dtype": "f8"
           }
          },
          {
           "line": {
            "color": "blue",
            "width": 2
           },
           "mode": "lines",
           "name": "Our Prediction",
           "type": "scatter",
           "x": {
            "bdata": "AAAAAAAA8D8AAAAAAAAAQA==",
            "dtype": "f8"
           },
           "y": {
            "bdata": "AAAAAACgfkAAAAAAAICLQA==",
            "dtype": "f8"
           }
          },
          {
           "line": {
            "color": "purple",
            "dash": "dot",
            "width": 2
           },
           "mode": "lines",
           "name": "Cost Lines",
           "showlegend": false,
           "type": "scatter",
           "x": [
            1,
            1,
            null,
            2,
            2,
            null
           ],
           "y": [
            300,
            490,
            null,
            500,
            880,
            null
           ]
          },
          {
           "line": {
            "color": "blue",
            "width": 2
           },
           "mode": "lines",
           "name": "Cost vs w",
           "showlegend": false,
           "type": "scatter",
           "x": {
            "bdata": "AAAFAAoADwAUABkAHgAjACgALQAyADcAPABBAEYASwBQAFUAWgBfAGQAaQBuAHMAeAB9AIIAhwCMAJEAlgCbAKAApQCqAK8AtAC5AL4AwwDIAM0A0gDXANwA4QDmAOsA8AD1APoA/wAEAQkBDgETARgBHQEiAScBLAExATYBOwFAAUUBSgFPAVQBWQFeAWMBaAFtAXIBdwF8AYEBhgGLAQ==",
            "dtype": "i2"
           },
           "y": {
            "bdata": "UMMAAKu5AABFsAAAHacAADSeAACJlQAAHY0AAO+EAAAAfQAAT3UAAN1tAACpZgAAtF8AAP1YAACFUgAAS0wAAFBGAACTQAAAFTsAANU1AADUMAAAESwAAI0nAABHIwAAQB8AAHcbAADtFwAAoRQAAJQRAADFDgAANQwAAOMJAADQBwAA+wUAAGUEAAANAwAA9AEAABkBAAB9AAAAHwAAAAAAAAAfAAAAfQAAABkBAAD0AQAADQMAAGUEAAD7BQAA0AcAAOMJAAA1DAAAxQ4AAJQRAAChFAAA7RcAAHcbAABAHwAARyMAAI0nAAARLAAA1DAAANU1AAAVOwAAk0AAAFBGAABLTAAAhVIAAP1YAAC0XwAAqWYAAN1tAABPdQAAAH0AAO+EAAAdjQAAiZUAADSeAAAdpwAARbAAAKu5AAA=",
            "dtype": "i4"
           }
          },
          {
           "marker": {
            "color": "darkred",
            "size": 12
           },
           "mode": "markers",
           "name": "cost at w=390",
           "showlegend": false,
           "type": "scatter",
           "x": [
            390
           ],
           "y": [
            45125
           ]
          },
          {
           "line": {
            "color": "purple",
            "dash": "dot",
            "width": 3
           },
           "mode": "lines",
           "showlegend": false,
           "type": "scatter",
           "x": [
            390,
            390
           ],
           "y": [
            0,
            45125
           ]
          },
          {
           "line": {
            "color": "purple",
            "dash": "dot",
            "width": 3
           },
           "mode": "lines",
           "showlegend": false,
           "type": "scatter",
           "x": [
            0,
            390
           ],
           "y": [
            45125,
            45125
           ]
          }
         ],
         "layout": {
          "annotations": [
           {
            "font": {
             "color": "purple",
             "size": 10
            },
            "showarrow": false,
            "text": "18050",
            "x": 1,
            "xref": "x",
            "xshift": 10,
            "y": 395,
            "yref": "y"
           },
           {
            "font": {
             "color": "purple",
             "size": 10
            },
            "showarrow": false,
            "text": "72200",
            "x": 2,
            "xref": "x",
            "xshift": 10,
            "y": 690,
            "yref": "y"
           },
           {
            "font": {
             "color": "black",
             "size": 14
            },
            "showarrow": false,
            "text": "Minimize Cost: Current Cost = 45125",
            "x": 0.5,
            "xanchor": "center",
            "xref": "paper",
            "y": 1.15,
            "yref": "paper"
           }
          ]
         },
         "name": "390"
        }
       ],
       "layout": {
        "annotations": [
         {
          "font": {
           "color": "purple",
           "size": 10
          },
          "showarrow": false,
          "text": "1250",
          "x": 1,
          "xanchor": "center",
          "xref": "paper",
          "xshift": 10,
          "y": 275,
          "yanchor": "bottom",
          "yref": "paper"
         },
         {
          "font": {
           "color": "purple",
           "size": 10
          },
          "showarrow": false,
          "text": "5000",
          "x": 2,
          "xanchor": "center",
          "xref": "paper",
          "xshift": 10,
          "y": 450,
          "yanchor": "bottom",
          "yref": "paper"
         }
        ],
        "height": 500,
        "showlegend": true,
        "sliders": [
         {
          "active": 20,
          "currentvalue": {
           "prefix": "w = ",
           "visible": true,
           "xanchor": "center"
          },
          "len": 0.9,
          "pad": {
           "b": 10,
           "t": 50
          },
          "steps": [
           {
            "args": [
             [
              "0"
             ],
             {
              "frame": {
               "duration": 0,
               "redraw": true
              },
              "mode": "immediate"
             }
            ],
            "label": "0",
            "method": "animate"
           },
           {
            "args": [
             [
              "10"
             ],
             {
              "frame": {
               "duration": 0,
               "redraw": true
              },
              "mode": "immediate"
             }
            ],
            "label": "10",
            "method": "animate"
           },
           {
            "args": [
             [
              "20"
             ],
             {
              "frame": {
               "duration": 0,
               "redraw": true
              },
              "mode": "immediate"
             }
            ],
            "label": "20",
            "method": "animate"
           },
           {
            "args": [
             [
              "30"
             ],
             {
              "frame": {
               "duration": 0,
               "redraw": true
              },
              "mode": "immediate"
             }
            ],
            "label": "30",
            "method": "animate"
           },
           {
            "args": [
             [
              "40"
             ],
             {
              "frame": {
               "duration": 0,
               "redraw": true
              },
              "mode": "immediate"
             }
            ],
            "label": "40",
            "method": "animate"
           },
           {
            "args": [
             [
              "50"
             ],
             {
              "frame": {
               "duration": 0,
               "redraw": true
              },
              "mode": "immediate"
             }
            ],
            "label": "50",
            "method": "animate"
           },
           {
            "args": [
             [
              "60"
             ],
             {
              "frame": {
               "duration": 0,
               "redraw": true
              },
              "mode": "immediate"
             }
            ],
            "label": "60",
            "method": "animate"
           },
           {
            "args": [
             [
              "70"
             ],
             {
              "frame": {
               "duration": 0,
               "redraw": true
              },
              "mode": "immediate"
             }
            ],
            "label": "70",
            "method": "animate"
           },
           {
            "args": [
             [
              "80"
             ],
             {
              "frame": {
               "duration": 0,
               "redraw": true
              },
              "mode": "immediate"
             }
            ],
            "label": "80",
            "method": "animate"
           },
           {
            "args": [
             [
              "90"
             ],
             {
              "frame": {
               "duration": 0,
               "redraw": true
              },
              "mode": "immediate"
             }
            ],
            "label": "90",
            "method": "animate"
           },
           {
            "args": [
             [
              "100"
             ],
             {
              "frame": {
               "duration": 0,
               "redraw": true
              },
              "mode": "immediate"
             }
            ],
            "label": "100",
            "method": "animate"
           },
           {
            "args": [
             [
              "110"
             ],
             {
              "frame": {
               "duration": 0,
               "redraw": true
              },
              "mode": "immediate"
             }
            ],
            "label": "110",
            "method": "animate"
           },
           {
            "args": [
             [
              "120"
             ],
             {
              "frame": {
               "duration": 0,
               "redraw": true
              },
              "mode": "immediate"
             }
            ],
            "label": "120",
            "method": "animate"
           },
           {
            "args": [
             [
              "130"
             ],
             {
              "frame": {
               "duration": 0,
               "redraw": true
              },
              "mode": "immediate"
             }
            ],
            "label": "130",
            "method": "animate"
           },
           {
            "args": [
             [
              "140"
             ],
             {
              "frame": {
               "duration": 0,
               "redraw": true
              },
              "mode": "immediate"
             }
            ],
            "label": "140",
            "method": "animate"
           },
           {
            "args": [
             [
              "150"
             ],
             {
              "frame": {
               "duration": 0,
               "redraw": true
              },
              "mode": "immediate"
             }
            ],
            "label": "150",
            "method": "animate"
           },
           {
            "args": [
             [
              "160"
             ],
             {
              "frame": {
               "duration": 0,
               "redraw": true
              },
              "mode": "immediate"
             }
            ],
            "label": "160",
            "method": "animate"
           },
           {
            "args": [
             [
              "170"
             ],
             {
              "frame": {
               "duration": 0,
               "redraw": true
              },
              "mode": "immediate"
             }
            ],
            "label": "170",
            "method": "animate"
           },
           {
            "args": [
             [
              "180"
             ],
             {
              "frame": {
               "duration": 0,
               "redraw": true
              },
              "mode": "immediate"
             }
            ],
            "label": "180",
            "method": "animate"
           },
           {
            "args": [
             [
              "190"
             ],
             {
              "frame": {
               "duration": 0,
               "redraw": true
              },
              "mode": "immediate"
             }
            ],
            "label": "190",
            "method": "animate"
           },
           {
            "args": [
             [
              "200"
             ],
             {
              "frame": {
               "duration": 0,
               "redraw": true
              },
              "mode": "immediate"
             }
            ],
            "label": "200",
            "method": "animate"
           },
           {
            "args": [
             [
              "210"
             ],
             {
              "frame": {
               "duration": 0,
               "redraw": true
              },
              "mode": "immediate"
             }
            ],
            "label": "210",
            "method": "animate"
           },
           {
            "args": [
             [
              "220"
             ],
             {
              "frame": {
               "duration": 0,
               "redraw": true
              },
              "mode": "immediate"
             }
            ],
            "label": "220",
            "method": "animate"
           },
           {
            "args": [
             [
              "230"
             ],
             {
              "frame": {
               "duration": 0,
               "redraw": true
              },
              "mode": "immediate"
             }
            ],
            "label": "230",
            "method": "animate"
           },
           {
            "args": [
             [
              "240"
             ],
             {
              "frame": {
               "duration": 0,
               "redraw": true
              },
              "mode": "immediate"
             }
            ],
            "label": "240",
            "method": "animate"
           },
           {
            "args": [
             [
              "250"
             ],
             {
              "frame": {
               "duration": 0,
               "redraw": true
              },
              "mode": "immediate"
             }
            ],
            "label": "250",
            "method": "animate"
           },
           {
            "args": [
             [
              "260"
             ],
             {
              "frame": {
               "duration": 0,
               "redraw": true
              },
              "mode": "immediate"
             }
            ],
            "label": "260",
            "method": "animate"
           },
           {
            "args": [
             [
              "270"
             ],
             {
              "frame": {
               "duration": 0,
               "redraw": true
              },
              "mode": "immediate"
             }
            ],
            "label": "270",
            "method": "animate"
           },
           {
            "args": [
             [
              "280"
             ],
             {
              "frame": {
               "duration": 0,
               "redraw": true
              },
              "mode": "immediate"
             }
            ],
            "label": "280",
            "method": "animate"
           },
           {
            "args": [
             [
              "290"
             ],
             {
              "frame": {
               "duration": 0,
               "redraw": true
              },
              "mode": "immediate"
             }
            ],
            "label": "290",
            "method": "animate"
           },
           {
            "args": [
             [
              "300"
             ],
             {
              "frame": {
               "duration": 0,
               "redraw": true
              },
              "mode": "immediate"
             }
            ],
            "label": "300",
            "method": "animate"
           },
           {
            "args": [
             [
              "310"
             ],
             {
              "frame": {
               "duration": 0,
               "redraw": true
              },
              "mode": "immediate"
             }
            ],
            "label": "310",
            "method": "animate"
           },
           {
            "args": [
             [
              "320"
             ],
             {
              "frame": {
               "duration": 0,
               "redraw": true
              },
              "mode": "immediate"
             }
            ],
            "label": "320",
            "method": "animate"
           },
           {
            "args": [
             [
              "330"
             ],
             {
              "frame": {
               "duration": 0,
               "redraw": true
              },
              "mode": "immediate"
             }
            ],
            "label": "330",
            "method": "animate"
           },
           {
            "args": [
             [
              "340"
             ],
             {
              "frame": {
               "duration": 0,
               "redraw": true
              },
              "mode": "immediate"
             }
            ],
            "label": "340",
            "method": "animate"
           },
           {
            "args": [
             [
              "350"
             ],
             {
              "frame": {
               "duration": 0,
               "redraw": true
              },
              "mode": "immediate"
             }
            ],
            "label": "350",
            "method": "animate"
           },
           {
            "args": [
             [
              "360"
             ],
             {
              "frame": {
               "duration": 0,
               "redraw": true
              },
              "mode": "immediate"
             }
            ],
            "label": "360",
            "method": "animate"
           },
           {
            "args": [
             [
              "370"
             ],
             {
              "frame": {
               "duration": 0,
               "redraw": true
              },
              "mode": "immediate"
             }
            ],
            "label": "370",
            "method": "animate"
           },
           {
            "args": [
             [
              "380"
             ],
             {
              "frame": {
               "duration": 0,
               "redraw": true
              },
              "mode": "immediate"
             }
            ],
            "label": "380",
            "method": "animate"
           },
           {
            "args": [
             [
              "390"
             ],
             {
              "frame": {
               "duration": 0,
               "redraw": true
              },
              "mode": "immediate"
             }
            ],
            "label": "390",
            "method": "animate"
           }
          ],
          "x": 0.05,
          "xanchor": "left",
          "y": -0.1,
          "yanchor": "top"
         }
        ],
        "template": {
         "data": {
          "bar": [
           {
            "error_x": {
             "color": "#2a3f5f"
            },
            "error_y": {
             "color": "#2a3f5f"
            },
            "marker": {
             "line": {
              "color": "#E5ECF6",
              "width": 0.5
             },
             "pattern": {
              "fillmode": "overlay",
              "size": 10,
              "solidity": 0.2
             }
            },
            "type": "bar"
           }
          ],
          "barpolar": [
           {
            "marker": {
             "line": {
              "color": "#E5ECF6",
              "width": 0.5
             },
             "pattern": {
              "fillmode": "overlay",
              "size": 10,
              "solidity": 0.2
             }
            },
            "type": "barpolar"
           }
          ],
          "carpet": [
           {
            "aaxis": {
             "endlinecolor": "#2a3f5f",
             "gridcolor": "white",
             "linecolor": "white",
             "minorgridcolor": "white",
             "startlinecolor": "#2a3f5f"
            },
            "baxis": {
             "endlinecolor": "#2a3f5f",
             "gridcolor": "white",
             "linecolor": "white",
             "minorgridcolor": "white",
             "startlinecolor": "#2a3f5f"
            },
            "type": "carpet"
           }
          ],
          "choropleth": [
           {
            "colorbar": {
             "outlinewidth": 0,
             "ticks": ""
            },
            "type": "choropleth"
           }
          ],
          "contour": [
           {
            "colorbar": {
             "outlinewidth": 0,
             "ticks": ""
            },
            "colorscale": [
             [
              0,
              "#0d0887"
             ],
             [
              0.1111111111111111,
              "#46039f"
             ],
             [
              0.2222222222222222,
              "#7201a8"
             ],
             [
              0.3333333333333333,
              "#9c179e"
             ],
             [
              0.4444444444444444,
              "#bd3786"
             ],
             [
              0.5555555555555556,
              "#d8576b"
             ],
             [
              0.6666666666666666,
              "#ed7953"
             ],
             [
              0.7777777777777778,
              "#fb9f3a"
             ],
             [
              0.8888888888888888,
              "#fdca26"
             ],
             [
              1,
              "#f0f921"
             ]
            ],
            "type": "contour"
           }
          ],
          "contourcarpet": [
           {
            "colorbar": {
             "outlinewidth": 0,
             "ticks": ""
            },
            "type": "contourcarpet"
           }
          ],
          "heatmap": [
           {
            "colorbar": {
             "outlinewidth": 0,
             "ticks": ""
            },
            "colorscale": [
             [
              0,
              "#0d0887"
             ],
             [
              0.1111111111111111,
              "#46039f"
             ],
             [
              0.2222222222222222,
              "#7201a8"
             ],
             [
              0.3333333333333333,
              "#9c179e"
             ],
             [
              0.4444444444444444,
              "#bd3786"
             ],
             [
              0.5555555555555556,
              "#d8576b"
             ],
             [
              0.6666666666666666,
              "#ed7953"
             ],
             [
              0.7777777777777778,
              "#fb9f3a"
             ],
             [
              0.8888888888888888,
              "#fdca26"
             ],
             [
              1,
              "#f0f921"
             ]
            ],
            "type": "heatmap"
           }
          ],
          "histogram": [
           {
            "marker": {
             "pattern": {
              "fillmode": "overlay",
              "size": 10,
              "solidity": 0.2
             }
            },
            "type": "histogram"
           }
          ],
          "histogram2d": [
           {
            "colorbar": {
             "outlinewidth": 0,
             "ticks": ""
            },
            "colorscale": [
             [
              0,
              "#0d0887"
             ],
             [
              0.1111111111111111,
              "#46039f"
             ],
             [
              0.2222222222222222,
              "#7201a8"
             ],
             [
              0.3333333333333333,
              "#9c179e"
             ],
             [
              0.4444444444444444,
              "#bd3786"
             ],
             [
              0.5555555555555556,
              "#d8576b"
             ],
             [
              0.6666666666666666,
              "#ed7953"
             ],
             [
              0.7777777777777778,
              "#fb9f3a"
             ],
             [
              0.8888888888888888,
              "#fdca26"
             ],
             [
              1,
              "#f0f921"
             ]
            ],
            "type": "histogram2d"
           }
          ],
          "histogram2dcontour": [
           {
            "colorbar": {
             "outlinewidth": 0,
             "ticks": ""
            },
            "colorscale": [
             [
              0,
              "#0d0887"
             ],
             [
              0.1111111111111111,
              "#46039f"
             ],
             [
              0.2222222222222222,
              "#7201a8"
             ],
             [
              0.3333333333333333,
              "#9c179e"
             ],
             [
              0.4444444444444444,
              "#bd3786"
             ],
             [
              0.5555555555555556,
              "#d8576b"
             ],
             [
              0.6666666666666666,
              "#ed7953"
             ],
             [
              0.7777777777777778,
              "#fb9f3a"
             ],
             [
              0.8888888888888888,
              "#fdca26"
             ],
             [
              1,
              "#f0f921"
             ]
            ],
            "type": "histogram2dcontour"
           }
          ],
          "mesh3d": [
           {
            "colorbar": {
             "outlinewidth": 0,
             "ticks": ""
            },
            "type": "mesh3d"
           }
          ],
          "parcoords": [
           {
            "line": {
             "colorbar": {
              "outlinewidth": 0,
              "ticks": ""
             }
            },
            "type": "parcoords"
           }
          ],
          "pie": [
           {
            "automargin": true,
            "type": "pie"
           }
          ],
          "scatter": [
           {
            "fillpattern": {
             "fillmode": "overlay",
             "size": 10,
             "solidity": 0.2
            },
            "type": "scatter"
           }
          ],
          "scatter3d": [
           {
            "line": {
             "colorbar": {
              "outlinewidth": 0,
              "ticks": ""
             }
            },
            "marker": {
             "colorbar": {
              "outlinewidth": 0,
              "ticks": ""
             }
            },
            "type": "scatter3d"
           }
          ],
          "scattercarpet": [
           {
            "marker": {
             "colorbar": {
              "outlinewidth": 0,
              "ticks": ""
             }
            },
            "type": "scattercarpet"
           }
          ],
          "scattergeo": [
           {
            "marker": {
             "colorbar": {
              "outlinewidth": 0,
              "ticks": ""
             }
            },
            "type": "scattergeo"
           }
          ],
          "scattergl": [
           {
            "marker": {
             "colorbar": {
              "outlinewidth": 0,
              "ticks": ""
             }
            },
            "type": "scattergl"
           }
          ],
          "scattermap": [
           {
            "marker": {
             "colorbar": {
              "outlinewidth": 0,
              "ticks": ""
             }
            },
            "type": "scattermap"
           }
          ],
          "scattermapbox": [
           {
            "marker": {
             "colorbar": {
              "outlinewidth": 0,
              "ticks": ""
             }
            },
            "type": "scattermapbox"
           }
          ],
          "scatterpolar": [
           {
            "marker": {
             "colorbar": {
              "outlinewidth": 0,
              "ticks": ""
             }
            },
            "type": "scatterpolar"
           }
          ],
          "scatterpolargl": [
           {
            "marker": {
             "colorbar": {
              "outlinewidth": 0,
              "ticks": ""
             }
            },
            "type": "scatterpolargl"
           }
          ],
          "scatterternary": [
           {
            "marker": {
             "colorbar": {
              "outlinewidth": 0,
              "ticks": ""
             }
            },
            "type": "scatterternary"
           }
          ],
          "surface": [
           {
            "colorbar": {
             "outlinewidth": 0,
             "ticks": ""
            },
            "colorscale": [
             [
              0,
              "#0d0887"
             ],
             [
              0.1111111111111111,
              "#46039f"
             ],
             [
              0.2222222222222222,
              "#7201a8"
             ],
             [
              0.3333333333333333,
              "#9c179e"
             ],
             [
              0.4444444444444444,
              "#bd3786"
             ],
             [
              0.5555555555555556,
              "#d8576b"
             ],
             [
              0.6666666666666666,
              "#ed7953"
             ],
             [
              0.7777777777777778,
              "#fb9f3a"
             ],
             [
              0.8888888888888888,
              "#fdca26"
             ],
             [
              1,
              "#f0f921"
             ]
            ],
            "type": "surface"
           }
          ],
          "table": [
           {
            "cells": {
             "fill": {
              "color": "#EBF0F8"
             },
             "line": {
              "color": "white"
             }
            },
            "header": {
             "fill": {
              "color": "#C8D4E3"
             },
             "line": {
              "color": "white"
             }
            },
            "type": "table"
           }
          ]
         },
         "layout": {
          "annotationdefaults": {
           "arrowcolor": "#2a3f5f",
           "arrowhead": 0,
           "arrowwidth": 1
          },
          "autotypenumbers": "strict",
          "coloraxis": {
           "colorbar": {
            "outlinewidth": 0,
            "ticks": ""
           }
          },
          "colorscale": {
           "diverging": [
            [
             0,
             "#8e0152"
            ],
            [
             0.1,
             "#c51b7d"
            ],
            [
             0.2,
             "#de77ae"
            ],
            [
             0.3,
             "#f1b6da"
            ],
            [
             0.4,
             "#fde0ef"
            ],
            [
             0.5,
             "#f7f7f7"
            ],
            [
             0.6,
             "#e6f5d0"
            ],
            [
             0.7,
             "#b8e186"
            ],
            [
             0.8,
             "#7fbc41"
            ],
            [
             0.9,
             "#4d9221"
            ],
            [
             1,
             "#276419"
            ]
           ],
           "sequential": [
            [
             0,
             "#0d0887"
            ],
            [
             0.1111111111111111,
             "#46039f"
            ],
            [
             0.2222222222222222,
             "#7201a8"
            ],
            [
             0.3333333333333333,
             "#9c179e"
            ],
            [
             0.4444444444444444,
             "#bd3786"
            ],
            [
             0.5555555555555556,
             "#d8576b"
            ],
            [
             0.6666666666666666,
             "#ed7953"
            ],
            [
             0.7777777777777778,
             "#fb9f3a"
            ],
            [
             0.8888888888888888,
             "#fdca26"
            ],
            [
             1,
             "#f0f921"
            ]
           ],
           "sequentialminus": [
            [
             0,
             "#0d0887"
            ],
            [
             0.1111111111111111,
             "#46039f"
            ],
            [
             0.2222222222222222,
             "#7201a8"
            ],
            [
             0.3333333333333333,
             "#9c179e"
            ],
            [
             0.4444444444444444,
             "#bd3786"
            ],
            [
             0.5555555555555556,
             "#d8576b"
            ],
            [
             0.6666666666666666,
             "#ed7953"
            ],
            [
             0.7777777777777778,
             "#fb9f3a"
            ],
            [
             0.8888888888888888,
             "#fdca26"
            ],
            [
             1,
             "#f0f921"
            ]
           ]
          },
          "colorway": [
           "#636efa",
           "#EF553B",
           "#00cc96",
           "#ab63fa",
           "#FFA15A",
           "#19d3f3",
           "#FF6692",
           "#B6E880",
           "#FF97FF",
           "#FECB52"
          ],
          "font": {
           "color": "#2a3f5f"
          },
          "geo": {
           "bgcolor": "white",
           "lakecolor": "white",
           "landcolor": "#E5ECF6",
           "showlakes": true,
           "showland": true,
           "subunitcolor": "white"
          },
          "hoverlabel": {
           "align": "left"
          },
          "hovermode": "closest",
          "mapbox": {
           "style": "light"
          },
          "paper_bgcolor": "white",
          "plot_bgcolor": "#E5ECF6",
          "polar": {
           "angularaxis": {
            "gridcolor": "white",
            "linecolor": "white",
            "ticks": ""
           },
           "bgcolor": "#E5ECF6",
           "radialaxis": {
            "gridcolor": "white",
            "linecolor": "white",
            "ticks": ""
           }
          },
          "scene": {
           "xaxis": {
            "backgroundcolor": "#E5ECF6",
            "gridcolor": "white",
            "gridwidth": 2,
            "linecolor": "white",
            "showbackground": true,
            "ticks": "",
            "zerolinecolor": "white"
           },
           "yaxis": {
            "backgroundcolor": "#E5ECF6",
            "gridcolor": "white",
            "gridwidth": 2,
            "linecolor": "white",
            "showbackground": true,
            "ticks": "",
            "zerolinecolor": "white"
           },
           "zaxis": {
            "backgroundcolor": "#E5ECF6",
            "gridcolor": "white",
            "gridwidth": 2,
            "linecolor": "white",
            "showbackground": true,
            "ticks": "",
            "zerolinecolor": "white"
           }
          },
          "shapedefaults": {
           "line": {
            "color": "#2a3f5f"
           }
          },
          "ternary": {
           "aaxis": {
            "gridcolor": "white",
            "linecolor": "white",
            "ticks": ""
           },
           "baxis": {
            "gridcolor": "white",
            "linecolor": "white",
            "ticks": ""
           },
           "bgcolor": "#E5ECF6",
           "caxis": {
            "gridcolor": "white",
            "linecolor": "white",
            "ticks": ""
           }
          },
          "title": {
           "x": 0.05
          },
          "xaxis": {
           "automargin": true,
           "gridcolor": "white",
           "linecolor": "white",
           "ticks": "",
           "title": {
            "standoff": 15
           },
           "zerolinecolor": "white",
           "zerolinewidth": 2
          },
          "yaxis": {
           "automargin": true,
           "gridcolor": "white",
           "linecolor": "white",
           "ticks": "",
           "title": {
            "standoff": 15
           },
           "zerolinecolor": "white",
           "zerolinewidth": 2
          }
         }
        },
        "title": {
         "text": "Minimize Cost: Current Cost = 3125"
        },
        "xaxis": {
         "anchor": "y",
         "domain": [
          0,
          0.425
         ],
         "title": {
          "text": "Size (100 m²)"
         }
        },
        "xaxis2": {
         "anchor": "y2",
         "domain": [
          0.575,
          1
         ],
         "title": {
          "text": "w"
         }
        },
        "yaxis": {
         "anchor": "x",
         "domain": [
          0,
          1
         ],
         "title": {
          "text": "Price (in 1000s of CHF)"
         }
        },
        "yaxis2": {
         "anchor": "x2",
         "domain": [
          0,
          1
         ],
         "title": {
          "text": "Cost"
         }
        }
       }
      },
      "image/png": "[encoded data removed]"
     },
     "metadata": {},
     "output_type": "display_data"
    }
   ],
   "source": [
    "#plt_intuition(x_train,y_train)\n",
    "plotly_plt_intuition(x_train,y_train)"
   ]
  },
  {
   "cell_type": "markdown",
   "id": "3d0a4064",
   "metadata": {
    "pycharm": {
     "name": "#%% md\n"
    }
   },
   "source": [
    "The plot contains a few points that are worth mentioning.\n",
    "- cost is minimized when $w = 200$, which matches results from the previous lab\n",
    "- Because the difference between the target and pediction is squared in the cost equation, the cost increases rapidly when $w$ is either too large or too small.\n",
    "- Using the `w` and `b` selected by minimizing cost results in a line which is a perfect fit to the data."
   ]
  },
  {
   "cell_type": "markdown",
   "id": "71381910",
   "metadata": {
    "pycharm": {
     "name": "#%% md\n"
    }
   },
   "source": [
    "## Cost Function Visualization- 3D\n",
    "\n",
    "You can see how cost varies with respect to *both* `w` and `b` by plotting in 3D or using a contour plot.   \n",
    "It is worth noting that some of the plotting in this course can become quite involved. The plotting routines are provided and while it can be instructive to read through the code to become familiar with the methods, it is not needed to complete the course successfully. The routines are in lab_utils_uni.py in the local directory."
   ]
  },
  {
   "cell_type": "markdown",
   "id": "2724b1e7",
   "metadata": {
    "pycharm": {
     "name": "#%% md\n"
    }
   },
   "source": [
    "### Larger Data Set\n",
    "It's use instructive to view a scenario with a few more data points. This data set includes data points that do not fall on the same line. What does that mean for the cost equation? Can we find $w$, and $b$ that will give us a cost of 0? "
   ]
  },
  {
   "cell_type": "code",
   "execution_count": 5,
   "id": "88b724d1",
   "metadata": {
    "pycharm": {
     "name": "#%%\n"
    }
   },
   "outputs": [],
   "source": [
    "x_train = np.array([1.0, 1.7, 2.0, 2.5, 3.0, 3.2])\n",
    "y_train = np.array([250, 300, 480,  430,   630, 730,])"
   ]
  },
  {
   "cell_type": "markdown",
   "id": "2a0f75ed",
   "metadata": {
    "pycharm": {
     "name": "#%% md\n"
    }
   },
   "source": [
    "In the contour plot, click on a point to select `w` and `b` to achieve the lowest cost. Use the contours to guide your selections. Note, it can take a few seconds to update the graph. "
   ]
  },
  {
   "cell_type": "code",
   "execution_count": 6,
   "id": "d6ec6578",
   "metadata": {
    "pycharm": {
     "name": "#%%\n"
    }
   },
   "outputs": [
    {
     "data": {
      "application/vnd.jupyter.widget-view+json": {
       "model_id": "916f0ff3a0d54bfda5a0ccfab94222ec",
       "version_major": 2,
       "version_minor": 0
      },
      "text/plain": [
       "interactive(children=(FloatSlider(value=200.0, description='w:', max=500.0, min=-100.0, step=10.0), FloatSlide…"
      ]
     },
     "metadata": {},
     "output_type": "display_data"
    }
   ],
   "source": [
    "plt.close('all') \n",
    "fig, ax, dyn_items = plotly_stationary_with_click(x_train, y_train)\n",
    "#updater = plt_update_onclick(fig, ax, x_train, y_train, dyn_items)"
   ]
  },
  {
   "cell_type": "markdown",
   "id": "7f6a8a49",
   "metadata": {
    "pycharm": {
     "name": "#%% md\n"
    }
   },
   "source": [
    "Above, note the dashed lines in the left plot. These represent the portion of the cost contributed by each example in your training set. In this case, values of approximately $w=209$ and $b=2.4$ provide low cost. Note that, because our training examples are not on a line, the minimum cost is not zero."
   ]
  },
  {
   "cell_type": "markdown",
   "id": "c09343e2",
   "metadata": {
    "pycharm": {
     "name": "#%% md\n"
    }
   },
   "source": [
    "### Convex Cost surface\n",
    "The fact that the cost function squares the loss ensures that the 'error surface' is convex like a soup bowl. It will always have a minimum that can be reached by following the gradient in all dimensions. In the previous plot, because the $w$ and $b$ dimensions scale differently, this is not easy to recognize. The following plot, where $w$ and $b$ are symmetric, was shown in lecture:"
   ]
  },
  {
   "cell_type": "code",
   "execution_count": 8,
   "id": "aea3836c",
   "metadata": {
    "pycharm": {
     "name": "#%%\n"
    }
   },
   "outputs": [
    {
     "data": {
      "application/vnd.plotly.v1+json": {
       "config": {
        "plotlyServerURL": "https://plot.ly"
       },
       "data": [
        {
         "colorbar": {
          "title": {
           "text": "Cost"
          },
          "x": 1
         },
         "colorscale": [
          [
           0,
           "rgb(94,79,162)"
          ],
          [
           0.1,
           "rgb(50,136,189)"
          ],
          [
           0.2,
           "rgb(102,194,165)"
          ],
          [
           0.3,
           "rgb(171,221,164)"
          ],
          [
           0.4,
           "rgb(230,245,152)"
          ],
          [
           0.5,
           "rgb(255,255,191)"
          ],
          [
           0.6,
           "rgb(254,224,139)"
          ],
          [
           0.7,
           "rgb(253,174,97)"
          ],
          [
           0.8,
           "rgb(244,109,67)"
          ],
          [
           0.9,
           "rgb(213,62,79)"
          ],
          [
           1,
           "rgb(158,1,66)"
          ]
         ],
         "name": "J(w,b)",
         "opacity": 0.9,
         "showscale": true,
         "type": "surface",
         "x": {
          "bdata": "AAAAAAAANMBDYt7OkJgzwIbEvJ0hMTPAyiabbLLJMsANiXk7Q2IywFDrVwrU+jHAk0022WSTMcDXrxSo9SsxwBoS83aGxDDAXXTRRRddMMBArV8pUOsvwMdxHMdxHC/ATjbZZJNNLsDU+pUCtX4twFq/UqDWryzA4YMPPvjgK8BoSMzbGRIrwO4MiXk7QyrAdNFFF110KcD7lQK1fqUowIFav1Kg1ifACB988MEHJ8CO4ziO4zgmwBWo9SsFaiXAm2yyySabJMAiMW9nSMwjwKj1KwVq/SLAL7rooosuIsC1fqVArV8hwDxDYt7OkCDAhA8++OCDH8CSmLczJOYdwJ4hMW9nSBzAqqqqqqqqGsC4MyTm7QwZwMS8nSExbxfA0kUXXXTRFcDezpCYtzMUwOxXCtT6lRLA+OCDDz74EMAI1PqVArUOwCjm7QyJeQvAQPjggw8+CMBYCtT6lQIFwHAcx3EcxwHAIF100UUX/b9QgVq/UqD2v4ClQK1fKfC/YJNNNtlk478Ab2dIzNvJvwBvZ0jM28k/YJNNNtlk4z+ApUCtXynwP1CBWr9SoPY/EF100UUX/T9wHMdxHMcBQFgK1PqVAgVAQPjggw8+CEAg5u0MiXkLQAjU+pUCtQ5A+OCDDz74EEDsVwrU+pUSQNzOkJi3MxRA0EUXXXTRFUDEvJ0hMW8XQLgzJObtDBlArKqqqqqqGkCcITFvZ0gcQJCYtzMk5h1AhA8++OCDH0A8Q2LezpAgQLR+pUCtXyFALrrooosuIkCo9SsFav0iQCIxb2dIzCNAmmyyySabJEAUqPUrBWolQI7jOI7jOCZACB988MEHJ0CAWr9SoNYnQPyVArV+pShAdNFFF110KUDsDIl5O0MqQGhIzNsZEitA4IMPPvjgK0Bcv1Kg1q8sQNT6lQK1fi1ATDbZZJNNLkDIcRzHcRwvQECtXylQ6y9AXHTRRRddMEAaEvN2hsQwQNavFKj1KzFAlE022WSTMUBQ61cK1PoxQAyJeTtDYjJAyiabbLLJMkCGxLydITEzQERi3s6QmDNAAAAAAAAANEAAAAAAAAA0wENi3s6QmDPAhsS8nSExM8DKJptssskywA2JeTtDYjLAUOtXCtT6McCTTTbZZJMxwNevFKj1KzHAGhLzdobEMMBddNFFF10wwECtXylQ6y/Ax3Ecx3EcL8BONtlkk00uwNT6lQK1fi3AWr9SoNavLMDhgw8++OArwGhIzNsZEivA7gyJeTtDKsB00UUXXXQpwPuVArV+pSjAgVq/UqDWJ8AIH3zwwQcnwI7jOI7jOCbAFaj1KwVqJcCbbLLJJpskwCIxb2dIzCPAqPUrBWr9IsAvuuiiiy4iwLV+pUCtXyHAPENi3s6QIMCEDz744IMfwJKYtzMk5h3AniExb2dIHMCqqqqqqqoawLgzJObtDBnAxLydITFvF8DSRRdddNEVwN7OkJi3MxTA7FcK1PqVEsD44IMPPvgQwAjU+pUCtQ7AKObtDIl5C8BA+OCDDz4IwFgK1PqVAgXAcBzHcRzHAcAgXXTRRRf9v1CBWr9SoPa/gKVArV8p8L9gk0022WTjvwBvZ0jM28m/AG9nSMzbyT9gk0022WTjP4ClQK1fKfA/UIFav1Kg9j8QXXTRRRf9P3Acx3EcxwFAWArU+pUCBUBA+OCDDz4IQCDm7QyJeQtACNT6lQK1DkD44IMPPvgQQOxXCtT6lRJA3M6QmLczFEDQRRdddNEVQMS8nSExbxdAuDMk5u0MGUCsqqqqqqoaQJwhMW9nSBxAkJi3MyTmHUCEDz744IMfQDxDYt7OkCBAtH6lQK1fIUAuuuiiiy4iQKj1KwVq/SJAIjFvZ0jMI0CabLLJJpskQBSo9SsFaiVAjuM4juM4JkAIH3zwwQcnQIBav1Kg1idA/JUCtX6lKEB00UUXXXQpQOwMiXk7QypAaEjM2xkSK0Dggw8++OArQFy/UqDWryxA1PqVArV+LUBMNtlkk00uQMhxHMdxHC9AQK1fKVDrL0BcdNFFF10wQBoS83aGxDBA1q8UqPUrMUCUTTbZZJMxQFDrVwrU+jFADIl5O0NiMkDKJptssskyQIbEvJ0hMTNARGLezpCYM0AAAAAAAAA0QAAAAAAAADTAQ2LezpCYM8CGxLydITEzwMomm2yyyTLADYl5O0NiMsBQ61cK1PoxwJNNNtlkkzHA168UqPUrMcAaEvN2hsQwwF100UUXXTDAQK1fKVDrL8DHcRzHcRwvwE422WSTTS7A1PqVArV+LcBav1Kg1q8swOGDDz744CvAaEjM2xkSK8DuDIl5O0MqwHTRRRdddCnA+5UCtX6lKMCBWr9SoNYnwAgffPDBByfAjuM4juM4JsAVqPUrBWolwJtssskmmyTAIjFvZ0jMI8Co9SsFav0iwC+66KKLLiLAtX6lQK1fIcA8Q2LezpAgwIQPPvjggx/Akpi3MyTmHcCeITFvZ0gcwKqqqqqqqhrAuDMk5u0MGcDEvJ0hMW8XwNJFF1100RXA3s6QmLczFMDsVwrU+pUSwPjggw8++BDACNT6lQK1DsAo5u0MiXkLwED44IMPPgjAWArU+pUCBcBwHMdxHMcBwCBddNFFF/2/UIFav1Kg9r+ApUCtXynwv2CTTTbZZOO/AG9nSMzbyb8Ab2dIzNvJP2CTTTbZZOM/gKVArV8p8D9QgVq/UqD2PxBddNFFF/0/cBzHcRzHAUBYCtT6lQIFQED44IMPPghAIObtDIl5C0AI1PqVArUOQPjggw8++BBA7FcK1PqVEkDczpCYtzMUQNBFF1100RVAxLydITFvF0C4MyTm7QwZQKyqqqqqqhpAnCExb2dIHECQmLczJOYdQIQPPvjggx9APENi3s6QIEC0fqVArV8hQC666KKLLiJAqPUrBWr9IkAiMW9nSMwjQJpssskmmyRAFKj1KwVqJUCO4ziO4zgmQAgffPDBBydAgFq/UqDWJ0D8lQK1fqUoQHTRRRdddClA7AyJeTtDKkBoSMzbGRIrQOCDDz744CtAXL9SoNavLEDU+pUCtX4tQEw22WSTTS5AyHEcx3EcL0BArV8pUOsvQFx00UUXXTBAGhLzdobEMEDWrxSo9SsxQJRNNtlkkzFAUOtXCtT6MUAMiXk7Q2IyQMomm2yyyTJAhsS8nSExM0BEYt7OkJgzQAAAAAAAADRAAAAAAAAANMBDYt7OkJgzwIbEvJ0hMTPAyiabbLLJMsANiXk7Q2IywFDrVwrU+jHAk0022WSTMcDXrxSo9SsxwBoS83aGxDDAXXTRRRddMMBArV8pUOsvwMdxHMdxHC/ATjbZZJNNLsDU+pUCtX4twFq/UqDWryzA4YMPPvjgK8BoSMzbGRIrwO4MiXk7QyrAdNFFF110KcD7lQK1fqUowIFav1Kg1ifACB988MEHJ8CO4ziO4zgmwBWo9SsFaiXAm2yyySabJMAiMW9nSMwjwKj1KwVq/SLAL7rooosuIsC1fqVArV8hwDxDYt7OkCDAhA8++OCDH8CSmLczJOYdwJ4hMW9nSBzAqqqqqqqqGsC4MyTm7QwZwMS8nSExbxfA0kUXXXTRFcDezpCYtzMUwOxXCtT6lRLA+OCDDz74EMAI1PqVArUOwCjm7QyJeQvAQPjggw8+CMBYCtT6lQIFwHAcx3EcxwHAIF100UUX/b9QgVq/UqD2v4ClQK1fKfC/YJNNNtlk478Ab2dIzNvJvwBvZ0jM28k/YJNNNtlk4z+ApUCtXynwP1CBWr9SoPY/EF100UUX/T9wHMdxHMcBQFgK1PqVAgVAQPjggw8+CEAg5u0MiXkLQAjU+pUCtQ5A+OCDDz74EEDsVwrU+pUSQNzOkJi3MxRA0EUXXXTRFUDEvJ0hMW8XQLgzJObtDBlArKqqqqqqGkCcITFvZ0gcQJCYtzMk5h1AhA8++OCDH0A8Q2LezpAgQLR+pUCtXyFALrrooosuIkCo9SsFav0iQCIxb2dIzCNAmmyyySabJEAUqPUrBWolQI7jOI7jOCZACB988MEHJ0CAWr9SoNYnQPyVArV+pShAdNFFF110KUDsDIl5O0MqQGhIzNsZEitA4IMPPvjgK0Bcv1Kg1q8sQNT6lQK1fi1ATDbZZJNNLkDIcRzHcRwvQECtXylQ6y9AXHTRRRddMEAaEvN2hsQwQNavFKj1KzFAlE022WSTMUBQ61cK1PoxQAyJeTtDYjJAyiabbLLJMkCGxLydITEzQERi3s6QmDNAAAAAAAAANEAAAAAAAAA0wENi3s6QmDPAhsS8nSExM8DKJptssskywA2JeTtDYjLAUOtXCtT6McCTTTbZZJMxwNevFKj1KzHAGhLzdobEMMBddNFFF10wwECtXylQ6y/Ax3Ecx3EcL8BONtlkk00uwNT6lQK1fi3AWr9SoNavLMDhgw8++OArwGhIzNsZEivA7gyJeTtDKsB00UUXXXQpwPuVArV+pSjAgVq/UqDWJ8AIH3zwwQcnwI7jOI7jOCbAFaj1KwVqJcCbbLLJJpskwCIxb2dIzCPAqPUrBWr9IsAvuuiiiy4iwLV+pUCtXyHAPENi3s6QIMCEDz744IMfwJKYtzMk5h3AniExb2dIHMCqqqqqqqoawLgzJObtDBnAxLydITFvF8DSRRdddNEVwN7OkJi3MxTA7FcK1PqVEsD44IMPPvgQwAjU+pUCtQ7AKObtDIl5C8BA+OCDDz4IwFgK1PqVAgXAcBzHcRzHAcAgXXTRRRf9v1CBWr9SoPa/gKVArV8p8L9gk0022WTjvwBvZ0jM28m/AG9nSMzbyT9gk0022WTjP4ClQK1fKfA/UIFav1Kg9j8QXXTRRRf9P3Acx3EcxwFAWArU+pUCBUBA+OCDDz4IQCDm7QyJeQtACNT6lQK1DkD44IMPPvgQQOxXCtT6lRJA3M6QmLczFEDQRRdddNEVQMS8nSExbxdAuDMk5u0MGUCsqqqqqqoaQJwhMW9nSBxAkJi3MyTmHUCEDz744IMfQDxDYt7OkCBAtH6lQK1fIUAuuuiiiy4iQKj1KwVq/SJAIjFvZ0jMI0CabLLJJpskQBSo9SsFaiVAjuM4juM4JkAIH3zwwQcnQIBav1Kg1idA/JUCtX6lKEB00UUXXXQpQOwMiXk7QypAaEjM2xkSK0Dggw8++OArQFy/UqDWryxA1PqVArV+LUBMNtlkk00uQMhxHMdxHC9AQK1fKVDrL0BcdNFFF10wQBoS83aGxDBA1q8UqPUrMUCUTTbZZJMxQFDrVwrU+jFADIl5O0NiMkDKJptssskyQIbEvJ0hMTNARGLezpCYM0AAAAAAAAA0QAAAAAAAADTAQ2LezpCYM8CGxLydITEzwMomm2yyyTLADYl5O0NiMsBQ61cK1PoxwJNNNtlkkzHA168UqPUrMcAaEvN2hsQwwF100UUXXTDAQK1fKVDrL8DHcRzHcRwvwE422WSTTS7A1PqVArV+LcBav1Kg1q8swOGDDz744CvAaEjM2xkSK8DuDIl5O0MqwHTRRRdddCnA+5UCtX6lKMCBWr9SoNYnwAgffPDBByfAjuM4juM4JsAVqPUrBWolwJtssskmmyTAIjFvZ0jMI8Co9SsFav0iwC+66KKLLiLAtX6lQK1fIcA8Q2LezpAgwIQPPvjggx/Akpi3MyTmHcCeITFvZ0gcwKqqqqqqqhrAuDMk5u0MGcDEvJ0hMW8XwNJFF1100RXA3s6QmLczFMDsVwrU+pUSwPjggw8++BDACNT6lQK1DsAo5u0MiXkLwED44IMPPgjAWArU+pUCBcBwHMdxHMcBwCBddNFFF/2/UIFav1Kg9r+ApUCtXynwv2CTTTbZZOO/AG9nSMzbyb8Ab2dIzNvJP2CTTTbZZOM/gKVArV8p8D9QgVq/UqD2PxBddNFFF/0/cBzHcRzHAUBYCtT6lQIFQED44IMPPghAIObtDIl5C0AI1PqVArUOQPjggw8++BBA7FcK1PqVEkDczpCYtzMUQNBFF1100RVAxLydITFvF0C4MyTm7QwZQKyqqqqqqhpAnCExb2dIHECQmLczJOYdQIQPPvjggx9APENi3s6QIEC0fqVArV8hQC666KKLLiJAqPUrBWr9IkAiMW9nSMwjQJpssskmmyRAFKj1KwVqJUCO4ziO4zgmQAgffPDBBydAgFq/UqDWJ0D8lQK1fqUoQHTRRRdddClA7AyJeTtDKkBoSMzbGRIrQOCDDz744CtAXL9SoNavLEDU+pUCtX4tQEw22WSTTS5AyHEcx3EcL0BArV8pUOsvQFx00UUXXTBAGhLzdobEMEDWrxSo9SsxQJRNNtlkkzFAUOtXCtT6MUAMiXk7Q2IyQMomm2yyyTJAhsS8nSExM0BEYt7OkJgzQAAAAAAAADRAAAAAAAAANMBDYt7OkJgzwIbEvJ0hMTPAyiabbLLJMsANiXk7Q2IywFDrVwrU+jHAk0022WSTMcDXrxSo9SsxwBoS83aGxDDAXXTRRRddMMBArV8pUOsvwMdxHMdxHC/ATjbZZJNNLsDU+pUCtX4twFq/UqDWryzA4YMPPvjgK8BoSMzbGRIrwO4MiXk7QyrAdNFFF110KcD7lQK1fqUowIFav1Kg1ifACB988MEHJ8CO4ziO4zgmwBWo9SsFaiXAm2yyySabJMAiMW9nSMwjwKj1KwVq/SLAL7rooosuIsC1fqVArV8hwDxDYt7OkCDAhA8++OCDH8CSmLczJOYdwJ4hMW9nSBzAqqqqqqqqGsC4MyTm7QwZwMS8nSExbxfA0kUXXXTRFcDezpCYtzMUwOxXCtT6lRLA+OCDDz74EMAI1PqVArUOwCjm7QyJeQvAQPjggw8+CMBYCtT6lQIFwHAcx3EcxwHAIF100UUX/b9QgVq/UqD2v4ClQK1fKfC/YJNNNtlk478Ab2dIzNvJvwBvZ0jM28k/YJNNNtlk4z+ApUCtXynwP1CBWr9SoPY/EF100UUX/T9wHMdxHMcBQFgK1PqVAgVAQPjggw8+CEAg5u0MiXkLQAjU+pUCtQ5A+OCDDz74EEDsVwrU+pUSQNzOkJi3MxRA0EUXXXTRFUDEvJ0hMW8XQLgzJObtDBlArKqqqqqqGkCcITFvZ0gcQJCYtzMk5h1AhA8++OCDH0A8Q2LezpAgQLR+pUCtXyFALrrooosuIkCo9SsFav0iQCIxb2dIzCNAmmyyySabJEAUqPUrBWolQI7jOI7jOCZACB988MEHJ0CAWr9SoNYnQPyVArV+pShAdNFFF110KUDsDIl5O0MqQGhIzNsZEitA4IMPPvjgK0Bcv1Kg1q8sQNT6lQK1fi1ATDbZZJNNLkDIcRzHcRwvQECtXylQ6y9AXHTRRRddMEAaEvN2hsQwQNavFKj1KzFAlE022WSTMUBQ61cK1PoxQAyJeTtDYjJAyiabbLLJMkCGxLydITEzQERi3s6QmDNAAAAAAAAANEAAAAAAAAA0wENi3s6QmDPAhsS8nSExM8DKJptssskywA2JeTtDYjLAUOtXCtT6McCTTTbZZJMxwNevFKj1KzHAGhLzdobEMMBddNFFF10wwECtXylQ6y/Ax3Ecx3EcL8BONtlkk00uwNT6lQK1fi3AWr9SoNavLMDhgw8++OArwGhIzNsZEivA7gyJeTtDKsB00UUXXXQpwPuVArV+pSjAgVq/UqDWJ8AIH3zwwQcnwI7jOI7jOCbAFaj1KwVqJcCbbLLJJpskwCIxb2dIzCPAqPUrBWr9IsAvuuiiiy4iwLV+pUCtXyHAPENi3s6QIMCEDz744IMfwJKYtzMk5h3AniExb2dIHMCqqqqqqqoawLgzJObtDBnAxLydITFvF8DSRRdddNEVwN7OkJi3MxTA7FcK1PqVEsD44IMPPvgQwAjU+pUCtQ7AKObtDIl5C8BA+OCDDz4IwFgK1PqVAgXAcBzHcRzHAcAgXXTRRRf9v1CBWr9SoPa/gKVArV8p8L9gk0022WTjvwBvZ0jM28m/AG9nSMzbyT9gk0022WTjP4ClQK1fKfA/UIFav1Kg9j8QXXTRRRf9P3Acx3EcxwFAWArU+pUCBUBA+OCDDz4IQCDm7QyJeQtACNT6lQK1DkD44IMPPvgQQOxXCtT6lRJA3M6QmLczFEDQRRdddNEVQMS8nSExbxdAuDMk5u0MGUCsqqqqqqoaQJwhMW9nSBxAkJi3MyTmHUCEDz744IMfQDxDYt7OkCBAtH6lQK1fIUAuuuiiiy4iQKj1KwVq/SJAIjFvZ0jMI0CabLLJJpskQBSo9SsFaiVAjuM4juM4JkAIH3zwwQcnQIBav1Kg1idA/JUCtX6lKEB00UUXXXQpQOwMiXk7QypAaEjM2xkSK0Dggw8++OArQFy/UqDWryxA1PqVArV+LUBMNtlkk00uQMhxHMdxHC9AQK1fKVDrL0BcdNFFF10wQBoS83aGxDBA1q8UqPUrMUCUTTbZZJMxQFDrVwrU+jFADIl5O0NiMkDKJptssskyQIbEvJ0hMTNARGLezpCYM0AAAAAAAAA0QAAAAAAAADTAQ2LezpCYM8CGxLydITEzwMomm2yyyTLADYl5O0NiMsBQ61cK1PoxwJNNNtlkkzHA168UqPUrMcAaEvN2hsQwwF100UUXXTDAQK1fKVDrL8DHcRzHcRwvwE422WSTTS7A1PqVArV+LcBav1Kg1q8swOGDDz744CvAaEjM2xkSK8DuDIl5O0MqwHTRRRdddCnA+5UCtX6lKMCBWr9SoNYnwAgffPDBByfAjuM4juM4JsAVqPUrBWolwJtssskmmyTAIjFvZ0jMI8Co9SsFav0iwC+66KKLLiLAtX6lQK1fIcA8Q2LezpAgwIQPPvjggx/Akpi3MyTmHcCeITFvZ0gcwKqqqqqqqhrAuDMk5u0MGcDEvJ0hMW8XwNJFF1100RXA3s6QmLczFMDsVwrU+pUSwPjggw8++BDACNT6lQK1DsAo5u0MiXkLwED44IMPPgjAWArU+pUCBcBwHMdxHMcBwCBddNFFF/2/UIFav1Kg9r+ApUCtXynwv2CTTTbZZOO/AG9nSMzbyb8Ab2dIzNvJP2CTTTbZZOM/gKVArV8p8D9QgVq/UqD2PxBddNFFF/0/cBzHcRzHAUBYCtT6lQIFQED44IMPPghAIObtDIl5C0AI1PqVArUOQPjggw8++BBA7FcK1PqVEkDczpCYtzMUQNBFF1100RVAxLydITFvF0C4MyTm7QwZQKyqqqqqqhpAnCExb2dIHECQmLczJOYdQIQPPvjggx9APENi3s6QIEC0fqVArV8hQC666KKLLiJAqPUrBWr9IkAiMW9nSMwjQJpssskmmyRAFKj1KwVqJUCO4ziO4zgmQAgffPDBBydAgFq/UqDWJ0D8lQK1fqUoQHTRRRdddClA7AyJeTtDKkBoSMzbGRIrQOCDDz744CtAXL9SoNavLEDU+pUCtX4tQEw22WSTTS5AyHEcx3EcL0BArV8pUOsvQFx00UUXXTBAGhLzdobEMEDWrxSo9SsxQJRNNtlkkzFAUOtXCtT6MUAMiXk7Q2IyQMomm2yyyTJAhsS8nSExM0BEYt7OkJgzQAAAAAAAADRAAAAAAAAANMBDYt7OkJgzwIbEvJ0hMTPAyiabbLLJMsANiXk7Q2IywFDrVwrU+jHAk0022WSTMcDXrxSo9SsxwBoS83aGxDDAXXTRRRddMMBArV8pUOsvwMdxHMdxHC/ATjbZZJNNLsDU+pUCtX4twFq/UqDWryzA4YMPPvjgK8BoSMzbGRIrwO4MiXk7QyrAdNFFF110KcD7lQK1fqUowIFav1Kg1ifACB988MEHJ8CO4ziO4zgmwBWo9SsFaiXAm2yyySabJMAiMW9nSMwjwKj1KwVq/SLAL7rooosuIsC1fqVArV8hwDxDYt7OkCDAhA8++OCDH8CSmLczJOYdwJ4hMW9nSBzAqqqqqqqqGsC4MyTm7QwZwMS8nSExbxfA0kUXXXTRFcDezpCYtzMUwOxXCtT6lRLA+OCDDz74EMAI1PqVArUOwCjm7QyJeQvAQPjggw8+CMBYCtT6lQIFwHAcx3EcxwHAIF100UUX/b9QgVq/UqD2v4ClQK1fKfC/YJNNNtlk478Ab2dIzNvJvwBvZ0jM28k/YJNNNtlk4z+ApUCtXynwP1CBWr9SoPY/EF100UUX/T9wHMdxHMcBQFgK1PqVAgVAQPjggw8+CEAg5u0MiXkLQAjU+pUCtQ5A+OCDDz74EEDsVwrU+pUSQNzOkJi3MxRA0EUXXXTRFUDEvJ0hMW8XQLgzJObtDBlArKqqqqqqGkCcITFvZ0gcQJCYtzMk5h1AhA8++OCDH0A8Q2LezpAgQLR+pUCtXyFALrrooosuIkCo9SsFav0iQCIxb2dIzCNAmmyyySabJEAUqPUrBWolQI7jOI7jOCZACB988MEHJ0CAWr9SoNYnQPyVArV+pShAdNFFF110KUDsDIl5O0MqQGhIzNsZEitA4IMPPvjgK0Bcv1Kg1q8sQNT6lQK1fi1ATDbZZJNNLkDIcRzHcRwvQECtXylQ6y9AXHTRRRddMEAaEvN2hsQwQNavFKj1KzFAlE022WSTMUBQ61cK1PoxQAyJeTtDYjJAyiabbLLJMkCGxLydITEzQERi3s6QmDNAAAAAAAAANEAAAAAAAAA0wENi3s6QmDPAhsS8nSExM8DKJptssskywA2JeTtDYjLAUOtXCtT6McCTTTbZZJMxwNevFKj1KzHAGhLzdobEMMBddNFFF10wwECtXylQ6y/Ax3Ecx3EcL8BONtlkk00uwNT6lQK1fi3AWr9SoNavLMDhgw8++OArwGhIzNsZEivA7gyJeTtDKsB00UUXXXQpwPuVArV+pSjAgVq/UqDWJ8AIH3zwwQcnwI7jOI7jOCbAFaj1KwVqJcCbbLLJJpskwCIxb2dIzCPAqPUrBWr9IsAvuuiiiy4iwLV+pUCtXyHAPENi3s6QIMCEDz744IMfwJKYtzMk5h3AniExb2dIHMCqqqqqqqoawLgzJObtDBnAxLydITFvF8DSRRdddNEVwN7OkJi3MxTA7FcK1PqVEsD44IMPPvgQwAjU+pUCtQ7AKObtDIl5C8BA+OCDDz4IwFgK1PqVAgXAcBzHcRzHAcAgXXTRRRf9v1CBWr9SoPa/gKVArV8p8L9gk0022WTjvwBvZ0jM28m/AG9nSMzbyT9gk0022WTjP4ClQK1fKfA/UIFav1Kg9j8QXXTRRRf9P3Acx3EcxwFAWArU+pUCBUBA+OCDDz4IQCDm7QyJeQtACNT6lQK1DkD44IMPPvgQQOxXCtT6lRJA3M6QmLczFEDQRRdddNEVQMS8nSExbxdAuDMk5u0MGUCsqqqqqqoaQJwhMW9nSBxAkJi3MyTmHUCEDz744IMfQDxDYt7OkCBAtH6lQK1fIUAuuuiiiy4iQKj1KwVq/SJAIjFvZ0jMI0CabLLJJpskQBSo9SsFaiVAjuM4juM4JkAIH3zwwQcnQIBav1Kg1idA/JUCtX6lKEB00UUXXXQpQOwMiXk7QypAaEjM2xkSK0Dggw8++OArQFy/UqDWryxA1PqVArV+LUBMNtlkk00uQMhxHMdxHC9AQK1fKVDrL0BcdNFFF10wQBoS83aGxDBA1q8UqPUrMUCUTTbZZJMxQFDrVwrU+jFADIl5O0NiMkDKJptssskyQIbEvJ0hMTNARGLezpCYM0AAAAAAAAA0QAAAAAAAADTAQ2LezpCYM8CGxLydITEzwMomm2yyyTLADYl5O0NiMsBQ61cK1PoxwJNNNtlkkzHA168UqPUrMcAaEvN2hsQwwF100UUXXTDAQK1fKVDrL8DHcRzHcRwvwE422WSTTS7A1PqVArV+LcBav1Kg1q8swOGDDz744CvAaEjM2xkSK8DuDIl5O0MqwHTRRRdddCnA+5UCtX6lKMCBWr9SoNYnwAgffPDBByfAjuM4juM4JsAVqPUrBWolwJtssskmmyTAIjFvZ0jMI8Co9SsFav0iwC+66KKLLiLAtX6lQK1fIcA8Q2LezpAgwIQPPvjggx/Akpi3MyTmHcCeITFvZ0gcwKqqqqqqqhrAuDMk5u0MGcDEvJ0hMW8XwNJFF1100RXA3s6QmLczFMDsVwrU+pUSwPjggw8++BDACNT6lQK1DsAo5u0MiXkLwED44IMPPgjAWArU+pUCBcBwHMdxHMcBwCBddNFFF/2/UIFav1Kg9r+ApUCtXynwv2CTTTbZZOO/AG9nSMzbyb8Ab2dIzNvJP2CTTTbZZOM/gKVArV8p8D9QgVq/UqD2PxBddNFFF/0/cBzHcRzHAUBYCtT6lQIFQED44IMPPghAIObtDIl5C0AI1PqVArUOQPjggw8++BBA7FcK1PqVEkDczpCYtzMUQNBFF1100RVAxLydITFvF0C4MyTm7QwZQKyqqqqqqhpAnCExb2dIHECQmLczJOYdQIQPPvjggx9APENi3s6QIEC0fqVArV8hQC666KKLLiJAqPUrBWr9IkAiMW9nSMwjQJpssskmmyRAFKj1KwVqJUCO4ziO4zgmQAgffPDBBydAgFq/UqDWJ0D8lQK1fqUoQHTRRRdddClA7AyJeTtDKkBoSMzbGRIrQOCDDz744CtAXL9SoNavLEDU+pUCtX4tQEw22WSTTS5AyHEcx3EcL0BArV8pUOsvQFx00UUXXTBAGhLzdobEMEDWrxSo9SsxQJRNNtlkkzFAUOtXCtT6MUAMiXk7Q2IyQMomm2yyyTJAhsS8nSExM0BEYt7OkJgzQAAAAAAAADRAAAAAAAAANMBDYt7OkJgzwIbEvJ0hMTPAyiabbLLJMsANiXk7Q2IywFDrVwrU+jHAk0022WSTMcDXrxSo9SsxwBoS83aGxDDAXXTRRRddMMBArV8pUOsvwMdxHMdxHC/ATjbZZJNNLsDU+pUCtX4twFq/UqDWryzA4YMPPvjgK8BoSMzbGRIrwO4MiXk7QyrAdNFFF110KcD7lQK1fqUowIFav1Kg1ifACB988MEHJ8CO4ziO4zgmwBWo9SsFaiXAm2yyySabJMAiMW9nSMwjwKj1KwVq/SLAL7rooosuIsC1fqVArV8hwDxDYt7OkCDAhA8++OCDH8CSmLczJOYdwJ4hMW9nSBzAqqqqqqqqGsC4MyTm7QwZwMS8nSExbxfA0kUXXXTRFcDezpCYtzMUwOxXCtT6lRLA+OCDDz74EMAI1PqVArUOwCjm7QyJeQvAQPjggw8+CMBYCtT6lQIFwHAcx3EcxwHAIF100UUX/b9QgVq/UqD2v4ClQK1fKfC/YJNNNtlk478Ab2dIzNvJvwBvZ0jM28k/YJNNNtlk4z+ApUCtXynwP1CBWr9SoPY/EF100UUX/T9wHMdxHMcBQFgK1PqVAgVAQPjggw8+CEAg5u0MiXkLQAjU+pUCtQ5A+OCDDz74EEDsVwrU+pUSQNzOkJi3MxRA0EUXXXTRFUDEvJ0hMW8XQLgzJObtDBlArKqqqqqqGkCcITFvZ0gcQJCYtzMk5h1AhA8++OCDH0A8Q2LezpAgQLR+pUCtXyFALrrooosuIkCo9SsFav0iQCIxb2dIzCNAmmyyySabJEAUqPUrBWolQI7jOI7jOCZACB988MEHJ0CAWr9SoNYnQPyVArV+pShAdNFFF110KUDsDIl5O0MqQGhIzNsZEitA4IMPPvjgK0Bcv1Kg1q8sQNT6lQK1fi1ATDbZZJNNLkDIcRzHcRwvQECtXylQ6y9AXHTRRRddMEAaEvN2hsQwQNavFKj1KzFAlE022WSTMUBQ61cK1PoxQAyJeTtDYjJAyiabbLLJMkCGxLydITEzQERi3s6QmDNAAAAAAAAANEAAAAAAAAA0wENi3s6QmDPAhsS8nSExM8DKJptssskywA2JeTtDYjLAUOtXCtT6McCTTTbZZJMxwNevFKj1KzHAGhLzdobEMMBddNFFF10wwECtXylQ6y/Ax3Ecx3EcL8BONtlkk00uwNT6lQK1fi3AWr9SoNavLMDhgw8++OArwGhIzNsZEivA7gyJeTtDKsB00UUXXXQpwPuVArV+pSjAgVq/UqDWJ8AIH3zwwQcnwI7jOI7jOCbAFaj1KwVqJcCbbLLJJpskwCIxb2dIzCPAqPUrBWr9IsAvuuiiiy4iwLV+pUCtXyHAPENi3s6QIMCEDz744IMfwJKYtzMk5h3AniExb2dIHMCqqqqqqqoawLgzJObtDBnAxLydITFvF8DSRRdddNEVwN7OkJi3MxTA7FcK1PqVEsD44IMPPvgQwAjU+pUCtQ7AKObtDIl5C8BA+OCDDz4IwFgK1PqVAgXAcBzHcRzHAcAgXXTRRRf9v1CBWr9SoPa/gKVArV8p8L9gk0022WTjvwBvZ0jM28m/AG9nSMzbyT9gk0022WTjP4ClQK1fKfA/UIFav1Kg9j8QXXTRRRf9P3Acx3EcxwFAWArU+pUCBUBA+OCDDz4IQCDm7QyJeQtACNT6lQK1DkD44IMPPvgQQOxXCtT6lRJA3M6QmLczFEDQRRdddNEVQMS8nSExbxdAuDMk5u0MGUCsqqqqqqoaQJwhMW9nSBxAkJi3MyTmHUCEDz744IMfQDxDYt7OkCBAtH6lQK1fIUAuuuiiiy4iQKj1KwVq/SJAIjFvZ0jMI0CabLLJJpskQBSo9SsFaiVAjuM4juM4JkAIH3zwwQcnQIBav1Kg1idA/JUCtX6lKEB00UUXXXQpQOwMiXk7QypAaEjM2xkSK0Dggw8++OArQFy/UqDWryxA1PqVArV+LUBMNtlkk00uQMhxHMdxHC9AQK1fKVDrL0BcdNFFF10wQBoS83aGxDBA1q8UqPUrMUCUTTbZZJMxQFDrVwrU+jFADIl5O0NiMkDKJptssskyQIbEvJ0hMTNARGLezpCYM0AAAAAAAAA0QAAAAAAAADTAQ2LezpCYM8CGxLydITEzwMomm2yyyTLADYl5O0NiMsBQ61cK1PoxwJNNNtlkkzHA168UqPUrMcAaEvN2hsQwwF100UUXXTDAQK1fKVDrL8DHcRzHcRwvwE422WSTTS7A1PqVArV+LcBav1Kg1q8swOGDDz744CvAaEjM2xkSK8DuDIl5O0MqwHTRRRdddCnA+5UCtX6lKMCBWr9SoNYnwAgffPDBByfAjuM4juM4JsAVqPUrBWolwJtssskmmyTAIjFvZ0jMI8Co9SsFav0iwC+66KKLLiLAtX6lQK1fIcA8Q2LezpAgwIQPPvjggx/Akpi3MyTmHcCeITFvZ0gcwKqqqqqqqhrAuDMk5u0MGcDEvJ0hMW8XwNJFF1100RXA3s6QmLczFMDsVwrU+pUSwPjggw8++BDACNT6lQK1DsAo5u0MiXkLwED44IMPPgjAWArU+pUCBcBwHMdxHMcBwCBddNFFF/2/UIFav1Kg9r+ApUCtXynwv2CTTTbZZOO/AG9nSMzbyb8Ab2dIzNvJP2CTTTbZZOM/gKVArV8p8D9QgVq/UqD2PxBddNFFF/0/cBzHcRzHAUBYCtT6lQIFQED44IMPPghAIObtDIl5C0AI1PqVArUOQPjggw8++BBA7FcK1PqVEkDczpCYtzMUQNBFF1100RVAxLydITFvF0C4MyTm7QwZQKyqqqqqqhpAnCExb2dIHECQmLczJOYdQIQPPvjggx9APENi3s6QIEC0fqVArV8hQC666KKLLiJAqPUrBWr9IkAiMW9nSMwjQJpssskmmyRAFKj1KwVqJUCO4ziO4zgmQAgffPDBBydAgFq/UqDWJ0D8lQK1fqUoQHTRRRdddClA7AyJeTtDKkBoSMzbGRIrQOCDDz744CtAXL9SoNavLEDU+pUCtX4tQEw22WSTTS5AyHEcx3EcL0BArV8pUOsvQFx00UUXXTBAGhLzdobEMEDWrxSo9SsxQJRNNtlkkzFAUOtXCtT6MUAMiXk7Q2IyQMomm2yyyTJAhsS8nSExM0BEYt7OkJgzQAAAAAAAADRAAAAAAAAANMBDYt7OkJgzwIbEvJ0hMTPAyiabbLLJMsANiXk7Q2IywFDrVwrU+jHAk0022WSTMcDXrxSo9SsxwBoS83aGxDDAXXTRRRddMMBArV8pUOsvwMdxHMdxHC/ATjbZZJNNLsDU+pUCtX4twFq/UqDWryzA4YMPPvjgK8BoSMzbGRIrwO4MiXk7QyrAdNFFF110KcD7lQK1fqUowIFav1Kg1ifACB988MEHJ8CO4ziO4zgmwBWo9SsFaiXAm2yyySabJMAiMW9nSMwjwKj1KwVq/SLAL7rooosuIsC1fqVArV8hwDxDYt7OkCDAhA8++OCDH8CSmLczJOYdwJ4hMW9nSBzAqqqqqqqqGsC4MyTm7QwZwMS8nSExbxfA0kUXXXTRFcDezpCYtzMUwOxXCtT6lRLA+OCDDz74EMAI1PqVArUOwCjm7QyJeQvAQPjggw8+CMBYCtT6lQIFwHAcx3EcxwHAIF100UUX/b9QgVq/UqD2v4ClQK1fKfC/YJNNNtlk478Ab2dIzNvJvwBvZ0jM28k/YJNNNtlk4z+ApUCtXynwP1CBWr9SoPY/EF100UUX/T9wHMdxHMcBQFgK1PqVAgVAQPjggw8+CEAg5u0MiXkLQAjU+pUCtQ5A+OCDDz74EEDsVwrU+pUSQNzOkJi3MxRA0EUXXXTRFUDEvJ0hMW8XQLgzJObtDBlArKqqqqqqGkCcITFvZ0gcQJCYtzMk5h1AhA8++OCDH0A8Q2LezpAgQLR+pUCtXyFALrrooosuIkCo9SsFav0iQCIxb2dIzCNAmmyyySabJEAUqPUrBWolQI7jOI7jOCZACB988MEHJ0CAWr9SoNYnQPyVArV+pShAdNFFF110KUDsDIl5O0MqQGhIzNsZEitA4IMPPvjgK0Bcv1Kg1q8sQNT6lQK1fi1ATDbZZJNNLkDIcRzHcRwvQECtXylQ6y9AXHTRRRddMEAaEvN2hsQwQNavFKj1KzFAlE022WSTMUBQ61cK1PoxQAyJeTtDYjJAyiabbLLJMkCGxLydITEzQERi3s6QmDNAAAAAAAAANEAAAAAAAAA0wENi3s6QmDPAhsS8nSExM8DKJptssskywA2JeTtDYjLAUOtXCtT6McCTTTbZZJMxwNevFKj1KzHAGhLzdobEMMBddNFFF10wwECtXylQ6y/Ax3Ecx3EcL8BONtlkk00uwNT6lQK1fi3AWr9SoNavLMDhgw8++OArwGhIzNsZEivA7gyJeTtDKsB00UUXXXQpwPuVArV+pSjAgVq/UqDWJ8AIH3zwwQcnwI7jOI7jOCbAFaj1KwVqJcCbbLLJJpskwCIxb2dIzCPAqPUrBWr9IsAvuuiiiy4iwLV+pUCtXyHAPENi3s6QIMCEDz744IMfwJKYtzMk5h3AniExb2dIHMCqqqqqqqoawLgzJObtDBnAxLydITFvF8DSRRdddNEVwN7OkJi3MxTA7FcK1PqVEsD44IMPPvgQwAjU+pUCtQ7AKObtDIl5C8BA+OCDDz4IwFgK1PqVAgXAcBzHcRzHAcAgXXTRRRf9v1CBWr9SoPa/gKVArV8p8L9gk0022WTjvwBvZ0jM28m/AG9nSMzbyT9gk0022WTjP4ClQK1fKfA/UIFav1Kg9j8QXXTRRRf9P3Acx3EcxwFAWArU+pUCBUBA+OCDDz4IQCDm7QyJeQtACNT6lQK1DkD44IMPPvgQQOxXCtT6lRJA3M6QmLczFEDQRRdddNEVQMS8nSExbxdAuDMk5u0MGUCsqqqqqqoaQJwhMW9nSBxAkJi3MyTmHUCEDz744IMfQDxDYt7OkCBAtH6lQK1fIUAuuuiiiy4iQKj1KwVq/SJAIjFvZ0jMI0CabLLJJpskQBSo9SsFaiVAjuM4juM4JkAIH3zwwQcnQIBav1Kg1idA/JUCtX6lKEB00UUXXXQpQOwMiXk7QypAaEjM2xkSK0Dggw8++OArQFy/UqDWryxA1PqVArV+LUBMNtlkk00uQMhxHMdxHC9AQK1fKVDrL0BcdNFFF10wQBoS83aGxDBA1q8UqPUrMUCUTTbZZJMxQFDrVwrU+jFADIl5O0NiMkDKJptssskyQIbEvJ0hMTNARGLezpCYM0AAAAAAAAA0QAAAAAAAADTAQ2LezpCYM8CGxLydITEzwMomm2yyyTLADYl5O0NiMsBQ61cK1PoxwJNNNtlkkzHA168UqPUrMcAaEvN2hsQwwF100UUXXTDAQK1fKVDrL8DHcRzHcRwvwE422WSTTS7A1PqVArV+LcBav1Kg1q8swOGDDz744CvAaEjM2xkSK8DuDIl5O0MqwHTRRRdddCnA+5UCtX6lKMCBWr9SoNYnwAgffPDBByfAjuM4juM4JsAVqPUrBWolwJtssskmmyTAIjFvZ0jMI8Co9SsFav0iwC+66KKLLiLAtX6lQK1fIcA8Q2LezpAgwIQPPvjggx/Akpi3MyTmHcCeITFvZ0gcwKqqqqqqqhrAuDMk5u0MGcDEvJ0hMW8XwNJFF1100RXA3s6QmLczFMDsVwrU+pUSwPjggw8++BDACNT6lQK1DsAo5u0MiXkLwED44IMPPgjAWArU+pUCBcBwHMdxHMcBwCBddNFFF/2/UIFav1Kg9r+ApUCtXynwv2CTTTbZZOO/AG9nSMzbyb8Ab2dIzNvJP2CTTTbZZOM/gKVArV8p8D9QgVq/UqD2PxBddNFFF/0/cBzHcRzHAUBYCtT6lQIFQED44IMPPghAIObtDIl5C0AI1PqVArUOQPjggw8++BBA7FcK1PqVEkDczpCYtzMUQNBFF1100RVAxLydITFvF0C4MyTm7QwZQKyqqqqqqhpAnCExb2dIHECQmLczJOYdQIQPPvjggx9APENi3s6QIEC0fqVArV8hQC666KKLLiJAqPUrBWr9IkAiMW9nSMwjQJpssskmmyRAFKj1KwVqJUCO4ziO4zgmQAgffPDBBydAgFq/UqDWJ0D8lQK1fqUoQHTRRRdddClA7AyJeTtDKkBoSMzbGRIrQOCDDz744CtAXL9SoNavLEDU+pUCtX4tQEw22WSTTS5AyHEcx3EcL0BArV8pUOsvQFx00UUXXTBAGhLzdobEMEDWrxSo9SsxQJRNNtlkkzFAUOtXCtT6MUAMiXk7Q2IyQMomm2yyyTJAhsS8nSExM0BEYt7OkJgzQAAAAAAAADRAAAAAAAAANMBDYt7OkJgzwIbEvJ0hMTPAyiabbLLJMsANiXk7Q2IywFDrVwrU+jHAk0022WSTMcDXrxSo9SsxwBoS83aGxDDAXXTRRRddMMBArV8pUOsvwMdxHMdxHC/ATjbZZJNNLsDU+pUCtX4twFq/UqDWryzA4YMPPvjgK8BoSMzbGRIrwO4MiXk7QyrAdNFFF110KcD7lQK1fqUowIFav1Kg1ifACB988MEHJ8CO4ziO4zgmwBWo9SsFaiXAm2yyySabJMAiMW9nSMwjwKj1KwVq/SLAL7rooosuIsC1fqVArV8hwDxDYt7OkCDAhA8++OCDH8CSmLczJOYdwJ4hMW9nSBzAqqqqqqqqGsC4MyTm7QwZwMS8nSExbxfA0kUXXXTRFcDezpCYtzMUwOxXCtT6lRLA+OCDDz74EMAI1PqVArUOwCjm7QyJeQvAQPjggw8+CMBYCtT6lQIFwHAcx3EcxwHAIF100UUX/b9QgVq/UqD2v4ClQK1fKfC/YJNNNtlk478Ab2dIzNvJvwBvZ0jM28k/YJNNNtlk4z+ApUCtXynwP1CBWr9SoPY/EF100UUX/T9wHMdxHMcBQFgK1PqVAgVAQPjggw8+CEAg5u0MiXkLQAjU+pUCtQ5A+OCDDz74EEDsVwrU+pUSQNzOkJi3MxRA0EUXXXTRFUDEvJ0hMW8XQLgzJObtDBlArKqqqqqqGkCcITFvZ0gcQJCYtzMk5h1AhA8++OCDH0A8Q2LezpAgQLR+pUCtXyFALrrooosuIkCo9SsFav0iQCIxb2dIzCNAmmyyySabJEAUqPUrBWolQI7jOI7jOCZACB988MEHJ0CAWr9SoNYnQPyVArV+pShAdNFFF110KUDsDIl5O0MqQGhIzNsZEitA4IMPPvjgK0Bcv1Kg1q8sQNT6lQK1fi1ATDbZZJNNLkDIcRzHcRwvQECtXylQ6y9AXHTRRRddMEAaEvN2hsQwQNavFKj1KzFAlE022WSTMUBQ61cK1PoxQAyJeTtDYjJAyiabbLLJMkCGxLydITEzQERi3s6QmDNAAAAAAAAANEAAAAAAAAA0wENi3s6QmDPAhsS8nSExM8DKJptssskywA2JeTtDYjLAUOtXCtT6McCTTTbZZJMxwNevFKj1KzHAGhLzdobEMMBddNFFF10wwECtXylQ6y/Ax3Ecx3EcL8BONtlkk00uwNT6lQK1fi3AWr9SoNavLMDhgw8++OArwGhIzNsZEivA7gyJeTtDKsB00UUXXXQpwPuVArV+pSjAgVq/UqDWJ8AIH3zwwQcnwI7jOI7jOCbAFaj1KwVqJcCbbLLJJpskwCIxb2dIzCPAqPUrBWr9IsAvuuiiiy4iwLV+pUCtXyHAPENi3s6QIMCEDz744IMfwJKYtzMk5h3AniExb2dIHMCqqqqqqqoawLgzJObtDBnAxLydITFvF8DSRRdddNEVwN7OkJi3MxTA7FcK1PqVEsD44IMPPvgQwAjU+pUCtQ7AKObtDIl5C8BA+OCDDz4IwFgK1PqVAgXAcBzHcRzHAcAgXXTRRRf9v1CBWr9SoPa/gKVArV8p8L9gk0022WTjvwBvZ0jM28m/AG9nSMzbyT9gk0022WTjP4ClQK1fKfA/UIFav1Kg9j8QXXTRRRf9P3Acx3EcxwFAWArU+pUCBUBA+OCDDz4IQCDm7QyJeQtACNT6lQK1DkD44IMPPvgQQOxXCtT6lRJA3M6QmLczFEDQRRdddNEVQMS8nSExbxdAuDMk5u0MGUCsqqqqqqoaQJwhMW9nSBxAkJi3MyTmHUCEDz744IMfQDxDYt7OkCBAtH6lQK1fIUAuuuiiiy4iQKj1KwVq/SJAIjFvZ0jMI0CabLLJJpskQBSo9SsFaiVAjuM4juM4JkAIH3zwwQcnQIBav1Kg1idA/JUCtX6lKEB00UUXXXQpQOwMiXk7QypAaEjM2xkSK0Dggw8++OArQFy/UqDWryxA1PqVArV+LUBMNtlkk00uQMhxHMdxHC9AQK1fKVDrL0BcdNFFF10wQBoS83aGxDBA1q8UqPUrMUCUTTbZZJMxQFDrVwrU+jFADIl5O0NiMkDKJptssskyQIbEvJ0hMTNARGLezpCYM0AAAAAAAAA0QAAAAAAAADTAQ2LezpCYM8CGxLydITEzwMomm2yyyTLADYl5O0NiMsBQ61cK1PoxwJNNNtlkkzHA168UqPUrMcAaEvN2hsQwwF100UUXXTDAQK1fKVDrL8DHcRzHcRwvwE422WSTTS7A1PqVArV+LcBav1Kg1q8swOGDDz744CvAaEjM2xkSK8DuDIl5O0MqwHTRRRdddCnA+5UCtX6lKMCBWr9SoNYnwAgffPDBByfAjuM4juM4JsAVqPUrBWolwJtssskmmyTAIjFvZ0jMI8Co9SsFav0iwC+66KKLLiLAtX6lQK1fIcA8Q2LezpAgwIQPPvjggx/Akpi3MyTmHcCeITFvZ0gcwKqqqqqqqhrAuDMk5u0MGcDEvJ0hMW8XwNJFF1100RXA3s6QmLczFMDsVwrU+pUSwPjggw8++BDACNT6lQK1DsAo5u0MiXkLwED44IMPPgjAWArU+pUCBcBwHMdxHMcBwCBddNFFF/2/UIFav1Kg9r+ApUCtXynwv2CTTTbZZOO/AG9nSMzbyb8Ab2dIzNvJP2CTTTbZZOM/gKVArV8p8D9QgVq/UqD2PxBddNFFF/0/cBzHcRzHAUBYCtT6lQIFQED44IMPPghAIObtDIl5C0AI1PqVArUOQPjggw8++BBA7FcK1PqVEkDczpCYtzMUQNBFF1100RVAxLydITFvF0C4MyTm7QwZQKyqqqqqqhpAnCExb2dIHECQmLczJOYdQIQPPvjggx9APENi3s6QIEC0fqVArV8hQC666KKLLiJAqPUrBWr9IkAiMW9nSMwjQJpssskmmyRAFKj1KwVqJUCO4ziO4zgmQAgffPDBBydAgFq/UqDWJ0D8lQK1fqUoQHTRRRdddClA7AyJeTtDKkBoSMzbGRIrQOCDDz744CtAXL9SoNavLEDU+pUCtX4tQEw22WSTTS5AyHEcx3EcL0BArV8pUOsvQFx00UUXXTBAGhLzdobEMEDWrxSo9SsxQJRNNtlkkzFAUOtXCtT6MUAMiXk7Q2IyQMomm2yyyTJAhsS8nSExM0BEYt7OkJgzQAAAAAAAADRAAAAAAAAANMBDYt7OkJgzwIbEvJ0hMTPAyiabbLLJMsANiXk7Q2IywFDrVwrU+jHAk0022WSTMcDXrxSo9SsxwBoS83aGxDDAXXTRRRddMMBArV8pUOsvwMdxHMdxHC/ATjbZZJNNLsDU+pUCtX4twFq/UqDWryzA4YMPPvjgK8BoSMzbGRIrwO4MiXk7QyrAdNFFF110KcD7lQK1fqUowIFav1Kg1ifACB988MEHJ8CO4ziO4zgmwBWo9SsFaiXAm2yyySabJMAiMW9nSMwjwKj1KwVq/SLAL7rooosuIsC1fqVArV8hwDxDYt7OkCDAhA8++OCDH8CSmLczJOYdwJ4hMW9nSBzAqqqqqqqqGsC4MyTm7QwZwMS8nSExbxfA0kUXXXTRFcDezpCYtzMUwOxXCtT6lRLA+OCDDz74EMAI1PqVArUOwCjm7QyJeQvAQPjggw8+CMBYCtT6lQIFwHAcx3EcxwHAIF100UUX/b9QgVq/UqD2v4ClQK1fKfC/YJNNNtlk478Ab2dIzNvJvwBvZ0jM28k/YJNNNtlk4z+ApUCtXynwP1CBWr9SoPY/EF100UUX/T9wHMdxHMcBQFgK1PqVAgVAQPjggw8+CEAg5u0MiXkLQAjU+pUCtQ5A+OCDDz74EEDsVwrU+pUSQNzOkJi3MxRA0EUXXXTRFUDEvJ0hMW8XQLgzJObtDBlArKqqqqqqGkCcITFvZ0gcQJCYtzMk5h1AhA8++OCDH0A8Q2LezpAgQLR+pUCtXyFALrrooosuIkCo9SsFav0iQCIxb2dIzCNAmmyyySabJEAUqPUrBWolQI7jOI7jOCZACB988MEHJ0CAWr9SoNYnQPyVArV+pShAdNFFF110KUDsDIl5O0MqQGhIzNsZEitA4IMPPvjgK0Bcv1Kg1q8sQNT6lQK1fi1ATDbZZJNNLkDIcRzHcRwvQECtXylQ6y9AXHTRRRddMEAaEvN2hsQwQNavFKj1KzFAlE022WSTMUBQ61cK1PoxQAyJeTtDYjJAyiabbLLJMkCGxLydITEzQERi3s6QmDNAAAAAAAAANEAAAAAAAAA0wENi3s6QmDPAhsS8nSExM8DKJptssskywA2JeTtDYjLAUOtXCtT6McCTTTbZZJMxwNevFKj1KzHAGhLzdobEMMBddNFFF10wwECtXylQ6y/Ax3Ecx3EcL8BONtlkk00uwNT6lQK1fi3AWr9SoNavLMDhgw8++OArwGhIzNsZEivA7gyJeTtDKsB00UUXXXQpwPuVArV+pSjAgVq/UqDWJ8AIH3zwwQcnwI7jOI7jOCbAFaj1KwVqJcCbbLLJJpskwCIxb2dIzCPAqPUrBWr9IsAvuuiiiy4iwLV+pUCtXyHAPENi3s6QIMCEDz744IMfwJKYtzMk5h3AniExb2dIHMCqqqqqqqoawLgzJObtDBnAxLydITFvF8DSRRdddNEVwN7OkJi3MxTA7FcK1PqVEsD44IMPPvgQwAjU+pUCtQ7AKObtDIl5C8BA+OCDDz4IwFgK1PqVAgXAcBzHcRzHAcAgXXTRRRf9v1CBWr9SoPa/gKVArV8p8L9gk0022WTjvwBvZ0jM28m/AG9nSMzbyT9gk0022WTjP4ClQK1fKfA/UIFav1Kg9j8QXXTRRRf9P3Acx3EcxwFAWArU+pUCBUBA+OCDDz4IQCDm7QyJeQtACNT6lQK1DkD44IMPPvgQQOxXCtT6lRJA3M6QmLczFEDQRRdddNEVQMS8nSExbxdAuDMk5u0MGUCsqqqqqqoaQJwhMW9nSBxAkJi3MyTmHUCEDz744IMfQDxDYt7OkCBAtH6lQK1fIUAuuuiiiy4iQKj1KwVq/SJAIjFvZ0jMI0CabLLJJpskQBSo9SsFaiVAjuM4juM4JkAIH3zwwQcnQIBav1Kg1idA/JUCtX6lKEB00UUXXXQpQOwMiXk7QypAaEjM2xkSK0Dggw8++OArQFy/UqDWryxA1PqVArV+LUBMNtlkk00uQMhxHMdxHC9AQK1fKVDrL0BcdNFFF10wQBoS83aGxDBA1q8UqPUrMUCUTTbZZJMxQFDrVwrU+jFADIl5O0NiMkDKJptssskyQIbEvJ0hMTNARGLezpCYM0AAAAAAAAA0QAAAAAAAADTAQ2LezpCYM8CGxLydITEzwMomm2yyyTLADYl5O0NiMsBQ61cK1PoxwJNNNtlkkzHA168UqPUrMcAaEvN2hsQwwF100UUXXTDAQK1fKVDrL8DHcRzHcRwvwE422WSTTS7A1PqVArV+LcBav1Kg1q8swOGDDz744CvAaEjM2xkSK8DuDIl5O0MqwHTRRRdddCnA+5UCtX6lKMCBWr9SoNYnwAgffPDBByfAjuM4juM4JsAVqPUrBWolwJtssskmmyTAIjFvZ0jMI8Co9SsFav0iwC+66KKLLiLAtX6lQK1fIcA8Q2LezpAgwIQPPvjggx/Akpi3MyTmHcCeITFvZ0gcwKqqqqqqqhrAuDMk5u0MGcDEvJ0hMW8XwNJFF1100RXA3s6QmLczFMDsVwrU+pUSwPjggw8++BDACNT6lQK1DsAo5u0MiXkLwED44IMPPgjAWArU+pUCBcBwHMdxHMcBwCBddNFFF/2/UIFav1Kg9r+ApUCtXynwv2CTTTbZZOO/AG9nSMzbyb8Ab2dIzNvJP2CTTTbZZOM/gKVArV8p8D9QgVq/UqD2PxBddNFFF/0/cBzHcRzHAUBYCtT6lQIFQED44IMPPghAIObtDIl5C0AI1PqVArUOQPjggw8++BBA7FcK1PqVEkDczpCYtzMUQNBFF1100RVAxLydITFvF0C4MyTm7QwZQKyqqqqqqhpAnCExb2dIHECQmLczJOYdQIQPPvjggx9APENi3s6QIEC0fqVArV8hQC666KKLLiJAqPUrBWr9IkAiMW9nSMwjQJpssskmmyRAFKj1KwVqJUCO4ziO4zgmQAgffPDBBydAgFq/UqDWJ0D8lQK1fqUoQHTRRRdddClA7AyJeTtDKkBoSMzbGRIrQOCDDz744CtAXL9SoNavLEDU+pUCtX4tQEw22WSTTS5AyHEcx3EcL0BArV8pUOsvQFx00UUXXTBAGhLzdobEMEDWrxSo9SsxQJRNNtlkkzFAUOtXCtT6MUAMiXk7Q2IyQMomm2yyyTJAhsS8nSExM0BEYt7OkJgzQAAAAAAAADRAAAAAAAAANMBDYt7OkJgzwIbEvJ0hMTPAyiabbLLJMsANiXk7Q2IywFDrVwrU+jHAk0022WSTMcDXrxSo9SsxwBoS83aGxDDAXXTRRRddMMBArV8pUOsvwMdxHMdxHC/ATjbZZJNNLsDU+pUCtX4twFq/UqDWryzA4YMPPvjgK8BoSMzbGRIrwO4MiXk7QyrAdNFFF110KcD7lQK1fqUowIFav1Kg1ifACB988MEHJ8CO4ziO4zgmwBWo9SsFaiXAm2yyySabJMAiMW9nSMwjwKj1KwVq/SLAL7rooosuIsC1fqVArV8hwDxDYt7OkCDAhA8++OCDH8CSmLczJOYdwJ4hMW9nSBzAqqqqqqqqGsC4MyTm7QwZwMS8nSExbxfA0kUXXXTRFcDezpCYtzMUwOxXCtT6lRLA+OCDDz74EMAI1PqVArUOwCjm7QyJeQvAQPjggw8+CMBYCtT6lQIFwHAcx3EcxwHAIF100UUX/b9QgVq/UqD2v4ClQK1fKfC/YJNNNtlk478Ab2dIzNvJvwBvZ0jM28k/YJNNNtlk4z+ApUCtXynwP1CBWr9SoPY/EF100UUX/T9wHMdxHMcBQFgK1PqVAgVAQPjggw8+CEAg5u0MiXkLQAjU+pUCtQ5A+OCDDz74EEDsVwrU+pUSQNzOkJi3MxRA0EUXXXTRFUDEvJ0hMW8XQLgzJObtDBlArKqqqqqqGkCcITFvZ0gcQJCYtzMk5h1AhA8++OCDH0A8Q2LezpAgQLR+pUCtXyFALrrooosuIkCo9SsFav0iQCIxb2dIzCNAmmyyySabJEAUqPUrBWolQI7jOI7jOCZACB988MEHJ0CAWr9SoNYnQPyVArV+pShAdNFFF110KUDsDIl5O0MqQGhIzNsZEitA4IMPPvjgK0Bcv1Kg1q8sQNT6lQK1fi1ATDbZZJNNLkDIcRzHcRwvQECtXylQ6y9AXHTRRRddMEAaEvN2hsQwQNavFKj1KzFAlE022WSTMUBQ61cK1PoxQAyJeTtDYjJAyiabbLLJMkCGxLydITEzQERi3s6QmDNAAAAAAAAANEAAAAAAAAA0wENi3s6QmDPAhsS8nSExM8DKJptssskywA2JeTtDYjLAUOtXCtT6McCTTTbZZJMxwNevFKj1KzHAGhLzdobEMMBddNFFF10wwECtXylQ6y/Ax3Ecx3EcL8BONtlkk00uwNT6lQK1fi3AWr9SoNavLMDhgw8++OArwGhIzNsZEivA7gyJeTtDKsB00UUXXXQpwPuVArV+pSjAgVq/UqDWJ8AIH3zwwQcnwI7jOI7jOCbAFaj1KwVqJcCbbLLJJpskwCIxb2dIzCPAqPUrBWr9IsAvuuiiiy4iwLV+pUCtXyHAPENi3s6QIMCEDz744IMfwJKYtzMk5h3AniExb2dIHMCqqqqqqqoawLgzJObtDBnAxLydITFvF8DSRRdddNEVwN7OkJi3MxTA7FcK1PqVEsD44IMPPvgQwAjU+pUCtQ7AKObtDIl5C8BA+OCDDz4IwFgK1PqVAgXAcBzHcRzHAcAgXXTRRRf9v1CBWr9SoPa/gKVArV8p8L9gk0022WTjvwBvZ0jM28m/AG9nSMzbyT9gk0022WTjP4ClQK1fKfA/UIFav1Kg9j8QXXTRRRf9P3Acx3EcxwFAWArU+pUCBUBA+OCDDz4IQCDm7QyJeQtACNT6lQK1DkD44IMPPvgQQOxXCtT6lRJA3M6QmLczFEDQRRdddNEVQMS8nSExbxdAuDMk5u0MGUCsqqqqqqoaQJwhMW9nSBxAkJi3MyTmHUCEDz744IMfQDxDYt7OkCBAtH6lQK1fIUAuuuiiiy4iQKj1KwVq/SJAIjFvZ0jMI0CabLLJJpskQBSo9SsFaiVAjuM4juM4JkAIH3zwwQcnQIBav1Kg1idA/JUCtX6lKEB00UUXXXQpQOwMiXk7QypAaEjM2xkSK0Dggw8++OArQFy/UqDWryxA1PqVArV+LUBMNtlkk00uQMhxHMdxHC9AQK1fKVDrL0BcdNFFF10wQBoS83aGxDBA1q8UqPUrMUCUTTbZZJMxQFDrVwrU+jFADIl5O0NiMkDKJptssskyQIbEvJ0hMTNARGLezpCYM0AAAAAAAAA0QAAAAAAAADTAQ2LezpCYM8CGxLydITEzwMomm2yyyTLADYl5O0NiMsBQ61cK1PoxwJNNNtlkkzHA168UqPUrMcAaEvN2hsQwwF100UUXXTDAQK1fKVDrL8DHcRzHcRwvwE422WSTTS7A1PqVArV+LcBav1Kg1q8swOGDDz744CvAaEjM2xkSK8DuDIl5O0MqwHTRRRdddCnA+5UCtX6lKMCBWr9SoNYnwAgffPDBByfAjuM4juM4JsAVqPUrBWolwJtssskmmyTAIjFvZ0jMI8Co9SsFav0iwC+66KKLLiLAtX6lQK1fIcA8Q2LezpAgwIQPPvjggx/Akpi3MyTmHcCeITFvZ0gcwKqqqqqqqhrAuDMk5u0MGcDEvJ0hMW8XwNJFF1100RXA3s6QmLczFMDsVwrU+pUSwPjggw8++BDACNT6lQK1DsAo5u0MiXkLwED44IMPPgjAWArU+pUCBcBwHMdxHMcBwCBddNFFF/2/UIFav1Kg9r+ApUCtXynwv2CTTTbZZOO/AG9nSMzbyb8Ab2dIzNvJP2CTTTbZZOM/gKVArV8p8D9QgVq/UqD2PxBddNFFF/0/cBzHcRzHAUBYCtT6lQIFQED44IMPPghAIObtDIl5C0AI1PqVArUOQPjggw8++BBA7FcK1PqVEkDczpCYtzMUQNBFF1100RVAxLydITFvF0C4MyTm7QwZQKyqqqqqqhpAnCExb2dIHECQmLczJOYdQIQPPvjggx9APENi3s6QIEC0fqVArV8hQC666KKLLiJAqPUrBWr9IkAiMW9nSMwjQJpssskmmyRAFKj1KwVqJUCO4ziO4zgmQAgffPDBBydAgFq/UqDWJ0D8lQK1fqUoQHTRRRdddClA7AyJeTtDKkBoSMzbGRIrQOCDDz744CtAXL9SoNavLEDU+pUCtX4tQEw22WSTTS5AyHEcx3EcL0BArV8pUOsvQFx00UUXXTBAGhLzdobEMEDWrxSo9SsxQJRNNtlkkzFAUOtXCtT6MUAMiXk7Q2IyQMomm2yyyTJAhsS8nSExM0BEYt7OkJgzQAAAAAAAADRAAAAAAAAANMBDYt7OkJgzwIbEvJ0hMTPAyiabbLLJMsANiXk7Q2IywFDrVwrU+jHAk0022WSTMcDXrxSo9SsxwBoS83aGxDDAXXTRRRddMMBArV8pUOsvwMdxHMdxHC/ATjbZZJNNLsDU+pUCtX4twFq/UqDWryzA4YMPPvjgK8BoSMzbGRIrwO4MiXk7QyrAdNFFF110KcD7lQK1fqUowIFav1Kg1ifACB988MEHJ8CO4ziO4zgmwBWo9SsFaiXAm2yyySabJMAiMW9nSMwjwKj1KwVq/SLAL7rooosuIsC1fqVArV8hwDxDYt7OkCDAhA8++OCDH8CSmLczJOYdwJ4hMW9nSBzAqqqqqqqqGsC4MyTm7QwZwMS8nSExbxfA0kUXXXTRFcDezpCYtzMUwOxXCtT6lRLA+OCDDz74EMAI1PqVArUOwCjm7QyJeQvAQPjggw8+CMBYCtT6lQIFwHAcx3EcxwHAIF100UUX/b9QgVq/UqD2v4ClQK1fKfC/YJNNNtlk478Ab2dIzNvJvwBvZ0jM28k/YJNNNtlk4z+ApUCtXynwP1CBWr9SoPY/EF100UUX/T9wHMdxHMcBQFgK1PqVAgVAQPjggw8+CEAg5u0MiXkLQAjU+pUCtQ5A+OCDDz74EEDsVwrU+pUSQNzOkJi3MxRA0EUXXXTRFUDEvJ0hMW8XQLgzJObtDBlArKqqqqqqGkCcITFvZ0gcQJCYtzMk5h1AhA8++OCDH0A8Q2LezpAgQLR+pUCtXyFALrrooosuIkCo9SsFav0iQCIxb2dIzCNAmmyyySabJEAUqPUrBWolQI7jOI7jOCZACB988MEHJ0CAWr9SoNYnQPyVArV+pShAdNFFF110KUDsDIl5O0MqQGhIzNsZEitA4IMPPvjgK0Bcv1Kg1q8sQNT6lQK1fi1ATDbZZJNNLkDIcRzHcRwvQECtXylQ6y9AXHTRRRddMEAaEvN2hsQwQNavFKj1KzFAlE022WSTMUBQ61cK1PoxQAyJeTtDYjJAyiabbLLJMkCGxLydITEzQERi3s6QmDNAAAAAAAAANEAAAAAAAAA0wENi3s6QmDPAhsS8nSExM8DKJptssskywA2JeTtDYjLAUOtXCtT6McCTTTbZZJMxwNevFKj1KzHAGhLzdobEMMBddNFFF10wwECtXylQ6y/Ax3Ecx3EcL8BONtlkk00uwNT6lQK1fi3AWr9SoNavLMDhgw8++OArwGhIzNsZEivA7gyJeTtDKsB00UUXXXQpwPuVArV+pSjAgVq/UqDWJ8AIH3zwwQcnwI7jOI7jOCbAFaj1KwVqJcCbbLLJJpskwCIxb2dIzCPAqPUrBWr9IsAvuuiiiy4iwLV+pUCtXyHAPENi3s6QIMCEDz744IMfwJKYtzMk5h3AniExb2dIHMCqqqqqqqoawLgzJObtDBnAxLydITFvF8DSRRdddNEVwN7OkJi3MxTA7FcK1PqVEsD44IMPPvgQwAjU+pUCtQ7AKObtDIl5C8BA+OCDDz4IwFgK1PqVAgXAcBzHcRzHAcAgXXTRRRf9v1CBWr9SoPa/gKVArV8p8L9gk0022WTjvwBvZ0jM28m/AG9nSMzbyT9gk0022WTjP4ClQK1fKfA/UIFav1Kg9j8QXXTRRRf9P3Acx3EcxwFAWArU+pUCBUBA+OCDDz4IQCDm7QyJeQtACNT6lQK1DkD44IMPPvgQQOxXCtT6lRJA3M6QmLczFEDQRRdddNEVQMS8nSExbxdAuDMk5u0MGUCsqqqqqqoaQJwhMW9nSBxAkJi3MyTmHUCEDz744IMfQDxDYt7OkCBAtH6lQK1fIUAuuuiiiy4iQKj1KwVq/SJAIjFvZ0jMI0CabLLJJpskQBSo9SsFaiVAjuM4juM4JkAIH3zwwQcnQIBav1Kg1idA/JUCtX6lKEB00UUXXXQpQOwMiXk7QypAaEjM2xkSK0Dggw8++OArQFy/UqDWryxA1PqVArV+LUBMNtlkk00uQMhxHMdxHC9AQK1fKVDrL0BcdNFFF10wQBoS83aGxDBA1q8UqPUrMUCUTTbZZJMxQFDrVwrU+jFADIl5O0NiMkDKJptssskyQIbEvJ0hMTNARGLezpCYM0AAAAAAAAA0QAAAAAAAADTAQ2LezpCYM8CGxLydITEzwMomm2yyyTLADYl5O0NiMsBQ61cK1PoxwJNNNtlkkzHA168UqPUrMcAaEvN2hsQwwF100UUXXTDAQK1fKVDrL8DHcRzHcRwvwE422WSTTS7A1PqVArV+LcBav1Kg1q8swOGDDz744CvAaEjM2xkSK8DuDIl5O0MqwHTRRRdddCnA+5UCtX6lKMCBWr9SoNYnwAgffPDBByfAjuM4juM4JsAVqPUrBWolwJtssskmmyTAIjFvZ0jMI8Co9SsFav0iwC+66KKLLiLAtX6lQK1fIcA8Q2LezpAgwIQPPvjggx/Akpi3MyTmHcCeITFvZ0gcwKqqqqqqqhrAuDMk5u0MGcDEvJ0hMW8XwNJFF1100RXA3s6QmLczFMDsVwrU+pUSwPjggw8++BDACNT6lQK1DsAo5u0MiXkLwED44IMPPgjAWArU+pUCBcBwHMdxHMcBwCBddNFFF/2/UIFav1Kg9r+ApUCtXynwv2CTTTbZZOO/AG9nSMzbyb8Ab2dIzNvJP2CTTTbZZOM/gKVArV8p8D9QgVq/UqD2PxBddNFFF/0/cBzHcRzHAUBYCtT6lQIFQED44IMPPghAIObtDIl5C0AI1PqVArUOQPjggw8++BBA7FcK1PqVEkDczpCYtzMUQNBFF1100RVAxLydITFvF0C4MyTm7QwZQKyqqqqqqhpAnCExb2dIHECQmLczJOYdQIQPPvjggx9APENi3s6QIEC0fqVArV8hQC666KKLLiJAqPUrBWr9IkAiMW9nSMwjQJpssskmmyRAFKj1KwVqJUCO4ziO4zgmQAgffPDBBydAgFq/UqDWJ0D8lQK1fqUoQHTRRRdddClA7AyJeTtDKkBoSMzbGRIrQOCDDz744CtAXL9SoNavLEDU+pUCtX4tQEw22WSTTS5AyHEcx3EcL0BArV8pUOsvQFx00UUXXTBAGhLzdobEMEDWrxSo9SsxQJRNNtlkkzFAUOtXCtT6MUAMiXk7Q2IyQMomm2yyyTJAhsS8nSExM0BEYt7OkJgzQAAAAAAAADRAAAAAAAAANMBDYt7OkJgzwIbEvJ0hMTPAyiabbLLJMsANiXk7Q2IywFDrVwrU+jHAk0022WSTMcDXrxSo9SsxwBoS83aGxDDAXXTRRRddMMBArV8pUOsvwMdxHMdxHC/ATjbZZJNNLsDU+pUCtX4twFq/UqDWryzA4YMPPvjgK8BoSMzbGRIrwO4MiXk7QyrAdNFFF110KcD7lQK1fqUowIFav1Kg1ifACB988MEHJ8CO4ziO4zgmwBWo9SsFaiXAm2yyySabJMAiMW9nSMwjwKj1KwVq/SLAL7rooosuIsC1fqVArV8hwDxDYt7OkCDAhA8++OCDH8CSmLczJOYdwJ4hMW9nSBzAqqqqqqqqGsC4MyTm7QwZwMS8nSExbxfA0kUXXXTRFcDezpCYtzMUwOxXCtT6lRLA+OCDDz74EMAI1PqVArUOwCjm7QyJeQvAQPjggw8+CMBYCtT6lQIFwHAcx3EcxwHAIF100UUX/b9QgVq/UqD2v4ClQK1fKfC/YJNNNtlk478Ab2dIzNvJvwBvZ0jM28k/YJNNNtlk4z+ApUCtXynwP1CBWr9SoPY/EF100UUX/T9wHMdxHMcBQFgK1PqVAgVAQPjggw8+CEAg5u0MiXkLQAjU+pUCtQ5A+OCDDz74EEDsVwrU+pUSQNzOkJi3MxRA0EUXXXTRFUDEvJ0hMW8XQLgzJObtDBlArKqqqqqqGkCcITFvZ0gcQJCYtzMk5h1AhA8++OCDH0A8Q2LezpAgQLR+pUCtXyFALrrooosuIkCo9SsFav0iQCIxb2dIzCNAmmyyySabJEAUqPUrBWolQI7jOI7jOCZACB988MEHJ0CAWr9SoNYnQPyVArV+pShAdNFFF110KUDsDIl5O0MqQGhIzNsZEitA4IMPPvjgK0Bcv1Kg1q8sQNT6lQK1fi1ATDbZZJNNLkDIcRzHcRwvQECtXylQ6y9AXHTRRRddMEAaEvN2hsQwQNavFKj1KzFAlE022WSTMUBQ61cK1PoxQAyJeTtDYjJAyiabbLLJMkCGxLydITEzQERi3s6QmDNAAAAAAAAANEAAAAAAAAA0wENi3s6QmDPAhsS8nSExM8DKJptssskywA2JeTtDYjLAUOtXCtT6McCTTTbZZJMxwNevFKj1KzHAGhLzdobEMMBddNFFF10wwECtXylQ6y/Ax3Ecx3EcL8BONtlkk00uwNT6lQK1fi3AWr9SoNavLMDhgw8++OArwGhIzNsZEivA7gyJeTtDKsB00UUXXXQpwPuVArV+pSjAgVq/UqDWJ8AIH3zwwQcnwI7jOI7jOCbAFaj1KwVqJcCbbLLJJpskwCIxb2dIzCPAqPUrBWr9IsAvuuiiiy4iwLV+pUCtXyHAPENi3s6QIMCEDz744IMfwJKYtzMk5h3AniExb2dIHMCqqqqqqqoawLgzJObtDBnAxLydITFvF8DSRRdddNEVwN7OkJi3MxTA7FcK1PqVEsD44IMPPvgQwAjU+pUCtQ7AKObtDIl5C8BA+OCDDz4IwFgK1PqVAgXAcBzHcRzHAcAgXXTRRRf9v1CBWr9SoPa/gKVArV8p8L9gk0022WTjvwBvZ0jM28m/AG9nSMzbyT9gk0022WTjP4ClQK1fKfA/UIFav1Kg9j8QXXTRRRf9P3Acx3EcxwFAWArU+pUCBUBA+OCDDz4IQCDm7QyJeQtACNT6lQK1DkD44IMPPvgQQOxXCtT6lRJA3M6QmLczFEDQRRdddNEVQMS8nSExbxdAuDMk5u0MGUCsqqqqqqoaQJwhMW9nSBxAkJi3MyTmHUCEDz744IMfQDxDYt7OkCBAtH6lQK1fIUAuuuiiiy4iQKj1KwVq/SJAIjFvZ0jMI0CabLLJJpskQBSo9SsFaiVAjuM4juM4JkAIH3zwwQcnQIBav1Kg1idA/JUCtX6lKEB00UUXXXQpQOwMiXk7QypAaEjM2xkSK0Dggw8++OArQFy/UqDWryxA1PqVArV+LUBMNtlkk00uQMhxHMdxHC9AQK1fKVDrL0BcdNFFF10wQBoS83aGxDBA1q8UqPUrMUCUTTbZZJMxQFDrVwrU+jFADIl5O0NiMkDKJptssskyQIbEvJ0hMTNARGLezpCYM0AAAAAAAAA0QAAAAAAAADTAQ2LezpCYM8CGxLydITEzwMomm2yyyTLADYl5O0NiMsBQ61cK1PoxwJNNNtlkkzHA168UqPUrMcAaEvN2hsQwwF100UUXXTDAQK1fKVDrL8DHcRzHcRwvwE422WSTTS7A1PqVArV+LcBav1Kg1q8swOGDDz744CvAaEjM2xkSK8DuDIl5O0MqwHTRRRdddCnA+5UCtX6lKMCBWr9SoNYnwAgffPDBByfAjuM4juM4JsAVqPUrBWolwJtssskmmyTAIjFvZ0jMI8Co9SsFav0iwC+66KKLLiLAtX6lQK1fIcA8Q2LezpAgwIQPPvjggx/Akpi3MyTmHcCeITFvZ0gcwKqqqqqqqhrAuDMk5u0MGcDEvJ0hMW8XwNJFF1100RXA3s6QmLczFMDsVwrU+pUSwPjggw8++BDACNT6lQK1DsAo5u0MiXkLwED44IMPPgjAWArU+pUCBcBwHMdxHMcBwCBddNFFF/2/UIFav1Kg9r+ApUCtXynwv2CTTTbZZOO/AG9nSMzbyb8Ab2dIzNvJP2CTTTbZZOM/gKVArV8p8D9QgVq/UqD2PxBddNFFF/0/cBzHcRzHAUBYCtT6lQIFQED44IMPPghAIObtDIl5C0AI1PqVArUOQPjggw8++BBA7FcK1PqVEkDczpCYtzMUQNBFF1100RVAxLydITFvF0C4MyTm7QwZQKyqqqqqqhpAnCExb2dIHECQmLczJOYdQIQPPvjggx9APENi3s6QIEC0fqVArV8hQC666KKLLiJAqPUrBWr9IkAiMW9nSMwjQJpssskmmyRAFKj1KwVqJUCO4ziO4zgmQAgffPDBBydAgFq/UqDWJ0D8lQK1fqUoQHTRRRdddClA7AyJeTtDKkBoSMzbGRIrQOCDDz744CtAXL9SoNavLEDU+pUCtX4tQEw22WSTTS5AyHEcx3EcL0BArV8pUOsvQFx00UUXXTBAGhLzdobEMEDWrxSo9SsxQJRNNtlkkzFAUOtXCtT6MUAMiXk7Q2IyQMomm2yyyTJAhsS8nSExM0BEYt7OkJgzQAAAAAAAADRAAAAAAAAANMBDYt7OkJgzwIbEvJ0hMTPAyiabbLLJMsANiXk7Q2IywFDrVwrU+jHAk0022WSTMcDXrxSo9SsxwBoS83aGxDDAXXTRRRddMMBArV8pUOsvwMdxHMdxHC/ATjbZZJNNLsDU+pUCtX4twFq/UqDWryzA4YMPPvjgK8BoSMzbGRIrwO4MiXk7QyrAdNFFF110KcD7lQK1fqUowIFav1Kg1ifACB988MEHJ8CO4ziO4zgmwBWo9SsFaiXAm2yyySabJMAiMW9nSMwjwKj1KwVq/SLAL7rooosuIsC1fqVArV8hwDxDYt7OkCDAhA8++OCDH8CSmLczJOYdwJ4hMW9nSBzAqqqqqqqqGsC4MyTm7QwZwMS8nSExbxfA0kUXXXTRFcDezpCYtzMUwOxXCtT6lRLA+OCDDz74EMAI1PqVArUOwCjm7QyJeQvAQPjggw8+CMBYCtT6lQIFwHAcx3EcxwHAIF100UUX/b9QgVq/UqD2v4ClQK1fKfC/YJNNNtlk478Ab2dIzNvJvwBvZ0jM28k/YJNNNtlk4z+ApUCtXynwP1CBWr9SoPY/EF100UUX/T9wHMdxHMcBQFgK1PqVAgVAQPjggw8+CEAg5u0MiXkLQAjU+pUCtQ5A+OCDDz74EEDsVwrU+pUSQNzOkJi3MxRA0EUXXXTRFUDEvJ0hMW8XQLgzJObtDBlArKqqqqqqGkCcITFvZ0gcQJCYtzMk5h1AhA8++OCDH0A8Q2LezpAgQLR+pUCtXyFALrrooosuIkCo9SsFav0iQCIxb2dIzCNAmmyyySabJEAUqPUrBWolQI7jOI7jOCZACB988MEHJ0CAWr9SoNYnQPyVArV+pShAdNFFF110KUDsDIl5O0MqQGhIzNsZEitA4IMPPvjgK0Bcv1Kg1q8sQNT6lQK1fi1ATDbZZJNNLkDIcRzHcRwvQECtXylQ6y9AXHTRRRddMEAaEvN2hsQwQNavFKj1KzFAlE022WSTMUBQ61cK1PoxQAyJeTtDYjJAyiabbLLJMkCGxLydITEzQERi3s6QmDNAAAAAAAAANEAAAAAAAAA0wENi3s6QmDPAhsS8nSExM8DKJptssskywA2JeTtDYjLAUOtXCtT6McCTTTbZZJMxwNevFKj1KzHAGhLzdobEMMBddNFFF10wwECtXylQ6y/Ax3Ecx3EcL8BONtlkk00uwNT6lQK1fi3AWr9SoNavLMDhgw8++OArwGhIzNsZEivA7gyJeTtDKsB00UUXXXQpwPuVArV+pSjAgVq/UqDWJ8AIH3zwwQcnwI7jOI7jOCbAFaj1KwVqJcCbbLLJJpskwCIxb2dIzCPAqPUrBWr9IsAvuuiiiy4iwLV+pUCtXyHAPENi3s6QIMCEDz744IMfwJKYtzMk5h3AniExb2dIHMCqqqqqqqoawLgzJObtDBnAxLydITFvF8DSRRdddNEVwN7OkJi3MxTA7FcK1PqVEsD44IMPPvgQwAjU+pUCtQ7AKObtDIl5C8BA+OCDDz4IwFgK1PqVAgXAcBzHcRzHAcAgXXTRRRf9v1CBWr9SoPa/gKVArV8p8L9gk0022WTjvwBvZ0jM28m/AG9nSMzbyT9gk0022WTjP4ClQK1fKfA/UIFav1Kg9j8QXXTRRRf9P3Acx3EcxwFAWArU+pUCBUBA+OCDDz4IQCDm7QyJeQtACNT6lQK1DkD44IMPPvgQQOxXCtT6lRJA3M6QmLczFEDQRRdddNEVQMS8nSExbxdAuDMk5u0MGUCsqqqqqqoaQJwhMW9nSBxAkJi3MyTmHUCEDz744IMfQDxDYt7OkCBAtH6lQK1fIUAuuuiiiy4iQKj1KwVq/SJAIjFvZ0jMI0CabLLJJpskQBSo9SsFaiVAjuM4juM4JkAIH3zwwQcnQIBav1Kg1idA/JUCtX6lKEB00UUXXXQpQOwMiXk7QypAaEjM2xkSK0Dggw8++OArQFy/UqDWryxA1PqVArV+LUBMNtlkk00uQMhxHMdxHC9AQK1fKVDrL0BcdNFFF10wQBoS83aGxDBA1q8UqPUrMUCUTTbZZJMxQFDrVwrU+jFADIl5O0NiMkDKJptssskyQIbEvJ0hMTNARGLezpCYM0AAAAAAAAA0QAAAAAAAADTAQ2LezpCYM8CGxLydITEzwMomm2yyyTLADYl5O0NiMsBQ61cK1PoxwJNNNtlkkzHA168UqPUrMcAaEvN2hsQwwF100UUXXTDAQK1fKVDrL8DHcRzHcRwvwE422WSTTS7A1PqVArV+LcBav1Kg1q8swOGDDz744CvAaEjM2xkSK8DuDIl5O0MqwHTRRRdddCnA+5UCtX6lKMCBWr9SoNYnwAgffPDBByfAjuM4juM4JsAVqPUrBWolwJtssskmmyTAIjFvZ0jMI8Co9SsFav0iwC+66KKLLiLAtX6lQK1fIcA8Q2LezpAgwIQPPvjggx/Akpi3MyTmHcCeITFvZ0gcwKqqqqqqqhrAuDMk5u0MGcDEvJ0hMW8XwNJFF1100RXA3s6QmLczFMDsVwrU+pUSwPjggw8++BDACNT6lQK1DsAo5u0MiXkLwED44IMPPgjAWArU+pUCBcBwHMdxHMcBwCBddNFFF/2/UIFav1Kg9r+ApUCtXynwv2CTTTbZZOO/AG9nSMzbyb8Ab2dIzNvJP2CTTTbZZOM/gKVArV8p8D9QgVq/UqD2PxBddNFFF/0/cBzHcRzHAUBYCtT6lQIFQED44IMPPghAIObtDIl5C0AI1PqVArUOQPjggw8++BBA7FcK1PqVEkDczpCYtzMUQNBFF1100RVAxLydITFvF0C4MyTm7QwZQKyqqqqqqhpAnCExb2dIHECQmLczJOYdQIQPPvjggx9APENi3s6QIEC0fqVArV8hQC666KKLLiJAqPUrBWr9IkAiMW9nSMwjQJpssskmmyRAFKj1KwVqJUCO4ziO4zgmQAgffPDBBydAgFq/UqDWJ0D8lQK1fqUoQHTRRRdddClA7AyJeTtDKkBoSMzbGRIrQOCDDz744CtAXL9SoNavLEDU+pUCtX4tQEw22WSTTS5AyHEcx3EcL0BArV8pUOsvQFx00UUXXTBAGhLzdobEMEDWrxSo9SsxQJRNNtlkkzFAUOtXCtT6MUAMiXk7Q2IyQMomm2yyyTJAhsS8nSExM0BEYt7OkJgzQAAAAAAAADRAAAAAAAAANMBDYt7OkJgzwIbEvJ0hMTPAyiabbLLJMsANiXk7Q2IywFDrVwrU+jHAk0022WSTMcDXrxSo9SsxwBoS83aGxDDAXXTRRRddMMBArV8pUOsvwMdxHMdxHC/ATjbZZJNNLsDU+pUCtX4twFq/UqDWryzA4YMPPvjgK8BoSMzbGRIrwO4MiXk7QyrAdNFFF110KcD7lQK1fqUowIFav1Kg1ifACB988MEHJ8CO4ziO4zgmwBWo9SsFaiXAm2yyySabJMAiMW9nSMwjwKj1KwVq/SLAL7rooosuIsC1fqVArV8hwDxDYt7OkCDAhA8++OCDH8CSmLczJOYdwJ4hMW9nSBzAqqqqqqqqGsC4MyTm7QwZwMS8nSExbxfA0kUXXXTRFcDezpCYtzMUwOxXCtT6lRLA+OCDDz74EMAI1PqVArUOwCjm7QyJeQvAQPjggw8+CMBYCtT6lQIFwHAcx3EcxwHAIF100UUX/b9QgVq/UqD2v4ClQK1fKfC/YJNNNtlk478Ab2dIzNvJvwBvZ0jM28k/YJNNNtlk4z+ApUCtXynwP1CBWr9SoPY/EF100UUX/T9wHMdxHMcBQFgK1PqVAgVAQPjggw8+CEAg5u0MiXkLQAjU+pUCtQ5A+OCDDz74EEDsVwrU+pUSQNzOkJi3MxRA0EUXXXTRFUDEvJ0hMW8XQLgzJObtDBlArKqqqqqqGkCcITFvZ0gcQJCYtzMk5h1AhA8++OCDH0A8Q2LezpAgQLR+pUCtXyFALrrooosuIkCo9SsFav0iQCIxb2dIzCNAmmyyySabJEAUqPUrBWolQI7jOI7jOCZACB988MEHJ0CAWr9SoNYnQPyVArV+pShAdNFFF110KUDsDIl5O0MqQGhIzNsZEitA4IMPPvjgK0Bcv1Kg1q8sQNT6lQK1fi1ATDbZZJNNLkDIcRzHcRwvQECtXylQ6y9AXHTRRRddMEAaEvN2hsQwQNavFKj1KzFAlE022WSTMUBQ61cK1PoxQAyJeTtDYjJAyiabbLLJMkCGxLydITEzQERi3s6QmDNAAAAAAAAANEAAAAAAAAA0wENi3s6QmDPAhsS8nSExM8DKJptssskywA2JeTtDYjLAUOtXCtT6McCTTTbZZJMxwNevFKj1KzHAGhLzdobEMMBddNFFF10wwECtXylQ6y/Ax3Ecx3EcL8BONtlkk00uwNT6lQK1fi3AWr9SoNavLMDhgw8++OArwGhIzNsZEivA7gyJeTtDKsB00UUXXXQpwPuVArV+pSjAgVq/UqDWJ8AIH3zwwQcnwI7jOI7jOCbAFaj1KwVqJcCbbLLJJpskwCIxb2dIzCPAqPUrBWr9IsAvuuiiiy4iwLV+pUCtXyHAPENi3s6QIMCEDz744IMfwJKYtzMk5h3AniExb2dIHMCqqqqqqqoawLgzJObtDBnAxLydITFvF8DSRRdddNEVwN7OkJi3MxTA7FcK1PqVEsD44IMPPvgQwAjU+pUCtQ7AKObtDIl5C8BA+OCDDz4IwFgK1PqVAgXAcBzHcRzHAcAgXXTRRRf9v1CBWr9SoPa/gKVArV8p8L9gk0022WTjvwBvZ0jM28m/AG9nSMzbyT9gk0022WTjP4ClQK1fKfA/UIFav1Kg9j8QXXTRRRf9P3Acx3EcxwFAWArU+pUCBUBA+OCDDz4IQCDm7QyJeQtACNT6lQK1DkD44IMPPvgQQOxXCtT6lRJA3M6QmLczFEDQRRdddNEVQMS8nSExbxdAuDMk5u0MGUCsqqqqqqoaQJwhMW9nSBxAkJi3MyTmHUCEDz744IMfQDxDYt7OkCBAtH6lQK1fIUAuuuiiiy4iQKj1KwVq/SJAIjFvZ0jMI0CabLLJJpskQBSo9SsFaiVAjuM4juM4JkAIH3zwwQcnQIBav1Kg1idA/JUCtX6lKEB00UUXXXQpQOwMiXk7QypAaEjM2xkSK0Dggw8++OArQFy/UqDWryxA1PqVArV+LUBMNtlkk00uQMhxHMdxHC9AQK1fKVDrL0BcdNFFF10wQBoS83aGxDBA1q8UqPUrMUCUTTbZZJMxQFDrVwrU+jFADIl5O0NiMkDKJptssskyQIbEvJ0hMTNARGLezpCYM0AAAAAAAAA0QAAAAAAAADTAQ2LezpCYM8CGxLydITEzwMomm2yyyTLADYl5O0NiMsBQ61cK1PoxwJNNNtlkkzHA168UqPUrMcAaEvN2hsQwwF100UUXXTDAQK1fKVDrL8DHcRzHcRwvwE422WSTTS7A1PqVArV+LcBav1Kg1q8swOGDDz744CvAaEjM2xkSK8DuDIl5O0MqwHTRRRdddCnA+5UCtX6lKMCBWr9SoNYnwAgffPDBByfAjuM4juM4JsAVqPUrBWolwJtssskmmyTAIjFvZ0jMI8Co9SsFav0iwC+66KKLLiLAtX6lQK1fIcA8Q2LezpAgwIQPPvjggx/Akpi3MyTmHcCeITFvZ0gcwKqqqqqqqhrAuDMk5u0MGcDEvJ0hMW8XwNJFF1100RXA3s6QmLczFMDsVwrU+pUSwPjggw8++BDACNT6lQK1DsAo5u0MiXkLwED44IMPPgjAWArU+pUCBcBwHMdxHMcBwCBddNFFF/2/UIFav1Kg9r+ApUCtXynwv2CTTTbZZOO/AG9nSMzbyb8Ab2dIzNvJP2CTTTbZZOM/gKVArV8p8D9QgVq/UqD2PxBddNFFF/0/cBzHcRzHAUBYCtT6lQIFQED44IMPPghAIObtDIl5C0AI1PqVArUOQPjggw8++BBA7FcK1PqVEkDczpCYtzMUQNBFF1100RVAxLydITFvF0C4MyTm7QwZQKyqqqqqqhpAnCExb2dIHECQmLczJOYdQIQPPvjggx9APENi3s6QIEC0fqVArV8hQC666KKLLiJAqPUrBWr9IkAiMW9nSMwjQJpssskmmyRAFKj1KwVqJUCO4ziO4zgmQAgffPDBBydAgFq/UqDWJ0D8lQK1fqUoQHTRRRdddClA7AyJeTtDKkBoSMzbGRIrQOCDDz744CtAXL9SoNavLEDU+pUCtX4tQEw22WSTTS5AyHEcx3EcL0BArV8pUOsvQFx00UUXXTBAGhLzdobEMEDWrxSo9SsxQJRNNtlkkzFAUOtXCtT6MUAMiXk7Q2IyQMomm2yyyTJAhsS8nSExM0BEYt7OkJgzQAAAAAAAADRAAAAAAAAANMBDYt7OkJgzwIbEvJ0hMTPAyiabbLLJMsANiXk7Q2IywFDrVwrU+jHAk0022WSTMcDXrxSo9SsxwBoS83aGxDDAXXTRRRddMMBArV8pUOsvwMdxHMdxHC/ATjbZZJNNLsDU+pUCtX4twFq/UqDWryzA4YMPPvjgK8BoSMzbGRIrwO4MiXk7QyrAdNFFF110KcD7lQK1fqUowIFav1Kg1ifACB988MEHJ8CO4ziO4zgmwBWo9SsFaiXAm2yyySabJMAiMW9nSMwjwKj1KwVq/SLAL7rooosuIsC1fqVArV8hwDxDYt7OkCDAhA8++OCDH8CSmLczJOYdwJ4hMW9nSBzAqqqqqqqqGsC4MyTm7QwZwMS8nSExbxfA0kUXXXTRFcDezpCYtzMUwOxXCtT6lRLA+OCDDz74EMAI1PqVArUOwCjm7QyJeQvAQPjggw8+CMBYCtT6lQIFwHAcx3EcxwHAIF100UUX/b9QgVq/UqD2v4ClQK1fKfC/YJNNNtlk478Ab2dIzNvJvwBvZ0jM28k/YJNNNtlk4z+ApUCtXynwP1CBWr9SoPY/EF100UUX/T9wHMdxHMcBQFgK1PqVAgVAQPjggw8+CEAg5u0MiXkLQAjU+pUCtQ5A+OCDDz74EEDsVwrU+pUSQNzOkJi3MxRA0EUXXXTRFUDEvJ0hMW8XQLgzJObtDBlArKqqqqqqGkCcITFvZ0gcQJCYtzMk5h1AhA8++OCDH0A8Q2LezpAgQLR+pUCtXyFALrrooosuIkCo9SsFav0iQCIxb2dIzCNAmmyyySabJEAUqPUrBWolQI7jOI7jOCZACB988MEHJ0CAWr9SoNYnQPyVArV+pShAdNFFF110KUDsDIl5O0MqQGhIzNsZEitA4IMPPvjgK0Bcv1Kg1q8sQNT6lQK1fi1ATDbZZJNNLkDIcRzHcRwvQECtXylQ6y9AXHTRRRddMEAaEvN2hsQwQNavFKj1KzFAlE022WSTMUBQ61cK1PoxQAyJeTtDYjJAyiabbLLJMkCGxLydITEzQERi3s6QmDNAAAAAAAAANEAAAAAAAAA0wENi3s6QmDPAhsS8nSExM8DKJptssskywA2JeTtDYjLAUOtXCtT6McCTTTbZZJMxwNevFKj1KzHAGhLzdobEMMBddNFFF10wwECtXylQ6y/Ax3Ecx3EcL8BONtlkk00uwNT6lQK1fi3AWr9SoNavLMDhgw8++OArwGhIzNsZEivA7gyJeTtDKsB00UUXXXQpwPuVArV+pSjAgVq/UqDWJ8AIH3zwwQcnwI7jOI7jOCbAFaj1KwVqJcCbbLLJJpskwCIxb2dIzCPAqPUrBWr9IsAvuuiiiy4iwLV+pUCtXyHAPENi3s6QIMCEDz744IMfwJKYtzMk5h3AniExb2dIHMCqqqqqqqoawLgzJObtDBnAxLydITFvF8DSRRdddNEVwN7OkJi3MxTA7FcK1PqVEsD44IMPPvgQwAjU+pUCtQ7AKObtDIl5C8BA+OCDDz4IwFgK1PqVAgXAcBzHcRzHAcAgXXTRRRf9v1CBWr9SoPa/gKVArV8p8L9gk0022WTjvwBvZ0jM28m/AG9nSMzbyT9gk0022WTjP4ClQK1fKfA/UIFav1Kg9j8QXXTRRRf9P3Acx3EcxwFAWArU+pUCBUBA+OCDDz4IQCDm7QyJeQtACNT6lQK1DkD44IMPPvgQQOxXCtT6lRJA3M6QmLczFEDQRRdddNEVQMS8nSExbxdAuDMk5u0MGUCsqqqqqqoaQJwhMW9nSBxAkJi3MyTmHUCEDz744IMfQDxDYt7OkCBAtH6lQK1fIUAuuuiiiy4iQKj1KwVq/SJAIjFvZ0jMI0CabLLJJpskQBSo9SsFaiVAjuM4juM4JkAIH3zwwQcnQIBav1Kg1idA/JUCtX6lKEB00UUXXXQpQOwMiXk7QypAaEjM2xkSK0Dggw8++OArQFy/UqDWryxA1PqVArV+LUBMNtlkk00uQMhxHMdxHC9AQK1fKVDrL0BcdNFFF10wQBoS83aGxDBA1q8UqPUrMUCUTTbZZJMxQFDrVwrU+jFADIl5O0NiMkDKJptssskyQIbEvJ0hMTNARGLezpCYM0AAAAAAAAA0QAAAAAAAADTAQ2LezpCYM8CGxLydITEzwMomm2yyyTLADYl5O0NiMsBQ61cK1PoxwJNNNtlkkzHA168UqPUrMcAaEvN2hsQwwF100UUXXTDAQK1fKVDrL8DHcRzHcRwvwE422WSTTS7A1PqVArV+LcBav1Kg1q8swOGDDz744CvAaEjM2xkSK8DuDIl5O0MqwHTRRRdddCnA+5UCtX6lKMCBWr9SoNYnwAgffPDBByfAjuM4juM4JsAVqPUrBWolwJtssskmmyTAIjFvZ0jMI8Co9SsFav0iwC+66KKLLiLAtX6lQK1fIcA8Q2LezpAgwIQPPvjggx/Akpi3MyTmHcCeITFvZ0gcwKqqqqqqqhrAuDMk5u0MGcDEvJ0hMW8XwNJFF1100RXA3s6QmLczFMDsVwrU+pUSwPjggw8++BDACNT6lQK1DsAo5u0MiXkLwED44IMPPgjAWArU+pUCBcBwHMdxHMcBwCBddNFFF/2/UIFav1Kg9r+ApUCtXynwv2CTTTbZZOO/AG9nSMzbyb8Ab2dIzNvJP2CTTTbZZOM/gKVArV8p8D9QgVq/UqD2PxBddNFFF/0/cBzHcRzHAUBYCtT6lQIFQED44IMPPghAIObtDIl5C0AI1PqVArUOQPjggw8++BBA7FcK1PqVEkDczpCYtzMUQNBFF1100RVAxLydITFvF0C4MyTm7QwZQKyqqqqqqhpAnCExb2dIHECQmLczJOYdQIQPPvjggx9APENi3s6QIEC0fqVArV8hQC666KKLLiJAqPUrBWr9IkAiMW9nSMwjQJpssskmmyRAFKj1KwVqJUCO4ziO4zgmQAgffPDBBydAgFq/UqDWJ0D8lQK1fqUoQHTRRRdddClA7AyJeTtDKkBoSMzbGRIrQOCDDz744CtAXL9SoNavLEDU+pUCtX4tQEw22WSTTS5AyHEcx3EcL0BArV8pUOsvQFx00UUXXTBAGhLzdobEMEDWrxSo9SsxQJRNNtlkkzFAUOtXCtT6MUAMiXk7Q2IyQMomm2yyyTJAhsS8nSExM0BEYt7OkJgzQAAAAAAAADRAAAAAAAAANMBDYt7OkJgzwIbEvJ0hMTPAyiabbLLJMsANiXk7Q2IywFDrVwrU+jHAk0022WSTMcDXrxSo9SsxwBoS83aGxDDAXXTRRRddMMBArV8pUOsvwMdxHMdxHC/ATjbZZJNNLsDU+pUCtX4twFq/UqDWryzA4YMPPvjgK8BoSMzbGRIrwO4MiXk7QyrAdNFFF110KcD7lQK1fqUowIFav1Kg1ifACB988MEHJ8CO4ziO4zgmwBWo9SsFaiXAm2yyySabJMAiMW9nSMwjwKj1KwVq/SLAL7rooosuIsC1fqVArV8hwDxDYt7OkCDAhA8++OCDH8CSmLczJOYdwJ4hMW9nSBzAqqqqqqqqGsC4MyTm7QwZwMS8nSExbxfA0kUXXXTRFcDezpCYtzMUwOxXCtT6lRLA+OCDDz74EMAI1PqVArUOwCjm7QyJeQvAQPjggw8+CMBYCtT6lQIFwHAcx3EcxwHAIF100UUX/b9QgVq/UqD2v4ClQK1fKfC/YJNNNtlk478Ab2dIzNvJvwBvZ0jM28k/YJNNNtlk4z+ApUCtXynwP1CBWr9SoPY/EF100UUX/T9wHMdxHMcBQFgK1PqVAgVAQPjggw8+CEAg5u0MiXkLQAjU+pUCtQ5A+OCDDz74EEDsVwrU+pUSQNzOkJi3MxRA0EUXXXTRFUDEvJ0hMW8XQLgzJObtDBlArKqqqqqqGkCcITFvZ0gcQJCYtzMk5h1AhA8++OCDH0A8Q2LezpAgQLR+pUCtXyFALrrooosuIkCo9SsFav0iQCIxb2dIzCNAmmyyySabJEAUqPUrBWolQI7jOI7jOCZACB988MEHJ0CAWr9SoNYnQPyVArV+pShAdNFFF110KUDsDIl5O0MqQGhIzNsZEitA4IMPPvjgK0Bcv1Kg1q8sQNT6lQK1fi1ATDbZZJNNLkDIcRzHcRwvQECtXylQ6y9AXHTRRRddMEAaEvN2hsQwQNavFKj1KzFAlE022WSTMUBQ61cK1PoxQAyJeTtDYjJAyiabbLLJMkCGxLydITEzQERi3s6QmDNAAAAAAAAANEAAAAAAAAA0wENi3s6QmDPAhsS8nSExM8DKJptssskywA2JeTtDYjLAUOtXCtT6McCTTTbZZJMxwNevFKj1KzHAGhLzdobEMMBddNFFF10wwECtXylQ6y/Ax3Ecx3EcL8BONtlkk00uwNT6lQK1fi3AWr9SoNavLMDhgw8++OArwGhIzNsZEivA7gyJeTtDKsB00UUXXXQpwPuVArV+pSjAgVq/UqDWJ8AIH3zwwQcnwI7jOI7jOCbAFaj1KwVqJcCbbLLJJpskwCIxb2dIzCPAqPUrBWr9IsAvuuiiiy4iwLV+pUCtXyHAPENi3s6QIMCEDz744IMfwJKYtzMk5h3AniExb2dIHMCqqqqqqqoawLgzJObtDBnAxLydITFvF8DSRRdddNEVwN7OkJi3MxTA7FcK1PqVEsD44IMPPvgQwAjU+pUCtQ7AKObtDIl5C8BA+OCDDz4IwFgK1PqVAgXAcBzHcRzHAcAgXXTRRRf9v1CBWr9SoPa/gKVArV8p8L9gk0022WTjvwBvZ0jM28m/AG9nSMzbyT9gk0022WTjP4ClQK1fKfA/UIFav1Kg9j8QXXTRRRf9P3Acx3EcxwFAWArU+pUCBUBA+OCDDz4IQCDm7QyJeQtACNT6lQK1DkD44IMPPvgQQOxXCtT6lRJA3M6QmLczFEDQRRdddNEVQMS8nSExbxdAuDMk5u0MGUCsqqqqqqoaQJwhMW9nSBxAkJi3MyTmHUCEDz744IMfQDxDYt7OkCBAtH6lQK1fIUAuuuiiiy4iQKj1KwVq/SJAIjFvZ0jMI0CabLLJJpskQBSo9SsFaiVAjuM4juM4JkAIH3zwwQcnQIBav1Kg1idA/JUCtX6lKEB00UUXXXQpQOwMiXk7QypAaEjM2xkSK0Dggw8++OArQFy/UqDWryxA1PqVArV+LUBMNtlkk00uQMhxHMdxHC9AQK1fKVDrL0BcdNFFF10wQBoS83aGxDBA1q8UqPUrMUCUTTbZZJMxQFDrVwrU+jFADIl5O0NiMkDKJptssskyQIbEvJ0hMTNARGLezpCYM0AAAAAAAAA0QAAAAAAAADTAQ2LezpCYM8CGxLydITEzwMomm2yyyTLADYl5O0NiMsBQ61cK1PoxwJNNNtlkkzHA168UqPUrMcAaEvN2hsQwwF100UUXXTDAQK1fKVDrL8DHcRzHcRwvwE422WSTTS7A1PqVArV+LcBav1Kg1q8swOGDDz744CvAaEjM2xkSK8DuDIl5O0MqwHTRRRdddCnA+5UCtX6lKMCBWr9SoNYnwAgffPDBByfAjuM4juM4JsAVqPUrBWolwJtssskmmyTAIjFvZ0jMI8Co9SsFav0iwC+66KKLLiLAtX6lQK1fIcA8Q2LezpAgwIQPPvjggx/Akpi3MyTmHcCeITFvZ0gcwKqqqqqqqhrAuDMk5u0MGcDEvJ0hMW8XwNJFF1100RXA3s6QmLczFMDsVwrU+pUSwPjggw8++BDACNT6lQK1DsAo5u0MiXkLwED44IMPPgjAWArU+pUCBcBwHMdxHMcBwCBddNFFF/2/UIFav1Kg9r+ApUCtXynwv2CTTTbZZOO/AG9nSMzbyb8Ab2dIzNvJP2CTTTbZZOM/gKVArV8p8D9QgVq/UqD2PxBddNFFF/0/cBzHcRzHAUBYCtT6lQIFQED44IMPPghAIObtDIl5C0AI1PqVArUOQPjggw8++BBA7FcK1PqVEkDczpCYtzMUQNBFF1100RVAxLydITFvF0C4MyTm7QwZQKyqqqqqqhpAnCExb2dIHECQmLczJOYdQIQPPvjggx9APENi3s6QIEC0fqVArV8hQC666KKLLiJAqPUrBWr9IkAiMW9nSMwjQJpssskmmyRAFKj1KwVqJUCO4ziO4zgmQAgffPDBBydAgFq/UqDWJ0D8lQK1fqUoQHTRRRdddClA7AyJeTtDKkBoSMzbGRIrQOCDDz744CtAXL9SoNavLEDU+pUCtX4tQEw22WSTTS5AyHEcx3EcL0BArV8pUOsvQFx00UUXXTBAGhLzdobEMEDWrxSo9SsxQJRNNtlkkzFAUOtXCtT6MUAMiXk7Q2IyQMomm2yyyTJAhsS8nSExM0BEYt7OkJgzQAAAAAAAADRAAAAAAAAANMBDYt7OkJgzwIbEvJ0hMTPAyiabbLLJMsANiXk7Q2IywFDrVwrU+jHAk0022WSTMcDXrxSo9SsxwBoS83aGxDDAXXTRRRddMMBArV8pUOsvwMdxHMdxHC/ATjbZZJNNLsDU+pUCtX4twFq/UqDWryzA4YMPPvjgK8BoSMzbGRIrwO4MiXk7QyrAdNFFF110KcD7lQK1fqUowIFav1Kg1ifACB988MEHJ8CO4ziO4zgmwBWo9SsFaiXAm2yyySabJMAiMW9nSMwjwKj1KwVq/SLAL7rooosuIsC1fqVArV8hwDxDYt7OkCDAhA8++OCDH8CSmLczJOYdwJ4hMW9nSBzAqqqqqqqqGsC4MyTm7QwZwMS8nSExbxfA0kUXXXTRFcDezpCYtzMUwOxXCtT6lRLA+OCDDz74EMAI1PqVArUOwCjm7QyJeQvAQPjggw8+CMBYCtT6lQIFwHAcx3EcxwHAIF100UUX/b9QgVq/UqD2v4ClQK1fKfC/YJNNNtlk478Ab2dIzNvJvwBvZ0jM28k/YJNNNtlk4z+ApUCtXynwP1CBWr9SoPY/EF100UUX/T9wHMdxHMcBQFgK1PqVAgVAQPjggw8+CEAg5u0MiXkLQAjU+pUCtQ5A+OCDDz74EEDsVwrU+pUSQNzOkJi3MxRA0EUXXXTRFUDEvJ0hMW8XQLgzJObtDBlArKqqqqqqGkCcITFvZ0gcQJCYtzMk5h1AhA8++OCDH0A8Q2LezpAgQLR+pUCtXyFALrrooosuIkCo9SsFav0iQCIxb2dIzCNAmmyyySabJEAUqPUrBWolQI7jOI7jOCZACB988MEHJ0CAWr9SoNYnQPyVArV+pShAdNFFF110KUDsDIl5O0MqQGhIzNsZEitA4IMPPvjgK0Bcv1Kg1q8sQNT6lQK1fi1ATDbZZJNNLkDIcRzHcRwvQECtXylQ6y9AXHTRRRddMEAaEvN2hsQwQNavFKj1KzFAlE022WSTMUBQ61cK1PoxQAyJeTtDYjJAyiabbLLJMkCGxLydITEzQERi3s6QmDNAAAAAAAAANEAAAAAAAAA0wENi3s6QmDPAhsS8nSExM8DKJptssskywA2JeTtDYjLAUOtXCtT6McCTTTbZZJMxwNevFKj1KzHAGhLzdobEMMBddNFFF10wwECtXylQ6y/Ax3Ecx3EcL8BONtlkk00uwNT6lQK1fi3AWr9SoNavLMDhgw8++OArwGhIzNsZEivA7gyJeTtDKsB00UUXXXQpwPuVArV+pSjAgVq/UqDWJ8AIH3zwwQcnwI7jOI7jOCbAFaj1KwVqJcCbbLLJJpskwCIxb2dIzCPAqPUrBWr9IsAvuuiiiy4iwLV+pUCtXyHAPENi3s6QIMCEDz744IMfwJKYtzMk5h3AniExb2dIHMCqqqqqqqoawLgzJObtDBnAxLydITFvF8DSRRdddNEVwN7OkJi3MxTA7FcK1PqVEsD44IMPPvgQwAjU+pUCtQ7AKObtDIl5C8BA+OCDDz4IwFgK1PqVAgXAcBzHcRzHAcAgXXTRRRf9v1CBWr9SoPa/gKVArV8p8L9gk0022WTjvwBvZ0jM28m/AG9nSMzbyT9gk0022WTjP4ClQK1fKfA/UIFav1Kg9j8QXXTRRRf9P3Acx3EcxwFAWArU+pUCBUBA+OCDDz4IQCDm7QyJeQtACNT6lQK1DkD44IMPPvgQQOxXCtT6lRJA3M6QmLczFEDQRRdddNEVQMS8nSExbxdAuDMk5u0MGUCsqqqqqqoaQJwhMW9nSBxAkJi3MyTmHUCEDz744IMfQDxDYt7OkCBAtH6lQK1fIUAuuuiiiy4iQKj1KwVq/SJAIjFvZ0jMI0CabLLJJpskQBSo9SsFaiVAjuM4juM4JkAIH3zwwQcnQIBav1Kg1idA/JUCtX6lKEB00UUXXXQpQOwMiXk7QypAaEjM2xkSK0Dggw8++OArQFy/UqDWryxA1PqVArV+LUBMNtlkk00uQMhxHMdxHC9AQK1fKVDrL0BcdNFFF10wQBoS83aGxDBA1q8UqPUrMUCUTTbZZJMxQFDrVwrU+jFADIl5O0NiMkDKJptssskyQIbEvJ0hMTNARGLezpCYM0AAAAAAAAA0QAAAAAAAADTAQ2LezpCYM8CGxLydITEzwMomm2yyyTLADYl5O0NiMsBQ61cK1PoxwJNNNtlkkzHA168UqPUrMcAaEvN2hsQwwF100UUXXTDAQK1fKVDrL8DHcRzHcRwvwE422WSTTS7A1PqVArV+LcBav1Kg1q8swOGDDz744CvAaEjM2xkSK8DuDIl5O0MqwHTRRRdddCnA+5UCtX6lKMCBWr9SoNYnwAgffPDBByfAjuM4juM4JsAVqPUrBWolwJtssskmmyTAIjFvZ0jMI8Co9SsFav0iwC+66KKLLiLAtX6lQK1fIcA8Q2LezpAgwIQPPvjggx/Akpi3MyTmHcCeITFvZ0gcwKqqqqqqqhrAuDMk5u0MGcDEvJ0hMW8XwNJFF1100RXA3s6QmLczFMDsVwrU+pUSwPjggw8++BDACNT6lQK1DsAo5u0MiXkLwED44IMPPgjAWArU+pUCBcBwHMdxHMcBwCBddNFFF/2/UIFav1Kg9r+ApUCtXynwv2CTTTbZZOO/AG9nSMzbyb8Ab2dIzNvJP2CTTTbZZOM/gKVArV8p8D9QgVq/UqD2PxBddNFFF/0/cBzHcRzHAUBYCtT6lQIFQED44IMPPghAIObtDIl5C0AI1PqVArUOQPjggw8++BBA7FcK1PqVEkDczpCYtzMUQNBFF1100RVAxLydITFvF0C4MyTm7QwZQKyqqqqqqhpAnCExb2dIHECQmLczJOYdQIQPPvjggx9APENi3s6QIEC0fqVArV8hQC666KKLLiJAqPUrBWr9IkAiMW9nSMwjQJpssskmmyRAFKj1KwVqJUCO4ziO4zgmQAgffPDBBydAgFq/UqDWJ0D8lQK1fqUoQHTRRRdddClA7AyJeTtDKkBoSMzbGRIrQOCDDz744CtAXL9SoNavLEDU+pUCtX4tQEw22WSTTS5AyHEcx3EcL0BArV8pUOsvQFx00UUXXTBAGhLzdobEMEDWrxSo9SsxQJRNNtlkkzFAUOtXCtT6MUAMiXk7Q2IyQMomm2yyyTJAhsS8nSExM0BEYt7OkJgzQAAAAAAAADRAAAAAAAAANMBDYt7OkJgzwIbEvJ0hMTPAyiabbLLJMsANiXk7Q2IywFDrVwrU+jHAk0022WSTMcDXrxSo9SsxwBoS83aGxDDAXXTRRRddMMBArV8pUOsvwMdxHMdxHC/ATjbZZJNNLsDU+pUCtX4twFq/UqDWryzA4YMPPvjgK8BoSMzbGRIrwO4MiXk7QyrAdNFFF110KcD7lQK1fqUowIFav1Kg1ifACB988MEHJ8CO4ziO4zgmwBWo9SsFaiXAm2yyySabJMAiMW9nSMwjwKj1KwVq/SLAL7rooosuIsC1fqVArV8hwDxDYt7OkCDAhA8++OCDH8CSmLczJOYdwJ4hMW9nSBzAqqqqqqqqGsC4MyTm7QwZwMS8nSExbxfA0kUXXXTRFcDezpCYtzMUwOxXCtT6lRLA+OCDDz74EMAI1PqVArUOwCjm7QyJeQvAQPjggw8+CMBYCtT6lQIFwHAcx3EcxwHAIF100UUX/b9QgVq/UqD2v4ClQK1fKfC/YJNNNtlk478Ab2dIzNvJvwBvZ0jM28k/YJNNNtlk4z+ApUCtXynwP1CBWr9SoPY/EF100UUX/T9wHMdxHMcBQFgK1PqVAgVAQPjggw8+CEAg5u0MiXkLQAjU+pUCtQ5A+OCDDz74EEDsVwrU+pUSQNzOkJi3MxRA0EUXXXTRFUDEvJ0hMW8XQLgzJObtDBlArKqqqqqqGkCcITFvZ0gcQJCYtzMk5h1AhA8++OCDH0A8Q2LezpAgQLR+pUCtXyFALrrooosuIkCo9SsFav0iQCIxb2dIzCNAmmyyySabJEAUqPUrBWolQI7jOI7jOCZACB988MEHJ0CAWr9SoNYnQPyVArV+pShAdNFFF110KUDsDIl5O0MqQGhIzNsZEitA4IMPPvjgK0Bcv1Kg1q8sQNT6lQK1fi1ATDbZZJNNLkDIcRzHcRwvQECtXylQ6y9AXHTRRRddMEAaEvN2hsQwQNavFKj1KzFAlE022WSTMUBQ61cK1PoxQAyJeTtDYjJAyiabbLLJMkCGxLydITEzQERi3s6QmDNAAAAAAAAANEAAAAAAAAA0wENi3s6QmDPAhsS8nSExM8DKJptssskywA2JeTtDYjLAUOtXCtT6McCTTTbZZJMxwNevFKj1KzHAGhLzdobEMMBddNFFF10wwECtXylQ6y/Ax3Ecx3EcL8BONtlkk00uwNT6lQK1fi3AWr9SoNavLMDhgw8++OArwGhIzNsZEivA7gyJeTtDKsB00UUXXXQpwPuVArV+pSjAgVq/UqDWJ8AIH3zwwQcnwI7jOI7jOCbAFaj1KwVqJcCbbLLJJpskwCIxb2dIzCPAqPUrBWr9IsAvuuiiiy4iwLV+pUCtXyHAPENi3s6QIMCEDz744IMfwJKYtzMk5h3AniExb2dIHMCqqqqqqqoawLgzJObtDBnAxLydITFvF8DSRRdddNEVwN7OkJi3MxTA7FcK1PqVEsD44IMPPvgQwAjU+pUCtQ7AKObtDIl5C8BA+OCDDz4IwFgK1PqVAgXAcBzHcRzHAcAgXXTRRRf9v1CBWr9SoPa/gKVArV8p8L9gk0022WTjvwBvZ0jM28m/AG9nSMzbyT9gk0022WTjP4ClQK1fKfA/UIFav1Kg9j8QXXTRRRf9P3Acx3EcxwFAWArU+pUCBUBA+OCDDz4IQCDm7QyJeQtACNT6lQK1DkD44IMPPvgQQOxXCtT6lRJA3M6QmLczFEDQRRdddNEVQMS8nSExbxdAuDMk5u0MGUCsqqqqqqoaQJwhMW9nSBxAkJi3MyTmHUCEDz744IMfQDxDYt7OkCBAtH6lQK1fIUAuuuiiiy4iQKj1KwVq/SJAIjFvZ0jMI0CabLLJJpskQBSo9SsFaiVAjuM4juM4JkAIH3zwwQcnQIBav1Kg1idA/JUCtX6lKEB00UUXXXQpQOwMiXk7QypAaEjM2xkSK0Dggw8++OArQFy/UqDWryxA1PqVArV+LUBMNtlkk00uQMhxHMdxHC9AQK1fKVDrL0BcdNFFF10wQBoS83aGxDBA1q8UqPUrMUCUTTbZZJMxQFDrVwrU+jFADIl5O0NiMkDKJptssskyQIbEvJ0hMTNARGLezpCYM0AAAAAAAAA0QAAAAAAAADTAQ2LezpCYM8CGxLydITEzwMomm2yyyTLADYl5O0NiMsBQ61cK1PoxwJNNNtlkkzHA168UqPUrMcAaEvN2hsQwwF100UUXXTDAQK1fKVDrL8DHcRzHcRwvwE422WSTTS7A1PqVArV+LcBav1Kg1q8swOGDDz744CvAaEjM2xkSK8DuDIl5O0MqwHTRRRdddCnA+5UCtX6lKMCBWr9SoNYnwAgffPDBByfAjuM4juM4JsAVqPUrBWolwJtssskmmyTAIjFvZ0jMI8Co9SsFav0iwC+66KKLLiLAtX6lQK1fIcA8Q2LezpAgwIQPPvjggx/Akpi3MyTmHcCeITFvZ0gcwKqqqqqqqhrAuDMk5u0MGcDEvJ0hMW8XwNJFF1100RXA3s6QmLczFMDsVwrU+pUSwPjggw8++BDACNT6lQK1DsAo5u0MiXkLwED44IMPPgjAWArU+pUCBcBwHMdxHMcBwCBddNFFF/2/UIFav1Kg9r+ApUCtXynwv2CTTTbZZOO/AG9nSMzbyb8Ab2dIzNvJP2CTTTbZZOM/gKVArV8p8D9QgVq/UqD2PxBddNFFF/0/cBzHcRzHAUBYCtT6lQIFQED44IMPPghAIObtDIl5C0AI1PqVArUOQPjggw8++BBA7FcK1PqVEkDczpCYtzMUQNBFF1100RVAxLydITFvF0C4MyTm7QwZQKyqqqqqqhpAnCExb2dIHECQmLczJOYdQIQPPvjggx9APENi3s6QIEC0fqVArV8hQC666KKLLiJAqPUrBWr9IkAiMW9nSMwjQJpssskmmyRAFKj1KwVqJUCO4ziO4zgmQAgffPDBBydAgFq/UqDWJ0D8lQK1fqUoQHTRRRdddClA7AyJeTtDKkBoSMzbGRIrQOCDDz744CtAXL9SoNavLEDU+pUCtX4tQEw22WSTTS5AyHEcx3EcL0BArV8pUOsvQFx00UUXXTBAGhLzdobEMEDWrxSo9SsxQJRNNtlkkzFAUOtXCtT6MUAMiXk7Q2IyQMomm2yyyTJAhsS8nSExM0BEYt7OkJgzQAAAAAAAADRAAAAAAAAANMBDYt7OkJgzwIbEvJ0hMTPAyiabbLLJMsANiXk7Q2IywFDrVwrU+jHAk0022WSTMcDXrxSo9SsxwBoS83aGxDDAXXTRRRddMMBArV8pUOsvwMdxHMdxHC/ATjbZZJNNLsDU+pUCtX4twFq/UqDWryzA4YMPPvjgK8BoSMzbGRIrwO4MiXk7QyrAdNFFF110KcD7lQK1fqUowIFav1Kg1ifACB988MEHJ8CO4ziO4zgmwBWo9SsFaiXAm2yyySabJMAiMW9nSMwjwKj1KwVq/SLAL7rooosuIsC1fqVArV8hwDxDYt7OkCDAhA8++OCDH8CSmLczJOYdwJ4hMW9nSBzAqqqqqqqqGsC4MyTm7QwZwMS8nSExbxfA0kUXXXTRFcDezpCYtzMUwOxXCtT6lRLA+OCDDz74EMAI1PqVArUOwCjm7QyJeQvAQPjggw8+CMBYCtT6lQIFwHAcx3EcxwHAIF100UUX/b9QgVq/UqD2v4ClQK1fKfC/YJNNNtlk478Ab2dIzNvJvwBvZ0jM28k/YJNNNtlk4z+ApUCtXynwP1CBWr9SoPY/EF100UUX/T9wHMdxHMcBQFgK1PqVAgVAQPjggw8+CEAg5u0MiXkLQAjU+pUCtQ5A+OCDDz74EEDsVwrU+pUSQNzOkJi3MxRA0EUXXXTRFUDEvJ0hMW8XQLgzJObtDBlArKqqqqqqGkCcITFvZ0gcQJCYtzMk5h1AhA8++OCDH0A8Q2LezpAgQLR+pUCtXyFALrrooosuIkCo9SsFav0iQCIxb2dIzCNAmmyyySabJEAUqPUrBWolQI7jOI7jOCZACB988MEHJ0CAWr9SoNYnQPyVArV+pShAdNFFF110KUDsDIl5O0MqQGhIzNsZEitA4IMPPvjgK0Bcv1Kg1q8sQNT6lQK1fi1ATDbZZJNNLkDIcRzHcRwvQECtXylQ6y9AXHTRRRddMEAaEvN2hsQwQNavFKj1KzFAlE022WSTMUBQ61cK1PoxQAyJeTtDYjJAyiabbLLJMkCGxLydITEzQERi3s6QmDNAAAAAAAAANEAAAAAAAAA0wENi3s6QmDPAhsS8nSExM8DKJptssskywA2JeTtDYjLAUOtXCtT6McCTTTbZZJMxwNevFKj1KzHAGhLzdobEMMBddNFFF10wwECtXylQ6y/Ax3Ecx3EcL8BONtlkk00uwNT6lQK1fi3AWr9SoNavLMDhgw8++OArwGhIzNsZEivA7gyJeTtDKsB00UUXXXQpwPuVArV+pSjAgVq/UqDWJ8AIH3zwwQcnwI7jOI7jOCbAFaj1KwVqJcCbbLLJJpskwCIxb2dIzCPAqPUrBWr9IsAvuuiiiy4iwLV+pUCtXyHAPENi3s6QIMCEDz744IMfwJKYtzMk5h3AniExb2dIHMCqqqqqqqoawLgzJObtDBnAxLydITFvF8DSRRdddNEVwN7OkJi3MxTA7FcK1PqVEsD44IMPPvgQwAjU+pUCtQ7AKObtDIl5C8BA+OCDDz4IwFgK1PqVAgXAcBzHcRzHAcAgXXTRRRf9v1CBWr9SoPa/gKVArV8p8L9gk0022WTjvwBvZ0jM28m/AG9nSMzbyT9gk0022WTjP4ClQK1fKfA/UIFav1Kg9j8QXXTRRRf9P3Acx3EcxwFAWArU+pUCBUBA+OCDDz4IQCDm7QyJeQtACNT6lQK1DkD44IMPPvgQQOxXCtT6lRJA3M6QmLczFEDQRRdddNEVQMS8nSExbxdAuDMk5u0MGUCsqqqqqqoaQJwhMW9nSBxAkJi3MyTmHUCEDz744IMfQDxDYt7OkCBAtH6lQK1fIUAuuuiiiy4iQKj1KwVq/SJAIjFvZ0jMI0CabLLJJpskQBSo9SsFaiVAjuM4juM4JkAIH3zwwQcnQIBav1Kg1idA/JUCtX6lKEB00UUXXXQpQOwMiXk7QypAaEjM2xkSK0Dggw8++OArQFy/UqDWryxA1PqVArV+LUBMNtlkk00uQMhxHMdxHC9AQK1fKVDrL0BcdNFFF10wQBoS83aGxDBA1q8UqPUrMUCUTTbZZJMxQFDrVwrU+jFADIl5O0NiMkDKJptssskyQIbEvJ0hMTNARGLezpCYM0AAAAAAAAA0QAAAAAAAADTAQ2LezpCYM8CGxLydITEzwMomm2yyyTLADYl5O0NiMsBQ61cK1PoxwJNNNtlkkzHA168UqPUrMcAaEvN2hsQwwF100UUXXTDAQK1fKVDrL8DHcRzHcRwvwE422WSTTS7A1PqVArV+LcBav1Kg1q8swOGDDz744CvAaEjM2xkSK8DuDIl5O0MqwHTRRRdddCnA+5UCtX6lKMCBWr9SoNYnwAgffPDBByfAjuM4juM4JsAVqPUrBWolwJtssskmmyTAIjFvZ0jMI8Co9SsFav0iwC+66KKLLiLAtX6lQK1fIcA8Q2LezpAgwIQPPvjggx/Akpi3MyTmHcCeITFvZ0gcwKqqqqqqqhrAuDMk5u0MGcDEvJ0hMW8XwNJFF1100RXA3s6QmLczFMDsVwrU+pUSwPjggw8++BDACNT6lQK1DsAo5u0MiXkLwED44IMPPgjAWArU+pUCBcBwHMdxHMcBwCBddNFFF/2/UIFav1Kg9r+ApUCtXynwv2CTTTbZZOO/AG9nSMzbyb8Ab2dIzNvJP2CTTTbZZOM/gKVArV8p8D9QgVq/UqD2PxBddNFFF/0/cBzHcRzHAUBYCtT6lQIFQED44IMPPghAIObtDIl5C0AI1PqVArUOQPjggw8++BBA7FcK1PqVEkDczpCYtzMUQNBFF1100RVAxLydITFvF0C4MyTm7QwZQKyqqqqqqhpAnCExb2dIHECQmLczJOYdQIQPPvjggx9APENi3s6QIEC0fqVArV8hQC666KKLLiJAqPUrBWr9IkAiMW9nSMwjQJpssskmmyRAFKj1KwVqJUCO4ziO4zgmQAgffPDBBydAgFq/UqDWJ0D8lQK1fqUoQHTRRRdddClA7AyJeTtDKkBoSMzbGRIrQOCDDz744CtAXL9SoNavLEDU+pUCtX4tQEw22WSTTS5AyHEcx3EcL0BArV8pUOsvQFx00UUXXTBAGhLzdobEMEDWrxSo9SsxQJRNNtlkkzFAUOtXCtT6MUAMiXk7Q2IyQMomm2yyyTJAhsS8nSExM0BEYt7OkJgzQAAAAAAAADRAAAAAAAAANMBDYt7OkJgzwIbEvJ0hMTPAyiabbLLJMsANiXk7Q2IywFDrVwrU+jHAk0022WSTMcDXrxSo9SsxwBoS83aGxDDAXXTRRRddMMBArV8pUOsvwMdxHMdxHC/ATjbZZJNNLsDU+pUCtX4twFq/UqDWryzA4YMPPvjgK8BoSMzbGRIrwO4MiXk7QyrAdNFFF110KcD7lQK1fqUowIFav1Kg1ifACB988MEHJ8CO4ziO4zgmwBWo9SsFaiXAm2yyySabJMAiMW9nSMwjwKj1KwVq/SLAL7rooosuIsC1fqVArV8hwDxDYt7OkCDAhA8++OCDH8CSmLczJOYdwJ4hMW9nSBzAqqqqqqqqGsC4MyTm7QwZwMS8nSExbxfA0kUXXXTRFcDezpCYtzMUwOxXCtT6lRLA+OCDDz74EMAI1PqVArUOwCjm7QyJeQvAQPjggw8+CMBYCtT6lQIFwHAcx3EcxwHAIF100UUX/b9QgVq/UqD2v4ClQK1fKfC/YJNNNtlk478Ab2dIzNvJvwBvZ0jM28k/YJNNNtlk4z+ApUCtXynwP1CBWr9SoPY/EF100UUX/T9wHMdxHMcBQFgK1PqVAgVAQPjggw8+CEAg5u0MiXkLQAjU+pUCtQ5A+OCDDz74EEDsVwrU+pUSQNzOkJi3MxRA0EUXXXTRFUDEvJ0hMW8XQLgzJObtDBlArKqqqqqqGkCcITFvZ0gcQJCYtzMk5h1AhA8++OCDH0A8Q2LezpAgQLR+pUCtXyFALrrooosuIkCo9SsFav0iQCIxb2dIzCNAmmyyySabJEAUqPUrBWolQI7jOI7jOCZACB988MEHJ0CAWr9SoNYnQPyVArV+pShAdNFFF110KUDsDIl5O0MqQGhIzNsZEitA4IMPPvjgK0Bcv1Kg1q8sQNT6lQK1fi1ATDbZZJNNLkDIcRzHcRwvQECtXylQ6y9AXHTRRRddMEAaEvN2hsQwQNavFKj1KzFAlE022WSTMUBQ61cK1PoxQAyJeTtDYjJAyiabbLLJMkCGxLydITEzQERi3s6QmDNAAAAAAAAANEAAAAAAAAA0wENi3s6QmDPAhsS8nSExM8DKJptssskywA2JeTtDYjLAUOtXCtT6McCTTTbZZJMxwNevFKj1KzHAGhLzdobEMMBddNFFF10wwECtXylQ6y/Ax3Ecx3EcL8BONtlkk00uwNT6lQK1fi3AWr9SoNavLMDhgw8++OArwGhIzNsZEivA7gyJeTtDKsB00UUXXXQpwPuVArV+pSjAgVq/UqDWJ8AIH3zwwQcnwI7jOI7jOCbAFaj1KwVqJcCbbLLJJpskwCIxb2dIzCPAqPUrBWr9IsAvuuiiiy4iwLV+pUCtXyHAPENi3s6QIMCEDz744IMfwJKYtzMk5h3AniExb2dIHMCqqqqqqqoawLgzJObtDBnAxLydITFvF8DSRRdddNEVwN7OkJi3MxTA7FcK1PqVEsD44IMPPvgQwAjU+pUCtQ7AKObtDIl5C8BA+OCDDz4IwFgK1PqVAgXAcBzHcRzHAcAgXXTRRRf9v1CBWr9SoPa/gKVArV8p8L9gk0022WTjvwBvZ0jM28m/AG9nSMzbyT9gk0022WTjP4ClQK1fKfA/UIFav1Kg9j8QXXTRRRf9P3Acx3EcxwFAWArU+pUCBUBA+OCDDz4IQCDm7QyJeQtACNT6lQK1DkD44IMPPvgQQOxXCtT6lRJA3M6QmLczFEDQRRdddNEVQMS8nSExbxdAuDMk5u0MGUCsqqqqqqoaQJwhMW9nSBxAkJi3MyTmHUCEDz744IMfQDxDYt7OkCBAtH6lQK1fIUAuuuiiiy4iQKj1KwVq/SJAIjFvZ0jMI0CabLLJJpskQBSo9SsFaiVAjuM4juM4JkAIH3zwwQcnQIBav1Kg1idA/JUCtX6lKEB00UUXXXQpQOwMiXk7QypAaEjM2xkSK0Dggw8++OArQFy/UqDWryxA1PqVArV+LUBMNtlkk00uQMhxHMdxHC9AQK1fKVDrL0BcdNFFF10wQBoS83aGxDBA1q8UqPUrMUCUTTbZZJMxQFDrVwrU+jFADIl5O0NiMkDKJptssskyQIbEvJ0hMTNARGLezpCYM0AAAAAAAAA0QAAAAAAAADTAQ2LezpCYM8CGxLydITEzwMomm2yyyTLADYl5O0NiMsBQ61cK1PoxwJNNNtlkkzHA168UqPUrMcAaEvN2hsQwwF100UUXXTDAQK1fKVDrL8DHcRzHcRwvwE422WSTTS7A1PqVArV+LcBav1Kg1q8swOGDDz744CvAaEjM2xkSK8DuDIl5O0MqwHTRRRdddCnA+5UCtX6lKMCBWr9SoNYnwAgffPDBByfAjuM4juM4JsAVqPUrBWolwJtssskmmyTAIjFvZ0jMI8Co9SsFav0iwC+66KKLLiLAtX6lQK1fIcA8Q2LezpAgwIQPPvjggx/Akpi3MyTmHcCeITFvZ0gcwKqqqqqqqhrAuDMk5u0MGcDEvJ0hMW8XwNJFF1100RXA3s6QmLczFMDsVwrU+pUSwPjggw8++BDACNT6lQK1DsAo5u0MiXkLwED44IMPPgjAWArU+pUCBcBwHMdxHMcBwCBddNFFF/2/UIFav1Kg9r+ApUCtXynwv2CTTTbZZOO/AG9nSMzbyb8Ab2dIzNvJP2CTTTbZZOM/gKVArV8p8D9QgVq/UqD2PxBddNFFF/0/cBzHcRzHAUBYCtT6lQIFQED44IMPPghAIObtDIl5C0AI1PqVArUOQPjggw8++BBA7FcK1PqVEkDczpCYtzMUQNBFF1100RVAxLydITFvF0C4MyTm7QwZQKyqqqqqqhpAnCExb2dIHECQmLczJOYdQIQPPvjggx9APENi3s6QIEC0fqVArV8hQC666KKLLiJAqPUrBWr9IkAiMW9nSMwjQJpssskmmyRAFKj1KwVqJUCO4ziO4zgmQAgffPDBBydAgFq/UqDWJ0D8lQK1fqUoQHTRRRdddClA7AyJeTtDKkBoSMzbGRIrQOCDDz744CtAXL9SoNavLEDU+pUCtX4tQEw22WSTTS5AyHEcx3EcL0BArV8pUOsvQFx00UUXXTBAGhLzdobEMEDWrxSo9SsxQJRNNtlkkzFAUOtXCtT6MUAMiXk7Q2IyQMomm2yyyTJAhsS8nSExM0BEYt7OkJgzQAAAAAAAADRAAAAAAAAANMBDYt7OkJgzwIbEvJ0hMTPAyiabbLLJMsANiXk7Q2IywFDrVwrU+jHAk0022WSTMcDXrxSo9SsxwBoS83aGxDDAXXTRRRddMMBArV8pUOsvwMdxHMdxHC/ATjbZZJNNLsDU+pUCtX4twFq/UqDWryzA4YMPPvjgK8BoSMzbGRIrwO4MiXk7QyrAdNFFF110KcD7lQK1fqUowIFav1Kg1ifACB988MEHJ8CO4ziO4zgmwBWo9SsFaiXAm2yyySabJMAiMW9nSMwjwKj1KwVq/SLAL7rooosuIsC1fqVArV8hwDxDYt7OkCDAhA8++OCDH8CSmLczJOYdwJ4hMW9nSBzAqqqqqqqqGsC4MyTm7QwZwMS8nSExbxfA0kUXXXTRFcDezpCYtzMUwOxXCtT6lRLA+OCDDz74EMAI1PqVArUOwCjm7QyJeQvAQPjggw8+CMBYCtT6lQIFwHAcx3EcxwHAIF100UUX/b9QgVq/UqD2v4ClQK1fKfC/YJNNNtlk478Ab2dIzNvJvwBvZ0jM28k/YJNNNtlk4z+ApUCtXynwP1CBWr9SoPY/EF100UUX/T9wHMdxHMcBQFgK1PqVAgVAQPjggw8+CEAg5u0MiXkLQAjU+pUCtQ5A+OCDDz74EEDsVwrU+pUSQNzOkJi3MxRA0EUXXXTRFUDEvJ0hMW8XQLgzJObtDBlArKqqqqqqGkCcITFvZ0gcQJCYtzMk5h1AhA8++OCDH0A8Q2LezpAgQLR+pUCtXyFALrrooosuIkCo9SsFav0iQCIxb2dIzCNAmmyyySabJEAUqPUrBWolQI7jOI7jOCZACB988MEHJ0CAWr9SoNYnQPyVArV+pShAdNFFF110KUDsDIl5O0MqQGhIzNsZEitA4IMPPvjgK0Bcv1Kg1q8sQNT6lQK1fi1ATDbZZJNNLkDIcRzHcRwvQECtXylQ6y9AXHTRRRddMEAaEvN2hsQwQNavFKj1KzFAlE022WSTMUBQ61cK1PoxQAyJeTtDYjJAyiabbLLJMkCGxLydITEzQERi3s6QmDNAAAAAAAAANEAAAAAAAAA0wENi3s6QmDPAhsS8nSExM8DKJptssskywA2JeTtDYjLAUOtXCtT6McCTTTbZZJMxwNevFKj1KzHAGhLzdobEMMBddNFFF10wwECtXylQ6y/Ax3Ecx3EcL8BONtlkk00uwNT6lQK1fi3AWr9SoNavLMDhgw8++OArwGhIzNsZEivA7gyJeTtDKsB00UUXXXQpwPuVArV+pSjAgVq/UqDWJ8AIH3zwwQcnwI7jOI7jOCbAFaj1KwVqJcCbbLLJJpskwCIxb2dIzCPAqPUrBWr9IsAvuuiiiy4iwLV+pUCtXyHAPENi3s6QIMCEDz744IMfwJKYtzMk5h3AniExb2dIHMCqqqqqqqoawLgzJObtDBnAxLydITFvF8DSRRdddNEVwN7OkJi3MxTA7FcK1PqVEsD44IMPPvgQwAjU+pUCtQ7AKObtDIl5C8BA+OCDDz4IwFgK1PqVAgXAcBzHcRzHAcAgXXTRRRf9v1CBWr9SoPa/gKVArV8p8L9gk0022WTjvwBvZ0jM28m/AG9nSMzbyT9gk0022WTjP4ClQK1fKfA/UIFav1Kg9j8QXXTRRRf9P3Acx3EcxwFAWArU+pUCBUBA+OCDDz4IQCDm7QyJeQtACNT6lQK1DkD44IMPPvgQQOxXCtT6lRJA3M6QmLczFEDQRRdddNEVQMS8nSExbxdAuDMk5u0MGUCsqqqqqqoaQJwhMW9nSBxAkJi3MyTmHUCEDz744IMfQDxDYt7OkCBAtH6lQK1fIUAuuuiiiy4iQKj1KwVq/SJAIjFvZ0jMI0CabLLJJpskQBSo9SsFaiVAjuM4juM4JkAIH3zwwQcnQIBav1Kg1idA/JUCtX6lKEB00UUXXXQpQOwMiXk7QypAaEjM2xkSK0Dggw8++OArQFy/UqDWryxA1PqVArV+LUBMNtlkk00uQMhxHMdxHC9AQK1fKVDrL0BcdNFFF10wQBoS83aGxDBA1q8UqPUrMUCUTTbZZJMxQFDrVwrU+jFADIl5O0NiMkDKJptssskyQIbEvJ0hMTNARGLezpCYM0AAAAAAAAA0QAAAAAAAADTAQ2LezpCYM8CGxLydITEzwMomm2yyyTLADYl5O0NiMsBQ61cK1PoxwJNNNtlkkzHA168UqPUrMcAaEvN2hsQwwF100UUXXTDAQK1fKVDrL8DHcRzHcRwvwE422WSTTS7A1PqVArV+LcBav1Kg1q8swOGDDz744CvAaEjM2xkSK8DuDIl5O0MqwHTRRRdddCnA+5UCtX6lKMCBWr9SoNYnwAgffPDBByfAjuM4juM4JsAVqPUrBWolwJtssskmmyTAIjFvZ0jMI8Co9SsFav0iwC+66KKLLiLAtX6lQK1fIcA8Q2LezpAgwIQPPvjggx/Akpi3MyTmHcCeITFvZ0gcwKqqqqqqqhrAuDMk5u0MGcDEvJ0hMW8XwNJFF1100RXA3s6QmLczFMDsVwrU+pUSwPjggw8++BDACNT6lQK1DsAo5u0MiXkLwED44IMPPgjAWArU+pUCBcBwHMdxHMcBwCBddNFFF/2/UIFav1Kg9r+ApUCtXynwv2CTTTbZZOO/AG9nSMzbyb8Ab2dIzNvJP2CTTTbZZOM/gKVArV8p8D9QgVq/UqD2PxBddNFFF/0/cBzHcRzHAUBYCtT6lQIFQED44IMPPghAIObtDIl5C0AI1PqVArUOQPjggw8++BBA7FcK1PqVEkDczpCYtzMUQNBFF1100RVAxLydITFvF0C4MyTm7QwZQKyqqqqqqhpAnCExb2dIHECQmLczJOYdQIQPPvjggx9APENi3s6QIEC0fqVArV8hQC666KKLLiJAqPUrBWr9IkAiMW9nSMwjQJpssskmmyRAFKj1KwVqJUCO4ziO4zgmQAgffPDBBydAgFq/UqDWJ0D8lQK1fqUoQHTRRRdddClA7AyJeTtDKkBoSMzbGRIrQOCDDz744CtAXL9SoNavLEDU+pUCtX4tQEw22WSTTS5AyHEcx3EcL0BArV8pUOsvQFx00UUXXTBAGhLzdobEMEDWrxSo9SsxQJRNNtlkkzFAUOtXCtT6MUAMiXk7Q2IyQMomm2yyyTJAhsS8nSExM0BEYt7OkJgzQAAAAAAAADRAAAAAAAAANMBDYt7OkJgzwIbEvJ0hMTPAyiabbLLJMsANiXk7Q2IywFDrVwrU+jHAk0022WSTMcDXrxSo9SsxwBoS83aGxDDAXXTRRRddMMBArV8pUOsvwMdxHMdxHC/ATjbZZJNNLsDU+pUCtX4twFq/UqDWryzA4YMPPvjgK8BoSMzbGRIrwO4MiXk7QyrAdNFFF110KcD7lQK1fqUowIFav1Kg1ifACB988MEHJ8CO4ziO4zgmwBWo9SsFaiXAm2yyySabJMAiMW9nSMwjwKj1KwVq/SLAL7rooosuIsC1fqVArV8hwDxDYt7OkCDAhA8++OCDH8CSmLczJOYdwJ4hMW9nSBzAqqqqqqqqGsC4MyTm7QwZwMS8nSExbxfA0kUXXXTRFcDezpCYtzMUwOxXCtT6lRLA+OCDDz74EMAI1PqVArUOwCjm7QyJeQvAQPjggw8+CMBYCtT6lQIFwHAcx3EcxwHAIF100UUX/b9QgVq/UqD2v4ClQK1fKfC/YJNNNtlk478Ab2dIzNvJvwBvZ0jM28k/YJNNNtlk4z+ApUCtXynwP1CBWr9SoPY/EF100UUX/T9wHMdxHMcBQFgK1PqVAgVAQPjggw8+CEAg5u0MiXkLQAjU+pUCtQ5A+OCDDz74EEDsVwrU+pUSQNzOkJi3MxRA0EUXXXTRFUDEvJ0hMW8XQLgzJObtDBlArKqqqqqqGkCcITFvZ0gcQJCYtzMk5h1AhA8++OCDH0A8Q2LezpAgQLR+pUCtXyFALrrooosuIkCo9SsFav0iQCIxb2dIzCNAmmyyySabJEAUqPUrBWolQI7jOI7jOCZACB988MEHJ0CAWr9SoNYnQPyVArV+pShAdNFFF110KUDsDIl5O0MqQGhIzNsZEitA4IMPPvjgK0Bcv1Kg1q8sQNT6lQK1fi1ATDbZZJNNLkDIcRzHcRwvQECtXylQ6y9AXHTRRRddMEAaEvN2hsQwQNavFKj1KzFAlE022WSTMUBQ61cK1PoxQAyJeTtDYjJAyiabbLLJMkCGxLydITEzQERi3s6QmDNAAAAAAAAANEAAAAAAAAA0wENi3s6QmDPAhsS8nSExM8DKJptssskywA2JeTtDYjLAUOtXCtT6McCTTTbZZJMxwNevFKj1KzHAGhLzdobEMMBddNFFF10wwECtXylQ6y/Ax3Ecx3EcL8BONtlkk00uwNT6lQK1fi3AWr9SoNavLMDhgw8++OArwGhIzNsZEivA7gyJeTtDKsB00UUXXXQpwPuVArV+pSjAgVq/UqDWJ8AIH3zwwQcnwI7jOI7jOCbAFaj1KwVqJcCbbLLJJpskwCIxb2dIzCPAqPUrBWr9IsAvuuiiiy4iwLV+pUCtXyHAPENi3s6QIMCEDz744IMfwJKYtzMk5h3AniExb2dIHMCqqqqqqqoawLgzJObtDBnAxLydITFvF8DSRRdddNEVwN7OkJi3MxTA7FcK1PqVEsD44IMPPvgQwAjU+pUCtQ7AKObtDIl5C8BA+OCDDz4IwFgK1PqVAgXAcBzHcRzHAcAgXXTRRRf9v1CBWr9SoPa/gKVArV8p8L9gk0022WTjvwBvZ0jM28m/AG9nSMzbyT9gk0022WTjP4ClQK1fKfA/UIFav1Kg9j8QXXTRRRf9P3Acx3EcxwFAWArU+pUCBUBA+OCDDz4IQCDm7QyJeQtACNT6lQK1DkD44IMPPvgQQOxXCtT6lRJA3M6QmLczFEDQRRdddNEVQMS8nSExbxdAuDMk5u0MGUCsqqqqqqoaQJwhMW9nSBxAkJi3MyTmHUCEDz744IMfQDxDYt7OkCBAtH6lQK1fIUAuuuiiiy4iQKj1KwVq/SJAIjFvZ0jMI0CabLLJJpskQBSo9SsFaiVAjuM4juM4JkAIH3zwwQcnQIBav1Kg1idA/JUCtX6lKEB00UUXXXQpQOwMiXk7QypAaEjM2xkSK0Dggw8++OArQFy/UqDWryxA1PqVArV+LUBMNtlkk00uQMhxHMdxHC9AQK1fKVDrL0BcdNFFF10wQBoS83aGxDBA1q8UqPUrMUCUTTbZZJMxQFDrVwrU+jFADIl5O0NiMkDKJptssskyQIbEvJ0hMTNARGLezpCYM0AAAAAAAAA0QAAAAAAAADTAQ2LezpCYM8CGxLydITEzwMomm2yyyTLADYl5O0NiMsBQ61cK1PoxwJNNNtlkkzHA168UqPUrMcAaEvN2hsQwwF100UUXXTDAQK1fKVDrL8DHcRzHcRwvwE422WSTTS7A1PqVArV+LcBav1Kg1q8swOGDDz744CvAaEjM2xkSK8DuDIl5O0MqwHTRRRdddCnA+5UCtX6lKMCBWr9SoNYnwAgffPDBByfAjuM4juM4JsAVqPUrBWolwJtssskmmyTAIjFvZ0jMI8Co9SsFav0iwC+66KKLLiLAtX6lQK1fIcA8Q2LezpAgwIQPPvjggx/Akpi3MyTmHcCeITFvZ0gcwKqqqqqqqhrAuDMk5u0MGcDEvJ0hMW8XwNJFF1100RXA3s6QmLczFMDsVwrU+pUSwPjggw8++BDACNT6lQK1DsAo5u0MiXkLwED44IMPPgjAWArU+pUCBcBwHMdxHMcBwCBddNFFF/2/UIFav1Kg9r+ApUCtXynwv2CTTTbZZOO/AG9nSMzbyb8Ab2dIzNvJP2CTTTbZZOM/gKVArV8p8D9QgVq/UqD2PxBddNFFF/0/cBzHcRzHAUBYCtT6lQIFQED44IMPPghAIObtDIl5C0AI1PqVArUOQPjggw8++BBA7FcK1PqVEkDczpCYtzMUQNBFF1100RVAxLydITFvF0C4MyTm7QwZQKyqqqqqqhpAnCExb2dIHECQmLczJOYdQIQPPvjggx9APENi3s6QIEC0fqVArV8hQC666KKLLiJAqPUrBWr9IkAiMW9nSMwjQJpssskmmyRAFKj1KwVqJUCO4ziO4zgmQAgffPDBBydAgFq/UqDWJ0D8lQK1fqUoQHTRRRdddClA7AyJeTtDKkBoSMzbGRIrQOCDDz744CtAXL9SoNavLEDU+pUCtX4tQEw22WSTTS5AyHEcx3EcL0BArV8pUOsvQFx00UUXXTBAGhLzdobEMEDWrxSo9SsxQJRNNtlkkzFAUOtXCtT6MUAMiXk7Q2IyQMomm2yyyTJAhsS8nSExM0BEYt7OkJgzQAAAAAAAADRAAAAAAAAANMBDYt7OkJgzwIbEvJ0hMTPAyiabbLLJMsANiXk7Q2IywFDrVwrU+jHAk0022WSTMcDXrxSo9SsxwBoS83aGxDDAXXTRRRddMMBArV8pUOsvwMdxHMdxHC/ATjbZZJNNLsDU+pUCtX4twFq/UqDWryzA4YMPPvjgK8BoSMzbGRIrwO4MiXk7QyrAdNFFF110KcD7lQK1fqUowIFav1Kg1ifACB988MEHJ8CO4ziO4zgmwBWo9SsFaiXAm2yyySabJMAiMW9nSMwjwKj1KwVq/SLAL7rooosuIsC1fqVArV8hwDxDYt7OkCDAhA8++OCDH8CSmLczJOYdwJ4hMW9nSBzAqqqqqqqqGsC4MyTm7QwZwMS8nSExbxfA0kUXXXTRFcDezpCYtzMUwOxXCtT6lRLA+OCDDz74EMAI1PqVArUOwCjm7QyJeQvAQPjggw8+CMBYCtT6lQIFwHAcx3EcxwHAIF100UUX/b9QgVq/UqD2v4ClQK1fKfC/YJNNNtlk478Ab2dIzNvJvwBvZ0jM28k/YJNNNtlk4z+ApUCtXynwP1CBWr9SoPY/EF100UUX/T9wHMdxHMcBQFgK1PqVAgVAQPjggw8+CEAg5u0MiXkLQAjU+pUCtQ5A+OCDDz74EEDsVwrU+pUSQNzOkJi3MxRA0EUXXXTRFUDEvJ0hMW8XQLgzJObtDBlArKqqqqqqGkCcITFvZ0gcQJCYtzMk5h1AhA8++OCDH0A8Q2LezpAgQLR+pUCtXyFALrrooosuIkCo9SsFav0iQCIxb2dIzCNAmmyyySabJEAUqPUrBWolQI7jOI7jOCZACB988MEHJ0CAWr9SoNYnQPyVArV+pShAdNFFF110KUDsDIl5O0MqQGhIzNsZEitA4IMPPvjgK0Bcv1Kg1q8sQNT6lQK1fi1ATDbZZJNNLkDIcRzHcRwvQECtXylQ6y9AXHTRRRddMEAaEvN2hsQwQNavFKj1KzFAlE022WSTMUBQ61cK1PoxQAyJeTtDYjJAyiabbLLJMkCGxLydITEzQERi3s6QmDNAAAAAAAAANEAAAAAAAAA0wENi3s6QmDPAhsS8nSExM8DKJptssskywA2JeTtDYjLAUOtXCtT6McCTTTbZZJMxwNevFKj1KzHAGhLzdobEMMBddNFFF10wwECtXylQ6y/Ax3Ecx3EcL8BONtlkk00uwNT6lQK1fi3AWr9SoNavLMDhgw8++OArwGhIzNsZEivA7gyJeTtDKsB00UUXXXQpwPuVArV+pSjAgVq/UqDWJ8AIH3zwwQcnwI7jOI7jOCbAFaj1KwVqJcCbbLLJJpskwCIxb2dIzCPAqPUrBWr9IsAvuuiiiy4iwLV+pUCtXyHAPENi3s6QIMCEDz744IMfwJKYtzMk5h3AniExb2dIHMCqqqqqqqoawLgzJObtDBnAxLydITFvF8DSRRdddNEVwN7OkJi3MxTA7FcK1PqVEsD44IMPPvgQwAjU+pUCtQ7AKObtDIl5C8BA+OCDDz4IwFgK1PqVAgXAcBzHcRzHAcAgXXTRRRf9v1CBWr9SoPa/gKVArV8p8L9gk0022WTjvwBvZ0jM28m/AG9nSMzbyT9gk0022WTjP4ClQK1fKfA/UIFav1Kg9j8QXXTRRRf9P3Acx3EcxwFAWArU+pUCBUBA+OCDDz4IQCDm7QyJeQtACNT6lQK1DkD44IMPPvgQQOxXCtT6lRJA3M6QmLczFEDQRRdddNEVQMS8nSExbxdAuDMk5u0MGUCsqqqqqqoaQJwhMW9nSBxAkJi3MyTmHUCEDz744IMfQDxDYt7OkCBAtH6lQK1fIUAuuuiiiy4iQKj1KwVq/SJAIjFvZ0jMI0CabLLJJpskQBSo9SsFaiVAjuM4juM4JkAIH3zwwQcnQIBav1Kg1idA/JUCtX6lKEB00UUXXXQpQOwMiXk7QypAaEjM2xkSK0Dggw8++OArQFy/UqDWryxA1PqVArV+LUBMNtlkk00uQMhxHMdxHC9AQK1fKVDrL0BcdNFFF10wQBoS83aGxDBA1q8UqPUrMUCUTTbZZJMxQFDrVwrU+jFADIl5O0NiMkDKJptssskyQIbEvJ0hMTNARGLezpCYM0AAAAAAAAA0QAAAAAAAADTAQ2LezpCYM8CGxLydITEzwMomm2yyyTLADYl5O0NiMsBQ61cK1PoxwJNNNtlkkzHA168UqPUrMcAaEvN2hsQwwF100UUXXTDAQK1fKVDrL8DHcRzHcRwvwE422WSTTS7A1PqVArV+LcBav1Kg1q8swOGDDz744CvAaEjM2xkSK8DuDIl5O0MqwHTRRRdddCnA+5UCtX6lKMCBWr9SoNYnwAgffPDBByfAjuM4juM4JsAVqPUrBWolwJtssskmmyTAIjFvZ0jMI8Co9SsFav0iwC+66KKLLiLAtX6lQK1fIcA8Q2LezpAgwIQPPvjggx/Akpi3MyTmHcCeITFvZ0gcwKqqqqqqqhrAuDMk5u0MGcDEvJ0hMW8XwNJFF1100RXA3s6QmLczFMDsVwrU+pUSwPjggw8++BDACNT6lQK1DsAo5u0MiXkLwED44IMPPgjAWArU+pUCBcBwHMdxHMcBwCBddNFFF/2/UIFav1Kg9r+ApUCtXynwv2CTTTbZZOO/AG9nSMzbyb8Ab2dIzNvJP2CTTTbZZOM/gKVArV8p8D9QgVq/UqD2PxBddNFFF/0/cBzHcRzHAUBYCtT6lQIFQED44IMPPghAIObtDIl5C0AI1PqVArUOQPjggw8++BBA7FcK1PqVEkDczpCYtzMUQNBFF1100RVAxLydITFvF0C4MyTm7QwZQKyqqqqqqhpAnCExb2dIHECQmLczJOYdQIQPPvjggx9APENi3s6QIEC0fqVArV8hQC666KKLLiJAqPUrBWr9IkAiMW9nSMwjQJpssskmmyRAFKj1KwVqJUCO4ziO4zgmQAgffPDBBydAgFq/UqDWJ0D8lQK1fqUoQHTRRRdddClA7AyJeTtDKkBoSMzbGRIrQOCDDz744CtAXL9SoNavLEDU+pUCtX4tQEw22WSTTS5AyHEcx3EcL0BArV8pUOsvQFx00UUXXTBAGhLzdobEMEDWrxSo9SsxQJRNNtlkkzFAUOtXCtT6MUAMiXk7Q2IyQMomm2yyyTJAhsS8nSExM0BEYt7OkJgzQAAAAAAAADRAAAAAAAAANMBDYt7OkJgzwIbEvJ0hMTPAyiabbLLJMsANiXk7Q2IywFDrVwrU+jHAk0022WSTMcDXrxSo9SsxwBoS83aGxDDAXXTRRRddMMBArV8pUOsvwMdxHMdxHC/ATjbZZJNNLsDU+pUCtX4twFq/UqDWryzA4YMPPvjgK8BoSMzbGRIrwO4MiXk7QyrAdNFFF110KcD7lQK1fqUowIFav1Kg1ifACB988MEHJ8CO4ziO4zgmwBWo9SsFaiXAm2yyySabJMAiMW9nSMwjwKj1KwVq/SLAL7rooosuIsC1fqVArV8hwDxDYt7OkCDAhA8++OCDH8CSmLczJOYdwJ4hMW9nSBzAqqqqqqqqGsC4MyTm7QwZwMS8nSExbxfA0kUXXXTRFcDezpCYtzMUwOxXCtT6lRLA+OCDDz74EMAI1PqVArUOwCjm7QyJeQvAQPjggw8+CMBYCtT6lQIFwHAcx3EcxwHAIF100UUX/b9QgVq/UqD2v4ClQK1fKfC/YJNNNtlk478Ab2dIzNvJvwBvZ0jM28k/YJNNNtlk4z+ApUCtXynwP1CBWr9SoPY/EF100UUX/T9wHMdxHMcBQFgK1PqVAgVAQPjggw8+CEAg5u0MiXkLQAjU+pUCtQ5A+OCDDz74EEDsVwrU+pUSQNzOkJi3MxRA0EUXXXTRFUDEvJ0hMW8XQLgzJObtDBlArKqqqqqqGkCcITFvZ0gcQJCYtzMk5h1AhA8++OCDH0A8Q2LezpAgQLR+pUCtXyFALrrooosuIkCo9SsFav0iQCIxb2dIzCNAmmyyySabJEAUqPUrBWolQI7jOI7jOCZACB988MEHJ0CAWr9SoNYnQPyVArV+pShAdNFFF110KUDsDIl5O0MqQGhIzNsZEitA4IMPPvjgK0Bcv1Kg1q8sQNT6lQK1fi1ATDbZZJNNLkDIcRzHcRwvQECtXylQ6y9AXHTRRRddMEAaEvN2hsQwQNavFKj1KzFAlE022WSTMUBQ61cK1PoxQAyJeTtDYjJAyiabbLLJMkCGxLydITEzQERi3s6QmDNAAAAAAAAANEAAAAAAAAA0wENi3s6QmDPAhsS8nSExM8DKJptssskywA2JeTtDYjLAUOtXCtT6McCTTTbZZJMxwNevFKj1KzHAGhLzdobEMMBddNFFF10wwECtXylQ6y/Ax3Ecx3EcL8BONtlkk00uwNT6lQK1fi3AWr9SoNavLMDhgw8++OArwGhIzNsZEivA7gyJeTtDKsB00UUXXXQpwPuVArV+pSjAgVq/UqDWJ8AIH3zwwQcnwI7jOI7jOCbAFaj1KwVqJcCbbLLJJpskwCIxb2dIzCPAqPUrBWr9IsAvuuiiiy4iwLV+pUCtXyHAPENi3s6QIMCEDz744IMfwJKYtzMk5h3AniExb2dIHMCqqqqqqqoawLgzJObtDBnAxLydITFvF8DSRRdddNEVwN7OkJi3MxTA7FcK1PqVEsD44IMPPvgQwAjU+pUCtQ7AKObtDIl5C8BA+OCDDz4IwFgK1PqVAgXAcBzHcRzHAcAgXXTRRRf9v1CBWr9SoPa/gKVArV8p8L9gk0022WTjvwBvZ0jM28m/AG9nSMzbyT9gk0022WTjP4ClQK1fKfA/UIFav1Kg9j8QXXTRRRf9P3Acx3EcxwFAWArU+pUCBUBA+OCDDz4IQCDm7QyJeQtACNT6lQK1DkD44IMPPvgQQOxXCtT6lRJA3M6QmLczFEDQRRdddNEVQMS8nSExbxdAuDMk5u0MGUCsqqqqqqoaQJwhMW9nSBxAkJi3MyTmHUCEDz744IMfQDxDYt7OkCBAtH6lQK1fIUAuuuiiiy4iQKj1KwVq/SJAIjFvZ0jMI0CabLLJJpskQBSo9SsFaiVAjuM4juM4JkAIH3zwwQcnQIBav1Kg1idA/JUCtX6lKEB00UUXXXQpQOwMiXk7QypAaEjM2xkSK0Dggw8++OArQFy/UqDWryxA1PqVArV+LUBMNtlkk00uQMhxHMdxHC9AQK1fKVDrL0BcdNFFF10wQBoS83aGxDBA1q8UqPUrMUCUTTbZZJMxQFDrVwrU+jFADIl5O0NiMkDKJptssskyQIbEvJ0hMTNARGLezpCYM0AAAAAAAAA0QAAAAAAAADTAQ2LezpCYM8CGxLydITEzwMomm2yyyTLADYl5O0NiMsBQ61cK1PoxwJNNNtlkkzHA168UqPUrMcAaEvN2hsQwwF100UUXXTDAQK1fKVDrL8DHcRzHcRwvwE422WSTTS7A1PqVArV+LcBav1Kg1q8swOGDDz744CvAaEjM2xkSK8DuDIl5O0MqwHTRRRdddCnA+5UCtX6lKMCBWr9SoNYnwAgffPDBByfAjuM4juM4JsAVqPUrBWolwJtssskmmyTAIjFvZ0jMI8Co9SsFav0iwC+66KKLLiLAtX6lQK1fIcA8Q2LezpAgwIQPPvjggx/Akpi3MyTmHcCeITFvZ0gcwKqqqqqqqhrAuDMk5u0MGcDEvJ0hMW8XwNJFF1100RXA3s6QmLczFMDsVwrU+pUSwPjggw8++BDACNT6lQK1DsAo5u0MiXkLwED44IMPPgjAWArU+pUCBcBwHMdxHMcBwCBddNFFF/2/UIFav1Kg9r+ApUCtXynwv2CTTTbZZOO/AG9nSMzbyb8Ab2dIzNvJP2CTTTbZZOM/gKVArV8p8D9QgVq/UqD2PxBddNFFF/0/cBzHcRzHAUBYCtT6lQIFQED44IMPPghAIObtDIl5C0AI1PqVArUOQPjggw8++BBA7FcK1PqVEkDczpCYtzMUQNBFF1100RVAxLydITFvF0C4MyTm7QwZQKyqqqqqqhpAnCExb2dIHECQmLczJOYdQIQPPvjggx9APENi3s6QIEC0fqVArV8hQC666KKLLiJAqPUrBWr9IkAiMW9nSMwjQJpssskmmyRAFKj1KwVqJUCO4ziO4zgmQAgffPDBBydAgFq/UqDWJ0D8lQK1fqUoQHTRRRdddClA7AyJeTtDKkBoSMzbGRIrQOCDDz744CtAXL9SoNavLEDU+pUCtX4tQEw22WSTTS5AyHEcx3EcL0BArV8pUOsvQFx00UUXXTBAGhLzdobEMEDWrxSo9SsxQJRNNtlkkzFAUOtXCtT6MUAMiXk7Q2IyQMomm2yyyTJAhsS8nSExM0BEYt7OkJgzQAAAAAAAADRAAAAAAAAANMBDYt7OkJgzwIbEvJ0hMTPAyiabbLLJMsANiXk7Q2IywFDrVwrU+jHAk0022WSTMcDXrxSo9SsxwBoS83aGxDDAXXTRRRddMMBArV8pUOsvwMdxHMdxHC/ATjbZZJNNLsDU+pUCtX4twFq/UqDWryzA4YMPPvjgK8BoSMzbGRIrwO4MiXk7QyrAdNFFF110KcD7lQK1fqUowIFav1Kg1ifACB988MEHJ8CO4ziO4zgmwBWo9SsFaiXAm2yyySabJMAiMW9nSMwjwKj1KwVq/SLAL7rooosuIsC1fqVArV8hwDxDYt7OkCDAhA8++OCDH8CSmLczJOYdwJ4hMW9nSBzAqqqqqqqqGsC4MyTm7QwZwMS8nSExbxfA0kUXXXTRFcDezpCYtzMUwOxXCtT6lRLA+OCDDz74EMAI1PqVArUOwCjm7QyJeQvAQPjggw8+CMBYCtT6lQIFwHAcx3EcxwHAIF100UUX/b9QgVq/UqD2v4ClQK1fKfC/YJNNNtlk478Ab2dIzNvJvwBvZ0jM28k/YJNNNtlk4z+ApUCtXynwP1CBWr9SoPY/EF100UUX/T9wHMdxHMcBQFgK1PqVAgVAQPjggw8+CEAg5u0MiXkLQAjU+pUCtQ5A+OCDDz74EEDsVwrU+pUSQNzOkJi3MxRA0EUXXXTRFUDEvJ0hMW8XQLgzJObtDBlArKqqqqqqGkCcITFvZ0gcQJCYtzMk5h1AhA8++OCDH0A8Q2LezpAgQLR+pUCtXyFALrrooosuIkCo9SsFav0iQCIxb2dIzCNAmmyyySabJEAUqPUrBWolQI7jOI7jOCZACB988MEHJ0CAWr9SoNYnQPyVArV+pShAdNFFF110KUDsDIl5O0MqQGhIzNsZEitA4IMPPvjgK0Bcv1Kg1q8sQNT6lQK1fi1ATDbZZJNNLkDIcRzHcRwvQECtXylQ6y9AXHTRRRddMEAaEvN2hsQwQNavFKj1KzFAlE022WSTMUBQ61cK1PoxQAyJeTtDYjJAyiabbLLJMkCGxLydITEzQERi3s6QmDNAAAAAAAAANEAAAAAAAAA0wENi3s6QmDPAhsS8nSExM8DKJptssskywA2JeTtDYjLAUOtXCtT6McCTTTbZZJMxwNevFKj1KzHAGhLzdobEMMBddNFFF10wwECtXylQ6y/Ax3Ecx3EcL8BONtlkk00uwNT6lQK1fi3AWr9SoNavLMDhgw8++OArwGhIzNsZEivA7gyJeTtDKsB00UUXXXQpwPuVArV+pSjAgVq/UqDWJ8AIH3zwwQcnwI7jOI7jOCbAFaj1KwVqJcCbbLLJJpskwCIxb2dIzCPAqPUrBWr9IsAvuuiiiy4iwLV+pUCtXyHAPENi3s6QIMCEDz744IMfwJKYtzMk5h3AniExb2dIHMCqqqqqqqoawLgzJObtDBnAxLydITFvF8DSRRdddNEVwN7OkJi3MxTA7FcK1PqVEsD44IMPPvgQwAjU+pUCtQ7AKObtDIl5C8BA+OCDDz4IwFgK1PqVAgXAcBzHcRzHAcAgXXTRRRf9v1CBWr9SoPa/gKVArV8p8L9gk0022WTjvwBvZ0jM28m/AG9nSMzbyT9gk0022WTjP4ClQK1fKfA/UIFav1Kg9j8QXXTRRRf9P3Acx3EcxwFAWArU+pUCBUBA+OCDDz4IQCDm7QyJeQtACNT6lQK1DkD44IMPPvgQQOxXCtT6lRJA3M6QmLczFEDQRRdddNEVQMS8nSExbxdAuDMk5u0MGUCsqqqqqqoaQJwhMW9nSBxAkJi3MyTmHUCEDz744IMfQDxDYt7OkCBAtH6lQK1fIUAuuuiiiy4iQKj1KwVq/SJAIjFvZ0jMI0CabLLJJpskQBSo9SsFaiVAjuM4juM4JkAIH3zwwQcnQIBav1Kg1idA/JUCtX6lKEB00UUXXXQpQOwMiXk7QypAaEjM2xkSK0Dggw8++OArQFy/UqDWryxA1PqVArV+LUBMNtlkk00uQMhxHMdxHC9AQK1fKVDrL0BcdNFFF10wQBoS83aGxDBA1q8UqPUrMUCUTTbZZJMxQFDrVwrU+jFADIl5O0NiMkDKJptssskyQIbEvJ0hMTNARGLezpCYM0AAAAAAAAA0QAAAAAAAADTAQ2LezpCYM8CGxLydITEzwMomm2yyyTLADYl5O0NiMsBQ61cK1PoxwJNNNtlkkzHA168UqPUrMcAaEvN2hsQwwF100UUXXTDAQK1fKVDrL8DHcRzHcRwvwE422WSTTS7A1PqVArV+LcBav1Kg1q8swOGDDz744CvAaEjM2xkSK8DuDIl5O0MqwHTRRRdddCnA+5UCtX6lKMCBWr9SoNYnwAgffPDBByfAjuM4juM4JsAVqPUrBWolwJtssskmmyTAIjFvZ0jMI8Co9SsFav0iwC+66KKLLiLAtX6lQK1fIcA8Q2LezpAgwIQPPvjggx/Akpi3MyTmHcCeITFvZ0gcwKqqqqqqqhrAuDMk5u0MGcDEvJ0hMW8XwNJFF1100RXA3s6QmLczFMDsVwrU+pUSwPjggw8++BDACNT6lQK1DsAo5u0MiXkLwED44IMPPgjAWArU+pUCBcBwHMdxHMcBwCBddNFFF/2/UIFav1Kg9r+ApUCtXynwv2CTTTbZZOO/AG9nSMzbyb8Ab2dIzNvJP2CTTTbZZOM/gKVArV8p8D9QgVq/UqD2PxBddNFFF/0/cBzHcRzHAUBYCtT6lQIFQED44IMPPghAIObtDIl5C0AI1PqVArUOQPjggw8++BBA7FcK1PqVEkDczpCYtzMUQNBFF1100RVAxLydITFvF0C4MyTm7QwZQKyqqqqqqhpAnCExb2dIHECQmLczJOYdQIQPPvjggx9APENi3s6QIEC0fqVArV8hQC666KKLLiJAqPUrBWr9IkAiMW9nSMwjQJpssskmmyRAFKj1KwVqJUCO4ziO4zgmQAgffPDBBydAgFq/UqDWJ0D8lQK1fqUoQHTRRRdddClA7AyJeTtDKkBoSMzbGRIrQOCDDz744CtAXL9SoNavLEDU+pUCtX4tQEw22WSTTS5AyHEcx3EcL0BArV8pUOsvQFx00UUXXTBAGhLzdobEMEDWrxSo9SsxQJRNNtlkkzFAUOtXCtT6MUAMiXk7Q2IyQMomm2yyyTJAhsS8nSExM0BEYt7OkJgzQAAAAAAAADRAAAAAAAAANMBDYt7OkJgzwIbEvJ0hMTPAyiabbLLJMsANiXk7Q2IywFDrVwrU+jHAk0022WSTMcDXrxSo9SsxwBoS83aGxDDAXXTRRRddMMBArV8pUOsvwMdxHMdxHC/ATjbZZJNNLsDU+pUCtX4twFq/UqDWryzA4YMPPvjgK8BoSMzbGRIrwO4MiXk7QyrAdNFFF110KcD7lQK1fqUowIFav1Kg1ifACB988MEHJ8CO4ziO4zgmwBWo9SsFaiXAm2yyySabJMAiMW9nSMwjwKj1KwVq/SLAL7rooosuIsC1fqVArV8hwDxDYt7OkCDAhA8++OCDH8CSmLczJOYdwJ4hMW9nSBzAqqqqqqqqGsC4MyTm7QwZwMS8nSExbxfA0kUXXXTRFcDezpCYtzMUwOxXCtT6lRLA+OCDDz74EMAI1PqVArUOwCjm7QyJeQvAQPjggw8+CMBYCtT6lQIFwHAcx3EcxwHAIF100UUX/b9QgVq/UqD2v4ClQK1fKfC/YJNNNtlk478Ab2dIzNvJvwBvZ0jM28k/YJNNNtlk4z+ApUCtXynwP1CBWr9SoPY/EF100UUX/T9wHMdxHMcBQFgK1PqVAgVAQPjggw8+CEAg5u0MiXkLQAjU+pUCtQ5A+OCDDz74EEDsVwrU+pUSQNzOkJi3MxRA0EUXXXTRFUDEvJ0hMW8XQLgzJObtDBlArKqqqqqqGkCcITFvZ0gcQJCYtzMk5h1AhA8++OCDH0A8Q2LezpAgQLR+pUCtXyFALrrooosuIkCo9SsFav0iQCIxb2dIzCNAmmyyySabJEAUqPUrBWolQI7jOI7jOCZACB988MEHJ0CAWr9SoNYnQPyVArV+pShAdNFFF110KUDsDIl5O0MqQGhIzNsZEitA4IMPPvjgK0Bcv1Kg1q8sQNT6lQK1fi1ATDbZZJNNLkDIcRzHcRwvQECtXylQ6y9AXHTRRRddMEAaEvN2hsQwQNavFKj1KzFAlE022WSTMUBQ61cK1PoxQAyJeTtDYjJAyiabbLLJMkCGxLydITEzQERi3s6QmDNAAAAAAAAANEAAAAAAAAA0wENi3s6QmDPAhsS8nSExM8DKJptssskywA2JeTtDYjLAUOtXCtT6McCTTTbZZJMxwNevFKj1KzHAGhLzdobEMMBddNFFF10wwECtXylQ6y/Ax3Ecx3EcL8BONtlkk00uwNT6lQK1fi3AWr9SoNavLMDhgw8++OArwGhIzNsZEivA7gyJeTtDKsB00UUXXXQpwPuVArV+pSjAgVq/UqDWJ8AIH3zwwQcnwI7jOI7jOCbAFaj1KwVqJcCbbLLJJpskwCIxb2dIzCPAqPUrBWr9IsAvuuiiiy4iwLV+pUCtXyHAPENi3s6QIMCEDz744IMfwJKYtzMk5h3AniExb2dIHMCqqqqqqqoawLgzJObtDBnAxLydITFvF8DSRRdddNEVwN7OkJi3MxTA7FcK1PqVEsD44IMPPvgQwAjU+pUCtQ7AKObtDIl5C8BA+OCDDz4IwFgK1PqVAgXAcBzHcRzHAcAgXXTRRRf9v1CBWr9SoPa/gKVArV8p8L9gk0022WTjvwBvZ0jM28m/AG9nSMzbyT9gk0022WTjP4ClQK1fKfA/UIFav1Kg9j8QXXTRRRf9P3Acx3EcxwFAWArU+pUCBUBA+OCDDz4IQCDm7QyJeQtACNT6lQK1DkD44IMPPvgQQOxXCtT6lRJA3M6QmLczFEDQRRdddNEVQMS8nSExbxdAuDMk5u0MGUCsqqqqqqoaQJwhMW9nSBxAkJi3MyTmHUCEDz744IMfQDxDYt7OkCBAtH6lQK1fIUAuuuiiiy4iQKj1KwVq/SJAIjFvZ0jMI0CabLLJJpskQBSo9SsFaiVAjuM4juM4JkAIH3zwwQcnQIBav1Kg1idA/JUCtX6lKEB00UUXXXQpQOwMiXk7QypAaEjM2xkSK0Dggw8++OArQFy/UqDWryxA1PqVArV+LUBMNtlkk00uQMhxHMdxHC9AQK1fKVDrL0BcdNFFF10wQBoS83aGxDBA1q8UqPUrMUCUTTbZZJMxQFDrVwrU+jFADIl5O0NiMkDKJptssskyQIbEvJ0hMTNARGLezpCYM0AAAAAAAAA0QAAAAAAAADTAQ2LezpCYM8CGxLydITEzwMomm2yyyTLADYl5O0NiMsBQ61cK1PoxwJNNNtlkkzHA168UqPUrMcAaEvN2hsQwwF100UUXXTDAQK1fKVDrL8DHcRzHcRwvwE422WSTTS7A1PqVArV+LcBav1Kg1q8swOGDDz744CvAaEjM2xkSK8DuDIl5O0MqwHTRRRdddCnA+5UCtX6lKMCBWr9SoNYnwAgffPDBByfAjuM4juM4JsAVqPUrBWolwJtssskmmyTAIjFvZ0jMI8Co9SsFav0iwC+66KKLLiLAtX6lQK1fIcA8Q2LezpAgwIQPPvjggx/Akpi3MyTmHcCeITFvZ0gcwKqqqqqqqhrAuDMk5u0MGcDEvJ0hMW8XwNJFF1100RXA3s6QmLczFMDsVwrU+pUSwPjggw8++BDACNT6lQK1DsAo5u0MiXkLwED44IMPPgjAWArU+pUCBcBwHMdxHMcBwCBddNFFF/2/UIFav1Kg9r+ApUCtXynwv2CTTTbZZOO/AG9nSMzbyb8Ab2dIzNvJP2CTTTbZZOM/gKVArV8p8D9QgVq/UqD2PxBddNFFF/0/cBzHcRzHAUBYCtT6lQIFQED44IMPPghAIObtDIl5C0AI1PqVArUOQPjggw8++BBA7FcK1PqVEkDczpCYtzMUQNBFF1100RVAxLydITFvF0C4MyTm7QwZQKyqqqqqqhpAnCExb2dIHECQmLczJOYdQIQPPvjggx9APENi3s6QIEC0fqVArV8hQC666KKLLiJAqPUrBWr9IkAiMW9nSMwjQJpssskmmyRAFKj1KwVqJUCO4ziO4zgmQAgffPDBBydAgFq/UqDWJ0D8lQK1fqUoQHTRRRdddClA7AyJeTtDKkBoSMzbGRIrQOCDDz744CtAXL9SoNavLEDU+pUCtX4tQEw22WSTTS5AyHEcx3EcL0BArV8pUOsvQFx00UUXXTBAGhLzdobEMEDWrxSo9SsxQJRNNtlkkzFAUOtXCtT6MUAMiXk7Q2IyQMomm2yyyTJAhsS8nSExM0BEYt7OkJgzQAAAAAAAADRAAAAAAAAANMBDYt7OkJgzwIbEvJ0hMTPAyiabbLLJMsANiXk7Q2IywFDrVwrU+jHAk0022WSTMcDXrxSo9SsxwBoS83aGxDDAXXTRRRddMMBArV8pUOsvwMdxHMdxHC/ATjbZZJNNLsDU+pUCtX4twFq/UqDWryzA4YMPPvjgK8BoSMzbGRIrwO4MiXk7QyrAdNFFF110KcD7lQK1fqUowIFav1Kg1ifACB988MEHJ8CO4ziO4zgmwBWo9SsFaiXAm2yyySabJMAiMW9nSMwjwKj1KwVq/SLAL7rooosuIsC1fqVArV8hwDxDYt7OkCDAhA8++OCDH8CSmLczJOYdwJ4hMW9nSBzAqqqqqqqqGsC4MyTm7QwZwMS8nSExbxfA0kUXXXTRFcDezpCYtzMUwOxXCtT6lRLA+OCDDz74EMAI1PqVArUOwCjm7QyJeQvAQPjggw8+CMBYCtT6lQIFwHAcx3EcxwHAIF100UUX/b9QgVq/UqD2v4ClQK1fKfC/YJNNNtlk478Ab2dIzNvJvwBvZ0jM28k/YJNNNtlk4z+ApUCtXynwP1CBWr9SoPY/EF100UUX/T9wHMdxHMcBQFgK1PqVAgVAQPjggw8+CEAg5u0MiXkLQAjU+pUCtQ5A+OCDDz74EEDsVwrU+pUSQNzOkJi3MxRA0EUXXXTRFUDEvJ0hMW8XQLgzJObtDBlArKqqqqqqGkCcITFvZ0gcQJCYtzMk5h1AhA8++OCDH0A8Q2LezpAgQLR+pUCtXyFALrrooosuIkCo9SsFav0iQCIxb2dIzCNAmmyyySabJEAUqPUrBWolQI7jOI7jOCZACB988MEHJ0CAWr9SoNYnQPyVArV+pShAdNFFF110KUDsDIl5O0MqQGhIzNsZEitA4IMPPvjgK0Bcv1Kg1q8sQNT6lQK1fi1ATDbZZJNNLkDIcRzHcRwvQECtXylQ6y9AXHTRRRddMEAaEvN2hsQwQNavFKj1KzFAlE022WSTMUBQ61cK1PoxQAyJeTtDYjJAyiabbLLJMkCGxLydITEzQERi3s6QmDNAAAAAAAAANEAAAAAAAAA0wENi3s6QmDPAhsS8nSExM8DKJptssskywA2JeTtDYjLAUOtXCtT6McCTTTbZZJMxwNevFKj1KzHAGhLzdobEMMBddNFFF10wwECtXylQ6y/Ax3Ecx3EcL8BONtlkk00uwNT6lQK1fi3AWr9SoNavLMDhgw8++OArwGhIzNsZEivA7gyJeTtDKsB00UUXXXQpwPuVArV+pSjAgVq/UqDWJ8AIH3zwwQcnwI7jOI7jOCbAFaj1KwVqJcCbbLLJJpskwCIxb2dIzCPAqPUrBWr9IsAvuuiiiy4iwLV+pUCtXyHAPENi3s6QIMCEDz744IMfwJKYtzMk5h3AniExb2dIHMCqqqqqqqoawLgzJObtDBnAxLydITFvF8DSRRdddNEVwN7OkJi3MxTA7FcK1PqVEsD44IMPPvgQwAjU+pUCtQ7AKObtDIl5C8BA+OCDDz4IwFgK1PqVAgXAcBzHcRzHAcAgXXTRRRf9v1CBWr9SoPa/gKVArV8p8L9gk0022WTjvwBvZ0jM28m/AG9nSMzbyT9gk0022WTjP4ClQK1fKfA/UIFav1Kg9j8QXXTRRRf9P3Acx3EcxwFAWArU+pUCBUBA+OCDDz4IQCDm7QyJeQtACNT6lQK1DkD44IMPPvgQQOxXCtT6lRJA3M6QmLczFEDQRRdddNEVQMS8nSExbxdAuDMk5u0MGUCsqqqqqqoaQJwhMW9nSBxAkJi3MyTmHUCEDz744IMfQDxDYt7OkCBAtH6lQK1fIUAuuuiiiy4iQKj1KwVq/SJAIjFvZ0jMI0CabLLJJpskQBSo9SsFaiVAjuM4juM4JkAIH3zwwQcnQIBav1Kg1idA/JUCtX6lKEB00UUXXXQpQOwMiXk7QypAaEjM2xkSK0Dggw8++OArQFy/UqDWryxA1PqVArV+LUBMNtlkk00uQMhxHMdxHC9AQK1fKVDrL0BcdNFFF10wQBoS83aGxDBA1q8UqPUrMUCUTTbZZJMxQFDrVwrU+jFADIl5O0NiMkDKJptssskyQIbEvJ0hMTNARGLezpCYM0AAAAAAAAA0QAAAAAAAADTAQ2LezpCYM8CGxLydITEzwMomm2yyyTLADYl5O0NiMsBQ61cK1PoxwJNNNtlkkzHA168UqPUrMcAaEvN2hsQwwF100UUXXTDAQK1fKVDrL8DHcRzHcRwvwE422WSTTS7A1PqVArV+LcBav1Kg1q8swOGDDz744CvAaEjM2xkSK8DuDIl5O0MqwHTRRRdddCnA+5UCtX6lKMCBWr9SoNYnwAgffPDBByfAjuM4juM4JsAVqPUrBWolwJtssskmmyTAIjFvZ0jMI8Co9SsFav0iwC+66KKLLiLAtX6lQK1fIcA8Q2LezpAgwIQPPvjggx/Akpi3MyTmHcCeITFvZ0gcwKqqqqqqqhrAuDMk5u0MGcDEvJ0hMW8XwNJFF1100RXA3s6QmLczFMDsVwrU+pUSwPjggw8++BDACNT6lQK1DsAo5u0MiXkLwED44IMPPgjAWArU+pUCBcBwHMdxHMcBwCBddNFFF/2/UIFav1Kg9r+ApUCtXynwv2CTTTbZZOO/AG9nSMzbyb8Ab2dIzNvJP2CTTTbZZOM/gKVArV8p8D9QgVq/UqD2PxBddNFFF/0/cBzHcRzHAUBYCtT6lQIFQED44IMPPghAIObtDIl5C0AI1PqVArUOQPjggw8++BBA7FcK1PqVEkDczpCYtzMUQNBFF1100RVAxLydITFvF0C4MyTm7QwZQKyqqqqqqhpAnCExb2dIHECQmLczJOYdQIQPPvjggx9APENi3s6QIEC0fqVArV8hQC666KKLLiJAqPUrBWr9IkAiMW9nSMwjQJpssskmmyRAFKj1KwVqJUCO4ziO4zgmQAgffPDBBydAgFq/UqDWJ0D8lQK1fqUoQHTRRRdddClA7AyJeTtDKkBoSMzbGRIrQOCDDz744CtAXL9SoNavLEDU+pUCtX4tQEw22WSTTS5AyHEcx3EcL0BArV8pUOsvQFx00UUXXTBAGhLzdobEMEDWrxSo9SsxQJRNNtlkkzFAUOtXCtT6MUAMiXk7Q2IyQMomm2yyyTJAhsS8nSExM0BEYt7OkJgzQAAAAAAAADRAAAAAAAAANMBDYt7OkJgzwIbEvJ0hMTPAyiabbLLJMsANiXk7Q2IywFDrVwrU+jHAk0022WSTMcDXrxSo9SsxwBoS83aGxDDAXXTRRRddMMBArV8pUOsvwMdxHMdxHC/ATjbZZJNNLsDU+pUCtX4twFq/UqDWryzA4YMPPvjgK8BoSMzbGRIrwO4MiXk7QyrAdNFFF110KcD7lQK1fqUowIFav1Kg1ifACB988MEHJ8CO4ziO4zgmwBWo9SsFaiXAm2yyySabJMAiMW9nSMwjwKj1KwVq/SLAL7rooosuIsC1fqVArV8hwDxDYt7OkCDAhA8++OCDH8CSmLczJOYdwJ4hMW9nSBzAqqqqqqqqGsC4MyTm7QwZwMS8nSExbxfA0kUXXXTRFcDezpCYtzMUwOxXCtT6lRLA+OCDDz74EMAI1PqVArUOwCjm7QyJeQvAQPjggw8+CMBYCtT6lQIFwHAcx3EcxwHAIF100UUX/b9QgVq/UqD2v4ClQK1fKfC/YJNNNtlk478Ab2dIzNvJvwBvZ0jM28k/YJNNNtlk4z+ApUCtXynwP1CBWr9SoPY/EF100UUX/T9wHMdxHMcBQFgK1PqVAgVAQPjggw8+CEAg5u0MiXkLQAjU+pUCtQ5A+OCDDz74EEDsVwrU+pUSQNzOkJi3MxRA0EUXXXTRFUDEvJ0hMW8XQLgzJObtDBlArKqqqqqqGkCcITFvZ0gcQJCYtzMk5h1AhA8++OCDH0A8Q2LezpAgQLR+pUCtXyFALrrooosuIkCo9SsFav0iQCIxb2dIzCNAmmyyySabJEAUqPUrBWolQI7jOI7jOCZACB988MEHJ0CAWr9SoNYnQPyVArV+pShAdNFFF110KUDsDIl5O0MqQGhIzNsZEitA4IMPPvjgK0Bcv1Kg1q8sQNT6lQK1fi1ATDbZZJNNLkDIcRzHcRwvQECtXylQ6y9AXHTRRRddMEAaEvN2hsQwQNavFKj1KzFAlE022WSTMUBQ61cK1PoxQAyJeTtDYjJAyiabbLLJMkCGxLydITEzQERi3s6QmDNAAAAAAAAANEAAAAAAAAA0wENi3s6QmDPAhsS8nSExM8DKJptssskywA2JeTtDYjLAUOtXCtT6McCTTTbZZJMxwNevFKj1KzHAGhLzdobEMMBddNFFF10wwECtXylQ6y/Ax3Ecx3EcL8BONtlkk00uwNT6lQK1fi3AWr9SoNavLMDhgw8++OArwGhIzNsZEivA7gyJeTtDKsB00UUXXXQpwPuVArV+pSjAgVq/UqDWJ8AIH3zwwQcnwI7jOI7jOCbAFaj1KwVqJcCbbLLJJpskwCIxb2dIzCPAqPUrBWr9IsAvuuiiiy4iwLV+pUCtXyHAPENi3s6QIMCEDz744IMfwJKYtzMk5h3AniExb2dIHMCqqqqqqqoawLgzJObtDBnAxLydITFvF8DSRRdddNEVwN7OkJi3MxTA7FcK1PqVEsD44IMPPvgQwAjU+pUCtQ7AKObtDIl5C8BA+OCDDz4IwFgK1PqVAgXAcBzHcRzHAcAgXXTRRRf9v1CBWr9SoPa/gKVArV8p8L9gk0022WTjvwBvZ0jM28m/AG9nSMzbyT9gk0022WTjP4ClQK1fKfA/UIFav1Kg9j8QXXTRRRf9P3Acx3EcxwFAWArU+pUCBUBA+OCDDz4IQCDm7QyJeQtACNT6lQK1DkD44IMPPvgQQOxXCtT6lRJA3M6QmLczFEDQRRdddNEVQMS8nSExbxdAuDMk5u0MGUCsqqqqqqoaQJwhMW9nSBxAkJi3MyTmHUCEDz744IMfQDxDYt7OkCBAtH6lQK1fIUAuuuiiiy4iQKj1KwVq/SJAIjFvZ0jMI0CabLLJJpskQBSo9SsFaiVAjuM4juM4JkAIH3zwwQcnQIBav1Kg1idA/JUCtX6lKEB00UUXXXQpQOwMiXk7QypAaEjM2xkSK0Dggw8++OArQFy/UqDWryxA1PqVArV+LUBMNtlkk00uQMhxHMdxHC9AQK1fKVDrL0BcdNFFF10wQBoS83aGxDBA1q8UqPUrMUCUTTbZZJMxQFDrVwrU+jFADIl5O0NiMkDKJptssskyQIbEvJ0hMTNARGLezpCYM0AAAAAAAAA0QAAAAAAAADTAQ2LezpCYM8CGxLydITEzwMomm2yyyTLADYl5O0NiMsBQ61cK1PoxwJNNNtlkkzHA168UqPUrMcAaEvN2hsQwwF100UUXXTDAQK1fKVDrL8DHcRzHcRwvwE422WSTTS7A1PqVArV+LcBav1Kg1q8swOGDDz744CvAaEjM2xkSK8DuDIl5O0MqwHTRRRdddCnA+5UCtX6lKMCBWr9SoNYnwAgffPDBByfAjuM4juM4JsAVqPUrBWolwJtssskmmyTAIjFvZ0jMI8Co9SsFav0iwC+66KKLLiLAtX6lQK1fIcA8Q2LezpAgwIQPPvjggx/Akpi3MyTmHcCeITFvZ0gcwKqqqqqqqhrAuDMk5u0MGcDEvJ0hMW8XwNJFF1100RXA3s6QmLczFMDsVwrU+pUSwPjggw8++BDACNT6lQK1DsAo5u0MiXkLwED44IMPPgjAWArU+pUCBcBwHMdxHMcBwCBddNFFF/2/UIFav1Kg9r+ApUCtXynwv2CTTTbZZOO/AG9nSMzbyb8Ab2dIzNvJP2CTTTbZZOM/gKVArV8p8D9QgVq/UqD2PxBddNFFF/0/cBzHcRzHAUBYCtT6lQIFQED44IMPPghAIObtDIl5C0AI1PqVArUOQPjggw8++BBA7FcK1PqVEkDczpCYtzMUQNBFF1100RVAxLydITFvF0C4MyTm7QwZQKyqqqqqqhpAnCExb2dIHECQmLczJOYdQIQPPvjggx9APENi3s6QIEC0fqVArV8hQC666KKLLiJAqPUrBWr9IkAiMW9nSMwjQJpssskmmyRAFKj1KwVqJUCO4ziO4zgmQAgffPDBBydAgFq/UqDWJ0D8lQK1fqUoQHTRRRdddClA7AyJeTtDKkBoSMzbGRIrQOCDDz744CtAXL9SoNavLEDU+pUCtX4tQEw22WSTTS5AyHEcx3EcL0BArV8pUOsvQFx00UUXXTBAGhLzdobEMEDWrxSo9SsxQJRNNtlkkzFAUOtXCtT6MUAMiXk7Q2IyQMomm2yyyTJAhsS8nSExM0BEYt7OkJgzQAAAAAAAADRAAAAAAAAANMBDYt7OkJgzwIbEvJ0hMTPAyiabbLLJMsANiXk7Q2IywFDrVwrU+jHAk0022WSTMcDXrxSo9SsxwBoS83aGxDDAXXTRRRddMMBArV8pUOsvwMdxHMdxHC/ATjbZZJNNLsDU+pUCtX4twFq/UqDWryzA4YMPPvjgK8BoSMzbGRIrwO4MiXk7QyrAdNFFF110KcD7lQK1fqUowIFav1Kg1ifACB988MEHJ8CO4ziO4zgmwBWo9SsFaiXAm2yyySabJMAiMW9nSMwjwKj1KwVq/SLAL7rooosuIsC1fqVArV8hwDxDYt7OkCDAhA8++OCDH8CSmLczJOYdwJ4hMW9nSBzAqqqqqqqqGsC4MyTm7QwZwMS8nSExbxfA0kUXXXTRFcDezpCYtzMUwOxXCtT6lRLA+OCDDz74EMAI1PqVArUOwCjm7QyJeQvAQPjggw8+CMBYCtT6lQIFwHAcx3EcxwHAIF100UUX/b9QgVq/UqD2v4ClQK1fKfC/YJNNNtlk478Ab2dIzNvJvwBvZ0jM28k/YJNNNtlk4z+ApUCtXynwP1CBWr9SoPY/EF100UUX/T9wHMdxHMcBQFgK1PqVAgVAQPjggw8+CEAg5u0MiXkLQAjU+pUCtQ5A+OCDDz74EEDsVwrU+pUSQNzOkJi3MxRA0EUXXXTRFUDEvJ0hMW8XQLgzJObtDBlArKqqqqqqGkCcITFvZ0gcQJCYtzMk5h1AhA8++OCDH0A8Q2LezpAgQLR+pUCtXyFALrrooosuIkCo9SsFav0iQCIxb2dIzCNAmmyyySabJEAUqPUrBWolQI7jOI7jOCZACB988MEHJ0CAWr9SoNYnQPyVArV+pShAdNFFF110KUDsDIl5O0MqQGhIzNsZEitA4IMPPvjgK0Bcv1Kg1q8sQNT6lQK1fi1ATDbZZJNNLkDIcRzHcRwvQECtXylQ6y9AXHTRRRddMEAaEvN2hsQwQNavFKj1KzFAlE022WSTMUBQ61cK1PoxQAyJeTtDYjJAyiabbLLJMkCGxLydITEzQERi3s6QmDNAAAAAAAAANEAAAAAAAAA0wENi3s6QmDPAhsS8nSExM8DKJptssskywA2JeTtDYjLAUOtXCtT6McCTTTbZZJMxwNevFKj1KzHAGhLzdobEMMBddNFFF10wwECtXylQ6y/Ax3Ecx3EcL8BONtlkk00uwNT6lQK1fi3AWr9SoNavLMDhgw8++OArwGhIzNsZEivA7gyJeTtDKsB00UUXXXQpwPuVArV+pSjAgVq/UqDWJ8AIH3zwwQcnwI7jOI7jOCbAFaj1KwVqJcCbbLLJJpskwCIxb2dIzCPAqPUrBWr9IsAvuuiiiy4iwLV+pUCtXyHAPENi3s6QIMCEDz744IMfwJKYtzMk5h3AniExb2dIHMCqqqqqqqoawLgzJObtDBnAxLydITFvF8DSRRdddNEVwN7OkJi3MxTA7FcK1PqVEsD44IMPPvgQwAjU+pUCtQ7AKObtDIl5C8BA+OCDDz4IwFgK1PqVAgXAcBzHcRzHAcAgXXTRRRf9v1CBWr9SoPa/gKVArV8p8L9gk0022WTjvwBvZ0jM28m/AG9nSMzbyT9gk0022WTjP4ClQK1fKfA/UIFav1Kg9j8QXXTRRRf9P3Acx3EcxwFAWArU+pUCBUBA+OCDDz4IQCDm7QyJeQtACNT6lQK1DkD44IMPPvgQQOxXCtT6lRJA3M6QmLczFEDQRRdddNEVQMS8nSExbxdAuDMk5u0MGUCsqqqqqqoaQJwhMW9nSBxAkJi3MyTmHUCEDz744IMfQDxDYt7OkCBAtH6lQK1fIUAuuuiiiy4iQKj1KwVq/SJAIjFvZ0jMI0CabLLJJpskQBSo9SsFaiVAjuM4juM4JkAIH3zwwQcnQIBav1Kg1idA/JUCtX6lKEB00UUXXXQpQOwMiXk7QypAaEjM2xkSK0Dggw8++OArQFy/UqDWryxA1PqVArV+LUBMNtlkk00uQMhxHMdxHC9AQK1fKVDrL0BcdNFFF10wQBoS83aGxDBA1q8UqPUrMUCUTTbZZJMxQFDrVwrU+jFADIl5O0NiMkDKJptssskyQIbEvJ0hMTNARGLezpCYM0AAAAAAAAA0QAAAAAAAADTAQ2LezpCYM8CGxLydITEzwMomm2yyyTLADYl5O0NiMsBQ61cK1PoxwJNNNtlkkzHA168UqPUrMcAaEvN2hsQwwF100UUXXTDAQK1fKVDrL8DHcRzHcRwvwE422WSTTS7A1PqVArV+LcBav1Kg1q8swOGDDz744CvAaEjM2xkSK8DuDIl5O0MqwHTRRRdddCnA+5UCtX6lKMCBWr9SoNYnwAgffPDBByfAjuM4juM4JsAVqPUrBWolwJtssskmmyTAIjFvZ0jMI8Co9SsFav0iwC+66KKLLiLAtX6lQK1fIcA8Q2LezpAgwIQPPvjggx/Akpi3MyTmHcCeITFvZ0gcwKqqqqqqqhrAuDMk5u0MGcDEvJ0hMW8XwNJFF1100RXA3s6QmLczFMDsVwrU+pUSwPjggw8++BDACNT6lQK1DsAo5u0MiXkLwED44IMPPgjAWArU+pUCBcBwHMdxHMcBwCBddNFFF/2/UIFav1Kg9r+ApUCtXynwv2CTTTbZZOO/AG9nSMzbyb8Ab2dIzNvJP2CTTTbZZOM/gKVArV8p8D9QgVq/UqD2PxBddNFFF/0/cBzHcRzHAUBYCtT6lQIFQED44IMPPghAIObtDIl5C0AI1PqVArUOQPjggw8++BBA7FcK1PqVEkDczpCYtzMUQNBFF1100RVAxLydITFvF0C4MyTm7QwZQKyqqqqqqhpAnCExb2dIHECQmLczJOYdQIQPPvjggx9APENi3s6QIEC0fqVArV8hQC666KKLLiJAqPUrBWr9IkAiMW9nSMwjQJpssskmmyRAFKj1KwVqJUCO4ziO4zgmQAgffPDBBydAgFq/UqDWJ0D8lQK1fqUoQHTRRRdddClA7AyJeTtDKkBoSMzbGRIrQOCDDz744CtAXL9SoNavLEDU+pUCtX4tQEw22WSTTS5AyHEcx3EcL0BArV8pUOsvQFx00UUXXTBAGhLzdobEMEDWrxSo9SsxQJRNNtlkkzFAUOtXCtT6MUAMiXk7Q2IyQMomm2yyyTJAhsS8nSExM0BEYt7OkJgzQAAAAAAAADRAAAAAAAAANMBDYt7OkJgzwIbEvJ0hMTPAyiabbLLJMsANiXk7Q2IywFDrVwrU+jHAk0022WSTMcDXrxSo9SsxwBoS83aGxDDAXXTRRRddMMBArV8pUOsvwMdxHMdxHC/ATjbZZJNNLsDU+pUCtX4twFq/UqDWryzA4YMPPvjgK8BoSMzbGRIrwO4MiXk7QyrAdNFFF110KcD7lQK1fqUowIFav1Kg1ifACB988MEHJ8CO4ziO4zgmwBWo9SsFaiXAm2yyySabJMAiMW9nSMwjwKj1KwVq/SLAL7rooosuIsC1fqVArV8hwDxDYt7OkCDAhA8++OCDH8CSmLczJOYdwJ4hMW9nSBzAqqqqqqqqGsC4MyTm7QwZwMS8nSExbxfA0kUXXXTRFcDezpCYtzMUwOxXCtT6lRLA+OCDDz74EMAI1PqVArUOwCjm7QyJeQvAQPjggw8+CMBYCtT6lQIFwHAcx3EcxwHAIF100UUX/b9QgVq/UqD2v4ClQK1fKfC/YJNNNtlk478Ab2dIzNvJvwBvZ0jM28k/YJNNNtlk4z+ApUCtXynwP1CBWr9SoPY/EF100UUX/T9wHMdxHMcBQFgK1PqVAgVAQPjggw8+CEAg5u0MiXkLQAjU+pUCtQ5A+OCDDz74EEDsVwrU+pUSQNzOkJi3MxRA0EUXXXTRFUDEvJ0hMW8XQLgzJObtDBlArKqqqqqqGkCcITFvZ0gcQJCYtzMk5h1AhA8++OCDH0A8Q2LezpAgQLR+pUCtXyFALrrooosuIkCo9SsFav0iQCIxb2dIzCNAmmyyySabJEAUqPUrBWolQI7jOI7jOCZACB988MEHJ0CAWr9SoNYnQPyVArV+pShAdNFFF110KUDsDIl5O0MqQGhIzNsZEitA4IMPPvjgK0Bcv1Kg1q8sQNT6lQK1fi1ATDbZZJNNLkDIcRzHcRwvQECtXylQ6y9AXHTRRRddMEAaEvN2hsQwQNavFKj1KzFAlE022WSTMUBQ61cK1PoxQAyJeTtDYjJAyiabbLLJMkCGxLydITEzQERi3s6QmDNAAAAAAAAANEAAAAAAAAA0wENi3s6QmDPAhsS8nSExM8DKJptssskywA2JeTtDYjLAUOtXCtT6McCTTTbZZJMxwNevFKj1KzHAGhLzdobEMMBddNFFF10wwECtXylQ6y/Ax3Ecx3EcL8BONtlkk00uwNT6lQK1fi3AWr9SoNavLMDhgw8++OArwGhIzNsZEivA7gyJeTtDKsB00UUXXXQpwPuVArV+pSjAgVq/UqDWJ8AIH3zwwQcnwI7jOI7jOCbAFaj1KwVqJcCbbLLJJpskwCIxb2dIzCPAqPUrBWr9IsAvuuiiiy4iwLV+pUCtXyHAPENi3s6QIMCEDz744IMfwJKYtzMk5h3AniExb2dIHMCqqqqqqqoawLgzJObtDBnAxLydITFvF8DSRRdddNEVwN7OkJi3MxTA7FcK1PqVEsD44IMPPvgQwAjU+pUCtQ7AKObtDIl5C8BA+OCDDz4IwFgK1PqVAgXAcBzHcRzHAcAgXXTRRRf9v1CBWr9SoPa/gKVArV8p8L9gk0022WTjvwBvZ0jM28m/AG9nSMzbyT9gk0022WTjP4ClQK1fKfA/UIFav1Kg9j8QXXTRRRf9P3Acx3EcxwFAWArU+pUCBUBA+OCDDz4IQCDm7QyJeQtACNT6lQK1DkD44IMPPvgQQOxXCtT6lRJA3M6QmLczFEDQRRdddNEVQMS8nSExbxdAuDMk5u0MGUCsqqqqqqoaQJwhMW9nSBxAkJi3MyTmHUCEDz744IMfQDxDYt7OkCBAtH6lQK1fIUAuuuiiiy4iQKj1KwVq/SJAIjFvZ0jMI0CabLLJJpskQBSo9SsFaiVAjuM4juM4JkAIH3zwwQcnQIBav1Kg1idA/JUCtX6lKEB00UUXXXQpQOwMiXk7QypAaEjM2xkSK0Dggw8++OArQFy/UqDWryxA1PqVArV+LUBMNtlkk00uQMhxHMdxHC9AQK1fKVDrL0BcdNFFF10wQBoS83aGxDBA1q8UqPUrMUCUTTbZZJMxQFDrVwrU+jFADIl5O0NiMkDKJptssskyQIbEvJ0hMTNARGLezpCYM0AAAAAAAAA0QAAAAAAAADTAQ2LezpCYM8CGxLydITEzwMomm2yyyTLADYl5O0NiMsBQ61cK1PoxwJNNNtlkkzHA168UqPUrMcAaEvN2hsQwwF100UUXXTDAQK1fKVDrL8DHcRzHcRwvwE422WSTTS7A1PqVArV+LcBav1Kg1q8swOGDDz744CvAaEjM2xkSK8DuDIl5O0MqwHTRRRdddCnA+5UCtX6lKMCBWr9SoNYnwAgffPDBByfAjuM4juM4JsAVqPUrBWolwJtssskmmyTAIjFvZ0jMI8Co9SsFav0iwC+66KKLLiLAtX6lQK1fIcA8Q2LezpAgwIQPPvjggx/Akpi3MyTmHcCeITFvZ0gcwKqqqqqqqhrAuDMk5u0MGcDEvJ0hMW8XwNJFF1100RXA3s6QmLczFMDsVwrU+pUSwPjggw8++BDACNT6lQK1DsAo5u0MiXkLwED44IMPPgjAWArU+pUCBcBwHMdxHMcBwCBddNFFF/2/UIFav1Kg9r+ApUCtXynwv2CTTTbZZOO/AG9nSMzbyb8Ab2dIzNvJP2CTTTbZZOM/gKVArV8p8D9QgVq/UqD2PxBddNFFF/0/cBzHcRzHAUBYCtT6lQIFQED44IMPPghAIObtDIl5C0AI1PqVArUOQPjggw8++BBA7FcK1PqVEkDczpCYtzMUQNBFF1100RVAxLydITFvF0C4MyTm7QwZQKyqqqqqqhpAnCExb2dIHECQmLczJOYdQIQPPvjggx9APENi3s6QIEC0fqVArV8hQC666KKLLiJAqPUrBWr9IkAiMW9nSMwjQJpssskmmyRAFKj1KwVqJUCO4ziO4zgmQAgffPDBBydAgFq/UqDWJ0D8lQK1fqUoQHTRRRdddClA7AyJeTtDKkBoSMzbGRIrQOCDDz744CtAXL9SoNavLEDU+pUCtX4tQEw22WSTTS5AyHEcx3EcL0BArV8pUOsvQFx00UUXXTBAGhLzdobEMEDWrxSo9SsxQJRNNtlkkzFAUOtXCtT6MUAMiXk7Q2IyQMomm2yyyTJAhsS8nSExM0BEYt7OkJgzQAAAAAAAADRAAAAAAAAANMBDYt7OkJgzwIbEvJ0hMTPAyiabbLLJMsANiXk7Q2IywFDrVwrU+jHAk0022WSTMcDXrxSo9SsxwBoS83aGxDDAXXTRRRddMMBArV8pUOsvwMdxHMdxHC/ATjbZZJNNLsDU+pUCtX4twFq/UqDWryzA4YMPPvjgK8BoSMzbGRIrwO4MiXk7QyrAdNFFF110KcD7lQK1fqUowIFav1Kg1ifACB988MEHJ8CO4ziO4zgmwBWo9SsFaiXAm2yyySabJMAiMW9nSMwjwKj1KwVq/SLAL7rooosuIsC1fqVArV8hwDxDYt7OkCDAhA8++OCDH8CSmLczJOYdwJ4hMW9nSBzAqqqqqqqqGsC4MyTm7QwZwMS8nSExbxfA0kUXXXTRFcDezpCYtzMUwOxXCtT6lRLA+OCDDz74EMAI1PqVArUOwCjm7QyJeQvAQPjggw8+CMBYCtT6lQIFwHAcx3EcxwHAIF100UUX/b9QgVq/UqD2v4ClQK1fKfC/YJNNNtlk478Ab2dIzNvJvwBvZ0jM28k/YJNNNtlk4z+ApUCtXynwP1CBWr9SoPY/EF100UUX/T9wHMdxHMcBQFgK1PqVAgVAQPjggw8+CEAg5u0MiXkLQAjU+pUCtQ5A+OCDDz74EEDsVwrU+pUSQNzOkJi3MxRA0EUXXXTRFUDEvJ0hMW8XQLgzJObtDBlArKqqqqqqGkCcITFvZ0gcQJCYtzMk5h1AhA8++OCDH0A8Q2LezpAgQLR+pUCtXyFALrrooosuIkCo9SsFav0iQCIxb2dIzCNAmmyyySabJEAUqPUrBWolQI7jOI7jOCZACB988MEHJ0CAWr9SoNYnQPyVArV+pShAdNFFF110KUDsDIl5O0MqQGhIzNsZEitA4IMPPvjgK0Bcv1Kg1q8sQNT6lQK1fi1ATDbZZJNNLkDIcRzHcRwvQECtXylQ6y9AXHTRRRddMEAaEvN2hsQwQNavFKj1KzFAlE022WSTMUBQ61cK1PoxQAyJeTtDYjJAyiabbLLJMkCGxLydITEzQERi3s6QmDNAAAAAAAAANEAAAAAAAAA0wENi3s6QmDPAhsS8nSExM8DKJptssskywA2JeTtDYjLAUOtXCtT6McCTTTbZZJMxwNevFKj1KzHAGhLzdobEMMBddNFFF10wwECtXylQ6y/Ax3Ecx3EcL8BONtlkk00uwNT6lQK1fi3AWr9SoNavLMDhgw8++OArwGhIzNsZEivA7gyJeTtDKsB00UUXXXQpwPuVArV+pSjAgVq/UqDWJ8AIH3zwwQcnwI7jOI7jOCbAFaj1KwVqJcCbbLLJJpskwCIxb2dIzCPAqPUrBWr9IsAvuuiiiy4iwLV+pUCtXyHAPENi3s6QIMCEDz744IMfwJKYtzMk5h3AniExb2dIHMCqqqqqqqoawLgzJObtDBnAxLydITFvF8DSRRdddNEVwN7OkJi3MxTA7FcK1PqVEsD44IMPPvgQwAjU+pUCtQ7AKObtDIl5C8BA+OCDDz4IwFgK1PqVAgXAcBzHcRzHAcAgXXTRRRf9v1CBWr9SoPa/gKVArV8p8L9gk0022WTjvwBvZ0jM28m/AG9nSMzbyT9gk0022WTjP4ClQK1fKfA/UIFav1Kg9j8QXXTRRRf9P3Acx3EcxwFAWArU+pUCBUBA+OCDDz4IQCDm7QyJeQtACNT6lQK1DkD44IMPPvgQQOxXCtT6lRJA3M6QmLczFEDQRRdddNEVQMS8nSExbxdAuDMk5u0MGUCsqqqqqqoaQJwhMW9nSBxAkJi3MyTmHUCEDz744IMfQDxDYt7OkCBAtH6lQK1fIUAuuuiiiy4iQKj1KwVq/SJAIjFvZ0jMI0CabLLJJpskQBSo9SsFaiVAjuM4juM4JkAIH3zwwQcnQIBav1Kg1idA/JUCtX6lKEB00UUXXXQpQOwMiXk7QypAaEjM2xkSK0Dggw8++OArQFy/UqDWryxA1PqVArV+LUBMNtlkk00uQMhxHMdxHC9AQK1fKVDrL0BcdNFFF10wQBoS83aGxDBA1q8UqPUrMUCUTTbZZJMxQFDrVwrU+jFADIl5O0NiMkDKJptssskyQIbEvJ0hMTNARGLezpCYM0AAAAAAAAA0QAAAAAAAADTAQ2LezpCYM8CGxLydITEzwMomm2yyyTLADYl5O0NiMsBQ61cK1PoxwJNNNtlkkzHA168UqPUrMcAaEvN2hsQwwF100UUXXTDAQK1fKVDrL8DHcRzHcRwvwE422WSTTS7A1PqVArV+LcBav1Kg1q8swOGDDz744CvAaEjM2xkSK8DuDIl5O0MqwHTRRRdddCnA+5UCtX6lKMCBWr9SoNYnwAgffPDBByfAjuM4juM4JsAVqPUrBWolwJtssskmmyTAIjFvZ0jMI8Co9SsFav0iwC+66KKLLiLAtX6lQK1fIcA8Q2LezpAgwIQPPvjggx/Akpi3MyTmHcCeITFvZ0gcwKqqqqqqqhrAuDMk5u0MGcDEvJ0hMW8XwNJFF1100RXA3s6QmLczFMDsVwrU+pUSwPjggw8++BDACNT6lQK1DsAo5u0MiXkLwED44IMPPgjAWArU+pUCBcBwHMdxHMcBwCBddNFFF/2/UIFav1Kg9r+ApUCtXynwv2CTTTbZZOO/AG9nSMzbyb8Ab2dIzNvJP2CTTTbZZOM/gKVArV8p8D9QgVq/UqD2PxBddNFFF/0/cBzHcRzHAUBYCtT6lQIFQED44IMPPghAIObtDIl5C0AI1PqVArUOQPjggw8++BBA7FcK1PqVEkDczpCYtzMUQNBFF1100RVAxLydITFvF0C4MyTm7QwZQKyqqqqqqhpAnCExb2dIHECQmLczJOYdQIQPPvjggx9APENi3s6QIEC0fqVArV8hQC666KKLLiJAqPUrBWr9IkAiMW9nSMwjQJpssskmmyRAFKj1KwVqJUCO4ziO4zgmQAgffPDBBydAgFq/UqDWJ0D8lQK1fqUoQHTRRRdddClA7AyJeTtDKkBoSMzbGRIrQOCDDz744CtAXL9SoNavLEDU+pUCtX4tQEw22WSTTS5AyHEcx3EcL0BArV8pUOsvQFx00UUXXTBAGhLzdobEMEDWrxSo9SsxQJRNNtlkkzFAUOtXCtT6MUAMiXk7Q2IyQMomm2yyyTJAhsS8nSExM0BEYt7OkJgzQAAAAAAAADRAAAAAAAAANMBDYt7OkJgzwIbEvJ0hMTPAyiabbLLJMsANiXk7Q2IywFDrVwrU+jHAk0022WSTMcDXrxSo9SsxwBoS83aGxDDAXXTRRRddMMBArV8pUOsvwMdxHMdxHC/ATjbZZJNNLsDU+pUCtX4twFq/UqDWryzA4YMPPvjgK8BoSMzbGRIrwO4MiXk7QyrAdNFFF110KcD7lQK1fqUowIFav1Kg1ifACB988MEHJ8CO4ziO4zgmwBWo9SsFaiXAm2yyySabJMAiMW9nSMwjwKj1KwVq/SLAL7rooosuIsC1fqVArV8hwDxDYt7OkCDAhA8++OCDH8CSmLczJOYdwJ4hMW9nSBzAqqqqqqqqGsC4MyTm7QwZwMS8nSExbxfA0kUXXXTRFcDezpCYtzMUwOxXCtT6lRLA+OCDDz74EMAI1PqVArUOwCjm7QyJeQvAQPjggw8+CMBYCtT6lQIFwHAcx3EcxwHAIF100UUX/b9QgVq/UqD2v4ClQK1fKfC/YJNNNtlk478Ab2dIzNvJvwBvZ0jM28k/YJNNNtlk4z+ApUCtXynwP1CBWr9SoPY/EF100UUX/T9wHMdxHMcBQFgK1PqVAgVAQPjggw8+CEAg5u0MiXkLQAjU+pUCtQ5A+OCDDz74EEDsVwrU+pUSQNzOkJi3MxRA0EUXXXTRFUDEvJ0hMW8XQLgzJObtDBlArKqqqqqqGkCcITFvZ0gcQJCYtzMk5h1AhA8++OCDH0A8Q2LezpAgQLR+pUCtXyFALrrooosuIkCo9SsFav0iQCIxb2dIzCNAmmyyySabJEAUqPUrBWolQI7jOI7jOCZACB988MEHJ0CAWr9SoNYnQPyVArV+pShAdNFFF110KUDsDIl5O0MqQGhIzNsZEitA4IMPPvjgK0Bcv1Kg1q8sQNT6lQK1fi1ATDbZZJNNLkDIcRzHcRwvQECtXylQ6y9AXHTRRRddMEAaEvN2hsQwQNavFKj1KzFAlE022WSTMUBQ61cK1PoxQAyJeTtDYjJAyiabbLLJMkCGxLydITEzQERi3s6QmDNAAAAAAAAANEAAAAAAAAA0wENi3s6QmDPAhsS8nSExM8DKJptssskywA2JeTtDYjLAUOtXCtT6McCTTTbZZJMxwNevFKj1KzHAGhLzdobEMMBddNFFF10wwECtXylQ6y/Ax3Ecx3EcL8BONtlkk00uwNT6lQK1fi3AWr9SoNavLMDhgw8++OArwGhIzNsZEivA7gyJeTtDKsB00UUXXXQpwPuVArV+pSjAgVq/UqDWJ8AIH3zwwQcnwI7jOI7jOCbAFaj1KwVqJcCbbLLJJpskwCIxb2dIzCPAqPUrBWr9IsAvuuiiiy4iwLV+pUCtXyHAPENi3s6QIMCEDz744IMfwJKYtzMk5h3AniExb2dIHMCqqqqqqqoawLgzJObtDBnAxLydITFvF8DSRRdddNEVwN7OkJi3MxTA7FcK1PqVEsD44IMPPvgQwAjU+pUCtQ7AKObtDIl5C8BA+OCDDz4IwFgK1PqVAgXAcBzHcRzHAcAgXXTRRRf9v1CBWr9SoPa/gKVArV8p8L9gk0022WTjvwBvZ0jM28m/AG9nSMzbyT9gk0022WTjP4ClQK1fKfA/UIFav1Kg9j8QXXTRRRf9P3Acx3EcxwFAWArU+pUCBUBA+OCDDz4IQCDm7QyJeQtACNT6lQK1DkD44IMPPvgQQOxXCtT6lRJA3M6QmLczFEDQRRdddNEVQMS8nSExbxdAuDMk5u0MGUCsqqqqqqoaQJwhMW9nSBxAkJi3MyTmHUCEDz744IMfQDxDYt7OkCBAtH6lQK1fIUAuuuiiiy4iQKj1KwVq/SJAIjFvZ0jMI0CabLLJJpskQBSo9SsFaiVAjuM4juM4JkAIH3zwwQcnQIBav1Kg1idA/JUCtX6lKEB00UUXXXQpQOwMiXk7QypAaEjM2xkSK0Dggw8++OArQFy/UqDWryxA1PqVArV+LUBMNtlkk00uQMhxHMdxHC9AQK1fKVDrL0BcdNFFF10wQBoS83aGxDBA1q8UqPUrMUCUTTbZZJMxQFDrVwrU+jFADIl5O0NiMkDKJptssskyQIbEvJ0hMTNARGLezpCYM0AAAAAAAAA0QAAAAAAAADTAQ2LezpCYM8CGxLydITEzwMomm2yyyTLADYl5O0NiMsBQ61cK1PoxwJNNNtlkkzHA168UqPUrMcAaEvN2hsQwwF100UUXXTDAQK1fKVDrL8DHcRzHcRwvwE422WSTTS7A1PqVArV+LcBav1Kg1q8swOGDDz744CvAaEjM2xkSK8DuDIl5O0MqwHTRRRdddCnA+5UCtX6lKMCBWr9SoNYnwAgffPDBByfAjuM4juM4JsAVqPUrBWolwJtssskmmyTAIjFvZ0jMI8Co9SsFav0iwC+66KKLLiLAtX6lQK1fIcA8Q2LezpAgwIQPPvjggx/Akpi3MyTmHcCeITFvZ0gcwKqqqqqqqhrAuDMk5u0MGcDEvJ0hMW8XwNJFF1100RXA3s6QmLczFMDsVwrU+pUSwPjggw8++BDACNT6lQK1DsAo5u0MiXkLwED44IMPPgjAWArU+pUCBcBwHMdxHMcBwCBddNFFF/2/UIFav1Kg9r+ApUCtXynwv2CTTTbZZOO/AG9nSMzbyb8Ab2dIzNvJP2CTTTbZZOM/gKVArV8p8D9QgVq/UqD2PxBddNFFF/0/cBzHcRzHAUBYCtT6lQIFQED44IMPPghAIObtDIl5C0AI1PqVArUOQPjggw8++BBA7FcK1PqVEkDczpCYtzMUQNBFF1100RVAxLydITFvF0C4MyTm7QwZQKyqqqqqqhpAnCExb2dIHECQmLczJOYdQIQPPvjggx9APENi3s6QIEC0fqVArV8hQC666KKLLiJAqPUrBWr9IkAiMW9nSMwjQJpssskmmyRAFKj1KwVqJUCO4ziO4zgmQAgffPDBBydAgFq/UqDWJ0D8lQK1fqUoQHTRRRdddClA7AyJeTtDKkBoSMzbGRIrQOCDDz744CtAXL9SoNavLEDU+pUCtX4tQEw22WSTTS5AyHEcx3EcL0BArV8pUOsvQFx00UUXXTBAGhLzdobEMEDWrxSo9SsxQJRNNtlkkzFAUOtXCtT6MUAMiXk7Q2IyQMomm2yyyTJAhsS8nSExM0BEYt7OkJgzQAAAAAAAADRAAAAAAAAANMBDYt7OkJgzwIbEvJ0hMTPAyiabbLLJMsANiXk7Q2IywFDrVwrU+jHAk0022WSTMcDXrxSo9SsxwBoS83aGxDDAXXTRRRddMMBArV8pUOsvwMdxHMdxHC/ATjbZZJNNLsDU+pUCtX4twFq/UqDWryzA4YMPPvjgK8BoSMzbGRIrwO4MiXk7QyrAdNFFF110KcD7lQK1fqUowIFav1Kg1ifACB988MEHJ8CO4ziO4zgmwBWo9SsFaiXAm2yyySabJMAiMW9nSMwjwKj1KwVq/SLAL7rooosuIsC1fqVArV8hwDxDYt7OkCDAhA8++OCDH8CSmLczJOYdwJ4hMW9nSBzAqqqqqqqqGsC4MyTm7QwZwMS8nSExbxfA0kUXXXTRFcDezpCYtzMUwOxXCtT6lRLA+OCDDz74EMAI1PqVArUOwCjm7QyJeQvAQPjggw8+CMBYCtT6lQIFwHAcx3EcxwHAIF100UUX/b9QgVq/UqD2v4ClQK1fKfC/YJNNNtlk478Ab2dIzNvJvwBvZ0jM28k/YJNNNtlk4z+ApUCtXynwP1CBWr9SoPY/EF100UUX/T9wHMdxHMcBQFgK1PqVAgVAQPjggw8+CEAg5u0MiXkLQAjU+pUCtQ5A+OCDDz74EEDsVwrU+pUSQNzOkJi3MxRA0EUXXXTRFUDEvJ0hMW8XQLgzJObtDBlArKqqqqqqGkCcITFvZ0gcQJCYtzMk5h1AhA8++OCDH0A8Q2LezpAgQLR+pUCtXyFALrrooosuIkCo9SsFav0iQCIxb2dIzCNAmmyyySabJEAUqPUrBWolQI7jOI7jOCZACB988MEHJ0CAWr9SoNYnQPyVArV+pShAdNFFF110KUDsDIl5O0MqQGhIzNsZEitA4IMPPvjgK0Bcv1Kg1q8sQNT6lQK1fi1ATDbZZJNNLkDIcRzHcRwvQECtXylQ6y9AXHTRRRddMEAaEvN2hsQwQNavFKj1KzFAlE022WSTMUBQ61cK1PoxQAyJeTtDYjJAyiabbLLJMkCGxLydITEzQERi3s6QmDNAAAAAAAAANEAAAAAAAAA0wENi3s6QmDPAhsS8nSExM8DKJptssskywA2JeTtDYjLAUOtXCtT6McCTTTbZZJMxwNevFKj1KzHAGhLzdobEMMBddNFFF10wwECtXylQ6y/Ax3Ecx3EcL8BONtlkk00uwNT6lQK1fi3AWr9SoNavLMDhgw8++OArwGhIzNsZEivA7gyJeTtDKsB00UUXXXQpwPuVArV+pSjAgVq/UqDWJ8AIH3zwwQcnwI7jOI7jOCbAFaj1KwVqJcCbbLLJJpskwCIxb2dIzCPAqPUrBWr9IsAvuuiiiy4iwLV+pUCtXyHAPENi3s6QIMCEDz744IMfwJKYtzMk5h3AniExb2dIHMCqqqqqqqoawLgzJObtDBnAxLydITFvF8DSRRdddNEVwN7OkJi3MxTA7FcK1PqVEsD44IMPPvgQwAjU+pUCtQ7AKObtDIl5C8BA+OCDDz4IwFgK1PqVAgXAcBzHcRzHAcAgXXTRRRf9v1CBWr9SoPa/gKVArV8p8L9gk0022WTjvwBvZ0jM28m/AG9nSMzbyT9gk0022WTjP4ClQK1fKfA/UIFav1Kg9j8QXXTRRRf9P3Acx3EcxwFAWArU+pUCBUBA+OCDDz4IQCDm7QyJeQtACNT6lQK1DkD44IMPPvgQQOxXCtT6lRJA3M6QmLczFEDQRRdddNEVQMS8nSExbxdAuDMk5u0MGUCsqqqqqqoaQJwhMW9nSBxAkJi3MyTmHUCEDz744IMfQDxDYt7OkCBAtH6lQK1fIUAuuuiiiy4iQKj1KwVq/SJAIjFvZ0jMI0CabLLJJpskQBSo9SsFaiVAjuM4juM4JkAIH3zwwQcnQIBav1Kg1idA/JUCtX6lKEB00UUXXXQpQOwMiXk7QypAaEjM2xkSK0Dggw8++OArQFy/UqDWryxA1PqVArV+LUBMNtlkk00uQMhxHMdxHC9AQK1fKVDrL0BcdNFFF10wQBoS83aGxDBA1q8UqPUrMUCUTTbZZJMxQFDrVwrU+jFADIl5O0NiMkDKJptssskyQIbEvJ0hMTNARGLezpCYM0AAAAAAAAA0QAAAAAAAADTAQ2LezpCYM8CGxLydITEzwMomm2yyyTLADYl5O0NiMsBQ61cK1PoxwJNNNtlkkzHA168UqPUrMcAaEvN2hsQwwF100UUXXTDAQK1fKVDrL8DHcRzHcRwvwE422WSTTS7A1PqVArV+LcBav1Kg1q8swOGDDz744CvAaEjM2xkSK8DuDIl5O0MqwHTRRRdddCnA+5UCtX6lKMCBWr9SoNYnwAgffPDBByfAjuM4juM4JsAVqPUrBWolwJtssskmmyTAIjFvZ0jMI8Co9SsFav0iwC+66KKLLiLAtX6lQK1fIcA8Q2LezpAgwIQPPvjggx/Akpi3MyTmHcCeITFvZ0gcwKqqqqqqqhrAuDMk5u0MGcDEvJ0hMW8XwNJFF1100RXA3s6QmLczFMDsVwrU+pUSwPjggw8++BDACNT6lQK1DsAo5u0MiXkLwED44IMPPgjAWArU+pUCBcBwHMdxHMcBwCBddNFFF/2/UIFav1Kg9r+ApUCtXynwv2CTTTbZZOO/AG9nSMzbyb8Ab2dIzNvJP2CTTTbZZOM/gKVArV8p8D9QgVq/UqD2PxBddNFFF/0/cBzHcRzHAUBYCtT6lQIFQED44IMPPghAIObtDIl5C0AI1PqVArUOQPjggw8++BBA7FcK1PqVEkDczpCYtzMUQNBFF1100RVAxLydITFvF0C4MyTm7QwZQKyqqqqqqhpAnCExb2dIHECQmLczJOYdQIQPPvjggx9APENi3s6QIEC0fqVArV8hQC666KKLLiJAqPUrBWr9IkAiMW9nSMwjQJpssskmmyRAFKj1KwVqJUCO4ziO4zgmQAgffPDBBydAgFq/UqDWJ0D8lQK1fqUoQHTRRRdddClA7AyJeTtDKkBoSMzbGRIrQOCDDz744CtAXL9SoNavLEDU+pUCtX4tQEw22WSTTS5AyHEcx3EcL0BArV8pUOsvQFx00UUXXTBAGhLzdobEMEDWrxSo9SsxQJRNNtlkkzFAUOtXCtT6MUAMiXk7Q2IyQMomm2yyyTJAhsS8nSExM0BEYt7OkJgzQAAAAAAAADRAAAAAAAAANMBDYt7OkJgzwIbEvJ0hMTPAyiabbLLJMsANiXk7Q2IywFDrVwrU+jHAk0022WSTMcDXrxSo9SsxwBoS83aGxDDAXXTRRRddMMBArV8pUOsvwMdxHMdxHC/ATjbZZJNNLsDU+pUCtX4twFq/UqDWryzA4YMPPvjgK8BoSMzbGRIrwO4MiXk7QyrAdNFFF110KcD7lQK1fqUowIFav1Kg1ifACB988MEHJ8CO4ziO4zgmwBWo9SsFaiXAm2yyySabJMAiMW9nSMwjwKj1KwVq/SLAL7rooosuIsC1fqVArV8hwDxDYt7OkCDAhA8++OCDH8CSmLczJOYdwJ4hMW9nSBzAqqqqqqqqGsC4MyTm7QwZwMS8nSExbxfA0kUXXXTRFcDezpCYtzMUwOxXCtT6lRLA+OCDDz74EMAI1PqVArUOwCjm7QyJeQvAQPjggw8+CMBYCtT6lQIFwHAcx3EcxwHAIF100UUX/b9QgVq/UqD2v4ClQK1fKfC/YJNNNtlk478Ab2dIzNvJvwBvZ0jM28k/YJNNNtlk4z+ApUCtXynwP1CBWr9SoPY/EF100UUX/T9wHMdxHMcBQFgK1PqVAgVAQPjggw8+CEAg5u0MiXkLQAjU+pUCtQ5A+OCDDz74EEDsVwrU+pUSQNzOkJi3MxRA0EUXXXTRFUDEvJ0hMW8XQLgzJObtDBlArKqqqqqqGkCcITFvZ0gcQJCYtzMk5h1AhA8++OCDH0A8Q2LezpAgQLR+pUCtXyFALrrooosuIkCo9SsFav0iQCIxb2dIzCNAmmyyySabJEAUqPUrBWolQI7jOI7jOCZACB988MEHJ0CAWr9SoNYnQPyVArV+pShAdNFFF110KUDsDIl5O0MqQGhIzNsZEitA4IMPPvjgK0Bcv1Kg1q8sQNT6lQK1fi1ATDbZZJNNLkDIcRzHcRwvQECtXylQ6y9AXHTRRRddMEAaEvN2hsQwQNavFKj1KzFAlE022WSTMUBQ61cK1PoxQAyJeTtDYjJAyiabbLLJMkCGxLydITEzQERi3s6QmDNAAAAAAAAANEAAAAAAAAA0wENi3s6QmDPAhsS8nSExM8DKJptssskywA2JeTtDYjLAUOtXCtT6McCTTTbZZJMxwNevFKj1KzHAGhLzdobEMMBddNFFF10wwECtXylQ6y/Ax3Ecx3EcL8BONtlkk00uwNT6lQK1fi3AWr9SoNavLMDhgw8++OArwGhIzNsZEivA7gyJeTtDKsB00UUXXXQpwPuVArV+pSjAgVq/UqDWJ8AIH3zwwQcnwI7jOI7jOCbAFaj1KwVqJcCbbLLJJpskwCIxb2dIzCPAqPUrBWr9IsAvuuiiiy4iwLV+pUCtXyHAPENi3s6QIMCEDz744IMfwJKYtzMk5h3AniExb2dIHMCqqqqqqqoawLgzJObtDBnAxLydITFvF8DSRRdddNEVwN7OkJi3MxTA7FcK1PqVEsD44IMPPvgQwAjU+pUCtQ7AKObtDIl5C8BA+OCDDz4IwFgK1PqVAgXAcBzHcRzHAcAgXXTRRRf9v1CBWr9SoPa/gKVArV8p8L9gk0022WTjvwBvZ0jM28m/AG9nSMzbyT9gk0022WTjP4ClQK1fKfA/UIFav1Kg9j8QXXTRRRf9P3Acx3EcxwFAWArU+pUCBUBA+OCDDz4IQCDm7QyJeQtACNT6lQK1DkD44IMPPvgQQOxXCtT6lRJA3M6QmLczFEDQRRdddNEVQMS8nSExbxdAuDMk5u0MGUCsqqqqqqoaQJwhMW9nSBxAkJi3MyTmHUCEDz744IMfQDxDYt7OkCBAtH6lQK1fIUAuuuiiiy4iQKj1KwVq/SJAIjFvZ0jMI0CabLLJJpskQBSo9SsFaiVAjuM4juM4JkAIH3zwwQcnQIBav1Kg1idA/JUCtX6lKEB00UUXXXQpQOwMiXk7QypAaEjM2xkSK0Dggw8++OArQFy/UqDWryxA1PqVArV+LUBMNtlkk00uQMhxHMdxHC9AQK1fKVDrL0BcdNFFF10wQBoS83aGxDBA1q8UqPUrMUCUTTbZZJMxQFDrVwrU+jFADIl5O0NiMkDKJptssskyQIbEvJ0hMTNARGLezpCYM0AAAAAAAAA0QAAAAAAAADTAQ2LezpCYM8CGxLydITEzwMomm2yyyTLADYl5O0NiMsBQ61cK1PoxwJNNNtlkkzHA168UqPUrMcAaEvN2hsQwwF100UUXXTDAQK1fKVDrL8DHcRzHcRwvwE422WSTTS7A1PqVArV+LcBav1Kg1q8swOGDDz744CvAaEjM2xkSK8DuDIl5O0MqwHTRRRdddCnA+5UCtX6lKMCBWr9SoNYnwAgffPDBByfAjuM4juM4JsAVqPUrBWolwJtssskmmyTAIjFvZ0jMI8Co9SsFav0iwC+66KKLLiLAtX6lQK1fIcA8Q2LezpAgwIQPPvjggx/Akpi3MyTmHcCeITFvZ0gcwKqqqqqqqhrAuDMk5u0MGcDEvJ0hMW8XwNJFF1100RXA3s6QmLczFMDsVwrU+pUSwPjggw8++BDACNT6lQK1DsAo5u0MiXkLwED44IMPPgjAWArU+pUCBcBwHMdxHMcBwCBddNFFF/2/UIFav1Kg9r+ApUCtXynwv2CTTTbZZOO/AG9nSMzbyb8Ab2dIzNvJP2CTTTbZZOM/gKVArV8p8D9QgVq/UqD2PxBddNFFF/0/cBzHcRzHAUBYCtT6lQIFQED44IMPPghAIObtDIl5C0AI1PqVArUOQPjggw8++BBA7FcK1PqVEkDczpCYtzMUQNBFF1100RVAxLydITFvF0C4MyTm7QwZQKyqqqqqqhpAnCExb2dIHECQmLczJOYdQIQPPvjggx9APENi3s6QIEC0fqVArV8hQC666KKLLiJAqPUrBWr9IkAiMW9nSMwjQJpssskmmyRAFKj1KwVqJUCO4ziO4zgmQAgffPDBBydAgFq/UqDWJ0D8lQK1fqUoQHTRRRdddClA7AyJeTtDKkBoSMzbGRIrQOCDDz744CtAXL9SoNavLEDU+pUCtX4tQEw22WSTTS5AyHEcx3EcL0BArV8pUOsvQFx00UUXXTBAGhLzdobEMEDWrxSo9SsxQJRNNtlkkzFAUOtXCtT6MUAMiXk7Q2IyQMomm2yyyTJAhsS8nSExM0BEYt7OkJgzQAAAAAAAADRAAAAAAAAANMBDYt7OkJgzwIbEvJ0hMTPAyiabbLLJMsANiXk7Q2IywFDrVwrU+jHAk0022WSTMcDXrxSo9SsxwBoS83aGxDDAXXTRRRddMMBArV8pUOsvwMdxHMdxHC/ATjbZZJNNLsDU+pUCtX4twFq/UqDWryzA4YMPPvjgK8BoSMzbGRIrwO4MiXk7QyrAdNFFF110KcD7lQK1fqUowIFav1Kg1ifACB988MEHJ8CO4ziO4zgmwBWo9SsFaiXAm2yyySabJMAiMW9nSMwjwKj1KwVq/SLAL7rooosuIsC1fqVArV8hwDxDYt7OkCDAhA8++OCDH8CSmLczJOYdwJ4hMW9nSBzAqqqqqqqqGsC4MyTm7QwZwMS8nSExbxfA0kUXXXTRFcDezpCYtzMUwOxXCtT6lRLA+OCDDz74EMAI1PqVArUOwCjm7QyJeQvAQPjggw8+CMBYCtT6lQIFwHAcx3EcxwHAIF100UUX/b9QgVq/UqD2v4ClQK1fKfC/YJNNNtlk478Ab2dIzNvJvwBvZ0jM28k/YJNNNtlk4z+ApUCtXynwP1CBWr9SoPY/EF100UUX/T9wHMdxHMcBQFgK1PqVAgVAQPjggw8+CEAg5u0MiXkLQAjU+pUCtQ5A+OCDDz74EEDsVwrU+pUSQNzOkJi3MxRA0EUXXXTRFUDEvJ0hMW8XQLgzJObtDBlArKqqqqqqGkCcITFvZ0gcQJCYtzMk5h1AhA8++OCDH0A8Q2LezpAgQLR+pUCtXyFALrrooosuIkCo9SsFav0iQCIxb2dIzCNAmmyyySabJEAUqPUrBWolQI7jOI7jOCZACB988MEHJ0CAWr9SoNYnQPyVArV+pShAdNFFF110KUDsDIl5O0MqQGhIzNsZEitA4IMPPvjgK0Bcv1Kg1q8sQNT6lQK1fi1ATDbZZJNNLkDIcRzHcRwvQECtXylQ6y9AXHTRRRddMEAaEvN2hsQwQNavFKj1KzFAlE022WSTMUBQ61cK1PoxQAyJeTtDYjJAyiabbLLJMkCGxLydITEzQERi3s6QmDNAAAAAAAAANEA=",
          "dtype": "f8",
          "shape": "100, 100"
         },
         "y": {
          "bdata": "AAAAAAAANMAAAAAAAAA0wAAAAAAAADTAAAAAAAAANMAAAAAAAAA0wAAAAAAAADTAAAAAAAAANMAAAAAAAAA0wAAAAAAAADTAAAAAAAAANMAAAAAAAAA0wAAAAAAAADTAAAAAAAAANMAAAAAAAAA0wAAAAAAAADTAAAAAAAAANMAAAAAAAAA0wAAAAAAAADTAAAAAAAAANMAAAAAAAAA0wAAAAAAAADTAAAAAAAAANMAAAAAAAAA0wAAAAAAAADTAAAAAAAAANMAAAAAAAAA0wAAAAAAAADTAAAAAAAAANMAAAAAAAAA0wAAAAAAAADTAAAAAAAAANMAAAAAAAAA0wAAAAAAAADTAAAAAAAAANMAAAAAAAAA0wAAAAAAAADTAAAAAAAAANMAAAAAAAAA0wAAAAAAAADTAAAAAAAAANMAAAAAAAAA0wAAAAAAAADTAAAAAAAAANMAAAAAAAAA0wAAAAAAAADTAAAAAAAAANMAAAAAAAAA0wAAAAAAAADTAAAAAAAAANMAAAAAAAAA0wAAAAAAAADTAAAAAAAAANMAAAAAAAAA0wAAAAAAAADTAAAAAAAAANMAAAAAAAAA0wAAAAAAAADTAAAAAAAAANMAAAAAAAAA0wAAAAAAAADTAAAAAAAAANMAAAAAAAAA0wAAAAAAAADTAAAAAAAAANMAAAAAAAAA0wAAAAAAAADTAAAAAAAAANMAAAAAAAAA0wAAAAAAAADTAAAAAAAAANMAAAAAAAAA0wAAAAAAAADTAAAAAAAAANMAAAAAAAAA0wAAAAAAAADTAAAAAAAAANMAAAAAAAAA0wAAAAAAAADTAAAAAAAAANMAAAAAAAAA0wAAAAAAAADTAAAAAAAAANMAAAAAAAAA0wAAAAAAAADTAAAAAAAAANMAAAAAAAAA0wAAAAAAAADTAAAAAAAAANMAAAAAAAAA0wAAAAAAAADTAAAAAAAAANMAAAAAAAAA0wAAAAAAAADTAAAAAAAAANMAAAAAAAAA0wAAAAAAAADTAAAAAAAAANMAAAAAAAAA0wAAAAAAAADTAAAAAAAAANMBDYt7OkJgzwENi3s6QmDPAQ2LezpCYM8BDYt7OkJgzwENi3s6QmDPAQ2LezpCYM8BDYt7OkJgzwENi3s6QmDPAQ2LezpCYM8BDYt7OkJgzwENi3s6QmDPAQ2LezpCYM8BDYt7OkJgzwENi3s6QmDPAQ2LezpCYM8BDYt7OkJgzwENi3s6QmDPAQ2LezpCYM8BDYt7OkJgzwENi3s6QmDPAQ2LezpCYM8BDYt7OkJgzwENi3s6QmDPAQ2LezpCYM8BDYt7OkJgzwENi3s6QmDPAQ2LezpCYM8BDYt7OkJgzwENi3s6QmDPAQ2LezpCYM8BDYt7OkJgzwENi3s6QmDPAQ2LezpCYM8BDYt7OkJgzwENi3s6QmDPAQ2LezpCYM8BDYt7OkJgzwENi3s6QmDPAQ2LezpCYM8BDYt7OkJgzwENi3s6QmDPAQ2LezpCYM8BDYt7OkJgzwENi3s6QmDPAQ2LezpCYM8BDYt7OkJgzwENi3s6QmDPAQ2LezpCYM8BDYt7OkJgzwENi3s6QmDPAQ2LezpCYM8BDYt7OkJgzwENi3s6QmDPAQ2LezpCYM8BDYt7OkJgzwENi3s6QmDPAQ2LezpCYM8BDYt7OkJgzwENi3s6QmDPAQ2LezpCYM8BDYt7OkJgzwENi3s6QmDPAQ2LezpCYM8BDYt7OkJgzwENi3s6QmDPAQ2LezpCYM8BDYt7OkJgzwENi3s6QmDPAQ2LezpCYM8BDYt7OkJgzwENi3s6QmDPAQ2LezpCYM8BDYt7OkJgzwENi3s6QmDPAQ2LezpCYM8BDYt7OkJgzwENi3s6QmDPAQ2LezpCYM8BDYt7OkJgzwENi3s6QmDPAQ2LezpCYM8BDYt7OkJgzwENi3s6QmDPAQ2LezpCYM8BDYt7OkJgzwENi3s6QmDPAQ2LezpCYM8BDYt7OkJgzwENi3s6QmDPAQ2LezpCYM8BDYt7OkJgzwENi3s6QmDPAQ2LezpCYM8BDYt7OkJgzwENi3s6QmDPAQ2LezpCYM8BDYt7OkJgzwENi3s6QmDPAQ2LezpCYM8BDYt7OkJgzwIbEvJ0hMTPAhsS8nSExM8CGxLydITEzwIbEvJ0hMTPAhsS8nSExM8CGxLydITEzwIbEvJ0hMTPAhsS8nSExM8CGxLydITEzwIbEvJ0hMTPAhsS8nSExM8CGxLydITEzwIbEvJ0hMTPAhsS8nSExM8CGxLydITEzwIbEvJ0hMTPAhsS8nSExM8CGxLydITEzwIbEvJ0hMTPAhsS8nSExM8CGxLydITEzwIbEvJ0hMTPAhsS8nSExM8CGxLydITEzwIbEvJ0hMTPAhsS8nSExM8CGxLydITEzwIbEvJ0hMTPAhsS8nSExM8CGxLydITEzwIbEvJ0hMTPAhsS8nSExM8CGxLydITEzwIbEvJ0hMTPAhsS8nSExM8CGxLydITEzwIbEvJ0hMTPAhsS8nSExM8CGxLydITEzwIbEvJ0hMTPAhsS8nSExM8CGxLydITEzwIbEvJ0hMTPAhsS8nSExM8CGxLydITEzwIbEvJ0hMTPAhsS8nSExM8CGxLydITEzwIbEvJ0hMTPAhsS8nSExM8CGxLydITEzwIbEvJ0hMTPAhsS8nSExM8CGxLydITEzwIbEvJ0hMTPAhsS8nSExM8CGxLydITEzwIbEvJ0hMTPAhsS8nSExM8CGxLydITEzwIbEvJ0hMTPAhsS8nSExM8CGxLydITEzwIbEvJ0hMTPAhsS8nSExM8CGxLydITEzwIbEvJ0hMTPAhsS8nSExM8CGxLydITEzwIbEvJ0hMTPAhsS8nSExM8CGxLydITEzwIbEvJ0hMTPAhsS8nSExM8CGxLydITEzwIbEvJ0hMTPAhsS8nSExM8CGxLydITEzwIbEvJ0hMTPAhsS8nSExM8CGxLydITEzwIbEvJ0hMTPAhsS8nSExM8CGxLydITEzwIbEvJ0hMTPAhsS8nSExM8CGxLydITEzwIbEvJ0hMTPAhsS8nSExM8CGxLydITEzwIbEvJ0hMTPAhsS8nSExM8CGxLydITEzwIbEvJ0hMTPAhsS8nSExM8CGxLydITEzwIbEvJ0hMTPAhsS8nSExM8CGxLydITEzwIbEvJ0hMTPAyiabbLLJMsDKJptssskywMomm2yyyTLAyiabbLLJMsDKJptssskywMomm2yyyTLAyiabbLLJMsDKJptssskywMomm2yyyTLAyiabbLLJMsDKJptssskywMomm2yyyTLAyiabbLLJMsDKJptssskywMomm2yyyTLAyiabbLLJMsDKJptssskywMomm2yyyTLAyiabbLLJMsDKJptssskywMomm2yyyTLAyiabbLLJMsDKJptssskywMomm2yyyTLAyiabbLLJMsDKJptssskywMomm2yyyTLAyiabbLLJMsDKJptssskywMomm2yyyTLAyiabbLLJMsDKJptssskywMomm2yyyTLAyiabbLLJMsDKJptssskywMomm2yyyTLAyiabbLLJMsDKJptssskywMomm2yyyTLAyiabbLLJMsDKJptssskywMomm2yyyTLAyiabbLLJMsDKJptssskywMomm2yyyTLAyiabbLLJMsDKJptssskywMomm2yyyTLAyiabbLLJMsDKJptssskywMomm2yyyTLAyiabbLLJMsDKJptssskywMomm2yyyTLAyiabbLLJMsDKJptssskywMomm2yyyTLAyiabbLLJMsDKJptssskywMomm2yyyTLAyiabbLLJMsDKJptssskywMomm2yyyTLAyiabbLLJMsDKJptssskywMomm2yyyTLAyiabbLLJMsDKJptssskywMomm2yyyTLAyiabbLLJMsDKJptssskywMomm2yyyTLAyiabbLLJMsDKJptssskywMomm2yyyTLAyiabbLLJMsDKJptssskywMomm2yyyTLAyiabbLLJMsDKJptssskywMomm2yyyTLAyiabbLLJMsDKJptssskywMomm2yyyTLAyiabbLLJMsDKJptssskywMomm2yyyTLAyiabbLLJMsDKJptssskywMomm2yyyTLAyiabbLLJMsDKJptssskywMomm2yyyTLAyiabbLLJMsDKJptssskywMomm2yyyTLAyiabbLLJMsDKJptssskywMomm2yyyTLAyiabbLLJMsANiXk7Q2IywA2JeTtDYjLADYl5O0NiMsANiXk7Q2IywA2JeTtDYjLADYl5O0NiMsANiXk7Q2IywA2JeTtDYjLADYl5O0NiMsANiXk7Q2IywA2JeTtDYjLADYl5O0NiMsANiXk7Q2IywA2JeTtDYjLADYl5O0NiMsANiXk7Q2IywA2JeTtDYjLADYl5O0NiMsANiXk7Q2IywA2JeTtDYjLADYl5O0NiMsANiXk7Q2IywA2JeTtDYjLADYl5O0NiMsANiXk7Q2IywA2JeTtDYjLADYl5O0NiMsANiXk7Q2IywA2JeTtDYjLADYl5O0NiMsANiXk7Q2IywA2JeTtDYjLADYl5O0NiMsANiXk7Q2IywA2JeTtDYjLADYl5O0NiMsANiXk7Q2IywA2JeTtDYjLADYl5O0NiMsANiXk7Q2IywA2JeTtDYjLADYl5O0NiMsANiXk7Q2IywA2JeTtDYjLADYl5O0NiMsANiXk7Q2IywA2JeTtDYjLADYl5O0NiMsANiXk7Q2IywA2JeTtDYjLADYl5O0NiMsANiXk7Q2IywA2JeTtDYjLADYl5O0NiMsANiXk7Q2IywA2JeTtDYjLADYl5O0NiMsANiXk7Q2IywA2JeTtDYjLADYl5O0NiMsANiXk7Q2IywA2JeTtDYjLADYl5O0NiMsANiXk7Q2IywA2JeTtDYjLADYl5O0NiMsANiXk7Q2IywA2JeTtDYjLADYl5O0NiMsANiXk7Q2IywA2JeTtDYjLADYl5O0NiMsANiXk7Q2IywA2JeTtDYjLADYl5O0NiMsANiXk7Q2IywA2JeTtDYjLADYl5O0NiMsANiXk7Q2IywA2JeTtDYjLADYl5O0NiMsANiXk7Q2IywA2JeTtDYjLADYl5O0NiMsANiXk7Q2IywA2JeTtDYjLADYl5O0NiMsANiXk7Q2IywA2JeTtDYjLADYl5O0NiMsANiXk7Q2IywA2JeTtDYjLADYl5O0NiMsANiXk7Q2IywA2JeTtDYjLADYl5O0NiMsANiXk7Q2IywA2JeTtDYjLADYl5O0NiMsANiXk7Q2IywFDrVwrU+jHAUOtXCtT6McBQ61cK1PoxwFDrVwrU+jHAUOtXCtT6McBQ61cK1PoxwFDrVwrU+jHAUOtXCtT6McBQ61cK1PoxwFDrVwrU+jHAUOtXCtT6McBQ61cK1PoxwFDrVwrU+jHAUOtXCtT6McBQ61cK1PoxwFDrVwrU+jHAUOtXCtT6McBQ61cK1PoxwFDrVwrU+jHAUOtXCtT6McBQ61cK1PoxwFDrVwrU+jHAUOtXCtT6McBQ61cK1PoxwFDrVwrU+jHAUOtXCtT6McBQ61cK1PoxwFDrVwrU+jHAUOtXCtT6McBQ61cK1PoxwFDrVwrU+jHAUOtXCtT6McBQ61cK1PoxwFDrVwrU+jHAUOtXCtT6McBQ61cK1PoxwFDrVwrU+jHAUOtXCtT6McBQ61cK1PoxwFDrVwrU+jHAUOtXCtT6McBQ61cK1PoxwFDrVwrU+jHAUOtXCtT6McBQ61cK1PoxwFDrVwrU+jHAUOtXCtT6McBQ61cK1PoxwFDrVwrU+jHAUOtXCtT6McBQ61cK1PoxwFDrVwrU+jHAUOtXCtT6McBQ61cK1PoxwFDrVwrU+jHAUOtXCtT6McBQ61cK1PoxwFDrVwrU+jHAUOtXCtT6McBQ61cK1PoxwFDrVwrU+jHAUOtXCtT6McBQ61cK1PoxwFDrVwrU+jHAUOtXCtT6McBQ61cK1PoxwFDrVwrU+jHAUOtXCtT6McBQ61cK1PoxwFDrVwrU+jHAUOtXCtT6McBQ61cK1PoxwFDrVwrU+jHAUOtXCtT6McBQ61cK1PoxwFDrVwrU+jHAUOtXCtT6McBQ61cK1PoxwFDrVwrU+jHAUOtXCtT6McBQ61cK1PoxwFDrVwrU+jHAUOtXCtT6McBQ61cK1PoxwFDrVwrU+jHAUOtXCtT6McBQ61cK1PoxwFDrVwrU+jHAUOtXCtT6McBQ61cK1PoxwFDrVwrU+jHAUOtXCtT6McBQ61cK1PoxwFDrVwrU+jHAUOtXCtT6McBQ61cK1PoxwFDrVwrU+jHAUOtXCtT6McBQ61cK1PoxwFDrVwrU+jHAk0022WSTMcCTTTbZZJMxwJNNNtlkkzHAk0022WSTMcCTTTbZZJMxwJNNNtlkkzHAk0022WSTMcCTTTbZZJMxwJNNNtlkkzHAk0022WSTMcCTTTbZZJMxwJNNNtlkkzHAk0022WSTMcCTTTbZZJMxwJNNNtlkkzHAk0022WSTMcCTTTbZZJMxwJNNNtlkkzHAk0022WSTMcCTTTbZZJMxwJNNNtlkkzHAk0022WSTMcCTTTbZZJMxwJNNNtlkkzHAk0022WSTMcCTTTbZZJMxwJNNNtlkkzHAk0022WSTMcCTTTbZZJMxwJNNNtlkkzHAk0022WSTMcCTTTbZZJMxwJNNNtlkkzHAk0022WSTMcCTTTbZZJMxwJNNNtlkkzHAk0022WSTMcCTTTbZZJMxwJNNNtlkkzHAk0022WSTMcCTTTbZZJMxwJNNNtlkkzHAk0022WSTMcCTTTbZZJMxwJNNNtlkkzHAk0022WSTMcCTTTbZZJMxwJNNNtlkkzHAk0022WSTMcCTTTbZZJMxwJNNNtlkkzHAk0022WSTMcCTTTbZZJMxwJNNNtlkkzHAk0022WSTMcCTTTbZZJMxwJNNNtlkkzHAk0022WSTMcCTTTbZZJMxwJNNNtlkkzHAk0022WSTMcCTTTbZZJMxwJNNNtlkkzHAk0022WSTMcCTTTbZZJMxwJNNNtlkkzHAk0022WSTMcCTTTbZZJMxwJNNNtlkkzHAk0022WSTMcCTTTbZZJMxwJNNNtlkkzHAk0022WSTMcCTTTbZZJMxwJNNNtlkkzHAk0022WSTMcCTTTbZZJMxwJNNNtlkkzHAk0022WSTMcCTTTbZZJMxwJNNNtlkkzHAk0022WSTMcCTTTbZZJMxwJNNNtlkkzHAk0022WSTMcCTTTbZZJMxwJNNNtlkkzHAk0022WSTMcCTTTbZZJMxwJNNNtlkkzHAk0022WSTMcCTTTbZZJMxwJNNNtlkkzHAk0022WSTMcCTTTbZZJMxwJNNNtlkkzHAk0022WSTMcCTTTbZZJMxwJNNNtlkkzHAk0022WSTMcDXrxSo9SsxwNevFKj1KzHA168UqPUrMcDXrxSo9SsxwNevFKj1KzHA168UqPUrMcDXrxSo9SsxwNevFKj1KzHA168UqPUrMcDXrxSo9SsxwNevFKj1KzHA168UqPUrMcDXrxSo9SsxwNevFKj1KzHA168UqPUrMcDXrxSo9SsxwNevFKj1KzHA168UqPUrMcDXrxSo9SsxwNevFKj1KzHA168UqPUrMcDXrxSo9SsxwNevFKj1KzHA168UqPUrMcDXrxSo9SsxwNevFKj1KzHA168UqPUrMcDXrxSo9SsxwNevFKj1KzHA168UqPUrMcDXrxSo9SsxwNevFKj1KzHA168UqPUrMcDXrxSo9SsxwNevFKj1KzHA168UqPUrMcDXrxSo9SsxwNevFKj1KzHA168UqPUrMcDXrxSo9SsxwNevFKj1KzHA168UqPUrMcDXrxSo9SsxwNevFKj1KzHA168UqPUrMcDXrxSo9SsxwNevFKj1KzHA168UqPUrMcDXrxSo9SsxwNevFKj1KzHA168UqPUrMcDXrxSo9SsxwNevFKj1KzHA168UqPUrMcDXrxSo9SsxwNevFKj1KzHA168UqPUrMcDXrxSo9SsxwNevFKj1KzHA168UqPUrMcDXrxSo9SsxwNevFKj1KzHA168UqPUrMcDXrxSo9SsxwNevFKj1KzHA168UqPUrMcDXrxSo9SsxwNevFKj1KzHA168UqPUrMcDXrxSo9SsxwNevFKj1KzHA168UqPUrMcDXrxSo9SsxwNevFKj1KzHA168UqPUrMcDXrxSo9SsxwNevFKj1KzHA168UqPUrMcDXrxSo9SsxwNevFKj1KzHA168UqPUrMcDXrxSo9SsxwNevFKj1KzHA168UqPUrMcDXrxSo9SsxwNevFKj1KzHA168UqPUrMcDXrxSo9SsxwNevFKj1KzHA168UqPUrMcDXrxSo9SsxwNevFKj1KzHA168UqPUrMcDXrxSo9SsxwNevFKj1KzHA168UqPUrMcDXrxSo9SsxwNevFKj1KzHA168UqPUrMcDXrxSo9SsxwBoS83aGxDDAGhLzdobEMMAaEvN2hsQwwBoS83aGxDDAGhLzdobEMMAaEvN2hsQwwBoS83aGxDDAGhLzdobEMMAaEvN2hsQwwBoS83aGxDDAGhLzdobEMMAaEvN2hsQwwBoS83aGxDDAGhLzdobEMMAaEvN2hsQwwBoS83aGxDDAGhLzdobEMMAaEvN2hsQwwBoS83aGxDDAGhLzdobEMMAaEvN2hsQwwBoS83aGxDDAGhLzdobEMMAaEvN2hsQwwBoS83aGxDDAGhLzdobEMMAaEvN2hsQwwBoS83aGxDDAGhLzdobEMMAaEvN2hsQwwBoS83aGxDDAGhLzdobEMMAaEvN2hsQwwBoS83aGxDDAGhLzdobEMMAaEvN2hsQwwBoS83aGxDDAGhLzdobEMMAaEvN2hsQwwBoS83aGxDDAGhLzdobEMMAaEvN2hsQwwBoS83aGxDDAGhLzdobEMMAaEvN2hsQwwBoS83aGxDDAGhLzdobEMMAaEvN2hsQwwBoS83aGxDDAGhLzdobEMMAaEvN2hsQwwBoS83aGxDDAGhLzdobEMMAaEvN2hsQwwBoS83aGxDDAGhLzdobEMMAaEvN2hsQwwBoS83aGxDDAGhLzdobEMMAaEvN2hsQwwBoS83aGxDDAGhLzdobEMMAaEvN2hsQwwBoS83aGxDDAGhLzdobEMMAaEvN2hsQwwBoS83aGxDDAGhLzdobEMMAaEvN2hsQwwBoS83aGxDDAGhLzdobEMMAaEvN2hsQwwBoS83aGxDDAGhLzdobEMMAaEvN2hsQwwBoS83aGxDDAGhLzdobEMMAaEvN2hsQwwBoS83aGxDDAGhLzdobEMMAaEvN2hsQwwBoS83aGxDDAGhLzdobEMMAaEvN2hsQwwBoS83aGxDDAGhLzdobEMMAaEvN2hsQwwBoS83aGxDDAGhLzdobEMMAaEvN2hsQwwBoS83aGxDDAGhLzdobEMMAaEvN2hsQwwBoS83aGxDDAGhLzdobEMMAaEvN2hsQwwBoS83aGxDDAGhLzdobEMMAaEvN2hsQwwBoS83aGxDDAXXTRRRddMMBddNFFF10wwF100UUXXTDAXXTRRRddMMBddNFFF10wwF100UUXXTDAXXTRRRddMMBddNFFF10wwF100UUXXTDAXXTRRRddMMBddNFFF10wwF100UUXXTDAXXTRRRddMMBddNFFF10wwF100UUXXTDAXXTRRRddMMBddNFFF10wwF100UUXXTDAXXTRRRddMMBddNFFF10wwF100UUXXTDAXXTRRRddMMBddNFFF10wwF100UUXXTDAXXTRRRddMMBddNFFF10wwF100UUXXTDAXXTRRRddMMBddNFFF10wwF100UUXXTDAXXTRRRddMMBddNFFF10wwF100UUXXTDAXXTRRRddMMBddNFFF10wwF100UUXXTDAXXTRRRddMMBddNFFF10wwF100UUXXTDAXXTRRRddMMBddNFFF10wwF100UUXXTDAXXTRRRddMMBddNFFF10wwF100UUXXTDAXXTRRRddMMBddNFFF10wwF100UUXXTDAXXTRRRddMMBddNFFF10wwF100UUXXTDAXXTRRRddMMBddNFFF10wwF100UUXXTDAXXTRRRddMMBddNFFF10wwF100UUXXTDAXXTRRRddMMBddNFFF10wwF100UUXXTDAXXTRRRddMMBddNFFF10wwF100UUXXTDAXXTRRRddMMBddNFFF10wwF100UUXXTDAXXTRRRddMMBddNFFF10wwF100UUXXTDAXXTRRRddMMBddNFFF10wwF100UUXXTDAXXTRRRddMMBddNFFF10wwF100UUXXTDAXXTRRRddMMBddNFFF10wwF100UUXXTDAXXTRRRddMMBddNFFF10wwF100UUXXTDAXXTRRRddMMBddNFFF10wwF100UUXXTDAXXTRRRddMMBddNFFF10wwF100UUXXTDAXXTRRRddMMBddNFFF10wwF100UUXXTDAXXTRRRddMMBddNFFF10wwF100UUXXTDAXXTRRRddMMBddNFFF10wwF100UUXXTDAXXTRRRddMMBddNFFF10wwF100UUXXTDAXXTRRRddMMBArV8pUOsvwECtXylQ6y/AQK1fKVDrL8BArV8pUOsvwECtXylQ6y/AQK1fKVDrL8BArV8pUOsvwECtXylQ6y/AQK1fKVDrL8BArV8pUOsvwECtXylQ6y/AQK1fKVDrL8BArV8pUOsvwECtXylQ6y/AQK1fKVDrL8BArV8pUOsvwECtXylQ6y/AQK1fKVDrL8BArV8pUOsvwECtXylQ6y/AQK1fKVDrL8BArV8pUOsvwECtXylQ6y/AQK1fKVDrL8BArV8pUOsvwECtXylQ6y/AQK1fKVDrL8BArV8pUOsvwECtXylQ6y/AQK1fKVDrL8BArV8pUOsvwECtXylQ6y/AQK1fKVDrL8BArV8pUOsvwECtXylQ6y/AQK1fKVDrL8BArV8pUOsvwECtXylQ6y/AQK1fKVDrL8BArV8pUOsvwECtXylQ6y/AQK1fKVDrL8BArV8pUOsvwECtXylQ6y/AQK1fKVDrL8BArV8pUOsvwECtXylQ6y/AQK1fKVDrL8BArV8pUOsvwECtXylQ6y/AQK1fKVDrL8BArV8pUOsvwECtXylQ6y/AQK1fKVDrL8BArV8pUOsvwECtXylQ6y/AQK1fKVDrL8BArV8pUOsvwECtXylQ6y/AQK1fKVDrL8BArV8pUOsvwECtXylQ6y/AQK1fKVDrL8BArV8pUOsvwECtXylQ6y/AQK1fKVDrL8BArV8pUOsvwECtXylQ6y/AQK1fKVDrL8BArV8pUOsvwECtXylQ6y/AQK1fKVDrL8BArV8pUOsvwECtXylQ6y/AQK1fKVDrL8BArV8pUOsvwECtXylQ6y/AQK1fKVDrL8BArV8pUOsvwECtXylQ6y/AQK1fKVDrL8BArV8pUOsvwECtXylQ6y/AQK1fKVDrL8BArV8pUOsvwECtXylQ6y/AQK1fKVDrL8BArV8pUOsvwECtXylQ6y/AQK1fKVDrL8BArV8pUOsvwECtXylQ6y/AQK1fKVDrL8BArV8pUOsvwECtXylQ6y/AQK1fKVDrL8BArV8pUOsvwECtXylQ6y/AQK1fKVDrL8BArV8pUOsvwMdxHMdxHC/Ax3Ecx3EcL8DHcRzHcRwvwMdxHMdxHC/Ax3Ecx3EcL8DHcRzHcRwvwMdxHMdxHC/Ax3Ecx3EcL8DHcRzHcRwvwMdxHMdxHC/Ax3Ecx3EcL8DHcRzHcRwvwMdxHMdxHC/Ax3Ecx3EcL8DHcRzHcRwvwMdxHMdxHC/Ax3Ecx3EcL8DHcRzHcRwvwMdxHMdxHC/Ax3Ecx3EcL8DHcRzHcRwvwMdxHMdxHC/Ax3Ecx3EcL8DHcRzHcRwvwMdxHMdxHC/Ax3Ecx3EcL8DHcRzHcRwvwMdxHMdxHC/Ax3Ecx3EcL8DHcRzHcRwvwMdxHMdxHC/Ax3Ecx3EcL8DHcRzHcRwvwMdxHMdxHC/Ax3Ecx3EcL8DHcRzHcRwvwMdxHMdxHC/Ax3Ecx3EcL8DHcRzHcRwvwMdxHMdxHC/Ax3Ecx3EcL8DHcRzHcRwvwMdxHMdxHC/Ax3Ecx3EcL8DHcRzHcRwvwMdxHMdxHC/Ax3Ecx3EcL8DHcRzHcRwvwMdxHMdxHC/Ax3Ecx3EcL8DHcRzHcRwvwMdxHMdxHC/Ax3Ecx3EcL8DHcRzHcRwvwMdxHMdxHC/Ax3Ecx3EcL8DHcRzHcRwvwMdxHMdxHC/Ax3Ecx3EcL8DHcRzHcRwvwMdxHMdxHC/Ax3Ecx3EcL8DHcRzHcRwvwMdxHMdxHC/Ax3Ecx3EcL8DHcRzHcRwvwMdxHMdxHC/Ax3Ecx3EcL8DHcRzHcRwvwMdxHMdxHC/Ax3Ecx3EcL8DHcRzHcRwvwMdxHMdxHC/Ax3Ecx3EcL8DHcRzHcRwvwMdxHMdxHC/Ax3Ecx3EcL8DHcRzHcRwvwMdxHMdxHC/Ax3Ecx3EcL8DHcRzHcRwvwMdxHMdxHC/Ax3Ecx3EcL8DHcRzHcRwvwMdxHMdxHC/Ax3Ecx3EcL8DHcRzHcRwvwMdxHMdxHC/Ax3Ecx3EcL8DHcRzHcRwvwMdxHMdxHC/Ax3Ecx3EcL8DHcRzHcRwvwMdxHMdxHC/Ax3Ecx3EcL8DHcRzHcRwvwMdxHMdxHC/Ax3Ecx3EcL8DHcRzHcRwvwMdxHMdxHC/ATjbZZJNNLsBONtlkk00uwE422WSTTS7ATjbZZJNNLsBONtlkk00uwE422WSTTS7ATjbZZJNNLsBONtlkk00uwE422WSTTS7ATjbZZJNNLsBONtlkk00uwE422WSTTS7ATjbZZJNNLsBONtlkk00uwE422WSTTS7ATjbZZJNNLsBONtlkk00uwE422WSTTS7ATjbZZJNNLsBONtlkk00uwE422WSTTS7ATjbZZJNNLsBONtlkk00uwE422WSTTS7ATjbZZJNNLsBONtlkk00uwE422WSTTS7ATjbZZJNNLsBONtlkk00uwE422WSTTS7ATjbZZJNNLsBONtlkk00uwE422WSTTS7ATjbZZJNNLsBONtlkk00uwE422WSTTS7ATjbZZJNNLsBONtlkk00uwE422WSTTS7ATjbZZJNNLsBONtlkk00uwE422WSTTS7ATjbZZJNNLsBONtlkk00uwE422WSTTS7ATjbZZJNNLsBONtlkk00uwE422WSTTS7ATjbZZJNNLsBONtlkk00uwE422WSTTS7ATjbZZJNNLsBONtlkk00uwE422WSTTS7ATjbZZJNNLsBONtlkk00uwE422WSTTS7ATjbZZJNNLsBONtlkk00uwE422WSTTS7ATjbZZJNNLsBONtlkk00uwE422WSTTS7ATjbZZJNNLsBONtlkk00uwE422WSTTS7ATjbZZJNNLsBONtlkk00uwE422WSTTS7ATjbZZJNNLsBONtlkk00uwE422WSTTS7ATjbZZJNNLsBONtlkk00uwE422WSTTS7ATjbZZJNNLsBONtlkk00uwE422WSTTS7ATjbZZJNNLsBONtlkk00uwE422WSTTS7ATjbZZJNNLsBONtlkk00uwE422WSTTS7ATjbZZJNNLsBONtlkk00uwE422WSTTS7ATjbZZJNNLsBONtlkk00uwE422WSTTS7ATjbZZJNNLsBONtlkk00uwE422WSTTS7ATjbZZJNNLsBONtlkk00uwE422WSTTS7ATjbZZJNNLsBONtlkk00uwE422WSTTS7ATjbZZJNNLsDU+pUCtX4twNT6lQK1fi3A1PqVArV+LcDU+pUCtX4twNT6lQK1fi3A1PqVArV+LcDU+pUCtX4twNT6lQK1fi3A1PqVArV+LcDU+pUCtX4twNT6lQK1fi3A1PqVArV+LcDU+pUCtX4twNT6lQK1fi3A1PqVArV+LcDU+pUCtX4twNT6lQK1fi3A1PqVArV+LcDU+pUCtX4twNT6lQK1fi3A1PqVArV+LcDU+pUCtX4twNT6lQK1fi3A1PqVArV+LcDU+pUCtX4twNT6lQK1fi3A1PqVArV+LcDU+pUCtX4twNT6lQK1fi3A1PqVArV+LcDU+pUCtX4twNT6lQK1fi3A1PqVArV+LcDU+pUCtX4twNT6lQK1fi3A1PqVArV+LcDU+pUCtX4twNT6lQK1fi3A1PqVArV+LcDU+pUCtX4twNT6lQK1fi3A1PqVArV+LcDU+pUCtX4twNT6lQK1fi3A1PqVArV+LcDU+pUCtX4twNT6lQK1fi3A1PqVArV+LcDU+pUCtX4twNT6lQK1fi3A1PqVArV+LcDU+pUCtX4twNT6lQK1fi3A1PqVArV+LcDU+pUCtX4twNT6lQK1fi3A1PqVArV+LcDU+pUCtX4twNT6lQK1fi3A1PqVArV+LcDU+pUCtX4twNT6lQK1fi3A1PqVArV+LcDU+pUCtX4twNT6lQK1fi3A1PqVArV+LcDU+pUCtX4twNT6lQK1fi3A1PqVArV+LcDU+pUCtX4twNT6lQK1fi3A1PqVArV+LcDU+pUCtX4twNT6lQK1fi3A1PqVArV+LcDU+pUCtX4twNT6lQK1fi3A1PqVArV+LcDU+pUCtX4twNT6lQK1fi3A1PqVArV+LcDU+pUCtX4twNT6lQK1fi3A1PqVArV+LcDU+pUCtX4twNT6lQK1fi3A1PqVArV+LcDU+pUCtX4twNT6lQK1fi3A1PqVArV+LcDU+pUCtX4twNT6lQK1fi3A1PqVArV+LcDU+pUCtX4twNT6lQK1fi3A1PqVArV+LcDU+pUCtX4twNT6lQK1fi3A1PqVArV+LcDU+pUCtX4twFq/UqDWryzAWr9SoNavLMBav1Kg1q8swFq/UqDWryzAWr9SoNavLMBav1Kg1q8swFq/UqDWryzAWr9SoNavLMBav1Kg1q8swFq/UqDWryzAWr9SoNavLMBav1Kg1q8swFq/UqDWryzAWr9SoNavLMBav1Kg1q8swFq/UqDWryzAWr9SoNavLMBav1Kg1q8swFq/UqDWryzAWr9SoNavLMBav1Kg1q8swFq/UqDWryzAWr9SoNavLMBav1Kg1q8swFq/UqDWryzAWr9SoNavLMBav1Kg1q8swFq/UqDWryzAWr9SoNavLMBav1Kg1q8swFq/UqDWryzAWr9SoNavLMBav1Kg1q8swFq/UqDWryzAWr9SoNavLMBav1Kg1q8swFq/UqDWryzAWr9SoNavLMBav1Kg1q8swFq/UqDWryzAWr9SoNavLMBav1Kg1q8swFq/UqDWryzAWr9SoNavLMBav1Kg1q8swFq/UqDWryzAWr9SoNavLMBav1Kg1q8swFq/UqDWryzAWr9SoNavLMBav1Kg1q8swFq/UqDWryzAWr9SoNavLMBav1Kg1q8swFq/UqDWryzAWr9SoNavLMBav1Kg1q8swFq/UqDWryzAWr9SoNavLMBav1Kg1q8swFq/UqDWryzAWr9SoNavLMBav1Kg1q8swFq/UqDWryzAWr9SoNavLMBav1Kg1q8swFq/UqDWryzAWr9SoNavLMBav1Kg1q8swFq/UqDWryzAWr9SoNavLMBav1Kg1q8swFq/UqDWryzAWr9SoNavLMBav1Kg1q8swFq/UqDWryzAWr9SoNavLMBav1Kg1q8swFq/UqDWryzAWr9SoNavLMBav1Kg1q8swFq/UqDWryzAWr9SoNavLMBav1Kg1q8swFq/UqDWryzAWr9SoNavLMBav1Kg1q8swFq/UqDWryzAWr9SoNavLMBav1Kg1q8swFq/UqDWryzAWr9SoNavLMBav1Kg1q8swFq/UqDWryzAWr9SoNavLMBav1Kg1q8swFq/UqDWryzAWr9SoNavLMBav1Kg1q8swFq/UqDWryzA4YMPPvjgK8Dhgw8++OArwOGDDz744CvA4YMPPvjgK8Dhgw8++OArwOGDDz744CvA4YMPPvjgK8Dhgw8++OArwOGDDz744CvA4YMPPvjgK8Dhgw8++OArwOGDDz744CvA4YMPPvjgK8Dhgw8++OArwOGDDz744CvA4YMPPvjgK8Dhgw8++OArwOGDDz744CvA4YMPPvjgK8Dhgw8++OArwOGDDz744CvA4YMPPvjgK8Dhgw8++OArwOGDDz744CvA4YMPPvjgK8Dhgw8++OArwOGDDz744CvA4YMPPvjgK8Dhgw8++OArwOGDDz744CvA4YMPPvjgK8Dhgw8++OArwOGDDz744CvA4YMPPvjgK8Dhgw8++OArwOGDDz744CvA4YMPPvjgK8Dhgw8++OArwOGDDz744CvA4YMPPvjgK8Dhgw8++OArwOGDDz744CvA4YMPPvjgK8Dhgw8++OArwOGDDz744CvA4YMPPvjgK8Dhgw8++OArwOGDDz744CvA4YMPPvjgK8Dhgw8++OArwOGDDz744CvA4YMPPvjgK8Dhgw8++OArwOGDDz744CvA4YMPPvjgK8Dhgw8++OArwOGDDz744CvA4YMPPvjgK8Dhgw8++OArwOGDDz744CvA4YMPPvjgK8Dhgw8++OArwOGDDz744CvA4YMPPvjgK8Dhgw8++OArwOGDDz744CvA4YMPPvjgK8Dhgw8++OArwOGDDz744CvA4YMPPvjgK8Dhgw8++OArwOGDDz744CvA4YMPPvjgK8Dhgw8++OArwOGDDz744CvA4YMPPvjgK8Dhgw8++OArwOGDDz744CvA4YMPPvjgK8Dhgw8++OArwOGDDz744CvA4YMPPvjgK8Dhgw8++OArwOGDDz744CvA4YMPPvjgK8Dhgw8++OArwOGDDz744CvA4YMPPvjgK8Dhgw8++OArwOGDDz744CvA4YMPPvjgK8Dhgw8++OArwOGDDz744CvA4YMPPvjgK8Dhgw8++OArwOGDDz744CvA4YMPPvjgK8Dhgw8++OArwOGDDz744CvA4YMPPvjgK8BoSMzbGRIrwGhIzNsZEivAaEjM2xkSK8BoSMzbGRIrwGhIzNsZEivAaEjM2xkSK8BoSMzbGRIrwGhIzNsZEivAaEjM2xkSK8BoSMzbGRIrwGhIzNsZEivAaEjM2xkSK8BoSMzbGRIrwGhIzNsZEivAaEjM2xkSK8BoSMzbGRIrwGhIzNsZEivAaEjM2xkSK8BoSMzbGRIrwGhIzNsZEivAaEjM2xkSK8BoSMzbGRIrwGhIzNsZEivAaEjM2xkSK8BoSMzbGRIrwGhIzNsZEivAaEjM2xkSK8BoSMzbGRIrwGhIzNsZEivAaEjM2xkSK8BoSMzbGRIrwGhIzNsZEivAaEjM2xkSK8BoSMzbGRIrwGhIzNsZEivAaEjM2xkSK8BoSMzbGRIrwGhIzNsZEivAaEjM2xkSK8BoSMzbGRIrwGhIzNsZEivAaEjM2xkSK8BoSMzbGRIrwGhIzNsZEivAaEjM2xkSK8BoSMzbGRIrwGhIzNsZEivAaEjM2xkSK8BoSMzbGRIrwGhIzNsZEivAaEjM2xkSK8BoSMzbGRIrwGhIzNsZEivAaEjM2xkSK8BoSMzbGRIrwGhIzNsZEivAaEjM2xkSK8BoSMzbGRIrwGhIzNsZEivAaEjM2xkSK8BoSMzbGRIrwGhIzNsZEivAaEjM2xkSK8BoSMzbGRIrwGhIzNsZEivAaEjM2xkSK8BoSMzbGRIrwGhIzNsZEivAaEjM2xkSK8BoSMzbGRIrwGhIzNsZEivAaEjM2xkSK8BoSMzbGRIrwGhIzNsZEivAaEjM2xkSK8BoSMzbGRIrwGhIzNsZEivAaEjM2xkSK8BoSMzbGRIrwGhIzNsZEivAaEjM2xkSK8BoSMzbGRIrwGhIzNsZEivAaEjM2xkSK8BoSMzbGRIrwGhIzNsZEivAaEjM2xkSK8BoSMzbGRIrwGhIzNsZEivAaEjM2xkSK8BoSMzbGRIrwGhIzNsZEivAaEjM2xkSK8BoSMzbGRIrwGhIzNsZEivAaEjM2xkSK8BoSMzbGRIrwGhIzNsZEivAaEjM2xkSK8BoSMzbGRIrwO4MiXk7QyrA7gyJeTtDKsDuDIl5O0MqwO4MiXk7QyrA7gyJeTtDKsDuDIl5O0MqwO4MiXk7QyrA7gyJeTtDKsDuDIl5O0MqwO4MiXk7QyrA7gyJeTtDKsDuDIl5O0MqwO4MiXk7QyrA7gyJeTtDKsDuDIl5O0MqwO4MiXk7QyrA7gyJeTtDKsDuDIl5O0MqwO4MiXk7QyrA7gyJeTtDKsDuDIl5O0MqwO4MiXk7QyrA7gyJeTtDKsDuDIl5O0MqwO4MiXk7QyrA7gyJeTtDKsDuDIl5O0MqwO4MiXk7QyrA7gyJeTtDKsDuDIl5O0MqwO4MiXk7QyrA7gyJeTtDKsDuDIl5O0MqwO4MiXk7QyrA7gyJeTtDKsDuDIl5O0MqwO4MiXk7QyrA7gyJeTtDKsDuDIl5O0MqwO4MiXk7QyrA7gyJeTtDKsDuDIl5O0MqwO4MiXk7QyrA7gyJeTtDKsDuDIl5O0MqwO4MiXk7QyrA7gyJeTtDKsDuDIl5O0MqwO4MiXk7QyrA7gyJeTtDKsDuDIl5O0MqwO4MiXk7QyrA7gyJeTtDKsDuDIl5O0MqwO4MiXk7QyrA7gyJeTtDKsDuDIl5O0MqwO4MiXk7QyrA7gyJeTtDKsDuDIl5O0MqwO4MiXk7QyrA7gyJeTtDKsDuDIl5O0MqwO4MiXk7QyrA7gyJeTtDKsDuDIl5O0MqwO4MiXk7QyrA7gyJeTtDKsDuDIl5O0MqwO4MiXk7QyrA7gyJeTtDKsDuDIl5O0MqwO4MiXk7QyrA7gyJeTtDKsDuDIl5O0MqwO4MiXk7QyrA7gyJeTtDKsDuDIl5O0MqwO4MiXk7QyrA7gyJeTtDKsDuDIl5O0MqwO4MiXk7QyrA7gyJeTtDKsDuDIl5O0MqwO4MiXk7QyrA7gyJeTtDKsDuDIl5O0MqwO4MiXk7QyrA7gyJeTtDKsDuDIl5O0MqwO4MiXk7QyrA7gyJeTtDKsDuDIl5O0MqwO4MiXk7QyrA7gyJeTtDKsDuDIl5O0MqwO4MiXk7QyrA7gyJeTtDKsDuDIl5O0MqwO4MiXk7QyrAdNFFF110KcB00UUXXXQpwHTRRRdddCnAdNFFF110KcB00UUXXXQpwHTRRRdddCnAdNFFF110KcB00UUXXXQpwHTRRRdddCnAdNFFF110KcB00UUXXXQpwHTRRRdddCnAdNFFF110KcB00UUXXXQpwHTRRRdddCnAdNFFF110KcB00UUXXXQpwHTRRRdddCnAdNFFF110KcB00UUXXXQpwHTRRRdddCnAdNFFF110KcB00UUXXXQpwHTRRRdddCnAdNFFF110KcB00UUXXXQpwHTRRRdddCnAdNFFF110KcB00UUXXXQpwHTRRRdddCnAdNFFF110KcB00UUXXXQpwHTRRRdddCnAdNFFF110KcB00UUXXXQpwHTRRRdddCnAdNFFF110KcB00UUXXXQpwHTRRRdddCnAdNFFF110KcB00UUXXXQpwHTRRRdddCnAdNFFF110KcB00UUXXXQpwHTRRRdddCnAdNFFF110KcB00UUXXXQpwHTRRRdddCnAdNFFF110KcB00UUXXXQpwHTRRRdddCnAdNFFF110KcB00UUXXXQpwHTRRRdddCnAdNFFF110KcB00UUXXXQpwHTRRRdddCnAdNFFF110KcB00UUXXXQpwHTRRRdddCnAdNFFF110KcB00UUXXXQpwHTRRRdddCnAdNFFF110KcB00UUXXXQpwHTRRRdddCnAdNFFF110KcB00UUXXXQpwHTRRRdddCnAdNFFF110KcB00UUXXXQpwHTRRRdddCnAdNFFF110KcB00UUXXXQpwHTRRRdddCnAdNFFF110KcB00UUXXXQpwHTRRRdddCnAdNFFF110KcB00UUXXXQpwHTRRRdddCnAdNFFF110KcB00UUXXXQpwHTRRRdddCnAdNFFF110KcB00UUXXXQpwHTRRRdddCnAdNFFF110KcB00UUXXXQpwHTRRRdddCnAdNFFF110KcB00UUXXXQpwHTRRRdddCnAdNFFF110KcB00UUXXXQpwHTRRRdddCnAdNFFF110KcB00UUXXXQpwHTRRRdddCnAdNFFF110KcD7lQK1fqUowPuVArV+pSjA+5UCtX6lKMD7lQK1fqUowPuVArV+pSjA+5UCtX6lKMD7lQK1fqUowPuVArV+pSjA+5UCtX6lKMD7lQK1fqUowPuVArV+pSjA+5UCtX6lKMD7lQK1fqUowPuVArV+pSjA+5UCtX6lKMD7lQK1fqUowPuVArV+pSjA+5UCtX6lKMD7lQK1fqUowPuVArV+pSjA+5UCtX6lKMD7lQK1fqUowPuVArV+pSjA+5UCtX6lKMD7lQK1fqUowPuVArV+pSjA+5UCtX6lKMD7lQK1fqUowPuVArV+pSjA+5UCtX6lKMD7lQK1fqUowPuVArV+pSjA+5UCtX6lKMD7lQK1fqUowPuVArV+pSjA+5UCtX6lKMD7lQK1fqUowPuVArV+pSjA+5UCtX6lKMD7lQK1fqUowPuVArV+pSjA+5UCtX6lKMD7lQK1fqUowPuVArV+pSjA+5UCtX6lKMD7lQK1fqUowPuVArV+pSjA+5UCtX6lKMD7lQK1fqUowPuVArV+pSjA+5UCtX6lKMD7lQK1fqUowPuVArV+pSjA+5UCtX6lKMD7lQK1fqUowPuVArV+pSjA+5UCtX6lKMD7lQK1fqUowPuVArV+pSjA+5UCtX6lKMD7lQK1fqUowPuVArV+pSjA+5UCtX6lKMD7lQK1fqUowPuVArV+pSjA+5UCtX6lKMD7lQK1fqUowPuVArV+pSjA+5UCtX6lKMD7lQK1fqUowPuVArV+pSjA+5UCtX6lKMD7lQK1fqUowPuVArV+pSjA+5UCtX6lKMD7lQK1fqUowPuVArV+pSjA+5UCtX6lKMD7lQK1fqUowPuVArV+pSjA+5UCtX6lKMD7lQK1fqUowPuVArV+pSjA+5UCtX6lKMD7lQK1fqUowPuVArV+pSjA+5UCtX6lKMD7lQK1fqUowPuVArV+pSjA+5UCtX6lKMD7lQK1fqUowPuVArV+pSjA+5UCtX6lKMD7lQK1fqUowPuVArV+pSjA+5UCtX6lKMD7lQK1fqUowPuVArV+pSjA+5UCtX6lKMD7lQK1fqUowIFav1Kg1ifAgVq/UqDWJ8CBWr9SoNYnwIFav1Kg1ifAgVq/UqDWJ8CBWr9SoNYnwIFav1Kg1ifAgVq/UqDWJ8CBWr9SoNYnwIFav1Kg1ifAgVq/UqDWJ8CBWr9SoNYnwIFav1Kg1ifAgVq/UqDWJ8CBWr9SoNYnwIFav1Kg1ifAgVq/UqDWJ8CBWr9SoNYnwIFav1Kg1ifAgVq/UqDWJ8CBWr9SoNYnwIFav1Kg1ifAgVq/UqDWJ8CBWr9SoNYnwIFav1Kg1ifAgVq/UqDWJ8CBWr9SoNYnwIFav1Kg1ifAgVq/UqDWJ8CBWr9SoNYnwIFav1Kg1ifAgVq/UqDWJ8CBWr9SoNYnwIFav1Kg1ifAgVq/UqDWJ8CBWr9SoNYnwIFav1Kg1ifAgVq/UqDWJ8CBWr9SoNYnwIFav1Kg1ifAgVq/UqDWJ8CBWr9SoNYnwIFav1Kg1ifAgVq/UqDWJ8CBWr9SoNYnwIFav1Kg1ifAgVq/UqDWJ8CBWr9SoNYnwIFav1Kg1ifAgVq/UqDWJ8CBWr9SoNYnwIFav1Kg1ifAgVq/UqDWJ8CBWr9SoNYnwIFav1Kg1ifAgVq/UqDWJ8CBWr9SoNYnwIFav1Kg1ifAgVq/UqDWJ8CBWr9SoNYnwIFav1Kg1ifAgVq/UqDWJ8CBWr9SoNYnwIFav1Kg1ifAgVq/UqDWJ8CBWr9SoNYnwIFav1Kg1ifAgVq/UqDWJ8CBWr9SoNYnwIFav1Kg1ifAgVq/UqDWJ8CBWr9SoNYnwIFav1Kg1ifAgVq/UqDWJ8CBWr9SoNYnwIFav1Kg1ifAgVq/UqDWJ8CBWr9SoNYnwIFav1Kg1ifAgVq/UqDWJ8CBWr9SoNYnwIFav1Kg1ifAgVq/UqDWJ8CBWr9SoNYnwIFav1Kg1ifAgVq/UqDWJ8CBWr9SoNYnwIFav1Kg1ifAgVq/UqDWJ8CBWr9SoNYnwIFav1Kg1ifAgVq/UqDWJ8CBWr9SoNYnwIFav1Kg1ifAgVq/UqDWJ8CBWr9SoNYnwIFav1Kg1ifAgVq/UqDWJ8CBWr9SoNYnwIFav1Kg1ifACB988MEHJ8AIH3zwwQcnwAgffPDBByfACB988MEHJ8AIH3zwwQcnwAgffPDBByfACB988MEHJ8AIH3zwwQcnwAgffPDBByfACB988MEHJ8AIH3zwwQcnwAgffPDBByfACB988MEHJ8AIH3zwwQcnwAgffPDBByfACB988MEHJ8AIH3zwwQcnwAgffPDBByfACB988MEHJ8AIH3zwwQcnwAgffPDBByfACB988MEHJ8AIH3zwwQcnwAgffPDBByfACB988MEHJ8AIH3zwwQcnwAgffPDBByfACB988MEHJ8AIH3zwwQcnwAgffPDBByfACB988MEHJ8AIH3zwwQcnwAgffPDBByfACB988MEHJ8AIH3zwwQcnwAgffPDBByfACB988MEHJ8AIH3zwwQcnwAgffPDBByfACB988MEHJ8AIH3zwwQcnwAgffPDBByfACB988MEHJ8AIH3zwwQcnwAgffPDBByfACB988MEHJ8AIH3zwwQcnwAgffPDBByfACB988MEHJ8AIH3zwwQcnwAgffPDBByfACB988MEHJ8AIH3zwwQcnwAgffPDBByfACB988MEHJ8AIH3zwwQcnwAgffPDBByfACB988MEHJ8AIH3zwwQcnwAgffPDBByfACB988MEHJ8AIH3zwwQcnwAgffPDBByfACB988MEHJ8AIH3zwwQcnwAgffPDBByfACB988MEHJ8AIH3zwwQcnwAgffPDBByfACB988MEHJ8AIH3zwwQcnwAgffPDBByfACB988MEHJ8AIH3zwwQcnwAgffPDBByfACB988MEHJ8AIH3zwwQcnwAgffPDBByfACB988MEHJ8AIH3zwwQcnwAgffPDBByfACB988MEHJ8AIH3zwwQcnwAgffPDBByfACB988MEHJ8AIH3zwwQcnwAgffPDBByfACB988MEHJ8AIH3zwwQcnwAgffPDBByfACB988MEHJ8AIH3zwwQcnwAgffPDBByfACB988MEHJ8AIH3zwwQcnwAgffPDBByfACB988MEHJ8AIH3zwwQcnwAgffPDBByfACB988MEHJ8CO4ziO4zgmwI7jOI7jOCbAjuM4juM4JsCO4ziO4zgmwI7jOI7jOCbAjuM4juM4JsCO4ziO4zgmwI7jOI7jOCbAjuM4juM4JsCO4ziO4zgmwI7jOI7jOCbAjuM4juM4JsCO4ziO4zgmwI7jOI7jOCbAjuM4juM4JsCO4ziO4zgmwI7jOI7jOCbAjuM4juM4JsCO4ziO4zgmwI7jOI7jOCbAjuM4juM4JsCO4ziO4zgmwI7jOI7jOCbAjuM4juM4JsCO4ziO4zgmwI7jOI7jOCbAjuM4juM4JsCO4ziO4zgmwI7jOI7jOCbAjuM4juM4JsCO4ziO4zgmwI7jOI7jOCbAjuM4juM4JsCO4ziO4zgmwI7jOI7jOCbAjuM4juM4JsCO4ziO4zgmwI7jOI7jOCbAjuM4juM4JsCO4ziO4zgmwI7jOI7jOCbAjuM4juM4JsCO4ziO4zgmwI7jOI7jOCbAjuM4juM4JsCO4ziO4zgmwI7jOI7jOCbAjuM4juM4JsCO4ziO4zgmwI7jOI7jOCbAjuM4juM4JsCO4ziO4zgmwI7jOI7jOCbAjuM4juM4JsCO4ziO4zgmwI7jOI7jOCbAjuM4juM4JsCO4ziO4zgmwI7jOI7jOCbAjuM4juM4JsCO4ziO4zgmwI7jOI7jOCbAjuM4juM4JsCO4ziO4zgmwI7jOI7jOCbAjuM4juM4JsCO4ziO4zgmwI7jOI7jOCbAjuM4juM4JsCO4ziO4zgmwI7jOI7jOCbAjuM4juM4JsCO4ziO4zgmwI7jOI7jOCbAjuM4juM4JsCO4ziO4zgmwI7jOI7jOCbAjuM4juM4JsCO4ziO4zgmwI7jOI7jOCbAjuM4juM4JsCO4ziO4zgmwI7jOI7jOCbAjuM4juM4JsCO4ziO4zgmwI7jOI7jOCbAjuM4juM4JsCO4ziO4zgmwI7jOI7jOCbAjuM4juM4JsCO4ziO4zgmwI7jOI7jOCbAjuM4juM4JsCO4ziO4zgmwI7jOI7jOCbAjuM4juM4JsCO4ziO4zgmwI7jOI7jOCbAjuM4juM4JsCO4ziO4zgmwBWo9SsFaiXAFaj1KwVqJcAVqPUrBWolwBWo9SsFaiXAFaj1KwVqJcAVqPUrBWolwBWo9SsFaiXAFaj1KwVqJcAVqPUrBWolwBWo9SsFaiXAFaj1KwVqJcAVqPUrBWolwBWo9SsFaiXAFaj1KwVqJcAVqPUrBWolwBWo9SsFaiXAFaj1KwVqJcAVqPUrBWolwBWo9SsFaiXAFaj1KwVqJcAVqPUrBWolwBWo9SsFaiXAFaj1KwVqJcAVqPUrBWolwBWo9SsFaiXAFaj1KwVqJcAVqPUrBWolwBWo9SsFaiXAFaj1KwVqJcAVqPUrBWolwBWo9SsFaiXAFaj1KwVqJcAVqPUrBWolwBWo9SsFaiXAFaj1KwVqJcAVqPUrBWolwBWo9SsFaiXAFaj1KwVqJcAVqPUrBWolwBWo9SsFaiXAFaj1KwVqJcAVqPUrBWolwBWo9SsFaiXAFaj1KwVqJcAVqPUrBWolwBWo9SsFaiXAFaj1KwVqJcAVqPUrBWolwBWo9SsFaiXAFaj1KwVqJcAVqPUrBWolwBWo9SsFaiXAFaj1KwVqJcAVqPUrBWolwBWo9SsFaiXAFaj1KwVqJcAVqPUrBWolwBWo9SsFaiXAFaj1KwVqJcAVqPUrBWolwBWo9SsFaiXAFaj1KwVqJcAVqPUrBWolwBWo9SsFaiXAFaj1KwVqJcAVqPUrBWolwBWo9SsFaiXAFaj1KwVqJcAVqPUrBWolwBWo9SsFaiXAFaj1KwVqJcAVqPUrBWolwBWo9SsFaiXAFaj1KwVqJcAVqPUrBWolwBWo9SsFaiXAFaj1KwVqJcAVqPUrBWolwBWo9SsFaiXAFaj1KwVqJcAVqPUrBWolwBWo9SsFaiXAFaj1KwVqJcAVqPUrBWolwBWo9SsFaiXAFaj1KwVqJcAVqPUrBWolwBWo9SsFaiXAFaj1KwVqJcAVqPUrBWolwBWo9SsFaiXAFaj1KwVqJcAVqPUrBWolwBWo9SsFaiXAFaj1KwVqJcAVqPUrBWolwBWo9SsFaiXAFaj1KwVqJcAVqPUrBWolwBWo9SsFaiXAm2yyySabJMCbbLLJJpskwJtssskmmyTAm2yyySabJMCbbLLJJpskwJtssskmmyTAm2yyySabJMCbbLLJJpskwJtssskmmyTAm2yyySabJMCbbLLJJpskwJtssskmmyTAm2yyySabJMCbbLLJJpskwJtssskmmyTAm2yyySabJMCbbLLJJpskwJtssskmmyTAm2yyySabJMCbbLLJJpskwJtssskmmyTAm2yyySabJMCbbLLJJpskwJtssskmmyTAm2yyySabJMCbbLLJJpskwJtssskmmyTAm2yyySabJMCbbLLJJpskwJtssskmmyTAm2yyySabJMCbbLLJJpskwJtssskmmyTAm2yyySabJMCbbLLJJpskwJtssskmmyTAm2yyySabJMCbbLLJJpskwJtssskmmyTAm2yyySabJMCbbLLJJpskwJtssskmmyTAm2yyySabJMCbbLLJJpskwJtssskmmyTAm2yyySabJMCbbLLJJpskwJtssskmmyTAm2yyySabJMCbbLLJJpskwJtssskmmyTAm2yyySabJMCbbLLJJpskwJtssskmmyTAm2yyySabJMCbbLLJJpskwJtssskmmyTAm2yyySabJMCbbLLJJpskwJtssskmmyTAm2yyySabJMCbbLLJJpskwJtssskmmyTAm2yyySabJMCbbLLJJpskwJtssskmmyTAm2yyySabJMCbbLLJJpskwJtssskmmyTAm2yyySabJMCbbLLJJpskwJtssskmmyTAm2yyySabJMCbbLLJJpskwJtssskmmyTAm2yyySabJMCbbLLJJpskwJtssskmmyTAm2yyySabJMCbbLLJJpskwJtssskmmyTAm2yyySabJMCbbLLJJpskwJtssskmmyTAm2yyySabJMCbbLLJJpskwJtssskmmyTAm2yyySabJMCbbLLJJpskwJtssskmmyTAm2yyySabJMCbbLLJJpskwJtssskmmyTAm2yyySabJMCbbLLJJpskwJtssskmmyTAm2yyySabJMCbbLLJJpskwJtssskmmyTAm2yyySabJMAiMW9nSMwjwCIxb2dIzCPAIjFvZ0jMI8AiMW9nSMwjwCIxb2dIzCPAIjFvZ0jMI8AiMW9nSMwjwCIxb2dIzCPAIjFvZ0jMI8AiMW9nSMwjwCIxb2dIzCPAIjFvZ0jMI8AiMW9nSMwjwCIxb2dIzCPAIjFvZ0jMI8AiMW9nSMwjwCIxb2dIzCPAIjFvZ0jMI8AiMW9nSMwjwCIxb2dIzCPAIjFvZ0jMI8AiMW9nSMwjwCIxb2dIzCPAIjFvZ0jMI8AiMW9nSMwjwCIxb2dIzCPAIjFvZ0jMI8AiMW9nSMwjwCIxb2dIzCPAIjFvZ0jMI8AiMW9nSMwjwCIxb2dIzCPAIjFvZ0jMI8AiMW9nSMwjwCIxb2dIzCPAIjFvZ0jMI8AiMW9nSMwjwCIxb2dIzCPAIjFvZ0jMI8AiMW9nSMwjwCIxb2dIzCPAIjFvZ0jMI8AiMW9nSMwjwCIxb2dIzCPAIjFvZ0jMI8AiMW9nSMwjwCIxb2dIzCPAIjFvZ0jMI8AiMW9nSMwjwCIxb2dIzCPAIjFvZ0jMI8AiMW9nSMwjwCIxb2dIzCPAIjFvZ0jMI8AiMW9nSMwjwCIxb2dIzCPAIjFvZ0jMI8AiMW9nSMwjwCIxb2dIzCPAIjFvZ0jMI8AiMW9nSMwjwCIxb2dIzCPAIjFvZ0jMI8AiMW9nSMwjwCIxb2dIzCPAIjFvZ0jMI8AiMW9nSMwjwCIxb2dIzCPAIjFvZ0jMI8AiMW9nSMwjwCIxb2dIzCPAIjFvZ0jMI8AiMW9nSMwjwCIxb2dIzCPAIjFvZ0jMI8AiMW9nSMwjwCIxb2dIzCPAIjFvZ0jMI8AiMW9nSMwjwCIxb2dIzCPAIjFvZ0jMI8AiMW9nSMwjwCIxb2dIzCPAIjFvZ0jMI8AiMW9nSMwjwCIxb2dIzCPAIjFvZ0jMI8AiMW9nSMwjwCIxb2dIzCPAIjFvZ0jMI8AiMW9nSMwjwCIxb2dIzCPAIjFvZ0jMI8AiMW9nSMwjwCIxb2dIzCPAIjFvZ0jMI8AiMW9nSMwjwCIxb2dIzCPAIjFvZ0jMI8AiMW9nSMwjwKj1KwVq/SLAqPUrBWr9IsCo9SsFav0iwKj1KwVq/SLAqPUrBWr9IsCo9SsFav0iwKj1KwVq/SLAqPUrBWr9IsCo9SsFav0iwKj1KwVq/SLAqPUrBWr9IsCo9SsFav0iwKj1KwVq/SLAqPUrBWr9IsCo9SsFav0iwKj1KwVq/SLAqPUrBWr9IsCo9SsFav0iwKj1KwVq/SLAqPUrBWr9IsCo9SsFav0iwKj1KwVq/SLAqPUrBWr9IsCo9SsFav0iwKj1KwVq/SLAqPUrBWr9IsCo9SsFav0iwKj1KwVq/SLAqPUrBWr9IsCo9SsFav0iwKj1KwVq/SLAqPUrBWr9IsCo9SsFav0iwKj1KwVq/SLAqPUrBWr9IsCo9SsFav0iwKj1KwVq/SLAqPUrBWr9IsCo9SsFav0iwKj1KwVq/SLAqPUrBWr9IsCo9SsFav0iwKj1KwVq/SLAqPUrBWr9IsCo9SsFav0iwKj1KwVq/SLAqPUrBWr9IsCo9SsFav0iwKj1KwVq/SLAqPUrBWr9IsCo9SsFav0iwKj1KwVq/SLAqPUrBWr9IsCo9SsFav0iwKj1KwVq/SLAqPUrBWr9IsCo9SsFav0iwKj1KwVq/SLAqPUrBWr9IsCo9SsFav0iwKj1KwVq/SLAqPUrBWr9IsCo9SsFav0iwKj1KwVq/SLAqPUrBWr9IsCo9SsFav0iwKj1KwVq/SLAqPUrBWr9IsCo9SsFav0iwKj1KwVq/SLAqPUrBWr9IsCo9SsFav0iwKj1KwVq/SLAqPUrBWr9IsCo9SsFav0iwKj1KwVq/SLAqPUrBWr9IsCo9SsFav0iwKj1KwVq/SLAqPUrBWr9IsCo9SsFav0iwKj1KwVq/SLAqPUrBWr9IsCo9SsFav0iwKj1KwVq/SLAqPUrBWr9IsCo9SsFav0iwKj1KwVq/SLAqPUrBWr9IsCo9SsFav0iwKj1KwVq/SLAqPUrBWr9IsCo9SsFav0iwKj1KwVq/SLAqPUrBWr9IsCo9SsFav0iwKj1KwVq/SLAqPUrBWr9IsCo9SsFav0iwKj1KwVq/SLAL7rooosuIsAvuuiiiy4iwC+66KKLLiLAL7rooosuIsAvuuiiiy4iwC+66KKLLiLAL7rooosuIsAvuuiiiy4iwC+66KKLLiLAL7rooosuIsAvuuiiiy4iwC+66KKLLiLAL7rooosuIsAvuuiiiy4iwC+66KKLLiLAL7rooosuIsAvuuiiiy4iwC+66KKLLiLAL7rooosuIsAvuuiiiy4iwC+66KKLLiLAL7rooosuIsAvuuiiiy4iwC+66KKLLiLAL7rooosuIsAvuuiiiy4iwC+66KKLLiLAL7rooosuIsAvuuiiiy4iwC+66KKLLiLAL7rooosuIsAvuuiiiy4iwC+66KKLLiLAL7rooosuIsAvuuiiiy4iwC+66KKLLiLAL7rooosuIsAvuuiiiy4iwC+66KKLLiLAL7rooosuIsAvuuiiiy4iwC+66KKLLiLAL7rooosuIsAvuuiiiy4iwC+66KKLLiLAL7rooosuIsAvuuiiiy4iwC+66KKLLiLAL7rooosuIsAvuuiiiy4iwC+66KKLLiLAL7rooosuIsAvuuiiiy4iwC+66KKLLiLAL7rooosuIsAvuuiiiy4iwC+66KKLLiLAL7rooosuIsAvuuiiiy4iwC+66KKLLiLAL7rooosuIsAvuuiiiy4iwC+66KKLLiLAL7rooosuIsAvuuiiiy4iwC+66KKLLiLAL7rooosuIsAvuuiiiy4iwC+66KKLLiLAL7rooosuIsAvuuiiiy4iwC+66KKLLiLAL7rooosuIsAvuuiiiy4iwC+66KKLLiLAL7rooosuIsAvuuiiiy4iwC+66KKLLiLAL7rooosuIsAvuuiiiy4iwC+66KKLLiLAL7rooosuIsAvuuiiiy4iwC+66KKLLiLAL7rooosuIsAvuuiiiy4iwC+66KKLLiLAL7rooosuIsAvuuiiiy4iwC+66KKLLiLAL7rooosuIsAvuuiiiy4iwC+66KKLLiLAL7rooosuIsAvuuiiiy4iwC+66KKLLiLAL7rooosuIsAvuuiiiy4iwC+66KKLLiLAL7rooosuIsC1fqVArV8hwLV+pUCtXyHAtX6lQK1fIcC1fqVArV8hwLV+pUCtXyHAtX6lQK1fIcC1fqVArV8hwLV+pUCtXyHAtX6lQK1fIcC1fqVArV8hwLV+pUCtXyHAtX6lQK1fIcC1fqVArV8hwLV+pUCtXyHAtX6lQK1fIcC1fqVArV8hwLV+pUCtXyHAtX6lQK1fIcC1fqVArV8hwLV+pUCtXyHAtX6lQK1fIcC1fqVArV8hwLV+pUCtXyHAtX6lQK1fIcC1fqVArV8hwLV+pUCtXyHAtX6lQK1fIcC1fqVArV8hwLV+pUCtXyHAtX6lQK1fIcC1fqVArV8hwLV+pUCtXyHAtX6lQK1fIcC1fqVArV8hwLV+pUCtXyHAtX6lQK1fIcC1fqVArV8hwLV+pUCtXyHAtX6lQK1fIcC1fqVArV8hwLV+pUCtXyHAtX6lQK1fIcC1fqVArV8hwLV+pUCtXyHAtX6lQK1fIcC1fqVArV8hwLV+pUCtXyHAtX6lQK1fIcC1fqVArV8hwLV+pUCtXyHAtX6lQK1fIcC1fqVArV8hwLV+pUCtXyHAtX6lQK1fIcC1fqVArV8hwLV+pUCtXyHAtX6lQK1fIcC1fqVArV8hwLV+pUCtXyHAtX6lQK1fIcC1fqVArV8hwLV+pUCtXyHAtX6lQK1fIcC1fqVArV8hwLV+pUCtXyHAtX6lQK1fIcC1fqVArV8hwLV+pUCtXyHAtX6lQK1fIcC1fqVArV8hwLV+pUCtXyHAtX6lQK1fIcC1fqVArV8hwLV+pUCtXyHAtX6lQK1fIcC1fqVArV8hwLV+pUCtXyHAtX6lQK1fIcC1fqVArV8hwLV+pUCtXyHAtX6lQK1fIcC1fqVArV8hwLV+pUCtXyHAtX6lQK1fIcC1fqVArV8hwLV+pUCtXyHAtX6lQK1fIcC1fqVArV8hwLV+pUCtXyHAtX6lQK1fIcC1fqVArV8hwLV+pUCtXyHAtX6lQK1fIcC1fqVArV8hwLV+pUCtXyHAtX6lQK1fIcC1fqVArV8hwLV+pUCtXyHAtX6lQK1fIcC1fqVArV8hwDxDYt7OkCDAPENi3s6QIMA8Q2LezpAgwDxDYt7OkCDAPENi3s6QIMA8Q2LezpAgwDxDYt7OkCDAPENi3s6QIMA8Q2LezpAgwDxDYt7OkCDAPENi3s6QIMA8Q2LezpAgwDxDYt7OkCDAPENi3s6QIMA8Q2LezpAgwDxDYt7OkCDAPENi3s6QIMA8Q2LezpAgwDxDYt7OkCDAPENi3s6QIMA8Q2LezpAgwDxDYt7OkCDAPENi3s6QIMA8Q2LezpAgwDxDYt7OkCDAPENi3s6QIMA8Q2LezpAgwDxDYt7OkCDAPENi3s6QIMA8Q2LezpAgwDxDYt7OkCDAPENi3s6QIMA8Q2LezpAgwDxDYt7OkCDAPENi3s6QIMA8Q2LezpAgwDxDYt7OkCDAPENi3s6QIMA8Q2LezpAgwDxDYt7OkCDAPENi3s6QIMA8Q2LezpAgwDxDYt7OkCDAPENi3s6QIMA8Q2LezpAgwDxDYt7OkCDAPENi3s6QIMA8Q2LezpAgwDxDYt7OkCDAPENi3s6QIMA8Q2LezpAgwDxDYt7OkCDAPENi3s6QIMA8Q2LezpAgwDxDYt7OkCDAPENi3s6QIMA8Q2LezpAgwDxDYt7OkCDAPENi3s6QIMA8Q2LezpAgwDxDYt7OkCDAPENi3s6QIMA8Q2LezpAgwDxDYt7OkCDAPENi3s6QIMA8Q2LezpAgwDxDYt7OkCDAPENi3s6QIMA8Q2LezpAgwDxDYt7OkCDAPENi3s6QIMA8Q2LezpAgwDxDYt7OkCDAPENi3s6QIMA8Q2LezpAgwDxDYt7OkCDAPENi3s6QIMA8Q2LezpAgwDxDYt7OkCDAPENi3s6QIMA8Q2LezpAgwDxDYt7OkCDAPENi3s6QIMA8Q2LezpAgwDxDYt7OkCDAPENi3s6QIMA8Q2LezpAgwDxDYt7OkCDAPENi3s6QIMA8Q2LezpAgwDxDYt7OkCDAPENi3s6QIMA8Q2LezpAgwDxDYt7OkCDAPENi3s6QIMA8Q2LezpAgwDxDYt7OkCDAPENi3s6QIMA8Q2LezpAgwDxDYt7OkCDAhA8++OCDH8CEDz744IMfwIQPPvjggx/AhA8++OCDH8CEDz744IMfwIQPPvjggx/AhA8++OCDH8CEDz744IMfwIQPPvjggx/AhA8++OCDH8CEDz744IMfwIQPPvjggx/AhA8++OCDH8CEDz744IMfwIQPPvjggx/AhA8++OCDH8CEDz744IMfwIQPPvjggx/AhA8++OCDH8CEDz744IMfwIQPPvjggx/AhA8++OCDH8CEDz744IMfwIQPPvjggx/AhA8++OCDH8CEDz744IMfwIQPPvjggx/AhA8++OCDH8CEDz744IMfwIQPPvjggx/AhA8++OCDH8CEDz744IMfwIQPPvjggx/AhA8++OCDH8CEDz744IMfwIQPPvjggx/AhA8++OCDH8CEDz744IMfwIQPPvjggx/AhA8++OCDH8CEDz744IMfwIQPPvjggx/AhA8++OCDH8CEDz744IMfwIQPPvjggx/AhA8++OCDH8CEDz744IMfwIQPPvjggx/AhA8++OCDH8CEDz744IMfwIQPPvjggx/AhA8++OCDH8CEDz744IMfwIQPPvjggx/AhA8++OCDH8CEDz744IMfwIQPPvjggx/AhA8++OCDH8CEDz744IMfwIQPPvjggx/AhA8++OCDH8CEDz744IMfwIQPPvjggx/AhA8++OCDH8CEDz744IMfwIQPPvjggx/AhA8++OCDH8CEDz744IMfwIQPPvjggx/AhA8++OCDH8CEDz744IMfwIQPPvjggx/AhA8++OCDH8CEDz744IMfwIQPPvjggx/AhA8++OCDH8CEDz744IMfwIQPPvjggx/AhA8++OCDH8CEDz744IMfwIQPPvjggx/AhA8++OCDH8CEDz744IMfwIQPPvjggx/AhA8++OCDH8CEDz744IMfwIQPPvjggx/AhA8++OCDH8CEDz744IMfwIQPPvjggx/AhA8++OCDH8CEDz744IMfwIQPPvjggx/AhA8++OCDH8CEDz744IMfwIQPPvjggx/AhA8++OCDH8CEDz744IMfwIQPPvjggx/AhA8++OCDH8CSmLczJOYdwJKYtzMk5h3Akpi3MyTmHcCSmLczJOYdwJKYtzMk5h3Akpi3MyTmHcCSmLczJOYdwJKYtzMk5h3Akpi3MyTmHcCSmLczJOYdwJKYtzMk5h3Akpi3MyTmHcCSmLczJOYdwJKYtzMk5h3Akpi3MyTmHcCSmLczJOYdwJKYtzMk5h3Akpi3MyTmHcCSmLczJOYdwJKYtzMk5h3Akpi3MyTmHcCSmLczJOYdwJKYtzMk5h3Akpi3MyTmHcCSmLczJOYdwJKYtzMk5h3Akpi3MyTmHcCSmLczJOYdwJKYtzMk5h3Akpi3MyTmHcCSmLczJOYdwJKYtzMk5h3Akpi3MyTmHcCSmLczJOYdwJKYtzMk5h3Akpi3MyTmHcCSmLczJOYdwJKYtzMk5h3Akpi3MyTmHcCSmLczJOYdwJKYtzMk5h3Akpi3MyTmHcCSmLczJOYdwJKYtzMk5h3Akpi3MyTmHcCSmLczJOYdwJKYtzMk5h3Akpi3MyTmHcCSmLczJOYdwJKYtzMk5h3Akpi3MyTmHcCSmLczJOYdwJKYtzMk5h3Akpi3MyTmHcCSmLczJOYdwJKYtzMk5h3Akpi3MyTmHcCSmLczJOYdwJKYtzMk5h3Akpi3MyTmHcCSmLczJOYdwJKYtzMk5h3Akpi3MyTmHcCSmLczJOYdwJKYtzMk5h3Akpi3MyTmHcCSmLczJOYdwJKYtzMk5h3Akpi3MyTmHcCSmLczJOYdwJKYtzMk5h3Akpi3MyTmHcCSmLczJOYdwJKYtzMk5h3Akpi3MyTmHcCSmLczJOYdwJKYtzMk5h3Akpi3MyTmHcCSmLczJOYdwJKYtzMk5h3Akpi3MyTmHcCSmLczJOYdwJKYtzMk5h3Akpi3MyTmHcCSmLczJOYdwJKYtzMk5h3Akpi3MyTmHcCSmLczJOYdwJKYtzMk5h3Akpi3MyTmHcCSmLczJOYdwJKYtzMk5h3Akpi3MyTmHcCSmLczJOYdwJKYtzMk5h3Akpi3MyTmHcCSmLczJOYdwJKYtzMk5h3Akpi3MyTmHcCSmLczJOYdwJ4hMW9nSBzAniExb2dIHMCeITFvZ0gcwJ4hMW9nSBzAniExb2dIHMCeITFvZ0gcwJ4hMW9nSBzAniExb2dIHMCeITFvZ0gcwJ4hMW9nSBzAniExb2dIHMCeITFvZ0gcwJ4hMW9nSBzAniExb2dIHMCeITFvZ0gcwJ4hMW9nSBzAniExb2dIHMCeITFvZ0gcwJ4hMW9nSBzAniExb2dIHMCeITFvZ0gcwJ4hMW9nSBzAniExb2dIHMCeITFvZ0gcwJ4hMW9nSBzAniExb2dIHMCeITFvZ0gcwJ4hMW9nSBzAniExb2dIHMCeITFvZ0gcwJ4hMW9nSBzAniExb2dIHMCeITFvZ0gcwJ4hMW9nSBzAniExb2dIHMCeITFvZ0gcwJ4hMW9nSBzAniExb2dIHMCeITFvZ0gcwJ4hMW9nSBzAniExb2dIHMCeITFvZ0gcwJ4hMW9nSBzAniExb2dIHMCeITFvZ0gcwJ4hMW9nSBzAniExb2dIHMCeITFvZ0gcwJ4hMW9nSBzAniExb2dIHMCeITFvZ0gcwJ4hMW9nSBzAniExb2dIHMCeITFvZ0gcwJ4hMW9nSBzAniExb2dIHMCeITFvZ0gcwJ4hMW9nSBzAniExb2dIHMCeITFvZ0gcwJ4hMW9nSBzAniExb2dIHMCeITFvZ0gcwJ4hMW9nSBzAniExb2dIHMCeITFvZ0gcwJ4hMW9nSBzAniExb2dIHMCeITFvZ0gcwJ4hMW9nSBzAniExb2dIHMCeITFvZ0gcwJ4hMW9nSBzAniExb2dIHMCeITFvZ0gcwJ4hMW9nSBzAniExb2dIHMCeITFvZ0gcwJ4hMW9nSBzAniExb2dIHMCeITFvZ0gcwJ4hMW9nSBzAniExb2dIHMCeITFvZ0gcwJ4hMW9nSBzAniExb2dIHMCeITFvZ0gcwJ4hMW9nSBzAniExb2dIHMCeITFvZ0gcwJ4hMW9nSBzAniExb2dIHMCeITFvZ0gcwJ4hMW9nSBzAniExb2dIHMCeITFvZ0gcwJ4hMW9nSBzAniExb2dIHMCeITFvZ0gcwJ4hMW9nSBzAqqqqqqqqGsCqqqqqqqoawKqqqqqqqhrAqqqqqqqqGsCqqqqqqqoawKqqqqqqqhrAqqqqqqqqGsCqqqqqqqoawKqqqqqqqhrAqqqqqqqqGsCqqqqqqqoawKqqqqqqqhrAqqqqqqqqGsCqqqqqqqoawKqqqqqqqhrAqqqqqqqqGsCqqqqqqqoawKqqqqqqqhrAqqqqqqqqGsCqqqqqqqoawKqqqqqqqhrAqqqqqqqqGsCqqqqqqqoawKqqqqqqqhrAqqqqqqqqGsCqqqqqqqoawKqqqqqqqhrAqqqqqqqqGsCqqqqqqqoawKqqqqqqqhrAqqqqqqqqGsCqqqqqqqoawKqqqqqqqhrAqqqqqqqqGsCqqqqqqqoawKqqqqqqqhrAqqqqqqqqGsCqqqqqqqoawKqqqqqqqhrAqqqqqqqqGsCqqqqqqqoawKqqqqqqqhrAqqqqqqqqGsCqqqqqqqoawKqqqqqqqhrAqqqqqqqqGsCqqqqqqqoawKqqqqqqqhrAqqqqqqqqGsCqqqqqqqoawKqqqqqqqhrAqqqqqqqqGsCqqqqqqqoawKqqqqqqqhrAqqqqqqqqGsCqqqqqqqoawKqqqqqqqhrAqqqqqqqqGsCqqqqqqqoawKqqqqqqqhrAqqqqqqqqGsCqqqqqqqoawKqqqqqqqhrAqqqqqqqqGsCqqqqqqqoawKqqqqqqqhrAqqqqqqqqGsCqqqqqqqoawKqqqqqqqhrAqqqqqqqqGsCqqqqqqqoawKqqqqqqqhrAqqqqqqqqGsCqqqqqqqoawKqqqqqqqhrAqqqqqqqqGsCqqqqqqqoawKqqqqqqqhrAqqqqqqqqGsCqqqqqqqoawKqqqqqqqhrAqqqqqqqqGsCqqqqqqqoawKqqqqqqqhrAqqqqqqqqGsCqqqqqqqoawKqqqqqqqhrAqqqqqqqqGsCqqqqqqqoawKqqqqqqqhrAqqqqqqqqGsCqqqqqqqoawKqqqqqqqhrAqqqqqqqqGsCqqqqqqqoawKqqqqqqqhrAqqqqqqqqGsCqqqqqqqoawKqqqqqqqhrAqqqqqqqqGsC4MyTm7QwZwLgzJObtDBnAuDMk5u0MGcC4MyTm7QwZwLgzJObtDBnAuDMk5u0MGcC4MyTm7QwZwLgzJObtDBnAuDMk5u0MGcC4MyTm7QwZwLgzJObtDBnAuDMk5u0MGcC4MyTm7QwZwLgzJObtDBnAuDMk5u0MGcC4MyTm7QwZwLgzJObtDBnAuDMk5u0MGcC4MyTm7QwZwLgzJObtDBnAuDMk5u0MGcC4MyTm7QwZwLgzJObtDBnAuDMk5u0MGcC4MyTm7QwZwLgzJObtDBnAuDMk5u0MGcC4MyTm7QwZwLgzJObtDBnAuDMk5u0MGcC4MyTm7QwZwLgzJObtDBnAuDMk5u0MGcC4MyTm7QwZwLgzJObtDBnAuDMk5u0MGcC4MyTm7QwZwLgzJObtDBnAuDMk5u0MGcC4MyTm7QwZwLgzJObtDBnAuDMk5u0MGcC4MyTm7QwZwLgzJObtDBnAuDMk5u0MGcC4MyTm7QwZwLgzJObtDBnAuDMk5u0MGcC4MyTm7QwZwLgzJObtDBnAuDMk5u0MGcC4MyTm7QwZwLgzJObtDBnAuDMk5u0MGcC4MyTm7QwZwLgzJObtDBnAuDMk5u0MGcC4MyTm7QwZwLgzJObtDBnAuDMk5u0MGcC4MyTm7QwZwLgzJObtDBnAuDMk5u0MGcC4MyTm7QwZwLgzJObtDBnAuDMk5u0MGcC4MyTm7QwZwLgzJObtDBnAuDMk5u0MGcC4MyTm7QwZwLgzJObtDBnAuDMk5u0MGcC4MyTm7QwZwLgzJObtDBnAuDMk5u0MGcC4MyTm7QwZwLgzJObtDBnAuDMk5u0MGcC4MyTm7QwZwLgzJObtDBnAuDMk5u0MGcC4MyTm7QwZwLgzJObtDBnAuDMk5u0MGcC4MyTm7QwZwLgzJObtDBnAuDMk5u0MGcC4MyTm7QwZwLgzJObtDBnAuDMk5u0MGcC4MyTm7QwZwLgzJObtDBnAuDMk5u0MGcC4MyTm7QwZwLgzJObtDBnAuDMk5u0MGcC4MyTm7QwZwLgzJObtDBnAuDMk5u0MGcC4MyTm7QwZwMS8nSExbxfAxLydITFvF8DEvJ0hMW8XwMS8nSExbxfAxLydITFvF8DEvJ0hMW8XwMS8nSExbxfAxLydITFvF8DEvJ0hMW8XwMS8nSExbxfAxLydITFvF8DEvJ0hMW8XwMS8nSExbxfAxLydITFvF8DEvJ0hMW8XwMS8nSExbxfAxLydITFvF8DEvJ0hMW8XwMS8nSExbxfAxLydITFvF8DEvJ0hMW8XwMS8nSExbxfAxLydITFvF8DEvJ0hMW8XwMS8nSExbxfAxLydITFvF8DEvJ0hMW8XwMS8nSExbxfAxLydITFvF8DEvJ0hMW8XwMS8nSExbxfAxLydITFvF8DEvJ0hMW8XwMS8nSExbxfAxLydITFvF8DEvJ0hMW8XwMS8nSExbxfAxLydITFvF8DEvJ0hMW8XwMS8nSExbxfAxLydITFvF8DEvJ0hMW8XwMS8nSExbxfAxLydITFvF8DEvJ0hMW8XwMS8nSExbxfAxLydITFvF8DEvJ0hMW8XwMS8nSExbxfAxLydITFvF8DEvJ0hMW8XwMS8nSExbxfAxLydITFvF8DEvJ0hMW8XwMS8nSExbxfAxLydITFvF8DEvJ0hMW8XwMS8nSExbxfAxLydITFvF8DEvJ0hMW8XwMS8nSExbxfAxLydITFvF8DEvJ0hMW8XwMS8nSExbxfAxLydITFvF8DEvJ0hMW8XwMS8nSExbxfAxLydITFvF8DEvJ0hMW8XwMS8nSExbxfAxLydITFvF8DEvJ0hMW8XwMS8nSExbxfAxLydITFvF8DEvJ0hMW8XwMS8nSExbxfAxLydITFvF8DEvJ0hMW8XwMS8nSExbxfAxLydITFvF8DEvJ0hMW8XwMS8nSExbxfAxLydITFvF8DEvJ0hMW8XwMS8nSExbxfAxLydITFvF8DEvJ0hMW8XwMS8nSExbxfAxLydITFvF8DEvJ0hMW8XwMS8nSExbxfAxLydITFvF8DEvJ0hMW8XwMS8nSExbxfAxLydITFvF8DEvJ0hMW8XwMS8nSExbxfAxLydITFvF8DEvJ0hMW8XwMS8nSExbxfA0kUXXXTRFcDSRRdddNEVwNJFF1100RXA0kUXXXTRFcDSRRdddNEVwNJFF1100RXA0kUXXXTRFcDSRRdddNEVwNJFF1100RXA0kUXXXTRFcDSRRdddNEVwNJFF1100RXA0kUXXXTRFcDSRRdddNEVwNJFF1100RXA0kUXXXTRFcDSRRdddNEVwNJFF1100RXA0kUXXXTRFcDSRRdddNEVwNJFF1100RXA0kUXXXTRFcDSRRdddNEVwNJFF1100RXA0kUXXXTRFcDSRRdddNEVwNJFF1100RXA0kUXXXTRFcDSRRdddNEVwNJFF1100RXA0kUXXXTRFcDSRRdddNEVwNJFF1100RXA0kUXXXTRFcDSRRdddNEVwNJFF1100RXA0kUXXXTRFcDSRRdddNEVwNJFF1100RXA0kUXXXTRFcDSRRdddNEVwNJFF1100RXA0kUXXXTRFcDSRRdddNEVwNJFF1100RXA0kUXXXTRFcDSRRdddNEVwNJFF1100RXA0kUXXXTRFcDSRRdddNEVwNJFF1100RXA0kUXXXTRFcDSRRdddNEVwNJFF1100RXA0kUXXXTRFcDSRRdddNEVwNJFF1100RXA0kUXXXTRFcDSRRdddNEVwNJFF1100RXA0kUXXXTRFcDSRRdddNEVwNJFF1100RXA0kUXXXTRFcDSRRdddNEVwNJFF1100RXA0kUXXXTRFcDSRRdddNEVwNJFF1100RXA0kUXXXTRFcDSRRdddNEVwNJFF1100RXA0kUXXXTRFcDSRRdddNEVwNJFF1100RXA0kUXXXTRFcDSRRdddNEVwNJFF1100RXA0kUXXXTRFcDSRRdddNEVwNJFF1100RXA0kUXXXTRFcDSRRdddNEVwNJFF1100RXA0kUXXXTRFcDSRRdddNEVwNJFF1100RXA0kUXXXTRFcDSRRdddNEVwNJFF1100RXA0kUXXXTRFcDSRRdddNEVwNJFF1100RXA0kUXXXTRFcDSRRdddNEVwNJFF1100RXA0kUXXXTRFcDSRRdddNEVwNJFF1100RXA0kUXXXTRFcDezpCYtzMUwN7OkJi3MxTA3s6QmLczFMDezpCYtzMUwN7OkJi3MxTA3s6QmLczFMDezpCYtzMUwN7OkJi3MxTA3s6QmLczFMDezpCYtzMUwN7OkJi3MxTA3s6QmLczFMDezpCYtzMUwN7OkJi3MxTA3s6QmLczFMDezpCYtzMUwN7OkJi3MxTA3s6QmLczFMDezpCYtzMUwN7OkJi3MxTA3s6QmLczFMDezpCYtzMUwN7OkJi3MxTA3s6QmLczFMDezpCYtzMUwN7OkJi3MxTA3s6QmLczFMDezpCYtzMUwN7OkJi3MxTA3s6QmLczFMDezpCYtzMUwN7OkJi3MxTA3s6QmLczFMDezpCYtzMUwN7OkJi3MxTA3s6QmLczFMDezpCYtzMUwN7OkJi3MxTA3s6QmLczFMDezpCYtzMUwN7OkJi3MxTA3s6QmLczFMDezpCYtzMUwN7OkJi3MxTA3s6QmLczFMDezpCYtzMUwN7OkJi3MxTA3s6QmLczFMDezpCYtzMUwN7OkJi3MxTA3s6QmLczFMDezpCYtzMUwN7OkJi3MxTA3s6QmLczFMDezpCYtzMUwN7OkJi3MxTA3s6QmLczFMDezpCYtzMUwN7OkJi3MxTA3s6QmLczFMDezpCYtzMUwN7OkJi3MxTA3s6QmLczFMDezpCYtzMUwN7OkJi3MxTA3s6QmLczFMDezpCYtzMUwN7OkJi3MxTA3s6QmLczFMDezpCYtzMUwN7OkJi3MxTA3s6QmLczFMDezpCYtzMUwN7OkJi3MxTA3s6QmLczFMDezpCYtzMUwN7OkJi3MxTA3s6QmLczFMDezpCYtzMUwN7OkJi3MxTA3s6QmLczFMDezpCYtzMUwN7OkJi3MxTA3s6QmLczFMDezpCYtzMUwN7OkJi3MxTA3s6QmLczFMDezpCYtzMUwN7OkJi3MxTA3s6QmLczFMDezpCYtzMUwN7OkJi3MxTA3s6QmLczFMDezpCYtzMUwN7OkJi3MxTA3s6QmLczFMDezpCYtzMUwN7OkJi3MxTA3s6QmLczFMDezpCYtzMUwOxXCtT6lRLA7FcK1PqVEsDsVwrU+pUSwOxXCtT6lRLA7FcK1PqVEsDsVwrU+pUSwOxXCtT6lRLA7FcK1PqVEsDsVwrU+pUSwOxXCtT6lRLA7FcK1PqVEsDsVwrU+pUSwOxXCtT6lRLA7FcK1PqVEsDsVwrU+pUSwOxXCtT6lRLA7FcK1PqVEsDsVwrU+pUSwOxXCtT6lRLA7FcK1PqVEsDsVwrU+pUSwOxXCtT6lRLA7FcK1PqVEsDsVwrU+pUSwOxXCtT6lRLA7FcK1PqVEsDsVwrU+pUSwOxXCtT6lRLA7FcK1PqVEsDsVwrU+pUSwOxXCtT6lRLA7FcK1PqVEsDsVwrU+pUSwOxXCtT6lRLA7FcK1PqVEsDsVwrU+pUSwOxXCtT6lRLA7FcK1PqVEsDsVwrU+pUSwOxXCtT6lRLA7FcK1PqVEsDsVwrU+pUSwOxXCtT6lRLA7FcK1PqVEsDsVwrU+pUSwOxXCtT6lRLA7FcK1PqVEsDsVwrU+pUSwOxXCtT6lRLA7FcK1PqVEsDsVwrU+pUSwOxXCtT6lRLA7FcK1PqVEsDsVwrU+pUSwOxXCtT6lRLA7FcK1PqVEsDsVwrU+pUSwOxXCtT6lRLA7FcK1PqVEsDsVwrU+pUSwOxXCtT6lRLA7FcK1PqVEsDsVwrU+pUSwOxXCtT6lRLA7FcK1PqVEsDsVwrU+pUSwOxXCtT6lRLA7FcK1PqVEsDsVwrU+pUSwOxXCtT6lRLA7FcK1PqVEsDsVwrU+pUSwOxXCtT6lRLA7FcK1PqVEsDsVwrU+pUSwOxXCtT6lRLA7FcK1PqVEsDsVwrU+pUSwOxXCtT6lRLA7FcK1PqVEsDsVwrU+pUSwOxXCtT6lRLA7FcK1PqVEsDsVwrU+pUSwOxXCtT6lRLA7FcK1PqVEsDsVwrU+pUSwOxXCtT6lRLA7FcK1PqVEsDsVwrU+pUSwOxXCtT6lRLA7FcK1PqVEsDsVwrU+pUSwOxXCtT6lRLA7FcK1PqVEsDsVwrU+pUSwOxXCtT6lRLA7FcK1PqVEsDsVwrU+pUSwOxXCtT6lRLA+OCDDz74EMD44IMPPvgQwPjggw8++BDA+OCDDz74EMD44IMPPvgQwPjggw8++BDA+OCDDz74EMD44IMPPvgQwPjggw8++BDA+OCDDz74EMD44IMPPvgQwPjggw8++BDA+OCDDz74EMD44IMPPvgQwPjggw8++BDA+OCDDz74EMD44IMPPvgQwPjggw8++BDA+OCDDz74EMD44IMPPvgQwPjggw8++BDA+OCDDz74EMD44IMPPvgQwPjggw8++BDA+OCDDz74EMD44IMPPvgQwPjggw8++BDA+OCDDz74EMD44IMPPvgQwPjggw8++BDA+OCDDz74EMD44IMPPvgQwPjggw8++BDA+OCDDz74EMD44IMPPvgQwPjggw8++BDA+OCDDz74EMD44IMPPvgQwPjggw8++BDA+OCDDz74EMD44IMPPvgQwPjggw8++BDA+OCDDz74EMD44IMPPvgQwPjggw8++BDA+OCDDz74EMD44IMPPvgQwPjggw8++BDA+OCDDz74EMD44IMPPvgQwPjggw8++BDA+OCDDz74EMD44IMPPvgQwPjggw8++BDA+OCDDz74EMD44IMPPvgQwPjggw8++BDA+OCDDz74EMD44IMPPvgQwPjggw8++BDA+OCDDz74EMD44IMPPvgQwPjggw8++BDA+OCDDz74EMD44IMPPvgQwPjggw8++BDA+OCDDz74EMD44IMPPvgQwPjggw8++BDA+OCDDz74EMD44IMPPvgQwPjggw8++BDA+OCDDz74EMD44IMPPvgQwPjggw8++BDA+OCDDz74EMD44IMPPvgQwPjggw8++BDA+OCDDz74EMD44IMPPvgQwPjggw8++BDA+OCDDz74EMD44IMPPvgQwPjggw8++BDA+OCDDz74EMD44IMPPvgQwPjggw8++BDA+OCDDz74EMD44IMPPvgQwPjggw8++BDA+OCDDz74EMD44IMPPvgQwPjggw8++BDA+OCDDz74EMD44IMPPvgQwPjggw8++BDA+OCDDz74EMD44IMPPvgQwPjggw8++BDA+OCDDz74EMAI1PqVArUOwAjU+pUCtQ7ACNT6lQK1DsAI1PqVArUOwAjU+pUCtQ7ACNT6lQK1DsAI1PqVArUOwAjU+pUCtQ7ACNT6lQK1DsAI1PqVArUOwAjU+pUCtQ7ACNT6lQK1DsAI1PqVArUOwAjU+pUCtQ7ACNT6lQK1DsAI1PqVArUOwAjU+pUCtQ7ACNT6lQK1DsAI1PqVArUOwAjU+pUCtQ7ACNT6lQK1DsAI1PqVArUOwAjU+pUCtQ7ACNT6lQK1DsAI1PqVArUOwAjU+pUCtQ7ACNT6lQK1DsAI1PqVArUOwAjU+pUCtQ7ACNT6lQK1DsAI1PqVArUOwAjU+pUCtQ7ACNT6lQK1DsAI1PqVArUOwAjU+pUCtQ7ACNT6lQK1DsAI1PqVArUOwAjU+pUCtQ7ACNT6lQK1DsAI1PqVArUOwAjU+pUCtQ7ACNT6lQK1DsAI1PqVArUOwAjU+pUCtQ7ACNT6lQK1DsAI1PqVArUOwAjU+pUCtQ7ACNT6lQK1DsAI1PqVArUOwAjU+pUCtQ7ACNT6lQK1DsAI1PqVArUOwAjU+pUCtQ7ACNT6lQK1DsAI1PqVArUOwAjU+pUCtQ7ACNT6lQK1DsAI1PqVArUOwAjU+pUCtQ7ACNT6lQK1DsAI1PqVArUOwAjU+pUCtQ7ACNT6lQK1DsAI1PqVArUOwAjU+pUCtQ7ACNT6lQK1DsAI1PqVArUOwAjU+pUCtQ7ACNT6lQK1DsAI1PqVArUOwAjU+pUCtQ7ACNT6lQK1DsAI1PqVArUOwAjU+pUCtQ7ACNT6lQK1DsAI1PqVArUOwAjU+pUCtQ7ACNT6lQK1DsAI1PqVArUOwAjU+pUCtQ7ACNT6lQK1DsAI1PqVArUOwAjU+pUCtQ7ACNT6lQK1DsAI1PqVArUOwAjU+pUCtQ7ACNT6lQK1DsAI1PqVArUOwAjU+pUCtQ7ACNT6lQK1DsAI1PqVArUOwAjU+pUCtQ7ACNT6lQK1DsAI1PqVArUOwAjU+pUCtQ7ACNT6lQK1DsAI1PqVArUOwAjU+pUCtQ7ACNT6lQK1DsAI1PqVArUOwCjm7QyJeQvAKObtDIl5C8Ao5u0MiXkLwCjm7QyJeQvAKObtDIl5C8Ao5u0MiXkLwCjm7QyJeQvAKObtDIl5C8Ao5u0MiXkLwCjm7QyJeQvAKObtDIl5C8Ao5u0MiXkLwCjm7QyJeQvAKObtDIl5C8Ao5u0MiXkLwCjm7QyJeQvAKObtDIl5C8Ao5u0MiXkLwCjm7QyJeQvAKObtDIl5C8Ao5u0MiXkLwCjm7QyJeQvAKObtDIl5C8Ao5u0MiXkLwCjm7QyJeQvAKObtDIl5C8Ao5u0MiXkLwCjm7QyJeQvAKObtDIl5C8Ao5u0MiXkLwCjm7QyJeQvAKObtDIl5C8Ao5u0MiXkLwCjm7QyJeQvAKObtDIl5C8Ao5u0MiXkLwCjm7QyJeQvAKObtDIl5C8Ao5u0MiXkLwCjm7QyJeQvAKObtDIl5C8Ao5u0MiXkLwCjm7QyJeQvAKObtDIl5C8Ao5u0MiXkLwCjm7QyJeQvAKObtDIl5C8Ao5u0MiXkLwCjm7QyJeQvAKObtDIl5C8Ao5u0MiXkLwCjm7QyJeQvAKObtDIl5C8Ao5u0MiXkLwCjm7QyJeQvAKObtDIl5C8Ao5u0MiXkLwCjm7QyJeQvAKObtDIl5C8Ao5u0MiXkLwCjm7QyJeQvAKObtDIl5C8Ao5u0MiXkLwCjm7QyJeQvAKObtDIl5C8Ao5u0MiXkLwCjm7QyJeQvAKObtDIl5C8Ao5u0MiXkLwCjm7QyJeQvAKObtDIl5C8Ao5u0MiXkLwCjm7QyJeQvAKObtDIl5C8Ao5u0MiXkLwCjm7QyJeQvAKObtDIl5C8Ao5u0MiXkLwCjm7QyJeQvAKObtDIl5C8Ao5u0MiXkLwCjm7QyJeQvAKObtDIl5C8Ao5u0MiXkLwCjm7QyJeQvAKObtDIl5C8Ao5u0MiXkLwCjm7QyJeQvAKObtDIl5C8Ao5u0MiXkLwCjm7QyJeQvAKObtDIl5C8Ao5u0MiXkLwCjm7QyJeQvAKObtDIl5C8Ao5u0MiXkLwCjm7QyJeQvAKObtDIl5C8Ao5u0MiXkLwCjm7QyJeQvAQPjggw8+CMBA+OCDDz4IwED44IMPPgjAQPjggw8+CMBA+OCDDz4IwED44IMPPgjAQPjggw8+CMBA+OCDDz4IwED44IMPPgjAQPjggw8+CMBA+OCDDz4IwED44IMPPgjAQPjggw8+CMBA+OCDDz4IwED44IMPPgjAQPjggw8+CMBA+OCDDz4IwED44IMPPgjAQPjggw8+CMBA+OCDDz4IwED44IMPPgjAQPjggw8+CMBA+OCDDz4IwED44IMPPgjAQPjggw8+CMBA+OCDDz4IwED44IMPPgjAQPjggw8+CMBA+OCDDz4IwED44IMPPgjAQPjggw8+CMBA+OCDDz4IwED44IMPPgjAQPjggw8+CMBA+OCDDz4IwED44IMPPgjAQPjggw8+CMBA+OCDDz4IwED44IMPPgjAQPjggw8+CMBA+OCDDz4IwED44IMPPgjAQPjggw8+CMBA+OCDDz4IwED44IMPPgjAQPjggw8+CMBA+OCDDz4IwED44IMPPgjAQPjggw8+CMBA+OCDDz4IwED44IMPPgjAQPjggw8+CMBA+OCDDz4IwED44IMPPgjAQPjggw8+CMBA+OCDDz4IwED44IMPPgjAQPjggw8+CMBA+OCDDz4IwED44IMPPgjAQPjggw8+CMBA+OCDDz4IwED44IMPPgjAQPjggw8+CMBA+OCDDz4IwED44IMPPgjAQPjggw8+CMBA+OCDDz4IwED44IMPPgjAQPjggw8+CMBA+OCDDz4IwED44IMPPgjAQPjggw8+CMBA+OCDDz4IwED44IMPPgjAQPjggw8+CMBA+OCDDz4IwED44IMPPgjAQPjggw8+CMBA+OCDDz4IwED44IMPPgjAQPjggw8+CMBA+OCDDz4IwED44IMPPgjAQPjggw8+CMBA+OCDDz4IwED44IMPPgjAQPjggw8+CMBA+OCDDz4IwED44IMPPgjAQPjggw8+CMBA+OCDDz4IwED44IMPPgjAQPjggw8+CMBA+OCDDz4IwED44IMPPgjAQPjggw8+CMBA+OCDDz4IwED44IMPPgjAQPjggw8+CMBYCtT6lQIFwFgK1PqVAgXAWArU+pUCBcBYCtT6lQIFwFgK1PqVAgXAWArU+pUCBcBYCtT6lQIFwFgK1PqVAgXAWArU+pUCBcBYCtT6lQIFwFgK1PqVAgXAWArU+pUCBcBYCtT6lQIFwFgK1PqVAgXAWArU+pUCBcBYCtT6lQIFwFgK1PqVAgXAWArU+pUCBcBYCtT6lQIFwFgK1PqVAgXAWArU+pUCBcBYCtT6lQIFwFgK1PqVAgXAWArU+pUCBcBYCtT6lQIFwFgK1PqVAgXAWArU+pUCBcBYCtT6lQIFwFgK1PqVAgXAWArU+pUCBcBYCtT6lQIFwFgK1PqVAgXAWArU+pUCBcBYCtT6lQIFwFgK1PqVAgXAWArU+pUCBcBYCtT6lQIFwFgK1PqVAgXAWArU+pUCBcBYCtT6lQIFwFgK1PqVAgXAWArU+pUCBcBYCtT6lQIFwFgK1PqVAgXAWArU+pUCBcBYCtT6lQIFwFgK1PqVAgXAWArU+pUCBcBYCtT6lQIFwFgK1PqVAgXAWArU+pUCBcBYCtT6lQIFwFgK1PqVAgXAWArU+pUCBcBYCtT6lQIFwFgK1PqVAgXAWArU+pUCBcBYCtT6lQIFwFgK1PqVAgXAWArU+pUCBcBYCtT6lQIFwFgK1PqVAgXAWArU+pUCBcBYCtT6lQIFwFgK1PqVAgXAWArU+pUCBcBYCtT6lQIFwFgK1PqVAgXAWArU+pUCBcBYCtT6lQIFwFgK1PqVAgXAWArU+pUCBcBYCtT6lQIFwFgK1PqVAgXAWArU+pUCBcBYCtT6lQIFwFgK1PqVAgXAWArU+pUCBcBYCtT6lQIFwFgK1PqVAgXAWArU+pUCBcBYCtT6lQIFwFgK1PqVAgXAWArU+pUCBcBYCtT6lQIFwFgK1PqVAgXAWArU+pUCBcBYCtT6lQIFwFgK1PqVAgXAWArU+pUCBcBYCtT6lQIFwFgK1PqVAgXAWArU+pUCBcBYCtT6lQIFwFgK1PqVAgXAWArU+pUCBcBYCtT6lQIFwFgK1PqVAgXAWArU+pUCBcBYCtT6lQIFwHAcx3EcxwHAcBzHcRzHAcBwHMdxHMcBwHAcx3EcxwHAcBzHcRzHAcBwHMdxHMcBwHAcx3EcxwHAcBzHcRzHAcBwHMdxHMcBwHAcx3EcxwHAcBzHcRzHAcBwHMdxHMcBwHAcx3EcxwHAcBzHcRzHAcBwHMdxHMcBwHAcx3EcxwHAcBzHcRzHAcBwHMdxHMcBwHAcx3EcxwHAcBzHcRzHAcBwHMdxHMcBwHAcx3EcxwHAcBzHcRzHAcBwHMdxHMcBwHAcx3EcxwHAcBzHcRzHAcBwHMdxHMcBwHAcx3EcxwHAcBzHcRzHAcBwHMdxHMcBwHAcx3EcxwHAcBzHcRzHAcBwHMdxHMcBwHAcx3EcxwHAcBzHcRzHAcBwHMdxHMcBwHAcx3EcxwHAcBzHcRzHAcBwHMdxHMcBwHAcx3EcxwHAcBzHcRzHAcBwHMdxHMcBwHAcx3EcxwHAcBzHcRzHAcBwHMdxHMcBwHAcx3EcxwHAcBzHcRzHAcBwHMdxHMcBwHAcx3EcxwHAcBzHcRzHAcBwHMdxHMcBwHAcx3EcxwHAcBzHcRzHAcBwHMdxHMcBwHAcx3EcxwHAcBzHcRzHAcBwHMdxHMcBwHAcx3EcxwHAcBzHcRzHAcBwHMdxHMcBwHAcx3EcxwHAcBzHcRzHAcBwHMdxHMcBwHAcx3EcxwHAcBzHcRzHAcBwHMdxHMcBwHAcx3EcxwHAcBzHcRzHAcBwHMdxHMcBwHAcx3EcxwHAcBzHcRzHAcBwHMdxHMcBwHAcx3EcxwHAcBzHcRzHAcBwHMdxHMcBwHAcx3EcxwHAcBzHcRzHAcBwHMdxHMcBwHAcx3EcxwHAcBzHcRzHAcBwHMdxHMcBwHAcx3EcxwHAcBzHcRzHAcBwHMdxHMcBwHAcx3EcxwHAcBzHcRzHAcBwHMdxHMcBwHAcx3EcxwHAcBzHcRzHAcBwHMdxHMcBwHAcx3EcxwHAcBzHcRzHAcBwHMdxHMcBwHAcx3EcxwHAcBzHcRzHAcBwHMdxHMcBwHAcx3EcxwHAcBzHcRzHAcBwHMdxHMcBwHAcx3EcxwHAIF100UUX/b8gXXTRRRf9vyBddNFFF/2/IF100UUX/b8gXXTRRRf9vyBddNFFF/2/IF100UUX/b8gXXTRRRf9vyBddNFFF/2/IF100UUX/b8gXXTRRRf9vyBddNFFF/2/IF100UUX/b8gXXTRRRf9vyBddNFFF/2/IF100UUX/b8gXXTRRRf9vyBddNFFF/2/IF100UUX/b8gXXTRRRf9vyBddNFFF/2/IF100UUX/b8gXXTRRRf9vyBddNFFF/2/IF100UUX/b8gXXTRRRf9vyBddNFFF/2/IF100UUX/b8gXXTRRRf9vyBddNFFF/2/IF100UUX/b8gXXTRRRf9vyBddNFFF/2/IF100UUX/b8gXXTRRRf9vyBddNFFF/2/IF100UUX/b8gXXTRRRf9vyBddNFFF/2/IF100UUX/b8gXXTRRRf9vyBddNFFF/2/IF100UUX/b8gXXTRRRf9vyBddNFFF/2/IF100UUX/b8gXXTRRRf9vyBddNFFF/2/IF100UUX/b8gXXTRRRf9vyBddNFFF/2/IF100UUX/b8gXXTRRRf9vyBddNFFF/2/IF100UUX/b8gXXTRRRf9vyBddNFFF/2/IF100UUX/b8gXXTRRRf9vyBddNFFF/2/IF100UUX/b8gXXTRRRf9vyBddNFFF/2/IF100UUX/b8gXXTRRRf9vyBddNFFF/2/IF100UUX/b8gXXTRRRf9vyBddNFFF/2/IF100UUX/b8gXXTRRRf9vyBddNFFF/2/IF100UUX/b8gXXTRRRf9vyBddNFFF/2/IF100UUX/b8gXXTRRRf9vyBddNFFF/2/IF100UUX/b8gXXTRRRf9vyBddNFFF/2/IF100UUX/b8gXXTRRRf9vyBddNFFF/2/IF100UUX/b8gXXTRRRf9vyBddNFFF/2/IF100UUX/b8gXXTRRRf9vyBddNFFF/2/IF100UUX/b8gXXTRRRf9vyBddNFFF/2/IF100UUX/b8gXXTRRRf9vyBddNFFF/2/IF100UUX/b8gXXTRRRf9vyBddNFFF/2/IF100UUX/b9QgVq/UqD2v1CBWr9SoPa/UIFav1Kg9r9QgVq/UqD2v1CBWr9SoPa/UIFav1Kg9r9QgVq/UqD2v1CBWr9SoPa/UIFav1Kg9r9QgVq/UqD2v1CBWr9SoPa/UIFav1Kg9r9QgVq/UqD2v1CBWr9SoPa/UIFav1Kg9r9QgVq/UqD2v1CBWr9SoPa/UIFav1Kg9r9QgVq/UqD2v1CBWr9SoPa/UIFav1Kg9r9QgVq/UqD2v1CBWr9SoPa/UIFav1Kg9r9QgVq/UqD2v1CBWr9SoPa/UIFav1Kg9r9QgVq/UqD2v1CBWr9SoPa/UIFav1Kg9r9QgVq/UqD2v1CBWr9SoPa/UIFav1Kg9r9QgVq/UqD2v1CBWr9SoPa/UIFav1Kg9r9QgVq/UqD2v1CBWr9SoPa/UIFav1Kg9r9QgVq/UqD2v1CBWr9SoPa/UIFav1Kg9r9QgVq/UqD2v1CBWr9SoPa/UIFav1Kg9r9QgVq/UqD2v1CBWr9SoPa/UIFav1Kg9r9QgVq/UqD2v1CBWr9SoPa/UIFav1Kg9r9QgVq/UqD2v1CBWr9SoPa/UIFav1Kg9r9QgVq/UqD2v1CBWr9SoPa/UIFav1Kg9r9QgVq/UqD2v1CBWr9SoPa/UIFav1Kg9r9QgVq/UqD2v1CBWr9SoPa/UIFav1Kg9r9QgVq/UqD2v1CBWr9SoPa/UIFav1Kg9r9QgVq/UqD2v1CBWr9SoPa/UIFav1Kg9r9QgVq/UqD2v1CBWr9SoPa/UIFav1Kg9r9QgVq/UqD2v1CBWr9SoPa/UIFav1Kg9r9QgVq/UqD2v1CBWr9SoPa/UIFav1Kg9r9QgVq/UqD2v1CBWr9SoPa/UIFav1Kg9r9QgVq/UqD2v1CBWr9SoPa/UIFav1Kg9r9QgVq/UqD2v1CBWr9SoPa/UIFav1Kg9r9QgVq/UqD2v1CBWr9SoPa/UIFav1Kg9r9QgVq/UqD2v1CBWr9SoPa/UIFav1Kg9r9QgVq/UqD2v1CBWr9SoPa/UIFav1Kg9r9QgVq/UqD2v1CBWr9SoPa/UIFav1Kg9r9QgVq/UqD2v4ClQK1fKfC/gKVArV8p8L+ApUCtXynwv4ClQK1fKfC/gKVArV8p8L+ApUCtXynwv4ClQK1fKfC/gKVArV8p8L+ApUCtXynwv4ClQK1fKfC/gKVArV8p8L+ApUCtXynwv4ClQK1fKfC/gKVArV8p8L+ApUCtXynwv4ClQK1fKfC/gKVArV8p8L+ApUCtXynwv4ClQK1fKfC/gKVArV8p8L+ApUCtXynwv4ClQK1fKfC/gKVArV8p8L+ApUCtXynwv4ClQK1fKfC/gKVArV8p8L+ApUCtXynwv4ClQK1fKfC/gKVArV8p8L+ApUCtXynwv4ClQK1fKfC/gKVArV8p8L+ApUCtXynwv4ClQK1fKfC/gKVArV8p8L+ApUCtXynwv4ClQK1fKfC/gKVArV8p8L+ApUCtXynwv4ClQK1fKfC/gKVArV8p8L+ApUCtXynwv4ClQK1fKfC/gKVArV8p8L+ApUCtXynwv4ClQK1fKfC/gKVArV8p8L+ApUCtXynwv4ClQK1fKfC/gKVArV8p8L+ApUCtXynwv4ClQK1fKfC/gKVArV8p8L+ApUCtXynwv4ClQK1fKfC/gKVArV8p8L+ApUCtXynwv4ClQK1fKfC/gKVArV8p8L+ApUCtXynwv4ClQK1fKfC/gKVArV8p8L+ApUCtXynwv4ClQK1fKfC/gKVArV8p8L+ApUCtXynwv4ClQK1fKfC/gKVArV8p8L+ApUCtXynwv4ClQK1fKfC/gKVArV8p8L+ApUCtXynwv4ClQK1fKfC/gKVArV8p8L+ApUCtXynwv4ClQK1fKfC/gKVArV8p8L+ApUCtXynwv4ClQK1fKfC/gKVArV8p8L+ApUCtXynwv4ClQK1fKfC/gKVArV8p8L+ApUCtXynwv4ClQK1fKfC/gKVArV8p8L+ApUCtXynwv4ClQK1fKfC/gKVArV8p8L+ApUCtXynwv4ClQK1fKfC/gKVArV8p8L+ApUCtXynwv4ClQK1fKfC/gKVArV8p8L+ApUCtXynwv4ClQK1fKfC/gKVArV8p8L+ApUCtXynwv4ClQK1fKfC/YJNNNtlk479gk0022WTjv2CTTTbZZOO/YJNNNtlk479gk0022WTjv2CTTTbZZOO/YJNNNtlk479gk0022WTjv2CTTTbZZOO/YJNNNtlk479gk0022WTjv2CTTTbZZOO/YJNNNtlk479gk0022WTjv2CTTTbZZOO/YJNNNtlk479gk0022WTjv2CTTTbZZOO/YJNNNtlk479gk0022WTjv2CTTTbZZOO/YJNNNtlk479gk0022WTjv2CTTTbZZOO/YJNNNtlk479gk0022WTjv2CTTTbZZOO/YJNNNtlk479gk0022WTjv2CTTTbZZOO/YJNNNtlk479gk0022WTjv2CTTTbZZOO/YJNNNtlk479gk0022WTjv2CTTTbZZOO/YJNNNtlk479gk0022WTjv2CTTTbZZOO/YJNNNtlk479gk0022WTjv2CTTTbZZOO/YJNNNtlk479gk0022WTjv2CTTTbZZOO/YJNNNtlk479gk0022WTjv2CTTTbZZOO/YJNNNtlk479gk0022WTjv2CTTTbZZOO/YJNNNtlk479gk0022WTjv2CTTTbZZOO/YJNNNtlk479gk0022WTjv2CTTTbZZOO/YJNNNtlk479gk0022WTjv2CTTTbZZOO/YJNNNtlk479gk0022WTjv2CTTTbZZOO/YJNNNtlk479gk0022WTjv2CTTTbZZOO/YJNNNtlk479gk0022WTjv2CTTTbZZOO/YJNNNtlk479gk0022WTjv2CTTTbZZOO/YJNNNtlk479gk0022WTjv2CTTTbZZOO/YJNNNtlk479gk0022WTjv2CTTTbZZOO/YJNNNtlk479gk0022WTjv2CTTTbZZOO/YJNNNtlk479gk0022WTjv2CTTTbZZOO/YJNNNtlk479gk0022WTjv2CTTTbZZOO/YJNNNtlk479gk0022WTjv2CTTTbZZOO/YJNNNtlk479gk0022WTjv2CTTTbZZOO/YJNNNtlk479gk0022WTjv2CTTTbZZOO/YJNNNtlk479gk0022WTjv2CTTTbZZOO/YJNNNtlk478Ab2dIzNvJvwBvZ0jM28m/AG9nSMzbyb8Ab2dIzNvJvwBvZ0jM28m/AG9nSMzbyb8Ab2dIzNvJvwBvZ0jM28m/AG9nSMzbyb8Ab2dIzNvJvwBvZ0jM28m/AG9nSMzbyb8Ab2dIzNvJvwBvZ0jM28m/AG9nSMzbyb8Ab2dIzNvJvwBvZ0jM28m/AG9nSMzbyb8Ab2dIzNvJvwBvZ0jM28m/AG9nSMzbyb8Ab2dIzNvJvwBvZ0jM28m/AG9nSMzbyb8Ab2dIzNvJvwBvZ0jM28m/AG9nSMzbyb8Ab2dIzNvJvwBvZ0jM28m/AG9nSMzbyb8Ab2dIzNvJvwBvZ0jM28m/AG9nSMzbyb8Ab2dIzNvJvwBvZ0jM28m/AG9nSMzbyb8Ab2dIzNvJvwBvZ0jM28m/AG9nSMzbyb8Ab2dIzNvJvwBvZ0jM28m/AG9nSMzbyb8Ab2dIzNvJvwBvZ0jM28m/AG9nSMzbyb8Ab2dIzNvJvwBvZ0jM28m/AG9nSMzbyb8Ab2dIzNvJvwBvZ0jM28m/AG9nSMzbyb8Ab2dIzNvJvwBvZ0jM28m/AG9nSMzbyb8Ab2dIzNvJvwBvZ0jM28m/AG9nSMzbyb8Ab2dIzNvJvwBvZ0jM28m/AG9nSMzbyb8Ab2dIzNvJvwBvZ0jM28m/AG9nSMzbyb8Ab2dIzNvJvwBvZ0jM28m/AG9nSMzbyb8Ab2dIzNvJvwBvZ0jM28m/AG9nSMzbyb8Ab2dIzNvJvwBvZ0jM28m/AG9nSMzbyb8Ab2dIzNvJvwBvZ0jM28m/AG9nSMzbyb8Ab2dIzNvJvwBvZ0jM28m/AG9nSMzbyb8Ab2dIzNvJvwBvZ0jM28m/AG9nSMzbyb8Ab2dIzNvJvwBvZ0jM28m/AG9nSMzbyb8Ab2dIzNvJvwBvZ0jM28m/AG9nSMzbyb8Ab2dIzNvJvwBvZ0jM28m/AG9nSMzbyb8Ab2dIzNvJvwBvZ0jM28m/AG9nSMzbyb8Ab2dIzNvJvwBvZ0jM28m/AG9nSMzbyb8Ab2dIzNvJvwBvZ0jM28m/AG9nSMzbyb8Ab2dIzNvJvwBvZ0jM28k/AG9nSMzbyT8Ab2dIzNvJPwBvZ0jM28k/AG9nSMzbyT8Ab2dIzNvJPwBvZ0jM28k/AG9nSMzbyT8Ab2dIzNvJPwBvZ0jM28k/AG9nSMzbyT8Ab2dIzNvJPwBvZ0jM28k/AG9nSMzbyT8Ab2dIzNvJPwBvZ0jM28k/AG9nSMzbyT8Ab2dIzNvJPwBvZ0jM28k/AG9nSMzbyT8Ab2dIzNvJPwBvZ0jM28k/AG9nSMzbyT8Ab2dIzNvJPwBvZ0jM28k/AG9nSMzbyT8Ab2dIzNvJPwBvZ0jM28k/AG9nSMzbyT8Ab2dIzNvJPwBvZ0jM28k/AG9nSMzbyT8Ab2dIzNvJPwBvZ0jM28k/AG9nSMzbyT8Ab2dIzNvJPwBvZ0jM28k/AG9nSMzbyT8Ab2dIzNvJPwBvZ0jM28k/AG9nSMzbyT8Ab2dIzNvJPwBvZ0jM28k/AG9nSMzbyT8Ab2dIzNvJPwBvZ0jM28k/AG9nSMzbyT8Ab2dIzNvJPwBvZ0jM28k/AG9nSMzbyT8Ab2dIzNvJPwBvZ0jM28k/AG9nSMzbyT8Ab2dIzNvJPwBvZ0jM28k/AG9nSMzbyT8Ab2dIzNvJPwBvZ0jM28k/AG9nSMzbyT8Ab2dIzNvJPwBvZ0jM28k/AG9nSMzbyT8Ab2dIzNvJPwBvZ0jM28k/AG9nSMzbyT8Ab2dIzNvJPwBvZ0jM28k/AG9nSMzbyT8Ab2dIzNvJPwBvZ0jM28k/AG9nSMzbyT8Ab2dIzNvJPwBvZ0jM28k/AG9nSMzbyT8Ab2dIzNvJPwBvZ0jM28k/AG9nSMzbyT8Ab2dIzNvJPwBvZ0jM28k/AG9nSMzbyT8Ab2dIzNvJPwBvZ0jM28k/AG9nSMzbyT8Ab2dIzNvJPwBvZ0jM28k/AG9nSMzbyT8Ab2dIzNvJPwBvZ0jM28k/AG9nSMzbyT8Ab2dIzNvJPwBvZ0jM28k/AG9nSMzbyT8Ab2dIzNvJPwBvZ0jM28k/AG9nSMzbyT8Ab2dIzNvJPwBvZ0jM28k/AG9nSMzbyT8Ab2dIzNvJPwBvZ0jM28k/YJNNNtlk4z9gk0022WTjP2CTTTbZZOM/YJNNNtlk4z9gk0022WTjP2CTTTbZZOM/YJNNNtlk4z9gk0022WTjP2CTTTbZZOM/YJNNNtlk4z9gk0022WTjP2CTTTbZZOM/YJNNNtlk4z9gk0022WTjP2CTTTbZZOM/YJNNNtlk4z9gk0022WTjP2CTTTbZZOM/YJNNNtlk4z9gk0022WTjP2CTTTbZZOM/YJNNNtlk4z9gk0022WTjP2CTTTbZZOM/YJNNNtlk4z9gk0022WTjP2CTTTbZZOM/YJNNNtlk4z9gk0022WTjP2CTTTbZZOM/YJNNNtlk4z9gk0022WTjP2CTTTbZZOM/YJNNNtlk4z9gk0022WTjP2CTTTbZZOM/YJNNNtlk4z9gk0022WTjP2CTTTbZZOM/YJNNNtlk4z9gk0022WTjP2CTTTbZZOM/YJNNNtlk4z9gk0022WTjP2CTTTbZZOM/YJNNNtlk4z9gk0022WTjP2CTTTbZZOM/YJNNNtlk4z9gk0022WTjP2CTTTbZZOM/YJNNNtlk4z9gk0022WTjP2CTTTbZZOM/YJNNNtlk4z9gk0022WTjP2CTTTbZZOM/YJNNNtlk4z9gk0022WTjP2CTTTbZZOM/YJNNNtlk4z9gk0022WTjP2CTTTbZZOM/YJNNNtlk4z9gk0022WTjP2CTTTbZZOM/YJNNNtlk4z9gk0022WTjP2CTTTbZZOM/YJNNNtlk4z9gk0022WTjP2CTTTbZZOM/YJNNNtlk4z9gk0022WTjP2CTTTbZZOM/YJNNNtlk4z9gk0022WTjP2CTTTbZZOM/YJNNNtlk4z9gk0022WTjP2CTTTbZZOM/YJNNNtlk4z9gk0022WTjP2CTTTbZZOM/YJNNNtlk4z9gk0022WTjP2CTTTbZZOM/YJNNNtlk4z9gk0022WTjP2CTTTbZZOM/YJNNNtlk4z9gk0022WTjP2CTTTbZZOM/YJNNNtlk4z9gk0022WTjP2CTTTbZZOM/YJNNNtlk4z9gk0022WTjP2CTTTbZZOM/YJNNNtlk4z+ApUCtXynwP4ClQK1fKfA/gKVArV8p8D+ApUCtXynwP4ClQK1fKfA/gKVArV8p8D+ApUCtXynwP4ClQK1fKfA/gKVArV8p8D+ApUCtXynwP4ClQK1fKfA/gKVArV8p8D+ApUCtXynwP4ClQK1fKfA/gKVArV8p8D+ApUCtXynwP4ClQK1fKfA/gKVArV8p8D+ApUCtXynwP4ClQK1fKfA/gKVArV8p8D+ApUCtXynwP4ClQK1fKfA/gKVArV8p8D+ApUCtXynwP4ClQK1fKfA/gKVArV8p8D+ApUCtXynwP4ClQK1fKfA/gKVArV8p8D+ApUCtXynwP4ClQK1fKfA/gKVArV8p8D+ApUCtXynwP4ClQK1fKfA/gKVArV8p8D+ApUCtXynwP4ClQK1fKfA/gKVArV8p8D+ApUCtXynwP4ClQK1fKfA/gKVArV8p8D+ApUCtXynwP4ClQK1fKfA/gKVArV8p8D+ApUCtXynwP4ClQK1fKfA/gKVArV8p8D+ApUCtXynwP4ClQK1fKfA/gKVArV8p8D+ApUCtXynwP4ClQK1fKfA/gKVArV8p8D+ApUCtXynwP4ClQK1fKfA/gKVArV8p8D+ApUCtXynwP4ClQK1fKfA/gKVArV8p8D+ApUCtXynwP4ClQK1fKfA/gKVArV8p8D+ApUCtXynwP4ClQK1fKfA/gKVArV8p8D+ApUCtXynwP4ClQK1fKfA/gKVArV8p8D+ApUCtXynwP4ClQK1fKfA/gKVArV8p8D+ApUCtXynwP4ClQK1fKfA/gKVArV8p8D+ApUCtXynwP4ClQK1fKfA/gKVArV8p8D+ApUCtXynwP4ClQK1fKfA/gKVArV8p8D+ApUCtXynwP4ClQK1fKfA/gKVArV8p8D+ApUCtXynwP4ClQK1fKfA/gKVArV8p8D+ApUCtXynwP4ClQK1fKfA/gKVArV8p8D+ApUCtXynwP4ClQK1fKfA/gKVArV8p8D+ApUCtXynwP4ClQK1fKfA/gKVArV8p8D+ApUCtXynwP4ClQK1fKfA/gKVArV8p8D+ApUCtXynwP1CBWr9SoPY/UIFav1Kg9j9QgVq/UqD2P1CBWr9SoPY/UIFav1Kg9j9QgVq/UqD2P1CBWr9SoPY/UIFav1Kg9j9QgVq/UqD2P1CBWr9SoPY/UIFav1Kg9j9QgVq/UqD2P1CBWr9SoPY/UIFav1Kg9j9QgVq/UqD2P1CBWr9SoPY/UIFav1Kg9j9QgVq/UqD2P1CBWr9SoPY/UIFav1Kg9j9QgVq/UqD2P1CBWr9SoPY/UIFav1Kg9j9QgVq/UqD2P1CBWr9SoPY/UIFav1Kg9j9QgVq/UqD2P1CBWr9SoPY/UIFav1Kg9j9QgVq/UqD2P1CBWr9SoPY/UIFav1Kg9j9QgVq/UqD2P1CBWr9SoPY/UIFav1Kg9j9QgVq/UqD2P1CBWr9SoPY/UIFav1Kg9j9QgVq/UqD2P1CBWr9SoPY/UIFav1Kg9j9QgVq/UqD2P1CBWr9SoPY/UIFav1Kg9j9QgVq/UqD2P1CBWr9SoPY/UIFav1Kg9j9QgVq/UqD2P1CBWr9SoPY/UIFav1Kg9j9QgVq/UqD2P1CBWr9SoPY/UIFav1Kg9j9QgVq/UqD2P1CBWr9SoPY/UIFav1Kg9j9QgVq/UqD2P1CBWr9SoPY/UIFav1Kg9j9QgVq/UqD2P1CBWr9SoPY/UIFav1Kg9j9QgVq/UqD2P1CBWr9SoPY/UIFav1Kg9j9QgVq/UqD2P1CBWr9SoPY/UIFav1Kg9j9QgVq/UqD2P1CBWr9SoPY/UIFav1Kg9j9QgVq/UqD2P1CBWr9SoPY/UIFav1Kg9j9QgVq/UqD2P1CBWr9SoPY/UIFav1Kg9j9QgVq/UqD2P1CBWr9SoPY/UIFav1Kg9j9QgVq/UqD2P1CBWr9SoPY/UIFav1Kg9j9QgVq/UqD2P1CBWr9SoPY/UIFav1Kg9j9QgVq/UqD2P1CBWr9SoPY/UIFav1Kg9j9QgVq/UqD2P1CBWr9SoPY/UIFav1Kg9j9QgVq/UqD2P1CBWr9SoPY/UIFav1Kg9j9QgVq/UqD2P1CBWr9SoPY/UIFav1Kg9j9QgVq/UqD2P1CBWr9SoPY/EF100UUX/T8QXXTRRRf9PxBddNFFF/0/EF100UUX/T8QXXTRRRf9PxBddNFFF/0/EF100UUX/T8QXXTRRRf9PxBddNFFF/0/EF100UUX/T8QXXTRRRf9PxBddNFFF/0/EF100UUX/T8QXXTRRRf9PxBddNFFF/0/EF100UUX/T8QXXTRRRf9PxBddNFFF/0/EF100UUX/T8QXXTRRRf9PxBddNFFF/0/EF100UUX/T8QXXTRRRf9PxBddNFFF/0/EF100UUX/T8QXXTRRRf9PxBddNFFF/0/EF100UUX/T8QXXTRRRf9PxBddNFFF/0/EF100UUX/T8QXXTRRRf9PxBddNFFF/0/EF100UUX/T8QXXTRRRf9PxBddNFFF/0/EF100UUX/T8QXXTRRRf9PxBddNFFF/0/EF100UUX/T8QXXTRRRf9PxBddNFFF/0/EF100UUX/T8QXXTRRRf9PxBddNFFF/0/EF100UUX/T8QXXTRRRf9PxBddNFFF/0/EF100UUX/T8QXXTRRRf9PxBddNFFF/0/EF100UUX/T8QXXTRRRf9PxBddNFFF/0/EF100UUX/T8QXXTRRRf9PxBddNFFF/0/EF100UUX/T8QXXTRRRf9PxBddNFFF/0/EF100UUX/T8QXXTRRRf9PxBddNFFF/0/EF100UUX/T8QXXTRRRf9PxBddNFFF/0/EF100UUX/T8QXXTRRRf9PxBddNFFF/0/EF100UUX/T8QXXTRRRf9PxBddNFFF/0/EF100UUX/T8QXXTRRRf9PxBddNFFF/0/EF100UUX/T8QXXTRRRf9PxBddNFFF/0/EF100UUX/T8QXXTRRRf9PxBddNFFF/0/EF100UUX/T8QXXTRRRf9PxBddNFFF/0/EF100UUX/T8QXXTRRRf9PxBddNFFF/0/EF100UUX/T8QXXTRRRf9PxBddNFFF/0/EF100UUX/T8QXXTRRRf9PxBddNFFF/0/EF100UUX/T8QXXTRRRf9PxBddNFFF/0/EF100UUX/T8QXXTRRRf9PxBddNFFF/0/EF100UUX/T9wHMdxHMcBQHAcx3EcxwFAcBzHcRzHAUBwHMdxHMcBQHAcx3EcxwFAcBzHcRzHAUBwHMdxHMcBQHAcx3EcxwFAcBzHcRzHAUBwHMdxHMcBQHAcx3EcxwFAcBzHcRzHAUBwHMdxHMcBQHAcx3EcxwFAcBzHcRzHAUBwHMdxHMcBQHAcx3EcxwFAcBzHcRzHAUBwHMdxHMcBQHAcx3EcxwFAcBzHcRzHAUBwHMdxHMcBQHAcx3EcxwFAcBzHcRzHAUBwHMdxHMcBQHAcx3EcxwFAcBzHcRzHAUBwHMdxHMcBQHAcx3EcxwFAcBzHcRzHAUBwHMdxHMcBQHAcx3EcxwFAcBzHcRzHAUBwHMdxHMcBQHAcx3EcxwFAcBzHcRzHAUBwHMdxHMcBQHAcx3EcxwFAcBzHcRzHAUBwHMdxHMcBQHAcx3EcxwFAcBzHcRzHAUBwHMdxHMcBQHAcx3EcxwFAcBzHcRzHAUBwHMdxHMcBQHAcx3EcxwFAcBzHcRzHAUBwHMdxHMcBQHAcx3EcxwFAcBzHcRzHAUBwHMdxHMcBQHAcx3EcxwFAcBzHcRzHAUBwHMdxHMcBQHAcx3EcxwFAcBzHcRzHAUBwHMdxHMcBQHAcx3EcxwFAcBzHcRzHAUBwHMdxHMcBQHAcx3EcxwFAcBzHcRzHAUBwHMdxHMcBQHAcx3EcxwFAcBzHcRzHAUBwHMdxHMcBQHAcx3EcxwFAcBzHcRzHAUBwHMdxHMcBQHAcx3EcxwFAcBzHcRzHAUBwHMdxHMcBQHAcx3EcxwFAcBzHcRzHAUBwHMdxHMcBQHAcx3EcxwFAcBzHcRzHAUBwHMdxHMcBQHAcx3EcxwFAcBzHcRzHAUBwHMdxHMcBQHAcx3EcxwFAcBzHcRzHAUBwHMdxHMcBQHAcx3EcxwFAcBzHcRzHAUBwHMdxHMcBQHAcx3EcxwFAcBzHcRzHAUBwHMdxHMcBQHAcx3EcxwFAcBzHcRzHAUBwHMdxHMcBQHAcx3EcxwFAcBzHcRzHAUBwHMdxHMcBQHAcx3EcxwFAcBzHcRzHAUBwHMdxHMcBQFgK1PqVAgVAWArU+pUCBUBYCtT6lQIFQFgK1PqVAgVAWArU+pUCBUBYCtT6lQIFQFgK1PqVAgVAWArU+pUCBUBYCtT6lQIFQFgK1PqVAgVAWArU+pUCBUBYCtT6lQIFQFgK1PqVAgVAWArU+pUCBUBYCtT6lQIFQFgK1PqVAgVAWArU+pUCBUBYCtT6lQIFQFgK1PqVAgVAWArU+pUCBUBYCtT6lQIFQFgK1PqVAgVAWArU+pUCBUBYCtT6lQIFQFgK1PqVAgVAWArU+pUCBUBYCtT6lQIFQFgK1PqVAgVAWArU+pUCBUBYCtT6lQIFQFgK1PqVAgVAWArU+pUCBUBYCtT6lQIFQFgK1PqVAgVAWArU+pUCBUBYCtT6lQIFQFgK1PqVAgVAWArU+pUCBUBYCtT6lQIFQFgK1PqVAgVAWArU+pUCBUBYCtT6lQIFQFgK1PqVAgVAWArU+pUCBUBYCtT6lQIFQFgK1PqVAgVAWArU+pUCBUBYCtT6lQIFQFgK1PqVAgVAWArU+pUCBUBYCtT6lQIFQFgK1PqVAgVAWArU+pUCBUBYCtT6lQIFQFgK1PqVAgVAWArU+pUCBUBYCtT6lQIFQFgK1PqVAgVAWArU+pUCBUBYCtT6lQIFQFgK1PqVAgVAWArU+pUCBUBYCtT6lQIFQFgK1PqVAgVAWArU+pUCBUBYCtT6lQIFQFgK1PqVAgVAWArU+pUCBUBYCtT6lQIFQFgK1PqVAgVAWArU+pUCBUBYCtT6lQIFQFgK1PqVAgVAWArU+pUCBUBYCtT6lQIFQFgK1PqVAgVAWArU+pUCBUBYCtT6lQIFQFgK1PqVAgVAWArU+pUCBUBYCtT6lQIFQFgK1PqVAgVAWArU+pUCBUBYCtT6lQIFQFgK1PqVAgVAWArU+pUCBUBYCtT6lQIFQFgK1PqVAgVAWArU+pUCBUBYCtT6lQIFQFgK1PqVAgVAWArU+pUCBUBYCtT6lQIFQFgK1PqVAgVAWArU+pUCBUBYCtT6lQIFQFgK1PqVAgVAWArU+pUCBUBYCtT6lQIFQFgK1PqVAgVAQPjggw8+CEBA+OCDDz4IQED44IMPPghAQPjggw8+CEBA+OCDDz4IQED44IMPPghAQPjggw8+CEBA+OCDDz4IQED44IMPPghAQPjggw8+CEBA+OCDDz4IQED44IMPPghAQPjggw8+CEBA+OCDDz4IQED44IMPPghAQPjggw8+CEBA+OCDDz4IQED44IMPPghAQPjggw8+CEBA+OCDDz4IQED44IMPPghAQPjggw8+CEBA+OCDDz4IQED44IMPPghAQPjggw8+CEBA+OCDDz4IQED44IMPPghAQPjggw8+CEBA+OCDDz4IQED44IMPPghAQPjggw8+CEBA+OCDDz4IQED44IMPPghAQPjggw8+CEBA+OCDDz4IQED44IMPPghAQPjggw8+CEBA+OCDDz4IQED44IMPPghAQPjggw8+CEBA+OCDDz4IQED44IMPPghAQPjggw8+CEBA+OCDDz4IQED44IMPPghAQPjggw8+CEBA+OCDDz4IQED44IMPPghAQPjggw8+CEBA+OCDDz4IQED44IMPPghAQPjggw8+CEBA+OCDDz4IQED44IMPPghAQPjggw8+CEBA+OCDDz4IQED44IMPPghAQPjggw8+CEBA+OCDDz4IQED44IMPPghAQPjggw8+CEBA+OCDDz4IQED44IMPPghAQPjggw8+CEBA+OCDDz4IQED44IMPPghAQPjggw8+CEBA+OCDDz4IQED44IMPPghAQPjggw8+CEBA+OCDDz4IQED44IMPPghAQPjggw8+CEBA+OCDDz4IQED44IMPPghAQPjggw8+CEBA+OCDDz4IQED44IMPPghAQPjggw8+CEBA+OCDDz4IQED44IMPPghAQPjggw8+CEBA+OCDDz4IQED44IMPPghAQPjggw8+CEBA+OCDDz4IQED44IMPPghAQPjggw8+CEBA+OCDDz4IQED44IMPPghAQPjggw8+CEBA+OCDDz4IQED44IMPPghAQPjggw8+CEBA+OCDDz4IQED44IMPPghAQPjggw8+CEBA+OCDDz4IQED44IMPPghAQPjggw8+CEAg5u0MiXkLQCDm7QyJeQtAIObtDIl5C0Ag5u0MiXkLQCDm7QyJeQtAIObtDIl5C0Ag5u0MiXkLQCDm7QyJeQtAIObtDIl5C0Ag5u0MiXkLQCDm7QyJeQtAIObtDIl5C0Ag5u0MiXkLQCDm7QyJeQtAIObtDIl5C0Ag5u0MiXkLQCDm7QyJeQtAIObtDIl5C0Ag5u0MiXkLQCDm7QyJeQtAIObtDIl5C0Ag5u0MiXkLQCDm7QyJeQtAIObtDIl5C0Ag5u0MiXkLQCDm7QyJeQtAIObtDIl5C0Ag5u0MiXkLQCDm7QyJeQtAIObtDIl5C0Ag5u0MiXkLQCDm7QyJeQtAIObtDIl5C0Ag5u0MiXkLQCDm7QyJeQtAIObtDIl5C0Ag5u0MiXkLQCDm7QyJeQtAIObtDIl5C0Ag5u0MiXkLQCDm7QyJeQtAIObtDIl5C0Ag5u0MiXkLQCDm7QyJeQtAIObtDIl5C0Ag5u0MiXkLQCDm7QyJeQtAIObtDIl5C0Ag5u0MiXkLQCDm7QyJeQtAIObtDIl5C0Ag5u0MiXkLQCDm7QyJeQtAIObtDIl5C0Ag5u0MiXkLQCDm7QyJeQtAIObtDIl5C0Ag5u0MiXkLQCDm7QyJeQtAIObtDIl5C0Ag5u0MiXkLQCDm7QyJeQtAIObtDIl5C0Ag5u0MiXkLQCDm7QyJeQtAIObtDIl5C0Ag5u0MiXkLQCDm7QyJeQtAIObtDIl5C0Ag5u0MiXkLQCDm7QyJeQtAIObtDIl5C0Ag5u0MiXkLQCDm7QyJeQtAIObtDIl5C0Ag5u0MiXkLQCDm7QyJeQtAIObtDIl5C0Ag5u0MiXkLQCDm7QyJeQtAIObtDIl5C0Ag5u0MiXkLQCDm7QyJeQtAIObtDIl5C0Ag5u0MiXkLQCDm7QyJeQtAIObtDIl5C0Ag5u0MiXkLQCDm7QyJeQtAIObtDIl5C0Ag5u0MiXkLQCDm7QyJeQtAIObtDIl5C0Ag5u0MiXkLQCDm7QyJeQtAIObtDIl5C0Ag5u0MiXkLQCDm7QyJeQtAIObtDIl5C0Ag5u0MiXkLQAjU+pUCtQ5ACNT6lQK1DkAI1PqVArUOQAjU+pUCtQ5ACNT6lQK1DkAI1PqVArUOQAjU+pUCtQ5ACNT6lQK1DkAI1PqVArUOQAjU+pUCtQ5ACNT6lQK1DkAI1PqVArUOQAjU+pUCtQ5ACNT6lQK1DkAI1PqVArUOQAjU+pUCtQ5ACNT6lQK1DkAI1PqVArUOQAjU+pUCtQ5ACNT6lQK1DkAI1PqVArUOQAjU+pUCtQ5ACNT6lQK1DkAI1PqVArUOQAjU+pUCtQ5ACNT6lQK1DkAI1PqVArUOQAjU+pUCtQ5ACNT6lQK1DkAI1PqVArUOQAjU+pUCtQ5ACNT6lQK1DkAI1PqVArUOQAjU+pUCtQ5ACNT6lQK1DkAI1PqVArUOQAjU+pUCtQ5ACNT6lQK1DkAI1PqVArUOQAjU+pUCtQ5ACNT6lQK1DkAI1PqVArUOQAjU+pUCtQ5ACNT6lQK1DkAI1PqVArUOQAjU+pUCtQ5ACNT6lQK1DkAI1PqVArUOQAjU+pUCtQ5ACNT6lQK1DkAI1PqVArUOQAjU+pUCtQ5ACNT6lQK1DkAI1PqVArUOQAjU+pUCtQ5ACNT6lQK1DkAI1PqVArUOQAjU+pUCtQ5ACNT6lQK1DkAI1PqVArUOQAjU+pUCtQ5ACNT6lQK1DkAI1PqVArUOQAjU+pUCtQ5ACNT6lQK1DkAI1PqVArUOQAjU+pUCtQ5ACNT6lQK1DkAI1PqVArUOQAjU+pUCtQ5ACNT6lQK1DkAI1PqVArUOQAjU+pUCtQ5ACNT6lQK1DkAI1PqVArUOQAjU+pUCtQ5ACNT6lQK1DkAI1PqVArUOQAjU+pUCtQ5ACNT6lQK1DkAI1PqVArUOQAjU+pUCtQ5ACNT6lQK1DkAI1PqVArUOQAjU+pUCtQ5ACNT6lQK1DkAI1PqVArUOQAjU+pUCtQ5ACNT6lQK1DkAI1PqVArUOQAjU+pUCtQ5ACNT6lQK1DkAI1PqVArUOQAjU+pUCtQ5ACNT6lQK1DkAI1PqVArUOQAjU+pUCtQ5ACNT6lQK1DkAI1PqVArUOQAjU+pUCtQ5A+OCDDz74EED44IMPPvgQQPjggw8++BBA+OCDDz74EED44IMPPvgQQPjggw8++BBA+OCDDz74EED44IMPPvgQQPjggw8++BBA+OCDDz74EED44IMPPvgQQPjggw8++BBA+OCDDz74EED44IMPPvgQQPjggw8++BBA+OCDDz74EED44IMPPvgQQPjggw8++BBA+OCDDz74EED44IMPPvgQQPjggw8++BBA+OCDDz74EED44IMPPvgQQPjggw8++BBA+OCDDz74EED44IMPPvgQQPjggw8++BBA+OCDDz74EED44IMPPvgQQPjggw8++BBA+OCDDz74EED44IMPPvgQQPjggw8++BBA+OCDDz74EED44IMPPvgQQPjggw8++BBA+OCDDz74EED44IMPPvgQQPjggw8++BBA+OCDDz74EED44IMPPvgQQPjggw8++BBA+OCDDz74EED44IMPPvgQQPjggw8++BBA+OCDDz74EED44IMPPvgQQPjggw8++BBA+OCDDz74EED44IMPPvgQQPjggw8++BBA+OCDDz74EED44IMPPvgQQPjggw8++BBA+OCDDz74EED44IMPPvgQQPjggw8++BBA+OCDDz74EED44IMPPvgQQPjggw8++BBA+OCDDz74EED44IMPPvgQQPjggw8++BBA+OCDDz74EED44IMPPvgQQPjggw8++BBA+OCDDz74EED44IMPPvgQQPjggw8++BBA+OCDDz74EED44IMPPvgQQPjggw8++BBA+OCDDz74EED44IMPPvgQQPjggw8++BBA+OCDDz74EED44IMPPvgQQPjggw8++BBA+OCDDz74EED44IMPPvgQQPjggw8++BBA+OCDDz74EED44IMPPvgQQPjggw8++BBA+OCDDz74EED44IMPPvgQQPjggw8++BBA+OCDDz74EED44IMPPvgQQPjggw8++BBA+OCDDz74EED44IMPPvgQQPjggw8++BBA+OCDDz74EED44IMPPvgQQPjggw8++BBA+OCDDz74EED44IMPPvgQQPjggw8++BBA+OCDDz74EEDsVwrU+pUSQOxXCtT6lRJA7FcK1PqVEkDsVwrU+pUSQOxXCtT6lRJA7FcK1PqVEkDsVwrU+pUSQOxXCtT6lRJA7FcK1PqVEkDsVwrU+pUSQOxXCtT6lRJA7FcK1PqVEkDsVwrU+pUSQOxXCtT6lRJA7FcK1PqVEkDsVwrU+pUSQOxXCtT6lRJA7FcK1PqVEkDsVwrU+pUSQOxXCtT6lRJA7FcK1PqVEkDsVwrU+pUSQOxXCtT6lRJA7FcK1PqVEkDsVwrU+pUSQOxXCtT6lRJA7FcK1PqVEkDsVwrU+pUSQOxXCtT6lRJA7FcK1PqVEkDsVwrU+pUSQOxXCtT6lRJA7FcK1PqVEkDsVwrU+pUSQOxXCtT6lRJA7FcK1PqVEkDsVwrU+pUSQOxXCtT6lRJA7FcK1PqVEkDsVwrU+pUSQOxXCtT6lRJA7FcK1PqVEkDsVwrU+pUSQOxXCtT6lRJA7FcK1PqVEkDsVwrU+pUSQOxXCtT6lRJA7FcK1PqVEkDsVwrU+pUSQOxXCtT6lRJA7FcK1PqVEkDsVwrU+pUSQOxXCtT6lRJA7FcK1PqVEkDsVwrU+pUSQOxXCtT6lRJA7FcK1PqVEkDsVwrU+pUSQOxXCtT6lRJA7FcK1PqVEkDsVwrU+pUSQOxXCtT6lRJA7FcK1PqVEkDsVwrU+pUSQOxXCtT6lRJA7FcK1PqVEkDsVwrU+pUSQOxXCtT6lRJA7FcK1PqVEkDsVwrU+pUSQOxXCtT6lRJA7FcK1PqVEkDsVwrU+pUSQOxXCtT6lRJA7FcK1PqVEkDsVwrU+pUSQOxXCtT6lRJA7FcK1PqVEkDsVwrU+pUSQOxXCtT6lRJA7FcK1PqVEkDsVwrU+pUSQOxXCtT6lRJA7FcK1PqVEkDsVwrU+pUSQOxXCtT6lRJA7FcK1PqVEkDsVwrU+pUSQOxXCtT6lRJA7FcK1PqVEkDsVwrU+pUSQOxXCtT6lRJA7FcK1PqVEkDsVwrU+pUSQOxXCtT6lRJA7FcK1PqVEkDsVwrU+pUSQOxXCtT6lRJA7FcK1PqVEkDsVwrU+pUSQNzOkJi3MxRA3M6QmLczFEDczpCYtzMUQNzOkJi3MxRA3M6QmLczFEDczpCYtzMUQNzOkJi3MxRA3M6QmLczFEDczpCYtzMUQNzOkJi3MxRA3M6QmLczFEDczpCYtzMUQNzOkJi3MxRA3M6QmLczFEDczpCYtzMUQNzOkJi3MxRA3M6QmLczFEDczpCYtzMUQNzOkJi3MxRA3M6QmLczFEDczpCYtzMUQNzOkJi3MxRA3M6QmLczFEDczpCYtzMUQNzOkJi3MxRA3M6QmLczFEDczpCYtzMUQNzOkJi3MxRA3M6QmLczFEDczpCYtzMUQNzOkJi3MxRA3M6QmLczFEDczpCYtzMUQNzOkJi3MxRA3M6QmLczFEDczpCYtzMUQNzOkJi3MxRA3M6QmLczFEDczpCYtzMUQNzOkJi3MxRA3M6QmLczFEDczpCYtzMUQNzOkJi3MxRA3M6QmLczFEDczpCYtzMUQNzOkJi3MxRA3M6QmLczFEDczpCYtzMUQNzOkJi3MxRA3M6QmLczFEDczpCYtzMUQNzOkJi3MxRA3M6QmLczFEDczpCYtzMUQNzOkJi3MxRA3M6QmLczFEDczpCYtzMUQNzOkJi3MxRA3M6QmLczFEDczpCYtzMUQNzOkJi3MxRA3M6QmLczFEDczpCYtzMUQNzOkJi3MxRA3M6QmLczFEDczpCYtzMUQNzOkJi3MxRA3M6QmLczFEDczpCYtzMUQNzOkJi3MxRA3M6QmLczFEDczpCYtzMUQNzOkJi3MxRA3M6QmLczFEDczpCYtzMUQNzOkJi3MxRA3M6QmLczFEDczpCYtzMUQNzOkJi3MxRA3M6QmLczFEDczpCYtzMUQNzOkJi3MxRA3M6QmLczFEDczpCYtzMUQNzOkJi3MxRA3M6QmLczFEDczpCYtzMUQNzOkJi3MxRA3M6QmLczFEDczpCYtzMUQNzOkJi3MxRA3M6QmLczFEDczpCYtzMUQNzOkJi3MxRA3M6QmLczFEDczpCYtzMUQNzOkJi3MxRA3M6QmLczFEDczpCYtzMUQNzOkJi3MxRA0EUXXXTRFUDQRRdddNEVQNBFF1100RVA0EUXXXTRFUDQRRdddNEVQNBFF1100RVA0EUXXXTRFUDQRRdddNEVQNBFF1100RVA0EUXXXTRFUDQRRdddNEVQNBFF1100RVA0EUXXXTRFUDQRRdddNEVQNBFF1100RVA0EUXXXTRFUDQRRdddNEVQNBFF1100RVA0EUXXXTRFUDQRRdddNEVQNBFF1100RVA0EUXXXTRFUDQRRdddNEVQNBFF1100RVA0EUXXXTRFUDQRRdddNEVQNBFF1100RVA0EUXXXTRFUDQRRdddNEVQNBFF1100RVA0EUXXXTRFUDQRRdddNEVQNBFF1100RVA0EUXXXTRFUDQRRdddNEVQNBFF1100RVA0EUXXXTRFUDQRRdddNEVQNBFF1100RVA0EUXXXTRFUDQRRdddNEVQNBFF1100RVA0EUXXXTRFUDQRRdddNEVQNBFF1100RVA0EUXXXTRFUDQRRdddNEVQNBFF1100RVA0EUXXXTRFUDQRRdddNEVQNBFF1100RVA0EUXXXTRFUDQRRdddNEVQNBFF1100RVA0EUXXXTRFUDQRRdddNEVQNBFF1100RVA0EUXXXTRFUDQRRdddNEVQNBFF1100RVA0EUXXXTRFUDQRRdddNEVQNBFF1100RVA0EUXXXTRFUDQRRdddNEVQNBFF1100RVA0EUXXXTRFUDQRRdddNEVQNBFF1100RVA0EUXXXTRFUDQRRdddNEVQNBFF1100RVA0EUXXXTRFUDQRRdddNEVQNBFF1100RVA0EUXXXTRFUDQRRdddNEVQNBFF1100RVA0EUXXXTRFUDQRRdddNEVQNBFF1100RVA0EUXXXTRFUDQRRdddNEVQNBFF1100RVA0EUXXXTRFUDQRRdddNEVQNBFF1100RVA0EUXXXTRFUDQRRdddNEVQNBFF1100RVA0EUXXXTRFUDQRRdddNEVQNBFF1100RVA0EUXXXTRFUDQRRdddNEVQNBFF1100RVA0EUXXXTRFUDQRRdddNEVQNBFF1100RVA0EUXXXTRFUDEvJ0hMW8XQMS8nSExbxdAxLydITFvF0DEvJ0hMW8XQMS8nSExbxdAxLydITFvF0DEvJ0hMW8XQMS8nSExbxdAxLydITFvF0DEvJ0hMW8XQMS8nSExbxdAxLydITFvF0DEvJ0hMW8XQMS8nSExbxdAxLydITFvF0DEvJ0hMW8XQMS8nSExbxdAxLydITFvF0DEvJ0hMW8XQMS8nSExbxdAxLydITFvF0DEvJ0hMW8XQMS8nSExbxdAxLydITFvF0DEvJ0hMW8XQMS8nSExbxdAxLydITFvF0DEvJ0hMW8XQMS8nSExbxdAxLydITFvF0DEvJ0hMW8XQMS8nSExbxdAxLydITFvF0DEvJ0hMW8XQMS8nSExbxdAxLydITFvF0DEvJ0hMW8XQMS8nSExbxdAxLydITFvF0DEvJ0hMW8XQMS8nSExbxdAxLydITFvF0DEvJ0hMW8XQMS8nSExbxdAxLydITFvF0DEvJ0hMW8XQMS8nSExbxdAxLydITFvF0DEvJ0hMW8XQMS8nSExbxdAxLydITFvF0DEvJ0hMW8XQMS8nSExbxdAxLydITFvF0DEvJ0hMW8XQMS8nSExbxdAxLydITFvF0DEvJ0hMW8XQMS8nSExbxdAxLydITFvF0DEvJ0hMW8XQMS8nSExbxdAxLydITFvF0DEvJ0hMW8XQMS8nSExbxdAxLydITFvF0DEvJ0hMW8XQMS8nSExbxdAxLydITFvF0DEvJ0hMW8XQMS8nSExbxdAxLydITFvF0DEvJ0hMW8XQMS8nSExbxdAxLydITFvF0DEvJ0hMW8XQMS8nSExbxdAxLydITFvF0DEvJ0hMW8XQMS8nSExbxdAxLydITFvF0DEvJ0hMW8XQMS8nSExbxdAxLydITFvF0DEvJ0hMW8XQMS8nSExbxdAxLydITFvF0DEvJ0hMW8XQMS8nSExbxdAxLydITFvF0DEvJ0hMW8XQMS8nSExbxdAxLydITFvF0DEvJ0hMW8XQMS8nSExbxdAxLydITFvF0DEvJ0hMW8XQMS8nSExbxdAxLydITFvF0DEvJ0hMW8XQLgzJObtDBlAuDMk5u0MGUC4MyTm7QwZQLgzJObtDBlAuDMk5u0MGUC4MyTm7QwZQLgzJObtDBlAuDMk5u0MGUC4MyTm7QwZQLgzJObtDBlAuDMk5u0MGUC4MyTm7QwZQLgzJObtDBlAuDMk5u0MGUC4MyTm7QwZQLgzJObtDBlAuDMk5u0MGUC4MyTm7QwZQLgzJObtDBlAuDMk5u0MGUC4MyTm7QwZQLgzJObtDBlAuDMk5u0MGUC4MyTm7QwZQLgzJObtDBlAuDMk5u0MGUC4MyTm7QwZQLgzJObtDBlAuDMk5u0MGUC4MyTm7QwZQLgzJObtDBlAuDMk5u0MGUC4MyTm7QwZQLgzJObtDBlAuDMk5u0MGUC4MyTm7QwZQLgzJObtDBlAuDMk5u0MGUC4MyTm7QwZQLgzJObtDBlAuDMk5u0MGUC4MyTm7QwZQLgzJObtDBlAuDMk5u0MGUC4MyTm7QwZQLgzJObtDBlAuDMk5u0MGUC4MyTm7QwZQLgzJObtDBlAuDMk5u0MGUC4MyTm7QwZQLgzJObtDBlAuDMk5u0MGUC4MyTm7QwZQLgzJObtDBlAuDMk5u0MGUC4MyTm7QwZQLgzJObtDBlAuDMk5u0MGUC4MyTm7QwZQLgzJObtDBlAuDMk5u0MGUC4MyTm7QwZQLgzJObtDBlAuDMk5u0MGUC4MyTm7QwZQLgzJObtDBlAuDMk5u0MGUC4MyTm7QwZQLgzJObtDBlAuDMk5u0MGUC4MyTm7QwZQLgzJObtDBlAuDMk5u0MGUC4MyTm7QwZQLgzJObtDBlAuDMk5u0MGUC4MyTm7QwZQLgzJObtDBlAuDMk5u0MGUC4MyTm7QwZQLgzJObtDBlAuDMk5u0MGUC4MyTm7QwZQLgzJObtDBlAuDMk5u0MGUC4MyTm7QwZQLgzJObtDBlAuDMk5u0MGUC4MyTm7QwZQLgzJObtDBlAuDMk5u0MGUC4MyTm7QwZQLgzJObtDBlAuDMk5u0MGUC4MyTm7QwZQLgzJObtDBlAuDMk5u0MGUC4MyTm7QwZQLgzJObtDBlArKqqqqqqGkCsqqqqqqoaQKyqqqqqqhpArKqqqqqqGkCsqqqqqqoaQKyqqqqqqhpArKqqqqqqGkCsqqqqqqoaQKyqqqqqqhpArKqqqqqqGkCsqqqqqqoaQKyqqqqqqhpArKqqqqqqGkCsqqqqqqoaQKyqqqqqqhpArKqqqqqqGkCsqqqqqqoaQKyqqqqqqhpArKqqqqqqGkCsqqqqqqoaQKyqqqqqqhpArKqqqqqqGkCsqqqqqqoaQKyqqqqqqhpArKqqqqqqGkCsqqqqqqoaQKyqqqqqqhpArKqqqqqqGkCsqqqqqqoaQKyqqqqqqhpArKqqqqqqGkCsqqqqqqoaQKyqqqqqqhpArKqqqqqqGkCsqqqqqqoaQKyqqqqqqhpArKqqqqqqGkCsqqqqqqoaQKyqqqqqqhpArKqqqqqqGkCsqqqqqqoaQKyqqqqqqhpArKqqqqqqGkCsqqqqqqoaQKyqqqqqqhpArKqqqqqqGkCsqqqqqqoaQKyqqqqqqhpArKqqqqqqGkCsqqqqqqoaQKyqqqqqqhpArKqqqqqqGkCsqqqqqqoaQKyqqqqqqhpArKqqqqqqGkCsqqqqqqoaQKyqqqqqqhpArKqqqqqqGkCsqqqqqqoaQKyqqqqqqhpArKqqqqqqGkCsqqqqqqoaQKyqqqqqqhpArKqqqqqqGkCsqqqqqqoaQKyqqqqqqhpArKqqqqqqGkCsqqqqqqoaQKyqqqqqqhpArKqqqqqqGkCsqqqqqqoaQKyqqqqqqhpArKqqqqqqGkCsqqqqqqoaQKyqqqqqqhpArKqqqqqqGkCsqqqqqqoaQKyqqqqqqhpArKqqqqqqGkCsqqqqqqoaQKyqqqqqqhpArKqqqqqqGkCsqqqqqqoaQKyqqqqqqhpArKqqqqqqGkCsqqqqqqoaQKyqqqqqqhpArKqqqqqqGkCsqqqqqqoaQKyqqqqqqhpArKqqqqqqGkCsqqqqqqoaQKyqqqqqqhpArKqqqqqqGkCsqqqqqqoaQKyqqqqqqhpArKqqqqqqGkCsqqqqqqoaQKyqqqqqqhpArKqqqqqqGkCcITFvZ0gcQJwhMW9nSBxAnCExb2dIHECcITFvZ0gcQJwhMW9nSBxAnCExb2dIHECcITFvZ0gcQJwhMW9nSBxAnCExb2dIHECcITFvZ0gcQJwhMW9nSBxAnCExb2dIHECcITFvZ0gcQJwhMW9nSBxAnCExb2dIHECcITFvZ0gcQJwhMW9nSBxAnCExb2dIHECcITFvZ0gcQJwhMW9nSBxAnCExb2dIHECcITFvZ0gcQJwhMW9nSBxAnCExb2dIHECcITFvZ0gcQJwhMW9nSBxAnCExb2dIHECcITFvZ0gcQJwhMW9nSBxAnCExb2dIHECcITFvZ0gcQJwhMW9nSBxAnCExb2dIHECcITFvZ0gcQJwhMW9nSBxAnCExb2dIHECcITFvZ0gcQJwhMW9nSBxAnCExb2dIHECcITFvZ0gcQJwhMW9nSBxAnCExb2dIHECcITFvZ0gcQJwhMW9nSBxAnCExb2dIHECcITFvZ0gcQJwhMW9nSBxAnCExb2dIHECcITFvZ0gcQJwhMW9nSBxAnCExb2dIHECcITFvZ0gcQJwhMW9nSBxAnCExb2dIHECcITFvZ0gcQJwhMW9nSBxAnCExb2dIHECcITFvZ0gcQJwhMW9nSBxAnCExb2dIHECcITFvZ0gcQJwhMW9nSBxAnCExb2dIHECcITFvZ0gcQJwhMW9nSBxAnCExb2dIHECcITFvZ0gcQJwhMW9nSBxAnCExb2dIHECcITFvZ0gcQJwhMW9nSBxAnCExb2dIHECcITFvZ0gcQJwhMW9nSBxAnCExb2dIHECcITFvZ0gcQJwhMW9nSBxAnCExb2dIHECcITFvZ0gcQJwhMW9nSBxAnCExb2dIHECcITFvZ0gcQJwhMW9nSBxAnCExb2dIHECcITFvZ0gcQJwhMW9nSBxAnCExb2dIHECcITFvZ0gcQJwhMW9nSBxAnCExb2dIHECcITFvZ0gcQJwhMW9nSBxAnCExb2dIHECcITFvZ0gcQJwhMW9nSBxAnCExb2dIHECcITFvZ0gcQJwhMW9nSBxAnCExb2dIHECcITFvZ0gcQJCYtzMk5h1AkJi3MyTmHUCQmLczJOYdQJCYtzMk5h1AkJi3MyTmHUCQmLczJOYdQJCYtzMk5h1AkJi3MyTmHUCQmLczJOYdQJCYtzMk5h1AkJi3MyTmHUCQmLczJOYdQJCYtzMk5h1AkJi3MyTmHUCQmLczJOYdQJCYtzMk5h1AkJi3MyTmHUCQmLczJOYdQJCYtzMk5h1AkJi3MyTmHUCQmLczJOYdQJCYtzMk5h1AkJi3MyTmHUCQmLczJOYdQJCYtzMk5h1AkJi3MyTmHUCQmLczJOYdQJCYtzMk5h1AkJi3MyTmHUCQmLczJOYdQJCYtzMk5h1AkJi3MyTmHUCQmLczJOYdQJCYtzMk5h1AkJi3MyTmHUCQmLczJOYdQJCYtzMk5h1AkJi3MyTmHUCQmLczJOYdQJCYtzMk5h1AkJi3MyTmHUCQmLczJOYdQJCYtzMk5h1AkJi3MyTmHUCQmLczJOYdQJCYtzMk5h1AkJi3MyTmHUCQmLczJOYdQJCYtzMk5h1AkJi3MyTmHUCQmLczJOYdQJCYtzMk5h1AkJi3MyTmHUCQmLczJOYdQJCYtzMk5h1AkJi3MyTmHUCQmLczJOYdQJCYtzMk5h1AkJi3MyTmHUCQmLczJOYdQJCYtzMk5h1AkJi3MyTmHUCQmLczJOYdQJCYtzMk5h1AkJi3MyTmHUCQmLczJOYdQJCYtzMk5h1AkJi3MyTmHUCQmLczJOYdQJCYtzMk5h1AkJi3MyTmHUCQmLczJOYdQJCYtzMk5h1AkJi3MyTmHUCQmLczJOYdQJCYtzMk5h1AkJi3MyTmHUCQmLczJOYdQJCYtzMk5h1AkJi3MyTmHUCQmLczJOYdQJCYtzMk5h1AkJi3MyTmHUCQmLczJOYdQJCYtzMk5h1AkJi3MyTmHUCQmLczJOYdQJCYtzMk5h1AkJi3MyTmHUCQmLczJOYdQJCYtzMk5h1AkJi3MyTmHUCQmLczJOYdQJCYtzMk5h1AkJi3MyTmHUCQmLczJOYdQJCYtzMk5h1AkJi3MyTmHUCQmLczJOYdQJCYtzMk5h1AhA8++OCDH0CEDz744IMfQIQPPvjggx9AhA8++OCDH0CEDz744IMfQIQPPvjggx9AhA8++OCDH0CEDz744IMfQIQPPvjggx9AhA8++OCDH0CEDz744IMfQIQPPvjggx9AhA8++OCDH0CEDz744IMfQIQPPvjggx9AhA8++OCDH0CEDz744IMfQIQPPvjggx9AhA8++OCDH0CEDz744IMfQIQPPvjggx9AhA8++OCDH0CEDz744IMfQIQPPvjggx9AhA8++OCDH0CEDz744IMfQIQPPvjggx9AhA8++OCDH0CEDz744IMfQIQPPvjggx9AhA8++OCDH0CEDz744IMfQIQPPvjggx9AhA8++OCDH0CEDz744IMfQIQPPvjggx9AhA8++OCDH0CEDz744IMfQIQPPvjggx9AhA8++OCDH0CEDz744IMfQIQPPvjggx9AhA8++OCDH0CEDz744IMfQIQPPvjggx9AhA8++OCDH0CEDz744IMfQIQPPvjggx9AhA8++OCDH0CEDz744IMfQIQPPvjggx9AhA8++OCDH0CEDz744IMfQIQPPvjggx9AhA8++OCDH0CEDz744IMfQIQPPvjggx9AhA8++OCDH0CEDz744IMfQIQPPvjggx9AhA8++OCDH0CEDz744IMfQIQPPvjggx9AhA8++OCDH0CEDz744IMfQIQPPvjggx9AhA8++OCDH0CEDz744IMfQIQPPvjggx9AhA8++OCDH0CEDz744IMfQIQPPvjggx9AhA8++OCDH0CEDz744IMfQIQPPvjggx9AhA8++OCDH0CEDz744IMfQIQPPvjggx9AhA8++OCDH0CEDz744IMfQIQPPvjggx9AhA8++OCDH0CEDz744IMfQIQPPvjggx9AhA8++OCDH0CEDz744IMfQIQPPvjggx9AhA8++OCDH0CEDz744IMfQIQPPvjggx9AhA8++OCDH0CEDz744IMfQIQPPvjggx9AhA8++OCDH0CEDz744IMfQIQPPvjggx9AhA8++OCDH0CEDz744IMfQIQPPvjggx9AhA8++OCDH0A8Q2LezpAgQDxDYt7OkCBAPENi3s6QIEA8Q2LezpAgQDxDYt7OkCBAPENi3s6QIEA8Q2LezpAgQDxDYt7OkCBAPENi3s6QIEA8Q2LezpAgQDxDYt7OkCBAPENi3s6QIEA8Q2LezpAgQDxDYt7OkCBAPENi3s6QIEA8Q2LezpAgQDxDYt7OkCBAPENi3s6QIEA8Q2LezpAgQDxDYt7OkCBAPENi3s6QIEA8Q2LezpAgQDxDYt7OkCBAPENi3s6QIEA8Q2LezpAgQDxDYt7OkCBAPENi3s6QIEA8Q2LezpAgQDxDYt7OkCBAPENi3s6QIEA8Q2LezpAgQDxDYt7OkCBAPENi3s6QIEA8Q2LezpAgQDxDYt7OkCBAPENi3s6QIEA8Q2LezpAgQDxDYt7OkCBAPENi3s6QIEA8Q2LezpAgQDxDYt7OkCBAPENi3s6QIEA8Q2LezpAgQDxDYt7OkCBAPENi3s6QIEA8Q2LezpAgQDxDYt7OkCBAPENi3s6QIEA8Q2LezpAgQDxDYt7OkCBAPENi3s6QIEA8Q2LezpAgQDxDYt7OkCBAPENi3s6QIEA8Q2LezpAgQDxDYt7OkCBAPENi3s6QIEA8Q2LezpAgQDxDYt7OkCBAPENi3s6QIEA8Q2LezpAgQDxDYt7OkCBAPENi3s6QIEA8Q2LezpAgQDxDYt7OkCBAPENi3s6QIEA8Q2LezpAgQDxDYt7OkCBAPENi3s6QIEA8Q2LezpAgQDxDYt7OkCBAPENi3s6QIEA8Q2LezpAgQDxDYt7OkCBAPENi3s6QIEA8Q2LezpAgQDxDYt7OkCBAPENi3s6QIEA8Q2LezpAgQDxDYt7OkCBAPENi3s6QIEA8Q2LezpAgQDxDYt7OkCBAPENi3s6QIEA8Q2LezpAgQDxDYt7OkCBAPENi3s6QIEA8Q2LezpAgQDxDYt7OkCBAPENi3s6QIEA8Q2LezpAgQDxDYt7OkCBAPENi3s6QIEA8Q2LezpAgQDxDYt7OkCBAPENi3s6QIEA8Q2LezpAgQDxDYt7OkCBAPENi3s6QIEA8Q2LezpAgQLR+pUCtXyFAtH6lQK1fIUC0fqVArV8hQLR+pUCtXyFAtH6lQK1fIUC0fqVArV8hQLR+pUCtXyFAtH6lQK1fIUC0fqVArV8hQLR+pUCtXyFAtH6lQK1fIUC0fqVArV8hQLR+pUCtXyFAtH6lQK1fIUC0fqVArV8hQLR+pUCtXyFAtH6lQK1fIUC0fqVArV8hQLR+pUCtXyFAtH6lQK1fIUC0fqVArV8hQLR+pUCtXyFAtH6lQK1fIUC0fqVArV8hQLR+pUCtXyFAtH6lQK1fIUC0fqVArV8hQLR+pUCtXyFAtH6lQK1fIUC0fqVArV8hQLR+pUCtXyFAtH6lQK1fIUC0fqVArV8hQLR+pUCtXyFAtH6lQK1fIUC0fqVArV8hQLR+pUCtXyFAtH6lQK1fIUC0fqVArV8hQLR+pUCtXyFAtH6lQK1fIUC0fqVArV8hQLR+pUCtXyFAtH6lQK1fIUC0fqVArV8hQLR+pUCtXyFAtH6lQK1fIUC0fqVArV8hQLR+pUCtXyFAtH6lQK1fIUC0fqVArV8hQLR+pUCtXyFAtH6lQK1fIUC0fqVArV8hQLR+pUCtXyFAtH6lQK1fIUC0fqVArV8hQLR+pUCtXyFAtH6lQK1fIUC0fqVArV8hQLR+pUCtXyFAtH6lQK1fIUC0fqVArV8hQLR+pUCtXyFAtH6lQK1fIUC0fqVArV8hQLR+pUCtXyFAtH6lQK1fIUC0fqVArV8hQLR+pUCtXyFAtH6lQK1fIUC0fqVArV8hQLR+pUCtXyFAtH6lQK1fIUC0fqVArV8hQLR+pUCtXyFAtH6lQK1fIUC0fqVArV8hQLR+pUCtXyFAtH6lQK1fIUC0fqVArV8hQLR+pUCtXyFAtH6lQK1fIUC0fqVArV8hQLR+pUCtXyFAtH6lQK1fIUC0fqVArV8hQLR+pUCtXyFAtH6lQK1fIUC0fqVArV8hQLR+pUCtXyFAtH6lQK1fIUC0fqVArV8hQLR+pUCtXyFAtH6lQK1fIUC0fqVArV8hQLR+pUCtXyFAtH6lQK1fIUC0fqVArV8hQLR+pUCtXyFALrrooosuIkAuuuiiiy4iQC666KKLLiJALrrooosuIkAuuuiiiy4iQC666KKLLiJALrrooosuIkAuuuiiiy4iQC666KKLLiJALrrooosuIkAuuuiiiy4iQC666KKLLiJALrrooosuIkAuuuiiiy4iQC666KKLLiJALrrooosuIkAuuuiiiy4iQC666KKLLiJALrrooosuIkAuuuiiiy4iQC666KKLLiJALrrooosuIkAuuuiiiy4iQC666KKLLiJALrrooosuIkAuuuiiiy4iQC666KKLLiJALrrooosuIkAuuuiiiy4iQC666KKLLiJALrrooosuIkAuuuiiiy4iQC666KKLLiJALrrooosuIkAuuuiiiy4iQC666KKLLiJALrrooosuIkAuuuiiiy4iQC666KKLLiJALrrooosuIkAuuuiiiy4iQC666KKLLiJALrrooosuIkAuuuiiiy4iQC666KKLLiJALrrooosuIkAuuuiiiy4iQC666KKLLiJALrrooosuIkAuuuiiiy4iQC666KKLLiJALrrooosuIkAuuuiiiy4iQC666KKLLiJALrrooosuIkAuuuiiiy4iQC666KKLLiJALrrooosuIkAuuuiiiy4iQC666KKLLiJALrrooosuIkAuuuiiiy4iQC666KKLLiJALrrooosuIkAuuuiiiy4iQC666KKLLiJALrrooosuIkAuuuiiiy4iQC666KKLLiJALrrooosuIkAuuuiiiy4iQC666KKLLiJALrrooosuIkAuuuiiiy4iQC666KKLLiJALrrooosuIkAuuuiiiy4iQC666KKLLiJALrrooosuIkAuuuiiiy4iQC666KKLLiJALrrooosuIkAuuuiiiy4iQC666KKLLiJALrrooosuIkAuuuiiiy4iQC666KKLLiJALrrooosuIkAuuuiiiy4iQC666KKLLiJALrrooosuIkAuuuiiiy4iQC666KKLLiJALrrooosuIkAuuuiiiy4iQC666KKLLiJALrrooosuIkAuuuiiiy4iQC666KKLLiJALrrooosuIkCo9SsFav0iQKj1KwVq/SJAqPUrBWr9IkCo9SsFav0iQKj1KwVq/SJAqPUrBWr9IkCo9SsFav0iQKj1KwVq/SJAqPUrBWr9IkCo9SsFav0iQKj1KwVq/SJAqPUrBWr9IkCo9SsFav0iQKj1KwVq/SJAqPUrBWr9IkCo9SsFav0iQKj1KwVq/SJAqPUrBWr9IkCo9SsFav0iQKj1KwVq/SJAqPUrBWr9IkCo9SsFav0iQKj1KwVq/SJAqPUrBWr9IkCo9SsFav0iQKj1KwVq/SJAqPUrBWr9IkCo9SsFav0iQKj1KwVq/SJAqPUrBWr9IkCo9SsFav0iQKj1KwVq/SJAqPUrBWr9IkCo9SsFav0iQKj1KwVq/SJAqPUrBWr9IkCo9SsFav0iQKj1KwVq/SJAqPUrBWr9IkCo9SsFav0iQKj1KwVq/SJAqPUrBWr9IkCo9SsFav0iQKj1KwVq/SJAqPUrBWr9IkCo9SsFav0iQKj1KwVq/SJAqPUrBWr9IkCo9SsFav0iQKj1KwVq/SJAqPUrBWr9IkCo9SsFav0iQKj1KwVq/SJAqPUrBWr9IkCo9SsFav0iQKj1KwVq/SJAqPUrBWr9IkCo9SsFav0iQKj1KwVq/SJAqPUrBWr9IkCo9SsFav0iQKj1KwVq/SJAqPUrBWr9IkCo9SsFav0iQKj1KwVq/SJAqPUrBWr9IkCo9SsFav0iQKj1KwVq/SJAqPUrBWr9IkCo9SsFav0iQKj1KwVq/SJAqPUrBWr9IkCo9SsFav0iQKj1KwVq/SJAqPUrBWr9IkCo9SsFav0iQKj1KwVq/SJAqPUrBWr9IkCo9SsFav0iQKj1KwVq/SJAqPUrBWr9IkCo9SsFav0iQKj1KwVq/SJAqPUrBWr9IkCo9SsFav0iQKj1KwVq/SJAqPUrBWr9IkCo9SsFav0iQKj1KwVq/SJAqPUrBWr9IkCo9SsFav0iQKj1KwVq/SJAqPUrBWr9IkCo9SsFav0iQKj1KwVq/SJAqPUrBWr9IkCo9SsFav0iQKj1KwVq/SJAqPUrBWr9IkCo9SsFav0iQCIxb2dIzCNAIjFvZ0jMI0AiMW9nSMwjQCIxb2dIzCNAIjFvZ0jMI0AiMW9nSMwjQCIxb2dIzCNAIjFvZ0jMI0AiMW9nSMwjQCIxb2dIzCNAIjFvZ0jMI0AiMW9nSMwjQCIxb2dIzCNAIjFvZ0jMI0AiMW9nSMwjQCIxb2dIzCNAIjFvZ0jMI0AiMW9nSMwjQCIxb2dIzCNAIjFvZ0jMI0AiMW9nSMwjQCIxb2dIzCNAIjFvZ0jMI0AiMW9nSMwjQCIxb2dIzCNAIjFvZ0jMI0AiMW9nSMwjQCIxb2dIzCNAIjFvZ0jMI0AiMW9nSMwjQCIxb2dIzCNAIjFvZ0jMI0AiMW9nSMwjQCIxb2dIzCNAIjFvZ0jMI0AiMW9nSMwjQCIxb2dIzCNAIjFvZ0jMI0AiMW9nSMwjQCIxb2dIzCNAIjFvZ0jMI0AiMW9nSMwjQCIxb2dIzCNAIjFvZ0jMI0AiMW9nSMwjQCIxb2dIzCNAIjFvZ0jMI0AiMW9nSMwjQCIxb2dIzCNAIjFvZ0jMI0AiMW9nSMwjQCIxb2dIzCNAIjFvZ0jMI0AiMW9nSMwjQCIxb2dIzCNAIjFvZ0jMI0AiMW9nSMwjQCIxb2dIzCNAIjFvZ0jMI0AiMW9nSMwjQCIxb2dIzCNAIjFvZ0jMI0AiMW9nSMwjQCIxb2dIzCNAIjFvZ0jMI0AiMW9nSMwjQCIxb2dIzCNAIjFvZ0jMI0AiMW9nSMwjQCIxb2dIzCNAIjFvZ0jMI0AiMW9nSMwjQCIxb2dIzCNAIjFvZ0jMI0AiMW9nSMwjQCIxb2dIzCNAIjFvZ0jMI0AiMW9nSMwjQCIxb2dIzCNAIjFvZ0jMI0AiMW9nSMwjQCIxb2dIzCNAIjFvZ0jMI0AiMW9nSMwjQCIxb2dIzCNAIjFvZ0jMI0AiMW9nSMwjQCIxb2dIzCNAIjFvZ0jMI0AiMW9nSMwjQCIxb2dIzCNAIjFvZ0jMI0AiMW9nSMwjQCIxb2dIzCNAIjFvZ0jMI0AiMW9nSMwjQCIxb2dIzCNAIjFvZ0jMI0AiMW9nSMwjQCIxb2dIzCNAmmyyySabJECabLLJJpskQJpssskmmyRAmmyyySabJECabLLJJpskQJpssskmmyRAmmyyySabJECabLLJJpskQJpssskmmyRAmmyyySabJECabLLJJpskQJpssskmmyRAmmyyySabJECabLLJJpskQJpssskmmyRAmmyyySabJECabLLJJpskQJpssskmmyRAmmyyySabJECabLLJJpskQJpssskmmyRAmmyyySabJECabLLJJpskQJpssskmmyRAmmyyySabJECabLLJJpskQJpssskmmyRAmmyyySabJECabLLJJpskQJpssskmmyRAmmyyySabJECabLLJJpskQJpssskmmyRAmmyyySabJECabLLJJpskQJpssskmmyRAmmyyySabJECabLLJJpskQJpssskmmyRAmmyyySabJECabLLJJpskQJpssskmmyRAmmyyySabJECabLLJJpskQJpssskmmyRAmmyyySabJECabLLJJpskQJpssskmmyRAmmyyySabJECabLLJJpskQJpssskmmyRAmmyyySabJECabLLJJpskQJpssskmmyRAmmyyySabJECabLLJJpskQJpssskmmyRAmmyyySabJECabLLJJpskQJpssskmmyRAmmyyySabJECabLLJJpskQJpssskmmyRAmmyyySabJECabLLJJpskQJpssskmmyRAmmyyySabJECabLLJJpskQJpssskmmyRAmmyyySabJECabLLJJpskQJpssskmmyRAmmyyySabJECabLLJJpskQJpssskmmyRAmmyyySabJECabLLJJpskQJpssskmmyRAmmyyySabJECabLLJJpskQJpssskmmyRAmmyyySabJECabLLJJpskQJpssskmmyRAmmyyySabJECabLLJJpskQJpssskmmyRAmmyyySabJECabLLJJpskQJpssskmmyRAmmyyySabJECabLLJJpskQJpssskmmyRAmmyyySabJECabLLJJpskQJpssskmmyRAmmyyySabJECabLLJJpskQJpssskmmyRAmmyyySabJEAUqPUrBWolQBSo9SsFaiVAFKj1KwVqJUAUqPUrBWolQBSo9SsFaiVAFKj1KwVqJUAUqPUrBWolQBSo9SsFaiVAFKj1KwVqJUAUqPUrBWolQBSo9SsFaiVAFKj1KwVqJUAUqPUrBWolQBSo9SsFaiVAFKj1KwVqJUAUqPUrBWolQBSo9SsFaiVAFKj1KwVqJUAUqPUrBWolQBSo9SsFaiVAFKj1KwVqJUAUqPUrBWolQBSo9SsFaiVAFKj1KwVqJUAUqPUrBWolQBSo9SsFaiVAFKj1KwVqJUAUqPUrBWolQBSo9SsFaiVAFKj1KwVqJUAUqPUrBWolQBSo9SsFaiVAFKj1KwVqJUAUqPUrBWolQBSo9SsFaiVAFKj1KwVqJUAUqPUrBWolQBSo9SsFaiVAFKj1KwVqJUAUqPUrBWolQBSo9SsFaiVAFKj1KwVqJUAUqPUrBWolQBSo9SsFaiVAFKj1KwVqJUAUqPUrBWolQBSo9SsFaiVAFKj1KwVqJUAUqPUrBWolQBSo9SsFaiVAFKj1KwVqJUAUqPUrBWolQBSo9SsFaiVAFKj1KwVqJUAUqPUrBWolQBSo9SsFaiVAFKj1KwVqJUAUqPUrBWolQBSo9SsFaiVAFKj1KwVqJUAUqPUrBWolQBSo9SsFaiVAFKj1KwVqJUAUqPUrBWolQBSo9SsFaiVAFKj1KwVqJUAUqPUrBWolQBSo9SsFaiVAFKj1KwVqJUAUqPUrBWolQBSo9SsFaiVAFKj1KwVqJUAUqPUrBWolQBSo9SsFaiVAFKj1KwVqJUAUqPUrBWolQBSo9SsFaiVAFKj1KwVqJUAUqPUrBWolQBSo9SsFaiVAFKj1KwVqJUAUqPUrBWolQBSo9SsFaiVAFKj1KwVqJUAUqPUrBWolQBSo9SsFaiVAFKj1KwVqJUAUqPUrBWolQBSo9SsFaiVAFKj1KwVqJUAUqPUrBWolQBSo9SsFaiVAFKj1KwVqJUAUqPUrBWolQBSo9SsFaiVAFKj1KwVqJUAUqPUrBWolQBSo9SsFaiVAFKj1KwVqJUAUqPUrBWolQI7jOI7jOCZAjuM4juM4JkCO4ziO4zgmQI7jOI7jOCZAjuM4juM4JkCO4ziO4zgmQI7jOI7jOCZAjuM4juM4JkCO4ziO4zgmQI7jOI7jOCZAjuM4juM4JkCO4ziO4zgmQI7jOI7jOCZAjuM4juM4JkCO4ziO4zgmQI7jOI7jOCZAjuM4juM4JkCO4ziO4zgmQI7jOI7jOCZAjuM4juM4JkCO4ziO4zgmQI7jOI7jOCZAjuM4juM4JkCO4ziO4zgmQI7jOI7jOCZAjuM4juM4JkCO4ziO4zgmQI7jOI7jOCZAjuM4juM4JkCO4ziO4zgmQI7jOI7jOCZAjuM4juM4JkCO4ziO4zgmQI7jOI7jOCZAjuM4juM4JkCO4ziO4zgmQI7jOI7jOCZAjuM4juM4JkCO4ziO4zgmQI7jOI7jOCZAjuM4juM4JkCO4ziO4zgmQI7jOI7jOCZAjuM4juM4JkCO4ziO4zgmQI7jOI7jOCZAjuM4juM4JkCO4ziO4zgmQI7jOI7jOCZAjuM4juM4JkCO4ziO4zgmQI7jOI7jOCZAjuM4juM4JkCO4ziO4zgmQI7jOI7jOCZAjuM4juM4JkCO4ziO4zgmQI7jOI7jOCZAjuM4juM4JkCO4ziO4zgmQI7jOI7jOCZAjuM4juM4JkCO4ziO4zgmQI7jOI7jOCZAjuM4juM4JkCO4ziO4zgmQI7jOI7jOCZAjuM4juM4JkCO4ziO4zgmQI7jOI7jOCZAjuM4juM4JkCO4ziO4zgmQI7jOI7jOCZAjuM4juM4JkCO4ziO4zgmQI7jOI7jOCZAjuM4juM4JkCO4ziO4zgmQI7jOI7jOCZAjuM4juM4JkCO4ziO4zgmQI7jOI7jOCZAjuM4juM4JkCO4ziO4zgmQI7jOI7jOCZAjuM4juM4JkCO4ziO4zgmQI7jOI7jOCZAjuM4juM4JkCO4ziO4zgmQI7jOI7jOCZAjuM4juM4JkCO4ziO4zgmQI7jOI7jOCZAjuM4juM4JkCO4ziO4zgmQI7jOI7jOCZAjuM4juM4JkCO4ziO4zgmQI7jOI7jOCZACB988MEHJ0AIH3zwwQcnQAgffPDBBydACB988MEHJ0AIH3zwwQcnQAgffPDBBydACB988MEHJ0AIH3zwwQcnQAgffPDBBydACB988MEHJ0AIH3zwwQcnQAgffPDBBydACB988MEHJ0AIH3zwwQcnQAgffPDBBydACB988MEHJ0AIH3zwwQcnQAgffPDBBydACB988MEHJ0AIH3zwwQcnQAgffPDBBydACB988MEHJ0AIH3zwwQcnQAgffPDBBydACB988MEHJ0AIH3zwwQcnQAgffPDBBydACB988MEHJ0AIH3zwwQcnQAgffPDBBydACB988MEHJ0AIH3zwwQcnQAgffPDBBydACB988MEHJ0AIH3zwwQcnQAgffPDBBydACB988MEHJ0AIH3zwwQcnQAgffPDBBydACB988MEHJ0AIH3zwwQcnQAgffPDBBydACB988MEHJ0AIH3zwwQcnQAgffPDBBydACB988MEHJ0AIH3zwwQcnQAgffPDBBydACB988MEHJ0AIH3zwwQcnQAgffPDBBydACB988MEHJ0AIH3zwwQcnQAgffPDBBydACB988MEHJ0AIH3zwwQcnQAgffPDBBydACB988MEHJ0AIH3zwwQcnQAgffPDBBydACB988MEHJ0AIH3zwwQcnQAgffPDBBydACB988MEHJ0AIH3zwwQcnQAgffPDBBydACB988MEHJ0AIH3zwwQcnQAgffPDBBydACB988MEHJ0AIH3zwwQcnQAgffPDBBydACB988MEHJ0AIH3zwwQcnQAgffPDBBydACB988MEHJ0AIH3zwwQcnQAgffPDBBydACB988MEHJ0AIH3zwwQcnQAgffPDBBydACB988MEHJ0AIH3zwwQcnQAgffPDBBydACB988MEHJ0AIH3zwwQcnQAgffPDBBydACB988MEHJ0AIH3zwwQcnQAgffPDBBydACB988MEHJ0AIH3zwwQcnQAgffPDBBydACB988MEHJ0AIH3zwwQcnQAgffPDBBydACB988MEHJ0AIH3zwwQcnQAgffPDBBydACB988MEHJ0CAWr9SoNYnQIBav1Kg1idAgFq/UqDWJ0CAWr9SoNYnQIBav1Kg1idAgFq/UqDWJ0CAWr9SoNYnQIBav1Kg1idAgFq/UqDWJ0CAWr9SoNYnQIBav1Kg1idAgFq/UqDWJ0CAWr9SoNYnQIBav1Kg1idAgFq/UqDWJ0CAWr9SoNYnQIBav1Kg1idAgFq/UqDWJ0CAWr9SoNYnQIBav1Kg1idAgFq/UqDWJ0CAWr9SoNYnQIBav1Kg1idAgFq/UqDWJ0CAWr9SoNYnQIBav1Kg1idAgFq/UqDWJ0CAWr9SoNYnQIBav1Kg1idAgFq/UqDWJ0CAWr9SoNYnQIBav1Kg1idAgFq/UqDWJ0CAWr9SoNYnQIBav1Kg1idAgFq/UqDWJ0CAWr9SoNYnQIBav1Kg1idAgFq/UqDWJ0CAWr9SoNYnQIBav1Kg1idAgFq/UqDWJ0CAWr9SoNYnQIBav1Kg1idAgFq/UqDWJ0CAWr9SoNYnQIBav1Kg1idAgFq/UqDWJ0CAWr9SoNYnQIBav1Kg1idAgFq/UqDWJ0CAWr9SoNYnQIBav1Kg1idAgFq/UqDWJ0CAWr9SoNYnQIBav1Kg1idAgFq/UqDWJ0CAWr9SoNYnQIBav1Kg1idAgFq/UqDWJ0CAWr9SoNYnQIBav1Kg1idAgFq/UqDWJ0CAWr9SoNYnQIBav1Kg1idAgFq/UqDWJ0CAWr9SoNYnQIBav1Kg1idAgFq/UqDWJ0CAWr9SoNYnQIBav1Kg1idAgFq/UqDWJ0CAWr9SoNYnQIBav1Kg1idAgFq/UqDWJ0CAWr9SoNYnQIBav1Kg1idAgFq/UqDWJ0CAWr9SoNYnQIBav1Kg1idAgFq/UqDWJ0CAWr9SoNYnQIBav1Kg1idAgFq/UqDWJ0CAWr9SoNYnQIBav1Kg1idAgFq/UqDWJ0CAWr9SoNYnQIBav1Kg1idAgFq/UqDWJ0CAWr9SoNYnQIBav1Kg1idAgFq/UqDWJ0CAWr9SoNYnQIBav1Kg1idAgFq/UqDWJ0CAWr9SoNYnQIBav1Kg1idAgFq/UqDWJ0CAWr9SoNYnQPyVArV+pShA/JUCtX6lKED8lQK1fqUoQPyVArV+pShA/JUCtX6lKED8lQK1fqUoQPyVArV+pShA/JUCtX6lKED8lQK1fqUoQPyVArV+pShA/JUCtX6lKED8lQK1fqUoQPyVArV+pShA/JUCtX6lKED8lQK1fqUoQPyVArV+pShA/JUCtX6lKED8lQK1fqUoQPyVArV+pShA/JUCtX6lKED8lQK1fqUoQPyVArV+pShA/JUCtX6lKED8lQK1fqUoQPyVArV+pShA/JUCtX6lKED8lQK1fqUoQPyVArV+pShA/JUCtX6lKED8lQK1fqUoQPyVArV+pShA/JUCtX6lKED8lQK1fqUoQPyVArV+pShA/JUCtX6lKED8lQK1fqUoQPyVArV+pShA/JUCtX6lKED8lQK1fqUoQPyVArV+pShA/JUCtX6lKED8lQK1fqUoQPyVArV+pShA/JUCtX6lKED8lQK1fqUoQPyVArV+pShA/JUCtX6lKED8lQK1fqUoQPyVArV+pShA/JUCtX6lKED8lQK1fqUoQPyVArV+pShA/JUCtX6lKED8lQK1fqUoQPyVArV+pShA/JUCtX6lKED8lQK1fqUoQPyVArV+pShA/JUCtX6lKED8lQK1fqUoQPyVArV+pShA/JUCtX6lKED8lQK1fqUoQPyVArV+pShA/JUCtX6lKED8lQK1fqUoQPyVArV+pShA/JUCtX6lKED8lQK1fqUoQPyVArV+pShA/JUCtX6lKED8lQK1fqUoQPyVArV+pShA/JUCtX6lKED8lQK1fqUoQPyVArV+pShA/JUCtX6lKED8lQK1fqUoQPyVArV+pShA/JUCtX6lKED8lQK1fqUoQPyVArV+pShA/JUCtX6lKED8lQK1fqUoQPyVArV+pShA/JUCtX6lKED8lQK1fqUoQPyVArV+pShA/JUCtX6lKED8lQK1fqUoQPyVArV+pShA/JUCtX6lKED8lQK1fqUoQPyVArV+pShA/JUCtX6lKED8lQK1fqUoQPyVArV+pShA/JUCtX6lKED8lQK1fqUoQPyVArV+pShAdNFFF110KUB00UUXXXQpQHTRRRdddClAdNFFF110KUB00UUXXXQpQHTRRRdddClAdNFFF110KUB00UUXXXQpQHTRRRdddClAdNFFF110KUB00UUXXXQpQHTRRRdddClAdNFFF110KUB00UUXXXQpQHTRRRdddClAdNFFF110KUB00UUXXXQpQHTRRRdddClAdNFFF110KUB00UUXXXQpQHTRRRdddClAdNFFF110KUB00UUXXXQpQHTRRRdddClAdNFFF110KUB00UUXXXQpQHTRRRdddClAdNFFF110KUB00UUXXXQpQHTRRRdddClAdNFFF110KUB00UUXXXQpQHTRRRdddClAdNFFF110KUB00UUXXXQpQHTRRRdddClAdNFFF110KUB00UUXXXQpQHTRRRdddClAdNFFF110KUB00UUXXXQpQHTRRRdddClAdNFFF110KUB00UUXXXQpQHTRRRdddClAdNFFF110KUB00UUXXXQpQHTRRRdddClAdNFFF110KUB00UUXXXQpQHTRRRdddClAdNFFF110KUB00UUXXXQpQHTRRRdddClAdNFFF110KUB00UUXXXQpQHTRRRdddClAdNFFF110KUB00UUXXXQpQHTRRRdddClAdNFFF110KUB00UUXXXQpQHTRRRdddClAdNFFF110KUB00UUXXXQpQHTRRRdddClAdNFFF110KUB00UUXXXQpQHTRRRdddClAdNFFF110KUB00UUXXXQpQHTRRRdddClAdNFFF110KUB00UUXXXQpQHTRRRdddClAdNFFF110KUB00UUXXXQpQHTRRRdddClAdNFFF110KUB00UUXXXQpQHTRRRdddClAdNFFF110KUB00UUXXXQpQHTRRRdddClAdNFFF110KUB00UUXXXQpQHTRRRdddClAdNFFF110KUB00UUXXXQpQHTRRRdddClAdNFFF110KUB00UUXXXQpQHTRRRdddClAdNFFF110KUB00UUXXXQpQHTRRRdddClAdNFFF110KUB00UUXXXQpQHTRRRdddClAdNFFF110KUDsDIl5O0MqQOwMiXk7QypA7AyJeTtDKkDsDIl5O0MqQOwMiXk7QypA7AyJeTtDKkDsDIl5O0MqQOwMiXk7QypA7AyJeTtDKkDsDIl5O0MqQOwMiXk7QypA7AyJeTtDKkDsDIl5O0MqQOwMiXk7QypA7AyJeTtDKkDsDIl5O0MqQOwMiXk7QypA7AyJeTtDKkDsDIl5O0MqQOwMiXk7QypA7AyJeTtDKkDsDIl5O0MqQOwMiXk7QypA7AyJeTtDKkDsDIl5O0MqQOwMiXk7QypA7AyJeTtDKkDsDIl5O0MqQOwMiXk7QypA7AyJeTtDKkDsDIl5O0MqQOwMiXk7QypA7AyJeTtDKkDsDIl5O0MqQOwMiXk7QypA7AyJeTtDKkDsDIl5O0MqQOwMiXk7QypA7AyJeTtDKkDsDIl5O0MqQOwMiXk7QypA7AyJeTtDKkDsDIl5O0MqQOwMiXk7QypA7AyJeTtDKkDsDIl5O0MqQOwMiXk7QypA7AyJeTtDKkDsDIl5O0MqQOwMiXk7QypA7AyJeTtDKkDsDIl5O0MqQOwMiXk7QypA7AyJeTtDKkDsDIl5O0MqQOwMiXk7QypA7AyJeTtDKkDsDIl5O0MqQOwMiXk7QypA7AyJeTtDKkDsDIl5O0MqQOwMiXk7QypA7AyJeTtDKkDsDIl5O0MqQOwMiXk7QypA7AyJeTtDKkDsDIl5O0MqQOwMiXk7QypA7AyJeTtDKkDsDIl5O0MqQOwMiXk7QypA7AyJeTtDKkDsDIl5O0MqQOwMiXk7QypA7AyJeTtDKkDsDIl5O0MqQOwMiXk7QypA7AyJeTtDKkDsDIl5O0MqQOwMiXk7QypA7AyJeTtDKkDsDIl5O0MqQOwMiXk7QypA7AyJeTtDKkDsDIl5O0MqQOwMiXk7QypA7AyJeTtDKkDsDIl5O0MqQOwMiXk7QypA7AyJeTtDKkDsDIl5O0MqQOwMiXk7QypA7AyJeTtDKkDsDIl5O0MqQOwMiXk7QypA7AyJeTtDKkDsDIl5O0MqQOwMiXk7QypA7AyJeTtDKkDsDIl5O0MqQGhIzNsZEitAaEjM2xkSK0BoSMzbGRIrQGhIzNsZEitAaEjM2xkSK0BoSMzbGRIrQGhIzNsZEitAaEjM2xkSK0BoSMzbGRIrQGhIzNsZEitAaEjM2xkSK0BoSMzbGRIrQGhIzNsZEitAaEjM2xkSK0BoSMzbGRIrQGhIzNsZEitAaEjM2xkSK0BoSMzbGRIrQGhIzNsZEitAaEjM2xkSK0BoSMzbGRIrQGhIzNsZEitAaEjM2xkSK0BoSMzbGRIrQGhIzNsZEitAaEjM2xkSK0BoSMzbGRIrQGhIzNsZEitAaEjM2xkSK0BoSMzbGRIrQGhIzNsZEitAaEjM2xkSK0BoSMzbGRIrQGhIzNsZEitAaEjM2xkSK0BoSMzbGRIrQGhIzNsZEitAaEjM2xkSK0BoSMzbGRIrQGhIzNsZEitAaEjM2xkSK0BoSMzbGRIrQGhIzNsZEitAaEjM2xkSK0BoSMzbGRIrQGhIzNsZEitAaEjM2xkSK0BoSMzbGRIrQGhIzNsZEitAaEjM2xkSK0BoSMzbGRIrQGhIzNsZEitAaEjM2xkSK0BoSMzbGRIrQGhIzNsZEitAaEjM2xkSK0BoSMzbGRIrQGhIzNsZEitAaEjM2xkSK0BoSMzbGRIrQGhIzNsZEitAaEjM2xkSK0BoSMzbGRIrQGhIzNsZEitAaEjM2xkSK0BoSMzbGRIrQGhIzNsZEitAaEjM2xkSK0BoSMzbGRIrQGhIzNsZEitAaEjM2xkSK0BoSMzbGRIrQGhIzNsZEitAaEjM2xkSK0BoSMzbGRIrQGhIzNsZEitAaEjM2xkSK0BoSMzbGRIrQGhIzNsZEitAaEjM2xkSK0BoSMzbGRIrQGhIzNsZEitAaEjM2xkSK0BoSMzbGRIrQGhIzNsZEitAaEjM2xkSK0BoSMzbGRIrQGhIzNsZEitAaEjM2xkSK0BoSMzbGRIrQGhIzNsZEitAaEjM2xkSK0BoSMzbGRIrQGhIzNsZEitAaEjM2xkSK0BoSMzbGRIrQGhIzNsZEitAaEjM2xkSK0BoSMzbGRIrQGhIzNsZEitA4IMPPvjgK0Dggw8++OArQOCDDz744CtA4IMPPvjgK0Dggw8++OArQOCDDz744CtA4IMPPvjgK0Dggw8++OArQOCDDz744CtA4IMPPvjgK0Dggw8++OArQOCDDz744CtA4IMPPvjgK0Dggw8++OArQOCDDz744CtA4IMPPvjgK0Dggw8++OArQOCDDz744CtA4IMPPvjgK0Dggw8++OArQOCDDz744CtA4IMPPvjgK0Dggw8++OArQOCDDz744CtA4IMPPvjgK0Dggw8++OArQOCDDz744CtA4IMPPvjgK0Dggw8++OArQOCDDz744CtA4IMPPvjgK0Dggw8++OArQOCDDz744CtA4IMPPvjgK0Dggw8++OArQOCDDz744CtA4IMPPvjgK0Dggw8++OArQOCDDz744CtA4IMPPvjgK0Dggw8++OArQOCDDz744CtA4IMPPvjgK0Dggw8++OArQOCDDz744CtA4IMPPvjgK0Dggw8++OArQOCDDz744CtA4IMPPvjgK0Dggw8++OArQOCDDz744CtA4IMPPvjgK0Dggw8++OArQOCDDz744CtA4IMPPvjgK0Dggw8++OArQOCDDz744CtA4IMPPvjgK0Dggw8++OArQOCDDz744CtA4IMPPvjgK0Dggw8++OArQOCDDz744CtA4IMPPvjgK0Dggw8++OArQOCDDz744CtA4IMPPvjgK0Dggw8++OArQOCDDz744CtA4IMPPvjgK0Dggw8++OArQOCDDz744CtA4IMPPvjgK0Dggw8++OArQOCDDz744CtA4IMPPvjgK0Dggw8++OArQOCDDz744CtA4IMPPvjgK0Dggw8++OArQOCDDz744CtA4IMPPvjgK0Dggw8++OArQOCDDz744CtA4IMPPvjgK0Dggw8++OArQOCDDz744CtA4IMPPvjgK0Dggw8++OArQOCDDz744CtA4IMPPvjgK0Dggw8++OArQOCDDz744CtA4IMPPvjgK0Dggw8++OArQOCDDz744CtA4IMPPvjgK0Dggw8++OArQOCDDz744CtA4IMPPvjgK0Bcv1Kg1q8sQFy/UqDWryxAXL9SoNavLEBcv1Kg1q8sQFy/UqDWryxAXL9SoNavLEBcv1Kg1q8sQFy/UqDWryxAXL9SoNavLEBcv1Kg1q8sQFy/UqDWryxAXL9SoNavLEBcv1Kg1q8sQFy/UqDWryxAXL9SoNavLEBcv1Kg1q8sQFy/UqDWryxAXL9SoNavLEBcv1Kg1q8sQFy/UqDWryxAXL9SoNavLEBcv1Kg1q8sQFy/UqDWryxAXL9SoNavLEBcv1Kg1q8sQFy/UqDWryxAXL9SoNavLEBcv1Kg1q8sQFy/UqDWryxAXL9SoNavLEBcv1Kg1q8sQFy/UqDWryxAXL9SoNavLEBcv1Kg1q8sQFy/UqDWryxAXL9SoNavLEBcv1Kg1q8sQFy/UqDWryxAXL9SoNavLEBcv1Kg1q8sQFy/UqDWryxAXL9SoNavLEBcv1Kg1q8sQFy/UqDWryxAXL9SoNavLEBcv1Kg1q8sQFy/UqDWryxAXL9SoNavLEBcv1Kg1q8sQFy/UqDWryxAXL9SoNavLEBcv1Kg1q8sQFy/UqDWryxAXL9SoNavLEBcv1Kg1q8sQFy/UqDWryxAXL9SoNavLEBcv1Kg1q8sQFy/UqDWryxAXL9SoNavLEBcv1Kg1q8sQFy/UqDWryxAXL9SoNavLEBcv1Kg1q8sQFy/UqDWryxAXL9SoNavLEBcv1Kg1q8sQFy/UqDWryxAXL9SoNavLEBcv1Kg1q8sQFy/UqDWryxAXL9SoNavLEBcv1Kg1q8sQFy/UqDWryxAXL9SoNavLEBcv1Kg1q8sQFy/UqDWryxAXL9SoNavLEBcv1Kg1q8sQFy/UqDWryxAXL9SoNavLEBcv1Kg1q8sQFy/UqDWryxAXL9SoNavLEBcv1Kg1q8sQFy/UqDWryxAXL9SoNavLEBcv1Kg1q8sQFy/UqDWryxAXL9SoNavLEBcv1Kg1q8sQFy/UqDWryxAXL9SoNavLEBcv1Kg1q8sQFy/UqDWryxAXL9SoNavLEBcv1Kg1q8sQFy/UqDWryxAXL9SoNavLEBcv1Kg1q8sQNT6lQK1fi1A1PqVArV+LUDU+pUCtX4tQNT6lQK1fi1A1PqVArV+LUDU+pUCtX4tQNT6lQK1fi1A1PqVArV+LUDU+pUCtX4tQNT6lQK1fi1A1PqVArV+LUDU+pUCtX4tQNT6lQK1fi1A1PqVArV+LUDU+pUCtX4tQNT6lQK1fi1A1PqVArV+LUDU+pUCtX4tQNT6lQK1fi1A1PqVArV+LUDU+pUCtX4tQNT6lQK1fi1A1PqVArV+LUDU+pUCtX4tQNT6lQK1fi1A1PqVArV+LUDU+pUCtX4tQNT6lQK1fi1A1PqVArV+LUDU+pUCtX4tQNT6lQK1fi1A1PqVArV+LUDU+pUCtX4tQNT6lQK1fi1A1PqVArV+LUDU+pUCtX4tQNT6lQK1fi1A1PqVArV+LUDU+pUCtX4tQNT6lQK1fi1A1PqVArV+LUDU+pUCtX4tQNT6lQK1fi1A1PqVArV+LUDU+pUCtX4tQNT6lQK1fi1A1PqVArV+LUDU+pUCtX4tQNT6lQK1fi1A1PqVArV+LUDU+pUCtX4tQNT6lQK1fi1A1PqVArV+LUDU+pUCtX4tQNT6lQK1fi1A1PqVArV+LUDU+pUCtX4tQNT6lQK1fi1A1PqVArV+LUDU+pUCtX4tQNT6lQK1fi1A1PqVArV+LUDU+pUCtX4tQNT6lQK1fi1A1PqVArV+LUDU+pUCtX4tQNT6lQK1fi1A1PqVArV+LUDU+pUCtX4tQNT6lQK1fi1A1PqVArV+LUDU+pUCtX4tQNT6lQK1fi1A1PqVArV+LUDU+pUCtX4tQNT6lQK1fi1A1PqVArV+LUDU+pUCtX4tQNT6lQK1fi1A1PqVArV+LUDU+pUCtX4tQNT6lQK1fi1A1PqVArV+LUDU+pUCtX4tQNT6lQK1fi1A1PqVArV+LUDU+pUCtX4tQNT6lQK1fi1A1PqVArV+LUDU+pUCtX4tQNT6lQK1fi1A1PqVArV+LUDU+pUCtX4tQNT6lQK1fi1A1PqVArV+LUDU+pUCtX4tQNT6lQK1fi1A1PqVArV+LUDU+pUCtX4tQNT6lQK1fi1ATDbZZJNNLkBMNtlkk00uQEw22WSTTS5ATDbZZJNNLkBMNtlkk00uQEw22WSTTS5ATDbZZJNNLkBMNtlkk00uQEw22WSTTS5ATDbZZJNNLkBMNtlkk00uQEw22WSTTS5ATDbZZJNNLkBMNtlkk00uQEw22WSTTS5ATDbZZJNNLkBMNtlkk00uQEw22WSTTS5ATDbZZJNNLkBMNtlkk00uQEw22WSTTS5ATDbZZJNNLkBMNtlkk00uQEw22WSTTS5ATDbZZJNNLkBMNtlkk00uQEw22WSTTS5ATDbZZJNNLkBMNtlkk00uQEw22WSTTS5ATDbZZJNNLkBMNtlkk00uQEw22WSTTS5ATDbZZJNNLkBMNtlkk00uQEw22WSTTS5ATDbZZJNNLkBMNtlkk00uQEw22WSTTS5ATDbZZJNNLkBMNtlkk00uQEw22WSTTS5ATDbZZJNNLkBMNtlkk00uQEw22WSTTS5ATDbZZJNNLkBMNtlkk00uQEw22WSTTS5ATDbZZJNNLkBMNtlkk00uQEw22WSTTS5ATDbZZJNNLkBMNtlkk00uQEw22WSTTS5ATDbZZJNNLkBMNtlkk00uQEw22WSTTS5ATDbZZJNNLkBMNtlkk00uQEw22WSTTS5ATDbZZJNNLkBMNtlkk00uQEw22WSTTS5ATDbZZJNNLkBMNtlkk00uQEw22WSTTS5ATDbZZJNNLkBMNtlkk00uQEw22WSTTS5ATDbZZJNNLkBMNtlkk00uQEw22WSTTS5ATDbZZJNNLkBMNtlkk00uQEw22WSTTS5ATDbZZJNNLkBMNtlkk00uQEw22WSTTS5ATDbZZJNNLkBMNtlkk00uQEw22WSTTS5ATDbZZJNNLkBMNtlkk00uQEw22WSTTS5ATDbZZJNNLkBMNtlkk00uQEw22WSTTS5ATDbZZJNNLkBMNtlkk00uQEw22WSTTS5ATDbZZJNNLkBMNtlkk00uQEw22WSTTS5ATDbZZJNNLkBMNtlkk00uQEw22WSTTS5ATDbZZJNNLkBMNtlkk00uQEw22WSTTS5ATDbZZJNNLkDIcRzHcRwvQMhxHMdxHC9AyHEcx3EcL0DIcRzHcRwvQMhxHMdxHC9AyHEcx3EcL0DIcRzHcRwvQMhxHMdxHC9AyHEcx3EcL0DIcRzHcRwvQMhxHMdxHC9AyHEcx3EcL0DIcRzHcRwvQMhxHMdxHC9AyHEcx3EcL0DIcRzHcRwvQMhxHMdxHC9AyHEcx3EcL0DIcRzHcRwvQMhxHMdxHC9AyHEcx3EcL0DIcRzHcRwvQMhxHMdxHC9AyHEcx3EcL0DIcRzHcRwvQMhxHMdxHC9AyHEcx3EcL0DIcRzHcRwvQMhxHMdxHC9AyHEcx3EcL0DIcRzHcRwvQMhxHMdxHC9AyHEcx3EcL0DIcRzHcRwvQMhxHMdxHC9AyHEcx3EcL0DIcRzHcRwvQMhxHMdxHC9AyHEcx3EcL0DIcRzHcRwvQMhxHMdxHC9AyHEcx3EcL0DIcRzHcRwvQMhxHMdxHC9AyHEcx3EcL0DIcRzHcRwvQMhxHMdxHC9AyHEcx3EcL0DIcRzHcRwvQMhxHMdxHC9AyHEcx3EcL0DIcRzHcRwvQMhxHMdxHC9AyHEcx3EcL0DIcRzHcRwvQMhxHMdxHC9AyHEcx3EcL0DIcRzHcRwvQMhxHMdxHC9AyHEcx3EcL0DIcRzHcRwvQMhxHMdxHC9AyHEcx3EcL0DIcRzHcRwvQMhxHMdxHC9AyHEcx3EcL0DIcRzHcRwvQMhxHMdxHC9AyHEcx3EcL0DIcRzHcRwvQMhxHMdxHC9AyHEcx3EcL0DIcRzHcRwvQMhxHMdxHC9AyHEcx3EcL0DIcRzHcRwvQMhxHMdxHC9AyHEcx3EcL0DIcRzHcRwvQMhxHMdxHC9AyHEcx3EcL0DIcRzHcRwvQMhxHMdxHC9AyHEcx3EcL0DIcRzHcRwvQMhxHMdxHC9AyHEcx3EcL0DIcRzHcRwvQMhxHMdxHC9AyHEcx3EcL0DIcRzHcRwvQMhxHMdxHC9AyHEcx3EcL0DIcRzHcRwvQMhxHMdxHC9AyHEcx3EcL0DIcRzHcRwvQMhxHMdxHC9AyHEcx3EcL0DIcRzHcRwvQECtXylQ6y9AQK1fKVDrL0BArV8pUOsvQECtXylQ6y9AQK1fKVDrL0BArV8pUOsvQECtXylQ6y9AQK1fKVDrL0BArV8pUOsvQECtXylQ6y9AQK1fKVDrL0BArV8pUOsvQECtXylQ6y9AQK1fKVDrL0BArV8pUOsvQECtXylQ6y9AQK1fKVDrL0BArV8pUOsvQECtXylQ6y9AQK1fKVDrL0BArV8pUOsvQECtXylQ6y9AQK1fKVDrL0BArV8pUOsvQECtXylQ6y9AQK1fKVDrL0BArV8pUOsvQECtXylQ6y9AQK1fKVDrL0BArV8pUOsvQECtXylQ6y9AQK1fKVDrL0BArV8pUOsvQECtXylQ6y9AQK1fKVDrL0BArV8pUOsvQECtXylQ6y9AQK1fKVDrL0BArV8pUOsvQECtXylQ6y9AQK1fKVDrL0BArV8pUOsvQECtXylQ6y9AQK1fKVDrL0BArV8pUOsvQECtXylQ6y9AQK1fKVDrL0BArV8pUOsvQECtXylQ6y9AQK1fKVDrL0BArV8pUOsvQECtXylQ6y9AQK1fKVDrL0BArV8pUOsvQECtXylQ6y9AQK1fKVDrL0BArV8pUOsvQECtXylQ6y9AQK1fKVDrL0BArV8pUOsvQECtXylQ6y9AQK1fKVDrL0BArV8pUOsvQECtXylQ6y9AQK1fKVDrL0BArV8pUOsvQECtXylQ6y9AQK1fKVDrL0BArV8pUOsvQECtXylQ6y9AQK1fKVDrL0BArV8pUOsvQECtXylQ6y9AQK1fKVDrL0BArV8pUOsvQECtXylQ6y9AQK1fKVDrL0BArV8pUOsvQECtXylQ6y9AQK1fKVDrL0BArV8pUOsvQECtXylQ6y9AQK1fKVDrL0BArV8pUOsvQECtXylQ6y9AQK1fKVDrL0BArV8pUOsvQECtXylQ6y9AQK1fKVDrL0BArV8pUOsvQECtXylQ6y9AQK1fKVDrL0BArV8pUOsvQECtXylQ6y9AQK1fKVDrL0BArV8pUOsvQECtXylQ6y9AQK1fKVDrL0BArV8pUOsvQECtXylQ6y9AXHTRRRddMEBcdNFFF10wQFx00UUXXTBAXHTRRRddMEBcdNFFF10wQFx00UUXXTBAXHTRRRddMEBcdNFFF10wQFx00UUXXTBAXHTRRRddMEBcdNFFF10wQFx00UUXXTBAXHTRRRddMEBcdNFFF10wQFx00UUXXTBAXHTRRRddMEBcdNFFF10wQFx00UUXXTBAXHTRRRddMEBcdNFFF10wQFx00UUXXTBAXHTRRRddMEBcdNFFF10wQFx00UUXXTBAXHTRRRddMEBcdNFFF10wQFx00UUXXTBAXHTRRRddMEBcdNFFF10wQFx00UUXXTBAXHTRRRddMEBcdNFFF10wQFx00UUXXTBAXHTRRRddMEBcdNFFF10wQFx00UUXXTBAXHTRRRddMEBcdNFFF10wQFx00UUXXTBAXHTRRRddMEBcdNFFF10wQFx00UUXXTBAXHTRRRddMEBcdNFFF10wQFx00UUXXTBAXHTRRRddMEBcdNFFF10wQFx00UUXXTBAXHTRRRddMEBcdNFFF10wQFx00UUXXTBAXHTRRRddMEBcdNFFF10wQFx00UUXXTBAXHTRRRddMEBcdNFFF10wQFx00UUXXTBAXHTRRRddMEBcdNFFF10wQFx00UUXXTBAXHTRRRddMEBcdNFFF10wQFx00UUXXTBAXHTRRRddMEBcdNFFF10wQFx00UUXXTBAXHTRRRddMEBcdNFFF10wQFx00UUXXTBAXHTRRRddMEBcdNFFF10wQFx00UUXXTBAXHTRRRddMEBcdNFFF10wQFx00UUXXTBAXHTRRRddMEBcdNFFF10wQFx00UUXXTBAXHTRRRddMEBcdNFFF10wQFx00UUXXTBAXHTRRRddMEBcdNFFF10wQFx00UUXXTBAXHTRRRddMEBcdNFFF10wQFx00UUXXTBAXHTRRRddMEBcdNFFF10wQFx00UUXXTBAXHTRRRddMEBcdNFFF10wQFx00UUXXTBAXHTRRRddMEBcdNFFF10wQFx00UUXXTBAXHTRRRddMEBcdNFFF10wQFx00UUXXTBAXHTRRRddMEAaEvN2hsQwQBoS83aGxDBAGhLzdobEMEAaEvN2hsQwQBoS83aGxDBAGhLzdobEMEAaEvN2hsQwQBoS83aGxDBAGhLzdobEMEAaEvN2hsQwQBoS83aGxDBAGhLzdobEMEAaEvN2hsQwQBoS83aGxDBAGhLzdobEMEAaEvN2hsQwQBoS83aGxDBAGhLzdobEMEAaEvN2hsQwQBoS83aGxDBAGhLzdobEMEAaEvN2hsQwQBoS83aGxDBAGhLzdobEMEAaEvN2hsQwQBoS83aGxDBAGhLzdobEMEAaEvN2hsQwQBoS83aGxDBAGhLzdobEMEAaEvN2hsQwQBoS83aGxDBAGhLzdobEMEAaEvN2hsQwQBoS83aGxDBAGhLzdobEMEAaEvN2hsQwQBoS83aGxDBAGhLzdobEMEAaEvN2hsQwQBoS83aGxDBAGhLzdobEMEAaEvN2hsQwQBoS83aGxDBAGhLzdobEMEAaEvN2hsQwQBoS83aGxDBAGhLzdobEMEAaEvN2hsQwQBoS83aGxDBAGhLzdobEMEAaEvN2hsQwQBoS83aGxDBAGhLzdobEMEAaEvN2hsQwQBoS83aGxDBAGhLzdobEMEAaEvN2hsQwQBoS83aGxDBAGhLzdobEMEAaEvN2hsQwQBoS83aGxDBAGhLzdobEMEAaEvN2hsQwQBoS83aGxDBAGhLzdobEMEAaEvN2hsQwQBoS83aGxDBAGhLzdobEMEAaEvN2hsQwQBoS83aGxDBAGhLzdobEMEAaEvN2hsQwQBoS83aGxDBAGhLzdobEMEAaEvN2hsQwQBoS83aGxDBAGhLzdobEMEAaEvN2hsQwQBoS83aGxDBAGhLzdobEMEAaEvN2hsQwQBoS83aGxDBAGhLzdobEMEAaEvN2hsQwQBoS83aGxDBAGhLzdobEMEAaEvN2hsQwQBoS83aGxDBAGhLzdobEMEAaEvN2hsQwQBoS83aGxDBAGhLzdobEMEAaEvN2hsQwQBoS83aGxDBAGhLzdobEMEAaEvN2hsQwQBoS83aGxDBAGhLzdobEMEAaEvN2hsQwQNavFKj1KzFA1q8UqPUrMUDWrxSo9SsxQNavFKj1KzFA1q8UqPUrMUDWrxSo9SsxQNavFKj1KzFA1q8UqPUrMUDWrxSo9SsxQNavFKj1KzFA1q8UqPUrMUDWrxSo9SsxQNavFKj1KzFA1q8UqPUrMUDWrxSo9SsxQNavFKj1KzFA1q8UqPUrMUDWrxSo9SsxQNavFKj1KzFA1q8UqPUrMUDWrxSo9SsxQNavFKj1KzFA1q8UqPUrMUDWrxSo9SsxQNavFKj1KzFA1q8UqPUrMUDWrxSo9SsxQNavFKj1KzFA1q8UqPUrMUDWrxSo9SsxQNavFKj1KzFA1q8UqPUrMUDWrxSo9SsxQNavFKj1KzFA1q8UqPUrMUDWrxSo9SsxQNavFKj1KzFA1q8UqPUrMUDWrxSo9SsxQNavFKj1KzFA1q8UqPUrMUDWrxSo9SsxQNavFKj1KzFA1q8UqPUrMUDWrxSo9SsxQNavFKj1KzFA1q8UqPUrMUDWrxSo9SsxQNavFKj1KzFA1q8UqPUrMUDWrxSo9SsxQNavFKj1KzFA1q8UqPUrMUDWrxSo9SsxQNavFKj1KzFA1q8UqPUrMUDWrxSo9SsxQNavFKj1KzFA1q8UqPUrMUDWrxSo9SsxQNavFKj1KzFA1q8UqPUrMUDWrxSo9SsxQNavFKj1KzFA1q8UqPUrMUDWrxSo9SsxQNavFKj1KzFA1q8UqPUrMUDWrxSo9SsxQNavFKj1KzFA1q8UqPUrMUDWrxSo9SsxQNavFKj1KzFA1q8UqPUrMUDWrxSo9SsxQNavFKj1KzFA1q8UqPUrMUDWrxSo9SsxQNavFKj1KzFA1q8UqPUrMUDWrxSo9SsxQNavFKj1KzFA1q8UqPUrMUDWrxSo9SsxQNavFKj1KzFA1q8UqPUrMUDWrxSo9SsxQNavFKj1KzFA1q8UqPUrMUDWrxSo9SsxQNavFKj1KzFA1q8UqPUrMUDWrxSo9SsxQNavFKj1KzFA1q8UqPUrMUDWrxSo9SsxQNavFKj1KzFA1q8UqPUrMUDWrxSo9SsxQNavFKj1KzFAlE022WSTMUCUTTbZZJMxQJRNNtlkkzFAlE022WSTMUCUTTbZZJMxQJRNNtlkkzFAlE022WSTMUCUTTbZZJMxQJRNNtlkkzFAlE022WSTMUCUTTbZZJMxQJRNNtlkkzFAlE022WSTMUCUTTbZZJMxQJRNNtlkkzFAlE022WSTMUCUTTbZZJMxQJRNNtlkkzFAlE022WSTMUCUTTbZZJMxQJRNNtlkkzFAlE022WSTMUCUTTbZZJMxQJRNNtlkkzFAlE022WSTMUCUTTbZZJMxQJRNNtlkkzFAlE022WSTMUCUTTbZZJMxQJRNNtlkkzFAlE022WSTMUCUTTbZZJMxQJRNNtlkkzFAlE022WSTMUCUTTbZZJMxQJRNNtlkkzFAlE022WSTMUCUTTbZZJMxQJRNNtlkkzFAlE022WSTMUCUTTbZZJMxQJRNNtlkkzFAlE022WSTMUCUTTbZZJMxQJRNNtlkkzFAlE022WSTMUCUTTbZZJMxQJRNNtlkkzFAlE022WSTMUCUTTbZZJMxQJRNNtlkkzFAlE022WSTMUCUTTbZZJMxQJRNNtlkkzFAlE022WSTMUCUTTbZZJMxQJRNNtlkkzFAlE022WSTMUCUTTbZZJMxQJRNNtlkkzFAlE022WSTMUCUTTbZZJMxQJRNNtlkkzFAlE022WSTMUCUTTbZZJMxQJRNNtlkkzFAlE022WSTMUCUTTbZZJMxQJRNNtlkkzFAlE022WSTMUCUTTbZZJMxQJRNNtlkkzFAlE022WSTMUCUTTbZZJMxQJRNNtlkkzFAlE022WSTMUCUTTbZZJMxQJRNNtlkkzFAlE022WSTMUCUTTbZZJMxQJRNNtlkkzFAlE022WSTMUCUTTbZZJMxQJRNNtlkkzFAlE022WSTMUCUTTbZZJMxQJRNNtlkkzFAlE022WSTMUCUTTbZZJMxQJRNNtlkkzFAlE022WSTMUCUTTbZZJMxQJRNNtlkkzFAlE022WSTMUCUTTbZZJMxQJRNNtlkkzFAlE022WSTMUCUTTbZZJMxQJRNNtlkkzFAlE022WSTMUBQ61cK1PoxQFDrVwrU+jFAUOtXCtT6MUBQ61cK1PoxQFDrVwrU+jFAUOtXCtT6MUBQ61cK1PoxQFDrVwrU+jFAUOtXCtT6MUBQ61cK1PoxQFDrVwrU+jFAUOtXCtT6MUBQ61cK1PoxQFDrVwrU+jFAUOtXCtT6MUBQ61cK1PoxQFDrVwrU+jFAUOtXCtT6MUBQ61cK1PoxQFDrVwrU+jFAUOtXCtT6MUBQ61cK1PoxQFDrVwrU+jFAUOtXCtT6MUBQ61cK1PoxQFDrVwrU+jFAUOtXCtT6MUBQ61cK1PoxQFDrVwrU+jFAUOtXCtT6MUBQ61cK1PoxQFDrVwrU+jFAUOtXCtT6MUBQ61cK1PoxQFDrVwrU+jFAUOtXCtT6MUBQ61cK1PoxQFDrVwrU+jFAUOtXCtT6MUBQ61cK1PoxQFDrVwrU+jFAUOtXCtT6MUBQ61cK1PoxQFDrVwrU+jFAUOtXCtT6MUBQ61cK1PoxQFDrVwrU+jFAUOtXCtT6MUBQ61cK1PoxQFDrVwrU+jFAUOtXCtT6MUBQ61cK1PoxQFDrVwrU+jFAUOtXCtT6MUBQ61cK1PoxQFDrVwrU+jFAUOtXCtT6MUBQ61cK1PoxQFDrVwrU+jFAUOtXCtT6MUBQ61cK1PoxQFDrVwrU+jFAUOtXCtT6MUBQ61cK1PoxQFDrVwrU+jFAUOtXCtT6MUBQ61cK1PoxQFDrVwrU+jFAUOtXCtT6MUBQ61cK1PoxQFDrVwrU+jFAUOtXCtT6MUBQ61cK1PoxQFDrVwrU+jFAUOtXCtT6MUBQ61cK1PoxQFDrVwrU+jFAUOtXCtT6MUBQ61cK1PoxQFDrVwrU+jFAUOtXCtT6MUBQ61cK1PoxQFDrVwrU+jFAUOtXCtT6MUBQ61cK1PoxQFDrVwrU+jFAUOtXCtT6MUBQ61cK1PoxQFDrVwrU+jFAUOtXCtT6MUBQ61cK1PoxQFDrVwrU+jFAUOtXCtT6MUBQ61cK1PoxQFDrVwrU+jFAUOtXCtT6MUBQ61cK1PoxQFDrVwrU+jFAUOtXCtT6MUBQ61cK1PoxQAyJeTtDYjJADIl5O0NiMkAMiXk7Q2IyQAyJeTtDYjJADIl5O0NiMkAMiXk7Q2IyQAyJeTtDYjJADIl5O0NiMkAMiXk7Q2IyQAyJeTtDYjJADIl5O0NiMkAMiXk7Q2IyQAyJeTtDYjJADIl5O0NiMkAMiXk7Q2IyQAyJeTtDYjJADIl5O0NiMkAMiXk7Q2IyQAyJeTtDYjJADIl5O0NiMkAMiXk7Q2IyQAyJeTtDYjJADIl5O0NiMkAMiXk7Q2IyQAyJeTtDYjJADIl5O0NiMkAMiXk7Q2IyQAyJeTtDYjJADIl5O0NiMkAMiXk7Q2IyQAyJeTtDYjJADIl5O0NiMkAMiXk7Q2IyQAyJeTtDYjJADIl5O0NiMkAMiXk7Q2IyQAyJeTtDYjJADIl5O0NiMkAMiXk7Q2IyQAyJeTtDYjJADIl5O0NiMkAMiXk7Q2IyQAyJeTtDYjJADIl5O0NiMkAMiXk7Q2IyQAyJeTtDYjJADIl5O0NiMkAMiXk7Q2IyQAyJeTtDYjJADIl5O0NiMkAMiXk7Q2IyQAyJeTtDYjJADIl5O0NiMkAMiXk7Q2IyQAyJeTtDYjJADIl5O0NiMkAMiXk7Q2IyQAyJeTtDYjJADIl5O0NiMkAMiXk7Q2IyQAyJeTtDYjJADIl5O0NiMkAMiXk7Q2IyQAyJeTtDYjJADIl5O0NiMkAMiXk7Q2IyQAyJeTtDYjJADIl5O0NiMkAMiXk7Q2IyQAyJeTtDYjJADIl5O0NiMkAMiXk7Q2IyQAyJeTtDYjJADIl5O0NiMkAMiXk7Q2IyQAyJeTtDYjJADIl5O0NiMkAMiXk7Q2IyQAyJeTtDYjJADIl5O0NiMkAMiXk7Q2IyQAyJeTtDYjJADIl5O0NiMkAMiXk7Q2IyQAyJeTtDYjJADIl5O0NiMkAMiXk7Q2IyQAyJeTtDYjJADIl5O0NiMkAMiXk7Q2IyQAyJeTtDYjJADIl5O0NiMkAMiXk7Q2IyQAyJeTtDYjJADIl5O0NiMkAMiXk7Q2IyQAyJeTtDYjJADIl5O0NiMkAMiXk7Q2IyQAyJeTtDYjJAyiabbLLJMkDKJptssskyQMomm2yyyTJAyiabbLLJMkDKJptssskyQMomm2yyyTJAyiabbLLJMkDKJptssskyQMomm2yyyTJAyiabbLLJMkDKJptssskyQMomm2yyyTJAyiabbLLJMkDKJptssskyQMomm2yyyTJAyiabbLLJMkDKJptssskyQMomm2yyyTJAyiabbLLJMkDKJptssskyQMomm2yyyTJAyiabbLLJMkDKJptssskyQMomm2yyyTJAyiabbLLJMkDKJptssskyQMomm2yyyTJAyiabbLLJMkDKJptssskyQMomm2yyyTJAyiabbLLJMkDKJptssskyQMomm2yyyTJAyiabbLLJMkDKJptssskyQMomm2yyyTJAyiabbLLJMkDKJptssskyQMomm2yyyTJAyiabbLLJMkDKJptssskyQMomm2yyyTJAyiabbLLJMkDKJptssskyQMomm2yyyTJAyiabbLLJMkDKJptssskyQMomm2yyyTJAyiabbLLJMkDKJptssskyQMomm2yyyTJAyiabbLLJMkDKJptssskyQMomm2yyyTJAyiabbLLJMkDKJptssskyQMomm2yyyTJAyiabbLLJMkDKJptssskyQMomm2yyyTJAyiabbLLJMkDKJptssskyQMomm2yyyTJAyiabbLLJMkDKJptssskyQMomm2yyyTJAyiabbLLJMkDKJptssskyQMomm2yyyTJAyiabbLLJMkDKJptssskyQMomm2yyyTJAyiabbLLJMkDKJptssskyQMomm2yyyTJAyiabbLLJMkDKJptssskyQMomm2yyyTJAyiabbLLJMkDKJptssskyQMomm2yyyTJAyiabbLLJMkDKJptssskyQMomm2yyyTJAyiabbLLJMkDKJptssskyQMomm2yyyTJAyiabbLLJMkDKJptssskyQMomm2yyyTJAyiabbLLJMkDKJptssskyQMomm2yyyTJAyiabbLLJMkDKJptssskyQMomm2yyyTJAyiabbLLJMkDKJptssskyQMomm2yyyTJAyiabbLLJMkCGxLydITEzQIbEvJ0hMTNAhsS8nSExM0CGxLydITEzQIbEvJ0hMTNAhsS8nSExM0CGxLydITEzQIbEvJ0hMTNAhsS8nSExM0CGxLydITEzQIbEvJ0hMTNAhsS8nSExM0CGxLydITEzQIbEvJ0hMTNAhsS8nSExM0CGxLydITEzQIbEvJ0hMTNAhsS8nSExM0CGxLydITEzQIbEvJ0hMTNAhsS8nSExM0CGxLydITEzQIbEvJ0hMTNAhsS8nSExM0CGxLydITEzQIbEvJ0hMTNAhsS8nSExM0CGxLydITEzQIbEvJ0hMTNAhsS8nSExM0CGxLydITEzQIbEvJ0hMTNAhsS8nSExM0CGxLydITEzQIbEvJ0hMTNAhsS8nSExM0CGxLydITEzQIbEvJ0hMTNAhsS8nSExM0CGxLydITEzQIbEvJ0hMTNAhsS8nSExM0CGxLydITEzQIbEvJ0hMTNAhsS8nSExM0CGxLydITEzQIbEvJ0hMTNAhsS8nSExM0CGxLydITEzQIbEvJ0hMTNAhsS8nSExM0CGxLydITEzQIbEvJ0hMTNAhsS8nSExM0CGxLydITEzQIbEvJ0hMTNAhsS8nSExM0CGxLydITEzQIbEvJ0hMTNAhsS8nSExM0CGxLydITEzQIbEvJ0hMTNAhsS8nSExM0CGxLydITEzQIbEvJ0hMTNAhsS8nSExM0CGxLydITEzQIbEvJ0hMTNAhsS8nSExM0CGxLydITEzQIbEvJ0hMTNAhsS8nSExM0CGxLydITEzQIbEvJ0hMTNAhsS8nSExM0CGxLydITEzQIbEvJ0hMTNAhsS8nSExM0CGxLydITEzQIbEvJ0hMTNAhsS8nSExM0CGxLydITEzQIbEvJ0hMTNAhsS8nSExM0CGxLydITEzQIbEvJ0hMTNAhsS8nSExM0CGxLydITEzQIbEvJ0hMTNAhsS8nSExM0CGxLydITEzQIbEvJ0hMTNAhsS8nSExM0CGxLydITEzQIbEvJ0hMTNAhsS8nSExM0CGxLydITEzQIbEvJ0hMTNAhsS8nSExM0CGxLydITEzQERi3s6QmDNARGLezpCYM0BEYt7OkJgzQERi3s6QmDNARGLezpCYM0BEYt7OkJgzQERi3s6QmDNARGLezpCYM0BEYt7OkJgzQERi3s6QmDNARGLezpCYM0BEYt7OkJgzQERi3s6QmDNARGLezpCYM0BEYt7OkJgzQERi3s6QmDNARGLezpCYM0BEYt7OkJgzQERi3s6QmDNARGLezpCYM0BEYt7OkJgzQERi3s6QmDNARGLezpCYM0BEYt7OkJgzQERi3s6QmDNARGLezpCYM0BEYt7OkJgzQERi3s6QmDNARGLezpCYM0BEYt7OkJgzQERi3s6QmDNARGLezpCYM0BEYt7OkJgzQERi3s6QmDNARGLezpCYM0BEYt7OkJgzQERi3s6QmDNARGLezpCYM0BEYt7OkJgzQERi3s6QmDNARGLezpCYM0BEYt7OkJgzQERi3s6QmDNARGLezpCYM0BEYt7OkJgzQERi3s6QmDNARGLezpCYM0BEYt7OkJgzQERi3s6QmDNARGLezpCYM0BEYt7OkJgzQERi3s6QmDNARGLezpCYM0BEYt7OkJgzQERi3s6QmDNARGLezpCYM0BEYt7OkJgzQERi3s6QmDNARGLezpCYM0BEYt7OkJgzQERi3s6QmDNARGLezpCYM0BEYt7OkJgzQERi3s6QmDNARGLezpCYM0BEYt7OkJgzQERi3s6QmDNARGLezpCYM0BEYt7OkJgzQERi3s6QmDNARGLezpCYM0BEYt7OkJgzQERi3s6QmDNARGLezpCYM0BEYt7OkJgzQERi3s6QmDNARGLezpCYM0BEYt7OkJgzQERi3s6QmDNARGLezpCYM0BEYt7OkJgzQERi3s6QmDNARGLezpCYM0BEYt7OkJgzQERi3s6QmDNARGLezpCYM0BEYt7OkJgzQERi3s6QmDNARGLezpCYM0BEYt7OkJgzQERi3s6QmDNARGLezpCYM0BEYt7OkJgzQERi3s6QmDNARGLezpCYM0BEYt7OkJgzQERi3s6QmDNARGLezpCYM0BEYt7OkJgzQERi3s6QmDNAAAAAAAAANEAAAAAAAAA0QAAAAAAAADRAAAAAAAAANEAAAAAAAAA0QAAAAAAAADRAAAAAAAAANEAAAAAAAAA0QAAAAAAAADRAAAAAAAAANEAAAAAAAAA0QAAAAAAAADRAAAAAAAAANEAAAAAAAAA0QAAAAAAAADRAAAAAAAAANEAAAAAAAAA0QAAAAAAAADRAAAAAAAAANEAAAAAAAAA0QAAAAAAAADRAAAAAAAAANEAAAAAAAAA0QAAAAAAAADRAAAAAAAAANEAAAAAAAAA0QAAAAAAAADRAAAAAAAAANEAAAAAAAAA0QAAAAAAAADRAAAAAAAAANEAAAAAAAAA0QAAAAAAAADRAAAAAAAAANEAAAAAAAAA0QAAAAAAAADRAAAAAAAAANEAAAAAAAAA0QAAAAAAAADRAAAAAAAAANEAAAAAAAAA0QAAAAAAAADRAAAAAAAAANEAAAAAAAAA0QAAAAAAAADRAAAAAAAAANEAAAAAAAAA0QAAAAAAAADRAAAAAAAAANEAAAAAAAAA0QAAAAAAAADRAAAAAAAAANEAAAAAAAAA0QAAAAAAAADRAAAAAAAAANEAAAAAAAAA0QAAAAAAAADRAAAAAAAAANEAAAAAAAAA0QAAAAAAAADRAAAAAAAAANEAAAAAAAAA0QAAAAAAAADRAAAAAAAAANEAAAAAAAAA0QAAAAAAAADRAAAAAAAAANEAAAAAAAAA0QAAAAAAAADRAAAAAAAAANEAAAAAAAAA0QAAAAAAAADRAAAAAAAAANEAAAAAAAAA0QAAAAAAAADRAAAAAAAAANEAAAAAAAAA0QAAAAAAAADRAAAAAAAAANEAAAAAAAAA0QAAAAAAAADRAAAAAAAAANEAAAAAAAAA0QAAAAAAAADRAAAAAAAAANEAAAAAAAAA0QAAAAAAAADRAAAAAAAAANEAAAAAAAAA0QAAAAAAAADRAAAAAAAAANEAAAAAAAAA0QAAAAAAAADRAAAAAAAAANEAAAAAAAAA0QAAAAAAAADRAAAAAAAAANEAAAAAAAAA0QAAAAAAAADRAAAAAAAAANEA=",
          "dtype": "f8",
          "shape": "100, 100"
         },
         "z": {
          "bdata": "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",
          "dtype": "f8",
          "shape": "100, 100"
         }
        },
        {
         "hoverinfo": "skip",
         "line": {
          "color": "black",
          "width": 1
         },
         "mode": "lines",
         "opacity": 0.3,
         "showlegend": false,
         "type": "scatter3d",
         "x": {
          "bdata": "AAAAAAAANMBDYt7OkJgzwIbEvJ0hMTPAyiabbLLJMsANiXk7Q2IywFDrVwrU+jHAk0022WSTMcDXrxSo9SsxwBoS83aGxDDAXXTRRRddMMBArV8pUOsvwMdxHMdxHC/ATjbZZJNNLsDU+pUCtX4twFq/UqDWryzA4YMPPvjgK8BoSMzbGRIrwO4MiXk7QyrAdNFFF110KcD7lQK1fqUowIFav1Kg1ifACB988MEHJ8CO4ziO4zgmwBWo9SsFaiXAm2yyySabJMAiMW9nSMwjwKj1KwVq/SLAL7rooosuIsC1fqVArV8hwDxDYt7OkCDAhA8++OCDH8CSmLczJOYdwJ4hMW9nSBzAqqqqqqqqGsC4MyTm7QwZwMS8nSExbxfA0kUXXXTRFcDezpCYtzMUwOxXCtT6lRLA+OCDDz74EMAI1PqVArUOwCjm7QyJeQvAQPjggw8+CMBYCtT6lQIFwHAcx3EcxwHAIF100UUX/b9QgVq/UqD2v4ClQK1fKfC/YJNNNtlk478Ab2dIzNvJvwBvZ0jM28k/YJNNNtlk4z+ApUCtXynwP1CBWr9SoPY/EF100UUX/T9wHMdxHMcBQFgK1PqVAgVAQPjggw8+CEAg5u0MiXkLQAjU+pUCtQ5A+OCDDz74EEDsVwrU+pUSQNzOkJi3MxRA0EUXXXTRFUDEvJ0hMW8XQLgzJObtDBlArKqqqqqqGkCcITFvZ0gcQJCYtzMk5h1AhA8++OCDH0A8Q2LezpAgQLR+pUCtXyFALrrooosuIkCo9SsFav0iQCIxb2dIzCNAmmyyySabJEAUqPUrBWolQI7jOI7jOCZACB988MEHJ0CAWr9SoNYnQPyVArV+pShAdNFFF110KUDsDIl5O0MqQGhIzNsZEitA4IMPPvjgK0Bcv1Kg1q8sQNT6lQK1fi1ATDbZZJNNLkDIcRzHcRwvQECtXylQ6y9AXHTRRRddMEAaEvN2hsQwQNavFKj1KzFAlE022WSTMUBQ61cK1PoxQAyJeTtDYjJAyiabbLLJMkCGxLydITEzQERi3s6QmDNAAAAAAAAANEA=",
          "dtype": "f8"
         },
         "y": {
          "bdata": "AAAAAAAANMAAAAAAAAA0wAAAAAAAADTAAAAAAAAANMAAAAAAAAA0wAAAAAAAADTAAAAAAAAANMAAAAAAAAA0wAAAAAAAADTAAAAAAAAANMAAAAAAAAA0wAAAAAAAADTAAAAAAAAANMAAAAAAAAA0wAAAAAAAADTAAAAAAAAANMAAAAAAAAA0wAAAAAAAADTAAAAAAAAANMAAAAAAAAA0wAAAAAAAADTAAAAAAAAANMAAAAAAAAA0wAAAAAAAADTAAAAAAAAANMAAAAAAAAA0wAAAAAAAADTAAAAAAAAANMAAAAAAAAA0wAAAAAAAADTAAAAAAAAANMAAAAAAAAA0wAAAAAAAADTAAAAAAAAANMAAAAAAAAA0wAAAAAAAADTAAAAAAAAANMAAAAAAAAA0wAAAAAAAADTAAAAAAAAANMAAAAAAAAA0wAAAAAAAADTAAAAAAAAANMAAAAAAAAA0wAAAAAAAADTAAAAAAAAANMAAAAAAAAA0wAAAAAAAADTAAAAAAAAANMAAAAAAAAA0wAAAAAAAADTAAAAAAAAANMAAAAAAAAA0wAAAAAAAADTAAAAAAAAANMAAAAAAAAA0wAAAAAAAADTAAAAAAAAANMAAAAAAAAA0wAAAAAAAADTAAAAAAAAANMAAAAAAAAA0wAAAAAAAADTAAAAAAAAANMAAAAAAAAA0wAAAAAAAADTAAAAAAAAANMAAAAAAAAA0wAAAAAAAADTAAAAAAAAANMAAAAAAAAA0wAAAAAAAADTAAAAAAAAANMAAAAAAAAA0wAAAAAAAADTAAAAAAAAANMAAAAAAAAA0wAAAAAAAADTAAAAAAAAANMAAAAAAAAA0wAAAAAAAADTAAAAAAAAANMAAAAAAAAA0wAAAAAAAADTAAAAAAAAANMAAAAAAAAA0wAAAAAAAADTAAAAAAAAANMAAAAAAAAA0wAAAAAAAADTAAAAAAAAANMAAAAAAAAA0wAAAAAAAADTAAAAAAAAANMAAAAAAAAA0wAAAAAAAADTAAAAAAAAANMAAAAAAAAA0wAAAAAAAADTAAAAAAAAANMA=",
          "dtype": "f8"
         },
         "z": {
          "bdata": "AAAAAAAAiUBgoORXA4CIQNiLZlqjAohAacKFB+CHh0ASREJfuQ+HQNIQnGEvmoZAqiiTDkInhkCciydm8baFQKY5WWg9SYVAxzIoFSbehEAAd5Rsq3WEQFIGnm7ND4RAvOBEG4ysg0A+Boly50uDQNh2anTf7YJAizLpIHSSgkBWOQV4pTmCQDiLvnlz44FAMygVJt6PgUBGEAl95T6BQHFDmn6J8IBAtMHIKsqkgEAQi5SBp1uAQISf/YIhFYBAHv4HXnCif0BnU08L1x9/QN8+0Q13on5AiMCNZVAqfkBg2IQSY7d9QGqGthSvSX1Ao8oibDThfEANpckY8318QKcVqxrrH3xAchzHcRzHe0BtuR0eh3N7QJjsrh8rJXtA87V6dgjcekB/FYEiH5h6QDsLwiNvWXpAKJc9evgfekBEufMlu+t5QJJx5Ca3vHlAD8APfeySeUC9pHUoW255QJsfFikDT3lAqTDxfuQ0eUDo1wYq/x95QFcVVypTEHlA9ujhf+AFeUDGUqcqpwB5QMZSpyqnAHlA9ujhf+AFeUBXFVcqUxB5QOjXBir/H3lAqTDxfuQ0eUCbHxYpA095QL2kdShbbnlAD8APfeySeUCRceQmt7x5QES58yW763lAKJc9evgfekA7C8Ijb1l6QH8VgSIfmHpA87V6dgjcekCY7K4fKyV7QG25HR6Hc3tAchzHcRzHe0CnFasa6x98QA2lyRjzfXxAo8oibDThfEBqhrYUr0l9QGDYhBJjt31Ah8CNZVAqfkDfPtENd6J+QGdTTwvXH39AHv4HXnCif0CDn/2CIRWAQBCLlIGnW4BAtMHIKsqkgEBwQ5p+ifCAQEYQCX3lPoFAMygVJt6PgUA3i755c+OBQFY5BXilOYJAijLpIHSSgkDZdmp03+2CQD4GiXLnS4NAu+BEG4ysg0BSBp5uzQ+EQAB3lGyrdYRAxjIoFSbehECmOVloPUmFQJyLJ2bxtoVArCiTDkInhkDSEJxhL5qGQBBEQl+5D4dAacKFB+CHh0DYi2ZaowKIQGGg5FcDgIhAAAAAAAAAiUA=",
          "dtype": "f8"
         }
        },
        {
         "hoverinfo": "skip",
         "line": {
          "color": "black",
          "width": 1
         },
         "mode": "lines",
         "opacity": 0.3,
         "showlegend": false,
         "type": "scatter3d",
         "x": {
          "bdata": "AAAAAAAANMBDYt7OkJgzwIbEvJ0hMTPAyiabbLLJMsANiXk7Q2IywFDrVwrU+jHAk0022WSTMcDXrxSo9SsxwBoS83aGxDDAXXTRRRddMMBArV8pUOsvwMdxHMdxHC/ATjbZZJNNLsDU+pUCtX4twFq/UqDWryzA4YMPPvjgK8BoSMzbGRIrwO4MiXk7QyrAdNFFF110KcD7lQK1fqUowIFav1Kg1ifACB988MEHJ8CO4ziO4zgmwBWo9SsFaiXAm2yyySabJMAiMW9nSMwjwKj1KwVq/SLAL7rooosuIsC1fqVArV8hwDxDYt7OkCDAhA8++OCDH8CSmLczJOYdwJ4hMW9nSBzAqqqqqqqqGsC4MyTm7QwZwMS8nSExbxfA0kUXXXTRFcDezpCYtzMUwOxXCtT6lRLA+OCDDz74EMAI1PqVArUOwCjm7QyJeQvAQPjggw8+CMBYCtT6lQIFwHAcx3EcxwHAIF100UUX/b9QgVq/UqD2v4ClQK1fKfC/YJNNNtlk478Ab2dIzNvJvwBvZ0jM28k/YJNNNtlk4z+ApUCtXynwP1CBWr9SoPY/EF100UUX/T9wHMdxHMcBQFgK1PqVAgVAQPjggw8+CEAg5u0MiXkLQAjU+pUCtQ5A+OCDDz74EEDsVwrU+pUSQNzOkJi3MxRA0EUXXXTRFUDEvJ0hMW8XQLgzJObtDBlArKqqqqqqGkCcITFvZ0gcQJCYtzMk5h1AhA8++OCDH0A8Q2LezpAgQLR+pUCtXyFALrrooosuIkCo9SsFav0iQCIxb2dIzCNAmmyyySabJEAUqPUrBWolQI7jOI7jOCZACB988MEHJ0CAWr9SoNYnQPyVArV+pShAdNFFF110KUDsDIl5O0MqQGhIzNsZEitA4IMPPvjgK0Bcv1Kg1q8sQNT6lQK1fi1ATDbZZJNNLkDIcRzHcRwvQECtXylQ6y9AXHTRRRddMEAaEvN2hsQwQNavFKj1KzFAlE022WSTMUBQ61cK1PoxQAyJeTtDYjJAyiabbLLJMkCGxLydITEzQERi3s6QmDNAAAAAAAAANEA=",
          "dtype": "f8"
         },
         "y": {
          "bdata": "QK1fKVDrL8BArV8pUOsvwECtXylQ6y/AQK1fKVDrL8BArV8pUOsvwECtXylQ6y/AQK1fKVDrL8BArV8pUOsvwECtXylQ6y/AQK1fKVDrL8BArV8pUOsvwECtXylQ6y/AQK1fKVDrL8BArV8pUOsvwECtXylQ6y/AQK1fKVDrL8BArV8pUOsvwECtXylQ6y/AQK1fKVDrL8BArV8pUOsvwECtXylQ6y/AQK1fKVDrL8BArV8pUOsvwECtXylQ6y/AQK1fKVDrL8BArV8pUOsvwECtXylQ6y/AQK1fKVDrL8BArV8pUOsvwECtXylQ6y/AQK1fKVDrL8BArV8pUOsvwECtXylQ6y/AQK1fKVDrL8BArV8pUOsvwECtXylQ6y/AQK1fKVDrL8BArV8pUOsvwECtXylQ6y/AQK1fKVDrL8BArV8pUOsvwECtXylQ6y/AQK1fKVDrL8BArV8pUOsvwECtXylQ6y/AQK1fKVDrL8BArV8pUOsvwECtXylQ6y/AQK1fKVDrL8BArV8pUOsvwECtXylQ6y/AQK1fKVDrL8BArV8pUOsvwECtXylQ6y/AQK1fKVDrL8BArV8pUOsvwECtXylQ6y/AQK1fKVDrL8BArV8pUOsvwECtXylQ6y/AQK1fKVDrL8BArV8pUOsvwECtXylQ6y/AQK1fKVDrL8BArV8pUOsvwECtXylQ6y/AQK1fKVDrL8BArV8pUOsvwECtXylQ6y/AQK1fKVDrL8BArV8pUOsvwECtXylQ6y/AQK1fKVDrL8BArV8pUOsvwECtXylQ6y/AQK1fKVDrL8BArV8pUOsvwECtXylQ6y/AQK1fKVDrL8BArV8pUOsvwECtXylQ6y/AQK1fKVDrL8BArV8pUOsvwECtXylQ6y/AQK1fKVDrL8BArV8pUOsvwECtXylQ6y/AQK1fKVDrL8BArV8pUOsvwECtXylQ6y/AQK1fKVDrL8BArV8pUOsvwECtXylQ6y/AQK1fKVDrL8BArV8pUOsvwECtXylQ6y/AQK1fKVDrL8BArV8pUOsvwECtXylQ6y/AQK1fKVDrL8A=",
          "dtype": "f8"
         },
         "z": {
          "bdata": "AHeUbKt1hEBgF3nErvWDQNgC+8ZOeINAaTkadIv9gkASu9bLZIWCQNKHMM7aD4JAqp8ne+2cgUCcArzSnCyBQKaw7dTovoBAx6m8gdFTgEAA3FGyrdZ/QKT6ZLbxCn9AeK+yD29EfkB8+jq+JYN9QLDb/cEVx3xAFlP7Gj8QfECrYDPJoV57QHAEpsw9snpAZj5TJRMLekCMDjvTIWl5QOJ0XdZpzHhAaXG6Lus0eEAgBFLcpaJ3QActJN+ZFXdAHuwwN8eNdkBnQXjkLQt2QN8s+ubNjXVAiK62PqcVdUBgxq3ruaJ0QGp03+0FNXRAo7hLRYvMc0ANk/LxSWlzQKcD1PNBC3NAcgrwSnOyckBtp0b33V5yQJja1/iBEHJA86OjT1/HcUB/A6r7dYNxQDv56vzFRHFAKIVmU08LcUBEpxz/EddwQJJfDQAOqHBAD644VkN+cEC9kp4BsllwQJsNPwJaOnBAqR4aWDsgcEDoxS8DVgtwQK4GAAdU929A7a0Vsm7ib0CMgaAH/NdvQIyBoAf8129A7a0Vsm7ib0CuBgAHVPdvQOjFLwNWC3BAqR4aWDsgcECbDT8CWjpwQL2SngGyWXBAD644VkN+cECRXw0ADqhwQESnHP8R13BAKIVmU08LcUA7+er8xURxQH8Dqvt1g3FA86OjT1/HcUCY2tf4gRByQG2nRvfdXnJAcgrwSnOyckCnA9TzQQtzQA2T8vFJaXNAo7hLRYvMc0BqdN/tBTV0QGDGreu5onRAh662PqcVdUDfLPrmzY11QGdBeOQtC3ZAHuwwN8eNdkAGLSTfmRV3QCAEUtylondAaXG6Lus0eEDhdF3Wacx4QIwOO9MhaXlAZj5TJRMLekBuBKbMPbJ6QKtgM8mhXntAFFP7Gj8QfECy2/3BFcd8QHz6Or4lg31Adq+yD29EfkCl+mS28Qp/QADcUbKt1n9Axqm8gdFTgECmsO3U6L6AQJwCvNKcLIFArJ8ne+2cgUDShzDO2g+CQBC71stkhYJAaTkadIv9gkDYAvvGTniDQGEXecSu9YNAAHeUbKt1hEA=",
          "dtype": "f8"
         }
        },
        {
         "hoverinfo": "skip",
         "line": {
          "color": "black",
          "width": 1
         },
         "mode": "lines",
         "opacity": 0.3,
         "showlegend": false,
         "type": "scatter3d",
         "x": {
          "bdata": "AAAAAAAANMBDYt7OkJgzwIbEvJ0hMTPAyiabbLLJMsANiXk7Q2IywFDrVwrU+jHAk0022WSTMcDXrxSo9SsxwBoS83aGxDDAXXTRRRddMMBArV8pUOsvwMdxHMdxHC/ATjbZZJNNLsDU+pUCtX4twFq/UqDWryzA4YMPPvjgK8BoSMzbGRIrwO4MiXk7QyrAdNFFF110KcD7lQK1fqUowIFav1Kg1ifACB988MEHJ8CO4ziO4zgmwBWo9SsFaiXAm2yyySabJMAiMW9nSMwjwKj1KwVq/SLAL7rooosuIsC1fqVArV8hwDxDYt7OkCDAhA8++OCDH8CSmLczJOYdwJ4hMW9nSBzAqqqqqqqqGsC4MyTm7QwZwMS8nSExbxfA0kUXXXTRFcDezpCYtzMUwOxXCtT6lRLA+OCDDz74EMAI1PqVArUOwCjm7QyJeQvAQPjggw8+CMBYCtT6lQIFwHAcx3EcxwHAIF100UUX/b9QgVq/UqD2v4ClQK1fKfC/YJNNNtlk478Ab2dIzNvJvwBvZ0jM28k/YJNNNtlk4z+ApUCtXynwP1CBWr9SoPY/EF100UUX/T9wHMdxHMcBQFgK1PqVAgVAQPjggw8+CEAg5u0MiXkLQAjU+pUCtQ5A+OCDDz74EEDsVwrU+pUSQNzOkJi3MxRA0EUXXXTRFUDEvJ0hMW8XQLgzJObtDBlArKqqqqqqGkCcITFvZ0gcQJCYtzMk5h1AhA8++OCDH0A8Q2LezpAgQLR+pUCtXyFALrrooosuIkCo9SsFav0iQCIxb2dIzCNAmmyyySabJEAUqPUrBWolQI7jOI7jOCZACB988MEHJ0CAWr9SoNYnQPyVArV+pShAdNFFF110KUDsDIl5O0MqQGhIzNsZEitA4IMPPvjgK0Bcv1Kg1q8sQNT6lQK1fi1ATDbZZJNNLkDIcRzHcRwvQECtXylQ6y9AXHTRRRddMEAaEvN2hsQwQNavFKj1KzFAlE022WSTMUBQ61cK1PoxQAyJeTtDYjJAyiabbLLJMkCGxLydITEzQERi3s6QmDNAAAAAAAAANEA=",
          "dtype": "f8"
         },
         "y": {
          "bdata": "gVq/UqDWJ8CBWr9SoNYnwIFav1Kg1ifAgVq/UqDWJ8CBWr9SoNYnwIFav1Kg1ifAgVq/UqDWJ8CBWr9SoNYnwIFav1Kg1ifAgVq/UqDWJ8CBWr9SoNYnwIFav1Kg1ifAgVq/UqDWJ8CBWr9SoNYnwIFav1Kg1ifAgVq/UqDWJ8CBWr9SoNYnwIFav1Kg1ifAgVq/UqDWJ8CBWr9SoNYnwIFav1Kg1ifAgVq/UqDWJ8CBWr9SoNYnwIFav1Kg1ifAgVq/UqDWJ8CBWr9SoNYnwIFav1Kg1ifAgVq/UqDWJ8CBWr9SoNYnwIFav1Kg1ifAgVq/UqDWJ8CBWr9SoNYnwIFav1Kg1ifAgVq/UqDWJ8CBWr9SoNYnwIFav1Kg1ifAgVq/UqDWJ8CBWr9SoNYnwIFav1Kg1ifAgVq/UqDWJ8CBWr9SoNYnwIFav1Kg1ifAgVq/UqDWJ8CBWr9SoNYnwIFav1Kg1ifAgVq/UqDWJ8CBWr9SoNYnwIFav1Kg1ifAgVq/UqDWJ8CBWr9SoNYnwIFav1Kg1ifAgVq/UqDWJ8CBWr9SoNYnwIFav1Kg1ifAgVq/UqDWJ8CBWr9SoNYnwIFav1Kg1ifAgVq/UqDWJ8CBWr9SoNYnwIFav1Kg1ifAgVq/UqDWJ8CBWr9SoNYnwIFav1Kg1ifAgVq/UqDWJ8CBWr9SoNYnwIFav1Kg1ifAgVq/UqDWJ8CBWr9SoNYnwIFav1Kg1ifAgVq/UqDWJ8CBWr9SoNYnwIFav1Kg1ifAgVq/UqDWJ8CBWr9SoNYnwIFav1Kg1ifAgVq/UqDWJ8CBWr9SoNYnwIFav1Kg1ifAgVq/UqDWJ8CBWr9SoNYnwIFav1Kg1ifAgVq/UqDWJ8CBWr9SoNYnwIFav1Kg1ifAgVq/UqDWJ8CBWr9SoNYnwIFav1Kg1ifAgVq/UqDWJ8CBWr9SoNYnwIFav1Kg1ifAgVq/UqDWJ8CBWr9SoNYnwIFav1Kg1ifAgVq/UqDWJ8CBWr9SoNYnwIFav1Kg1ifAgVq/UqDWJ8CBWr9SoNYnwIFav1Kg1ifAgVq/UqDWJ8A=",
          "dtype": "f8"
         },
         "z": {
          "bdata": "cUOafonwgEDR437WjHCAQJKeAbJZ5n9AtAtADNPwfkAED7m7hQB+QIaobMBxFX1ANthaGpcvfEAanoPJ9U57QCz65s2Nc3pAcOyEJ1+deUDidF3Wacx4QIaTcNqtAHhAWki+Mys6d0Bek0bi4Xh2QJJ0CebRvHVA9+sGP/sFdUCM+T7tXVR0QFKdsfD5p3NAR9deSc8Ac0Btp0b33V5yQMMNafolwnFASgrGUqcqcUABnV0AYphwQOnFLwNWC3BAAAp5tgYHb0CQtAcR1AFuQICLCxYUB21A0o6ExcYWbECEvnIf7DBrQJYa1iOEVWpACaOu0o6EaUDeV/wrDL5oQBI5vy/8AWhApkb33V5QZ0CcgKQ2NKlmQPLmxjl8DGZAqnle5zZ6ZUDBOGs/ZPJkQDok7UEEdWRAEjzk7hYCZEBMgFBGnJljQOfwMUiUO2NA4Y2I9P7nYkA9V1RL3J5iQPlMlUwsYGJAFm9L+O4rYkCTvXZOJAJiQHE4F0/M4mFAsN8s+ubNYUBPs7dPdMNhQE+zt090w2FAsN8s+ubNYUBxOBdPzOJhQJO9dk4kAmJAFW9L+O4rYkD5TJVMLGBiQD1XVEvcnmJA4Y2I9P7nYkDm8DFIlDtjQEyAUEacmWNAEjzk7hYCZEA6JO1BBHVkQMA4az9k8mRAqXle5zZ6ZUDy5sY5fAxmQJyApDY0qWZAp0b33V5QZ0AROb8v/AFoQN1X/CsMvmhACaOu0o6EaUCWGtYjhFVqQIK+ch/sMGtA0Y6ExcYWbECAiwsWFAdtQJC0BxHUAW5A/gl5tgYHb0DoxS8DVgtwQAGdXQBimHBASgrGUqcqcUDCDWn6JcJxQG6nRvfdXnJAR9deSc8Ac0BQnbHw+adzQIz5Pu1dVHRA9usGP/sFdUCUdAnm0bx1QF6TRuLheHZAWEi+Mys6d0CGk3DarQB4QOJ0XdZpzHhAbuyEJ1+deUAs+ubNjXN6QBieg8n1TntAOthaGpcvfECGqGzAcRV9QAIPubuFAH5AtAtADNPwfkCSngGyWeZ/QNLjftaMcIBAcUOafonwgEA=",
          "dtype": "f8"
         }
        },
        {
         "hoverinfo": "skip",
         "line": {
          "color": "black",
          "width": 1
         },
         "mode": "lines",
         "opacity": 0.3,
         "showlegend": false,
         "type": "scatter3d",
         "x": {
          "bdata": "AAAAAAAANMBDYt7OkJgzwIbEvJ0hMTPAyiabbLLJMsANiXk7Q2IywFDrVwrU+jHAk0022WSTMcDXrxSo9SsxwBoS83aGxDDAXXTRRRddMMBArV8pUOsvwMdxHMdxHC/ATjbZZJNNLsDU+pUCtX4twFq/UqDWryzA4YMPPvjgK8BoSMzbGRIrwO4MiXk7QyrAdNFFF110KcD7lQK1fqUowIFav1Kg1ifACB988MEHJ8CO4ziO4zgmwBWo9SsFaiXAm2yyySabJMAiMW9nSMwjwKj1KwVq/SLAL7rooosuIsC1fqVArV8hwDxDYt7OkCDAhA8++OCDH8CSmLczJOYdwJ4hMW9nSBzAqqqqqqqqGsC4MyTm7QwZwMS8nSExbxfA0kUXXXTRFcDezpCYtzMUwOxXCtT6lRLA+OCDDz74EMAI1PqVArUOwCjm7QyJeQvAQPjggw8+CMBYCtT6lQIFwHAcx3EcxwHAIF100UUX/b9QgVq/UqD2v4ClQK1fKfC/YJNNNtlk478Ab2dIzNvJvwBvZ0jM28k/YJNNNtlk4z+ApUCtXynwP1CBWr9SoPY/EF100UUX/T9wHMdxHMcBQFgK1PqVAgVAQPjggw8+CEAg5u0MiXkLQAjU+pUCtQ5A+OCDDz74EEDsVwrU+pUSQNzOkJi3MxRA0EUXXXTRFUDEvJ0hMW8XQLgzJObtDBlArKqqqqqqGkCcITFvZ0gcQJCYtzMk5h1AhA8++OCDH0A8Q2LezpAgQLR+pUCtXyFALrrooosuIkCo9SsFav0iQCIxb2dIzCNAmmyyySabJEAUqPUrBWolQI7jOI7jOCZACB988MEHJ0CAWr9SoNYnQPyVArV+pShAdNFFF110KUDsDIl5O0MqQGhIzNsZEitA4IMPPvjgK0Bcv1Kg1q8sQNT6lQK1fi1ATDbZZJNNLkDIcRzHcRwvQECtXylQ6y9AXHTRRRddMEAaEvN2hsQwQNavFKj1KzFAlE022WSTMUBQ61cK1PoxQAyJeTtDYjJAyiabbLLJMkCGxLydITEzQERi3s6QmDNAAAAAAAAANEA=",
          "dtype": "f8"
         },
         "y": {
          "bdata": "hA8++OCDH8CEDz744IMfwIQPPvjggx/AhA8++OCDH8CEDz744IMfwIQPPvjggx/AhA8++OCDH8CEDz744IMfwIQPPvjggx/AhA8++OCDH8CEDz744IMfwIQPPvjggx/AhA8++OCDH8CEDz744IMfwIQPPvjggx/AhA8++OCDH8CEDz744IMfwIQPPvjggx/AhA8++OCDH8CEDz744IMfwIQPPvjggx/AhA8++OCDH8CEDz744IMfwIQPPvjggx/AhA8++OCDH8CEDz744IMfwIQPPvjggx/AhA8++OCDH8CEDz744IMfwIQPPvjggx/AhA8++OCDH8CEDz744IMfwIQPPvjggx/AhA8++OCDH8CEDz744IMfwIQPPvjggx/AhA8++OCDH8CEDz744IMfwIQPPvjggx/AhA8++OCDH8CEDz744IMfwIQPPvjggx/AhA8++OCDH8CEDz744IMfwIQPPvjggx/AhA8++OCDH8CEDz744IMfwIQPPvjggx/AhA8++OCDH8CEDz744IMfwIQPPvjggx/AhA8++OCDH8CEDz744IMfwIQPPvjggx/AhA8++OCDH8CEDz744IMfwIQPPvjggx/AhA8++OCDH8CEDz744IMfwIQPPvjggx/AhA8++OCDH8CEDz744IMfwIQPPvjggx/AhA8++OCDH8CEDz744IMfwIQPPvjggx/AhA8++OCDH8CEDz744IMfwIQPPvjggx/AhA8++OCDH8CEDz744IMfwIQPPvjggx/AhA8++OCDH8CEDz744IMfwIQPPvjggx/AhA8++OCDH8CEDz744IMfwIQPPvjggx/AhA8++OCDH8CEDz744IMfwIQPPvjggx/AhA8++OCDH8CEDz744IMfwIQPPvjggx/AhA8++OCDH8CEDz744IMfwIQPPvjggx/AhA8++OCDH8CEDz744IMfwIQPPvjggx/AhA8++OCDH8CEDz744IMfwIQPPvjggx/AhA8++OCDH8CEDz744IMfwIQPPvjggx/AhA8++OCDH8CEDz744IMfwIQPPvjggx/AhA8++OCDH8A=",
          "dtype": "f8"
         },
         "z": {
          "bdata": "o8oibDThfEBjC+wbO+F7QFPi7yB75npAdU8ue/TweUDGUqcqpwB5QEfsWi+TFXhA+BtJibgvd0Dc4XE4F092QO491Tyvc3VAMTBzloCddECjuEtFi8xzQEfXXknPAHNAHIysokw6ckAf1zRRA3lxQFO491TzvHBAuS/1rRwGcECcelq4/qhuQCbCP782UG1AETaacOEBbEBd1mnM/r1qQAmjrtKOhGlAGJxog5FVaECFwZfeBjFnQFUTPOTuFmZAg5FVlEkHZUAUPOTuFgJkQAQT6PNWB2NAVhZhowkXYkAHRk/9LjFhQBqisgHHVWBAGVUWYaMJX0DCvrETnnxdQCqBNxt+BFxAU5ynd0OhWkBAEAIp7lJZQOzcRi9+GVhAWgJ2ivP0VkCJgI86TuVVQHpXkz+O6lRAK4eBmbMEVECeD1pIvjNTQNTwHEyud1JAySrKpIPQUUCAvWFSPj5RQPio41TewFBAMu1PrGNYUEAtiqZYzgRQQNH/zrM8jE9AzJwlYKc4T0BJ61C23A5PQEnrULbcDk9AzJwlYKc4T0DR/86zPIxPQC2KpljOBFBAMe1PrGNYUED4qONU3sBQQIC9YVI+PlFAySrKpIPQUUDS8BxMrndSQJ4PWki+M1NAK4eBmbMEVEB6V5M/jupUQIiAjzpO5VVAWQJ2ivP0VkDs3EYvfhlYQEAQAinuUllAVJynd0OhWkAogTcbfgRcQMC+sROefF1AGVUWYaMJX0AaorIBx1VgQAZGT/0uMWFAVBZhowkXYkAEE+jzVgdjQBQ85O4WAmRAgpFVlEkHZUBTEzzk7hZmQIXBl94GMWdAGJxog5FVaEAIo67SjoRpQF/Wacz+vWpAETaacOEBbEAjwj+/NlBtQJx6Wrj+qG5AuC/1rRwGcEBVuPdU87xwQB/XNFEDeXFAGoysokw6ckBI115JzwBzQKO4S0WLzHNALzBzloCddEDuPdU8r3N1QNrhcTgXT3ZA+xtJibgvd0BH7FovkxV4QMRSpyqnAHlAdU8ue/TweUBT4u8ge+Z6QGUL7Bs74XtAo8oibDThfEA=",
          "dtype": "f8"
         }
        },
        {
         "hoverinfo": "skip",
         "line": {
          "color": "black",
          "width": 1
         },
         "mode": "lines",
         "opacity": 0.3,
         "showlegend": false,
         "type": "scatter3d",
         "x": {
          "bdata": "AAAAAAAANMBDYt7OkJgzwIbEvJ0hMTPAyiabbLLJMsANiXk7Q2IywFDrVwrU+jHAk0022WSTMcDXrxSo9SsxwBoS83aGxDDAXXTRRRddMMBArV8pUOsvwMdxHMdxHC/ATjbZZJNNLsDU+pUCtX4twFq/UqDWryzA4YMPPvjgK8BoSMzbGRIrwO4MiXk7QyrAdNFFF110KcD7lQK1fqUowIFav1Kg1ifACB988MEHJ8CO4ziO4zgmwBWo9SsFaiXAm2yyySabJMAiMW9nSMwjwKj1KwVq/SLAL7rooosuIsC1fqVArV8hwDxDYt7OkCDAhA8++OCDH8CSmLczJOYdwJ4hMW9nSBzAqqqqqqqqGsC4MyTm7QwZwMS8nSExbxfA0kUXXXTRFcDezpCYtzMUwOxXCtT6lRLA+OCDDz74EMAI1PqVArUOwCjm7QyJeQvAQPjggw8+CMBYCtT6lQIFwHAcx3EcxwHAIF100UUX/b9QgVq/UqD2v4ClQK1fKfC/YJNNNtlk478Ab2dIzNvJvwBvZ0jM28k/YJNNNtlk4z+ApUCtXynwP1CBWr9SoPY/EF100UUX/T9wHMdxHMcBQFgK1PqVAgVAQPjggw8+CEAg5u0MiXkLQAjU+pUCtQ5A+OCDDz74EEDsVwrU+pUSQNzOkJi3MxRA0EUXXXTRFUDEvJ0hMW8XQLgzJObtDBlArKqqqqqqGkCcITFvZ0gcQJCYtzMk5h1AhA8++OCDH0A8Q2LezpAgQLR+pUCtXyFALrrooosuIkCo9SsFav0iQCIxb2dIzCNAmmyyySabJEAUqPUrBWolQI7jOI7jOCZACB988MEHJ0CAWr9SoNYnQPyVArV+pShAdNFFF110KUDsDIl5O0MqQGhIzNsZEitA4IMPPvjgK0Bcv1Kg1q8sQNT6lQK1fi1ATDbZZJNNLkDIcRzHcRwvQECtXylQ6y9AXHTRRRddMEAaEvN2hsQwQNavFKj1KzFAlE022WSTMUBQ61cK1PoxQAyJeTtDYjJAyiabbLLJMkCGxLydITEzQERi3s6QmDNAAAAAAAAANEA=",
          "dtype": "f8"
         },
         "y": {
          "bdata": "CNT6lQK1DsAI1PqVArUOwAjU+pUCtQ7ACNT6lQK1DsAI1PqVArUOwAjU+pUCtQ7ACNT6lQK1DsAI1PqVArUOwAjU+pUCtQ7ACNT6lQK1DsAI1PqVArUOwAjU+pUCtQ7ACNT6lQK1DsAI1PqVArUOwAjU+pUCtQ7ACNT6lQK1DsAI1PqVArUOwAjU+pUCtQ7ACNT6lQK1DsAI1PqVArUOwAjU+pUCtQ7ACNT6lQK1DsAI1PqVArUOwAjU+pUCtQ7ACNT6lQK1DsAI1PqVArUOwAjU+pUCtQ7ACNT6lQK1DsAI1PqVArUOwAjU+pUCtQ7ACNT6lQK1DsAI1PqVArUOwAjU+pUCtQ7ACNT6lQK1DsAI1PqVArUOwAjU+pUCtQ7ACNT6lQK1DsAI1PqVArUOwAjU+pUCtQ7ACNT6lQK1DsAI1PqVArUOwAjU+pUCtQ7ACNT6lQK1DsAI1PqVArUOwAjU+pUCtQ7ACNT6lQK1DsAI1PqVArUOwAjU+pUCtQ7ACNT6lQK1DsAI1PqVArUOwAjU+pUCtQ7ACNT6lQK1DsAI1PqVArUOwAjU+pUCtQ7ACNT6lQK1DsAI1PqVArUOwAjU+pUCtQ7ACNT6lQK1DsAI1PqVArUOwAjU+pUCtQ7ACNT6lQK1DsAI1PqVArUOwAjU+pUCtQ7ACNT6lQK1DsAI1PqVArUOwAjU+pUCtQ7ACNT6lQK1DsAI1PqVArUOwAjU+pUCtQ7ACNT6lQK1DsAI1PqVArUOwAjU+pUCtQ7ACNT6lQK1DsAI1PqVArUOwAjU+pUCtQ7ACNT6lQK1DsAI1PqVArUOwAjU+pUCtQ7ACNT6lQK1DsAI1PqVArUOwAjU+pUCtQ7ACNT6lQK1DsAI1PqVArUOwAjU+pUCtQ7ACNT6lQK1DsAI1PqVArUOwAjU+pUCtQ7ACNT6lQK1DsAI1PqVArUOwAjU+pUCtQ7ACNT6lQK1DsAI1PqVArUOwAjU+pUCtQ7ACNT6lQK1DsAI1PqVArUOwAjU+pUCtQ7ACNT6lQK1DsAI1PqVArUOwAjU+pUCtQ7ACNT6lQK1DsA=",
          "dtype": "f8"
         },
         "z": {
          "bdata": "RLnzJbvreUAE+rzVwet4QPTQwNoB8XdAFj7/NHv7dkBnQXjkLQt2QOjaK+kZIHVAmQoaQz86dEB90ELynVlzQI8spvY1fnJA0h5EUAeocUBEpxz/EddwQOjFLwNWC3BAevX6uKaJbkCBiwsWFAdtQOlNkR30jmtAtDyMz0YhakDfV/wrDL5oQGmf4TJEZWdAVBM85O4WZkCgswtADNNkQEyAUEacmWNAW3kK955qYkDInjlSFEZhQJfw3Vf8K2BAjN3uD644XkCsMgzFSC5cQIzgE8/IOFpAMOcFLi5YWECSRuLheIxWQLj+qOqo1VRAng9aSL4zU0BGefX6uKZRQK47ewKZLlBAsK3WvbyWTUCJlYsgEvpKQOEuFS0yh0hAvnlz4xw+RkAcdqZD0h5EQP4jrk1SKUJAYIOKAZ1dQECMKHe+ZHc9QGOtgs0khzpAOJU3MHrqN0AT4JXmZKE1QPONnfDkqzNA3J5OTvoJMkDGEqn/pLswQGzTWQnKgS9AV0e0unQzLkBNgWETSowtQE2BYRNKjC1AV0e0unQzLkBs01kJyoEvQMYSqf+kuzBA2J5OTvoJMkDzjZ3w5KszQBPgleZkoTVAOJU3MHrqN0BcrYLNJIc6QIwod75kdz1AYIOKAZ1dQED+I65NUilCQBl2pkPSHkRAvHlz4xw+RkDhLhUtModIQImViyAS+kpAs63WvbyWTUCtO3sCmS5QQEV59fq4plFAng9aSL4zU0C4/qjqqNVUQJBG4uF4jFZALucFLi5YWECM4BPPyDhaQKwyDMVILlxAiN3uD644XkCW8N1X/CtgQMieOVIURmFAW3kK955qYkBLgFBGnJljQKKzC0AM02RAVBM85O4WZkBmn+EyRGVnQN9X/CsMvmhAsjyMz0YhakDtTZEd9I5rQIGLCxYUB21AdvX6uKaJbkDpxS8DVgtwQESnHP8R13BA0B5EUAeocUCPLKb2NX5yQHvQQvKdWXNAnAoaQz86dEDo2ivpGSB1QGVBeOQtC3ZAFj7/NHv7dkD00MDaAfF3QAb6vNXB63hARLnzJbvreUA=",
          "dtype": "f8"
         }
        },
        {
         "hoverinfo": "skip",
         "line": {
          "color": "black",
          "width": 1
         },
         "mode": "lines",
         "opacity": 0.3,
         "showlegend": false,
         "type": "scatter3d",
         "x": {
          "bdata": "AAAAAAAANMBDYt7OkJgzwIbEvJ0hMTPAyiabbLLJMsANiXk7Q2IywFDrVwrU+jHAk0022WSTMcDXrxSo9SsxwBoS83aGxDDAXXTRRRddMMBArV8pUOsvwMdxHMdxHC/ATjbZZJNNLsDU+pUCtX4twFq/UqDWryzA4YMPPvjgK8BoSMzbGRIrwO4MiXk7QyrAdNFFF110KcD7lQK1fqUowIFav1Kg1ifACB988MEHJ8CO4ziO4zgmwBWo9SsFaiXAm2yyySabJMAiMW9nSMwjwKj1KwVq/SLAL7rooosuIsC1fqVArV8hwDxDYt7OkCDAhA8++OCDH8CSmLczJOYdwJ4hMW9nSBzAqqqqqqqqGsC4MyTm7QwZwMS8nSExbxfA0kUXXXTRFcDezpCYtzMUwOxXCtT6lRLA+OCDDz74EMAI1PqVArUOwCjm7QyJeQvAQPjggw8+CMBYCtT6lQIFwHAcx3EcxwHAIF100UUX/b9QgVq/UqD2v4ClQK1fKfC/YJNNNtlk478Ab2dIzNvJvwBvZ0jM28k/YJNNNtlk4z+ApUCtXynwP1CBWr9SoPY/EF100UUX/T9wHMdxHMcBQFgK1PqVAgVAQPjggw8+CEAg5u0MiXkLQAjU+pUCtQ5A+OCDDz74EEDsVwrU+pUSQNzOkJi3MxRA0EUXXXTRFUDEvJ0hMW8XQLgzJObtDBlArKqqqqqqGkCcITFvZ0gcQJCYtzMk5h1AhA8++OCDH0A8Q2LezpAgQLR+pUCtXyFALrrooosuIkCo9SsFav0iQCIxb2dIzCNAmmyyySabJEAUqPUrBWolQI7jOI7jOCZACB988MEHJ0CAWr9SoNYnQPyVArV+pShAdNFFF110KUDsDIl5O0MqQGhIzNsZEitA4IMPPvjgK0Bcv1Kg1q8sQNT6lQK1fi1ATDbZZJNNLkDIcRzHcRwvQECtXylQ6y9AXHTRRRddMEAaEvN2hsQwQNavFKj1KzFAlE022WSTMUBQ61cK1PoxQAyJeTtDYjJAyiabbLLJMkCGxLydITEzQERi3s6QmDNAAAAAAAAANEA=",
          "dtype": "f8"
         },
         "y": {
          "bdata": "AG9nSMzbyT8Ab2dIzNvJPwBvZ0jM28k/AG9nSMzbyT8Ab2dIzNvJPwBvZ0jM28k/AG9nSMzbyT8Ab2dIzNvJPwBvZ0jM28k/AG9nSMzbyT8Ab2dIzNvJPwBvZ0jM28k/AG9nSMzbyT8Ab2dIzNvJPwBvZ0jM28k/AG9nSMzbyT8Ab2dIzNvJPwBvZ0jM28k/AG9nSMzbyT8Ab2dIzNvJPwBvZ0jM28k/AG9nSMzbyT8Ab2dIzNvJPwBvZ0jM28k/AG9nSMzbyT8Ab2dIzNvJPwBvZ0jM28k/AG9nSMzbyT8Ab2dIzNvJPwBvZ0jM28k/AG9nSMzbyT8Ab2dIzNvJPwBvZ0jM28k/AG9nSMzbyT8Ab2dIzNvJPwBvZ0jM28k/AG9nSMzbyT8Ab2dIzNvJPwBvZ0jM28k/AG9nSMzbyT8Ab2dIzNvJPwBvZ0jM28k/AG9nSMzbyT8Ab2dIzNvJPwBvZ0jM28k/AG9nSMzbyT8Ab2dIzNvJPwBvZ0jM28k/AG9nSMzbyT8Ab2dIzNvJPwBvZ0jM28k/AG9nSMzbyT8Ab2dIzNvJPwBvZ0jM28k/AG9nSMzbyT8Ab2dIzNvJPwBvZ0jM28k/AG9nSMzbyT8Ab2dIzNvJPwBvZ0jM28k/AG9nSMzbyT8Ab2dIzNvJPwBvZ0jM28k/AG9nSMzbyT8Ab2dIzNvJPwBvZ0jM28k/AG9nSMzbyT8Ab2dIzNvJPwBvZ0jM28k/AG9nSMzbyT8Ab2dIzNvJPwBvZ0jM28k/AG9nSMzbyT8Ab2dIzNvJPwBvZ0jM28k/AG9nSMzbyT8Ab2dIzNvJPwBvZ0jM28k/AG9nSMzbyT8Ab2dIzNvJPwBvZ0jM28k/AG9nSMzbyT8Ab2dIzNvJPwBvZ0jM28k/AG9nSMzbyT8Ab2dIzNvJPwBvZ0jM28k/AG9nSMzbyT8Ab2dIzNvJPwBvZ0jM28k/AG9nSMzbyT8Ab2dIzNvJPwBvZ0jM28k/AG9nSMzbyT8Ab2dIzNvJPwBvZ0jM28k/AG9nSMzbyT8Ab2dIzNvJPwBvZ0jM28k/AG9nSMzbyT8=",
          "dtype": "f8"
         },
         "z": {
          "bdata": "xlKnKqcAeUCGk3DarQB4QHZqdN/tBXdAmNeyOWcQdkDp2ivpGSB1QGp03+0FNXRAG6TNRytPc0D/afb2iW5yQBHGWfshk3FAVLj3VPO8cECMgaAH/NdvQNS+xg+EQG5AfShiwn6zbECEvnIf7DBrQOyA+CbMuGlAt2/z2B5LaEDiimM15OdmQGzSSDwcj2VAV0aj7cZAZECj5nJJ5PxiQE+zt090w2FAXqxxAHeUYECWo0G32N9eQDVHisKoq1xAkkO9Il6MWkCzmNrX+IFYQJNG4uF4jFZAN03UQN6rVECZrLD0KOBSQL9kd/1YKVFASetQttwOT0Cavocb0vRLQGpDkyqSBElAvXlz4xw+RkCWYShGcqFDQO76sVKSLkFAlosgEvrKPUBRhIbSZIw5QBbgleZkoTVA255OTvoJMkBNgWETSowtQPuKeDHKqydApVri9nRyIkC14D3HlMAbQDWYXO+U6hNAtbdBzNTFCkAHVxVXKlMAQAwdaP5U+vA/hvHuJKoe2j/6wFjqVOW0P/rAWOpU5bQ/hvHuJKoe2j8MHWj+VPrwPwdXFVcqUwBAmLdBzNTFCkA1mFzvlOoTQLXgPceUwBtApVri9nRyIkDuingxyqsnQE2BYRNKjC1A255OTvoJMkAW4JXmZKE1QEyEhtJkjDlAkYsgEvrKPUDu+rFSki5BQJZhKEZyoUNAwHlz4xw+RkBnQ5MqkgRJQJe+hxvS9EtASetQttwOT0C/ZHf9WClRQJessPQo4FJANE3UQN6rVECTRuLheIxWQLOY2tf4gVhAj0O9Il6MWkAyR4rCqKtcQJajQbfY315AXqxxAHeUYEBOs7dPdMNhQKXmcknk/GJAV0aj7cZAZEBp0kg8HI9lQOKKYzXk52ZAtW/z2B5LaEDwgPgmzLhpQIS+ch/sMGtAeShiwn6zbEDWvsYPhEBuQIyBoAf8129AUrj3VPO8cEARxln7IZNxQP1p9vaJbnJAHqTNRytPc0BqdN/tBTV0QOfaK+kZIHVAmNeyOWcQdkB2anTf7QV3QIiTcNqtAHhAxlKnKqcAeUA=",
          "dtype": "f8"
         }
        },
        {
         "hoverinfo": "skip",
         "line": {
          "color": "black",
          "width": 1
         },
         "mode": "lines",
         "opacity": 0.3,
         "showlegend": false,
         "type": "scatter3d",
         "x": {
          "bdata": "AAAAAAAANMBDYt7OkJgzwIbEvJ0hMTPAyiabbLLJMsANiXk7Q2IywFDrVwrU+jHAk0022WSTMcDXrxSo9SsxwBoS83aGxDDAXXTRRRddMMBArV8pUOsvwMdxHMdxHC/ATjbZZJNNLsDU+pUCtX4twFq/UqDWryzA4YMPPvjgK8BoSMzbGRIrwO4MiXk7QyrAdNFFF110KcD7lQK1fqUowIFav1Kg1ifACB988MEHJ8CO4ziO4zgmwBWo9SsFaiXAm2yyySabJMAiMW9nSMwjwKj1KwVq/SLAL7rooosuIsC1fqVArV8hwDxDYt7OkCDAhA8++OCDH8CSmLczJOYdwJ4hMW9nSBzAqqqqqqqqGsC4MyTm7QwZwMS8nSExbxfA0kUXXXTRFcDezpCYtzMUwOxXCtT6lRLA+OCDDz74EMAI1PqVArUOwCjm7QyJeQvAQPjggw8+CMBYCtT6lQIFwHAcx3EcxwHAIF100UUX/b9QgVq/UqD2v4ClQK1fKfC/YJNNNtlk478Ab2dIzNvJvwBvZ0jM28k/YJNNNtlk4z+ApUCtXynwP1CBWr9SoPY/EF100UUX/T9wHMdxHMcBQFgK1PqVAgVAQPjggw8+CEAg5u0MiXkLQAjU+pUCtQ5A+OCDDz74EEDsVwrU+pUSQNzOkJi3MxRA0EUXXXTRFUDEvJ0hMW8XQLgzJObtDBlArKqqqqqqGkCcITFvZ0gcQJCYtzMk5h1AhA8++OCDH0A8Q2LezpAgQLR+pUCtXyFALrrooosuIkCo9SsFav0iQCIxb2dIzCNAmmyyySabJEAUqPUrBWolQI7jOI7jOCZACB988MEHJ0CAWr9SoNYnQPyVArV+pShAdNFFF110KUDsDIl5O0MqQGhIzNsZEitA4IMPPvjgK0Bcv1Kg1q8sQNT6lQK1fi1ATDbZZJNNLkDIcRzHcRwvQECtXylQ6y9AXHTRRRddMEAaEvN2hsQwQNavFKj1KzFAlE022WSTMUBQ61cK1PoxQAyJeTtDYjJAyiabbLLJMkCGxLydITEzQERi3s6QmDNAAAAAAAAANEA=",
          "dtype": "f8"
         },
         "y": {
          "bdata": "+OCDDz74EED44IMPPvgQQPjggw8++BBA+OCDDz74EED44IMPPvgQQPjggw8++BBA+OCDDz74EED44IMPPvgQQPjggw8++BBA+OCDDz74EED44IMPPvgQQPjggw8++BBA+OCDDz74EED44IMPPvgQQPjggw8++BBA+OCDDz74EED44IMPPvgQQPjggw8++BBA+OCDDz74EED44IMPPvgQQPjggw8++BBA+OCDDz74EED44IMPPvgQQPjggw8++BBA+OCDDz74EED44IMPPvgQQPjggw8++BBA+OCDDz74EED44IMPPvgQQPjggw8++BBA+OCDDz74EED44IMPPvgQQPjggw8++BBA+OCDDz74EED44IMPPvgQQPjggw8++BBA+OCDDz74EED44IMPPvgQQPjggw8++BBA+OCDDz74EED44IMPPvgQQPjggw8++BBA+OCDDz74EED44IMPPvgQQPjggw8++BBA+OCDDz74EED44IMPPvgQQPjggw8++BBA+OCDDz74EED44IMPPvgQQPjggw8++BBA+OCDDz74EED44IMPPvgQQPjggw8++BBA+OCDDz74EED44IMPPvgQQPjggw8++BBA+OCDDz74EED44IMPPvgQQPjggw8++BBA+OCDDz74EED44IMPPvgQQPjggw8++BBA+OCDDz74EED44IMPPvgQQPjggw8++BBA+OCDDz74EED44IMPPvgQQPjggw8++BBA+OCDDz74EED44IMPPvgQQPjggw8++BBA+OCDDz74EED44IMPPvgQQPjggw8++BBA+OCDDz74EED44IMPPvgQQPjggw8++BBA+OCDDz74EED44IMPPvgQQPjggw8++BBA+OCDDz74EED44IMPPvgQQPjggw8++BBA+OCDDz74EED44IMPPvgQQPjggw8++BBA+OCDDz74EED44IMPPvgQQPjggw8++BBA+OCDDz74EED44IMPPvgQQPjggw8++BBA+OCDDz74EED44IMPPvgQQPjggw8++BBA+OCDDz74EED44IMPPvgQQPjggw8++BBA+OCDDz74EEA=",
          "dtype": "f8"
         },
         "z": {
          "bdata": "KJc9evgfekDo1wYq/x95QNiuCi8/JXhA+htJibgvd0BLH8I4az92QMy4dT1XVHVAfehjl3xudEBhroxG241zQHMK8EpzsnJAtvyNpETccUAohWZTTwtxQMyjeVeTP3BAQLGOYSHybkBHR5++jm9tQK8JJcZu92tAevgfeMGJakClE5DUhiZpQC9bddu+zWdAGs/PjGl/ZkBmb5/ohjtlQBI85O4WAmRAITWenxnTYkCOWs36jq5hQF6scQB3lGBAGVUWYaMJX0A6qjMWPv9cQBpYOyC+CVtAvl4tfyMpWUAgvgkzbl1XQEZ20DueplVAK4eBmbMEVEDU8BxMrndSQDyzolOO/1BAypwlYKc4T0CkhNrC/JtMQPwdZM8cKUpA2GjChQfgR0A2ZfXlvMBFQBgT/e88y0NAe3LZo4f/QUBgg4oBnV1AQJiLIBL6yj1AbXPVdE8uO0BIvjMrOuU4QChsOzW67zZAEX3sks9NNUD78EZEev8zQOvHSkm6BDNA4QH4oY9dMkDbnk5O+gkyQNueTk76CTJA4QH4oY9dMkDrx0pJugQzQPvwRkR6/zNADn3sks9NNUAobDs1uu82QEi+Mys65ThAbXPVdE8uO0CSiyAS+so9QGCDigGdXUBAe3LZo4f/QUAYE/3vPMtDQDRl9eW8wEVA1mjChQfgR0D8HWTPHClKQKSE2sL8m0xAzpwlYKc4T0A6s6JTjv9QQNLwHEyud1JAK4eBmbMEVEBGdtA7nqZVQB6+CTNuXVdAu14tfyMpWUAaWDsgvglbQDqqMxY+/1xAFlUWYaMJX0BcrHEAd5RgQI5azfqOrmFAITWenxnTYkARPOTuFgJkQGhvn+iGO2VAGs/PjGl/ZkAsW3Xbvs1nQKUTkNSGJmlAePgfeMGJakCzCSXGbvdrQEdHn76Ob21APLGOYSHybkDNo3lXkz9wQCiFZlNPC3FAtPyNpETccUBzCvBKc7JyQF+ujEbbjXNAgOhjl3xudEDMuHU9V1R1QEkfwjhrP3ZA+htJibgvd0DYrgovPyV4QOrXBir/H3lAKJc9evgfekA=",
          "dtype": "f8"
         }
        },
        {
         "hoverinfo": "skip",
         "line": {
          "color": "black",
          "width": 1
         },
         "mode": "lines",
         "opacity": 0.3,
         "showlegend": false,
         "type": "scatter3d",
         "x": {
          "bdata": "AAAAAAAANMBDYt7OkJgzwIbEvJ0hMTPAyiabbLLJMsANiXk7Q2IywFDrVwrU+jHAk0022WSTMcDXrxSo9SsxwBoS83aGxDDAXXTRRRddMMBArV8pUOsvwMdxHMdxHC/ATjbZZJNNLsDU+pUCtX4twFq/UqDWryzA4YMPPvjgK8BoSMzbGRIrwO4MiXk7QyrAdNFFF110KcD7lQK1fqUowIFav1Kg1ifACB988MEHJ8CO4ziO4zgmwBWo9SsFaiXAm2yyySabJMAiMW9nSMwjwKj1KwVq/SLAL7rooosuIsC1fqVArV8hwDxDYt7OkCDAhA8++OCDH8CSmLczJOYdwJ4hMW9nSBzAqqqqqqqqGsC4MyTm7QwZwMS8nSExbxfA0kUXXXTRFcDezpCYtzMUwOxXCtT6lRLA+OCDDz74EMAI1PqVArUOwCjm7QyJeQvAQPjggw8+CMBYCtT6lQIFwHAcx3EcxwHAIF100UUX/b9QgVq/UqD2v4ClQK1fKfC/YJNNNtlk478Ab2dIzNvJvwBvZ0jM28k/YJNNNtlk4z+ApUCtXynwP1CBWr9SoPY/EF100UUX/T9wHMdxHMcBQFgK1PqVAgVAQPjggw8+CEAg5u0MiXkLQAjU+pUCtQ5A+OCDDz74EEDsVwrU+pUSQNzOkJi3MxRA0EUXXXTRFUDEvJ0hMW8XQLgzJObtDBlArKqqqqqqGkCcITFvZ0gcQJCYtzMk5h1AhA8++OCDH0A8Q2LezpAgQLR+pUCtXyFALrrooosuIkCo9SsFav0iQCIxb2dIzCNAmmyyySabJEAUqPUrBWolQI7jOI7jOCZACB988MEHJ0CAWr9SoNYnQPyVArV+pShAdNFFF110KUDsDIl5O0MqQGhIzNsZEitA4IMPPvjgK0Bcv1Kg1q8sQNT6lQK1fi1ATDbZZJNNLkDIcRzHcRwvQECtXylQ6y9AXHTRRRddMEAaEvN2hsQwQNavFKj1KzFAlE022WSTMUBQ61cK1PoxQAyJeTtDYjJAyiabbLLJMkCGxLydITEzQERi3s6QmDNAAAAAAAAANEA=",
          "dtype": "f8"
         },
         "y": {
          "bdata": "PENi3s6QIEA8Q2LezpAgQDxDYt7OkCBAPENi3s6QIEA8Q2LezpAgQDxDYt7OkCBAPENi3s6QIEA8Q2LezpAgQDxDYt7OkCBAPENi3s6QIEA8Q2LezpAgQDxDYt7OkCBAPENi3s6QIEA8Q2LezpAgQDxDYt7OkCBAPENi3s6QIEA8Q2LezpAgQDxDYt7OkCBAPENi3s6QIEA8Q2LezpAgQDxDYt7OkCBAPENi3s6QIEA8Q2LezpAgQDxDYt7OkCBAPENi3s6QIEA8Q2LezpAgQDxDYt7OkCBAPENi3s6QIEA8Q2LezpAgQDxDYt7OkCBAPENi3s6QIEA8Q2LezpAgQDxDYt7OkCBAPENi3s6QIEA8Q2LezpAgQDxDYt7OkCBAPENi3s6QIEA8Q2LezpAgQDxDYt7OkCBAPENi3s6QIEA8Q2LezpAgQDxDYt7OkCBAPENi3s6QIEA8Q2LezpAgQDxDYt7OkCBAPENi3s6QIEA8Q2LezpAgQDxDYt7OkCBAPENi3s6QIEA8Q2LezpAgQDxDYt7OkCBAPENi3s6QIEA8Q2LezpAgQDxDYt7OkCBAPENi3s6QIEA8Q2LezpAgQDxDYt7OkCBAPENi3s6QIEA8Q2LezpAgQDxDYt7OkCBAPENi3s6QIEA8Q2LezpAgQDxDYt7OkCBAPENi3s6QIEA8Q2LezpAgQDxDYt7OkCBAPENi3s6QIEA8Q2LezpAgQDxDYt7OkCBAPENi3s6QIEA8Q2LezpAgQDxDYt7OkCBAPENi3s6QIEA8Q2LezpAgQDxDYt7OkCBAPENi3s6QIEA8Q2LezpAgQDxDYt7OkCBAPENi3s6QIEA8Q2LezpAgQDxDYt7OkCBAPENi3s6QIEA8Q2LezpAgQDxDYt7OkCBAPENi3s6QIEA8Q2LezpAgQDxDYt7OkCBAPENi3s6QIEA8Q2LezpAgQDxDYt7OkCBAPENi3s6QIEA8Q2LezpAgQDxDYt7OkCBAPENi3s6QIEA8Q2LezpAgQDxDYt7OkCBAPENi3s6QIEA8Q2LezpAgQDxDYt7OkCBAPENi3s6QIEA=",
          "dtype": "f8"
         },
         "z": {
          "bdata": "aoa2FK9JfUAqx3/EtUl8QBqeg8n1TntAPAvCI29ZekCNDjvTIWl5QA6o7tcNfnhAv9fcMTOYd0CjnQXhkbd2QLX5aOUp3HVA+OsGP/sFdUBqdN/tBTV0QA6T8vFJaXNA4kdAS8eickDmksj5feFxQBp0i/1tJXFAf+uIVpducEAq8oEJ9HlvQLQ5ZxAsIW5Anq3BwdbSbEDqTZEd9I5rQJYa1iOEVWpAphOQ1IYmaUASOb8v/AFoQOKKYzXk52ZAEAl95T7YZUChswtADNNkQJGKD0VM2GNA442I9P7nYkCUvXZOJAJiQKcZ2lK8JmFAGqKyAcdVYEDcrQC2iB5fQERwhr1opl1Abov2GS5DXEBa/1DL2PRaQAbMldFou1lAdPHELN6WWECjb97cOIdXQJRG4uF4jFZARnbQO56mVUC4/qjqqNVUQO7fa+6YGVRA5BkZR25yU0CarLD0KOBSQBKYMvfIYlJATdyeTk76UUBHefX6uKZRQANvNvwIaFFAgL1hUj4+UUC/ZHf9WClRQL9kd/1YKVFAgL1hUj4+UUADbzb8CGhRQEd59fq4plFATNyeTk76UUASmDL3yGJSQJqssPQo4FJA5BkZR25yU0Dt32vumBlUQLj+qOqo1VRARnbQO56mVUCURuLheIxWQKJv3tw4h1dAc/HELN6WWEAGzJXRaLtZQFr/UMvY9FpAb4v2GS5DXEBCcIa9aKZdQNqtALaIHl9AGqKyAcdVYECnGdpSvCZhQJO9dk4kAmJA4o2I9P7nYkCRig9FTNhjQKGzC0AM02RADwl95T7YZUDgimM15OdmQBI5vy/8AWhAphOQ1IYmaUCWGtYjhFVqQOxNkR30jmtAnq3BwdbSbECwOWcQLCFuQCrygQn0eW9AfuuIVpducEAcdIv9bSVxQOaSyPl94XFA4EdAS8eickAPk/LxSWlzQGp03+0FNXRA9usGP/sFdUC1+WjlKdx1QKGdBeGRt3ZAwtfcMTOYd0AOqO7XDX54QIsOO9MhaXlAPAvCI29ZekAanoPJ9U57QCzHf8S1SXxAaoa2FK9JfUA=",
          "dtype": "f8"
         }
        },
        {
         "hoverinfo": "skip",
         "line": {
          "color": "black",
          "width": 1
         },
         "mode": "lines",
         "opacity": 0.3,
         "showlegend": false,
         "type": "scatter3d",
         "x": {
          "bdata": "AAAAAAAANMBDYt7OkJgzwIbEvJ0hMTPAyiabbLLJMsANiXk7Q2IywFDrVwrU+jHAk0022WSTMcDXrxSo9SsxwBoS83aGxDDAXXTRRRddMMBArV8pUOsvwMdxHMdxHC/ATjbZZJNNLsDU+pUCtX4twFq/UqDWryzA4YMPPvjgK8BoSMzbGRIrwO4MiXk7QyrAdNFFF110KcD7lQK1fqUowIFav1Kg1ifACB988MEHJ8CO4ziO4zgmwBWo9SsFaiXAm2yyySabJMAiMW9nSMwjwKj1KwVq/SLAL7rooosuIsC1fqVArV8hwDxDYt7OkCDAhA8++OCDH8CSmLczJOYdwJ4hMW9nSBzAqqqqqqqqGsC4MyTm7QwZwMS8nSExbxfA0kUXXXTRFcDezpCYtzMUwOxXCtT6lRLA+OCDDz74EMAI1PqVArUOwCjm7QyJeQvAQPjggw8+CMBYCtT6lQIFwHAcx3EcxwHAIF100UUX/b9QgVq/UqD2v4ClQK1fKfC/YJNNNtlk478Ab2dIzNvJvwBvZ0jM28k/YJNNNtlk4z+ApUCtXynwP1CBWr9SoPY/EF100UUX/T9wHMdxHMcBQFgK1PqVAgVAQPjggw8+CEAg5u0MiXkLQAjU+pUCtQ5A+OCDDz74EEDsVwrU+pUSQNzOkJi3MxRA0EUXXXTRFUDEvJ0hMW8XQLgzJObtDBlArKqqqqqqGkCcITFvZ0gcQJCYtzMk5h1AhA8++OCDH0A8Q2LezpAgQLR+pUCtXyFALrrooosuIkCo9SsFav0iQCIxb2dIzCNAmmyyySabJEAUqPUrBWolQI7jOI7jOCZACB988MEHJ0CAWr9SoNYnQPyVArV+pShAdNFFF110KUDsDIl5O0MqQGhIzNsZEitA4IMPPvjgK0Bcv1Kg1q8sQNT6lQK1fi1ATDbZZJNNLkDIcRzHcRwvQECtXylQ6y9AXHTRRRddMEAaEvN2hsQwQNavFKj1KzFAlE022WSTMUBQ61cK1PoxQAyJeTtDYjJAyiabbLLJMkCGxLydITEzQERi3s6QmDNAAAAAAAAANEA=",
          "dtype": "f8"
         },
         "y": {
          "bdata": "/JUCtX6lKED8lQK1fqUoQPyVArV+pShA/JUCtX6lKED8lQK1fqUoQPyVArV+pShA/JUCtX6lKED8lQK1fqUoQPyVArV+pShA/JUCtX6lKED8lQK1fqUoQPyVArV+pShA/JUCtX6lKED8lQK1fqUoQPyVArV+pShA/JUCtX6lKED8lQK1fqUoQPyVArV+pShA/JUCtX6lKED8lQK1fqUoQPyVArV+pShA/JUCtX6lKED8lQK1fqUoQPyVArV+pShA/JUCtX6lKED8lQK1fqUoQPyVArV+pShA/JUCtX6lKED8lQK1fqUoQPyVArV+pShA/JUCtX6lKED8lQK1fqUoQPyVArV+pShA/JUCtX6lKED8lQK1fqUoQPyVArV+pShA/JUCtX6lKED8lQK1fqUoQPyVArV+pShA/JUCtX6lKED8lQK1fqUoQPyVArV+pShA/JUCtX6lKED8lQK1fqUoQPyVArV+pShA/JUCtX6lKED8lQK1fqUoQPyVArV+pShA/JUCtX6lKED8lQK1fqUoQPyVArV+pShA/JUCtX6lKED8lQK1fqUoQPyVArV+pShA/JUCtX6lKED8lQK1fqUoQPyVArV+pShA/JUCtX6lKED8lQK1fqUoQPyVArV+pShA/JUCtX6lKED8lQK1fqUoQPyVArV+pShA/JUCtX6lKED8lQK1fqUoQPyVArV+pShA/JUCtX6lKED8lQK1fqUoQPyVArV+pShA/JUCtX6lKED8lQK1fqUoQPyVArV+pShA/JUCtX6lKED8lQK1fqUoQPyVArV+pShA/JUCtX6lKED8lQK1fqUoQPyVArV+pShA/JUCtX6lKED8lQK1fqUoQPyVArV+pShA/JUCtX6lKED8lQK1fqUoQPyVArV+pShA/JUCtX6lKED8lQK1fqUoQPyVArV+pShA/JUCtX6lKED8lQK1fqUoQPyVArV+pShA/JUCtX6lKED8lQK1fqUoQPyVArV+pShA/JUCtX6lKED8lQK1fqUoQPyVArV+pShA/JUCtX6lKED8lQK1fqUoQPyVArV+pShA/JUCtX6lKEA=",
          "dtype": "f8"
         },
         "z": {
          "bdata": "RhAJfeU+gUCmsO3U6L6AQB6cb9eIQYBAXqUdCYuNf0CwqJa4PZ1+QDBCSr0psn1A4nE4F0/MfEDGN2HGret7QNiTxMpFEHtAGoZiJBc6ekCMDjvTIWl5QDAtTtdlnXhABeKbMOPWd0AILSTfmRV3QDwO5+KJWXZAooXkO7OidUA4kxzqFfF0QPw2j+2xRHRA8nA8Roedc0AYQST0lftyQG6nRvfdXnJA9qOjT1/HcUCsNjv9GTVxQJRfDQAOqHBAqx4aWDsgcEDm58IKRDtvQNa+xg+EQG5AKMI/vzZQbUDa8S0ZXGpsQOxNkR30jmtAX9ZpzP69akA0i7clfPdpQGhseilsO2lA/Hmy186JaEDys18wpOJnQEgagjPsRWdAAK0Z4aazZkAXbCY51CtmQJBXqDt0rmVAaG+f6IY7ZUCiswtADNNkQD0k7UEEdWRAN8FD7m4hZECTig9FTNhjQE+AUEacmWNAbKIG8l5lY0Dp8DFIlDtjQMdr0kg8HGNABhPo81YHY0Cl5nJJ5PxiQKXmcknk/GJABhPo81YHY0DHa9JIPBxjQOnwMUiUO2NAa6IG8l5lY0BPgFBGnJljQJOKD0VM2GNAN8FD7m4hZEA8JO1BBHVkQKKzC0AM02RAaG+f6IY7ZUCQV6g7dK5lQBZsJjnUK2ZA/6wZ4aazZkBIGoIz7EVnQPKzXzCk4mdA/Xmy186JaEBnbHopbDtpQDOLtyV892lAX9ZpzP69akDsTZEd9I5rQNjxLRlcamxAJ8I/vzZQbUDWvsYPhEBuQObnwgpEO29Aqh4aWDsgcECTXw0ADqhwQKw2O/0ZNXFA9qOjT1/HcUBup0b33V5yQBlBJPSV+3JA8nA8Roedc0D7No/tsUR0QDiTHOoV8XRAoYXkO7OidUA+DufiiVl2QAgtJN+ZFXdAA+KbMOPWd0AyLU7XZZ14QIwOO9MhaXlAGIZiJBc6ekDYk8TKRRB7QMQ3Ycat63tA5HE4F0/MfEAwQkq9KbJ9QK6olrg9nX5AXqUdCYuNf0AenG/XiEGAQKew7dTovoBARhAJfeU+gUA=",
          "dtype": "f8"
         }
        },
        {
         "hoverinfo": "skip",
         "line": {
          "color": "black",
          "width": 1
         },
         "mode": "lines",
         "opacity": 0.3,
         "showlegend": false,
         "type": "scatter3d",
         "x": {
          "bdata": "AAAAAAAANMBDYt7OkJgzwIbEvJ0hMTPAyiabbLLJMsANiXk7Q2IywFDrVwrU+jHAk0022WSTMcDXrxSo9SsxwBoS83aGxDDAXXTRRRddMMBArV8pUOsvwMdxHMdxHC/ATjbZZJNNLsDU+pUCtX4twFq/UqDWryzA4YMPPvjgK8BoSMzbGRIrwO4MiXk7QyrAdNFFF110KcD7lQK1fqUowIFav1Kg1ifACB988MEHJ8CO4ziO4zgmwBWo9SsFaiXAm2yyySabJMAiMW9nSMwjwKj1KwVq/SLAL7rooosuIsC1fqVArV8hwDxDYt7OkCDAhA8++OCDH8CSmLczJOYdwJ4hMW9nSBzAqqqqqqqqGsC4MyTm7QwZwMS8nSExbxfA0kUXXXTRFcDezpCYtzMUwOxXCtT6lRLA+OCDDz74EMAI1PqVArUOwCjm7QyJeQvAQPjggw8+CMBYCtT6lQIFwHAcx3EcxwHAIF100UUX/b9QgVq/UqD2v4ClQK1fKfC/YJNNNtlk478Ab2dIzNvJvwBvZ0jM28k/YJNNNtlk4z+ApUCtXynwP1CBWr9SoPY/EF100UUX/T9wHMdxHMcBQFgK1PqVAgVAQPjggw8+CEAg5u0MiXkLQAjU+pUCtQ5A+OCDDz74EEDsVwrU+pUSQNzOkJi3MxRA0EUXXXTRFUDEvJ0hMW8XQLgzJObtDBlArKqqqqqqGkCcITFvZ0gcQJCYtzMk5h1AhA8++OCDH0A8Q2LezpAgQLR+pUCtXyFALrrooosuIkCo9SsFav0iQCIxb2dIzCNAmmyyySabJEAUqPUrBWolQI7jOI7jOCZACB988MEHJ0CAWr9SoNYnQPyVArV+pShAdNFFF110KUDsDIl5O0MqQGhIzNsZEitA4IMPPvjgK0Bcv1Kg1q8sQNT6lQK1fi1ATDbZZJNNLkDIcRzHcRwvQECtXylQ6y9AXHTRRRddMEAaEvN2hsQwQNavFKj1KzFAlE022WSTMUBQ61cK1PoxQAyJeTtDYjJAyiabbLLJMkCGxLydITEzQERi3s6QmDNAAAAAAAAANEA=",
          "dtype": "f8"
         },
         "y": {
          "bdata": "XHTRRRddMEBcdNFFF10wQFx00UUXXTBAXHTRRRddMEBcdNFFF10wQFx00UUXXTBAXHTRRRddMEBcdNFFF10wQFx00UUXXTBAXHTRRRddMEBcdNFFF10wQFx00UUXXTBAXHTRRRddMEBcdNFFF10wQFx00UUXXTBAXHTRRRddMEBcdNFFF10wQFx00UUXXTBAXHTRRRddMEBcdNFFF10wQFx00UUXXTBAXHTRRRddMEBcdNFFF10wQFx00UUXXTBAXHTRRRddMEBcdNFFF10wQFx00UUXXTBAXHTRRRddMEBcdNFFF10wQFx00UUXXTBAXHTRRRddMEBcdNFFF10wQFx00UUXXTBAXHTRRRddMEBcdNFFF10wQFx00UUXXTBAXHTRRRddMEBcdNFFF10wQFx00UUXXTBAXHTRRRddMEBcdNFFF10wQFx00UUXXTBAXHTRRRddMEBcdNFFF10wQFx00UUXXTBAXHTRRRddMEBcdNFFF10wQFx00UUXXTBAXHTRRRddMEBcdNFFF10wQFx00UUXXTBAXHTRRRddMEBcdNFFF10wQFx00UUXXTBAXHTRRRddMEBcdNFFF10wQFx00UUXXTBAXHTRRRddMEBcdNFFF10wQFx00UUXXTBAXHTRRRddMEBcdNFFF10wQFx00UUXXTBAXHTRRRddMEBcdNFFF10wQFx00UUXXTBAXHTRRRddMEBcdNFFF10wQFx00UUXXTBAXHTRRRddMEBcdNFFF10wQFx00UUXXTBAXHTRRRddMEBcdNFFF10wQFx00UUXXTBAXHTRRRddMEBcdNFFF10wQFx00UUXXTBAXHTRRRddMEBcdNFFF10wQFx00UUXXTBAXHTRRRddMEBcdNFFF10wQFx00UUXXTBAXHTRRRddMEBcdNFFF10wQFx00UUXXTBAXHTRRRddMEBcdNFFF10wQFx00UUXXTBAXHTRRRddMEBcdNFFF10wQFx00UUXXTBAXHTRRRddMEBcdNFFF10wQFx00UUXXTBAXHTRRRddMEBcdNFFF10wQFx00UUXXTBAXHTRRRddMEA=",
          "dtype": "f8"
         },
         "z": {
          "bdata": "xjIoFSbehEAm0wxtKV6EQJ6+jm/J4INAL/WtHAZmg0DYdmp03+2CQJhDxHZVeIJAcFu7I2gFgkBivk97F5WBQGxsgX1jJ4FAjWVQKky8gEDGqbyB0VOAQDByjAfn239ABCfaYGQVf0AIcmIPG1R+QDxTJRMLmH1AosoibDThfEA32Foaly98QPx7zR0zg3tA8rV6dgjcekAYhmIkFzp6QG7shCdfnXlA9ejhf+AFeUCse3ktm3N4QJOkSzCP5ndAqmNYiLxed0DzuJ81I9x2QGukITjDXnZAFCbej5zmdUDsPdU8r3N1QPbrBj/7BXVALzBzloCddECZChpDPzp0QDN7+0Q33HNA/oEXnGiDc0D5Hm5I0y9zQCRS/0l34XJAfxvLoFSYckALe9FMa1RyQMdwEk67FXJAtPyNpETccUDQHkRQB6hxQB7XNFEDeXFAmyVgpzhPcUBJCsZSpypxQCeFZlNPC3FANZZBqTDxcEB0PVdUS9xwQON6p1SfzHBAgk4yqizCcEBSuPdU87xwQFK491TzvHBAgk4yqizCcEDjeqdUn8xwQHQ9V1RL3HBANZZBqTDxcEAnhWZTTwtxQEkKxlKnKnFAmyVgpzhPcUAd1zRRA3lxQNAeRFAHqHFAtPyNpETccUDHcBJOuxVyQAt70UxrVHJAfxvLoFSYckAkUv9Jd+FyQPkebkjTL3NA/oEXnGiDc0Aze/tEN9xzQJkKGkM/OnRALzBzloCddED26wY/+wV1QOw91Tyvc3VAEybej5zmdUBrpCE4w152QPO4nzUj3HZAqmNYiLxed0CSpEswj+Z3QKx7eS2bc3hA9ejhf+AFeUBt7IQnX515QBiGYiQXOnpA8rV6dgjcekD6e80dM4N7QDfYWhqXL3xAoMoibDThfEA+UyUTC5h9QAhyYg8bVH5AAifaYGQVf0AxcowH59t/QMapvIHRU4BAjGVQKky8gEBsbIF9YyeBQGK+T3sXlYFAclu7I2gFgkCYQ8R2VXiCQNZ2anTf7YJAL/WtHAZmg0Cevo5vyeCDQCfTDG0pXoRAxjIoFSbehEA=",
          "dtype": "f8"
         }
        },
        {
         "hoverinfo": "skip",
         "line": {
          "color": "black",
          "width": 1
         },
         "mode": "lines",
         "opacity": 0.3,
         "showlegend": false,
         "type": "scatter3d",
         "x": {
          "bdata": "AAAAAAAANMAAAAAAAAA0wAAAAAAAADTAAAAAAAAANMAAAAAAAAA0wAAAAAAAADTAAAAAAAAANMAAAAAAAAA0wAAAAAAAADTAAAAAAAAANMAAAAAAAAA0wAAAAAAAADTAAAAAAAAANMAAAAAAAAA0wAAAAAAAADTAAAAAAAAANMAAAAAAAAA0wAAAAAAAADTAAAAAAAAANMAAAAAAAAA0wAAAAAAAADTAAAAAAAAANMAAAAAAAAA0wAAAAAAAADTAAAAAAAAANMAAAAAAAAA0wAAAAAAAADTAAAAAAAAANMAAAAAAAAA0wAAAAAAAADTAAAAAAAAANMAAAAAAAAA0wAAAAAAAADTAAAAAAAAANMAAAAAAAAA0wAAAAAAAADTAAAAAAAAANMAAAAAAAAA0wAAAAAAAADTAAAAAAAAANMAAAAAAAAA0wAAAAAAAADTAAAAAAAAANMAAAAAAAAA0wAAAAAAAADTAAAAAAAAANMAAAAAAAAA0wAAAAAAAADTAAAAAAAAANMAAAAAAAAA0wAAAAAAAADTAAAAAAAAANMAAAAAAAAA0wAAAAAAAADTAAAAAAAAANMAAAAAAAAA0wAAAAAAAADTAAAAAAAAANMAAAAAAAAA0wAAAAAAAADTAAAAAAAAANMAAAAAAAAA0wAAAAAAAADTAAAAAAAAANMAAAAAAAAA0wAAAAAAAADTAAAAAAAAANMAAAAAAAAA0wAAAAAAAADTAAAAAAAAANMAAAAAAAAA0wAAAAAAAADTAAAAAAAAANMAAAAAAAAA0wAAAAAAAADTAAAAAAAAANMAAAAAAAAA0wAAAAAAAADTAAAAAAAAANMAAAAAAAAA0wAAAAAAAADTAAAAAAAAANMAAAAAAAAA0wAAAAAAAADTAAAAAAAAANMAAAAAAAAA0wAAAAAAAADTAAAAAAAAANMAAAAAAAAA0wAAAAAAAADTAAAAAAAAANMAAAAAAAAA0wAAAAAAAADTAAAAAAAAANMAAAAAAAAA0wAAAAAAAADTAAAAAAAAANMAAAAAAAAA0wAAAAAAAADTAAAAAAAAANMA=",
          "dtype": "f8"
         },
         "y": {
          "bdata": "AAAAAAAANMBDYt7OkJgzwIbEvJ0hMTPAyiabbLLJMsANiXk7Q2IywFDrVwrU+jHAk0022WSTMcDXrxSo9SsxwBoS83aGxDDAXXTRRRddMMBArV8pUOsvwMdxHMdxHC/ATjbZZJNNLsDU+pUCtX4twFq/UqDWryzA4YMPPvjgK8BoSMzbGRIrwO4MiXk7QyrAdNFFF110KcD7lQK1fqUowIFav1Kg1ifACB988MEHJ8CO4ziO4zgmwBWo9SsFaiXAm2yyySabJMAiMW9nSMwjwKj1KwVq/SLAL7rooosuIsC1fqVArV8hwDxDYt7OkCDAhA8++OCDH8CSmLczJOYdwJ4hMW9nSBzAqqqqqqqqGsC4MyTm7QwZwMS8nSExbxfA0kUXXXTRFcDezpCYtzMUwOxXCtT6lRLA+OCDDz74EMAI1PqVArUOwCjm7QyJeQvAQPjggw8+CMBYCtT6lQIFwHAcx3EcxwHAIF100UUX/b9QgVq/UqD2v4ClQK1fKfC/YJNNNtlk478Ab2dIzNvJvwBvZ0jM28k/YJNNNtlk4z+ApUCtXynwP1CBWr9SoPY/EF100UUX/T9wHMdxHMcBQFgK1PqVAgVAQPjggw8+CEAg5u0MiXkLQAjU+pUCtQ5A+OCDDz74EEDsVwrU+pUSQNzOkJi3MxRA0EUXXXTRFUDEvJ0hMW8XQLgzJObtDBlArKqqqqqqGkCcITFvZ0gcQJCYtzMk5h1AhA8++OCDH0A8Q2LezpAgQLR+pUCtXyFALrrooosuIkCo9SsFav0iQCIxb2dIzCNAmmyyySabJEAUqPUrBWolQI7jOI7jOCZACB988MEHJ0CAWr9SoNYnQPyVArV+pShAdNFFF110KUDsDIl5O0MqQGhIzNsZEitA4IMPPvjgK0Bcv1Kg1q8sQNT6lQK1fi1ATDbZZJNNLkDIcRzHcRwvQECtXylQ6y9AXHTRRRddMEAaEvN2hsQwQNavFKj1KzFAlE022WSTMUBQ61cK1PoxQAyJeTtDYjJAyiabbLLJMkCGxLydITEzQERi3s6QmDNAAAAAAAAANEA=",
          "dtype": "f8"
         },
         "z": {
          "bdata": "AAAAAAAAiUBgoORXA4CIQNiLZlqjAohAacKFB+CHh0ASREJfuQ+HQNIQnGEvmoZAqiiTDkInhkCciydm8baFQKY5WWg9SYVAxzIoFSbehEAAd5Rsq3WEQFIGnm7ND4RAvOBEG4ysg0A+Boly50uDQNh2anTf7YJAizLpIHSSgkBWOQV4pTmCQDiLvnlz44FAMygVJt6PgUBGEAl95T6BQHFDmn6J8IBAtMHIKsqkgEAQi5SBp1uAQISf/YIhFYBAHv4HXnCif0BnU08L1x9/QN8+0Q13on5AiMCNZVAqfkBg2IQSY7d9QGqGthSvSX1Ao8oibDThfEANpckY8318QKcVqxrrH3xAchzHcRzHe0BtuR0eh3N7QJjsrh8rJXtA87V6dgjcekB/FYEiH5h6QDsLwiNvWXpAKJc9evgfekBEufMlu+t5QJJx5Ca3vHlAD8APfeySeUC9pHUoW255QJsfFikDT3lAqTDxfuQ0eUDo1wYq/x95QFcVVypTEHlA9ujhf+AFeUDGUqcqpwB5QMZSpyqnAHlA9ujhf+AFeUBXFVcqUxB5QOjXBir/H3lAqTDxfuQ0eUCbHxYpA095QL2kdShbbnlAD8APfeySeUCRceQmt7x5QES58yW763lAKJc9evgfekA7C8Ijb1l6QH8VgSIfmHpA87V6dgjcekCY7K4fKyV7QG25HR6Hc3tAchzHcRzHe0CnFasa6x98QA2lyRjzfXxAo8oibDThfEBqhrYUr0l9QGDYhBJjt31Ah8CNZVAqfkDfPtENd6J+QGdTTwvXH39AHv4HXnCif0CDn/2CIRWAQBCLlIGnW4BAtMHIKsqkgEBwQ5p+ifCAQEYQCX3lPoFAMygVJt6PgUA3i755c+OBQFY5BXilOYJAijLpIHSSgkDZdmp03+2CQD4GiXLnS4NAu+BEG4ysg0BSBp5uzQ+EQAB3lGyrdYRAxjIoFSbehECmOVloPUmFQJyLJ2bxtoVArCiTDkInhkDSEJxhL5qGQBBEQl+5D4dAacKFB+CHh0DYi2ZaowKIQGGg5FcDgIhAAAAAAAAAiUA=",
          "dtype": "f8"
         }
        },
        {
         "hoverinfo": "skip",
         "line": {
          "color": "black",
          "width": 1
         },
         "mode": "lines",
         "opacity": 0.3,
         "showlegend": false,
         "type": "scatter3d",
         "x": {
          "bdata": "QK1fKVDrL8BArV8pUOsvwECtXylQ6y/AQK1fKVDrL8BArV8pUOsvwECtXylQ6y/AQK1fKVDrL8BArV8pUOsvwECtXylQ6y/AQK1fKVDrL8BArV8pUOsvwECtXylQ6y/AQK1fKVDrL8BArV8pUOsvwECtXylQ6y/AQK1fKVDrL8BArV8pUOsvwECtXylQ6y/AQK1fKVDrL8BArV8pUOsvwECtXylQ6y/AQK1fKVDrL8BArV8pUOsvwECtXylQ6y/AQK1fKVDrL8BArV8pUOsvwECtXylQ6y/AQK1fKVDrL8BArV8pUOsvwECtXylQ6y/AQK1fKVDrL8BArV8pUOsvwECtXylQ6y/AQK1fKVDrL8BArV8pUOsvwECtXylQ6y/AQK1fKVDrL8BArV8pUOsvwECtXylQ6y/AQK1fKVDrL8BArV8pUOsvwECtXylQ6y/AQK1fKVDrL8BArV8pUOsvwECtXylQ6y/AQK1fKVDrL8BArV8pUOsvwECtXylQ6y/AQK1fKVDrL8BArV8pUOsvwECtXylQ6y/AQK1fKVDrL8BArV8pUOsvwECtXylQ6y/AQK1fKVDrL8BArV8pUOsvwECtXylQ6y/AQK1fKVDrL8BArV8pUOsvwECtXylQ6y/AQK1fKVDrL8BArV8pUOsvwECtXylQ6y/AQK1fKVDrL8BArV8pUOsvwECtXylQ6y/AQK1fKVDrL8BArV8pUOsvwECtXylQ6y/AQK1fKVDrL8BArV8pUOsvwECtXylQ6y/AQK1fKVDrL8BArV8pUOsvwECtXylQ6y/AQK1fKVDrL8BArV8pUOsvwECtXylQ6y/AQK1fKVDrL8BArV8pUOsvwECtXylQ6y/AQK1fKVDrL8BArV8pUOsvwECtXylQ6y/AQK1fKVDrL8BArV8pUOsvwECtXylQ6y/AQK1fKVDrL8BArV8pUOsvwECtXylQ6y/AQK1fKVDrL8BArV8pUOsvwECtXylQ6y/AQK1fKVDrL8BArV8pUOsvwECtXylQ6y/AQK1fKVDrL8BArV8pUOsvwECtXylQ6y/AQK1fKVDrL8A=",
          "dtype": "f8"
         },
         "y": {
          "bdata": "AAAAAAAANMBDYt7OkJgzwIbEvJ0hMTPAyiabbLLJMsANiXk7Q2IywFDrVwrU+jHAk0022WSTMcDXrxSo9SsxwBoS83aGxDDAXXTRRRddMMBArV8pUOsvwMdxHMdxHC/ATjbZZJNNLsDU+pUCtX4twFq/UqDWryzA4YMPPvjgK8BoSMzbGRIrwO4MiXk7QyrAdNFFF110KcD7lQK1fqUowIFav1Kg1ifACB988MEHJ8CO4ziO4zgmwBWo9SsFaiXAm2yyySabJMAiMW9nSMwjwKj1KwVq/SLAL7rooosuIsC1fqVArV8hwDxDYt7OkCDAhA8++OCDH8CSmLczJOYdwJ4hMW9nSBzAqqqqqqqqGsC4MyTm7QwZwMS8nSExbxfA0kUXXXTRFcDezpCYtzMUwOxXCtT6lRLA+OCDDz74EMAI1PqVArUOwCjm7QyJeQvAQPjggw8+CMBYCtT6lQIFwHAcx3EcxwHAIF100UUX/b9QgVq/UqD2v4ClQK1fKfC/YJNNNtlk478Ab2dIzNvJvwBvZ0jM28k/YJNNNtlk4z+ApUCtXynwP1CBWr9SoPY/EF100UUX/T9wHMdxHMcBQFgK1PqVAgVAQPjggw8+CEAg5u0MiXkLQAjU+pUCtQ5A+OCDDz74EEDsVwrU+pUSQNzOkJi3MxRA0EUXXXTRFUDEvJ0hMW8XQLgzJObtDBlArKqqqqqqGkCcITFvZ0gcQJCYtzMk5h1AhA8++OCDH0A8Q2LezpAgQLR+pUCtXyFALrrooosuIkCo9SsFav0iQCIxb2dIzCNAmmyyySabJEAUqPUrBWolQI7jOI7jOCZACB988MEHJ0CAWr9SoNYnQPyVArV+pShAdNFFF110KUDsDIl5O0MqQGhIzNsZEitA4IMPPvjgK0Bcv1Kg1q8sQNT6lQK1fi1ATDbZZJNNLkDIcRzHcRwvQECtXylQ6y9AXHTRRRddMEAaEvN2hsQwQNavFKj1KzFAlE022WSTMUBQ61cK1PoxQAyJeTtDYjJAyiabbLLJMkCGxLydITEzQERi3s6QmDNAAAAAAAAANEA=",
          "dtype": "f8"
         },
         "z": {
          "bdata": "AHeUbKt1hEBgF3nErvWDQNgC+8ZOeINAaTkadIv9gkASu9bLZIWCQNKHMM7aD4JAqp8ne+2cgUCcArzSnCyBQKaw7dTovoBAx6m8gdFTgEAA3FGyrdZ/QKT6ZLbxCn9AeK+yD29EfkB8+jq+JYN9QLDb/cEVx3xAFlP7Gj8QfECrYDPJoV57QHAEpsw9snpAZj5TJRMLekCMDjvTIWl5QOJ0XdZpzHhAaXG6Lus0eEAgBFLcpaJ3QActJN+ZFXdAHuwwN8eNdkBnQXjkLQt2QN8s+ubNjXVAiK62PqcVdUBgxq3ruaJ0QGp03+0FNXRAo7hLRYvMc0ANk/LxSWlzQKcD1PNBC3NAcgrwSnOyckBtp0b33V5yQJja1/iBEHJA86OjT1/HcUB/A6r7dYNxQDv56vzFRHFAKIVmU08LcUBEpxz/EddwQJJfDQAOqHBAD644VkN+cEC9kp4BsllwQJsNPwJaOnBAqR4aWDsgcEDoxS8DVgtwQK4GAAdU929A7a0Vsm7ib0CMgaAH/NdvQIyBoAf8129A7a0Vsm7ib0CuBgAHVPdvQOjFLwNWC3BAqR4aWDsgcECbDT8CWjpwQL2SngGyWXBAD644VkN+cECRXw0ADqhwQESnHP8R13BAKIVmU08LcUA7+er8xURxQH8Dqvt1g3FA86OjT1/HcUCY2tf4gRByQG2nRvfdXnJAcgrwSnOyckCnA9TzQQtzQA2T8vFJaXNAo7hLRYvMc0BqdN/tBTV0QGDGreu5onRAh662PqcVdUDfLPrmzY11QGdBeOQtC3ZAHuwwN8eNdkAGLSTfmRV3QCAEUtylondAaXG6Lus0eEDhdF3Wacx4QIwOO9MhaXlAZj5TJRMLekBuBKbMPbJ6QKtgM8mhXntAFFP7Gj8QfECy2/3BFcd8QHz6Or4lg31Adq+yD29EfkCl+mS28Qp/QADcUbKt1n9Axqm8gdFTgECmsO3U6L6AQJwCvNKcLIFArJ8ne+2cgUDShzDO2g+CQBC71stkhYJAaTkadIv9gkDYAvvGTniDQGEXecSu9YNAAHeUbKt1hEA=",
          "dtype": "f8"
         }
        },
        {
         "hoverinfo": "skip",
         "line": {
          "color": "black",
          "width": 1
         },
         "mode": "lines",
         "opacity": 0.3,
         "showlegend": false,
         "type": "scatter3d",
         "x": {
          "bdata": "gVq/UqDWJ8CBWr9SoNYnwIFav1Kg1ifAgVq/UqDWJ8CBWr9SoNYnwIFav1Kg1ifAgVq/UqDWJ8CBWr9SoNYnwIFav1Kg1ifAgVq/UqDWJ8CBWr9SoNYnwIFav1Kg1ifAgVq/UqDWJ8CBWr9SoNYnwIFav1Kg1ifAgVq/UqDWJ8CBWr9SoNYnwIFav1Kg1ifAgVq/UqDWJ8CBWr9SoNYnwIFav1Kg1ifAgVq/UqDWJ8CBWr9SoNYnwIFav1Kg1ifAgVq/UqDWJ8CBWr9SoNYnwIFav1Kg1ifAgVq/UqDWJ8CBWr9SoNYnwIFav1Kg1ifAgVq/UqDWJ8CBWr9SoNYnwIFav1Kg1ifAgVq/UqDWJ8CBWr9SoNYnwIFav1Kg1ifAgVq/UqDWJ8CBWr9SoNYnwIFav1Kg1ifAgVq/UqDWJ8CBWr9SoNYnwIFav1Kg1ifAgVq/UqDWJ8CBWr9SoNYnwIFav1Kg1ifAgVq/UqDWJ8CBWr9SoNYnwIFav1Kg1ifAgVq/UqDWJ8CBWr9SoNYnwIFav1Kg1ifAgVq/UqDWJ8CBWr9SoNYnwIFav1Kg1ifAgVq/UqDWJ8CBWr9SoNYnwIFav1Kg1ifAgVq/UqDWJ8CBWr9SoNYnwIFav1Kg1ifAgVq/UqDWJ8CBWr9SoNYnwIFav1Kg1ifAgVq/UqDWJ8CBWr9SoNYnwIFav1Kg1ifAgVq/UqDWJ8CBWr9SoNYnwIFav1Kg1ifAgVq/UqDWJ8CBWr9SoNYnwIFav1Kg1ifAgVq/UqDWJ8CBWr9SoNYnwIFav1Kg1ifAgVq/UqDWJ8CBWr9SoNYnwIFav1Kg1ifAgVq/UqDWJ8CBWr9SoNYnwIFav1Kg1ifAgVq/UqDWJ8CBWr9SoNYnwIFav1Kg1ifAgVq/UqDWJ8CBWr9SoNYnwIFav1Kg1ifAgVq/UqDWJ8CBWr9SoNYnwIFav1Kg1ifAgVq/UqDWJ8CBWr9SoNYnwIFav1Kg1ifAgVq/UqDWJ8CBWr9SoNYnwIFav1Kg1ifAgVq/UqDWJ8CBWr9SoNYnwIFav1Kg1ifAgVq/UqDWJ8A=",
          "dtype": "f8"
         },
         "y": {
          "bdata": "AAAAAAAANMBDYt7OkJgzwIbEvJ0hMTPAyiabbLLJMsANiXk7Q2IywFDrVwrU+jHAk0022WSTMcDXrxSo9SsxwBoS83aGxDDAXXTRRRddMMBArV8pUOsvwMdxHMdxHC/ATjbZZJNNLsDU+pUCtX4twFq/UqDWryzA4YMPPvjgK8BoSMzbGRIrwO4MiXk7QyrAdNFFF110KcD7lQK1fqUowIFav1Kg1ifACB988MEHJ8CO4ziO4zgmwBWo9SsFaiXAm2yyySabJMAiMW9nSMwjwKj1KwVq/SLAL7rooosuIsC1fqVArV8hwDxDYt7OkCDAhA8++OCDH8CSmLczJOYdwJ4hMW9nSBzAqqqqqqqqGsC4MyTm7QwZwMS8nSExbxfA0kUXXXTRFcDezpCYtzMUwOxXCtT6lRLA+OCDDz74EMAI1PqVArUOwCjm7QyJeQvAQPjggw8+CMBYCtT6lQIFwHAcx3EcxwHAIF100UUX/b9QgVq/UqD2v4ClQK1fKfC/YJNNNtlk478Ab2dIzNvJvwBvZ0jM28k/YJNNNtlk4z+ApUCtXynwP1CBWr9SoPY/EF100UUX/T9wHMdxHMcBQFgK1PqVAgVAQPjggw8+CEAg5u0MiXkLQAjU+pUCtQ5A+OCDDz74EEDsVwrU+pUSQNzOkJi3MxRA0EUXXXTRFUDEvJ0hMW8XQLgzJObtDBlArKqqqqqqGkCcITFvZ0gcQJCYtzMk5h1AhA8++OCDH0A8Q2LezpAgQLR+pUCtXyFALrrooosuIkCo9SsFav0iQCIxb2dIzCNAmmyyySabJEAUqPUrBWolQI7jOI7jOCZACB988MEHJ0CAWr9SoNYnQPyVArV+pShAdNFFF110KUDsDIl5O0MqQGhIzNsZEitA4IMPPvjgK0Bcv1Kg1q8sQNT6lQK1fi1ATDbZZJNNLkDIcRzHcRwvQECtXylQ6y9AXHTRRRddMEAaEvN2hsQwQNavFKj1KzFAlE022WSTMUBQ61cK1PoxQAyJeTtDYjJAyiabbLLJMkCGxLydITEzQERi3s6QmDNAAAAAAAAANEA=",
          "dtype": "f8"
         },
         "z": {
          "bdata": "cUOafonwgEDR437WjHCAQJKeAbJZ5n9AtAtADNPwfkAED7m7hQB+QIaobMBxFX1ANthaGpcvfEAanoPJ9U57QCz65s2Nc3pAcOyEJ1+deUDidF3Wacx4QIaTcNqtAHhAWki+Mys6d0Bek0bi4Xh2QJJ0CebRvHVA9+sGP/sFdUCM+T7tXVR0QFKdsfD5p3NAR9deSc8Ac0Btp0b33V5yQMMNafolwnFASgrGUqcqcUABnV0AYphwQOnFLwNWC3BAAAp5tgYHb0CQtAcR1AFuQICLCxYUB21A0o6ExcYWbECEvnIf7DBrQJYa1iOEVWpACaOu0o6EaUDeV/wrDL5oQBI5vy/8AWhApkb33V5QZ0CcgKQ2NKlmQPLmxjl8DGZAqnle5zZ6ZUDBOGs/ZPJkQDok7UEEdWRAEjzk7hYCZEBMgFBGnJljQOfwMUiUO2NA4Y2I9P7nYkA9V1RL3J5iQPlMlUwsYGJAFm9L+O4rYkCTvXZOJAJiQHE4F0/M4mFAsN8s+ubNYUBPs7dPdMNhQE+zt090w2FAsN8s+ubNYUBxOBdPzOJhQJO9dk4kAmJAFW9L+O4rYkD5TJVMLGBiQD1XVEvcnmJA4Y2I9P7nYkDm8DFIlDtjQEyAUEacmWNAEjzk7hYCZEA6JO1BBHVkQMA4az9k8mRAqXle5zZ6ZUDy5sY5fAxmQJyApDY0qWZAp0b33V5QZ0AROb8v/AFoQN1X/CsMvmhACaOu0o6EaUCWGtYjhFVqQIK+ch/sMGtA0Y6ExcYWbECAiwsWFAdtQJC0BxHUAW5A/gl5tgYHb0DoxS8DVgtwQAGdXQBimHBASgrGUqcqcUDCDWn6JcJxQG6nRvfdXnJAR9deSc8Ac0BQnbHw+adzQIz5Pu1dVHRA9usGP/sFdUCUdAnm0bx1QF6TRuLheHZAWEi+Mys6d0CGk3DarQB4QOJ0XdZpzHhAbuyEJ1+deUAs+ubNjXN6QBieg8n1TntAOthaGpcvfECGqGzAcRV9QAIPubuFAH5AtAtADNPwfkCSngGyWeZ/QNLjftaMcIBAcUOafonwgEA=",
          "dtype": "f8"
         }
        },
        {
         "hoverinfo": "skip",
         "line": {
          "color": "black",
          "width": 1
         },
         "mode": "lines",
         "opacity": 0.3,
         "showlegend": false,
         "type": "scatter3d",
         "x": {
          "bdata": "hA8++OCDH8CEDz744IMfwIQPPvjggx/AhA8++OCDH8CEDz744IMfwIQPPvjggx/AhA8++OCDH8CEDz744IMfwIQPPvjggx/AhA8++OCDH8CEDz744IMfwIQPPvjggx/AhA8++OCDH8CEDz744IMfwIQPPvjggx/AhA8++OCDH8CEDz744IMfwIQPPvjggx/AhA8++OCDH8CEDz744IMfwIQPPvjggx/AhA8++OCDH8CEDz744IMfwIQPPvjggx/AhA8++OCDH8CEDz744IMfwIQPPvjggx/AhA8++OCDH8CEDz744IMfwIQPPvjggx/AhA8++OCDH8CEDz744IMfwIQPPvjggx/AhA8++OCDH8CEDz744IMfwIQPPvjggx/AhA8++OCDH8CEDz744IMfwIQPPvjggx/AhA8++OCDH8CEDz744IMfwIQPPvjggx/AhA8++OCDH8CEDz744IMfwIQPPvjggx/AhA8++OCDH8CEDz744IMfwIQPPvjggx/AhA8++OCDH8CEDz744IMfwIQPPvjggx/AhA8++OCDH8CEDz744IMfwIQPPvjggx/AhA8++OCDH8CEDz744IMfwIQPPvjggx/AhA8++OCDH8CEDz744IMfwIQPPvjggx/AhA8++OCDH8CEDz744IMfwIQPPvjggx/AhA8++OCDH8CEDz744IMfwIQPPvjggx/AhA8++OCDH8CEDz744IMfwIQPPvjggx/AhA8++OCDH8CEDz744IMfwIQPPvjggx/AhA8++OCDH8CEDz744IMfwIQPPvjggx/AhA8++OCDH8CEDz744IMfwIQPPvjggx/AhA8++OCDH8CEDz744IMfwIQPPvjggx/AhA8++OCDH8CEDz744IMfwIQPPvjggx/AhA8++OCDH8CEDz744IMfwIQPPvjggx/AhA8++OCDH8CEDz744IMfwIQPPvjggx/AhA8++OCDH8CEDz744IMfwIQPPvjggx/AhA8++OCDH8CEDz744IMfwIQPPvjggx/AhA8++OCDH8CEDz744IMfwIQPPvjggx/AhA8++OCDH8A=",
          "dtype": "f8"
         },
         "y": {
          "bdata": "AAAAAAAANMBDYt7OkJgzwIbEvJ0hMTPAyiabbLLJMsANiXk7Q2IywFDrVwrU+jHAk0022WSTMcDXrxSo9SsxwBoS83aGxDDAXXTRRRddMMBArV8pUOsvwMdxHMdxHC/ATjbZZJNNLsDU+pUCtX4twFq/UqDWryzA4YMPPvjgK8BoSMzbGRIrwO4MiXk7QyrAdNFFF110KcD7lQK1fqUowIFav1Kg1ifACB988MEHJ8CO4ziO4zgmwBWo9SsFaiXAm2yyySabJMAiMW9nSMwjwKj1KwVq/SLAL7rooosuIsC1fqVArV8hwDxDYt7OkCDAhA8++OCDH8CSmLczJOYdwJ4hMW9nSBzAqqqqqqqqGsC4MyTm7QwZwMS8nSExbxfA0kUXXXTRFcDezpCYtzMUwOxXCtT6lRLA+OCDDz74EMAI1PqVArUOwCjm7QyJeQvAQPjggw8+CMBYCtT6lQIFwHAcx3EcxwHAIF100UUX/b9QgVq/UqD2v4ClQK1fKfC/YJNNNtlk478Ab2dIzNvJvwBvZ0jM28k/YJNNNtlk4z+ApUCtXynwP1CBWr9SoPY/EF100UUX/T9wHMdxHMcBQFgK1PqVAgVAQPjggw8+CEAg5u0MiXkLQAjU+pUCtQ5A+OCDDz74EEDsVwrU+pUSQNzOkJi3MxRA0EUXXXTRFUDEvJ0hMW8XQLgzJObtDBlArKqqqqqqGkCcITFvZ0gcQJCYtzMk5h1AhA8++OCDH0A8Q2LezpAgQLR+pUCtXyFALrrooosuIkCo9SsFav0iQCIxb2dIzCNAmmyyySabJEAUqPUrBWolQI7jOI7jOCZACB988MEHJ0CAWr9SoNYnQPyVArV+pShAdNFFF110KUDsDIl5O0MqQGhIzNsZEitA4IMPPvjgK0Bcv1Kg1q8sQNT6lQK1fi1ATDbZZJNNLkDIcRzHcRwvQECtXylQ6y9AXHTRRRddMEAaEvN2hsQwQNavFKj1KzFAlE022WSTMUBQ61cK1PoxQAyJeTtDYjJAyiabbLLJMkCGxLydITEzQERi3s6QmDNAAAAAAAAANEA=",
          "dtype": "f8"
         },
         "z": {
          "bdata": "o8oibDThfEBjC+wbO+F7QFPi7yB75npAdU8ue/TweUDGUqcqpwB5QEfsWi+TFXhA+BtJibgvd0Dc4XE4F092QO491Tyvc3VAMTBzloCddECjuEtFi8xzQEfXXknPAHNAHIysokw6ckAf1zRRA3lxQFO491TzvHBAuS/1rRwGcECcelq4/qhuQCbCP782UG1AETaacOEBbEBd1mnM/r1qQAmjrtKOhGlAGJxog5FVaECFwZfeBjFnQFUTPOTuFmZAg5FVlEkHZUAUPOTuFgJkQAQT6PNWB2NAVhZhowkXYkAHRk/9LjFhQBqisgHHVWBAGVUWYaMJX0DCvrETnnxdQCqBNxt+BFxAU5ynd0OhWkBAEAIp7lJZQOzcRi9+GVhAWgJ2ivP0VkCJgI86TuVVQHpXkz+O6lRAK4eBmbMEVECeD1pIvjNTQNTwHEyud1JAySrKpIPQUUCAvWFSPj5RQPio41TewFBAMu1PrGNYUEAtiqZYzgRQQNH/zrM8jE9AzJwlYKc4T0BJ61C23A5PQEnrULbcDk9AzJwlYKc4T0DR/86zPIxPQC2KpljOBFBAMe1PrGNYUED4qONU3sBQQIC9YVI+PlFAySrKpIPQUUDS8BxMrndSQJ4PWki+M1NAK4eBmbMEVEB6V5M/jupUQIiAjzpO5VVAWQJ2ivP0VkDs3EYvfhlYQEAQAinuUllAVJynd0OhWkAogTcbfgRcQMC+sROefF1AGVUWYaMJX0AaorIBx1VgQAZGT/0uMWFAVBZhowkXYkAEE+jzVgdjQBQ85O4WAmRAgpFVlEkHZUBTEzzk7hZmQIXBl94GMWdAGJxog5FVaEAIo67SjoRpQF/Wacz+vWpAETaacOEBbEAjwj+/NlBtQJx6Wrj+qG5AuC/1rRwGcEBVuPdU87xwQB/XNFEDeXFAGoysokw6ckBI115JzwBzQKO4S0WLzHNALzBzloCddEDuPdU8r3N1QNrhcTgXT3ZA+xtJibgvd0BH7FovkxV4QMRSpyqnAHlAdU8ue/TweUBT4u8ge+Z6QGUL7Bs74XtAo8oibDThfEA=",
          "dtype": "f8"
         }
        },
        {
         "hoverinfo": "skip",
         "line": {
          "color": "black",
          "width": 1
         },
         "mode": "lines",
         "opacity": 0.3,
         "showlegend": false,
         "type": "scatter3d",
         "x": {
          "bdata": "CNT6lQK1DsAI1PqVArUOwAjU+pUCtQ7ACNT6lQK1DsAI1PqVArUOwAjU+pUCtQ7ACNT6lQK1DsAI1PqVArUOwAjU+pUCtQ7ACNT6lQK1DsAI1PqVArUOwAjU+pUCtQ7ACNT6lQK1DsAI1PqVArUOwAjU+pUCtQ7ACNT6lQK1DsAI1PqVArUOwAjU+pUCtQ7ACNT6lQK1DsAI1PqVArUOwAjU+pUCtQ7ACNT6lQK1DsAI1PqVArUOwAjU+pUCtQ7ACNT6lQK1DsAI1PqVArUOwAjU+pUCtQ7ACNT6lQK1DsAI1PqVArUOwAjU+pUCtQ7ACNT6lQK1DsAI1PqVArUOwAjU+pUCtQ7ACNT6lQK1DsAI1PqVArUOwAjU+pUCtQ7ACNT6lQK1DsAI1PqVArUOwAjU+pUCtQ7ACNT6lQK1DsAI1PqVArUOwAjU+pUCtQ7ACNT6lQK1DsAI1PqVArUOwAjU+pUCtQ7ACNT6lQK1DsAI1PqVArUOwAjU+pUCtQ7ACNT6lQK1DsAI1PqVArUOwAjU+pUCtQ7ACNT6lQK1DsAI1PqVArUOwAjU+pUCtQ7ACNT6lQK1DsAI1PqVArUOwAjU+pUCtQ7ACNT6lQK1DsAI1PqVArUOwAjU+pUCtQ7ACNT6lQK1DsAI1PqVArUOwAjU+pUCtQ7ACNT6lQK1DsAI1PqVArUOwAjU+pUCtQ7ACNT6lQK1DsAI1PqVArUOwAjU+pUCtQ7ACNT6lQK1DsAI1PqVArUOwAjU+pUCtQ7ACNT6lQK1DsAI1PqVArUOwAjU+pUCtQ7ACNT6lQK1DsAI1PqVArUOwAjU+pUCtQ7ACNT6lQK1DsAI1PqVArUOwAjU+pUCtQ7ACNT6lQK1DsAI1PqVArUOwAjU+pUCtQ7ACNT6lQK1DsAI1PqVArUOwAjU+pUCtQ7ACNT6lQK1DsAI1PqVArUOwAjU+pUCtQ7ACNT6lQK1DsAI1PqVArUOwAjU+pUCtQ7ACNT6lQK1DsAI1PqVArUOwAjU+pUCtQ7ACNT6lQK1DsAI1PqVArUOwAjU+pUCtQ7ACNT6lQK1DsA=",
          "dtype": "f8"
         },
         "y": {
          "bdata": "AAAAAAAANMBDYt7OkJgzwIbEvJ0hMTPAyiabbLLJMsANiXk7Q2IywFDrVwrU+jHAk0022WSTMcDXrxSo9SsxwBoS83aGxDDAXXTRRRddMMBArV8pUOsvwMdxHMdxHC/ATjbZZJNNLsDU+pUCtX4twFq/UqDWryzA4YMPPvjgK8BoSMzbGRIrwO4MiXk7QyrAdNFFF110KcD7lQK1fqUowIFav1Kg1ifACB988MEHJ8CO4ziO4zgmwBWo9SsFaiXAm2yyySabJMAiMW9nSMwjwKj1KwVq/SLAL7rooosuIsC1fqVArV8hwDxDYt7OkCDAhA8++OCDH8CSmLczJOYdwJ4hMW9nSBzAqqqqqqqqGsC4MyTm7QwZwMS8nSExbxfA0kUXXXTRFcDezpCYtzMUwOxXCtT6lRLA+OCDDz74EMAI1PqVArUOwCjm7QyJeQvAQPjggw8+CMBYCtT6lQIFwHAcx3EcxwHAIF100UUX/b9QgVq/UqD2v4ClQK1fKfC/YJNNNtlk478Ab2dIzNvJvwBvZ0jM28k/YJNNNtlk4z+ApUCtXynwP1CBWr9SoPY/EF100UUX/T9wHMdxHMcBQFgK1PqVAgVAQPjggw8+CEAg5u0MiXkLQAjU+pUCtQ5A+OCDDz74EEDsVwrU+pUSQNzOkJi3MxRA0EUXXXTRFUDEvJ0hMW8XQLgzJObtDBlArKqqqqqqGkCcITFvZ0gcQJCYtzMk5h1AhA8++OCDH0A8Q2LezpAgQLR+pUCtXyFALrrooosuIkCo9SsFav0iQCIxb2dIzCNAmmyyySabJEAUqPUrBWolQI7jOI7jOCZACB988MEHJ0CAWr9SoNYnQPyVArV+pShAdNFFF110KUDsDIl5O0MqQGhIzNsZEitA4IMPPvjgK0Bcv1Kg1q8sQNT6lQK1fi1ATDbZZJNNLkDIcRzHcRwvQECtXylQ6y9AXHTRRRddMEAaEvN2hsQwQNavFKj1KzFAlE022WSTMUBQ61cK1PoxQAyJeTtDYjJAyiabbLLJMkCGxLydITEzQERi3s6QmDNAAAAAAAAANEA=",
          "dtype": "f8"
         },
         "z": {
          "bdata": "RLnzJbvreUAE+rzVwet4QPTQwNoB8XdAFj7/NHv7dkBnQXjkLQt2QOjaK+kZIHVAmQoaQz86dEB90ELynVlzQI8spvY1fnJA0h5EUAeocUBEpxz/EddwQOjFLwNWC3BAevX6uKaJbkCBiwsWFAdtQOlNkR30jmtAtDyMz0YhakDfV/wrDL5oQGmf4TJEZWdAVBM85O4WZkCgswtADNNkQEyAUEacmWNAW3kK955qYkDInjlSFEZhQJfw3Vf8K2BAjN3uD644XkCsMgzFSC5cQIzgE8/IOFpAMOcFLi5YWECSRuLheIxWQLj+qOqo1VRAng9aSL4zU0BGefX6uKZRQK47ewKZLlBAsK3WvbyWTUCJlYsgEvpKQOEuFS0yh0hAvnlz4xw+RkAcdqZD0h5EQP4jrk1SKUJAYIOKAZ1dQECMKHe+ZHc9QGOtgs0khzpAOJU3MHrqN0AT4JXmZKE1QPONnfDkqzNA3J5OTvoJMkDGEqn/pLswQGzTWQnKgS9AV0e0unQzLkBNgWETSowtQE2BYRNKjC1AV0e0unQzLkBs01kJyoEvQMYSqf+kuzBA2J5OTvoJMkDzjZ3w5KszQBPgleZkoTVAOJU3MHrqN0BcrYLNJIc6QIwod75kdz1AYIOKAZ1dQED+I65NUilCQBl2pkPSHkRAvHlz4xw+RkDhLhUtModIQImViyAS+kpAs63WvbyWTUCtO3sCmS5QQEV59fq4plFAng9aSL4zU0C4/qjqqNVUQJBG4uF4jFZALucFLi5YWECM4BPPyDhaQKwyDMVILlxAiN3uD644XkCW8N1X/CtgQMieOVIURmFAW3kK955qYkBLgFBGnJljQKKzC0AM02RAVBM85O4WZkBmn+EyRGVnQN9X/CsMvmhAsjyMz0YhakDtTZEd9I5rQIGLCxYUB21AdvX6uKaJbkDpxS8DVgtwQESnHP8R13BA0B5EUAeocUCPLKb2NX5yQHvQQvKdWXNAnAoaQz86dEDo2ivpGSB1QGVBeOQtC3ZAFj7/NHv7dkD00MDaAfF3QAb6vNXB63hARLnzJbvreUA=",
          "dtype": "f8"
         }
        },
        {
         "hoverinfo": "skip",
         "line": {
          "color": "black",
          "width": 1
         },
         "mode": "lines",
         "opacity": 0.3,
         "showlegend": false,
         "type": "scatter3d",
         "x": {
          "bdata": "AG9nSMzbyT8Ab2dIzNvJPwBvZ0jM28k/AG9nSMzbyT8Ab2dIzNvJPwBvZ0jM28k/AG9nSMzbyT8Ab2dIzNvJPwBvZ0jM28k/AG9nSMzbyT8Ab2dIzNvJPwBvZ0jM28k/AG9nSMzbyT8Ab2dIzNvJPwBvZ0jM28k/AG9nSMzbyT8Ab2dIzNvJPwBvZ0jM28k/AG9nSMzbyT8Ab2dIzNvJPwBvZ0jM28k/AG9nSMzbyT8Ab2dIzNvJPwBvZ0jM28k/AG9nSMzbyT8Ab2dIzNvJPwBvZ0jM28k/AG9nSMzbyT8Ab2dIzNvJPwBvZ0jM28k/AG9nSMzbyT8Ab2dIzNvJPwBvZ0jM28k/AG9nSMzbyT8Ab2dIzNvJPwBvZ0jM28k/AG9nSMzbyT8Ab2dIzNvJPwBvZ0jM28k/AG9nSMzbyT8Ab2dIzNvJPwBvZ0jM28k/AG9nSMzbyT8Ab2dIzNvJPwBvZ0jM28k/AG9nSMzbyT8Ab2dIzNvJPwBvZ0jM28k/AG9nSMzbyT8Ab2dIzNvJPwBvZ0jM28k/AG9nSMzbyT8Ab2dIzNvJPwBvZ0jM28k/AG9nSMzbyT8Ab2dIzNvJPwBvZ0jM28k/AG9nSMzbyT8Ab2dIzNvJPwBvZ0jM28k/AG9nSMzbyT8Ab2dIzNvJPwBvZ0jM28k/AG9nSMzbyT8Ab2dIzNvJPwBvZ0jM28k/AG9nSMzbyT8Ab2dIzNvJPwBvZ0jM28k/AG9nSMzbyT8Ab2dIzNvJPwBvZ0jM28k/AG9nSMzbyT8Ab2dIzNvJPwBvZ0jM28k/AG9nSMzbyT8Ab2dIzNvJPwBvZ0jM28k/AG9nSMzbyT8Ab2dIzNvJPwBvZ0jM28k/AG9nSMzbyT8Ab2dIzNvJPwBvZ0jM28k/AG9nSMzbyT8Ab2dIzNvJPwBvZ0jM28k/AG9nSMzbyT8Ab2dIzNvJPwBvZ0jM28k/AG9nSMzbyT8Ab2dIzNvJPwBvZ0jM28k/AG9nSMzbyT8Ab2dIzNvJPwBvZ0jM28k/AG9nSMzbyT8Ab2dIzNvJPwBvZ0jM28k/AG9nSMzbyT8=",
          "dtype": "f8"
         },
         "y": {
          "bdata": "AAAAAAAANMBDYt7OkJgzwIbEvJ0hMTPAyiabbLLJMsANiXk7Q2IywFDrVwrU+jHAk0022WSTMcDXrxSo9SsxwBoS83aGxDDAXXTRRRddMMBArV8pUOsvwMdxHMdxHC/ATjbZZJNNLsDU+pUCtX4twFq/UqDWryzA4YMPPvjgK8BoSMzbGRIrwO4MiXk7QyrAdNFFF110KcD7lQK1fqUowIFav1Kg1ifACB988MEHJ8CO4ziO4zgmwBWo9SsFaiXAm2yyySabJMAiMW9nSMwjwKj1KwVq/SLAL7rooosuIsC1fqVArV8hwDxDYt7OkCDAhA8++OCDH8CSmLczJOYdwJ4hMW9nSBzAqqqqqqqqGsC4MyTm7QwZwMS8nSExbxfA0kUXXXTRFcDezpCYtzMUwOxXCtT6lRLA+OCDDz74EMAI1PqVArUOwCjm7QyJeQvAQPjggw8+CMBYCtT6lQIFwHAcx3EcxwHAIF100UUX/b9QgVq/UqD2v4ClQK1fKfC/YJNNNtlk478Ab2dIzNvJvwBvZ0jM28k/YJNNNtlk4z+ApUCtXynwP1CBWr9SoPY/EF100UUX/T9wHMdxHMcBQFgK1PqVAgVAQPjggw8+CEAg5u0MiXkLQAjU+pUCtQ5A+OCDDz74EEDsVwrU+pUSQNzOkJi3MxRA0EUXXXTRFUDEvJ0hMW8XQLgzJObtDBlArKqqqqqqGkCcITFvZ0gcQJCYtzMk5h1AhA8++OCDH0A8Q2LezpAgQLR+pUCtXyFALrrooosuIkCo9SsFav0iQCIxb2dIzCNAmmyyySabJEAUqPUrBWolQI7jOI7jOCZACB988MEHJ0CAWr9SoNYnQPyVArV+pShAdNFFF110KUDsDIl5O0MqQGhIzNsZEitA4IMPPvjgK0Bcv1Kg1q8sQNT6lQK1fi1ATDbZZJNNLkDIcRzHcRwvQECtXylQ6y9AXHTRRRddMEAaEvN2hsQwQNavFKj1KzFAlE022WSTMUBQ61cK1PoxQAyJeTtDYjJAyiabbLLJMkCGxLydITEzQERi3s6QmDNAAAAAAAAANEA=",
          "dtype": "f8"
         },
         "z": {
          "bdata": "xlKnKqcAeUCGk3DarQB4QHZqdN/tBXdAmNeyOWcQdkDp2ivpGSB1QGp03+0FNXRAG6TNRytPc0D/afb2iW5yQBHGWfshk3FAVLj3VPO8cECMgaAH/NdvQNS+xg+EQG5AfShiwn6zbECEvnIf7DBrQOyA+CbMuGlAt2/z2B5LaEDiimM15OdmQGzSSDwcj2VAV0aj7cZAZECj5nJJ5PxiQE+zt090w2FAXqxxAHeUYECWo0G32N9eQDVHisKoq1xAkkO9Il6MWkCzmNrX+IFYQJNG4uF4jFZAN03UQN6rVECZrLD0KOBSQL9kd/1YKVFASetQttwOT0Cavocb0vRLQGpDkyqSBElAvXlz4xw+RkCWYShGcqFDQO76sVKSLkFAlosgEvrKPUBRhIbSZIw5QBbgleZkoTVA255OTvoJMkBNgWETSowtQPuKeDHKqydApVri9nRyIkC14D3HlMAbQDWYXO+U6hNAtbdBzNTFCkAHVxVXKlMAQAwdaP5U+vA/hvHuJKoe2j/6wFjqVOW0P/rAWOpU5bQ/hvHuJKoe2j8MHWj+VPrwPwdXFVcqUwBAmLdBzNTFCkA1mFzvlOoTQLXgPceUwBtApVri9nRyIkDuingxyqsnQE2BYRNKjC1A255OTvoJMkAW4JXmZKE1QEyEhtJkjDlAkYsgEvrKPUDu+rFSki5BQJZhKEZyoUNAwHlz4xw+RkBnQ5MqkgRJQJe+hxvS9EtASetQttwOT0C/ZHf9WClRQJessPQo4FJANE3UQN6rVECTRuLheIxWQLOY2tf4gVhAj0O9Il6MWkAyR4rCqKtcQJajQbfY315AXqxxAHeUYEBOs7dPdMNhQKXmcknk/GJAV0aj7cZAZEBp0kg8HI9lQOKKYzXk52ZAtW/z2B5LaEDwgPgmzLhpQIS+ch/sMGtAeShiwn6zbEDWvsYPhEBuQIyBoAf8129AUrj3VPO8cEARxln7IZNxQP1p9vaJbnJAHqTNRytPc0BqdN/tBTV0QOfaK+kZIHVAmNeyOWcQdkB2anTf7QV3QIiTcNqtAHhAxlKnKqcAeUA=",
          "dtype": "f8"
         }
        },
        {
         "hoverinfo": "skip",
         "line": {
          "color": "black",
          "width": 1
         },
         "mode": "lines",
         "opacity": 0.3,
         "showlegend": false,
         "type": "scatter3d",
         "x": {
          "bdata": "+OCDDz74EED44IMPPvgQQPjggw8++BBA+OCDDz74EED44IMPPvgQQPjggw8++BBA+OCDDz74EED44IMPPvgQQPjggw8++BBA+OCDDz74EED44IMPPvgQQPjggw8++BBA+OCDDz74EED44IMPPvgQQPjggw8++BBA+OCDDz74EED44IMPPvgQQPjggw8++BBA+OCDDz74EED44IMPPvgQQPjggw8++BBA+OCDDz74EED44IMPPvgQQPjggw8++BBA+OCDDz74EED44IMPPvgQQPjggw8++BBA+OCDDz74EED44IMPPvgQQPjggw8++BBA+OCDDz74EED44IMPPvgQQPjggw8++BBA+OCDDz74EED44IMPPvgQQPjggw8++BBA+OCDDz74EED44IMPPvgQQPjggw8++BBA+OCDDz74EED44IMPPvgQQPjggw8++BBA+OCDDz74EED44IMPPvgQQPjggw8++BBA+OCDDz74EED44IMPPvgQQPjggw8++BBA+OCDDz74EED44IMPPvgQQPjggw8++BBA+OCDDz74EED44IMPPvgQQPjggw8++BBA+OCDDz74EED44IMPPvgQQPjggw8++BBA+OCDDz74EED44IMPPvgQQPjggw8++BBA+OCDDz74EED44IMPPvgQQPjggw8++BBA+OCDDz74EED44IMPPvgQQPjggw8++BBA+OCDDz74EED44IMPPvgQQPjggw8++BBA+OCDDz74EED44IMPPvgQQPjggw8++BBA+OCDDz74EED44IMPPvgQQPjggw8++BBA+OCDDz74EED44IMPPvgQQPjggw8++BBA+OCDDz74EED44IMPPvgQQPjggw8++BBA+OCDDz74EED44IMPPvgQQPjggw8++BBA+OCDDz74EED44IMPPvgQQPjggw8++BBA+OCDDz74EED44IMPPvgQQPjggw8++BBA+OCDDz74EED44IMPPvgQQPjggw8++BBA+OCDDz74EED44IMPPvgQQPjggw8++BBA+OCDDz74EED44IMPPvgQQPjggw8++BBA+OCDDz74EEA=",
          "dtype": "f8"
         },
         "y": {
          "bdata": "AAAAAAAANMBDYt7OkJgzwIbEvJ0hMTPAyiabbLLJMsANiXk7Q2IywFDrVwrU+jHAk0022WSTMcDXrxSo9SsxwBoS83aGxDDAXXTRRRddMMBArV8pUOsvwMdxHMdxHC/ATjbZZJNNLsDU+pUCtX4twFq/UqDWryzA4YMPPvjgK8BoSMzbGRIrwO4MiXk7QyrAdNFFF110KcD7lQK1fqUowIFav1Kg1ifACB988MEHJ8CO4ziO4zgmwBWo9SsFaiXAm2yyySabJMAiMW9nSMwjwKj1KwVq/SLAL7rooosuIsC1fqVArV8hwDxDYt7OkCDAhA8++OCDH8CSmLczJOYdwJ4hMW9nSBzAqqqqqqqqGsC4MyTm7QwZwMS8nSExbxfA0kUXXXTRFcDezpCYtzMUwOxXCtT6lRLA+OCDDz74EMAI1PqVArUOwCjm7QyJeQvAQPjggw8+CMBYCtT6lQIFwHAcx3EcxwHAIF100UUX/b9QgVq/UqD2v4ClQK1fKfC/YJNNNtlk478Ab2dIzNvJvwBvZ0jM28k/YJNNNtlk4z+ApUCtXynwP1CBWr9SoPY/EF100UUX/T9wHMdxHMcBQFgK1PqVAgVAQPjggw8+CEAg5u0MiXkLQAjU+pUCtQ5A+OCDDz74EEDsVwrU+pUSQNzOkJi3MxRA0EUXXXTRFUDEvJ0hMW8XQLgzJObtDBlArKqqqqqqGkCcITFvZ0gcQJCYtzMk5h1AhA8++OCDH0A8Q2LezpAgQLR+pUCtXyFALrrooosuIkCo9SsFav0iQCIxb2dIzCNAmmyyySabJEAUqPUrBWolQI7jOI7jOCZACB988MEHJ0CAWr9SoNYnQPyVArV+pShAdNFFF110KUDsDIl5O0MqQGhIzNsZEitA4IMPPvjgK0Bcv1Kg1q8sQNT6lQK1fi1ATDbZZJNNLkDIcRzHcRwvQECtXylQ6y9AXHTRRRddMEAaEvN2hsQwQNavFKj1KzFAlE022WSTMUBQ61cK1PoxQAyJeTtDYjJAyiabbLLJMkCGxLydITEzQERi3s6QmDNAAAAAAAAANEA=",
          "dtype": "f8"
         },
         "z": {
          "bdata": "KJc9evgfekDo1wYq/x95QNiuCi8/JXhA+htJibgvd0BLH8I4az92QMy4dT1XVHVAfehjl3xudEBhroxG241zQHMK8EpzsnJAtvyNpETccUAohWZTTwtxQMyjeVeTP3BAQLGOYSHybkBHR5++jm9tQK8JJcZu92tAevgfeMGJakClE5DUhiZpQC9bddu+zWdAGs/PjGl/ZkBmb5/ohjtlQBI85O4WAmRAITWenxnTYkCOWs36jq5hQF6scQB3lGBAGVUWYaMJX0A6qjMWPv9cQBpYOyC+CVtAvl4tfyMpWUAgvgkzbl1XQEZ20DueplVAK4eBmbMEVEDU8BxMrndSQDyzolOO/1BAypwlYKc4T0CkhNrC/JtMQPwdZM8cKUpA2GjChQfgR0A2ZfXlvMBFQBgT/e88y0NAe3LZo4f/QUBgg4oBnV1AQJiLIBL6yj1AbXPVdE8uO0BIvjMrOuU4QChsOzW67zZAEX3sks9NNUD78EZEev8zQOvHSkm6BDNA4QH4oY9dMkDbnk5O+gkyQNueTk76CTJA4QH4oY9dMkDrx0pJugQzQPvwRkR6/zNADn3sks9NNUAobDs1uu82QEi+Mys65ThAbXPVdE8uO0CSiyAS+so9QGCDigGdXUBAe3LZo4f/QUAYE/3vPMtDQDRl9eW8wEVA1mjChQfgR0D8HWTPHClKQKSE2sL8m0xAzpwlYKc4T0A6s6JTjv9QQNLwHEyud1JAK4eBmbMEVEBGdtA7nqZVQB6+CTNuXVdAu14tfyMpWUAaWDsgvglbQDqqMxY+/1xAFlUWYaMJX0BcrHEAd5RgQI5azfqOrmFAITWenxnTYkARPOTuFgJkQGhvn+iGO2VAGs/PjGl/ZkAsW3Xbvs1nQKUTkNSGJmlAePgfeMGJakCzCSXGbvdrQEdHn76Ob21APLGOYSHybkDNo3lXkz9wQCiFZlNPC3FAtPyNpETccUBzCvBKc7JyQF+ujEbbjXNAgOhjl3xudEDMuHU9V1R1QEkfwjhrP3ZA+htJibgvd0DYrgovPyV4QOrXBir/H3lAKJc9evgfekA=",
          "dtype": "f8"
         }
        },
        {
         "hoverinfo": "skip",
         "line": {
          "color": "black",
          "width": 1
         },
         "mode": "lines",
         "opacity": 0.3,
         "showlegend": false,
         "type": "scatter3d",
         "x": {
          "bdata": "PENi3s6QIEA8Q2LezpAgQDxDYt7OkCBAPENi3s6QIEA8Q2LezpAgQDxDYt7OkCBAPENi3s6QIEA8Q2LezpAgQDxDYt7OkCBAPENi3s6QIEA8Q2LezpAgQDxDYt7OkCBAPENi3s6QIEA8Q2LezpAgQDxDYt7OkCBAPENi3s6QIEA8Q2LezpAgQDxDYt7OkCBAPENi3s6QIEA8Q2LezpAgQDxDYt7OkCBAPENi3s6QIEA8Q2LezpAgQDxDYt7OkCBAPENi3s6QIEA8Q2LezpAgQDxDYt7OkCBAPENi3s6QIEA8Q2LezpAgQDxDYt7OkCBAPENi3s6QIEA8Q2LezpAgQDxDYt7OkCBAPENi3s6QIEA8Q2LezpAgQDxDYt7OkCBAPENi3s6QIEA8Q2LezpAgQDxDYt7OkCBAPENi3s6QIEA8Q2LezpAgQDxDYt7OkCBAPENi3s6QIEA8Q2LezpAgQDxDYt7OkCBAPENi3s6QIEA8Q2LezpAgQDxDYt7OkCBAPENi3s6QIEA8Q2LezpAgQDxDYt7OkCBAPENi3s6QIEA8Q2LezpAgQDxDYt7OkCBAPENi3s6QIEA8Q2LezpAgQDxDYt7OkCBAPENi3s6QIEA8Q2LezpAgQDxDYt7OkCBAPENi3s6QIEA8Q2LezpAgQDxDYt7OkCBAPENi3s6QIEA8Q2LezpAgQDxDYt7OkCBAPENi3s6QIEA8Q2LezpAgQDxDYt7OkCBAPENi3s6QIEA8Q2LezpAgQDxDYt7OkCBAPENi3s6QIEA8Q2LezpAgQDxDYt7OkCBAPENi3s6QIEA8Q2LezpAgQDxDYt7OkCBAPENi3s6QIEA8Q2LezpAgQDxDYt7OkCBAPENi3s6QIEA8Q2LezpAgQDxDYt7OkCBAPENi3s6QIEA8Q2LezpAgQDxDYt7OkCBAPENi3s6QIEA8Q2LezpAgQDxDYt7OkCBAPENi3s6QIEA8Q2LezpAgQDxDYt7OkCBAPENi3s6QIEA8Q2LezpAgQDxDYt7OkCBAPENi3s6QIEA8Q2LezpAgQDxDYt7OkCBAPENi3s6QIEA=",
          "dtype": "f8"
         },
         "y": {
          "bdata": "AAAAAAAANMBDYt7OkJgzwIbEvJ0hMTPAyiabbLLJMsANiXk7Q2IywFDrVwrU+jHAk0022WSTMcDXrxSo9SsxwBoS83aGxDDAXXTRRRddMMBArV8pUOsvwMdxHMdxHC/ATjbZZJNNLsDU+pUCtX4twFq/UqDWryzA4YMPPvjgK8BoSMzbGRIrwO4MiXk7QyrAdNFFF110KcD7lQK1fqUowIFav1Kg1ifACB988MEHJ8CO4ziO4zgmwBWo9SsFaiXAm2yyySabJMAiMW9nSMwjwKj1KwVq/SLAL7rooosuIsC1fqVArV8hwDxDYt7OkCDAhA8++OCDH8CSmLczJOYdwJ4hMW9nSBzAqqqqqqqqGsC4MyTm7QwZwMS8nSExbxfA0kUXXXTRFcDezpCYtzMUwOxXCtT6lRLA+OCDDz74EMAI1PqVArUOwCjm7QyJeQvAQPjggw8+CMBYCtT6lQIFwHAcx3EcxwHAIF100UUX/b9QgVq/UqD2v4ClQK1fKfC/YJNNNtlk478Ab2dIzNvJvwBvZ0jM28k/YJNNNtlk4z+ApUCtXynwP1CBWr9SoPY/EF100UUX/T9wHMdxHMcBQFgK1PqVAgVAQPjggw8+CEAg5u0MiXkLQAjU+pUCtQ5A+OCDDz74EEDsVwrU+pUSQNzOkJi3MxRA0EUXXXTRFUDEvJ0hMW8XQLgzJObtDBlArKqqqqqqGkCcITFvZ0gcQJCYtzMk5h1AhA8++OCDH0A8Q2LezpAgQLR+pUCtXyFALrrooosuIkCo9SsFav0iQCIxb2dIzCNAmmyyySabJEAUqPUrBWolQI7jOI7jOCZACB988MEHJ0CAWr9SoNYnQPyVArV+pShAdNFFF110KUDsDIl5O0MqQGhIzNsZEitA4IMPPvjgK0Bcv1Kg1q8sQNT6lQK1fi1ATDbZZJNNLkDIcRzHcRwvQECtXylQ6y9AXHTRRRddMEAaEvN2hsQwQNavFKj1KzFAlE022WSTMUBQ61cK1PoxQAyJeTtDYjJAyiabbLLJMkCGxLydITEzQERi3s6QmDNAAAAAAAAANEA=",
          "dtype": "f8"
         },
         "z": {
          "bdata": "aoa2FK9JfUAqx3/EtUl8QBqeg8n1TntAPAvCI29ZekCNDjvTIWl5QA6o7tcNfnhAv9fcMTOYd0CjnQXhkbd2QLX5aOUp3HVA+OsGP/sFdUBqdN/tBTV0QA6T8vFJaXNA4kdAS8eickDmksj5feFxQBp0i/1tJXFAf+uIVpducEAq8oEJ9HlvQLQ5ZxAsIW5Anq3BwdbSbEDqTZEd9I5rQJYa1iOEVWpAphOQ1IYmaUASOb8v/AFoQOKKYzXk52ZAEAl95T7YZUChswtADNNkQJGKD0VM2GNA442I9P7nYkCUvXZOJAJiQKcZ2lK8JmFAGqKyAcdVYEDcrQC2iB5fQERwhr1opl1Abov2GS5DXEBa/1DL2PRaQAbMldFou1lAdPHELN6WWECjb97cOIdXQJRG4uF4jFZARnbQO56mVUC4/qjqqNVUQO7fa+6YGVRA5BkZR25yU0CarLD0KOBSQBKYMvfIYlJATdyeTk76UUBHefX6uKZRQANvNvwIaFFAgL1hUj4+UUC/ZHf9WClRQL9kd/1YKVFAgL1hUj4+UUADbzb8CGhRQEd59fq4plFATNyeTk76UUASmDL3yGJSQJqssPQo4FJA5BkZR25yU0Dt32vumBlUQLj+qOqo1VRARnbQO56mVUCURuLheIxWQKJv3tw4h1dAc/HELN6WWEAGzJXRaLtZQFr/UMvY9FpAb4v2GS5DXEBCcIa9aKZdQNqtALaIHl9AGqKyAcdVYECnGdpSvCZhQJO9dk4kAmJA4o2I9P7nYkCRig9FTNhjQKGzC0AM02RADwl95T7YZUDgimM15OdmQBI5vy/8AWhAphOQ1IYmaUCWGtYjhFVqQOxNkR30jmtAnq3BwdbSbECwOWcQLCFuQCrygQn0eW9AfuuIVpducEAcdIv9bSVxQOaSyPl94XFA4EdAS8eickAPk/LxSWlzQGp03+0FNXRA9usGP/sFdUC1+WjlKdx1QKGdBeGRt3ZAwtfcMTOYd0AOqO7XDX54QIsOO9MhaXlAPAvCI29ZekAanoPJ9U57QCzHf8S1SXxAaoa2FK9JfUA=",
          "dtype": "f8"
         }
        },
        {
         "hoverinfo": "skip",
         "line": {
          "color": "black",
          "width": 1
         },
         "mode": "lines",
         "opacity": 0.3,
         "showlegend": false,
         "type": "scatter3d",
         "x": {
          "bdata": "/JUCtX6lKED8lQK1fqUoQPyVArV+pShA/JUCtX6lKED8lQK1fqUoQPyVArV+pShA/JUCtX6lKED8lQK1fqUoQPyVArV+pShA/JUCtX6lKED8lQK1fqUoQPyVArV+pShA/JUCtX6lKED8lQK1fqUoQPyVArV+pShA/JUCtX6lKED8lQK1fqUoQPyVArV+pShA/JUCtX6lKED8lQK1fqUoQPyVArV+pShA/JUCtX6lKED8lQK1fqUoQPyVArV+pShA/JUCtX6lKED8lQK1fqUoQPyVArV+pShA/JUCtX6lKED8lQK1fqUoQPyVArV+pShA/JUCtX6lKED8lQK1fqUoQPyVArV+pShA/JUCtX6lKED8lQK1fqUoQPyVArV+pShA/JUCtX6lKED8lQK1fqUoQPyVArV+pShA/JUCtX6lKED8lQK1fqUoQPyVArV+pShA/JUCtX6lKED8lQK1fqUoQPyVArV+pShA/JUCtX6lKED8lQK1fqUoQPyVArV+pShA/JUCtX6lKED8lQK1fqUoQPyVArV+pShA/JUCtX6lKED8lQK1fqUoQPyVArV+pShA/JUCtX6lKED8lQK1fqUoQPyVArV+pShA/JUCtX6lKED8lQK1fqUoQPyVArV+pShA/JUCtX6lKED8lQK1fqUoQPyVArV+pShA/JUCtX6lKED8lQK1fqUoQPyVArV+pShA/JUCtX6lKED8lQK1fqUoQPyVArV+pShA/JUCtX6lKED8lQK1fqUoQPyVArV+pShA/JUCtX6lKED8lQK1fqUoQPyVArV+pShA/JUCtX6lKED8lQK1fqUoQPyVArV+pShA/JUCtX6lKED8lQK1fqUoQPyVArV+pShA/JUCtX6lKED8lQK1fqUoQPyVArV+pShA/JUCtX6lKED8lQK1fqUoQPyVArV+pShA/JUCtX6lKED8lQK1fqUoQPyVArV+pShA/JUCtX6lKED8lQK1fqUoQPyVArV+pShA/JUCtX6lKED8lQK1fqUoQPyVArV+pShA/JUCtX6lKED8lQK1fqUoQPyVArV+pShA/JUCtX6lKEA=",
          "dtype": "f8"
         },
         "y": {
          "bdata": "AAAAAAAANMBDYt7OkJgzwIbEvJ0hMTPAyiabbLLJMsANiXk7Q2IywFDrVwrU+jHAk0022WSTMcDXrxSo9SsxwBoS83aGxDDAXXTRRRddMMBArV8pUOsvwMdxHMdxHC/ATjbZZJNNLsDU+pUCtX4twFq/UqDWryzA4YMPPvjgK8BoSMzbGRIrwO4MiXk7QyrAdNFFF110KcD7lQK1fqUowIFav1Kg1ifACB988MEHJ8CO4ziO4zgmwBWo9SsFaiXAm2yyySabJMAiMW9nSMwjwKj1KwVq/SLAL7rooosuIsC1fqVArV8hwDxDYt7OkCDAhA8++OCDH8CSmLczJOYdwJ4hMW9nSBzAqqqqqqqqGsC4MyTm7QwZwMS8nSExbxfA0kUXXXTRFcDezpCYtzMUwOxXCtT6lRLA+OCDDz74EMAI1PqVArUOwCjm7QyJeQvAQPjggw8+CMBYCtT6lQIFwHAcx3EcxwHAIF100UUX/b9QgVq/UqD2v4ClQK1fKfC/YJNNNtlk478Ab2dIzNvJvwBvZ0jM28k/YJNNNtlk4z+ApUCtXynwP1CBWr9SoPY/EF100UUX/T9wHMdxHMcBQFgK1PqVAgVAQPjggw8+CEAg5u0MiXkLQAjU+pUCtQ5A+OCDDz74EEDsVwrU+pUSQNzOkJi3MxRA0EUXXXTRFUDEvJ0hMW8XQLgzJObtDBlArKqqqqqqGkCcITFvZ0gcQJCYtzMk5h1AhA8++OCDH0A8Q2LezpAgQLR+pUCtXyFALrrooosuIkCo9SsFav0iQCIxb2dIzCNAmmyyySabJEAUqPUrBWolQI7jOI7jOCZACB988MEHJ0CAWr9SoNYnQPyVArV+pShAdNFFF110KUDsDIl5O0MqQGhIzNsZEitA4IMPPvjgK0Bcv1Kg1q8sQNT6lQK1fi1ATDbZZJNNLkDIcRzHcRwvQECtXylQ6y9AXHTRRRddMEAaEvN2hsQwQNavFKj1KzFAlE022WSTMUBQ61cK1PoxQAyJeTtDYjJAyiabbLLJMkCGxLydITEzQERi3s6QmDNAAAAAAAAANEA=",
          "dtype": "f8"
         },
         "z": {
          "bdata": "RhAJfeU+gUCmsO3U6L6AQB6cb9eIQYBAXqUdCYuNf0CwqJa4PZ1+QDBCSr0psn1A4nE4F0/MfEDGN2HGret7QNiTxMpFEHtAGoZiJBc6ekCMDjvTIWl5QDAtTtdlnXhABeKbMOPWd0AILSTfmRV3QDwO5+KJWXZAooXkO7OidUA4kxzqFfF0QPw2j+2xRHRA8nA8Roedc0AYQST0lftyQG6nRvfdXnJA9qOjT1/HcUCsNjv9GTVxQJRfDQAOqHBAqx4aWDsgcEDm58IKRDtvQNa+xg+EQG5AKMI/vzZQbUDa8S0ZXGpsQOxNkR30jmtAX9ZpzP69akA0i7clfPdpQGhseilsO2lA/Hmy186JaEDys18wpOJnQEgagjPsRWdAAK0Z4aazZkAXbCY51CtmQJBXqDt0rmVAaG+f6IY7ZUCiswtADNNkQD0k7UEEdWRAN8FD7m4hZECTig9FTNhjQE+AUEacmWNAbKIG8l5lY0Dp8DFIlDtjQMdr0kg8HGNABhPo81YHY0Cl5nJJ5PxiQKXmcknk/GJABhPo81YHY0DHa9JIPBxjQOnwMUiUO2NAa6IG8l5lY0BPgFBGnJljQJOKD0VM2GNAN8FD7m4hZEA8JO1BBHVkQKKzC0AM02RAaG+f6IY7ZUCQV6g7dK5lQBZsJjnUK2ZA/6wZ4aazZkBIGoIz7EVnQPKzXzCk4mdA/Xmy186JaEBnbHopbDtpQDOLtyV892lAX9ZpzP69akDsTZEd9I5rQNjxLRlcamxAJ8I/vzZQbUDWvsYPhEBuQObnwgpEO29Aqh4aWDsgcECTXw0ADqhwQKw2O/0ZNXFA9qOjT1/HcUBup0b33V5yQBlBJPSV+3JA8nA8Roedc0D7No/tsUR0QDiTHOoV8XRAoYXkO7OidUA+DufiiVl2QAgtJN+ZFXdAA+KbMOPWd0AyLU7XZZ14QIwOO9MhaXlAGIZiJBc6ekDYk8TKRRB7QMQ3Ycat63tA5HE4F0/MfEAwQkq9KbJ9QK6olrg9nX5AXqUdCYuNf0AenG/XiEGAQKew7dTovoBARhAJfeU+gUA=",
          "dtype": "f8"
         }
        },
        {
         "hoverinfo": "skip",
         "line": {
          "color": "black",
          "width": 1
         },
         "mode": "lines",
         "opacity": 0.3,
         "showlegend": false,
         "type": "scatter3d",
         "x": {
          "bdata": "XHTRRRddMEBcdNFFF10wQFx00UUXXTBAXHTRRRddMEBcdNFFF10wQFx00UUXXTBAXHTRRRddMEBcdNFFF10wQFx00UUXXTBAXHTRRRddMEBcdNFFF10wQFx00UUXXTBAXHTRRRddMEBcdNFFF10wQFx00UUXXTBAXHTRRRddMEBcdNFFF10wQFx00UUXXTBAXHTRRRddMEBcdNFFF10wQFx00UUXXTBAXHTRRRddMEBcdNFFF10wQFx00UUXXTBAXHTRRRddMEBcdNFFF10wQFx00UUXXTBAXHTRRRddMEBcdNFFF10wQFx00UUXXTBAXHTRRRddMEBcdNFFF10wQFx00UUXXTBAXHTRRRddMEBcdNFFF10wQFx00UUXXTBAXHTRRRddMEBcdNFFF10wQFx00UUXXTBAXHTRRRddMEBcdNFFF10wQFx00UUXXTBAXHTRRRddMEBcdNFFF10wQFx00UUXXTBAXHTRRRddMEBcdNFFF10wQFx00UUXXTBAXHTRRRddMEBcdNFFF10wQFx00UUXXTBAXHTRRRddMEBcdNFFF10wQFx00UUXXTBAXHTRRRddMEBcdNFFF10wQFx00UUXXTBAXHTRRRddMEBcdNFFF10wQFx00UUXXTBAXHTRRRddMEBcdNFFF10wQFx00UUXXTBAXHTRRRddMEBcdNFFF10wQFx00UUXXTBAXHTRRRddMEBcdNFFF10wQFx00UUXXTBAXHTRRRddMEBcdNFFF10wQFx00UUXXTBAXHTRRRddMEBcdNFFF10wQFx00UUXXTBAXHTRRRddMEBcdNFFF10wQFx00UUXXTBAXHTRRRddMEBcdNFFF10wQFx00UUXXTBAXHTRRRddMEBcdNFFF10wQFx00UUXXTBAXHTRRRddMEBcdNFFF10wQFx00UUXXTBAXHTRRRddMEBcdNFFF10wQFx00UUXXTBAXHTRRRddMEBcdNFFF10wQFx00UUXXTBAXHTRRRddMEBcdNFFF10wQFx00UUXXTBAXHTRRRddMEBcdNFFF10wQFx00UUXXTBAXHTRRRddMEA=",
          "dtype": "f8"
         },
         "y": {
          "bdata": "AAAAAAAANMBDYt7OkJgzwIbEvJ0hMTPAyiabbLLJMsANiXk7Q2IywFDrVwrU+jHAk0022WSTMcDXrxSo9SsxwBoS83aGxDDAXXTRRRddMMBArV8pUOsvwMdxHMdxHC/ATjbZZJNNLsDU+pUCtX4twFq/UqDWryzA4YMPPvjgK8BoSMzbGRIrwO4MiXk7QyrAdNFFF110KcD7lQK1fqUowIFav1Kg1ifACB988MEHJ8CO4ziO4zgmwBWo9SsFaiXAm2yyySabJMAiMW9nSMwjwKj1KwVq/SLAL7rooosuIsC1fqVArV8hwDxDYt7OkCDAhA8++OCDH8CSmLczJOYdwJ4hMW9nSBzAqqqqqqqqGsC4MyTm7QwZwMS8nSExbxfA0kUXXXTRFcDezpCYtzMUwOxXCtT6lRLA+OCDDz74EMAI1PqVArUOwCjm7QyJeQvAQPjggw8+CMBYCtT6lQIFwHAcx3EcxwHAIF100UUX/b9QgVq/UqD2v4ClQK1fKfC/YJNNNtlk478Ab2dIzNvJvwBvZ0jM28k/YJNNNtlk4z+ApUCtXynwP1CBWr9SoPY/EF100UUX/T9wHMdxHMcBQFgK1PqVAgVAQPjggw8+CEAg5u0MiXkLQAjU+pUCtQ5A+OCDDz74EEDsVwrU+pUSQNzOkJi3MxRA0EUXXXTRFUDEvJ0hMW8XQLgzJObtDBlArKqqqqqqGkCcITFvZ0gcQJCYtzMk5h1AhA8++OCDH0A8Q2LezpAgQLR+pUCtXyFALrrooosuIkCo9SsFav0iQCIxb2dIzCNAmmyyySabJEAUqPUrBWolQI7jOI7jOCZACB988MEHJ0CAWr9SoNYnQPyVArV+pShAdNFFF110KUDsDIl5O0MqQGhIzNsZEitA4IMPPvjgK0Bcv1Kg1q8sQNT6lQK1fi1ATDbZZJNNLkDIcRzHcRwvQECtXylQ6y9AXHTRRRddMEAaEvN2hsQwQNavFKj1KzFAlE022WSTMUBQ61cK1PoxQAyJeTtDYjJAyiabbLLJMkCGxLydITEzQERi3s6QmDNAAAAAAAAANEA=",
          "dtype": "f8"
         },
         "z": {
          "bdata": "xjIoFSbehEAm0wxtKV6EQJ6+jm/J4INAL/WtHAZmg0DYdmp03+2CQJhDxHZVeIJAcFu7I2gFgkBivk97F5WBQGxsgX1jJ4FAjWVQKky8gEDGqbyB0VOAQDByjAfn239ABCfaYGQVf0AIcmIPG1R+QDxTJRMLmH1AosoibDThfEA32Foaly98QPx7zR0zg3tA8rV6dgjcekAYhmIkFzp6QG7shCdfnXlA9ejhf+AFeUCse3ktm3N4QJOkSzCP5ndAqmNYiLxed0DzuJ81I9x2QGukITjDXnZAFCbej5zmdUDsPdU8r3N1QPbrBj/7BXVALzBzloCddECZChpDPzp0QDN7+0Q33HNA/oEXnGiDc0D5Hm5I0y9zQCRS/0l34XJAfxvLoFSYckALe9FMa1RyQMdwEk67FXJAtPyNpETccUDQHkRQB6hxQB7XNFEDeXFAmyVgpzhPcUBJCsZSpypxQCeFZlNPC3FANZZBqTDxcEB0PVdUS9xwQON6p1SfzHBAgk4yqizCcEBSuPdU87xwQFK491TzvHBAgk4yqizCcEDjeqdUn8xwQHQ9V1RL3HBANZZBqTDxcEAnhWZTTwtxQEkKxlKnKnFAmyVgpzhPcUAd1zRRA3lxQNAeRFAHqHFAtPyNpETccUDHcBJOuxVyQAt70UxrVHJAfxvLoFSYckAkUv9Jd+FyQPkebkjTL3NA/oEXnGiDc0Aze/tEN9xzQJkKGkM/OnRALzBzloCddED26wY/+wV1QOw91Tyvc3VAEybej5zmdUBrpCE4w152QPO4nzUj3HZAqmNYiLxed0CSpEswj+Z3QKx7eS2bc3hA9ejhf+AFeUBt7IQnX515QBiGYiQXOnpA8rV6dgjcekD6e80dM4N7QDfYWhqXL3xAoMoibDThfEA+UyUTC5h9QAhyYg8bVH5AAifaYGQVf0AxcowH59t/QMapvIHRU4BAjGVQKky8gEBsbIF9YyeBQGK+T3sXlYFAclu7I2gFgkCYQ8R2VXiCQNZ2anTf7YJAL/WtHAZmg0Cevo5vyeCDQCfTDG0pXoRAxjIoFSbehEA=",
          "dtype": "f8"
         }
        }
       ],
       "layout": {
        "height": 700,
        "scene": {
         "camera": {
          "eye": {
           "x": 1.5,
           "y": -1.5,
           "z": 1.2
          }
         },
         "xaxis": {
          "backgroundcolor": "white",
          "gridcolor": "lightgray",
          "title": {
           "text": "w"
          }
         },
         "yaxis": {
          "backgroundcolor": "white",
          "gridcolor": "lightgray",
          "title": {
           "text": "b"
          }
         },
         "zaxis": {
          "backgroundcolor": "white",
          "gridcolor": "lightgray",
          "title": {
           "text": "J(w,b)"
          }
         }
        },
        "showlegend": false,
        "template": {
         "data": {
          "bar": [
           {
            "error_x": {
             "color": "#2a3f5f"
            },
            "error_y": {
             "color": "#2a3f5f"
            },
            "marker": {
             "line": {
              "color": "#E5ECF6",
              "width": 0.5
             },
             "pattern": {
              "fillmode": "overlay",
              "size": 10,
              "solidity": 0.2
             }
            },
            "type": "bar"
           }
          ],
          "barpolar": [
           {
            "marker": {
             "line": {
              "color": "#E5ECF6",
              "width": 0.5
             },
             "pattern": {
              "fillmode": "overlay",
              "size": 10,
              "solidity": 0.2
             }
            },
            "type": "barpolar"
           }
          ],
          "carpet": [
           {
            "aaxis": {
             "endlinecolor": "#2a3f5f",
             "gridcolor": "white",
             "linecolor": "white",
             "minorgridcolor": "white",
             "startlinecolor": "#2a3f5f"
            },
            "baxis": {
             "endlinecolor": "#2a3f5f",
             "gridcolor": "white",
             "linecolor": "white",
             "minorgridcolor": "white",
             "startlinecolor": "#2a3f5f"
            },
            "type": "carpet"
           }
          ],
          "choropleth": [
           {
            "colorbar": {
             "outlinewidth": 0,
             "ticks": ""
            },
            "type": "choropleth"
           }
          ],
          "contour": [
           {
            "colorbar": {
             "outlinewidth": 0,
             "ticks": ""
            },
            "colorscale": [
             [
              0,
              "#0d0887"
             ],
             [
              0.1111111111111111,
              "#46039f"
             ],
             [
              0.2222222222222222,
              "#7201a8"
             ],
             [
              0.3333333333333333,
              "#9c179e"
             ],
             [
              0.4444444444444444,
              "#bd3786"
             ],
             [
              0.5555555555555556,
              "#d8576b"
             ],
             [
              0.6666666666666666,
              "#ed7953"
             ],
             [
              0.7777777777777778,
              "#fb9f3a"
             ],
             [
              0.8888888888888888,
              "#fdca26"
             ],
             [
              1,
              "#f0f921"
             ]
            ],
            "type": "contour"
           }
          ],
          "contourcarpet": [
           {
            "colorbar": {
             "outlinewidth": 0,
             "ticks": ""
            },
            "type": "contourcarpet"
           }
          ],
          "heatmap": [
           {
            "colorbar": {
             "outlinewidth": 0,
             "ticks": ""
            },
            "colorscale": [
             [
              0,
              "#0d0887"
             ],
             [
              0.1111111111111111,
              "#46039f"
             ],
             [
              0.2222222222222222,
              "#7201a8"
             ],
             [
              0.3333333333333333,
              "#9c179e"
             ],
             [
              0.4444444444444444,
              "#bd3786"
             ],
             [
              0.5555555555555556,
              "#d8576b"
             ],
             [
              0.6666666666666666,
              "#ed7953"
             ],
             [
              0.7777777777777778,
              "#fb9f3a"
             ],
             [
              0.8888888888888888,
              "#fdca26"
             ],
             [
              1,
              "#f0f921"
             ]
            ],
            "type": "heatmap"
           }
          ],
          "histogram": [
           {
            "marker": {
             "pattern": {
              "fillmode": "overlay",
              "size": 10,
              "solidity": 0.2
             }
            },
            "type": "histogram"
           }
          ],
          "histogram2d": [
           {
            "colorbar": {
             "outlinewidth": 0,
             "ticks": ""
            },
            "colorscale": [
             [
              0,
              "#0d0887"
             ],
             [
              0.1111111111111111,
              "#46039f"
             ],
             [
              0.2222222222222222,
              "#7201a8"
             ],
             [
              0.3333333333333333,
              "#9c179e"
             ],
             [
              0.4444444444444444,
              "#bd3786"
             ],
             [
              0.5555555555555556,
              "#d8576b"
             ],
             [
              0.6666666666666666,
              "#ed7953"
             ],
             [
              0.7777777777777778,
              "#fb9f3a"
             ],
             [
              0.8888888888888888,
              "#fdca26"
             ],
             [
              1,
              "#f0f921"
             ]
            ],
            "type": "histogram2d"
           }
          ],
          "histogram2dcontour": [
           {
            "colorbar": {
             "outlinewidth": 0,
             "ticks": ""
            },
            "colorscale": [
             [
              0,
              "#0d0887"
             ],
             [
              0.1111111111111111,
              "#46039f"
             ],
             [
              0.2222222222222222,
              "#7201a8"
             ],
             [
              0.3333333333333333,
              "#9c179e"
             ],
             [
              0.4444444444444444,
              "#bd3786"
             ],
             [
              0.5555555555555556,
              "#d8576b"
             ],
             [
              0.6666666666666666,
              "#ed7953"
             ],
             [
              0.7777777777777778,
              "#fb9f3a"
             ],
             [
              0.8888888888888888,
              "#fdca26"
             ],
             [
              1,
              "#f0f921"
             ]
            ],
            "type": "histogram2dcontour"
           }
          ],
          "mesh3d": [
           {
            "colorbar": {
             "outlinewidth": 0,
             "ticks": ""
            },
            "type": "mesh3d"
           }
          ],
          "parcoords": [
           {
            "line": {
             "colorbar": {
              "outlinewidth": 0,
              "ticks": ""
             }
            },
            "type": "parcoords"
           }
          ],
          "pie": [
           {
            "automargin": true,
            "type": "pie"
           }
          ],
          "scatter": [
           {
            "fillpattern": {
             "fillmode": "overlay",
             "size": 10,
             "solidity": 0.2
            },
            "type": "scatter"
           }
          ],
          "scatter3d": [
           {
            "line": {
             "colorbar": {
              "outlinewidth": 0,
              "ticks": ""
             }
            },
            "marker": {
             "colorbar": {
              "outlinewidth": 0,
              "ticks": ""
             }
            },
            "type": "scatter3d"
           }
          ],
          "scattercarpet": [
           {
            "marker": {
             "colorbar": {
              "outlinewidth": 0,
              "ticks": ""
             }
            },
            "type": "scattercarpet"
           }
          ],
          "scattergeo": [
           {
            "marker": {
             "colorbar": {
              "outlinewidth": 0,
              "ticks": ""
             }
            },
            "type": "scattergeo"
           }
          ],
          "scattergl": [
           {
            "marker": {
             "colorbar": {
              "outlinewidth": 0,
              "ticks": ""
             }
            },
            "type": "scattergl"
           }
          ],
          "scattermap": [
           {
            "marker": {
             "colorbar": {
              "outlinewidth": 0,
              "ticks": ""
             }
            },
            "type": "scattermap"
           }
          ],
          "scattermapbox": [
           {
            "marker": {
             "colorbar": {
              "outlinewidth": 0,
              "ticks": ""
             }
            },
            "type": "scattermapbox"
           }
          ],
          "scatterpolar": [
           {
            "marker": {
             "colorbar": {
              "outlinewidth": 0,
              "ticks": ""
             }
            },
            "type": "scatterpolar"
           }
          ],
          "scatterpolargl": [
           {
            "marker": {
             "colorbar": {
              "outlinewidth": 0,
              "ticks": ""
             }
            },
            "type": "scatterpolargl"
           }
          ],
          "scatterternary": [
           {
            "marker": {
             "colorbar": {
              "outlinewidth": 0,
              "ticks": ""
             }
            },
            "type": "scatterternary"
           }
          ],
          "surface": [
           {
            "colorbar": {
             "outlinewidth": 0,
             "ticks": ""
            },
            "colorscale": [
             [
              0,
              "#0d0887"
             ],
             [
              0.1111111111111111,
              "#46039f"
             ],
             [
              0.2222222222222222,
              "#7201a8"
             ],
             [
              0.3333333333333333,
              "#9c179e"
             ],
             [
              0.4444444444444444,
              "#bd3786"
             ],
             [
              0.5555555555555556,
              "#d8576b"
             ],
             [
              0.6666666666666666,
              "#ed7953"
             ],
             [
              0.7777777777777778,
              "#fb9f3a"
             ],
             [
              0.8888888888888888,
              "#fdca26"
             ],
             [
              1,
              "#f0f921"
             ]
            ],
            "type": "surface"
           }
          ],
          "table": [
           {
            "cells": {
             "fill": {
              "color": "#EBF0F8"
             },
             "line": {
              "color": "white"
             }
            },
            "header": {
             "fill": {
              "color": "#C8D4E3"
             },
             "line": {
              "color": "white"
             }
            },
            "type": "table"
           }
          ]
         },
         "layout": {
          "annotationdefaults": {
           "arrowcolor": "#2a3f5f",
           "arrowhead": 0,
           "arrowwidth": 1
          },
          "autotypenumbers": "strict",
          "coloraxis": {
           "colorbar": {
            "outlinewidth": 0,
            "ticks": ""
           }
          },
          "colorscale": {
           "diverging": [
            [
             0,
             "#8e0152"
            ],
            [
             0.1,
             "#c51b7d"
            ],
            [
             0.2,
             "#de77ae"
            ],
            [
             0.3,
             "#f1b6da"
            ],
            [
             0.4,
             "#fde0ef"
            ],
            [
             0.5,
             "#f7f7f7"
            ],
            [
             0.6,
             "#e6f5d0"
            ],
            [
             0.7,
             "#b8e186"
            ],
            [
             0.8,
             "#7fbc41"
            ],
            [
             0.9,
             "#4d9221"
            ],
            [
             1,
             "#276419"
            ]
           ],
           "sequential": [
            [
             0,
             "#0d0887"
            ],
            [
             0.1111111111111111,
             "#46039f"
            ],
            [
             0.2222222222222222,
             "#7201a8"
            ],
            [
             0.3333333333333333,
             "#9c179e"
            ],
            [
             0.4444444444444444,
             "#bd3786"
            ],
            [
             0.5555555555555556,
             "#d8576b"
            ],
            [
             0.6666666666666666,
             "#ed7953"
            ],
            [
             0.7777777777777778,
             "#fb9f3a"
            ],
            [
             0.8888888888888888,
             "#fdca26"
            ],
            [
             1,
             "#f0f921"
            ]
           ],
           "sequentialminus": [
            [
             0,
             "#0d0887"
            ],
            [
             0.1111111111111111,
             "#46039f"
            ],
            [
             0.2222222222222222,
             "#7201a8"
            ],
            [
             0.3333333333333333,
             "#9c179e"
            ],
            [
             0.4444444444444444,
             "#bd3786"
            ],
            [
             0.5555555555555556,
             "#d8576b"
            ],
            [
             0.6666666666666666,
             "#ed7953"
            ],
            [
             0.7777777777777778,
             "#fb9f3a"
            ],
            [
             0.8888888888888888,
             "#fdca26"
            ],
            [
             1,
             "#f0f921"
            ]
           ]
          },
          "colorway": [
           "#636efa",
           "#EF553B",
           "#00cc96",
           "#ab63fa",
           "#FFA15A",
           "#19d3f3",
           "#FF6692",
           "#B6E880",
           "#FF97FF",
           "#FECB52"
          ],
          "font": {
           "color": "#2a3f5f"
          },
          "geo": {
           "bgcolor": "white",
           "lakecolor": "white",
           "landcolor": "#E5ECF6",
           "showlakes": true,
           "showland": true,
           "subunitcolor": "white"
          },
          "hoverlabel": {
           "align": "left"
          },
          "hovermode": "closest",
          "mapbox": {
           "style": "light"
          },
          "paper_bgcolor": "white",
          "plot_bgcolor": "#E5ECF6",
          "polar": {
           "angularaxis": {
            "gridcolor": "white",
            "linecolor": "white",
            "ticks": ""
           },
           "bgcolor": "#E5ECF6",
           "radialaxis": {
            "gridcolor": "white",
            "linecolor": "white",
            "ticks": ""
           }
          },
          "scene": {
           "xaxis": {
            "backgroundcolor": "#E5ECF6",
            "gridcolor": "white",
            "gridwidth": 2,
            "linecolor": "white",
            "showbackground": true,
            "ticks": "",
            "zerolinecolor": "white"
           },
           "yaxis": {
            "backgroundcolor": "#E5ECF6",
            "gridcolor": "white",
            "gridwidth": 2,
            "linecolor": "white",
            "showbackground": true,
            "ticks": "",
            "zerolinecolor": "white"
           },
           "zaxis": {
            "backgroundcolor": "#E5ECF6",
            "gridcolor": "white",
            "gridwidth": 2,
            "linecolor": "white",
            "showbackground": true,
            "ticks": "",
            "zerolinecolor": "white"
           }
          },
          "shapedefaults": {
           "line": {
            "color": "#2a3f5f"
           }
          },
          "ternary": {
           "aaxis": {
            "gridcolor": "white",
            "linecolor": "white",
            "ticks": ""
           },
           "baxis": {
            "gridcolor": "white",
            "linecolor": "white",
            "ticks": ""
           },
           "bgcolor": "#E5ECF6",
           "caxis": {
            "gridcolor": "white",
            "linecolor": "white",
            "ticks": ""
           }
          },
          "title": {
           "x": 0.05
          },
          "xaxis": {
           "automargin": true,
           "gridcolor": "white",
           "linecolor": "white",
           "ticks": "",
           "title": {
            "standoff": 15
           },
           "zerolinecolor": "white",
           "zerolinewidth": 2
          },
          "yaxis": {
           "automargin": true,
           "gridcolor": "white",
           "linecolor": "white",
           "ticks": "",
           "title": {
            "standoff": 15
           },
           "zerolinecolor": "white",
           "zerolinewidth": 2
          }
         }
        },
        "title": {
         "text": "Bowl-Shaped Cost Function J(w,b)<br><sub>Rotate and zoom to explore the 3D surface</sub>"
        }
       }
      }
     },
     "metadata": {},
     "output_type": "display_data"
    }
   ],
   "source": [
    "plotly_soup_bowl()"
   ]
  },
  {
   "cell_type": "code",
   "execution_count": null,
   "id": "deb59a17",
   "metadata": {
    "pycharm": {
     "name": "#%%\n"
    }
   },
   "outputs": [],
   "source": []
  }
 ],
 "metadata": {
  "kernelspec": {
   "display_name": "Python 3 (ipykernel)",
   "language": "python",
   "name": "python3"
  },
  "language_info": {
   "codemirror_mode": {
    "name": "ipython",
    "version": 3
   },
   "file_extension": ".py",
   "mimetype": "text/x-python",
   "name": "python",
   "nbconvert_exporter": "python",
   "pygments_lexer": "ipython3",
   "version": "3.13.5"
  },
  "toc-autonumbering": false
 },
 "nbformat": 4,
 "nbformat_minor": 5
}
