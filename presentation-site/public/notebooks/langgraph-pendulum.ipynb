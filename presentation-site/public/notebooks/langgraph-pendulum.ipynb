{
 "cells": [
  {
   "cell_type": "markdown",
   "id": "60726ca7",
   "metadata": {},
   "source": [
    "# LangGraph Pendulum Agent Walkthrough\n",
    "\n",
    "Replay the pendulum sandbox logic and fetch the reasoning transcript from the site."
   ]
  },
  {
   "cell_type": "markdown",
   "id": "96e4cd16",
   "metadata": {},
   "source": [
    "## 1. Imports"
   ]
  },
  {
   "cell_type": "code",
   "execution_count": null,
   "id": "aaf2597c",
   "metadata": {},
   "outputs": [],
   "source": [
    "import numpy as np\n",
    "import pandas as pd\n",
    "import plotly.graph_objects as go\n",
    "import plotly.io as pio\n",
    "import requests\n",
    "from math import pi, sqrt\n",
    "\n",
    "pio.renderers.default = 'plotly_mimetype'"
   ]
  },
  {
   "cell_type": "markdown",
   "id": "9ea0b49e",
   "metadata": {},
   "source": [
    "## 2. Simulation Helpers"
   ]
  },
  {
   "cell_type": "code",
   "execution_count": null,
   "id": "6a79379d",
   "metadata": {},
   "outputs": [],
   "source": [
    "def simulate_trials(lengths, noise_sigma=0.02, gravity=9.81, seed=17):\n",
    "    rng = np.random.default_rng(seed)\n",
    "    rows = []\n",
    "    for length in lengths:\n",
    "        true_period = 2 * pi * sqrt(length / gravity)\n",
    "        noisy = true_period * (1 + rng.uniform(-1, 1) * noise_sigma)\n",
    "        rows.append({'length': length, 'period': noisy})\n",
    "    return pd.DataFrame(rows)\n",
    "\n",
    "def fit_parameters(df):\n",
    "    x = np.log(df['length'])\n",
    "    y = np.log(df['period'])\n",
    "    A = np.vstack([x, np.ones(len(x))]).T\n",
    "    p, intercept = np.linalg.lstsq(A, y, rcond=None)[0]\n",
    "    return np.exp(intercept), p\n"
   ]
  },
  {
   "cell_type": "code",
   "execution_count": null,
   "id": "9b3125c3",
   "metadata": {},
   "outputs": [],
   "source": [
    "lengths = [0.5, 0.8, 1.2, 1.6, 2.1]\n",
    "noise_sigma = 0.02\n",
    "trials = simulate_trials(lengths, noise_sigma)\n",
    "k, p = fit_parameters(trials)\n",
    "trials.head(), (k, p)"
   ]
  },
  {
   "cell_type": "markdown",
   "id": "8c169388",
   "metadata": {},
   "source": [
    "## 3. Notebook View"
   ]
  },
  {
   "cell_type": "code",
   "execution_count": null,
   "id": "24a62ad6",
   "metadata": {},
   "outputs": [],
   "source": [
    "def reasoning_steps(trials_df, k, p, noise_sigma):\n",
    "    latest = trials_df.iloc[-1]\n",
    "    coverage = trials_df['length'].max() - trials_df['length'].min()\n",
    "    descriptor = 'broad' if coverage > 1.2 else 'moderate' if coverage > 0.6 else 'narrow'\n",
    "    residual = abs(k * latest['length'] ** p - latest['period'])\n",
    "    next_length = round(trials_df['length'].max() + 0.35, 2)\n",
    "    return [\n",
    "        {'role': 'planner', 'text': f\"Queue contains {len(trials_df)} trials with {descriptor} coverage (σ={noise_sigma:.2f}).\"},\n",
    "        {'role': 'observation', 'text': f\"Latest @ {latest['length']:.2f} m produced T={latest['period']:.3f}s; residual {residual:.3f}s.\"},\n",
    "        {'role': 'analysis', 'text': f\"Fit → k={k:.3f}, p={p:.3f}; exponent drift within ±0.01.\"},\n",
    "        {'role': 'action', 'text': f\"Schedule next trial near {next_length:.2f} m to widen coverage.\"}\n",
    "    ]\n",
    "reasoning_steps(trials, k, p, noise_sigma)"
   ]
  },
  {
   "cell_type": "markdown",
   "id": "e36aa9cc",
   "metadata": {},
   "source": [
    "## 4. Fetch Site Transcript"
   ]
  },
  {
   "cell_type": "markdown",
   "id": "ff61c008",
   "metadata": {},
   "source": [
    "## 5. Plot Loss Surface"
   ]
  },
  {
   "cell_type": "code",
   "execution_count": null,
   "id": "5bd2db1d",
   "metadata": {},
   "outputs": [],
   "source": [
    "ks = np.linspace(5.9, 6.7, 30)\n",
    "ps = np.linspace(0.45, 0.55, 30)\n",
    "zz = np.zeros((len(ps), len(ks)))\n",
    "for i, k_ in enumerate(ks):\n",
    "    for j, p_ in enumerate(ps):\n",
    "        preds = k_ * trials['length'].values ** p_\n",
    "        zz[j, i] = np.sqrt(np.mean((preds - trials['period'].values) ** 2))\n",
    "go.Figure(data=go.Heatmap(x=ks, y=ps, z=zz, colorscale='Magma', colorbar=dict(title='RMSE'))).show()"
   ]
  }
 ],
 "metadata": {
  "kernelspec": {
   "display_name": "Python 3",
   "language": "python",
   "name": "python3"
  },
  "language_info": {
   "name": "python",
   "version": "3.8"
  }
 },
 "nbformat": 4,
 "nbformat_minor": 5
}